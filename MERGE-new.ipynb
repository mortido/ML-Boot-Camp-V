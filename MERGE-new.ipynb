{
 "cells": [
  {
   "cell_type": "code",
   "execution_count": 2,
   "metadata": {
    "collapsed": true
   },
   "outputs": [],
   "source": [
    "import pandas as pd\n",
    "import numpy as np\n",
    "from sklearn.metrics import log_loss\n",
    "\n",
    "import matplotlib.pyplot as plt\n",
    "import seaborn as sns\n",
    "import gc\n",
    "import utils \n",
    "\n",
    "plt.style.use('ggplot')\n",
    "%matplotlib inline"
   ]
  },
  {
   "cell_type": "code",
   "execution_count": 25,
   "metadata": {
    "collapsed": false
   },
   "outputs": [
    {
     "name": "stdout",
     "output_type": "stream",
     "text": [
      "\n",
      "model1\n",
      "0.538508192128\t0.53963669495\t0.538508192128\t0.53963669495\n",
      "\n",
      "model2\n",
      "0.538244956082\t0.53861761972\t0.53809326109\t0.617710845035\n",
      "\n",
      "model3\n",
      "0.538286571933\t0.538552635095\t0.537743036566\t0.576341554627\n",
      "-----\n"
     ]
    },
    {
     "data": {
      "text/plain": [
       "0.0"
      ]
     },
     "execution_count": 25,
     "metadata": {},
     "output_type": "execute_result"
    }
   ],
   "source": [
    "models = ['model1','model2','model3']#, \"test_model_keras\"]\n",
    "result = utils.merge_models(models, method='mean')\n",
    "# result.iloc[[1414, 3375, 6773, 12201, 16957, 18670, 28239]]=0\n",
    "pd.DataFrame(result).to_csv('merge_mean_submit.csv', index=False, header=False, sep=';')\n",
    "print('-----')\n",
    "# result = utils.merge_models(models, method='gmean')\n",
    "# pd.DataFrame(result).to_csv('merge_gmean_submit.csv', index=False, header=False, sep=';')\n",
    "\n",
    "result.iloc[12852]\n",
    "# result.iloc[12567]\n",
    "result.iloc[28239]"
   ]
  },
  {
   "cell_type": "code",
   "execution_count": 22,
   "metadata": {
    "collapsed": false
   },
   "outputs": [
    {
     "data": {
      "text/plain": [
       "0.11124232422049316"
      ]
     },
     "execution_count": 22,
     "metadata": {},
     "output_type": "execute_result"
    }
   ],
   "source": [
    "log_loss([0,0,0,0,0,0,0],result.iloc[[1414, 3375, 6773, 12201, 16957, 18670, 28239]], labels=[0,1])"
   ]
  },
  {
   "cell_type": "code",
   "execution_count": 23,
   "metadata": {
    "collapsed": false
   },
   "outputs": [
    {
     "data": {
      "text/plain": [
       "9.9920072216264148e-16"
      ]
     },
     "execution_count": 23,
     "metadata": {},
     "output_type": "execute_result"
    }
   ],
   "source": [
    "log_loss([0,0,0,0,0,0,0],[0,0,0,0,0,0,0], labels=[0,1])"
   ]
  },
  {
   "cell_type": "code",
   "execution_count": 4,
   "metadata": {
    "collapsed": false
   },
   "outputs": [],
   "source": [
    "train_predict, test_predict, split_target, split_predict = utils.load_model('test_model')"
   ]
  },
  {
   "cell_type": "code",
   "execution_count": 14,
   "metadata": {
    "collapsed": false
   },
   "outputs": [],
   "source": [
    "a = pd.DataFrame()\n",
    "a['a']=split_predict\n",
    "a['b']=split_predict/2"
   ]
  },
  {
   "cell_type": "code",
   "execution_count": 15,
   "metadata": {
    "collapsed": false
   },
   "outputs": [
    {
     "data": {
      "text/plain": [
       "array([ 0.30389005,  0.41453824,  0.19607643, ...,  0.26718921,\n",
       "        0.43626262,  0.60087582])"
      ]
     },
     "execution_count": 15,
     "metadata": {},
     "output_type": "execute_result"
    }
   ],
   "source": [
    "from scipy import stats as scistats\n",
    "scistats.gmean(a, axis=1)\n"
   ]
  },
  {
   "cell_type": "code",
   "execution_count": 13,
   "metadata": {
    "collapsed": false
   },
   "outputs": [
    {
     "data": {
      "text/plain": [
       "array([[ 0.42976543],\n",
       "       [ 0.5862456 ],\n",
       "       [ 0.27729395],\n",
       "       ..., \n",
       "       [ 0.3778626 ],\n",
       "       [ 0.61696851],\n",
       "       [ 0.84976673]])"
      ]
     },
     "execution_count": 13,
     "metadata": {},
     "output_type": "execute_result"
    }
   ],
   "source": [
    "a.values"
   ]
  },
  {
   "cell_type": "code",
   "execution_count": null,
   "metadata": {
    "collapsed": true
   },
   "outputs": [],
   "source": []
  }
 ],
 "metadata": {
  "kernelspec": {
   "display_name": "Python 3",
   "language": "python",
   "name": "python3"
  }
 },
 "nbformat": 4,
 "nbformat_minor": 2
}
