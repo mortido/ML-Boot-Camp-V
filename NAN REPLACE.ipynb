{
 "cells": [
  {
   "cell_type": "code",
   "execution_count": 1,
   "metadata": {
    "collapsed": false
   },
   "outputs": [],
   "source": [
    "import pandas as pd\n",
    "import numpy as np\n",
    "\n",
    "import xgboost as xgb\n",
    "import lightgbm as lgb\n",
    "from sklearn.model_selection import StratifiedKFold\n",
    "from sklearn.metrics import log_loss, accuracy_score\n",
    "from sklearn.model_selection import cross_val_score\n",
    "from sklearn.ensemble import VotingClassifier\n",
    "from sklearn.base import clone\n",
    "\n",
    "import gc\n",
    "import utils"
   ]
  },
  {
   "cell_type": "code",
   "execution_count": 2,
   "metadata": {
    "collapsed": false
   },
   "outputs": [
    {
     "name": "stderr",
     "output_type": "stream",
     "text": [
      "D:\\ProgramData\\Anaconda3\\lib\\site-packages\\xgboost-0.6-py3.6.egg\\xgboost\\sklearn.py:177: DeprecationWarning: The seed parameter is deprecated as of version .6.Please use random_state instead.seed is deprecated.\n",
      "  'seed is deprecated.', DeprecationWarning)\n",
      "D:\\ProgramData\\Anaconda3\\lib\\site-packages\\xgboost-0.6-py3.6.egg\\xgboost\\sklearn.py:187: DeprecationWarning: The nthread parameter is deprecated as of version .6.Please use n_jobs instead.nthread is deprecated.\n",
      "  'nthread is deprecated.', DeprecationWarning)\n",
      "D:\\ProgramData\\Anaconda3\\lib\\site-packages\\xgboost-0.6-py3.6.egg\\xgboost\\sklearn.py:177: DeprecationWarning: The seed parameter is deprecated as of version .6.Please use random_state instead.seed is deprecated.\n",
      "  'seed is deprecated.', DeprecationWarning)\n",
      "D:\\ProgramData\\Anaconda3\\lib\\site-packages\\xgboost-0.6-py3.6.egg\\xgboost\\sklearn.py:187: DeprecationWarning: The nthread parameter is deprecated as of version .6.Please use n_jobs instead.nthread is deprecated.\n",
      "  'nthread is deprecated.', DeprecationWarning)\n",
      "D:\\ProgramData\\Anaconda3\\lib\\site-packages\\xgboost-0.6-py3.6.egg\\xgboost\\sklearn.py:177: DeprecationWarning: The seed parameter is deprecated as of version .6.Please use random_state instead.seed is deprecated.\n",
      "  'seed is deprecated.', DeprecationWarning)\n",
      "D:\\ProgramData\\Anaconda3\\lib\\site-packages\\xgboost-0.6-py3.6.egg\\xgboost\\sklearn.py:187: DeprecationWarning: The nthread parameter is deprecated as of version .6.Please use n_jobs instead.nthread is deprecated.\n",
      "  'nthread is deprecated.', DeprecationWarning)\n",
      "D:\\ProgramData\\Anaconda3\\lib\\site-packages\\xgboost-0.6-py3.6.egg\\xgboost\\sklearn.py:177: DeprecationWarning: The seed parameter is deprecated as of version .6.Please use random_state instead.seed is deprecated.\n",
      "  'seed is deprecated.', DeprecationWarning)\n",
      "D:\\ProgramData\\Anaconda3\\lib\\site-packages\\xgboost-0.6-py3.6.egg\\xgboost\\sklearn.py:187: DeprecationWarning: The nthread parameter is deprecated as of version .6.Please use n_jobs instead.nthread is deprecated.\n",
      "  'nthread is deprecated.', DeprecationWarning)\n"
     ]
    }
   ],
   "source": [
    "clf11 = xgb.XGBClassifier(\n",
    "        learning_rate=0.06,\n",
    "        n_estimators=335,\n",
    "        max_depth=5,\n",
    "        min_child_weight=5,\n",
    "        gamma=0.3,\n",
    "        subsample=0.5,\n",
    "        colsample_bytree=0.5,\n",
    "        reg_alpha=9,\n",
    "        reg_lambda=1.4,\n",
    "        nthread=4,\n",
    "       \n",
    "        seed=1111\n",
    "    )\n",
    "\n",
    "clf22 = xgb.XGBClassifier(\n",
    "        learning_rate=0.07,\n",
    "        n_estimators=218,\n",
    "        max_depth=3,\n",
    "        min_child_weight=5,\n",
    "        gamma=0.2,\n",
    "        subsample=0.6,\n",
    "        colsample_bytree=0.55,\n",
    "        reg_alpha=0,\n",
    "        reg_lambda=1.0,\n",
    "        nthread=4,\n",
    "        tree_method='hist',\n",
    "        grow_policy='lossguide',\n",
    "       \n",
    "        seed=2222\n",
    "    )\n",
    "\n",
    "clf33 = lgb.LGBMClassifier(\n",
    "        learning_rate=0.1,\n",
    "        n_estimators=100,\n",
    "        subsample=0.8,\n",
    "        colsample_bytree=0.8,\n",
    "        nthread=4,\n",
    "       \n",
    "        seed=3333\n",
    "    )\n",
    "\n",
    "clf44 = xgb.XGBClassifier(\n",
    "        learning_rate=0.1,\n",
    "        n_estimators=50,\n",
    "        nthread=4,\n",
    "       \n",
    "        seed=4444\n",
    "    )\n",
    "\n",
    "clf55 = xgb.XGBClassifier(\n",
    "        learning_rate=0.1,\n",
    "        n_estimators=200,\n",
    "        subsample=0.8,\n",
    "        colsample_bytree=0.8,\n",
    "        nthread=4,\n",
    "        seed=5555\n",
    "    )\n",
    "\n",
    "CLF = VotingClassifier(estimators=[\n",
    "                            ('1', clf11),\n",
    "                            ('2', clf22),\n",
    "                            ('3', clf33),\n",
    "                            ('4', clf44),\n",
    "                            ('5', clf55)\n",
    "                                        ],\n",
    "                            voting='soft'\n",
    "                           )"
   ]
  },
  {
   "cell_type": "code",
   "execution_count": 3,
   "metadata": {
    "collapsed": true
   },
   "outputs": [],
   "source": [
    "kf = StratifiedKFold(random_state=74581, n_splits=10, shuffle=True)"
   ]
  },
  {
   "cell_type": "code",
   "execution_count": 4,
   "metadata": {
    "collapsed": false
   },
   "outputs": [],
   "source": [
    "train = pd.read_csv('train_original.csv', sep=';')\n",
    "test = pd.read_csv('test_original.csv', sep=';', na_values='None')\n",
    "\n",
    "train['smoke_fair'] = train['smoke']\n",
    "train['alco_fair'] = train['alco']\n",
    "train['active_fair'] = train['active']\n",
    "\n",
    "test['smoke_fair'] = test['smoke']\n",
    "test['alco_fair'] = test['alco']\n",
    "test['active_fair'] = test['active']\n",
    "\n",
    "from sklearn.model_selection import train_test_split\n",
    "__, idx = train_test_split(list(range(train.shape[0])), test_size=0.101, random_state=7581)\n",
    "train.loc[idx, 'alco_fair'] = np.nan\n",
    "__, idx = train_test_split(list(range(train.shape[0])), test_size=0.101, random_state=3258)\n",
    "train.loc[idx, 'smoke_fair'] = np.nan\n",
    "__, idx = train_test_split(list(range(train.shape[0])), test_size=0.096, random_state=7459)\n",
    "train.loc[idx, 'active_fair'] = np.nan\n",
    "\n",
    "train['smoke_restored'] = train['smoke_fair']\n",
    "train['alco_restored'] = train['alco_fair']\n",
    "train['active_restored'] = train['active_fair']\n",
    "\n",
    "test['smoke_restored'] = test['smoke_fair']\n",
    "test['alco_restored'] = test['alco_fair']\n",
    "test['active_restored'] = test['active_fair']"
   ]
  },
  {
   "cell_type": "code",
   "execution_count": 5,
   "metadata": {
    "collapsed": false
   },
   "outputs": [
    {
     "name": "stdout",
     "output_type": "stream",
     "text": [
      "smoke_restored\tscore:\t0.921624037058\t0.911857619577\tstd:\t0.00119759592711\n"
     ]
    }
   ],
   "source": [
    "TARGET = 'smoke_restored'\n",
    "features = ['age_group', 'gender', 'weight', 'ap_hi', 'ap_lo', 'cholesterol','alco_fair', 'active_fair', 'gluc', 'BMI', 'ap_dif', 'MAP']\n",
    "X = utils.new_features(utils.clean_data(pd.concat((train.drop('cardio', axis=1), test), axis=0), more_clean=True))\n",
    "X_train = X.loc[~X[TARGET].isnull()]\n",
    "y_train = X_train[TARGET].values.ravel()\n",
    "X_train = X_train[features]\n",
    "\n",
    "scores = cross_val_score(CLF, X_train, y_train, cv=kf)\n",
    "print(TARGET, 'score:', np.mean(scores), 1 - y_train.mean(), 'std:', np.std(scores), sep='\\t')\n",
    "clf = clone(CLF)\n",
    "clf.fit(X_train, y_train)\n",
    "\n",
    "idx = train[TARGET].isnull()\n",
    "train.loc[idx, TARGET] = clf.predict(train.loc[idx, features])\n",
    "idx = test[TARGET].isnull()\n",
    "test.loc[idx, TARGET] = clf.predict(test.loc[idx, features])\n",
    "# smoke_restored\tscore:\t0.921535053005\t0.911857619577\tstd:\t0.00118175426621"
   ]
  },
  {
   "cell_type": "code",
   "execution_count": 6,
   "metadata": {
    "collapsed": false
   },
   "outputs": [
    {
     "name": "stdout",
     "output_type": "stream",
     "text": [
      "alco_restored\tscore:\t0.945994954995\t0.946017197077\tstd:\t8.64069377288e-05\n"
     ]
    }
   ],
   "source": [
    "TARGET = 'alco_restored'\n",
    "features = ['age_group', 'gender', 'weight', 'ap_hi', 'ap_lo', 'cholesterol','smoke_fair', 'active_fair', 'gluc', 'BMI', 'ap_dif', 'MAP']\n",
    "X = utils.new_features(utils.clean_data(pd.concat((train.drop('cardio', axis=1), test), axis=0), more_clean=True))\n",
    "X_train = X.loc[~X[TARGET].isnull()]\n",
    "y_train = X_train[TARGET].values.ravel()\n",
    "X_train = X_train[features]\n",
    "\n",
    "scores = cross_val_score(CLF, X_train, y_train, cv=kf)\n",
    "print(TARGET, 'score:', np.mean(scores), 1 - y_train.mean(), 'std:', np.std(scores), sep='\\t')\n",
    "clf = clone(CLF)\n",
    "clf.fit(X_train, y_train)\n",
    "\n",
    "idx = train[TARGET].isnull()\n",
    "train.loc[idx, TARGET] = clf.predict(train.loc[idx, features])\n",
    "idx = test[TARGET].isnull()\n",
    "test.loc[idx, TARGET] = clf.predict(test.loc[idx, features])\n",
    "# alco_restored\tscore:\t0.946006075991\t0.946017197077\tstd:\t7.1756050826e-05"
   ]
  },
  {
   "cell_type": "code",
   "execution_count": 7,
   "metadata": {
    "collapsed": false
   },
   "outputs": [
    {
     "name": "stdout",
     "output_type": "stream",
     "text": [
      "active_restored\tscore:\t0.804719929346\t0.804542889703\tstd:\t0.000194306205362\n"
     ]
    }
   ],
   "source": [
    "TARGET = 'active_restored'\n",
    "features = ['age_group', 'gender', 'weight', 'ap_hi', 'ap_lo', 'cholesterol','alco_fair', 'smoke_fair', 'gluc', 'BMI', 'ap_dif', 'MAP']\n",
    "X = utils.new_features(utils.clean_data(pd.concat((train.drop('cardio', axis=1), test), axis=0), more_clean=True))\n",
    "X_train = X.loc[~X[TARGET].isnull()]\n",
    "y_train = X_train[TARGET].values.ravel()\n",
    "X_train = X_train[features]\n",
    "\n",
    "scores = cross_val_score(CLF, X_train, y_train, cv=kf)\n",
    "print(TARGET, 'score:', np.mean(scores), y_train.mean(), 'std:', np.std(scores), sep='\\t')\n",
    "clf = clone(CLF)\n",
    "clf.fit(X_train, y_train)\n",
    "\n",
    "idx = train[TARGET].isnull()\n",
    "train.loc[idx, TARGET] = clf.predict(train.loc[idx, features])\n",
    "idx = test[TARGET].isnull()\n",
    "test.loc[idx, TARGET] = clf.predict(test.loc[idx, features])\n",
    "# active_restored\tscore:\t0.804708861278\t0.195457110297\tstd:\t0.000152627764982"
   ]
  },
  {
   "cell_type": "code",
   "execution_count": 8,
   "metadata": {
    "collapsed": false
   },
   "outputs": [],
   "source": [
    "train.to_csv('train.csv', index=False, sep=';')\n",
    "test.to_csv('test.csv', index=False, sep=';')"
   ]
  },
  {
   "cell_type": "code",
   "execution_count": null,
   "metadata": {
    "collapsed": true
   },
   "outputs": [],
   "source": []
  },
  {
   "cell_type": "code",
   "execution_count": null,
   "metadata": {
    "collapsed": true
   },
   "outputs": [],
   "source": []
  },
  {
   "cell_type": "code",
   "execution_count": null,
   "metadata": {
    "collapsed": true
   },
   "outputs": [],
   "source": []
  },
  {
   "cell_type": "code",
   "execution_count": null,
   "metadata": {
    "collapsed": true
   },
   "outputs": [],
   "source": []
  },
  {
   "cell_type": "code",
   "execution_count": null,
   "metadata": {
    "collapsed": true
   },
   "outputs": [],
   "source": []
  },
  {
   "cell_type": "code",
   "execution_count": null,
   "metadata": {
    "collapsed": true
   },
   "outputs": [],
   "source": []
  },
  {
   "cell_type": "code",
   "execution_count": null,
   "metadata": {
    "collapsed": true
   },
   "outputs": [],
   "source": []
  },
  {
   "cell_type": "code",
   "execution_count": null,
   "metadata": {
    "collapsed": true
   },
   "outputs": [],
   "source": []
  }
 ],
 "metadata": {
  "kernelspec": {
   "display_name": "Python 3",
   "language": "python",
   "name": "python3"
  },
  "language_info": {
   "codemirror_mode": {
    "name": "ipython",
    "version": 3
   },
   "file_extension": ".py",
   "mimetype": "text/x-python",
   "name": "python",
   "nbconvert_exporter": "python",
   "pygments_lexer": "ipython3",
   "version": "3.6.0"
  }
 },
 "nbformat": 4,
 "nbformat_minor": 2
}
