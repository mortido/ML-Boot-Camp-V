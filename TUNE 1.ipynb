{
 "cells": [
  {
   "cell_type": "code",
   "execution_count": 8,
   "metadata": {
    "collapsed": false
   },
   "outputs": [],
   "source": [
    "import pandas as pd\n",
    "import numpy as np\n",
    "\n",
    "import random\n",
    "\n",
    "import xgboost as xgb\n",
    "import lightgbm as lgb\n",
    "from sklearn.ensemble import RandomForestClassifier\n",
    "from sklearn.metrics import log_loss, accuracy_score\n",
    "from sklearn.model_selection import StratifiedKFold\n",
    "\n",
    "import matplotlib.pyplot as plt\n",
    "import seaborn as sns\n",
    "import gc\n",
    "import utils \n",
    "\n",
    "plt.style.use('ggplot')\n",
    "%matplotlib inline"
   ]
  },
  {
   "cell_type": "markdown",
   "metadata": {
    "collapsed": true
   },
   "source": [
    "# TUNE XGB"
   ]
  },
  {
   "cell_type": "code",
   "execution_count": 9,
   "metadata": {
    "collapsed": true
   },
   "outputs": [],
   "source": [
    "train = pd.read_csv('train.csv', sep=';')\n",
    "test = pd.read_csv('test.csv', sep=';', na_values='None')\n",
    "\n",
    "train = utils.clean_data(train)\n",
    "test = utils.clean_data(test)\n",
    "\n",
    "train = utils.new_features(train)\n",
    "test = utils.new_features(test)\n",
    "\n",
    "X_train = train.drop([ 'cardio'], axis=1)\n",
    "y_train = train['cardio'].values.ravel()\n",
    "X_test = test.drop([], axis=1)\n",
    "\n",
    "X = X_train[[\n",
    "\"age_group\",\n",
    "\"gender\",\n",
    "\"height\",\n",
    "\"weight\",\n",
    "\"ap_hi\",\n",
    "\"ap_lo\",\n",
    "\"cholesterol\",\n",
    "\"gluc\",\n",
    "\"smoke_restored\",\n",
    "\"alco_restored\",\n",
    "\"active_restored\",\n",
    "\"BMI\",\n",
    "\"ap_dif\",\n",
    "\"MAP\",\n",
    "\"age_group_MAPX\",\n",
    "]]\n",
    "Y = y_train"
   ]
  },
  {
   "cell_type": "code",
   "execution_count": 46,
   "metadata": {
    "collapsed": true
   },
   "outputs": [],
   "source": [
    "from sklearn.base import clone\n",
    "from sklearn.metrics import log_loss, accuracy_score\n",
    "\n",
    "def modelfit(estimator, X_train, y_train, X_test=None, fit_params=None, n_splits=7, early_stopping_rounds=100):\n",
    "#     if fit_params is None:\n",
    "#         # fit_params = {'eval_metric':'error'} # for lgb\n",
    "# #         fit_params = {'eval_metric':'error'} # for xgb\n",
    "#         fit_params = {} # default\n",
    "#     else:\n",
    "#         fit_params = fit_params.copy()\n",
    "#     fit_params['early_stopping_rounds'] = early_stopping_rounds\n",
    "#     fit_params['verbose'] = False\n",
    "    \n",
    "#     np.random.seed(1205)\n",
    "#     random.seed(1205)\n",
    "\n",
    "#     kf = StratifiedKFold(random_state=1205, n_splits=n_splits, shuffle=True)\n",
    "#     accuracy = []\n",
    "#     logloss = []\n",
    "\n",
    "#     dummies = pd.get_dummies(y_train)\n",
    "#     train_result = np.zeros(dummies.shape)\n",
    "#     X_train = pd.DataFrame(X_train)\n",
    "    \n",
    "#     best_iterations = []\n",
    "#     for train_idx, test_idx in kf.split(X_train, y_train):\n",
    "#         clf = clone(estimator)\n",
    "\n",
    "#         eval_set = [(X_train.iloc[test_idx], y_train[test_idx])]\n",
    "#         clf.fit(X_train.iloc[train_idx], y_train[train_idx], eval_set=eval_set, **fit_params)\n",
    "#         #best_iterations.append(clf.best_iteration) # for lgb\n",
    "#         best_iterations.append(clf.best_ntree_limit) # for xgboost\n",
    "        \n",
    "#         train_result[test_idx] = clf.predict_proba(X_train.iloc[test_idx])\n",
    "#         logloss.append(log_loss(dummies.iloc[test_idx], train_result[test_idx]))\n",
    "#         accuracy.append(accuracy_score(y_train[test_idx], np.argmax(train_result[test_idx], axis=1)))\n",
    "        \n",
    "    xgb_param = estimator.get_xgb_params()\n",
    "    xgtrain = xgb.DMatrix(X_train.values, label=y_train)\n",
    "    cvresult = xgb.cv(xgb_param, xgtrain, num_boost_round=estimator.get_params()['n_estimators'], nfold=n_splits,\n",
    "            metrics='logloss', early_stopping_rounds=early_stopping_rounds, seed=1205, shuffle=True)\n",
    "    estimator.set_params(n_estimators=cvresult.shape[0])\n",
    "\n",
    "    print(\"N:\", cvresult.shape[0])\n",
    "    print(cvresult[-1])\n",
    "#     print(\"N:\", cvresult.shape[0], best_iterations)\n",
    "#     print(\"Accuracy:\")\n",
    "#     print(accuracy)\n",
    "#     print(\"mean:\", np.mean(accuracy))\n",
    "#     print(\"std:\", np.std(accuracy))\n",
    "#     print(\"\")\n",
    "#     print(\"Logloss:\")\n",
    "#     print(logloss)\n",
    "#     print(\"mean:\", np.mean(logloss))\n",
    "#     print(\"std:\", np.std(logloss))\n",
    "    return cvresult.shape[0]"
   ]
  },
  {
   "cell_type": "code",
   "execution_count": null,
   "metadata": {
    "collapsed": false
   },
   "outputs": [],
   "source": []
  },
  {
   "cell_type": "code",
   "execution_count": 19,
   "metadata": {
    "collapsed": false
   },
   "outputs": [
    {
     "name": "stdout",
     "output_type": "stream",
     "text": [
      "N: 56\n"
     ]
    }
   ],
   "source": [
    "xgb1 = xgb.XGBClassifier(\n",
    " learning_rate =0.1,\n",
    " n_estimators=1000,\n",
    " max_depth=5,\n",
    " min_child_weight=1,\n",
    " gamma=0,\n",
    " subsample=0.8,\n",
    " colsample_bytree=0.8,\n",
    "# objective='multi:softmax',\n",
    "# num_class=5,\n",
    " silent=True,\n",
    " nthread=4,\n",
    "\n",
    " seed=2707)\n",
    "\n",
    "best_n_estimators = modelfit(xgb1, X, Y)"
   ]
  },
  {
   "cell_type": "code",
   "execution_count": 20,
   "metadata": {
    "collapsed": true
   },
   "outputs": [],
   "source": [
    "kf = StratifiedKFold(random_state=2225, n_splits=7, shuffle=True)"
   ]
  },
  {
   "cell_type": "code",
   "execution_count": 21,
   "metadata": {
    "collapsed": true
   },
   "outputs": [],
   "source": [
    "xgb2 = xgb.XGBClassifier(\n",
    "    learning_rate =0.1,\n",
    "    n_estimators=best_n_estimators,\n",
    "    max_depth=5,\n",
    "    min_child_weight=1,\n",
    "    gamma=0,\n",
    "    subsample=0.8,\n",
    "    colsample_bytree=0.8,\n",
    "    nthread=4,\n",
    "   \n",
    "    seed=1205\n",
    ")"
   ]
  },
  {
   "cell_type": "code",
   "execution_count": 22,
   "metadata": {
    "collapsed": true
   },
   "outputs": [],
   "source": [
    "from sklearn.model_selection import GridSearchCV"
   ]
  },
  {
   "cell_type": "code",
   "execution_count": 23,
   "metadata": {
    "collapsed": false
   },
   "outputs": [
    {
     "name": "stderr",
     "output_type": "stream",
     "text": [
      "D:\\ProgramData\\Anaconda3\\lib\\site-packages\\sklearn\\model_selection\\_search.py:667: DeprecationWarning: The grid_scores_ attribute was deprecated in version 0.18 in favor of the more elaborate cv_results_ attribute. The grid_scores_ attribute will not be available from 0.20\n",
      "  DeprecationWarning)\n"
     ]
    },
    {
     "data": {
      "text/plain": [
       "([mean: -0.54037, std: 0.00391, params: {'max_depth': 3, 'min_child_weight': 1},\n",
       "  mean: -0.54040, std: 0.00392, params: {'max_depth': 3, 'min_child_weight': 3},\n",
       "  mean: -0.54041, std: 0.00394, params: {'max_depth': 3, 'min_child_weight': 5},\n",
       "  mean: -0.53878, std: 0.00458, params: {'max_depth': 5, 'min_child_weight': 1},\n",
       "  mean: -0.53878, std: 0.00470, params: {'max_depth': 5, 'min_child_weight': 3},\n",
       "  mean: -0.53863, std: 0.00471, params: {'max_depth': 5, 'min_child_weight': 5},\n",
       "  mean: -0.53984, std: 0.00497, params: {'max_depth': 7, 'min_child_weight': 1},\n",
       "  mean: -0.53997, std: 0.00485, params: {'max_depth': 7, 'min_child_weight': 3},\n",
       "  mean: -0.53990, std: 0.00499, params: {'max_depth': 7, 'min_child_weight': 5},\n",
       "  mean: -0.54345, std: 0.00497, params: {'max_depth': 9, 'min_child_weight': 1},\n",
       "  mean: -0.54298, std: 0.00521, params: {'max_depth': 9, 'min_child_weight': 3},\n",
       "  mean: -0.54224, std: 0.00532, params: {'max_depth': 9, 'min_child_weight': 5}],\n",
       " {'max_depth': 5, 'min_child_weight': 5},\n",
       " -0.5386313168832767)"
      ]
     },
     "execution_count": 23,
     "metadata": {},
     "output_type": "execute_result"
    }
   ],
   "source": [
    "param_test1 = {\n",
    " 'max_depth':range(3,10,2),\n",
    " 'min_child_weight':range(1,6,2)\n",
    "}\n",
    "gsearch1 = GridSearchCV(estimator = xgb2, param_grid = param_test1, scoring='neg_log_loss', n_jobs=1, iid=False, cv=kf)\n",
    "\n",
    "gsearch1.fit(X, Y)\n",
    "gsearch1.grid_scores_, gsearch1.best_params_, gsearch1.best_score_"
   ]
  },
  {
   "cell_type": "code",
   "execution_count": 24,
   "metadata": {
    "collapsed": false
   },
   "outputs": [
    {
     "name": "stderr",
     "output_type": "stream",
     "text": [
      "D:\\ProgramData\\Anaconda3\\lib\\site-packages\\sklearn\\model_selection\\_search.py:667: DeprecationWarning: The grid_scores_ attribute was deprecated in version 0.18 in favor of the more elaborate cv_results_ attribute. The grid_scores_ attribute will not be available from 0.20\n",
      "  DeprecationWarning)\n"
     ]
    },
    {
     "data": {
      "text/plain": [
       "([mean: -0.53900, std: 0.00442, params: {'max_depth': 4, 'min_child_weight': 4},\n",
       "  mean: -0.53900, std: 0.00447, params: {'max_depth': 4, 'min_child_weight': 5},\n",
       "  mean: -0.53899, std: 0.00445, params: {'max_depth': 4, 'min_child_weight': 6},\n",
       "  mean: -0.53867, std: 0.00468, params: {'max_depth': 5, 'min_child_weight': 4},\n",
       "  mean: -0.53863, std: 0.00471, params: {'max_depth': 5, 'min_child_weight': 5},\n",
       "  mean: -0.53865, std: 0.00467, params: {'max_depth': 5, 'min_child_weight': 6},\n",
       "  mean: -0.53909, std: 0.00485, params: {'max_depth': 6, 'min_child_weight': 4},\n",
       "  mean: -0.53910, std: 0.00486, params: {'max_depth': 6, 'min_child_weight': 5},\n",
       "  mean: -0.53895, std: 0.00476, params: {'max_depth': 6, 'min_child_weight': 6}],\n",
       " {'max_depth': 5, 'min_child_weight': 5},\n",
       " -0.5386313168832767)"
      ]
     },
     "execution_count": 24,
     "metadata": {},
     "output_type": "execute_result"
    }
   ],
   "source": [
    "param_test1 = {\n",
    " 'max_depth':[4,5,6],\n",
    " 'min_child_weight':[4,5,6]\n",
    "}\n",
    "gsearch1 = GridSearchCV(estimator = xgb2, param_grid = param_test1, scoring='neg_log_loss', n_jobs=1, iid=False, cv=kf)\n",
    "\n",
    "gsearch1.fit(X, Y)\n",
    "gsearch1.grid_scores_, gsearch1.best_params_, gsearch1.best_score_"
   ]
  },
  {
   "cell_type": "code",
   "execution_count": 25,
   "metadata": {
    "collapsed": true
   },
   "outputs": [],
   "source": [
    "# CHECK THAT NOT EDGE CASES!\n",
    "best_max_depth = gsearch1.best_params_['max_depth']\n",
    "best_min_child_weight = gsearch1.best_params_['min_child_weight']"
   ]
  },
  {
   "cell_type": "code",
   "execution_count": 26,
   "metadata": {
    "collapsed": false
   },
   "outputs": [
    {
     "name": "stdout",
     "output_type": "stream",
     "text": [
      "N: 61\n"
     ]
    }
   ],
   "source": [
    "xgb3 = xgb.XGBClassifier(\n",
    "    learning_rate =0.1,\n",
    "    n_estimators=1000,\n",
    "    max_depth=best_max_depth,\n",
    "    min_child_weight=best_min_child_weight,\n",
    "    gamma=0,\n",
    "    subsample=0.8,\n",
    "    colsample_bytree=0.8,\n",
    "\n",
    "    nthread=4,\n",
    "   \n",
    "    seed=2707\n",
    ")\n",
    "best_n_estimators = modelfit(xgb3, X, Y)"
   ]
  },
  {
   "cell_type": "code",
   "execution_count": 28,
   "metadata": {
    "collapsed": false
   },
   "outputs": [
    {
     "name": "stderr",
     "output_type": "stream",
     "text": [
      "D:\\ProgramData\\Anaconda3\\lib\\site-packages\\sklearn\\model_selection\\_search.py:667: DeprecationWarning: The grid_scores_ attribute was deprecated in version 0.18 in favor of the more elaborate cv_results_ attribute. The grid_scores_ attribute will not be available from 0.20\n",
      "  DeprecationWarning)\n"
     ]
    },
    {
     "data": {
      "text/plain": [
       "([mean: -0.53870, std: 0.00457, params: {'gamma': 0.0},\n",
       "  mean: -0.53867, std: 0.00463, params: {'gamma': 0.025000000000000001},\n",
       "  mean: -0.53864, std: 0.00465, params: {'gamma': 0.050000000000000003},\n",
       "  mean: -0.53864, std: 0.00465, params: {'gamma': 0.075000000000000011},\n",
       "  mean: -0.53865, std: 0.00465, params: {'gamma': 0.10000000000000001},\n",
       "  mean: -0.53865, std: 0.00466, params: {'gamma': 0.125},\n",
       "  mean: -0.53866, std: 0.00465, params: {'gamma': 0.15000000000000002},\n",
       "  mean: -0.53867, std: 0.00464, params: {'gamma': 0.17500000000000002},\n",
       "  mean: -0.53867, std: 0.00463, params: {'gamma': 0.20000000000000001},\n",
       "  mean: -0.53867, std: 0.00463, params: {'gamma': 0.22500000000000001},\n",
       "  mean: -0.53870, std: 0.00465, params: {'gamma': 0.25},\n",
       "  mean: -0.53871, std: 0.00466, params: {'gamma': 0.27500000000000002},\n",
       "  mean: -0.53871, std: 0.00465, params: {'gamma': 0.30000000000000004},\n",
       "  mean: -0.53872, std: 0.00464, params: {'gamma': 0.32500000000000001},\n",
       "  mean: -0.53872, std: 0.00464, params: {'gamma': 0.35000000000000003},\n",
       "  mean: -0.53872, std: 0.00465, params: {'gamma': 0.375},\n",
       "  mean: -0.53874, std: 0.00466, params: {'gamma': 0.40000000000000002},\n",
       "  mean: -0.53875, std: 0.00466, params: {'gamma': 0.42500000000000004},\n",
       "  mean: -0.53875, std: 0.00466, params: {'gamma': 0.45000000000000001},\n",
       "  mean: -0.53876, std: 0.00466, params: {'gamma': 0.47500000000000003},\n",
       "  mean: -0.53876, std: 0.00466, params: {'gamma': 0.5}],\n",
       " {'gamma': 0.050000000000000003},\n",
       " -0.53864222084486058)"
      ]
     },
     "execution_count": 28,
     "metadata": {},
     "output_type": "execute_result"
    }
   ],
   "source": [
    "param_test3 = {\n",
    "#  'gamma':np.arange(0, 1.1, 0.1)\n",
    " 'gamma':np.arange(0, .525, 0.025)\n",
    "}\n",
    "gsearch3 = GridSearchCV(estimator = xgb3, param_grid = param_test3, scoring='neg_log_loss', n_jobs=1, iid=False, cv=kf)\n",
    "gsearch3.fit(X, Y)\n",
    "gsearch3.grid_scores_, gsearch3.best_params_, gsearch3.best_score_"
   ]
  },
  {
   "cell_type": "code",
   "execution_count": 29,
   "metadata": {
    "collapsed": true
   },
   "outputs": [],
   "source": [
    "best_gamma = gsearch3.best_params_['gamma']"
   ]
  },
  {
   "cell_type": "code",
   "execution_count": 30,
   "metadata": {
    "collapsed": false
   },
   "outputs": [
    {
     "name": "stderr",
     "output_type": "stream",
     "text": [
      "D:\\ProgramData\\Anaconda3\\lib\\site-packages\\sklearn\\model_selection\\_search.py:667: DeprecationWarning: The grid_scores_ attribute was deprecated in version 0.18 in favor of the more elaborate cv_results_ attribute. The grid_scores_ attribute will not be available from 0.20\n",
      "  DeprecationWarning)\n"
     ]
    },
    {
     "data": {
      "text/plain": [
       "([mean: -0.53898, std: 0.00459, params: {'colsample_bytree': 0.5, 'subsample': 0.5},\n",
       "  mean: -0.53900, std: 0.00450, params: {'colsample_bytree': 0.5, 'subsample': 0.59999999999999998},\n",
       "  mean: -0.53935, std: 0.00468, params: {'colsample_bytree': 0.5, 'subsample': 0.69999999999999996},\n",
       "  mean: -0.53899, std: 0.00468, params: {'colsample_bytree': 0.5, 'subsample': 0.79999999999999993},\n",
       "  mean: -0.53914, std: 0.00470, params: {'colsample_bytree': 0.5, 'subsample': 0.89999999999999991},\n",
       "  mean: -0.53881, std: 0.00458, params: {'colsample_bytree': 0.59999999999999998, 'subsample': 0.5},\n",
       "  mean: -0.53893, std: 0.00463, params: {'colsample_bytree': 0.59999999999999998, 'subsample': 0.59999999999999998},\n",
       "  mean: -0.53885, std: 0.00478, params: {'colsample_bytree': 0.59999999999999998, 'subsample': 0.69999999999999996},\n",
       "  mean: -0.53864, std: 0.00460, params: {'colsample_bytree': 0.59999999999999998, 'subsample': 0.79999999999999993},\n",
       "  mean: -0.53870, std: 0.00480, params: {'colsample_bytree': 0.59999999999999998, 'subsample': 0.89999999999999991},\n",
       "  mean: -0.53882, std: 0.00483, params: {'colsample_bytree': 0.69999999999999996, 'subsample': 0.5},\n",
       "  mean: -0.53881, std: 0.00468, params: {'colsample_bytree': 0.69999999999999996, 'subsample': 0.59999999999999998},\n",
       "  mean: -0.53878, std: 0.00483, params: {'colsample_bytree': 0.69999999999999996, 'subsample': 0.69999999999999996},\n",
       "  mean: -0.53865, std: 0.00469, params: {'colsample_bytree': 0.69999999999999996, 'subsample': 0.79999999999999993},\n",
       "  mean: -0.53862, std: 0.00477, params: {'colsample_bytree': 0.69999999999999996, 'subsample': 0.89999999999999991},\n",
       "  mean: -0.53890, std: 0.00478, params: {'colsample_bytree': 0.79999999999999993, 'subsample': 0.5},\n",
       "  mean: -0.53878, std: 0.00452, params: {'colsample_bytree': 0.79999999999999993, 'subsample': 0.59999999999999998},\n",
       "  mean: -0.53888, std: 0.00463, params: {'colsample_bytree': 0.79999999999999993, 'subsample': 0.69999999999999996},\n",
       "  mean: -0.53864, std: 0.00465, params: {'colsample_bytree': 0.79999999999999993, 'subsample': 0.79999999999999993},\n",
       "  mean: -0.53866, std: 0.00493, params: {'colsample_bytree': 0.79999999999999993, 'subsample': 0.89999999999999991},\n",
       "  mean: -0.53904, std: 0.00492, params: {'colsample_bytree': 0.89999999999999991, 'subsample': 0.5},\n",
       "  mean: -0.53869, std: 0.00450, params: {'colsample_bytree': 0.89999999999999991, 'subsample': 0.59999999999999998},\n",
       "  mean: -0.53857, std: 0.00460, params: {'colsample_bytree': 0.89999999999999991, 'subsample': 0.69999999999999996},\n",
       "  mean: -0.53880, std: 0.00460, params: {'colsample_bytree': 0.89999999999999991, 'subsample': 0.79999999999999993},\n",
       "  mean: -0.53888, std: 0.00485, params: {'colsample_bytree': 0.89999999999999991, 'subsample': 0.89999999999999991}],\n",
       " {'colsample_bytree': 0.89999999999999991, 'subsample': 0.69999999999999996},\n",
       " -0.53856819990806815)"
      ]
     },
     "execution_count": 30,
     "metadata": {},
     "output_type": "execute_result"
    }
   ],
   "source": [
    "xgb4 = xgb.XGBClassifier(\n",
    "    learning_rate =0.1,\n",
    "    n_estimators=best_n_estimators,\n",
    "    max_depth=best_max_depth,\n",
    "    min_child_weight=best_min_child_weight,\n",
    "    gamma=best_gamma,\n",
    "    subsample=0.8,\n",
    "    colsample_bytree=0.8,\n",
    "\n",
    "    nthread=4,\n",
    "   \n",
    "    seed=2707\n",
    ")\n",
    "\n",
    "param_test4 = {\n",
    " 'subsample': np.arange(0.5, 1, 0.1),\n",
    " 'colsample_bytree': np.arange(0.5, 1, 0.1),\n",
    "}\n",
    "\n",
    "gsearch4 = GridSearchCV(estimator = xgb4, param_grid = param_test4, scoring='neg_log_loss', n_jobs=1, iid=False, cv=kf)\n",
    "gsearch4.fit(X, Y)\n",
    "gsearch4.grid_scores_, gsearch4.best_params_, gsearch4.best_score_"
   ]
  },
  {
   "cell_type": "code",
   "execution_count": 31,
   "metadata": {
    "collapsed": false
   },
   "outputs": [
    {
     "name": "stderr",
     "output_type": "stream",
     "text": [
      "D:\\ProgramData\\Anaconda3\\lib\\site-packages\\sklearn\\model_selection\\_search.py:667: DeprecationWarning: The grid_scores_ attribute was deprecated in version 0.18 in favor of the more elaborate cv_results_ attribute. The grid_scores_ attribute will not be available from 0.20\n",
      "  DeprecationWarning)\n"
     ]
    },
    {
     "data": {
      "text/plain": [
       "([mean: -0.53875, std: 0.00462, params: {'colsample_bytree': 0.84999999999999998, 'subsample': 0.65000000000000002},\n",
       "  mean: -0.53870, std: 0.00457, params: {'colsample_bytree': 0.84999999999999998, 'subsample': 0.67500000000000004},\n",
       "  mean: -0.53888, std: 0.00463, params: {'colsample_bytree': 0.84999999999999998, 'subsample': 0.70000000000000007},\n",
       "  mean: -0.53885, std: 0.00469, params: {'colsample_bytree': 0.84999999999999998, 'subsample': 0.72500000000000009},\n",
       "  mean: -0.53858, std: 0.00464, params: {'colsample_bytree': 0.84999999999999998, 'subsample': 0.75000000000000011},\n",
       "  mean: -0.53883, std: 0.00477, params: {'colsample_bytree': 0.875, 'subsample': 0.65000000000000002},\n",
       "  mean: -0.53876, std: 0.00475, params: {'colsample_bytree': 0.875, 'subsample': 0.67500000000000004},\n",
       "  mean: -0.53857, std: 0.00460, params: {'colsample_bytree': 0.875, 'subsample': 0.70000000000000007},\n",
       "  mean: -0.53860, std: 0.00456, params: {'colsample_bytree': 0.875, 'subsample': 0.72500000000000009},\n",
       "  mean: -0.53872, std: 0.00452, params: {'colsample_bytree': 0.875, 'subsample': 0.75000000000000011},\n",
       "  mean: -0.53883, std: 0.00477, params: {'colsample_bytree': 0.90000000000000002, 'subsample': 0.65000000000000002},\n",
       "  mean: -0.53876, std: 0.00475, params: {'colsample_bytree': 0.90000000000000002, 'subsample': 0.67500000000000004},\n",
       "  mean: -0.53857, std: 0.00460, params: {'colsample_bytree': 0.90000000000000002, 'subsample': 0.70000000000000007},\n",
       "  mean: -0.53860, std: 0.00456, params: {'colsample_bytree': 0.90000000000000002, 'subsample': 0.72500000000000009},\n",
       "  mean: -0.53872, std: 0.00452, params: {'colsample_bytree': 0.90000000000000002, 'subsample': 0.75000000000000011},\n",
       "  mean: -0.53883, std: 0.00477, params: {'colsample_bytree': 0.92500000000000004, 'subsample': 0.65000000000000002},\n",
       "  mean: -0.53876, std: 0.00475, params: {'colsample_bytree': 0.92500000000000004, 'subsample': 0.67500000000000004},\n",
       "  mean: -0.53857, std: 0.00460, params: {'colsample_bytree': 0.92500000000000004, 'subsample': 0.70000000000000007},\n",
       "  mean: -0.53860, std: 0.00456, params: {'colsample_bytree': 0.92500000000000004, 'subsample': 0.72500000000000009},\n",
       "  mean: -0.53872, std: 0.00452, params: {'colsample_bytree': 0.92500000000000004, 'subsample': 0.75000000000000011},\n",
       "  mean: -0.53875, std: 0.00474, params: {'colsample_bytree': 0.95000000000000007, 'subsample': 0.65000000000000002},\n",
       "  mean: -0.53877, std: 0.00458, params: {'colsample_bytree': 0.95000000000000007, 'subsample': 0.67500000000000004},\n",
       "  mean: -0.53859, std: 0.00461, params: {'colsample_bytree': 0.95000000000000007, 'subsample': 0.70000000000000007},\n",
       "  mean: -0.53875, std: 0.00469, params: {'colsample_bytree': 0.95000000000000007, 'subsample': 0.72500000000000009},\n",
       "  mean: -0.53891, std: 0.00454, params: {'colsample_bytree': 0.95000000000000007, 'subsample': 0.75000000000000011}],\n",
       " {'colsample_bytree': 0.875, 'subsample': 0.70000000000000007},\n",
       " -0.53856819990806815)"
      ]
     },
     "execution_count": 31,
     "metadata": {},
     "output_type": "execute_result"
    }
   ],
   "source": [
    "param_test4 = {\n",
    " 'subsample': np.arange(0.65, 0.76, 0.025),\n",
    " 'colsample_bytree': np.arange(0.85, 0.96, 0.025),\n",
    "}\n",
    "\n",
    "gsearch4 = GridSearchCV(estimator = xgb4, param_grid = param_test4, scoring='neg_log_loss', n_jobs=1, iid=False, cv=kf)\n",
    "gsearch4.fit(X, Y)\n",
    "gsearch4.grid_scores_, gsearch4.best_params_, gsearch4.best_score_"
   ]
  },
  {
   "cell_type": "code",
   "execution_count": 32,
   "metadata": {
    "collapsed": true
   },
   "outputs": [],
   "source": [
    "best_colsample_bytree = gsearch4.best_params_['colsample_bytree']\n",
    "best_subsample = gsearch4.best_params_['subsample']"
   ]
  },
  {
   "cell_type": "code",
   "execution_count": 33,
   "metadata": {
    "collapsed": true
   },
   "outputs": [],
   "source": [
    "xgb_5 = xgb.XGBClassifier(\n",
    "    learning_rate =0.1,\n",
    "    n_estimators=best_n_estimators,\n",
    "    max_depth=best_max_depth,\n",
    "    min_child_weight=best_min_child_weight,\n",
    "    gamma=best_gamma,\n",
    "    subsample=best_subsample,\n",
    "    colsample_bytree=best_colsample_bytree,\n",
    "    \n",
    "\n",
    "    nthread=4,\n",
    "   \n",
    "    seed=2707\n",
    ")"
   ]
  },
  {
   "cell_type": "code",
   "execution_count": 34,
   "metadata": {
    "collapsed": false
   },
   "outputs": [
    {
     "name": "stderr",
     "output_type": "stream",
     "text": [
      "D:\\ProgramData\\Anaconda3\\lib\\site-packages\\sklearn\\model_selection\\_search.py:667: DeprecationWarning: The grid_scores_ attribute was deprecated in version 0.18 in favor of the more elaborate cv_results_ attribute. The grid_scores_ attribute will not be available from 0.20\n",
      "  DeprecationWarning)\n"
     ]
    },
    {
     "data": {
      "text/plain": [
       "([mean: -0.53857, std: 0.00460, params: {'reg_alpha': 1e-05},\n",
       "  mean: -0.53862, std: 0.00460, params: {'reg_alpha': 0.01},\n",
       "  mean: -0.53872, std: 0.00466, params: {'reg_alpha': 0.1},\n",
       "  mean: -0.53869, std: 0.00463, params: {'reg_alpha': 1},\n",
       "  mean: -0.54213, std: 0.00398, params: {'reg_alpha': 100}],\n",
       " {'reg_alpha': 1e-05},\n",
       " -0.53856819922862831)"
      ]
     },
     "execution_count": 34,
     "metadata": {},
     "output_type": "execute_result"
    }
   ],
   "source": [
    "param_test5 = {\n",
    " 'reg_alpha':[1e-5, 1e-2, 0.1, 1, 100]\n",
    "}\n",
    "gsearch5 = GridSearchCV(estimator = xgb_5, param_grid = param_test5, scoring='neg_log_loss', n_jobs=1, iid=False, cv=kf)\n",
    "gsearch5.fit(X, Y)\n",
    "gsearch5.grid_scores_, gsearch5.best_params_, gsearch5.best_score_"
   ]
  },
  {
   "cell_type": "code",
   "execution_count": null,
   "metadata": {
    "collapsed": false
   },
   "outputs": [],
   "source": [
    "param_test5 = {\n",
    " 'reg_alpha':np.arange(5,15, 1),\n",
    "}\n",
    "gsearch5 = GridSearchCV(estimator = xgb_5, param_grid = param_test5, scoring='neg_log_loss', n_jobs=1, iid=False, cv=kf)\n",
    "gsearch5.fit(X, Y)\n",
    "gsearch5.grid_scores_, gsearch5.best_params_, gsearch5.best_score_"
   ]
  },
  {
   "cell_type": "code",
   "execution_count": 35,
   "metadata": {
    "collapsed": true
   },
   "outputs": [],
   "source": [
    "best_reg_alpha = 0# gsearch5.best_params_['reg_alpha']"
   ]
  },
  {
   "cell_type": "code",
   "execution_count": 36,
   "metadata": {
    "collapsed": true
   },
   "outputs": [],
   "source": [
    "xgb_6 = xgb.XGBClassifier(\n",
    "    learning_rate =0.1,\n",
    "    n_estimators=best_n_estimators,\n",
    "    max_depth=best_max_depth,\n",
    "    min_child_weight=best_min_child_weight,\n",
    "    gamma=best_gamma,\n",
    "    subsample=best_subsample,\n",
    "    colsample_bytree=best_colsample_bytree,\n",
    "    reg_alpha = best_reg_alpha,\n",
    "    \n",
    "\n",
    "    nthread=4,\n",
    "   \n",
    "    seed=2707\n",
    ")"
   ]
  },
  {
   "cell_type": "code",
   "execution_count": 37,
   "metadata": {
    "collapsed": false
   },
   "outputs": [
    {
     "name": "stderr",
     "output_type": "stream",
     "text": [
      "D:\\ProgramData\\Anaconda3\\lib\\site-packages\\sklearn\\model_selection\\_search.py:667: DeprecationWarning: The grid_scores_ attribute was deprecated in version 0.18 in favor of the more elaborate cv_results_ attribute. The grid_scores_ attribute will not be available from 0.20\n",
      "  DeprecationWarning)\n"
     ]
    },
    {
     "data": {
      "text/plain": [
       "([mean: -0.53862, std: 0.00475, params: {'reg_lambda': 1e-05},\n",
       "  mean: -0.53859, std: 0.00475, params: {'reg_lambda': 0.01},\n",
       "  mean: -0.53865, std: 0.00482, params: {'reg_lambda': 0.1},\n",
       "  mean: -0.53857, std: 0.00460, params: {'reg_lambda': 1},\n",
       "  mean: -0.53860, std: 0.00475, params: {'reg_lambda': 2},\n",
       "  mean: -0.53856, std: 0.00461, params: {'reg_lambda': 3},\n",
       "  mean: -0.53857, std: 0.00468, params: {'reg_lambda': 5},\n",
       "  mean: -0.53844, std: 0.00479, params: {'reg_lambda': 10},\n",
       "  mean: -0.53871, std: 0.00457, params: {'reg_lambda': 100}],\n",
       " {'reg_lambda': 10},\n",
       " -0.5384445968501802)"
      ]
     },
     "execution_count": 37,
     "metadata": {},
     "output_type": "execute_result"
    }
   ],
   "source": [
    "param_test6 = {\n",
    " 'reg_lambda':[1e-5, 1e-2, 0.1, 1, 2, 3, 5, 10, 100]\n",
    "}\n",
    "gsearch6 = GridSearchCV(estimator = xgb_6, param_grid = param_test6, scoring='neg_log_loss', n_jobs=1, iid=False, cv=kf)\n",
    "gsearch6.fit(X, Y)\n",
    "gsearch6.grid_scores_, gsearch6.best_params_, gsearch6.best_score_"
   ]
  },
  {
   "cell_type": "code",
   "execution_count": 38,
   "metadata": {
    "collapsed": false
   },
   "outputs": [
    {
     "name": "stderr",
     "output_type": "stream",
     "text": [
      "D:\\ProgramData\\Anaconda3\\lib\\site-packages\\sklearn\\model_selection\\_search.py:667: DeprecationWarning: The grid_scores_ attribute was deprecated in version 0.18 in favor of the more elaborate cv_results_ attribute. The grid_scores_ attribute will not be available from 0.20\n",
      "  DeprecationWarning)\n"
     ]
    },
    {
     "data": {
      "text/plain": [
       "([mean: -0.53857, std: 0.00468, params: {'reg_lambda': 5},\n",
       "  mean: -0.53859, std: 0.00471, params: {'reg_lambda': 6},\n",
       "  mean: -0.53865, std: 0.00476, params: {'reg_lambda': 7},\n",
       "  mean: -0.53865, std: 0.00452, params: {'reg_lambda': 8},\n",
       "  mean: -0.53865, std: 0.00463, params: {'reg_lambda': 9},\n",
       "  mean: -0.53844, std: 0.00479, params: {'reg_lambda': 10},\n",
       "  mean: -0.53850, std: 0.00468, params: {'reg_lambda': 11},\n",
       "  mean: -0.53853, std: 0.00468, params: {'reg_lambda': 12},\n",
       "  mean: -0.53860, std: 0.00475, params: {'reg_lambda': 13},\n",
       "  mean: -0.53854, std: 0.00470, params: {'reg_lambda': 14},\n",
       "  mean: -0.53859, std: 0.00468, params: {'reg_lambda': 15}],\n",
       " {'reg_lambda': 10},\n",
       " -0.5384445968501802)"
      ]
     },
     "execution_count": 38,
     "metadata": {},
     "output_type": "execute_result"
    }
   ],
   "source": [
    "param_test6 = {\n",
    " 'reg_lambda':np.arange(5,16,1)\n",
    "}\n",
    "gsearch6 = GridSearchCV(estimator = xgb_6, param_grid = param_test6, scoring='neg_log_loss', n_jobs=1, iid=False, cv=kf)\n",
    "gsearch6.fit(X, Y)\n",
    "gsearch6.grid_scores_, gsearch6.best_params_, gsearch6.best_score_"
   ]
  },
  {
   "cell_type": "code",
   "execution_count": 40,
   "metadata": {
    "collapsed": true
   },
   "outputs": [],
   "source": [
    "best_reg_lambda = gsearch6.best_params_['reg_lambda']"
   ]
  },
  {
   "cell_type": "code",
   "execution_count": null,
   "metadata": {
    "collapsed": true
   },
   "outputs": [],
   "source": []
  },
  {
   "cell_type": "code",
   "execution_count": 41,
   "metadata": {
    "collapsed": false,
    "scrolled": false
   },
   "outputs": [
    {
     "name": "stdout",
     "output_type": "stream",
     "text": [
      "0.01 ===================================\n",
      "N: 713\n",
      "0.02 ===================================\n",
      "N: 369\n",
      "0.03 ===================================\n",
      "N: 242\n",
      "0.04 ===================================\n",
      "N: 194\n",
      "0.05 ===================================\n",
      "N: 153\n",
      "0.06 ===================================\n",
      "N: 114\n",
      "0.07 ===================================\n",
      "N: 114\n",
      "0.08 ===================================\n",
      "N: 85\n",
      "0.09 ===================================\n",
      "N: 66\n",
      "0.1 ===================================\n",
      "N: 61\n"
     ]
    }
   ],
   "source": [
    "for lr in np.arange(0.01, 0.11, 0.01):\n",
    "    xgb_fin = xgb.XGBClassifier(\n",
    "        learning_rate = lr,\n",
    "        n_estimators=2000,\n",
    "        max_depth=best_max_depth,\n",
    "        min_child_weight=best_min_child_weight,\n",
    "        gamma=best_gamma,\n",
    "        subsample=best_subsample,\n",
    "        colsample_bytree=best_colsample_bytree,\n",
    "        reg_alpha = best_reg_alpha,\n",
    "        reg_lambda = best_reg_lambda,\n",
    "        \n",
    "    \n",
    "        nthread=4,\n",
    "       \n",
    "        seed=2707\n",
    "    )\n",
    "    print(lr, \"===================================\")\n",
    "    best_n_estimators = modelfit(xgb_fin, X, Y)"
   ]
  },
  {
   "cell_type": "code",
   "execution_count": null,
   "metadata": {
    "collapsed": true
   },
   "outputs": [],
   "source": [
    "0.07  218"
   ]
  },
  {
   "cell_type": "code",
   "execution_count": null,
   "metadata": {
    "collapsed": true
   },
   "outputs": [],
   "source": [
    "xgb_fin = xgb.XGBClassifier(\n",
    "        learning_rate = 0.07,\n",
    "        n_estimators=218,\n",
    "        max_depth=best_max_depth,\n",
    "        min_child_weight=best_min_child_weight,\n",
    "        gamma=best_gamma,\n",
    "        subsample=best_subsample,\n",
    "        colsample_bytree=best_colsample_bytree,\n",
    "        reg_alpha = best_reg_alpha,\n",
    "        reg_lambda = best_reg_lambda,\n",
    "        \n",
    "    \n",
    "        nthread=4,\n",
    "       \n",
    "        seed=2707\n",
    "    )"
   ]
  },
  {
   "cell_type": "code",
   "execution_count": 42,
   "metadata": {
    "collapsed": false
   },
   "outputs": [
    {
     "data": {
      "text/plain": [
       "{'base_score': 0.5,\n",
       " 'booster': 'gbtree',\n",
       " 'colsample_bylevel': 1,\n",
       " 'colsample_bytree': 0.875,\n",
       " 'gamma': 0.050000000000000003,\n",
       " 'grow_policy': 'depthwise',\n",
       " 'learning_rate': 0.099999999999999992,\n",
       " 'max_bin': 256,\n",
       " 'max_delta_step': 0,\n",
       " 'max_depth': 5,\n",
       " 'max_leaves': 0,\n",
       " 'min_child_weight': 5,\n",
       " 'missing': None,\n",
       " 'n_estimators': 61,\n",
       " 'n_jobs': 4,\n",
       " 'nthread': 4,\n",
       " 'objective': 'binary:logistic',\n",
       " 'random_state': 2707,\n",
       " 'reg_alpha': 0,\n",
       " 'reg_lambda': 10,\n",
       " 'scale_pos_weight': 1,\n",
       " 'seed': 2707,\n",
       " 'silent': True,\n",
       " 'subsample': 0.70000000000000007,\n",
       " 'tree_method': 'auto'}"
      ]
     },
     "execution_count": 42,
     "metadata": {},
     "output_type": "execute_result"
    }
   ],
   "source": [
    "xgb_fin.get_params()"
   ]
  },
  {
   "cell_type": "code",
   "execution_count": 45,
   "metadata": {
    "collapsed": false
   },
   "outputs": [
    {
     "name": "stdout",
     "output_type": "stream",
     "text": [
      "0.01 713 -0.538162420234\n",
      "0.02 369 -0.538157373435\n",
      "0.03 242 -0.538190042071\n",
      "0.04 194 -0.538225911238\n",
      "0.05 153 -0.538427445476\n",
      "0.06 114 -0.538354152819\n",
      "0.07 114 -0.538477494464\n",
      "0.08 85 -0.538507411006\n",
      "0.09 66 -0.538652597946\n",
      "0.1 61 -0.53844459685\n"
     ]
    }
   ],
   "source": [
    "from sklearn.model_selection import cross_val_score\n",
    "rates = [\n",
    "    (0.01, 713),\n",
    "    (0.02, 369),\n",
    "    (0.03, 242),\n",
    "    (0.04, 194),\n",
    "    (0.05, 153),\n",
    "    (0.06, 114),\n",
    "    (0.07, 114),\n",
    "    (0.08, 85),\n",
    "    (0.09, 66),\n",
    "    (0.1, 61),\n",
    "]\n",
    "for lr, n in rates:\n",
    "    xgb_fin = xgb.XGBClassifier(\n",
    "        learning_rate = lr,\n",
    "        n_estimators=n,\n",
    "        max_depth=best_max_depth,\n",
    "        min_child_weight=best_min_child_weight,\n",
    "        gamma=best_gamma,\n",
    "        subsample=best_subsample,\n",
    "        colsample_bytree=best_colsample_bytree,\n",
    "        reg_alpha = best_reg_alpha,\n",
    "        reg_lambda = best_reg_lambda,\n",
    "        \n",
    "    \n",
    "        nthread=4,\n",
    "       \n",
    "        seed=2707\n",
    "    )\n",
    "    \n",
    "    scores = cross_val_score(xgb_fin, X, Y, scoring='neg_log_loss', cv=kf)\n",
    "    print(lr, n, np.mean(scores))"
   ]
  },
  {
   "cell_type": "code",
   "execution_count": null,
   "metadata": {
    "collapsed": true
   },
   "outputs": [],
   "source": []
  }
 ],
 "metadata": {
  "kernelspec": {
   "display_name": "Python 3",
   "language": "python",
   "name": "python3"
  },
  "language_info": {
   "codemirror_mode": {
    "name": "ipython",
    "version": 3
   },
   "file_extension": ".py",
   "mimetype": "text/x-python",
   "name": "python",
   "nbconvert_exporter": "python",
   "pygments_lexer": "ipython3",
   "version": "3.6.0"
  }
 },
 "nbformat": 4,
 "nbformat_minor": 2
}
