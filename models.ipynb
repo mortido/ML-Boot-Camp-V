{
 "cells": [
  {
   "cell_type": "code",
   "execution_count": null,
   "metadata": {
    "collapsed": false
   },
   "outputs": [],
   "source": [
    "import pandas as pd\n",
    "import numpy as np\n",
    "\n",
    "import random\n",
    "\n",
    "import xgboost as xgb\n",
    "from sklearn.ensemble import RandomForestClassifier\n",
    "from sklearn.metrics import log_loss\n",
    "\n",
    "import matplotlib.pyplot as plt\n",
    "import seaborn as sns\n",
    "import gc\n",
    "import utils \n",
    "\n",
    "plt.style.use('ggplot')\n",
    "%matplotlib inline"
   ]
  },
  {
   "cell_type": "code",
   "execution_count": null,
   "metadata": {
    "collapsed": false
   },
   "outputs": [],
   "source": [
    "sorted([(0.538567255572, 'ap_hi'),\n",
    "(0.538588478581, 'gluc'),\n",
    "(0.538546917349, 'age_group_gender'),\n",
    "(0.538538052046, 'age_group_gluc'),\n",
    "(0.538446699606, 'gender_MAP'),\n",
    "(0.538589229798, 'gender_smoke'),\n",
    "(0.53859757607, 'gender_active'),\n",
    "(0.538577368412, 'MAP_error_group'),\n",
    "(0.538605556333, 'MAP_smoke'),\n",
    "(0.538595737992, 'MAP_active'),\n",
    "(0.538590281731, 'error_group_gluc'),\n",
    "(0.538613057047, 'error_group_active'),\n",
    "(0.538403616287, 'cholesterol_gluc'),\n",
    "(0.538513905577, 'gluc_smoke'),\n",
    "(0.538592834598, 'gluc_alco'),\n",
    "(0.538459912893, 'gluc_active'),\n",
    "(0.538497101023, 'smoke_active'),\n",
    "(0.538503250338, 'age_group_gender_error_group'),\n",
    "(0.538511181624, 'age_group_gender_gluc'),\n",
    "(0.538542876918, 'age_group_gender_smoke'),\n",
    "(0.538502938446, 'age_group_gender_alco'),\n",
    "(0.538421388154, 'age_group_error_group_gluc'),\n",
    "(0.538585787788, 'age_group_error_group_alco'),\n",
    "(0.538515840047, 'age_group_gluc_smoke'),\n",
    "(0.538604509019, 'age_group_gluc_alco'),\n",
    "(0.538473146062, 'age_group_gluc_active'),\n",
    "(0.538549234756, 'gender_MAP_error_group'),\n",
    "(0.538538765546, 'gender_MAP_smoke'),\n",
    "(0.538621130436, 'gender_MAP_alco'),\n",
    "(0.538224666658, 'gender_cholesterol_gluc'),\n",
    "(0.53854568799, 'gender_cholesterol_smoke'),\n",
    "(0.538519596999, 'gender_cholesterol_active'),\n",
    "(0.538583122431, 'gender_gluc_smoke'),\n",
    "(0.538546386493, 'gender_gluc_active'),\n",
    "(0.538433428412, 'gender_smoke_active'),\n",
    "(0.538530472903, 'gender_alco_active'),\n",
    "(0.538607528017, 'MAP_error_group_smoke'),\n",
    "(0.538608970885, 'MAP_error_group_alco'),\n",
    "(0.538496750986, 'MAP_gluc_active'),\n",
    "(0.538554965298, 'MAP_BMI_group_alco'),\n",
    "(0.538540542747, 'MAP_smoke_alco'),\n",
    "(0.538554965298, 'MAP_alco_height_group'),\n",
    "(0.538390958086, 'error_group_cholesterol_gluc'),\n",
    "(0.538458153646, 'error_group_smoke_active'),\n",
    "(0.538598031272, 'error_group_smoke_weight_group'),\n",
    "(0.538462902667, 'error_group_alco_active'),\n",
    "(0.538545756092, 'cholesterol_gluc_BMI_group'),\n",
    "(0.538458056167, 'cholesterol_gluc_smoke'),\n",
    "(0.538347090052, 'cholesterol_gluc_alco'),\n",
    "(0.538264506609, 'cholesterol_gluc_active'),\n",
    "(0.538545756092, 'cholesterol_gluc_height_group'),\n",
    "(0.538492455954, 'gluc_BMI_group_smoke'),\n",
    "(0.538578197781, 'gluc_smoke_alco'),\n",
    "(0.538438930193, 'gluc_smoke_active'),\n",
    "(0.538492455954, 'gluc_smoke_height_group'),\n",
    "(0.538537529542, 'gluc_alco_active'),\n",
    "(0.538537556667, 'smoke_alco_active'),\n",
    "       \n",
    "(0.538721429916, 'age_group_gender_gluc_smoke'),\n",
    "(0.538699428457, 'age_group_gender_gluc_alco'),\n",
    "(0.538704888347, 'age_group_gender_gluc_active'),\n",
    "(0.538704316355, 'age_group_gender_smoke_active'),\n",
    "(0.538725712345, 'age_group_gluc_alco_active'),\n",
    "(0.538662681371, 'gender_cholesterol_gluc_smoke'),\n",
    "(0.538632765675, 'gender_cholesterol_gluc_alco'),\n",
    "(0.538485049101, 'gender_cholesterol_gluc_active'),\n",
    "(0.538616169696, 'gender_gluc_smoke_active'),\n",
    "(0.538698437031, 'cholesterol_gluc_smoke_alco'),\n",
    "(0.538423057656, 'cholesterol_gluc_smoke_active'),\n",
    "(0.538579099797, 'cholesterol_gluc_alco_active'),\n",
    "(0.538602256739, 'age_group_gender_gluc_smoke_active'),\n",
    "(0.538625676171, 'gender_cholesterol_gluc_smoke_active'),\n",
    "(0.538726602437, 'gender_cholesterol_gluc_alco_active'),\n",
    "(0.538485357473, 'cholesterol_gluc_smoke_alco_active'),\n",
    "       ])\n",
    "\n"
   ]
  },
  {
   "cell_type": "code",
   "execution_count": null,
   "metadata": {
    "collapsed": true
   },
   "outputs": [],
   "source": [
    "best_interactions = [\n",
    "\"ap_hi\",\n",
    "\"gluc\",\n",
    "\"age_group_gender\",\n",
    "\"age_group_gluc\",\n",
    "\"gender_MAP\",\n",
    "\"gender_smoke\",\n",
    "\"gender_active\",\n",
    "\"MAP_error_group\",\n",
    "\"MAP_smoke\",\n",
    "\"MAP_active\",\n",
    "\"error_group_gluc\",\n",
    "\"error_group_active\",\n",
    "\"cholesterol_gluc\",\n",
    "\"gluc_smoke\",\n",
    "\"gluc_alco\",\n",
    "\"gluc_active\",\n",
    "\"smoke_active\",\n",
    "\"age_group_gender_error_group\",\n",
    "\"age_group_gender_gluc\",\n",
    "\"age_group_gender_smoke\",\n",
    "\"age_group_gender_alco\",\n",
    "\"age_group_error_group_gluc\",\n",
    "\"age_group_error_group_alco\",\n",
    "\"age_group_gluc_smoke\",\n",
    "\"age_group_gluc_alco\",\n",
    "\"age_group_gluc_active\",\n",
    "\"gender_MAP_error_group\",\n",
    "\"gender_MAP_smoke\",\n",
    "\"gender_MAP_alco\",\n",
    "\"gender_cholesterol_gluc\",\n",
    "\"gender_cholesterol_smoke\",\n",
    "\"gender_cholesterol_active\",\n",
    "\"gender_gluc_smoke\",\n",
    "\"gender_gluc_active\",\n",
    "\"gender_smoke_active\",\n",
    "\"gender_alco_active\",\n",
    "\"MAP_error_group_smoke\",\n",
    "\"MAP_error_group_alco\",\n",
    "\"MAP_gluc_active\",\n",
    "\"MAP_BMI_group_alco\",\n",
    "\"MAP_smoke_alco\",\n",
    "\"MAP_alco_height_group\",\n",
    "\"error_group_cholesterol_gluc\",\n",
    "\"error_group_smoke_active\",\n",
    "\"error_group_smoke_weight_group\",\n",
    "\"error_group_alco_active\",\n",
    "\"cholesterol_gluc_BMI_group\",\n",
    "\"cholesterol_gluc_smoke\",\n",
    "\"cholesterol_gluc_alco\",\n",
    "\"cholesterol_gluc_active\",\n",
    "\"cholesterol_gluc_height_group\",\n",
    "\"gluc_BMI_group_smoke\",\n",
    "\"gluc_smoke_alco\",\n",
    "\"gluc_smoke_active\",\n",
    "\"gluc_smoke_height_group\",\n",
    "\"gluc_alco_active\",\n",
    "\"smoke_alco_active\",\n",
    "\n",
    "\"age_group_gender_gluc_smoke\",\n",
    "\"age_group_gender_gluc_alco\",\n",
    "\"age_group_gender_gluc_active\",\n",
    "\"age_group_gender_smoke_active\",\n",
    "\"age_group_gluc_alco_active\",\n",
    "\"gender_cholesterol_gluc_smoke\",\n",
    "\"gender_cholesterol_gluc_alco\",\n",
    "\"gender_cholesterol_gluc_active\",\n",
    "\"gender_gluc_smoke_active\",\n",
    "\"cholesterol_gluc_smoke_alco\",\n",
    "\"cholesterol_gluc_smoke_active\",\n",
    "\"cholesterol_gluc_alco_active\",\n",
    "\"age_group_gender_gluc_smoke_active\",\n",
    "\"gender_cholesterol_gluc_smoke_active\",\n",
    "\"gender_cholesterol_gluc_alco_active\",\n",
    "\"cholesterol_gluc_smoke_alco_active\",\n",
    "]"
   ]
  },
  {
   "cell_type": "code",
   "execution_count": null,
   "metadata": {
    "collapsed": false
   },
   "outputs": [],
   "source": [
    "def clean_data(data):\n",
    "    data['error_group'] = 0\n",
    "\n",
    "    # weight/height correction\n",
    "    idx = (data['height']<130) & (data['weight']>150)\n",
    "    data.loc[idx, [\"height\", \"weight\"]] = data.loc[idx, [\"weight\", \"height\"]].values\n",
    "#     data.loc[idx, 'error_group'] = 100-1\n",
    "#     data.loc[data['weight']<20, \"weight\"] *= 10\n",
    "#     data.loc[data['weight']<20, \"weight\"] *= 10\n",
    "#     data.loc[data['weight']<25, \"weight\"] += 100\n",
    "\n",
    "    # preasure correction\n",
    "\n",
    "    data.loc[data[\"ap_hi\"] < 0, \"ap_hi\"] *= -1\n",
    "    data.loc[data[\"ap_lo\"] < 0, \"ap_lo\"] *= -1\n",
    "    \n",
    "    for i in range(10):\n",
    "        str_i = str(i)\n",
    "        data['hi_' + str_i + 's'] = data['ap_hi'].apply(lambda x: str(x).count(str_i))\n",
    "#         data[str(i)+'lo'] = data['ap_lo'].apply(lambda x: str(x).count(str(i)))\n",
    "#         data[str(i)+'hilo'] = data[str(i)+'hi']+data[str(i)+'lo']\n",
    "#         data=data.drop(str(i)+'lo', axis=1)\n",
    "        for j in range(10):\n",
    "            str_j = str_i + str(j)\n",
    "            data['hi_' + str_j + 's'] = data['ap_hi'].apply(lambda x: str(x).count(str_j))\n",
    "        \n",
    "\n",
    "#     data.loc[(data['ap_lo'] < 20), 'error_group'] = 5\n",
    "#     data.loc[(data['ap_hi'] < 50), 'error_group'] = 6\n",
    "    # data.loc[(data['ap_lo'] > 250), 'error_group'] = 1\n",
    "    # data.loc[(data['ap_lo'] > 4000), 'error_group'] = 2\n",
    "    # data.loc[(data['ap_hi'] > 250), 'error_group'] = 3\n",
    "#     data.loc[(data['ap_hi'] > 10000), 'error_group'] = 4\n",
    "\n",
    "    data.loc[(data[\"ap_hi\"] < 20) & (data[\"ap_hi\"] > 10), \"ap_hi\"] *= 10\n",
    "    data.loc[(data[\"ap_lo\"] < 15) & (data[\"ap_lo\"] > 2), \"ap_lo\"] *= 10\n",
    "\n",
    "    idx = data['ap_hi'] > 10000\n",
    "    data.loc[idx, 'ap_hi'] = 10 * (data.loc[idx, 'ap_hi'] // 1000)\n",
    "    data.loc[data['ap_lo'] >= 10000, 'ap_lo'] //= 100\n",
    "\n",
    "#     data.loc[data['ap_lo'].isin([1100])&(data['ap_hi']>160), 'ap_lo'] = 110\n",
    "#     data.loc[data['ap_lo'].isin([1100]), 'ap_lo'] = 100\n",
    "#     data.loc[(data['ap_lo']>250)&(data['ap_lo']<4000)&(data['ap_lo']%100==0), 'ap_lo'] /= 10\n",
    "    \n",
    "    manual_update = [\n",
    "        \n",
    "# id\tage\tgender\theight\tweight\tap_hi\tap_lo\tcholesterol\tgluc\tsmoke\talco\tactive\tcardio\tBMI\n",
    "# 12494\t16905\t2\t163\t63.0\t1\t2088\t1\t1\t1.0\t0.0\t1.0\t0\t23.711845\n",
    "# 42591\t18191\t2\t162\t63.0\t140\t1900\t1\t1\t1.0\t0.0\t1.0\t1\t24.005487\n",
    "# 78873\t20323\t1\t168\t68.0\t130\t1900\t1\t1\t0.0\t0.0\t1.0\t0\t24.092971\n",
    "# 51749\t18419\t1\t169\t62.0\t1\t2088\t1\t1\t0.0\t0.0\t1.0\t-5\t21.707923\n",
    "        (12494, ['ap_hi', 'ap_lo'], [120, 80]),\n",
    "        (42591, ['ap_hi', 'ap_lo'], [140, 90]), # ?\n",
    "        (78873, ['ap_hi', 'ap_lo'], [130, 100]), # ?\n",
    "        (51749, ['ap_hi', 'ap_lo'], [120, 80]),\n",
    "        \n",
    "# 57807\t20496\t1\t164\t62.0\t70\t1100\t1\t1\t0.0\t0.0\t0.0\t0\t23.051755\n",
    "# 60477\t18716\t1\t171\t80.0\t1\t1088\t1\t1\t0.0\t0.0\t1.0\t1\t27.358845\n",
    "# 91198\t18182\t2\t186\t95.0\t100\t901\t2\t2\t0.0\t0.0\t1.0\t0\t27.459822\n",
    "# 6580\t19079\t1\t176\t92.0\t1\t1099\t1\t1\t0.0\tNaN\t1.0\t-5\t29.700413\n",
    "        (57807, ['ap_hi', 'ap_lo'], [170, 100]),\n",
    "        (60477, ['ap_hi', 'ap_lo'], [110, 80]),\n",
    "        (91198, ['ap_hi', 'ap_lo'], [100, 90]),\n",
    "        (6580,  ['ap_hi', 'ap_lo'], [110, 90]),\n",
    "        \n",
    "# 44701\t22801\t1\t163\t115.0\t20\t170\t1\t1\t0.0\t0.0\t1.0\t1\t43.283526\n",
    "# 94673\t22551\t1\t169\t88.0\t10\t160\t3\t3\t0.0\t0.0\t0.0\t1\t30.811246\n",
    "        (44701, ['ap_hi', 'ap_lo'], [120, 70]),\n",
    "        (94673,  ['ap_hi', 'ap_lo'], [110, 60]),\n",
    "        \n",
    "    ]\n",
    "    for idx, cols, update in manual_update:\n",
    "        data.loc[data['id']==idx, cols] = update\n",
    "        \n",
    "\n",
    "    return data\n",
    "\n",
    "def new_features(data):\n",
    "    data[\"BMI\"] = 10000 * data[\"weight\"] / (data[\"height\"] * data[\"height\"])\n",
    "    data[\"BMI_1\"] = 100 * data[\"weight\"] / data[\"height\"]\n",
    "    data[\"BMI_3\"] = 1000000 * data[\"weight\"] / (data[\"height\"] * data[\"height\"] * data[\"height\"])\n",
    "    data[\"BMI_4\"] = 100000000 * data[\"weight\"] / (data[\"height\"] * data[\"height\"] * data[\"height\"] * data[\"height\"])\n",
    "    data[\"ap_dif\"] = data[\"ap_hi\"] - data[\"ap_lo\"]\n",
    "    data[\"MAP\"] = (data[\"ap_lo\"] * 2 + data[\"ap_dif\"] )/ 3.0\n",
    "    \n",
    "    data[\"age_years\"] = np.round(data[\"age\"] / 365)\n",
    "    \n",
    "#     age_bins = [0, 10000, 14000, 14980, 15700, 16420, 17140, 17890, 18625, 19355, 20090, 20820, 21555, 22280, 22990, 24000]\n",
    "#     age_names = [25, 30, 40, 42, 44, 46, 48, 50, 52, 54, 56, 58, 60, 62, 64]\n",
    "    age_bins = [0, 14000, 14980, 15700, 16420, 17140, 17890, 18625, 19355, 20090, 20820, 21555, 22280, 22990, 24000]\n",
    "    age_names = [30, 40, 42, 44, 46, 48, 50, 52, 54, 56, 58, 60, 62, 64]\n",
    "    data[\"age_group\"] = pd.cut(data['age'], age_bins, labels=age_names).astype('str')\n",
    "    \n",
    "    bins = [0, 70, 90, 120, 140, 160, 190, 20000]\n",
    "    names = list(range(len(bins)-1))\n",
    "    data[\"ap_hi_group\"] = pd.cut(data['ap_hi'], bins, labels=names).astype('str')\n",
    "    \n",
    "    bins = [-1, 40, 60, 80, 90, 100, 2000000]\n",
    "    names = list(range(len(bins)-1))\n",
    "    data[\"ap_lo_group\"] = pd.cut(data['ap_lo'], bins, labels=names).astype('str')\n",
    "    \n",
    "    data[\"weight_group\"] = pd.qcut(data['weight'], 10, labels=False).astype('str')\n",
    "    \n",
    "    data[\"height_group\"] = pd.qcut(data['height'], 10, labels=False).astype('str')\n",
    "    data[\"BMI_group\"] = pd.qcut(data['height'], 10, labels=False).astype('str')\n",
    "\n",
    "    return data"
   ]
  },
  {
   "cell_type": "code",
   "execution_count": null,
   "metadata": {
    "collapsed": false
   },
   "outputs": [],
   "source": [
    "train = pd.read_csv('train.csv', sep=';')\n",
    "test = pd.read_csv('test.csv', sep=';', na_values='None')\n",
    "\n",
    "train = clean_data(train)\n",
    "test = clean_data(test)\n",
    "\n",
    "train = new_features(train)\n",
    "test = new_features(test)\n",
    "\n",
    "X_train = train.drop([ 'cardio'], axis=1)\n",
    "y_train = train['cardio'].values.ravel()\n",
    "X_test = test.drop([], axis=1)\n",
    "\n",
    "columns_to_interact = ['age_group', 'gender', 'MAP', 'error_group', 'cholesterol', 'gluc', \n",
    "                       'BMI_group', 'smoke', 'alco', 'active', \"ap_hi_group\", \"ap_lo_group\",\n",
    "                      \"weight_group\", \"height_group\"]\n",
    "temp = utils.generate_interactions(X_train, columns_to_interact, degree=5, white_list=best_interactions)\n",
    "X_train = pd.concat((X_train, temp), axis=1)\n",
    "X_test = pd.concat((X_test, utils.generate_interactions(X_test, columns_to_interact, degree=5, white_list=best_interactions)), axis=1)\n",
    "print(temp.columns)\n",
    "\n",
    "X = pd.concat((X_train, X_test), axis=0)\n",
    "\n",
    "# from sklearn.preprocessing import LabelEncoder\n",
    "# from collections import defaultdict\n",
    "# label_encoder_dict = defaultdict(LabelEncoder)\n",
    "# columns_to_encode = ['age_group'] + list(temp.columns)\n",
    "\n",
    "\n",
    "# X[columns_to_encode].apply(lambda x: label_encoder_dict[x.name].fit(x))\n",
    "# X_train[columns_to_encode] = X_train[columns_to_encode].apply(lambda x: label_encoder_dict[x.name].transform(x))\n",
    "# X_test[columns_to_encode] = X_test[columns_to_encode].apply(lambda x: label_encoder_dict[x.name].transform(x))"
   ]
  },
  {
   "cell_type": "code",
   "execution_count": 6,
   "metadata": {
    "collapsed": true
   },
   "outputs": [],
   "source": [
    "from sklearn.model_selection import train_test_split\n",
    "__, idx = train_test_split(list(range(X_train.shape[0])), test_size=0.101, random_state=42)\n",
    "X_train.loc[idx, 'alco'] = np.nan\n",
    "__, idx = train_test_split(list(range(X_train.shape[0])), test_size=0.101, random_state=43)\n",
    "X_train.loc[idx, 'smoke'] = np.nan\n",
    "__, idx = train_test_split(list(range(X_train.shape[0])), test_size=0.096, random_state=44)\n",
    "X_train.loc[idx, 'active'] = np.nan\n",
    "\n",
    "from sklearn.neighbors import KNeighborsRegressor, KNeighborsClassifier\n",
    "from sklearn.model_selection import StratifiedKFold\n",
    "from sklearn.preprocessing import scale\n",
    "from sklearn.model_selection import cross_val_score\n",
    "from sklearn.base import clone\n",
    "\n",
    "def impute_nans(model, X_train, X_test, columns, target, perform_cv = False, scoring='accuracy'):\n",
    "    X = pd.concat((X_train, X_test), axis=0)\n",
    "    train_idx = ~X[target].isnull()\n",
    "    model = clone(model)\n",
    "    model.fit(X.loc[train_idx, columns], X.loc[train_idx, target])\n",
    "    X_train.loc[X_train[target].isnull(), target] = model.predict(X_train.loc[X_train[target].isnull(), columns])\n",
    "    X_test.loc[X_test[target].isnull(), target] = model.predict(X_test.loc[X_test[target].isnull(), columns])\n",
    "    \n",
    "    if perform_cv:\n",
    "        n_folds = 7\n",
    "        kf = StratifiedKFold(random_state=111, n_splits=n_folds, shuffle=True)\n",
    "        scores = cross_val_score(model, X.loc[train_idx, columns], X.loc[train_idx, target], cv=kf, scoring=scoring)\n",
    "        print(target, np.mean(scores), 'on', n_folds, 'folds', 'with mean on train', X.loc[train_idx, target].mean())\n",
    "    \n",
    "params = {\n",
    "    'colsample_bytree': 0.8,\n",
    "    'learning_rate': 0.1,\n",
    "    'n_estimators': 200,\n",
    "    'subsample': 0.8,\n",
    "    'n_jobs': 4,\n",
    "    'random_state': 2707,\n",
    "    'silent': True,\n",
    "}\n",
    "clf = xgb.XGBClassifier(**params)\n",
    "\n",
    "columns = ['age', 'gender', 'height', 'weight', 'ap_hi', 'ap_lo', 'cholesterol', 'gluc','BMI', 'ap_dif', 'MAP']\n",
    "impute_nans(clf, X_train, X_test, columns, 'smoke')#, perform_cv = True)\n",
    "\n",
    "columns = ['age', 'gender', 'height', 'weight', 'ap_hi', 'ap_lo', 'cholesterol', 'gluc','BMI', 'ap_dif', 'MAP', ]\n",
    "impute_nans(clf, X_train, X_test, columns, 'alco')#, perform_cv = True)\n",
    "\n",
    "columns = ['age', 'gender', 'height', 'weight', 'ap_hi', 'ap_lo', 'cholesterol', 'gluc','BMI', 'ap_dif', 'MAP', ]\n",
    "impute_nans(clf, X_train, X_test, columns, 'active')#, perform_cv = True)"
   ]
  },
  {
   "cell_type": "code",
   "execution_count": 7,
   "metadata": {
    "collapsed": false
   },
   "outputs": [],
   "source": [
    "use_columns = [\n",
    "    'age_group', 'gender', 'height', 'weight', 'ap_hi', 'ap_lo', 'cholesterol', 'gluc', 'smoke', 'alco', 'active',\n",
    "'BMI',\n",
    " 'MAP',\n",
    "    'ap_dif',\n",
    "]\n",
    "mean_columns = [\n",
    "# #     'ap_hi', \n",
    "#     'gluc', \n",
    "# #     'MAP_active',\n",
    "# #     'gender_MAP', \n",
    "#     'cholesterol_gluc', 'gluc_smoke',\n",
    "#                 'gluc_active', 'gluc_alco', 'smoke_active', 'cholesterol_gluc_active', 'gender_cholesterol_gluc'\n",
    "] #, 'age_group_MAP', 'gender_MAP'\n",
    "\n",
    "# for i in range(10):\n",
    "#         str_i = str(i)\n",
    "#         use_columns.append(str_i)\n",
    "#         for j in range(10):\n",
    "#             str_j = str_i + str(j)\n",
    "#             use_columns.append(str_j)"
   ]
  },
  {
   "cell_type": "code",
   "execution_count": 8,
   "metadata": {
    "collapsed": false
   },
   "outputs": [
    {
     "data": {
      "text/plain": [
       "180"
      ]
     },
     "execution_count": 8,
     "metadata": {},
     "output_type": "execute_result"
    }
   ],
   "source": [
    "import gc\n",
    "gc.collect()"
   ]
  },
  {
   "cell_type": "code",
   "execution_count": 9,
   "metadata": {
    "collapsed": false
   },
   "outputs": [],
   "source": [
    "# loo = pd.read_csv('LOO_results.csv', sep=',', index_col='index')\n",
    "# a = X_train.join(loo)\n",
    "# # a=X_train.copy()\n",
    "# a['score']=2-a['score']"
   ]
  },
  {
   "cell_type": "code",
   "execution_count": 10,
   "metadata": {
    "collapsed": false
   },
   "outputs": [],
   "source": [
    "# X.loc[(X['MAP']<100)&(X['MAP']>40), 'MAP'].hist(bins=60)"
   ]
  },
  {
   "cell_type": "code",
   "execution_count": 11,
   "metadata": {
    "collapsed": false
   },
   "outputs": [],
   "source": [
    "# (X.loc[(X['MAP']<100)&(X['MAP']>40), 'MAP']//5).hist(bins=60)"
   ]
  },
  {
   "cell_type": "code",
   "execution_count": 12,
   "metadata": {
    "collapsed": false,
    "scrolled": false
   },
   "outputs": [],
   "source": [
    "# X=pd.concat((X_train, X_test), axis=0)\n",
    "# result = np.ndarray(0)\n",
    "# for c in mean_columns:\n",
    "#     print(c)\n",
    "#     pd.DataFrame(X[c].value_counts().values).hist(bins=100)\n",
    "#     plt.show()\n",
    "# #     result = np.append(result, X[c].value_counts().values, axis=0)\n",
    "# # pd.DataFrame(result).hist(bins=250)\n",
    "# # pd.DataFrame(result[result<100]).hist(bins=100)"
   ]
  },
  {
   "cell_type": "code",
   "execution_count": 9,
   "metadata": {
    "collapsed": false
   },
   "outputs": [],
   "source": [
    "X_train['age_group'] = X_train['age_group'].astype('float')\n",
    "X_test['age_group'] = X_test['age_group'].astype('float')"
   ]
  },
  {
   "cell_type": "code",
   "execution_count": null,
   "metadata": {
    "collapsed": false
   },
   "outputs": [
    {
     "name": "stdout",
     "output_type": "stream",
     "text": [
      "2000\n",
      "3000\n",
      "4000\n",
      "5000\n",
      "6000\n",
      "7000\n",
      "8000\n",
      "9000\n",
      "10000\n"
     ]
    }
   ],
   "source": [
    "from sklearn.model_selection import LeaveOneOut\n",
    "import gc\n",
    "\n",
    "loo = LeaveOneOut()\n",
    "loo.get_n_splits(X_train)\n",
    "params = {\n",
    "    'colsample_bytree': 0.8,\n",
    "    'learning_rate': 0.1,\n",
    "    'n_estimators': 200,\n",
    "    'subsample': 0.8,\n",
    "    'n_jobs': 1,\n",
    "    'random_state': 2707,\n",
    "    'silent': True,\n",
    "}\n",
    "\n",
    "n = 0\n",
    "train_predict = pd.read_csv('loo_my.csv', sep=';', header=None).values.ravel() # np.ones(X_train.shape[0])*-1\n",
    "\n",
    "for train_idx, test_idx in loo.split(X_train):\n",
    "    n += 1\n",
    "    if train_predict[test_idx]!=-1:\n",
    "        continue\n",
    "    if n % 1000 == 0:\n",
    "        print(n)\n",
    "        pd.DataFrame(train_predict).to_csv('loo_my.csv', index=False, header=False, sep=';')\n",
    "    \n",
    "    clf = xgb.XGBClassifier(**params)\n",
    "    clf.fit(X_train[use_columns].iloc[train_idx], y_train[train_idx])\n",
    "    train_predict[test_idx] = clf.predict_proba(X_train[use_columns].iloc[test_idx])[:,1]\n",
    "    gc.collect()\n",
    "pd.DataFrame(train_predict).to_csv('loo_my.csv', index=False, header=False, sep=';')"
   ]
  },
  {
   "cell_type": "code",
   "execution_count": null,
   "metadata": {
    "collapsed": true
   },
   "outputs": [],
   "source": [
    "pd.DataFrame(train_predict).to_csv('loo_my.csv', index=False, header=False, sep=';')"
   ]
  },
  {
   "cell_type": "code",
   "execution_count": null,
   "metadata": {
    "collapsed": false
   },
   "outputs": [],
   "source": [
    "pd.Series(train_predict).value_counts()"
   ]
  },
  {
   "cell_type": "code",
   "execution_count": 31,
   "metadata": {
    "collapsed": false
   },
   "outputs": [
    {
     "data": {
      "text/html": [
       "<div>\n",
       "<style>\n",
       "    .dataframe thead tr:only-child th {\n",
       "        text-align: right;\n",
       "    }\n",
       "\n",
       "    .dataframe thead th {\n",
       "        text-align: left;\n",
       "    }\n",
       "\n",
       "    .dataframe tbody tr th {\n",
       "        vertical-align: top;\n",
       "    }\n",
       "</style>\n",
       "<table border=\"1\" class=\"dataframe\">\n",
       "  <thead>\n",
       "    <tr style=\"text-align: right;\">\n",
       "      <th></th>\n",
       "      <th>0</th>\n",
       "    </tr>\n",
       "  </thead>\n",
       "  <tbody>\n",
       "  </tbody>\n",
       "</table>\n",
       "</div>"
      ],
      "text/plain": [
       "Empty DataFrame\n",
       "Columns: [0]\n",
       "Index: []"
      ]
     },
     "execution_count": 31,
     "metadata": {},
     "output_type": "execute_result"
    }
   ],
   "source": [
    "a=pd.read_csv('loo_my.csv', sep=';', header=None)\n",
    "a.loc[a[0].isnull()]\n",
    "# a.shape"
   ]
  },
  {
   "cell_type": "code",
   "execution_count": null,
   "metadata": {
    "collapsed": true
   },
   "outputs": [],
   "source": []
  },
  {
   "cell_type": "code",
   "execution_count": null,
   "metadata": {
    "collapsed": false,
    "scrolled": false
   },
   "outputs": [],
   "source": [
    "import utils\n",
    "params = {\n",
    "    'colsample_bytree': 0.8,\n",
    "    #'gamma': 0.125,\n",
    "    'learning_rate': 0.1,\n",
    "#     'max_depth': 4,\n",
    "    # 'min_child_weight': 1,\n",
    "    'n_estimators': 224,\n",
    "    'subsample': 0.8,\n",
    "    # 'reg_alpha': 0.0,\n",
    "    # 'reg_lambda': 2.0,\n",
    "    \n",
    "    'n_jobs': 4,\n",
    "    'random_state': 2707,\n",
    "    'silent': True,\n",
    "}\n",
    "\n",
    "utils.execute_model(xgb.XGBClassifier(**params),\n",
    "              X_train,\n",
    "              y_train,\n",
    "              X_test,\n",
    "              model_name=\"model1+\",\n",
    "               mean_columns = mean_columns,\n",
    "              use_columns = use_columns,\n",
    "              n_splits=15,\n",
    "              n_folds=10,\n",
    "#               stratification_groups=rew,\n",
    "              alpha=20,\n",
    "#               seed=150\n",
    "             )\n",
    "gc.collect()\n",
    "# 10 folds logloss:\n",
    "# [0.53291704422372443, 0.5443312752011974, 0.54886863255657625, 0.53516634300212229, 0.53726825344604312, 0.52536659773190864, 0.54180775521269742, 0.54391921066351068, 0.53444038602695909, 0.53302140455759295]\n",
    "# mean: 0.537710690262\n",
    "# std: 0.00662097344978\n",
    "# 15 Splits logloss:\n",
    "# [0.53710825758951974, 0.5411839522050822, 0.53794312811962219, 0.53275829491839444, 0.54280702872209363, 0.53248789428678656, 0.53687309152124529, 0.53289596940278317, 0.53803566650621171, 0.53810661018600148, 0.53506605126855322, 0.54186916663160944, 0.53686088768378049, 0.5389666476164654, 0.53387849979650193]\n",
    "# mean: 0.537122743097\n",
    "# std: 0.0031674337146\n",
    "# model1 results saved!"
   ]
  },
  {
   "cell_type": "code",
   "execution_count": null,
   "metadata": {
    "collapsed": false
   },
   "outputs": [],
   "source": [
    "params = {\n",
    "    'colsample_bytree': 0.8,\n",
    "    #'gamma': 0.125,\n",
    "    'learning_rate': 0.1,\n",
    "    # 'max_depth': 9,\n",
    "    # 'min_child_weight': 1,\n",
    "    'n_estimators': 200,\n",
    "    'subsample': 0.8,\n",
    "    # 'reg_alpha': 0.0,\n",
    "    # 'reg_lambda': 2.0,\n",
    "    'tree_method': 'hist',\n",
    "    'grow_policy': 'lossguide',\n",
    "    \n",
    "    'n_jobs': 1,\n",
    "    'random_state': 2707,\n",
    "    'silent': True,\n",
    "}\n",
    "\n",
    "utils.execute_model(xgb.XGBClassifier(**params),\n",
    "              X_train,\n",
    "              y_train,\n",
    "              X_test,\n",
    "              model_name=\"model2+\",\n",
    "              mean_columns = mean_columns,\n",
    "              use_columns = use_columns,\n",
    "              n_splits=15,\n",
    "              n_folds=10,\n",
    "#               stratification_groups=rew,\n",
    "              alpha=20\n",
    "             )\n",
    "gc.collect()\n",
    "# 10 folds logloss:\n",
    "# [0.53260452189206642, 0.54356527722526271, 0.54912191522116438, 0.53542797206519244, 0.53751433990565378, 0.52485793828534233, 0.54176204704486508, 0.54439543156634218, 0.53539547971672896, 0.53310668233666803]\n",
    "# mean: 0.537775160526\n",
    "# std: 0.00669792931425\n",
    "# 15 Splits logloss:\n",
    "# [0.53761403867575286, 0.54134343673111951, 0.53794831141736743, 0.53246545070220785, 0.54284968435188097, 0.53256692490579061, 0.5367211861235498, 0.5332958718095373, 0.53813802041428871, 0.53835573232952039, 0.53518534024897735, 0.54186608721225504, 0.53689329263676422, 0.53901083277677597, 0.53386733317131929]\n",
    "# mean: 0.5372081029\n",
    "# std: 0.00318011438105\n",
    "# model2 results saved!"
   ]
  },
  {
   "cell_type": "code",
   "execution_count": null,
   "metadata": {
    "collapsed": false
   },
   "outputs": [],
   "source": [
    "import lightgbm as lgb\n",
    "params = {\n",
    "    'colsample_bytree': 0.8,\n",
    "    'learning_rate': 0.1,\n",
    "#     'num_leaves': 2**3,\n",
    "#     'min_child_weight': 1,\n",
    "    'n_estimators': 44,\n",
    "    'subsample': 0.8,\n",
    "#     'reg_alpha': 1.2,\n",
    "#     'reg_lambda': 0.0,\n",
    "       \n",
    "    'nthread': 1,\n",
    "    'seed': 2707,\n",
    "    'silent': True,\n",
    "}\n",
    "\n",
    "utils.execute_model(lgb.LGBMClassifier(**params),\n",
    "              X_train,\n",
    "              y_train,\n",
    "              X_test,\n",
    "              model_name=\"model3+\",\n",
    "              mean_columns = mean_columns,\n",
    "              use_columns = use_columns,\n",
    "              n_splits=15,\n",
    "              n_folds=10,\n",
    "#               stratification_groups=rew,\n",
    "              alpha=20\n",
    "             )\n",
    "gc.collect()\n",
    "# 10 folds logloss:\n",
    "# [0.53343111141185251, 0.54411143767050563, 0.54946981792109495, 0.53572293596647347, 0.53856368378590369, 0.52596408000293715, 0.54156698655989965, 0.54385119115682679, 0.53417427867914336, 0.53393460506511559]\n",
    "# mean: 0.538079012822\n",
    "# std: 0.00646690224982\n",
    "# 15 Splits logloss:\n",
    "# [0.53730108009319477, 0.54179601041640013, 0.53841153030613909, 0.53273513566356923, 0.54331052022759863, 0.53307633902951568, 0.53718380231723861, 0.53375225691727657, 0.53848255338605422, 0.53859474874074931, 0.53585761204767779, 0.54196359812544492, 0.53744967867465532, 0.53940724907473092, 0.53469619495508147]\n",
    "# mean: 0.537601220665\n",
    "# std: 0.00311597365397\n",
    "# model3 results saved!"
   ]
  },
  {
   "cell_type": "code",
   "execution_count": null,
   "metadata": {
    "collapsed": false
   },
   "outputs": [],
   "source": [
    "models = ['model1','model2','model3']\n",
    "result = utils.merge_models(models, method='mean')\n",
    "pd.DataFrame(result).to_csv('models1234_mean.csv', index=False, header=False, sep=';')"
   ]
  },
  {
   "cell_type": "code",
   "execution_count": null,
   "metadata": {
    "collapsed": false
   },
   "outputs": [],
   "source": [
    "models = ['model1+','model2+','model3+']\n",
    "result = utils.merge_models(models, method='mean')\n",
    "pd.DataFrame(result).to_csv('models1234_mean.csv', index=False, header=False, sep=';')"
   ]
  },
  {
   "cell_type": "code",
   "execution_count": null,
   "metadata": {
    "collapsed": true
   },
   "outputs": [],
   "source": [
    "# 0.537735274001\t0.537762262313 = 0.5439345\n",
    "# 0.538040557134\t0.538014744278 = 0.5436639\n",
    "# 0.5374\t0.5374                 = 0.5440495\n",
    "# 0.537603843701\t0.537606129043 = 0.5448082\n",
    "\n",
    "# Со столбцами Стаса альфа=20\n",
    "# 0.537387582699\t0.537559051543 = 0.5482682\n",
    "\n",
    "# Без них\n",
    "# 0.538947547578\t0.538808662263 = 0.5441786"
   ]
  },
  {
   "cell_type": "code",
   "execution_count": null,
   "metadata": {
    "collapsed": true
   },
   "outputs": [],
   "source": [
    "from sklearn.ensemble import RandomForestClassifier"
   ]
  },
  {
   "cell_type": "code",
   "execution_count": null,
   "metadata": {
    "collapsed": false
   },
   "outputs": [],
   "source": [
    "clf = RandomForestClassifier(n_estimators=200)\n",
    "utils.execute_model(clf,\n",
    "              X_train,\n",
    "              y_train,\n",
    "              X_test,\n",
    "              model_name=\"model4\",\n",
    "              mean_columns = mean_columns,\n",
    "              use_columns = use_columns,\n",
    "              n_splits=15,\n",
    "              n_folds=10,\n",
    "#               stratification_groups=rew,\n",
    "              alpha=10\n",
    "             )\n",
    "gc.collect()"
   ]
  },
  {
   "cell_type": "code",
   "execution_count": null,
   "metadata": {
    "collapsed": true
   },
   "outputs": [],
   "source": []
  },
  {
   "cell_type": "code",
   "execution_count": null,
   "metadata": {
    "collapsed": true
   },
   "outputs": [],
   "source": []
  }
 ],
 "metadata": {
  "kernelspec": {
   "display_name": "Python 3",
   "language": "python",
   "name": "python3"
  },
  "language_info": {
   "codemirror_mode": {
    "name": "ipython",
    "version": 3
   },
   "file_extension": ".py",
   "mimetype": "text/x-python",
   "name": "python",
   "nbconvert_exporter": "python",
   "pygments_lexer": "ipython3",
   "version": "3.6.0"
  }
 },
 "nbformat": 4,
 "nbformat_minor": 2
}
