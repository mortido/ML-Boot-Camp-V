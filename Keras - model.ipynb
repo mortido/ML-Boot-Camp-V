{
 "cells": [
  {
   "cell_type": "code",
   "execution_count": 1,
   "metadata": {
    "collapsed": false
   },
   "outputs": [
    {
     "name": "stderr",
     "output_type": "stream",
     "text": [
      "Using Theano backend.\n"
     ]
    }
   ],
   "source": [
    "import numpy as np\n",
    "import pandas as pd\n",
    "from keras.models import Sequential\n",
    "from keras.layers import Dense\n",
    "from keras.wrappers.scikit_learn import KerasClassifier\n",
    "from keras.utils import np_utils\n",
    "from sklearn.model_selection import cross_val_score\n",
    "from sklearn.model_selection import KFold\n",
    "from sklearn.preprocessing import LabelEncoder\n",
    "from sklearn.pipeline import Pipeline\n",
    "\n",
    "from hyperopt import hp, fmin, tpe, hp, STATUS_OK, Trials\n",
    "\n",
    "\n",
    "import utils\n",
    "\n",
    "seed = 7\n",
    "np.random.seed(seed)"
   ]
  },
  {
   "cell_type": "code",
   "execution_count": 85,
   "metadata": {
    "collapsed": false
   },
   "outputs": [],
   "source": [
    "from keras.layers.core import Dense, Dropout\n",
    "from keras.layers.advanced_activations import LeakyReLU\n",
    "from keras.models import Sequential\n",
    "from keras.optimizers import Adamax\n",
    "import pandas as pd\n",
    "\n",
    "\n",
    "class KerasModel(object):\n",
    "    def __init__(self,\n",
    "                 var_num,\n",
    "                 epochs=70,\n",
    "                 learn_rate=0.1,\n",
    "                 config=None,\n",
    "                 batch_size=512,\n",
    "                 verbose=0,\n",
    "                 validation_split=0.2,\n",
    "                 loss=\"binary_crossentropy\"):\n",
    "\n",
    "        self.epochs = epochs\n",
    "        self.batch_size = batch_size\n",
    "        self.verbose = verbose\n",
    "        self.validation_split = validation_split\n",
    "        \n",
    "        self.model = Sequential()\n",
    "        model = self.model\n",
    "        \n",
    "        if config is None:\n",
    "            config =[(var_num, 0.0)]\n",
    "        else:\n",
    "            config = config.copy()\n",
    "            \n",
    "        n, dp = config.pop(0)\n",
    "\n",
    "        model.add(Dense(n, input_dim=var_num, kernel_initializer='uniform'))\n",
    "        model.add(LeakyReLU())\n",
    "        if 0 < dp < 1:\n",
    "            model.add(Dropout(dp))\n",
    "        \n",
    "        while config:\n",
    "            n, dp = config.pop(0)\n",
    "            model.add(Dense(n, kernel_initializer='uniform'))\n",
    "            model.add(LeakyReLU())\n",
    "            if 0 < dp < 1:\n",
    "                model.add(Dropout(dp))\n",
    "\n",
    "\n",
    "        model.add(Dense(1, activation='sigmoid'))\n",
    "        opt = Adamax(lr=learn_rate)\n",
    "\n",
    "        model.compile(loss=loss, optimizer=opt, metrics=['accuracy'])\n",
    "\n",
    "\n",
    "    def fit(self, X, y, sample_weight=None, callbacks=[]):\n",
    "        process_X = X.values if hasattr(X, 'iloc') else X\n",
    "        process_y = y\n",
    "        return self.model.fit(process_X, process_y, batch_size=self.batch_size,\n",
    "                       epochs=self.epochs, verbose=self.verbose,\n",
    "                       sample_weight=sample_weight,\n",
    "                       callbacks=callbacks,\n",
    "                       validation_split=self.validation_split,\n",
    "                       shuffle=True)\n",
    "\n",
    "    def predict_proba(self, X):\n",
    "        process_x = X.values if hasattr(X, 'iloc') else X\n",
    "        result  = self.model.predict(process_x)\n",
    "        classone_probs = result\n",
    "        classzero_probs = 1.0 - classone_probs\n",
    "        return np.hstack((classzero_probs, classone_probs))\n",
    "#         return result\n",
    "    \n",
    "    def predict(self, X):\n",
    "        return np.argmax(self.predict_proba(X), axis=1)"
   ]
  },
  {
   "cell_type": "code",
   "execution_count": 3,
   "metadata": {
    "collapsed": true
   },
   "outputs": [],
   "source": [
    "import matplotlib.pyplot as plt\n",
    "plt.style.use('ggplot')\n",
    "%matplotlib inline\n",
    "\n",
    "def plot_history(history):\n",
    "    # list all data in history\n",
    "    print(history.keys())\n",
    "    # summarize history for accuracy\n",
    "    plt.figure(figsize=(13,7))\n",
    "    plt.plot(history['acc'])\n",
    "    plt.plot(history['val_acc'])\n",
    "    plt.title('model accuracy')\n",
    "    plt.ylabel('accuracy')\n",
    "    plt.xlabel('epoch')\n",
    "    plt.legend(['train', 'test'], loc='upper left')\n",
    "    plt.show()\n",
    "    # summarize history for loss\n",
    "    plt.figure(figsize=(13,7))\n",
    "    plt.plot(history['loss'])\n",
    "    plt.plot(history['val_loss'])\n",
    "    plt.title('model loss')\n",
    "    plt.ylabel('loss')\n",
    "    plt.xlabel('epoch')\n",
    "    plt.legend(['train', 'test'], loc='upper left')\n",
    "    plt.show()"
   ]
  },
  {
   "cell_type": "code",
   "execution_count": 86,
   "metadata": {
    "collapsed": false
   },
   "outputs": [],
   "source": [
    "train = pd.read_csv('train.csv', sep=';')\n",
    "test = pd.read_csv('test.csv', sep=';', na_values='None')\n",
    "\n",
    "train = utils.clean_data(train)\n",
    "test = utils.clean_data(test)\n",
    "\n",
    "train = utils.new_features(train)\n",
    "test = utils.new_features(test)\n",
    "\n",
    "X_train = train.drop([ 'cardio'], axis=1)\n",
    "y_train = train['cardio'].values.ravel()\n",
    "X_test = test.drop([], axis=1)\n",
    "\n",
    "ccc = ['age', 'age_group', 'height', 'weight', 'ap_hi', 'ap_lo', 'cholesterol', 'gluc', 'BMI', 'MAP']\n",
    "def new_cols(data):    \n",
    "    for col1 in ccc:\n",
    "        data[col1 + '_log'] = np.log(data[col1] + 1.1)\n",
    "        for col2 in ccc:\n",
    "            data['%s_mul_%s' % (col1, col2)] = data[col1] * data[col2]\n",
    "            data['%s_mul_log_%s' % (col1, col2)] = data[col1] * np.log(data[col2] + 1)\n",
    "            data['%s_div_log_%s' % (col1, col2)] = data[col1] / (np.log(data[col2] + 1) + 1)\n",
    "\n",
    "            if col2 == col1:\n",
    "                continue\n",
    "\n",
    "            data['%s_div_%s' % (col1, col2)] = data[col1] / (data[col2] + 1)\n",
    "\n",
    "new_cols(X_train)\n",
    "new_cols(X_test)\n",
    "\n",
    "use_columns = [\n",
    "\"gender\",\n",
    "\"height\",\n",
    "\"weight\",\n",
    "\"ap_hi\",\n",
    "\"ap_lo\",\n",
    "\"cholesterol\",\n",
    "# \"gluc\",\n",
    "# \"active_fair\",\n",
    "\"smoke_restored\",\n",
    "\"alco_restored\",\n",
    "\"active_restored\",\n",
    "\"height_mul_log_gluc\",\n",
    "\"BMI\",\n",
    "\"age_group\",\n",
    "# \"cholesterol_div_log_age_group\",\n",
    "\"cholesterol_div_log_gluc\",\n",
    "\"gluc_mul_log_age\",\n",
    "# \"age_group_mul_log_ap_lo\",\n",
    "]\n",
    "\n",
    "# scale_cols=[\n",
    "# \"height\",\n",
    "# \"weight\",\n",
    "# \"ap_hi\",\n",
    "# \"ap_lo\",\n",
    "# \"cholesterol\",\n",
    "# \"height_mul_log_gluc\",\n",
    "# \"BMI\",\n",
    "# \"age_group\",\n",
    "# \"cholesterol_div_log_gluc\",\n",
    "# \"gluc_mul_log_age\",\n",
    "# ]\n",
    "\n",
    "X_train = X_train[use_columns]\n",
    "X_test = X_test[use_columns]\n",
    "\n",
    "X = pd.concat((X_train,X_test), axis=0)\n",
    "\n",
    "from sklearn.preprocessing import StandardScaler\n",
    "scaler = StandardScaler().fit(X)\n",
    "X_train = pd.DataFrame(scaler.transform(X_train))\n",
    "X_test = pd.DataFrame(scaler.transform(X_test))"
   ]
  },
  {
   "cell_type": "code",
   "execution_count": 88,
   "metadata": {
    "collapsed": false
   },
   "outputs": [],
   "source": [
    "loo = pd.read_csv('LOO_results.csv', sep=',', index_col='index')\n",
    "loo = loo.sort_index()\n",
    "strat = pd.qcut(loo, 20, labels=False).astype(str)\n",
    "strat = np.hstack((strat, y_train.reshape((-1,1))))\n",
    "strat =np.apply_along_axis(lambda d: str(d[0]) + '_' + str(d[1]), 1, strat)"
   ]
  },
  {
   "cell_type": "code",
   "execution_count": 91,
   "metadata": {
    "collapsed": false
   },
   "outputs": [
    {
     "name": "stdout",
     "output_type": "stream",
     "text": [
      "\n",
      "10 folds logloss:\n",
      "[0.53990347404784012, 0.54152528495592211, 0.5407897688572072, 0.54155070634851377, 0.54266741693837506, 0.53909139828568575, 0.54128523894017933, 0.54348501804762972, 0.53940239741146678, 0.54218516820989704]\n",
      "mean: 0.541188587204\n",
      "std: 0.0013456147348\n",
      "15 Splits logloss:\n",
      "[0.54186104848843419, 0.54156578077289408, 0.54165550090235082, 0.5419327021073107, 0.54121673255582292, 0.54152776545938108, 0.54027087211999159, 0.54145890058820978, 0.54138547390475422, 0.5413866244562946, 0.54045266141290116, 0.54071247834605829, 0.54159479185357873, 0.5420846608074692, 0.54197919383290272]\n",
      "mean: 0.541405679174\n",
      "std: 0.000524698234619\n",
      "KERAS_1 results saved!\n"
     ]
    },
    {
     "data": {
      "text/plain": [
       "(0.54118858720427165, 0.54140567917389026)"
      ]
     },
     "execution_count": 91,
     "metadata": {},
     "output_type": "execute_result"
    }
   ],
   "source": [
    "def create(x1, x2):\n",
    "    config = [(64,0.4), (32,0.13)]\n",
    "    return KerasModel(var_num=len(use_columns),\n",
    "                   epochs=200,\n",
    "                   learn_rate=0.001,\n",
    "                   config=config,\n",
    "                   batch_size=1024,\n",
    "                   verbose=0,\n",
    "                   validation_split=0.0)\n",
    "utils.execute_model(None,\n",
    "              X_train,\n",
    "              y_train,\n",
    "              X_test,\n",
    "              model_name=\"KERAS_1\",\n",
    "              n_splits=15,\n",
    "              n_folds=10,\n",
    "              stratification_groups=strat,\n",
    "                    create_callback=create\n",
    "#                     verbose=0\n",
    "             )\n",
    "\n",
    "# 10 folds logloss:\n",
    "# [0.54090825419427224, 0.5420645621065534, 0.54378380512776359, 0.54325709548377732, 0.54468274415708207, 0.54029468759698118, 0.54352507074984413, 0.54685565419394933, 0.54020112643318119, 0.5436560250490583]\n",
    "# mean: 0.542922902509\n",
    "# std: 0.00198563910778\n",
    "# 15 Splits logloss:\n",
    "# [0.54265608754982464, 0.5426398031772558, 0.54246461801264168, 0.54209703243852014, 0.54228912460850554, 0.54312995340333625, 0.54068936993851369, 0.54211138891902133, 0.54264103206402314, 0.54233019546667738, 0.54060803921325573, 0.54195509464768254, 0.54225267909183383, 0.54273259723949285, 0.54274226783814705]\n",
    "# mean: 0.542222618907\n",
    "# std: 0.000684264682849"
   ]
  },
  {
   "cell_type": "code",
   "execution_count": null,
   "metadata": {
    "collapsed": true
   },
   "outputs": [],
   "source": []
  },
  {
   "cell_type": "code",
   "execution_count": 84,
   "metadata": {
    "collapsed": false,
    "scrolled": false
   },
   "outputs": [
    {
     "name": "stdout",
     "output_type": "stream",
     "text": [
      "dict_keys(['val_loss', 'val_acc', 'loss', 'acc'])\n"
     ]
    },
    {
     "data": {
      "image/png": "[encoded data removed]",
      "text/plain": [
       "<matplotlib.figure.Figure at 0x17c81422390>"
      ]
     },
     "metadata": {},
     "output_type": "display_data"
    },
    {
     "data": {
      "image/png": "[encoded data removed]",
      "text/plain": [
       "<matplotlib.figure.Figure at 0x17c833e0c88>"
      ]
     },
     "metadata": {},
     "output_type": "display_data"
    }
   ],
   "source": [
    "# Params testing:  {'batch_size': 256, \n",
    "# 'choice': {'dropout2': 0.4, 'layers': 'two', 'units2': 75},\n",
    "# 'dropout1': 0.5, 'epochs': 100, 'learning_rate': 0.01, 'units1': 128}\n",
    "config = [(64,0.4), (32,0.13)]\n",
    "model = KerasModel(var_num=len(use_columns), #!!!!!!!!!!!!!!!!!!!\n",
    "                   epochs=200,\n",
    "                   learn_rate=0.001,\n",
    "                   config=config,\n",
    "                   batch_size=1024,\n",
    "                   verbose=0,\n",
    "                   validation_split=0.3)\n",
    "# model.fit_process(X_train, X_test, y_train)\n",
    "history = model.fit(X_train, y_train).history\n",
    "plot_history(history)"
   ]
  },
  {
   "cell_type": "code",
   "execution_count": null,
   "metadata": {
    "collapsed": false
   },
   "outputs": [],
   "source": [
    "from sklearn.model_selection import StratifiedKFold, cross_val_score\n",
    "import numpy as np\n",
    "import random\n",
    "from sklearn.metrics import log_loss, accuracy_score\n",
    "\n",
    "kf = StratifiedKFold(n_splits=7, random_state=125, shuffle=True)\n",
    "\n",
    "def objective2(dp1, dp2):\n",
    "    global best_params, best_score\n",
    "    np.random.seed(1205)\n",
    "    random.seed(1205)\n",
    "\n",
    "    accuracy = []\n",
    "    for train_idx, test_idx in kf.split(X_train, y_train):\n",
    "        config = [(60,dp1),(30,dp2)]\n",
    "        clf = KerasModel(cols,\n",
    "                       epochs=100,\n",
    "                       learn_rate=0.01,\n",
    "                       config=config,\n",
    "                       batch_size=128,\n",
    "                       verbose=0,\n",
    "                       validation_split=0.2,\n",
    "                   loss='categorical_crossentropy')\n",
    "        clf.fit_process(X_train, X_test, y_train)\n",
    "        clf.fit(X_train.iloc[train_idx], y_train[train_idx])\n",
    "        result = clf.predict(X_train.iloc[test_idx])\n",
    "        accuracy.append(accuracy_score(y_train[test_idx], result))\n",
    "\n",
    "    score = np.mean(accuracy)\n",
    "    std = np.std(accuracy)\n",
    "    print(dp1,dp2,\"Score:\", score, std)\n",
    "\n",
    "    \n",
    "for i in np.arange(0,1,0.1).tolist():\n",
    "    for j in np.arange(0,1,0.1).tolist():\n",
    "        objective2(i,j)"
   ]
  },
  {
   "cell_type": "code",
   "execution_count": 18,
   "metadata": {
    "collapsed": false
   },
   "outputs": [],
   "source": [
    "# Params testing:  \n",
    "#     {'batch_size': 128, 'choice':\n",
    "#      {'dropout2': 0.6, 'layers': 'two', 'units2': 30},\n",
    "#      'dropout1': 0.1, 'epochs': 100, 'learning_rate': 0.01, 'loss': 'categorical_crossentropy', 'units1': 90}\n",
    "\n",
    "def cr_keros():\n",
    "    config = [(90,0.2),(30,0.06)]\n",
    "    clf = KerasModel(cols,\n",
    "                       epochs=70,\n",
    "                       learn_rate=0.001,\n",
    "                       config=config,\n",
    "                       batch_size=256,\n",
    "                       verbose=0,\n",
    "                       validation_split=0.2,\n",
    "                   loss='categorical_crossentropy')\n",
    "    clf.fit_process(X_train, X_test, y_train)\n",
    "    return clf"
   ]
  },
  {
   "cell_type": "code",
   "execution_count": 21,
   "metadata": {
    "collapsed": false
   },
   "outputs": [
    {
     "name": "stdout",
     "output_type": "stream",
     "text": [
      "Accuracy:\n",
      "[0.57044673539518898, 0.55899198167239406, 0.55670103092783507, 0.54295532646048106, 0.5521191294387171, 0.56930126002290948, 0.54295532646048106, 0.52920962199312716, 0.53951890034364258, 0.54753722794959914, 0.58762886597938147, 0.54295532646048106, 0.54868270332187863, 0.54639175257731953, 0.52462772050400919, 0.54639175257731953, 0.53951890034364258, 0.5532646048109966, 0.55555555555555558, 0.56357388316151202, 0.56357388316151202, 0.5532646048109966, 0.5223367697594502, 0.55441008018327609, 0.55555555555555558, 0.54066437571592207, 0.5670103092783505, 0.5532646048109966, 0.54066437571592207, 0.57617411225658643, 0.57044673539518898, 0.55555555555555558, 0.57044673539518898, 0.55441008018327609, 0.55097365406643761, 0.56586483390607101, 0.56013745704467355, 0.5830469644902635, 0.54982817869415812, 0.53035509736540665, 0.52806414662084766, 0.54639175257731953, 0.5372279495990836, 0.56357388316151202, 0.55097365406643761, 0.54180985108820157, 0.56357388316151202, 0.57044673539518898, 0.56471935853379152, 0.5670103092783505, 0.54868270332187863, 0.54982817869415812, 0.56586483390607101, 0.53379152348224512, 0.5521191294387171, 0.56815578465062999, 0.54066437571592207, 0.57159221076746847, 0.57502863688430694, 0.55097365406643761, 0.54753722794959914, 0.5521191294387171, 0.54410080183276055, 0.55097365406643761, 0.55784650630011456, 0.5532646048109966, 0.53493699885452461, 0.52691867124856817, 0.56471935853379152, 0.54639175257731953, 0.56471935853379152, 0.57044673539518898, 0.51660939289805274, 0.54982817869415812, 0.57273768613974796, 0.55555555555555558, 0.54180985108820157, 0.57273768613974796, 0.54410080183276055, 0.54295532646048106, 0.54868270332187863, 0.5532646048109966, 0.55784650630011456, 0.54639175257731953, 0.54180985108820157, 0.53837342497136309, 0.55784650630011456, 0.55097365406643761, 0.55441008018327609, 0.52691867124856817, 0.53264604810996563, 0.5532646048109966, 0.57273768613974796, 0.5372279495990836, 0.55555555555555558, 0.54753722794959914, 0.53150057273768614, 0.54868270332187863, 0.54066437571592207, 0.49026345933562426]\n",
      "mean: 0.551237113402\n",
      "std: 0.0151106003622\n",
      "\n",
      "Logloss:\n",
      "[1.0348505111835804, 1.0426682758850194, 1.0748509426706845, 1.0452136078685146, 1.0698659375975632, 1.0142429187330593, 1.0327063203370039, 1.0361151812770932, 1.0900421451525453, 1.0277104849360652, 1.0307515538281591, 1.0563651039547801, 1.0459931499462356, 1.0256014106985083, 1.0703941847262786, 1.0658226908362745, 1.0735349612649774, 1.0594676083203443, 1.0620827030940974, 1.0345533436328549, 1.0254694500347046, 1.0441487479233795, 1.0904750724974912, 1.0224528995268942, 1.0742417648861362, 1.0435239977682307, 1.0365105684065736, 1.0203734647316212, 1.0605243212988287, 1.035017185655656, 1.0507333998708108, 1.0550008464822245, 1.0308778581699145, 1.0466333822115728, 1.0281220426759496, 1.0406520803803567, 1.0442671017872782, 1.0132587656617711, 1.0533509648832806, 1.05362982988221, 1.0701641420250223, 1.036379804461341, 1.0857310096294814, 1.03900099604605, 1.0780309282823595, 1.0571250916636823, 1.0175375618117373, 1.0334465725929876, 1.0277247803385998, 1.0422466132631962, 1.0521518272077846, 1.0573158863535042, 1.0338034127910385, 1.0704921891257799, 1.0380261841679219, 1.0453405201110779, 1.054374314110645, 1.0361332243728747, 1.0287263594047173, 1.0444665959815389, 1.0469279498169102, 1.0418888926335352, 1.0605339168870709, 1.071578898116144, 1.0359162867308209, 1.0516772266532821, 1.0720150074905546, 1.0689061325030638, 1.0432305805052269, 1.0711031581562136, 1.0294448701752283, 1.0518875205707987, 1.0799702580715236, 1.0484896088349724, 1.0285557934252667, 1.0604716889594361, 1.07770079521106, 1.0456207469873822, 1.0507188204671645, 1.0472069096933936, 1.0663849072699421, 1.0319196717879753, 1.0377901761802202, 1.059811089738333, 1.0305798821799874, 1.051948933590114, 1.0508909160431308, 1.0498540836545336, 1.0293025143470143, 1.0719757119421969, 1.0707314399680186, 1.0456512093305041, 1.0597713647958613, 1.0531116540182088, 1.0627719496055703, 1.0359222913355079, 1.0537671751651021, 1.0463529122995483, 1.0631727414527845, 1.1061783852941118]\n",
      "mean: 1.04972048866\n",
      "std: 0.0181452478602\n"
     ]
    }
   ],
   "source": [
    "# utils.execute_model(None, X_train, y_train, X_test, model_name=\"Keros_proto\", create_callback=cr_keros)\n",
    "utils.execute_nfolds(None, X_train, y_train, model_name=\"Keros_proto\", create_callback=cr_keros)"
   ]
  },
  {
   "cell_type": "code",
   "execution_count": 48,
   "metadata": {
    "collapsed": true
   },
   "outputs": [],
   "source": [
    "space = {\n",
    "'choice':\n",
    "    hp.choice('num_layers',\n",
    "    [\n",
    "#         {'layers':'one',\n",
    "\n",
    "#         },\n",
    "        {'layers':'two',\n",
    "          'units2': hp.choice('units2', [8, 16, 32, 64, 75, 90, 105, 128, 256]),\n",
    "          'dropout2': hp.choice('dropout2', [0, 0.05, 0.1, 0.2, 0.3, 0.4, 0.5, 0.6, 0.7, 0.8])\n",
    "                    \n",
    "        }\n",
    "    ]),\n",
    "    \n",
    "    'units1': hp.choice('units1', [8, 16, 32, 64, 75, 90, 105, 128, 256]),\n",
    "    'dropout1': hp.choice('dropout1', [0, 0.05, 0.1, 0.2, 0.3, 0.4, 0.5, 0.6, 0.7, 0.8]),\n",
    "    \n",
    "    'batch_size' : hp.choice('batch_size', [128, 256, 512]),\n",
    "\n",
    "    'epochs' :  100,\n",
    "#     'loss': hp.choice('loss', ['categorical_crossentropy', 'mean_squared_error', 'mean_squared_logarithmic_error']), # \n",
    "    'learning_rate': 0.01, #hp.choice('learning_rate', [0.005, 0.01, 0.02, 0.03, 0.04, 0.05]),\n",
    "         \n",
    "}"
   ]
  },
  {
   "cell_type": "code",
   "execution_count": 52,
   "metadata": {
    "collapsed": false
   },
   "outputs": [],
   "source": [
    "from sklearn.model_selection import StratifiedKFold, cross_val_score\n",
    "import numpy as np\n",
    "import random\n",
    "from sklearn.metrics import log_loss, accuracy_score\n",
    "\n",
    "best_params = None\n",
    "best_score = 1000000\n",
    "kf = StratifiedKFold(n_splits=7, random_state=11111, shuffle=True)\n",
    "\n",
    "def objective(params):\n",
    "    global best_params, best_score\n",
    "    print ('\\n ')\n",
    "    print ('Params testing: ', params)\n",
    "    \n",
    "    config = [(params['units1'],params['dropout1'])]\n",
    "    if params['choice']['layers'] == 'two':\n",
    "        config.append((params['choice']['units2'], params['choice']['dropout2']))\n",
    "    \n",
    "    nn_params = dict(\n",
    "                 epochs=params['epochs'],\n",
    "                 learn_rate=params['learning_rate'],\n",
    "                 config=config,\n",
    "                 batch_size=params['batch_size'],\n",
    "#                  loss=params['loss'],\n",
    "                 )\n",
    "\n",
    "#     model = KerasModel(cols, **nn_params)\n",
    "#     model.fit_process(X_train, X_test, y_train)\n",
    "    \n",
    "    np.random.seed(1205)\n",
    "    random.seed(1205)\n",
    "    \n",
    "#     KerasModel(var_num=len(use_columns), #!!!!!!!!!!!!!!!!!!!\n",
    "#                    epochs=100,\n",
    "#                    learn_rate=0.01,\n",
    "#                    config=config,\n",
    "#                    batch_size=256,\n",
    "#                    verbose=0,\n",
    "#                    validation_split=0.2)\n",
    "\n",
    "    accuracy = []\n",
    "    for train_idx, test_idx in kf.split(X_train, y_train):\n",
    "        clf = KerasModel(var_num=len(use_columns), **nn_params)\n",
    "#         clf.fit_process(X_train, X_test, y_train)\n",
    "#         clf.fit(X_train.iloc[train_idx], y_train[train_idx])\n",
    "        clf.fit(X_train[train_idx], y_train[train_idx])\n",
    "        result = clf.predict_proba(X_train[test_idx])[:, 1]\n",
    "        accuracy.append(log_loss(y_train[test_idx], result))\n",
    "\n",
    "    score2 = np.mean(accuracy)\n",
    "    std = np.std(accuracy)\n",
    "    \n",
    "    score = (round(score2, 4) * 10000 - std)\n",
    "    \n",
    "    if score < best_score:\n",
    "        best_score = score\n",
    "        best_params = params\n",
    "        print('^^^^^^^^^^^^^^^^^^^^^^^^^^^^^^^^^^^^^^^^^^^^^^^^')\n",
    "        print('New best params with score:', score)\n",
    "    \n",
    "    print(\"Score:\", score2)\n",
    "    print(\"Std:\", std)\n",
    " \n",
    "    return {'loss': score, 'status': STATUS_OK}"
   ]
  },
  {
   "cell_type": "code",
   "execution_count": 53,
   "metadata": {
    "collapsed": false,
    "scrolled": true
   },
   "outputs": [
    {
     "name": "stdout",
     "output_type": "stream",
     "text": [
      "\n",
      " \n",
      "Params testing:  {'batch_size': 128, 'choice': {'dropout2': 0.8, 'layers': 'two', 'units2': 16}, 'dropout1': 0.7, 'epochs': 100, 'learning_rate': 0.01, 'units1': 90}\n",
      "^^^^^^^^^^^^^^^^^^^^^^^^^^^^^^^^^^^^^^^^^^^^^^^^\n",
      "New best params with score: 5537.99647976\n",
      "Score: 0.553767029313\n",
      "Std: 0.00352023983451\n",
      "\n",
      " \n",
      "Params testing:  {'batch_size': 512, 'choice': {'dropout2': 0.6, 'layers': 'two', 'units2': 105}, 'dropout1': 0.6, 'epochs': 100, 'learning_rate': 0.01, 'units1': 90}\n",
      "^^^^^^^^^^^^^^^^^^^^^^^^^^^^^^^^^^^^^^^^^^^^^^^^\n",
      "New best params with score: 5438.99773539\n",
      "Score: 0.543901494359\n",
      "Std: 0.00226461319265\n",
      "\n",
      " \n",
      "Params testing:  {'batch_size': 256, 'choice': {'dropout2': 0.4, 'layers': 'two', 'units2': 75}, 'dropout1': 0.5, 'epochs': 100, 'learning_rate': 0.01, 'units1': 128}\n",
      "^^^^^^^^^^^^^^^^^^^^^^^^^^^^^^^^^^^^^^^^^^^^^^^^\n",
      "New best params with score: 5421.99715784\n",
      "Score: 0.542192950129\n",
      "Std: 0.00284215838985\n",
      "\n",
      " \n",
      "Params testing:  {'batch_size': 256, 'choice': {'dropout2': 0.5, 'layers': 'two', 'units2': 75}, 'dropout1': 0, 'epochs': 100, 'learning_rate': 0.01, 'units1': 90}\n"
     ]
    },
    {
     "ename": "KeyboardInterrupt",
     "evalue": "",
     "output_type": "error",
     "traceback": [
      "\u001b[0;31m------------------------------------------------------------\u001b[0m",
      "\u001b[0;31mKeyboardInterrupt\u001b[0m          Traceback (most recent call last)",
      "\u001b[0;32m<ipython-input-53-d2575ea73e88>\u001b[0m in \u001b[0;36m<module>\u001b[0;34m()\u001b[0m\n\u001b[1;32m      1\u001b[0m \u001b[0mtrials\u001b[0m \u001b[1;33m=\u001b[0m \u001b[0mTrials\u001b[0m\u001b[1;33m(\u001b[0m\u001b[1;33m)\u001b[0m\u001b[1;33m\u001b[0m\u001b[0m\n\u001b[1;32m      2\u001b[0m \u001b[1;33m\u001b[0m\u001b[0m\n\u001b[0;32m----> 3\u001b[0;31m \u001b[0mbest\u001b[0m \u001b[1;33m=\u001b[0m \u001b[0mfmin\u001b[0m\u001b[1;33m(\u001b[0m\u001b[0mobjective\u001b[0m\u001b[1;33m,\u001b[0m \u001b[0mspace\u001b[0m\u001b[1;33m,\u001b[0m \u001b[0malgo\u001b[0m\u001b[1;33m=\u001b[0m\u001b[0mtpe\u001b[0m\u001b[1;33m.\u001b[0m\u001b[0msuggest\u001b[0m\u001b[1;33m,\u001b[0m \u001b[0mtrials\u001b[0m\u001b[1;33m=\u001b[0m\u001b[0mtrials\u001b[0m\u001b[1;33m,\u001b[0m \u001b[0mmax_evals\u001b[0m\u001b[1;33m=\u001b[0m\u001b[1;36m1000\u001b[0m\u001b[1;33m)\u001b[0m\u001b[1;33m\u001b[0m\u001b[0m\n\u001b[0m\u001b[1;32m      4\u001b[0m \u001b[1;33m\u001b[0m\u001b[0m\n\u001b[1;32m      5\u001b[0m \u001b[0mprint\u001b[0m\u001b[1;33m(\u001b[0m\u001b[1;34m'FINISHED!================'\u001b[0m\u001b[1;33m)\u001b[0m\u001b[1;33m\u001b[0m\u001b[0m\n",
      "\u001b[0;32mD:\\ProgramData\\Anaconda3\\lib\\site-packages\\hyperopt\\fmin.py\u001b[0m in \u001b[0;36mfmin\u001b[0;34m(fn, space, algo, max_evals, trials, rstate, allow_trials_fmin, pass_expr_memo_ctrl, catch_eval_exceptions, verbose, return_argmin)\u001b[0m\n\u001b[1;32m    305\u001b[0m             \u001b[0mverbose\u001b[0m\u001b[1;33m=\u001b[0m\u001b[0mverbose\u001b[0m\u001b[1;33m,\u001b[0m\u001b[1;33m\u001b[0m\u001b[0m\n\u001b[1;32m    306\u001b[0m             \u001b[0mcatch_eval_exceptions\u001b[0m\u001b[1;33m=\u001b[0m\u001b[0mcatch_eval_exceptions\u001b[0m\u001b[1;33m,\u001b[0m\u001b[1;33m\u001b[0m\u001b[0m\n\u001b[0;32m--> 307\u001b[0;31m             \u001b[0mreturn_argmin\u001b[0m\u001b[1;33m=\u001b[0m\u001b[0mreturn_argmin\u001b[0m\u001b[1;33m,\u001b[0m\u001b[1;33m\u001b[0m\u001b[0m\n\u001b[0m\u001b[1;32m    308\u001b[0m         )\n\u001b[1;32m    309\u001b[0m \u001b[1;33m\u001b[0m\u001b[0m\n",
      "\u001b[0;32mD:\\ProgramData\\Anaconda3\\lib\\site-packages\\hyperopt\\base.py\u001b[0m in \u001b[0;36mfmin\u001b[0;34m(self, fn, space, algo, max_evals, rstate, verbose, pass_expr_memo_ctrl, catch_eval_exceptions, return_argmin)\u001b[0m\n\u001b[1;32m    633\u001b[0m             \u001b[0mpass_expr_memo_ctrl\u001b[0m\u001b[1;33m=\u001b[0m\u001b[0mpass_expr_memo_ctrl\u001b[0m\u001b[1;33m,\u001b[0m\u001b[1;33m\u001b[0m\u001b[0m\n\u001b[1;32m    634\u001b[0m             \u001b[0mcatch_eval_exceptions\u001b[0m\u001b[1;33m=\u001b[0m\u001b[0mcatch_eval_exceptions\u001b[0m\u001b[1;33m,\u001b[0m\u001b[1;33m\u001b[0m\u001b[0m\n\u001b[0;32m--> 635\u001b[0;31m             return_argmin=return_argmin)\n\u001b[0m\u001b[1;32m    636\u001b[0m \u001b[1;33m\u001b[0m\u001b[0m\n\u001b[1;32m    637\u001b[0m \u001b[1;33m\u001b[0m\u001b[0m\n",
      "\u001b[0;32mD:\\ProgramData\\Anaconda3\\lib\\site-packages\\hyperopt\\fmin.py\u001b[0m in \u001b[0;36mfmin\u001b[0;34m(fn, space, algo, max_evals, trials, rstate, allow_trials_fmin, pass_expr_memo_ctrl, catch_eval_exceptions, verbose, return_argmin)\u001b[0m\n\u001b[1;32m    318\u001b[0m                     verbose=verbose)\n\u001b[1;32m    319\u001b[0m     \u001b[0mrval\u001b[0m\u001b[1;33m.\u001b[0m\u001b[0mcatch_eval_exceptions\u001b[0m \u001b[1;33m=\u001b[0m \u001b[0mcatch_eval_exceptions\u001b[0m\u001b[1;33m\u001b[0m\u001b[0m\n\u001b[0;32m--> 320\u001b[0;31m     \u001b[0mrval\u001b[0m\u001b[1;33m.\u001b[0m\u001b[0mexhaust\u001b[0m\u001b[1;33m(\u001b[0m\u001b[1;33m)\u001b[0m\u001b[1;33m\u001b[0m\u001b[0m\n\u001b[0m\u001b[1;32m    321\u001b[0m     \u001b[1;32mif\u001b[0m \u001b[0mreturn_argmin\u001b[0m\u001b[1;33m:\u001b[0m\u001b[1;33m\u001b[0m\u001b[0m\n\u001b[1;32m    322\u001b[0m         \u001b[1;32mreturn\u001b[0m \u001b[0mtrials\u001b[0m\u001b[1;33m.\u001b[0m\u001b[0margmin\u001b[0m\u001b[1;33m\u001b[0m\u001b[0m\n",
      "\u001b[0;32mD:\\ProgramData\\Anaconda3\\lib\\site-packages\\hyperopt\\fmin.py\u001b[0m in \u001b[0;36mexhaust\u001b[0;34m(self)\u001b[0m\n\u001b[1;32m    197\u001b[0m     \u001b[1;32mdef\u001b[0m \u001b[0mexhaust\u001b[0m\u001b[1;33m(\u001b[0m\u001b[0mself\u001b[0m\u001b[1;33m)\u001b[0m\u001b[1;33m:\u001b[0m\u001b[1;33m\u001b[0m\u001b[0m\n\u001b[1;32m    198\u001b[0m         \u001b[0mn_done\u001b[0m \u001b[1;33m=\u001b[0m \u001b[0mlen\u001b[0m\u001b[1;33m(\u001b[0m\u001b[0mself\u001b[0m\u001b[1;33m.\u001b[0m\u001b[0mtrials\u001b[0m\u001b[1;33m)\u001b[0m\u001b[1;33m\u001b[0m\u001b[0m\n\u001b[0;32m--> 199\u001b[0;31m         \u001b[0mself\u001b[0m\u001b[1;33m.\u001b[0m\u001b[0mrun\u001b[0m\u001b[1;33m(\u001b[0m\u001b[0mself\u001b[0m\u001b[1;33m.\u001b[0m\u001b[0mmax_evals\u001b[0m \u001b[1;33m-\u001b[0m \u001b[0mn_done\u001b[0m\u001b[1;33m,\u001b[0m \u001b[0mblock_until_done\u001b[0m\u001b[1;33m=\u001b[0m\u001b[0mself\u001b[0m\u001b[1;33m.\u001b[0m\u001b[0masync\u001b[0m\u001b[1;33m)\u001b[0m\u001b[1;33m\u001b[0m\u001b[0m\n\u001b[0m\u001b[1;32m    200\u001b[0m         \u001b[0mself\u001b[0m\u001b[1;33m.\u001b[0m\u001b[0mtrials\u001b[0m\u001b[1;33m.\u001b[0m\u001b[0mrefresh\u001b[0m\u001b[1;33m(\u001b[0m\u001b[1;33m)\u001b[0m\u001b[1;33m\u001b[0m\u001b[0m\n\u001b[1;32m    201\u001b[0m         \u001b[1;32mreturn\u001b[0m \u001b[0mself\u001b[0m\u001b[1;33m\u001b[0m\u001b[0m\n",
      "\u001b[0;32mD:\\ProgramData\\Anaconda3\\lib\\site-packages\\hyperopt\\fmin.py\u001b[0m in \u001b[0;36mrun\u001b[0;34m(self, N, block_until_done)\u001b[0m\n\u001b[1;32m    171\u001b[0m             \u001b[1;32melse\u001b[0m\u001b[1;33m:\u001b[0m\u001b[1;33m\u001b[0m\u001b[0m\n\u001b[1;32m    172\u001b[0m                 \u001b[1;31m# -- loop over trials and do the jobs directly\u001b[0m\u001b[1;33m\u001b[0m\u001b[1;33m\u001b[0m\u001b[0m\n\u001b[0;32m--> 173\u001b[0;31m                 \u001b[0mself\u001b[0m\u001b[1;33m.\u001b[0m\u001b[0mserial_evaluate\u001b[0m\u001b[1;33m(\u001b[0m\u001b[1;33m)\u001b[0m\u001b[1;33m\u001b[0m\u001b[0m\n\u001b[0m\u001b[1;32m    174\u001b[0m \u001b[1;33m\u001b[0m\u001b[0m\n\u001b[1;32m    175\u001b[0m             \u001b[1;32mif\u001b[0m \u001b[0mstopped\u001b[0m\u001b[1;33m:\u001b[0m\u001b[1;33m\u001b[0m\u001b[0m\n",
      "\u001b[0;32mD:\\ProgramData\\Anaconda3\\lib\\site-packages\\hyperopt\\fmin.py\u001b[0m in \u001b[0;36mserial_evaluate\u001b[0;34m(self, N)\u001b[0m\n\u001b[1;32m     90\u001b[0m                 \u001b[0mctrl\u001b[0m \u001b[1;33m=\u001b[0m \u001b[0mbase\u001b[0m\u001b[1;33m.\u001b[0m\u001b[0mCtrl\u001b[0m\u001b[1;33m(\u001b[0m\u001b[0mself\u001b[0m\u001b[1;33m.\u001b[0m\u001b[0mtrials\u001b[0m\u001b[1;33m,\u001b[0m \u001b[0mcurrent_trial\u001b[0m\u001b[1;33m=\u001b[0m\u001b[0mtrial\u001b[0m\u001b[1;33m)\u001b[0m\u001b[1;33m\u001b[0m\u001b[0m\n\u001b[1;32m     91\u001b[0m                 \u001b[1;32mtry\u001b[0m\u001b[1;33m:\u001b[0m\u001b[1;33m\u001b[0m\u001b[0m\n\u001b[0;32m---> 92\u001b[0;31m                     \u001b[0mresult\u001b[0m \u001b[1;33m=\u001b[0m \u001b[0mself\u001b[0m\u001b[1;33m.\u001b[0m\u001b[0mdomain\u001b[0m\u001b[1;33m.\u001b[0m\u001b[0mevaluate\u001b[0m\u001b[1;33m(\u001b[0m\u001b[0mspec\u001b[0m\u001b[1;33m,\u001b[0m \u001b[0mctrl\u001b[0m\u001b[1;33m)\u001b[0m\u001b[1;33m\u001b[0m\u001b[0m\n\u001b[0m\u001b[1;32m     93\u001b[0m                 \u001b[1;32mexcept\u001b[0m \u001b[0mException\u001b[0m \u001b[1;32mas\u001b[0m \u001b[0me\u001b[0m\u001b[1;33m:\u001b[0m\u001b[1;33m\u001b[0m\u001b[0m\n\u001b[1;32m     94\u001b[0m                     \u001b[0mlogger\u001b[0m\u001b[1;33m.\u001b[0m\u001b[0minfo\u001b[0m\u001b[1;33m(\u001b[0m\u001b[1;34m'job exception: %s'\u001b[0m \u001b[1;33m%\u001b[0m \u001b[0mstr\u001b[0m\u001b[1;33m(\u001b[0m\u001b[0me\u001b[0m\u001b[1;33m)\u001b[0m\u001b[1;33m)\u001b[0m\u001b[1;33m\u001b[0m\u001b[0m\n",
      "\u001b[0;32mD:\\ProgramData\\Anaconda3\\lib\\site-packages\\hyperopt\\base.py\u001b[0m in \u001b[0;36mevaluate\u001b[0;34m(self, config, ctrl, attach_attachments)\u001b[0m\n\u001b[1;32m    838\u001b[0m                 \u001b[0mmemo\u001b[0m\u001b[1;33m=\u001b[0m\u001b[0mmemo\u001b[0m\u001b[1;33m,\u001b[0m\u001b[1;33m\u001b[0m\u001b[0m\n\u001b[1;32m    839\u001b[0m                 print_node_on_error=self.rec_eval_print_node_on_error)\n\u001b[0;32m--> 840\u001b[0;31m             \u001b[0mrval\u001b[0m \u001b[1;33m=\u001b[0m \u001b[0mself\u001b[0m\u001b[1;33m.\u001b[0m\u001b[0mfn\u001b[0m\u001b[1;33m(\u001b[0m\u001b[0mpyll_rval\u001b[0m\u001b[1;33m)\u001b[0m\u001b[1;33m\u001b[0m\u001b[0m\n\u001b[0m\u001b[1;32m    841\u001b[0m \u001b[1;33m\u001b[0m\u001b[0m\n\u001b[1;32m    842\u001b[0m         \u001b[1;32mif\u001b[0m \u001b[0misinstance\u001b[0m\u001b[1;33m(\u001b[0m\u001b[0mrval\u001b[0m\u001b[1;33m,\u001b[0m \u001b[1;33m(\u001b[0m\u001b[0mfloat\u001b[0m\u001b[1;33m,\u001b[0m \u001b[0mint\u001b[0m\u001b[1;33m,\u001b[0m \u001b[0mnp\u001b[0m\u001b[1;33m.\u001b[0m\u001b[0mnumber\u001b[0m\u001b[1;33m)\u001b[0m\u001b[1;33m)\u001b[0m\u001b[1;33m:\u001b[0m\u001b[1;33m\u001b[0m\u001b[0m\n",
      "\u001b[0;32m<ipython-input-52-9c8dffe7fe05>\u001b[0m in \u001b[0;36mobjective\u001b[0;34m(params)\u001b[0m\n\u001b[1;32m     44\u001b[0m \u001b[1;31m#         clf.fit_process(X_train, X_test, y_train)\u001b[0m\u001b[1;33m\u001b[0m\u001b[1;33m\u001b[0m\u001b[0m\n\u001b[1;32m     45\u001b[0m \u001b[1;31m#         clf.fit(X_train.iloc[train_idx], y_train[train_idx])\u001b[0m\u001b[1;33m\u001b[0m\u001b[1;33m\u001b[0m\u001b[0m\n\u001b[0;32m---> 46\u001b[0;31m         \u001b[0mclf\u001b[0m\u001b[1;33m.\u001b[0m\u001b[0mfit\u001b[0m\u001b[1;33m(\u001b[0m\u001b[0mX_train\u001b[0m\u001b[1;33m[\u001b[0m\u001b[0mtrain_idx\u001b[0m\u001b[1;33m]\u001b[0m\u001b[1;33m,\u001b[0m \u001b[0my_train\u001b[0m\u001b[1;33m[\u001b[0m\u001b[0mtrain_idx\u001b[0m\u001b[1;33m]\u001b[0m\u001b[1;33m)\u001b[0m\u001b[1;33m\u001b[0m\u001b[0m\n\u001b[0m\u001b[1;32m     47\u001b[0m         \u001b[0mresult\u001b[0m \u001b[1;33m=\u001b[0m \u001b[0mclf\u001b[0m\u001b[1;33m.\u001b[0m\u001b[0mpredict_proba\u001b[0m\u001b[1;33m(\u001b[0m\u001b[0mX_train\u001b[0m\u001b[1;33m[\u001b[0m\u001b[0mtest_idx\u001b[0m\u001b[1;33m]\u001b[0m\u001b[1;33m)\u001b[0m\u001b[1;33m[\u001b[0m\u001b[1;33m:\u001b[0m\u001b[1;33m,\u001b[0m \u001b[1;36m1\u001b[0m\u001b[1;33m]\u001b[0m\u001b[1;33m\u001b[0m\u001b[0m\n\u001b[1;32m     48\u001b[0m         \u001b[0maccuracy\u001b[0m\u001b[1;33m.\u001b[0m\u001b[0mappend\u001b[0m\u001b[1;33m(\u001b[0m\u001b[0mlog_loss\u001b[0m\u001b[1;33m(\u001b[0m\u001b[0my_train\u001b[0m\u001b[1;33m[\u001b[0m\u001b[0mtest_idx\u001b[0m\u001b[1;33m]\u001b[0m\u001b[1;33m,\u001b[0m \u001b[0mresult\u001b[0m\u001b[1;33m)\u001b[0m\u001b[1;33m)\u001b[0m\u001b[1;33m\u001b[0m\u001b[0m\n",
      "\u001b[0;32m<ipython-input-51-ab74429b58eb>\u001b[0m in \u001b[0;36mfit\u001b[0;34m(self, X, y, sample_weight, callbacks)\u001b[0m\n\u001b[1;32m     59\u001b[0m                        \u001b[0mcallbacks\u001b[0m\u001b[1;33m=\u001b[0m\u001b[0mcallbacks\u001b[0m\u001b[1;33m,\u001b[0m\u001b[1;33m\u001b[0m\u001b[0m\n\u001b[1;32m     60\u001b[0m                        \u001b[0mvalidation_split\u001b[0m\u001b[1;33m=\u001b[0m\u001b[0mself\u001b[0m\u001b[1;33m.\u001b[0m\u001b[0mvalidation_split\u001b[0m\u001b[1;33m,\u001b[0m\u001b[1;33m\u001b[0m\u001b[0m\n\u001b[0;32m---> 61\u001b[0;31m                        shuffle=True)\n\u001b[0m\u001b[1;32m     62\u001b[0m \u001b[1;33m\u001b[0m\u001b[0m\n\u001b[1;32m     63\u001b[0m     \u001b[1;32mdef\u001b[0m \u001b[0mpredict_proba\u001b[0m\u001b[1;33m(\u001b[0m\u001b[0mself\u001b[0m\u001b[1;33m,\u001b[0m \u001b[0mX\u001b[0m\u001b[1;33m)\u001b[0m\u001b[1;33m:\u001b[0m\u001b[1;33m\u001b[0m\u001b[0m\n",
      "\u001b[0;32mD:\\ProgramData\\Anaconda3\\lib\\site-packages\\keras\\models.py\u001b[0m in \u001b[0;36mfit\u001b[0;34m(self, x, y, batch_size, epochs, verbose, callbacks, validation_split, validation_data, shuffle, class_weight, sample_weight, initial_epoch, **kwargs)\u001b[0m\n\u001b[1;32m    851\u001b[0m                               \u001b[0mclass_weight\u001b[0m\u001b[1;33m=\u001b[0m\u001b[0mclass_weight\u001b[0m\u001b[1;33m,\u001b[0m\u001b[1;33m\u001b[0m\u001b[0m\n\u001b[1;32m    852\u001b[0m                               \u001b[0msample_weight\u001b[0m\u001b[1;33m=\u001b[0m\u001b[0msample_weight\u001b[0m\u001b[1;33m,\u001b[0m\u001b[1;33m\u001b[0m\u001b[0m\n\u001b[0;32m--> 853\u001b[0;31m                               initial_epoch=initial_epoch)\n\u001b[0m\u001b[1;32m    854\u001b[0m \u001b[1;33m\u001b[0m\u001b[0m\n\u001b[1;32m    855\u001b[0m     def evaluate(self, x, y, batch_size=32, verbose=1,\n",
      "\u001b[0;32mD:\\ProgramData\\Anaconda3\\lib\\site-packages\\keras\\engine\\training.py\u001b[0m in \u001b[0;36mfit\u001b[0;34m(self, x, y, batch_size, epochs, verbose, callbacks, validation_split, validation_data, shuffle, class_weight, sample_weight, initial_epoch, **kwargs)\u001b[0m\n\u001b[1;32m   1484\u001b[0m                               \u001b[0mval_f\u001b[0m\u001b[1;33m=\u001b[0m\u001b[0mval_f\u001b[0m\u001b[1;33m,\u001b[0m \u001b[0mval_ins\u001b[0m\u001b[1;33m=\u001b[0m\u001b[0mval_ins\u001b[0m\u001b[1;33m,\u001b[0m \u001b[0mshuffle\u001b[0m\u001b[1;33m=\u001b[0m\u001b[0mshuffle\u001b[0m\u001b[1;33m,\u001b[0m\u001b[1;33m\u001b[0m\u001b[0m\n\u001b[1;32m   1485\u001b[0m                               \u001b[0mcallback_metrics\u001b[0m\u001b[1;33m=\u001b[0m\u001b[0mcallback_metrics\u001b[0m\u001b[1;33m,\u001b[0m\u001b[1;33m\u001b[0m\u001b[0m\n\u001b[0;32m-> 1486\u001b[0;31m                               initial_epoch=initial_epoch)\n\u001b[0m\u001b[1;32m   1487\u001b[0m \u001b[1;33m\u001b[0m\u001b[0m\n\u001b[1;32m   1488\u001b[0m     \u001b[1;32mdef\u001b[0m \u001b[0mevaluate\u001b[0m\u001b[1;33m(\u001b[0m\u001b[0mself\u001b[0m\u001b[1;33m,\u001b[0m \u001b[0mx\u001b[0m\u001b[1;33m,\u001b[0m \u001b[0my\u001b[0m\u001b[1;33m,\u001b[0m \u001b[0mbatch_size\u001b[0m\u001b[1;33m=\u001b[0m\u001b[1;36m32\u001b[0m\u001b[1;33m,\u001b[0m \u001b[0mverbose\u001b[0m\u001b[1;33m=\u001b[0m\u001b[1;36m1\u001b[0m\u001b[1;33m,\u001b[0m \u001b[0msample_weight\u001b[0m\u001b[1;33m=\u001b[0m\u001b[1;32mNone\u001b[0m\u001b[1;33m)\u001b[0m\u001b[1;33m:\u001b[0m\u001b[1;33m\u001b[0m\u001b[0m\n",
      "\u001b[0;32mD:\\ProgramData\\Anaconda3\\lib\\site-packages\\keras\\engine\\training.py\u001b[0m in \u001b[0;36m_fit_loop\u001b[0;34m(self, f, ins, out_labels, batch_size, epochs, verbose, callbacks, val_f, val_ins, shuffle, callback_metrics, initial_epoch)\u001b[0m\n\u001b[1;32m   1153\u001b[0m                         val_outs = self._test_loop(val_f, val_ins,\n\u001b[1;32m   1154\u001b[0m                                                    \u001b[0mbatch_size\u001b[0m\u001b[1;33m=\u001b[0m\u001b[0mbatch_size\u001b[0m\u001b[1;33m,\u001b[0m\u001b[1;33m\u001b[0m\u001b[0m\n\u001b[0;32m-> 1155\u001b[0;31m                                                    verbose=0)\n\u001b[0m\u001b[1;32m   1156\u001b[0m                         \u001b[1;32mif\u001b[0m \u001b[1;32mnot\u001b[0m \u001b[0misinstance\u001b[0m\u001b[1;33m(\u001b[0m\u001b[0mval_outs\u001b[0m\u001b[1;33m,\u001b[0m \u001b[0mlist\u001b[0m\u001b[1;33m)\u001b[0m\u001b[1;33m:\u001b[0m\u001b[1;33m\u001b[0m\u001b[0m\n\u001b[1;32m   1157\u001b[0m                             \u001b[0mval_outs\u001b[0m \u001b[1;33m=\u001b[0m \u001b[1;33m[\u001b[0m\u001b[0mval_outs\u001b[0m\u001b[1;33m]\u001b[0m\u001b[1;33m\u001b[0m\u001b[0m\n",
      "\u001b[0;32mD:\\ProgramData\\Anaconda3\\lib\\site-packages\\keras\\engine\\training.py\u001b[0m in \u001b[0;36m_test_loop\u001b[0;34m(self, f, ins, batch_size, verbose)\u001b[0m\n\u001b[1;32m   1255\u001b[0m                 \u001b[0mins_batch\u001b[0m \u001b[1;33m=\u001b[0m \u001b[0m_slice_arrays\u001b[0m\u001b[1;33m(\u001b[0m\u001b[0mins\u001b[0m\u001b[1;33m,\u001b[0m \u001b[0mbatch_ids\u001b[0m\u001b[1;33m)\u001b[0m\u001b[1;33m\u001b[0m\u001b[0m\n\u001b[1;32m   1256\u001b[0m \u001b[1;33m\u001b[0m\u001b[0m\n\u001b[0;32m-> 1257\u001b[0;31m             \u001b[0mbatch_outs\u001b[0m \u001b[1;33m=\u001b[0m \u001b[0mf\u001b[0m\u001b[1;33m(\u001b[0m\u001b[0mins_batch\u001b[0m\u001b[1;33m)\u001b[0m\u001b[1;33m\u001b[0m\u001b[0m\n\u001b[0m\u001b[1;32m   1258\u001b[0m             \u001b[1;32mif\u001b[0m \u001b[0misinstance\u001b[0m\u001b[1;33m(\u001b[0m\u001b[0mbatch_outs\u001b[0m\u001b[1;33m,\u001b[0m \u001b[0mlist\u001b[0m\u001b[1;33m)\u001b[0m\u001b[1;33m:\u001b[0m\u001b[1;33m\u001b[0m\u001b[0m\n\u001b[1;32m   1259\u001b[0m                 \u001b[1;32mif\u001b[0m \u001b[0mbatch_index\u001b[0m \u001b[1;33m==\u001b[0m \u001b[1;36m0\u001b[0m\u001b[1;33m:\u001b[0m\u001b[1;33m\u001b[0m\u001b[0m\n",
      "\u001b[0;32mD:\\ProgramData\\Anaconda3\\lib\\site-packages\\keras\\backend\\theano_backend.py\u001b[0m in \u001b[0;36m__call__\u001b[0;34m(self, inputs)\u001b[0m\n\u001b[1;32m   1120\u001b[0m     \u001b[1;32mdef\u001b[0m \u001b[0m__call__\u001b[0m\u001b[1;33m(\u001b[0m\u001b[0mself\u001b[0m\u001b[1;33m,\u001b[0m \u001b[0minputs\u001b[0m\u001b[1;33m)\u001b[0m\u001b[1;33m:\u001b[0m\u001b[1;33m\u001b[0m\u001b[0m\n\u001b[1;32m   1121\u001b[0m         \u001b[1;32massert\u001b[0m \u001b[0misinstance\u001b[0m\u001b[1;33m(\u001b[0m\u001b[0minputs\u001b[0m\u001b[1;33m,\u001b[0m \u001b[1;33m(\u001b[0m\u001b[0mlist\u001b[0m\u001b[1;33m,\u001b[0m \u001b[0mtuple\u001b[0m\u001b[1;33m)\u001b[0m\u001b[1;33m)\u001b[0m\u001b[1;33m\u001b[0m\u001b[0m\n\u001b[0;32m-> 1122\u001b[0;31m         \u001b[1;32mreturn\u001b[0m \u001b[0mself\u001b[0m\u001b[1;33m.\u001b[0m\u001b[0mfunction\u001b[0m\u001b[1;33m(\u001b[0m\u001b[1;33m*\u001b[0m\u001b[0minputs\u001b[0m\u001b[1;33m)\u001b[0m\u001b[1;33m\u001b[0m\u001b[0m\n\u001b[0m\u001b[1;32m   1123\u001b[0m \u001b[1;33m\u001b[0m\u001b[0m\n\u001b[1;32m   1124\u001b[0m \u001b[1;33m\u001b[0m\u001b[0m\n",
      "\u001b[0;32mD:\\ProgramData\\Anaconda3\\lib\\site-packages\\theano\\compile\\function_module.py\u001b[0m in \u001b[0;36m__call__\u001b[0;34m(self, *args, **kwargs)\u001b[0m\n\u001b[1;32m    882\u001b[0m         \u001b[1;32mtry\u001b[0m\u001b[1;33m:\u001b[0m\u001b[1;33m\u001b[0m\u001b[0m\n\u001b[1;32m    883\u001b[0m             \u001b[0moutputs\u001b[0m \u001b[1;33m=\u001b[0m\u001b[0;31m\\\u001b[0m\u001b[1;33m\u001b[0m\u001b[0m\n\u001b[0;32m--> 884\u001b[0;31m                 \u001b[0mself\u001b[0m\u001b[1;33m.\u001b[0m\u001b[0mfn\u001b[0m\u001b[1;33m(\u001b[0m\u001b[1;33m)\u001b[0m \u001b[1;32mif\u001b[0m \u001b[0moutput_subset\u001b[0m \u001b[1;32mis\u001b[0m \u001b[1;32mNone\u001b[0m \u001b[1;32melse\u001b[0m\u001b[0;31m\\\u001b[0m\u001b[1;33m\u001b[0m\u001b[0m\n\u001b[0m\u001b[1;32m    885\u001b[0m                 \u001b[0mself\u001b[0m\u001b[1;33m.\u001b[0m\u001b[0mfn\u001b[0m\u001b[1;33m(\u001b[0m\u001b[0moutput_subset\u001b[0m\u001b[1;33m=\u001b[0m\u001b[0moutput_subset\u001b[0m\u001b[1;33m)\u001b[0m\u001b[1;33m\u001b[0m\u001b[0m\n\u001b[1;32m    886\u001b[0m         \u001b[1;32mexcept\u001b[0m \u001b[0mException\u001b[0m\u001b[1;33m:\u001b[0m\u001b[1;33m\u001b[0m\u001b[0m\n",
      "\u001b[0;32mD:\\ProgramData\\Anaconda3\\lib\\site-packages\\theano\\ifelse.py\u001b[0m in \u001b[0;36mthunk\u001b[0;34m()\u001b[0m\n\u001b[1;32m    279\u001b[0m                             \u001b[0mval\u001b[0m \u001b[1;33m=\u001b[0m \u001b[0mstorage_map\u001b[0m\u001b[1;33m[\u001b[0m\u001b[0mf\u001b[0m\u001b[1;33m]\u001b[0m\u001b[1;33m[\u001b[0m\u001b[1;36m0\u001b[0m\u001b[1;33m]\u001b[0m\u001b[1;33m\u001b[0m\u001b[0m\n\u001b[1;32m    280\u001b[0m                             \u001b[1;32mif\u001b[0m \u001b[0mtype\u001b[0m\u001b[1;33m(\u001b[0m\u001b[0mval\u001b[0m\u001b[1;33m)\u001b[0m \u001b[1;32min\u001b[0m \u001b[1;33m(\u001b[0m\u001b[0mnumpy\u001b[0m\u001b[1;33m.\u001b[0m\u001b[0mndarray\u001b[0m\u001b[1;33m,\u001b[0m \u001b[0mnumpy\u001b[0m\u001b[1;33m.\u001b[0m\u001b[0mmemmap\u001b[0m\u001b[1;33m)\u001b[0m\u001b[1;33m:\u001b[0m\u001b[1;33m\u001b[0m\u001b[0m\n\u001b[0;32m--> 281\u001b[0;31m                                 \u001b[0mstorage_map\u001b[0m\u001b[1;33m[\u001b[0m\u001b[0mout\u001b[0m\u001b[1;33m]\u001b[0m\u001b[1;33m[\u001b[0m\u001b[1;36m0\u001b[0m\u001b[1;33m]\u001b[0m \u001b[1;33m=\u001b[0m \u001b[0mval\u001b[0m\u001b[1;33m.\u001b[0m\u001b[0mcopy\u001b[0m\u001b[1;33m(\u001b[0m\u001b[1;33m)\u001b[0m\u001b[1;33m\u001b[0m\u001b[0m\n\u001b[0m\u001b[1;32m    282\u001b[0m                             \u001b[1;32melse\u001b[0m\u001b[1;33m:\u001b[0m\u001b[1;33m\u001b[0m\u001b[0m\n\u001b[1;32m    283\u001b[0m                                 \u001b[0mstorage_map\u001b[0m\u001b[1;33m[\u001b[0m\u001b[0mout\u001b[0m\u001b[1;33m]\u001b[0m\u001b[1;33m[\u001b[0m\u001b[1;36m0\u001b[0m\u001b[1;33m]\u001b[0m \u001b[1;33m=\u001b[0m \u001b[0mdeepcopy\u001b[0m\u001b[1;33m(\u001b[0m\u001b[0mval\u001b[0m\u001b[1;33m)\u001b[0m\u001b[1;33m\u001b[0m\u001b[0m\n",
      "\u001b[0;31mKeyboardInterrupt\u001b[0m: "
     ]
    }
   ],
   "source": [
    "trials = Trials()\n",
    "\n",
    "best = fmin(objective, space, algo=tpe.suggest, trials=trials, max_evals=1000)\n",
    "\n",
    "print('FINISHED!================')\n",
    "print(best)"
   ]
  },
  {
   "cell_type": "code",
   "execution_count": null,
   "metadata": {
    "collapsed": true
   },
   "outputs": [],
   "source": []
  },
  {
   "cell_type": "code",
   "execution_count": null,
   "metadata": {
    "collapsed": true
   },
   "outputs": [],
   "source": [
    "Params testing:  {'batch_size': 256, 'choice': {'dropout2': 0.6, 'layers': 'two', 'units2': 135}, 'dropout1': 0.5, 'epochs': 70, 'learning_rate': 0.01, 'loss': 'mean_squared_error', 'units1': 120}\n",
    "^^^^^^^^^^^^^^^^^^^^^^^^^^^^^^^^^^^^^^^^^^^^^^^^\n",
    "New best params with score: -5701.98415097\n",
    "Score: 0.570199308069\n",
    "Std: 0.0158490291934\n",
    "    \n",
    "Params testing:  {'batch_size': 256, 'choice': {'dropout2': 0.3, 'layers': 'two', 'units2': 120}, 'dropout1': 0.2, 'epochs': 70, 'learning_rate': 0.02, 'loss': 'mean_squared_error', 'units1': 105}\n",
    "^^^^^^^^^^^^^^^^^^^^^^^^^^^^^^^^^^^^^^^^^^^^^^^^\n",
    "New best params with score: -5701.97841617\n",
    "Score: 0.570185563777\n",
    "Std: 0.0215838348883\n",
    "    \n",
    "Params testing:  {'batch_size': 128, 'choice': {'dropout2': 0.6, 'layers': 'two', 'units2': 30}, 'dropout1': 0.1, 'epochs': 100, 'learning_rate': 0.01, 'loss': 'categorical_crossentropy', 'units1': 90}\n",
    "^^^^^^^^^^^^^^^^^^^^^^^^^^^^^^^^^^^^^^^^^^^^^^^^\n",
    "New best params with score: -5694.9773857\n",
    "Score: 0.569510138566\n",
    "Std: 0.022614299518"
   ]
  }
 ],
 "metadata": {
  "kernelspec": {
   "display_name": "Python 3",
   "language": "python",
   "name": "python3"
  },
  "language_info": {
   "codemirror_mode": {
    "name": "ipython",
    "version": 3
   },
   "file_extension": ".py",
   "mimetype": "text/x-python",
   "name": "python",
   "nbconvert_exporter": "python",
   "pygments_lexer": "ipython3",
   "version": "3.6.0"
  }
 },
 "nbformat": 4,
 "nbformat_minor": 2
}
