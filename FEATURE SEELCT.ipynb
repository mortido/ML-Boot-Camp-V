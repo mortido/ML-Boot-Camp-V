{
 "cells": [
  {
   "cell_type": "code",
   "execution_count": 23,
   "metadata": {
    "collapsed": false
   },
   "outputs": [],
   "source": [
    "import pandas as pd\n",
    "import numpy as np\n",
    "\n",
    "from mlxtend.feature_selection import SequentialFeatureSelector as SFS\n",
    "\n",
    "import matplotlib.pyplot as plt\n",
    "from xgboost import plot_importance\n",
    "from mlxtend.plotting import plot_sequential_feature_selection as plot_sfs\n",
    "import seaborn as sns\n",
    "\n",
    "import lightgbm as lgb\n",
    "import xgboost as xgb\n",
    "\n",
    "import utils\n",
    "\n",
    "plt.style.use('ggplot')\n",
    "%matplotlib inline"
   ]
  },
  {
   "cell_type": "code",
   "execution_count": 40,
   "metadata": {
    "collapsed": false
   },
   "outputs": [],
   "source": [
    "def clean_data(data):\n",
    "    data['error_group'] = 0\n",
    "\n",
    "    # weight/height correction\n",
    "    idx = (data['height']<130) & (data['weight']>150)\n",
    "    data.loc[idx, [\"height\", \"weight\"]] = data.loc[idx, [\"weight\", \"height\"]].values\n",
    "#     data.loc[idx, 'error_group'] = 100-1\n",
    "\n",
    "    # preasure correction\n",
    "    data.loc[data[\"ap_hi\"] < 0, \"ap_hi\"] *= -1\n",
    "    data.loc[data[\"ap_lo\"] < 0, \"ap_lo\"] *= -1\n",
    "    \n",
    "    for i in range(10):\n",
    "        str_i = str(i)\n",
    "        data['hi_' + str_i + 's'] = data['ap_hi'].apply(lambda x: str(x).count(str_i))\n",
    "        data['lo_' + str_i + 's'] = data['ap_lo'].apply(lambda x: str(x).count(str_i))\n",
    "        for j in range(10):\n",
    "            str_j = str_i + str(j)\n",
    "            data['hi_' + str_j + 's'] = data['ap_hi'].apply(lambda x: str(x).count(str_j))\n",
    "            data['lo_' + str_j + 's'] = data['ap_lo'].apply(lambda x: str(x).count(str_j))\n",
    "        \n",
    "    data.loc[(data['ap_lo'] < 20), 'error_group'] = 5\n",
    "    data.loc[(data['ap_hi'] < 50), 'error_group'] = 6\n",
    "    data.loc[(data['ap_lo'] > 250), 'error_group'] = 1\n",
    "    data.loc[(data['ap_lo'] > 4000), 'error_group'] = 2\n",
    "    data.loc[(data['ap_hi'] > 250), 'error_group'] = 3\n",
    "    data.loc[(data['ap_hi'] > 10000), 'error_group'] = 4\n",
    "\n",
    "    data.loc[(data[\"ap_hi\"] < 20) & (data[\"ap_hi\"] > 10), \"ap_hi\"] *= 10\n",
    "    data.loc[(data[\"ap_lo\"] < 15) & (data[\"ap_lo\"] > 2), \"ap_lo\"] *= 10\n",
    "\n",
    "    idx = data['ap_hi'] > 10000\n",
    "    data.loc[idx, 'ap_hi'] = 10 * (data.loc[idx, 'ap_hi'] // 1000)\n",
    "    data.loc[data['ap_lo'] >= 10000, 'ap_lo'] //= 100\n",
    "    \n",
    "    manual_update = [\n",
    "        (12494, ['ap_hi', 'ap_lo'], [120, 80]),\n",
    "        (42591, ['ap_hi', 'ap_lo'], [140, 90]), # ?\n",
    "        (78873, ['ap_hi', 'ap_lo'], [130, 100]), # ?\n",
    "        (51749, ['ap_hi', 'ap_lo'], [120, 80]),\n",
    "        (57807, ['ap_hi', 'ap_lo'], [170, 100]),\n",
    "        (60477, ['ap_hi', 'ap_lo'], [110, 80]),\n",
    "        (91198, ['ap_hi', 'ap_lo'], [100, 90]),\n",
    "        (6580,  ['ap_hi', 'ap_lo'], [110, 90]),\n",
    "        (44701, ['ap_hi', 'ap_lo'], [120, 70]),\n",
    "        (94673,  ['ap_hi', 'ap_lo'], [110, 60]),\n",
    "        \n",
    "    ]\n",
    "    for idx, cols, update in manual_update:\n",
    "        data.loc[data['id']==idx, cols] = update\n",
    "    return data\n",
    "\n",
    "def new_features(data):\n",
    "    data[\"BMI\"] = 10000 * data[\"weight\"] / (data[\"height\"] * data[\"height\"])\n",
    "    data[\"BMI_1\"] = 100 * data[\"weight\"] / data[\"height\"]\n",
    "    data[\"BMI_3\"] = 1000000 * data[\"weight\"] / (data[\"height\"] * data[\"height\"] * data[\"height\"])\n",
    "    data[\"BMI_4\"] = 100000000 * data[\"weight\"] / (data[\"height\"] * data[\"height\"] * data[\"height\"] * data[\"height\"])\n",
    "    data[\"ap_dif\"] = data[\"ap_hi\"] - data[\"ap_lo\"]\n",
    "    data[\"MAP\"] = (data[\"ap_lo\"] * 2 + data[\"ap_dif\"] )/ 3.0\n",
    "    \n",
    "    data[\"age_years\"] = np.round(data[\"age\"] / 365)\n",
    "    \n",
    "    age_bins = [0, 10000, 14000, 14980, 15700, 16420, 17140, 17890, 18625, 19355, 20090, 20820, 21555, 22280, 22990, 24000]\n",
    "    age_names = [25, 30, 40, 42, 44, 46, 48, 50, 52, 54, 56, 58, 60, 62, 64]\n",
    "    data[\"age_group\"] = pd.cut(data['age'], age_bins, labels=age_names)\n",
    "\n",
    "    return data"
   ]
  },
  {
   "cell_type": "code",
   "execution_count": 41,
   "metadata": {
    "collapsed": false
   },
   "outputs": [
    {
     "name": "stdout",
     "output_type": "stream",
     "text": [
      "Index(['age_group_gender', 'age_group_MAP', 'gender_MAP'], dtype='object')\n"
     ]
    }
   ],
   "source": [
    "train = pd.read_csv('train.csv', sep=';')\n",
    "test = pd.read_csv('test.csv', sep=';', na_values='None')\n",
    "\n",
    "train = clean_data(train)\n",
    "test = clean_data(test)\n",
    "\n",
    "train = new_features(train)\n",
    "test = new_features(test)\n",
    "\n",
    "X_train = train.drop([ 'cardio'], axis=1)\n",
    "y_train = train['cardio'].values.ravel()\n",
    "X_test = test.drop([], axis=1)\n",
    "\n",
    "columns_to_interact = ['age_group', 'gender', 'MAP']\n",
    "temp = utils.generate_interactions(X_train, columns_to_interact, 2)\n",
    "X_train = pd.concat((X_train, temp), axis=1)\n",
    "X_test = pd.concat((X_test, utils.generate_interactions(X_test, columns_to_interact, 2)), axis=1)\n",
    "print(temp.columns)\n",
    "\n",
    "X = pd.concat((X_train, X_test), axis=0)\n",
    "\n",
    "from sklearn.preprocessing import LabelEncoder\n",
    "from collections import defaultdict\n",
    "label_encoder_dict = defaultdict(LabelEncoder)\n",
    "columns_to_encode = ['age_group'] + list(temp.columns)\n",
    "\n",
    "\n",
    "X[columns_to_encode].apply(lambda x: label_encoder_dict[x.name].fit(x))\n",
    "X_train[columns_to_encode] = X_train[columns_to_encode].apply(lambda x: label_encoder_dict[x.name].transform(x))\n",
    "X_test[columns_to_encode] = X_test[columns_to_encode].apply(lambda x: label_encoder_dict[x.name].transform(x))"
   ]
  },
  {
   "cell_type": "code",
   "execution_count": 42,
   "metadata": {
    "collapsed": false
   },
   "outputs": [],
   "source": [
    "from sklearn.model_selection import train_test_split\n",
    "__, idx = train_test_split(list(range(X_train.shape[0])), test_size=0.101, random_state=42)\n",
    "X_train.loc[idx, 'alco'] = np.nan\n",
    "__, idx = train_test_split(list(range(X_train.shape[0])), test_size=0.101, random_state=43)\n",
    "X_train.loc[idx, 'smoke'] = np.nan\n",
    "__, idx = train_test_split(list(range(X_train.shape[0])), test_size=0.096, random_state=44)\n",
    "X_train.loc[idx, 'active'] = np.nan\n",
    "\n",
    "from sklearn.neighbors import KNeighborsRegressor, KNeighborsClassifier\n",
    "from sklearn.model_selection import StratifiedKFold\n",
    "from sklearn.preprocessing import scale\n",
    "from sklearn.model_selection import cross_val_score\n",
    "from sklearn.base import clone\n",
    "\n",
    "def impute_nans(model, X_train, X_test, columns, target, perform_cv = False, scoring='accuracy'):\n",
    "    X = pd.concat((X_train, X_test), axis=0)\n",
    "    train_idx = ~X[target].isnull()\n",
    "    model = clone(model)\n",
    "    model.fit(X.loc[train_idx, columns], X.loc[train_idx, target])\n",
    "    X_train.loc[X_train[target].isnull(), target] = model.predict(X_train.loc[X_train[target].isnull(), columns])\n",
    "    X_test.loc[X_test[target].isnull(), target] = model.predict(X_test.loc[X_test[target].isnull(), columns])\n",
    "    \n",
    "    if perform_cv:\n",
    "        n_folds = 7\n",
    "        kf = StratifiedKFold(random_state=111, n_splits=n_folds, shuffle=True)\n",
    "        scores = cross_val_score(model, X.loc[train_idx, columns], X.loc[train_idx, target], cv=kf, scoring=scoring)\n",
    "        print(target, np.mean(scores), 'on', n_folds, 'folds', 'with mean on train', X.loc[train_idx, target].mean())\n",
    "    \n",
    "params = {\n",
    "    'colsample_bytree': 0.8,\n",
    "    'learning_rate': 0.1,\n",
    "    'n_estimators': 200,\n",
    "    'subsample': 0.8,\n",
    "    'n_jobs': 4,\n",
    "    'random_state': 2707,\n",
    "    'silent': True,\n",
    "}\n",
    "clf = xgb.XGBClassifier(**params)\n",
    "\n",
    "columns = ['age', 'gender', 'height', 'weight', 'ap_hi', 'ap_lo', 'cholesterol', 'gluc','BMI', 'ap_dif', 'MAP']\n",
    "impute_nans(clf, X_train, X_test, columns, 'smoke')#, perform_cv = True)\n",
    "\n",
    "columns = ['age', 'gender', 'height', 'weight', 'ap_hi', 'ap_lo', 'cholesterol', 'gluc','BMI', 'ap_dif', 'MAP', ]\n",
    "impute_nans(clf, X_train, X_test, columns, 'alco')#, perform_cv = True)\n",
    "\n",
    "columns = ['age', 'gender', 'height', 'weight', 'ap_hi', 'ap_lo', 'cholesterol', 'gluc','BMI', 'ap_dif', 'MAP', ]\n",
    "impute_nans(clf, X_train, X_test, columns, 'active')#, perform_cv = True)"
   ]
  },
  {
   "cell_type": "code",
   "execution_count": 43,
   "metadata": {
    "collapsed": false
   },
   "outputs": [
    {
     "data": {
      "text/plain": [
       "Index(['id', 'age', 'gender', 'height', 'weight', 'ap_hi', 'ap_lo',\n",
       "       'cholesterol', 'gluc', 'smoke',\n",
       "       ...\n",
       "       'BMI_1', 'BMI_3', 'BMI_4', 'ap_dif', 'MAP', 'age_years', 'age_group',\n",
       "       'age_group_gender', 'age_group_MAP', 'gender_MAP'],\n",
       "      dtype='object', length=244)"
      ]
     },
     "execution_count": 43,
     "metadata": {},
     "output_type": "execute_result"
    }
   ],
   "source": [
    "X_train.columns"
   ]
  },
  {
   "cell_type": "code",
   "execution_count": 52,
   "metadata": {
    "collapsed": false
   },
   "outputs": [
    {
     "data": {
      "text/plain": [
       "[2, 3, 5, 6, 7, 8, 9, 10, 11, 146, 233, 242]"
      ]
     },
     "execution_count": 52,
     "metadata": {},
     "output_type": "execute_result"
    }
   ],
   "source": [
    "start_columns = [#'age', 'gender', 'height', 'weight', 'ap_hi', 'ap_lo', 'cholesterol', 'gluc','BMI', 'smoke', 'alco', 'active']\n",
    "'gender',\n",
    "'height',\n",
    "'ap_hi',\n",
    "'ap_lo',\n",
    "'cholesterol',\n",
    "'gluc',\n",
    "'smoke',\n",
    "'alco',\n",
    "'active',\n",
    "'lo_6s',\n",
    "'BMI',\n",
    "'age_group_MAP',\n",
    "]\n",
    "\n",
    "\n",
    "start=[]\n",
    "for sc in start_columns:\n",
    "    start.append(X_train.columns.get_loc(sc))\n",
    "start"
   ]
  },
  {
   "cell_type": "code",
   "execution_count": 53,
   "metadata": {
    "collapsed": false
   },
   "outputs": [
    {
     "name": "stdout",
     "output_type": "stream",
     "text": [
      "0.00976709\t\tlo_6s\n",
      "0.0150263\t\tsmoke\n",
      "0.0172802\t\tgender\n",
      "0.0187829\t\talco\n",
      "0.0240421\t\tactive\n",
      "0.0480841\t\tgluc\n",
      "0.0788881\t\tcholesterol\n",
      "0.0894065\t\tap_lo\n",
      "0.105184\t\theight\n",
      "0.16003\t\tap_hi\n",
      "0.194591\t\tage_group_MAP\n",
      "0.238918\t\tBMI\n"
     ]
    },
    {
     "data": {
      "image/png": "[encoded data removed]",
      "text/plain": [
       "<matplotlib.figure.Figure at 0x160841456d8>"
      ]
     },
     "metadata": {},
     "output_type": "display_data"
    }
   ],
   "source": [
    "params = {\n",
    "    'colsample_bytree': 0.8,\n",
    "    'learning_rate': 0.1,\n",
    "    'n_estimators': 200,\n",
    "    'subsample': 0.8,\n",
    "    'n_jobs': 1,\n",
    "    'random_state': 2707,\n",
    "    'silent': True,\n",
    "}\n",
    "clf = xgb.XGBClassifier(**params)\n",
    "clf.fit(X_train[start_columns], y_train)\n",
    "for a, b in sorted(zip(clf.feature_importances_, X_train[start_columns].columns)):\n",
    "    print(a,b, sep='\\t\\t')\n",
    "plot_importance(clf)\n",
    "plt.show()"
   ]
  },
  {
   "cell_type": "code",
   "execution_count": 54,
   "metadata": {
    "collapsed": true
   },
   "outputs": [],
   "source": [
    "kf = StratifiedKFold(random_state=12, n_splits=10, shuffle=True)\n",
    "sfs = SFS(clf, \n",
    "           k_features=42, \n",
    "           forward=True, \n",
    "           floating=True, \n",
    "           verbose=2,\n",
    "           scoring='neg_log_loss',\n",
    "#            scoring='accuracy',\n",
    "           n_jobs=1,\n",
    "           cv=kf)"
   ]
  },
  {
   "cell_type": "code",
   "execution_count": null,
   "metadata": {
    "collapsed": false
   },
   "outputs": [],
   "source": [
    "sfs = sfs.fit(X_train.values, y_train, start_features=start)"
   ]
  },
  {
   "cell_type": "code",
   "execution_count": null,
   "metadata": {
    "collapsed": false
   },
   "outputs": [],
   "source": [
    "pd.DataFrame.from_dict(sfs.get_metric_dict()).T"
   ]
  },
  {
   "cell_type": "code",
   "execution_count": null,
   "metadata": {
    "collapsed": false
   },
   "outputs": [],
   "source": [
    "fig1 = plot_sfs(sfs.get_metric_dict(), kind='std_dev')\n",
    "\n",
    "plt.ylim([0.52, 0.55])\n",
    "plt.title('Sequential Forward Selection (w. StdDev)')\n",
    "plt.grid()\n",
    "plt.show()"
   ]
  },
  {
   "cell_type": "code",
   "execution_count": null,
   "metadata": {
    "collapsed": false
   },
   "outputs": [],
   "source": [
    "sfs.get_metric_dict()"
   ]
  },
  {
   "cell_type": "code",
   "execution_count": 51,
   "metadata": {
    "collapsed": false
   },
   "outputs": [
    {
     "name": "stdout",
     "output_type": "stream",
     "text": [
      "gender\n",
      "height\n",
      "ap_hi\n",
      "ap_lo\n",
      "cholesterol\n",
      "gluc\n",
      "smoke\n",
      "alco\n",
      "active\n",
      "lo_6s\n",
      "BMI\n",
      "age_group_MAP\n"
     ]
    }
   ],
   "source": [
    "for i in (2, 3, 5, 6, 7, 8, 9, 10, 11, 146, 233, 242):\n",
    "    print(X_train.columns[i])"
   ]
  },
  {
   "cell_type": "code",
   "execution_count": null,
   "metadata": {
    "collapsed": true
   },
   "outputs": [],
   "source": []
  },
  {
   "cell_type": "code",
   "execution_count": null,
   "metadata": {
    "collapsed": true
   },
   "outputs": [],
   "source": []
  },
  {
   "cell_type": "code",
   "execution_count": null,
   "metadata": {
    "collapsed": true
   },
   "outputs": [],
   "source": []
  },
  {
   "cell_type": "code",
   "execution_count": null,
   "metadata": {
    "collapsed": true
   },
   "outputs": [],
   "source": []
  },
  {
   "cell_type": "code",
   "execution_count": null,
   "metadata": {
    "collapsed": true
   },
   "outputs": [],
   "source": []
  }
 ],
 "metadata": {
  "kernelspec": {
   "display_name": "Python 3",
   "language": "python",
   "name": "python3"
  },
  "language_info": {
   "codemirror_mode": {
    "name": "ipython",
    "version": 3
   },
   "file_extension": ".py",
   "mimetype": "text/x-python",
   "name": "python",
   "nbconvert_exporter": "python",
   "pygments_lexer": "ipython3",
   "version": "3.6.0"
  }
 },
 "nbformat": 4,
 "nbformat_minor": 2
}
