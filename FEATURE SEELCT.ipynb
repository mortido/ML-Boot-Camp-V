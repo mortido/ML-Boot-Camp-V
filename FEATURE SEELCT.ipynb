{
 "cells": [
  {
   "cell_type": "code",
   "execution_count": 1,
   "metadata": {
    "collapsed": false
   },
   "outputs": [],
   "source": [
    "import pandas as pd\n",
    "import numpy as np\n",
    "\n",
    "from mlxtend.feature_selection import SequentialFeatureSelector as SFS\n",
    "\n",
    "import matplotlib.pyplot as plt\n",
    "from xgboost import plot_importance\n",
    "from mlxtend.plotting import plot_sequential_feature_selection as plot_sfs\n",
    "from sklearn.model_selection import StratifiedKFold\n",
    "import seaborn as sns\n",
    "\n",
    "import lightgbm as lgb\n",
    "import xgboost as xgb\n",
    "\n",
    "import utils\n",
    "\n",
    "plt.style.use('ggplot')\n",
    "%matplotlib inline\n",
    "from sklearn.metrics import log_loss"
   ]
  },
  {
   "cell_type": "code",
   "execution_count": 2,
   "metadata": {
    "collapsed": false
   },
   "outputs": [],
   "source": [
    "train = pd.read_csv('train.csv', sep=';')\n",
    "test = pd.read_csv('test.csv', sep=';', na_values='None')\n",
    "\n",
    "train = utils.clean_data(train, more_clean=True)\n",
    "test = utils.clean_data(test, more_clean=True)\n",
    "\n",
    "train = utils.new_features(train)\n",
    "test = utils.new_features(test)\n",
    "\n",
    "X_train = train.drop([ 'cardio'], axis=1)\n",
    "y_train = train['cardio'].values.ravel()\n",
    "X_test = test.drop([], axis=1)\n",
    "\n",
    "data = pd.concat((train.drop('cardio', axis=1), test), axis=0)\n",
    "dic = data.groupby('age_group_orig')['age'].mean().to_dict()\n",
    "X_train['age_dif'] = X_train[['age_group_orig', 'age']].apply(lambda x: x['age'] - dic[x['age_group_orig']], axis=1)\n",
    "X_test['age_dif'] = X_test[['age_group_orig', 'age']].apply(lambda x: x['age'] - dic[x['age_group_orig']], axis=1)\n",
    "\n",
    "dic2 = data.groupby('age_group_orig')['age'].min().to_dict()\n",
    "dic3 = data.groupby('age_group_orig')['age'].max().to_dict()\n",
    "X_train['age_dif2'] = X_train[['age_group_orig', 'age']].apply(lambda x: (x['age'] - dic2[x['age_group_orig']]) / dic3[x['age_group_orig']], axis=1)\n",
    "X_test['age_dif2']  =  X_test[['age_group_orig', 'age']].apply(lambda x: (x['age'] - dic2[x['age_group_orig']]) / dic3[x['age_group_orig']], axis=1)\n",
    "\n",
    "dic3 = data.groupby('age_group_orig')['age'].std().to_dict()\n",
    "X_train['age_dif3'] = X_train[['age_group_orig', 'age']].apply(lambda x: (x['age'] - dic2[x['age_group_orig']]) / dic3[x['age_group_orig']], axis=1)\n",
    "X_test['age_dif3']  =  X_test[['age_group_orig', 'age']].apply(lambda x: (x['age'] - dic2[x['age_group_orig']]) / dic3[x['age_group_orig']], axis=1)\n"
   ]
  },
  {
   "cell_type": "code",
   "execution_count": 3,
   "metadata": {
    "collapsed": false
   },
   "outputs": [
    {
     "data": {
      "text/plain": [
       "[2,\n",
       " 5,\n",
       " 6,\n",
       " 7,\n",
       " 14,\n",
       " 15,\n",
       " 16,\n",
       " 147,\n",
       " 151,\n",
       " 18,\n",
       " 28,\n",
       " 312,\n",
       " 324,\n",
       " 443,\n",
       " 260,\n",
       " 93,\n",
       " 119,\n",
       " 302,\n",
       " 231,\n",
       " 382,\n",
       " 365,\n",
       " 331]"
      ]
     },
     "execution_count": 3,
     "metadata": {},
     "output_type": "execute_result"
    }
   ],
   "source": [
    "start_columns = [\n",
    "'gender',\n",
    "'ap_hi',\n",
    "'ap_lo',\n",
    "'cholesterol',\n",
    "'active_fair',\n",
    "'smoke_restored',\n",
    "'alco_restored',\n",
    "'height_mul_log_cholesterol',\n",
    "'height_mul_log_gluc',\n",
    "'BMI',\n",
    "'age_group',\n",
    "'cholesterol_div_log_gluc',\n",
    "'gluc_mul_log_age',\n",
    "'age_dif2',\n",
    "'ap_lo_mul_log_ap_hi',\n",
    "'age_group_div_height',\n",
    "'age_group_mul_log_MAP',\n",
    "'cholesterol_div_ap_hi',\n",
    "'ap_hi_mul_log_gluc',\n",
    "'BMI_div_ap_hi',\n",
    "'BMI_div_log_age',\n",
    "# 'gluc',\n",
    "'gluc_mul_height',\n",
    "    \n",
    "# gender\n",
    "# ap_hi\n",
    "# ap_lo\n",
    "# cholesterol\n",
    "# active_fair\n",
    "# smoke_restored\n",
    "# alco_restored\n",
    "# height_mul_log_cholesterol\n",
    "# height_mul_log_gluc\n",
    "# BMI\n",
    "# age_group\n",
    "# cholesterol_div_log_gluc\n",
    "# gluc_mul_log_age\n",
    "# ap_hi_mul_weight\n",
    "# age_dif\n",
    "# ap_lo_mul_log_ap_hi\n",
    "# age_group_div_height\n",
    "# age_group_mul_log_MAP\n",
    "]\n",
    "\n",
    "additional = [\n",
    "    'age_dif','age_dif3',\n",
    " 'ap_hi_group_3', 'ap_hi_group_4',\n",
    "'ap_lo_group_3', 'ap_lo_group_4',\n",
    "'gluc',\n",
    "    'ap_hi_group_2',\n",
    " 'MAP_div_BMI',\n",
    " 'cholesterol_div_weight',\n",
    " 'gluc_div_age_group',\n",
    " 'MAP_div_ap_lo',\n",
    " 'age_group_div_cholesterol',\n",
    " 'cholesterol_div_age_group',\n",
    " 'ap_hi_div_cholesterol',\n",
    " 'age_group_mul_log_MAP',\n",
    " 'age_div_age_group',\n",
    " 'ap_hi_div_weight',\n",
    " 'MAP_div_gluc',\n",
    " 'gluc_div_log_ap_lo',\n",
    " 'cholesterol_div_ap_hi',\n",
    " 'ap_lo_div_log_cholesterol',\n",
    " 'ap_lo_mul_log_height',\n",
    " 'age_mul_log_gluc',\n",
    " 'age_group_div_height',\n",
    " 'ap_hi_div_ap_lo',\n",
    " 'age_group_div_log_age',\n",
    " 'age_group_div_age',\n",
    " 'ap_lo_mul_log_ap_hi',\n",
    " 'ap_hi_div_log_age',\n",
    " 'cholesterol_mul_log_ap_hi',\n",
    " 'ap_hi_div_log_ap_hi',\n",
    " 'ap_hi_log',\n",
    " 'ap_hi_mul_ap_hi',\n",
    " 'ap_hi_mul_log_ap_hi',\n",
    " 'age_group_mul_log_ap_lo',\n",
    " 'BMI_div_MAP',\n",
    " 'height_mul_log_ap_hi',\n",
    " 'cholesterol_div_log_ap_hi',\n",
    " 'age_group_mul_weight',\n",
    " 'weight_mul_age_group',\n",
    " 'gluc_div_log_ap_hi',\n",
    " 'weight_mul_log_cholesterol',\n",
    " 'cholesterol_mul_log_age',\n",
    " 'ap_dif_2',\n",
    " 'height_div_log_gluc',\n",
    " 'gluc_div_height',\n",
    " 'cholesterol_div_age',\n",
    " 'gluc_mul_height',\n",
    " 'height_mul_gluc',\n",
    " 'gluc_mul_log_height',\n",
    " 'age_group_mul_gluc',\n",
    " 'gluc_mul_age_group',\n",
    " 'ap_hi_div_log_gluc',\n",
    " 'gluc_div_log_MAP',\n",
    " 'MAP_mul_age_group',\n",
    " 'age_group_MAPX',\n",
    " 'age_group_mul_MAP',\n",
    " 'ap_hi_div_log_height',\n",
    " 'weight_mul_log_age_group',\n",
    " 'age_group_div_weight',\n",
    " 'MAP_div_cholesterol',\n",
    " 'age_group_mul_log_BMI',\n",
    " 'weight_div_age_group',\n",
    " 'MAP_mul_ap_lo',\n",
    " 'ap_lo_mul_MAP',\n",
    " 'MAP_div_weight',\n",
    " 'age_mul_gluc',\n",
    " 'gluc_mul_age',\n",
    " 'age_group_div_log_weight',\n",
    " 'ap_hi_div_gluc',\n",
    " 'gluc_mul_log_cholesterol',\n",
    " 'ap_lo_div_MAP',\n",
    " 'height_div_BMI',\n",
    " 'height_div_log_age',\n",
    " 'cholesterol_div_log_age_group',\n",
    " 'ap_hi_div_age_group',\n",
    " 'height_div_gluc',\n",
    " 'age_group_div_log_MAP',\n",
    " 'cholesterol_div_log_age',\n",
    " 'gluc_div_ap_hi',\n",
    " 'cholesterol_mul_gluc',\n",
    " 'gluc_mul_cholesterol',\n",
    " 'age_div_cholesterol',\n",
    " 'cholesterol_div_MAP',\n",
    " 'cholesterol_mul_log_gluc',\n",
    " 'age_group_mul_log_height',\n",
    " 'ap_hi_mul_log_gluc',\n",
    " 'BMI_div_ap_hi',\n",
    " 'MAP_mul_cholesterol',\n",
    " 'cholesterol_mul_MAP',\n",
    " 'gluc_div_cholesterol',\n",
    " 'age_group_div_log_cholesterol',\n",
    " 'cholesterol_div_log_MAP',\n",
    " 'age_mul_cholesterol',\n",
    " 'cholesterol_mul_age',\n",
    " 'age_group_mul_log_weight',\n",
    " 'BMI_group',\n",
    " 'height_group',\n",
    " 'height_div_age_group',\n",
    " 'weight_div_log_height',\n",
    " 'ap_hi_mul_log_age_group',\n",
    " 'weight_div_ap_lo',\n",
    " 'ap_dif',\n",
    " 'gluc_mul_log_age_group',\n",
    " 'gluc_div_log_age_group',\n",
    " 'BMI_div_cholesterol',\n",
    " 'BMI_3',\n",
    " 'age_group_mul_log_cholesterol',\n",
    " 'BMI_div_log_age',\n",
    " 'weight_group',\n",
    " 'cholesterol_div_log_ap_lo',\n",
    " 'BMI_mul_ap_hi',\n",
    " 'ap_hi_mul_BMI',\n",
    " 'MAP_div_log_age_group'\n",
    "]\n",
    "\n",
    "# cols = list(start_columns)\n",
    "# for c in additional:\n",
    "#     if c not in cols:\n",
    "#         cols.append(c)\n",
    "\n",
    "# X_train = X_train[cols]\n",
    "start=[]\n",
    "for sc in start_columns:\n",
    "    start.append(X_train.columns.get_loc(sc))\n",
    "start\n",
    "# X_train['age_dif']"
   ]
  },
  {
   "cell_type": "code",
   "execution_count": 4,
   "metadata": {
    "collapsed": false
   },
   "outputs": [],
   "source": [
    "# X_train[start_columns+additional]['age_dif']"
   ]
  },
  {
   "cell_type": "code",
   "execution_count": 4,
   "metadata": {
    "collapsed": false
   },
   "outputs": [
    {
     "data": {
      "text/plain": [
       "445"
      ]
     },
     "execution_count": 4,
     "metadata": {},
     "output_type": "execute_result"
    }
   ],
   "source": [
    "len(X_train.columns)"
   ]
  },
  {
   "cell_type": "code",
   "execution_count": 6,
   "metadata": {
    "collapsed": false
   },
   "outputs": [
    {
     "name": "stdout",
     "output_type": "stream",
     "text": [
      "0.00349092\t\tage_group\n",
      "0.00817874\t\tcholesterol\n",
      "0.00917614\t\tgender\n",
      "0.00987433\t\talco_restored\n",
      "0.0102733\t\tgluc_mul_height\n",
      "0.0137642\t\tsmoke_restored\n",
      "0.0159585\t\tap_lo\n",
      "0.0248354\t\tap_hi_mul_log_gluc\n",
      "0.0257331\t\tcholesterol_div_ap_hi\n",
      "0.0261321\t\tcholesterol_div_log_gluc\n",
      "0.0316178\t\tactive_fair\n",
      "0.0442849\t\tap_lo_mul_log_ap_hi\n",
      "0.0549571\t\tap_hi\n",
      "0.0571514\t\theight_mul_log_gluc\n",
      "0.0718133\t\tage_group_div_height\n",
      "0.0720128\t\tage_group_mul_log_MAP\n",
      "0.0764014\t\tBMI_div_ap_hi\n",
      "0.085777\t\theight_mul_log_cholesterol\n",
      "0.0872731\t\tBMI_div_log_age\n",
      "0.0885697\t\tgluc_mul_log_age\n",
      "0.0892679\t\tBMI\n",
      "0.093457\t\tage_dif2\n"
     ]
    },
    {
     "data": {
      "image/png": "[encoded data removed]",
      "text/plain": [
       "<matplotlib.figure.Figure at 0x176faa9d208>"
      ]
     },
     "metadata": {},
     "output_type": "display_data"
    }
   ],
   "source": [
    "params = {\n",
    " 'colsample_bytree': 0.875,\n",
    "     'gamma': 0.05,\n",
    "     'learning_rate': 0.02,\n",
    "     'max_depth': 5,\n",
    "     'min_child_weight': 5,\n",
    "     'n_estimators': 369,\n",
    "\n",
    "     'reg_alpha': 0,\n",
    "     'reg_lambda': 10,\n",
    "     'subsample': 0.7,\n",
    "    \n",
    "    'n_jobs': -1,\n",
    "    'random_state': 1111,\n",
    "    'silent': True,\n",
    "}\n",
    "clf = xgb.XGBClassifier(**params)\n",
    "clf.fit(X_train[start_columns], y_train)\n",
    "for a, b in sorted(zip(clf.feature_importances_, X_train[start_columns].columns)):\n",
    "    print(a,b, sep='\\t\\t')\n",
    "plot_importance(clf)\n",
    "plt.show()"
   ]
  },
  {
   "cell_type": "code",
   "execution_count": 11,
   "metadata": {
    "collapsed": false
   },
   "outputs": [],
   "source": [
    "kf = StratifiedKFold(random_state=11111, n_splits=7, shuffle=True)\n",
    "sfs = SFS(clf, \n",
    "           k_features=42, \n",
    "           forward=True, \n",
    "           floating=True, \n",
    "           verbose=2,\n",
    "           scoring='neg_log_loss',\n",
    "#            scoring='accuracy',\n",
    "           n_jobs=1,\n",
    "           cv=kf)"
   ]
  },
  {
   "cell_type": "code",
   "execution_count": 12,
   "metadata": {
    "collapsed": false
   },
   "outputs": [
    {
     "name": "stderr",
     "output_type": "stream",
     "text": [
      "\n",
      "STOPPING EARLY DUE TO KEYBOARD INTERRUPT..."
     ]
    }
   ],
   "source": [
    "sfs = sfs.fit(X_train.values, y_train, start_features=start)"
   ]
  },
  {
   "cell_type": "code",
   "execution_count": 19,
   "metadata": {
    "collapsed": false
   },
   "outputs": [
    {
     "data": {
      "text/html": [
       "<div>\n",
       "<style>\n",
       "    .dataframe thead tr:only-child th {\n",
       "        text-align: right;\n",
       "    }\n",
       "\n",
       "    .dataframe thead th {\n",
       "        text-align: left;\n",
       "    }\n",
       "\n",
       "    .dataframe tbody tr th {\n",
       "        vertical-align: top;\n",
       "    }\n",
       "</style>\n",
       "<table border=\"1\" class=\"dataframe\">\n",
       "  <thead>\n",
       "    <tr style=\"text-align: right;\">\n",
       "      <th></th>\n",
       "      <th>avg_score</th>\n",
       "      <th>ci_bound</th>\n",
       "      <th>cv_scores</th>\n",
       "      <th>feature_idx</th>\n",
       "      <th>std_dev</th>\n",
       "      <th>std_err</th>\n",
       "    </tr>\n",
       "  </thead>\n",
       "  <tbody>\n",
       "    <tr>\n",
       "      <th>23</th>\n",
       "      <td>-0.537211</td>\n",
       "      <td>0.0022774</td>\n",
       "      <td>[-0.5415948853, -0.535612477078, -0.5368277708...</td>\n",
       "      <td>(0, 1, 2, 3, 4, 5, 6, 7, 8, 9, 10, 11, 12, 13,...</td>\n",
       "      <td>0.00306633</td>\n",
       "      <td>0.00102211</td>\n",
       "    </tr>\n",
       "  </tbody>\n",
       "</table>\n",
       "</div>"
      ],
      "text/plain": [
       "   avg_score   ci_bound                                          cv_scores  \\\n",
       "23 -0.537211  0.0022774  [-0.5415948853, -0.535612477078, -0.5368277708...   \n",
       "\n",
       "                                          feature_idx     std_dev     std_err  \n",
       "23  (0, 1, 2, 3, 4, 5, 6, 7, 8, 9, 10, 11, 12, 13,...  0.00306633  0.00102211  "
      ]
     },
     "execution_count": 19,
     "metadata": {},
     "output_type": "execute_result"
    }
   ],
   "source": [
    "pd.DataFrame.from_dict(sfs.get_metric_dict()).T"
   ]
  },
  {
   "cell_type": "code",
   "execution_count": 20,
   "metadata": {
    "collapsed": false
   },
   "outputs": [
    {
     "data": {
      "image/png": "[encoded data removed]",
      "text/plain": [
       "<matplotlib.figure.Figure at 0x1fc0058df60>"
      ]
     },
     "metadata": {},
     "output_type": "display_data"
    }
   ],
   "source": [
    "fig1 = plot_sfs(sfs.get_metric_dict(), kind='std_dev')\n",
    "\n",
    "plt.ylim([-0.52, -0.55])\n",
    "plt.title('Sequential Forward Selection (w. StdDev)')\n",
    "plt.grid()\n",
    "plt.show()"
   ]
  },
  {
   "cell_type": "code",
   "execution_count": 21,
   "metadata": {
    "collapsed": false
   },
   "outputs": [
    {
     "data": {
      "text/plain": [
       "{23: {'avg_score': -0.53721068477880407,\n",
       "  'ci_bound': 0.0022774008647900479,\n",
       "  'cv_scores': array([-0.54159489, -0.53561248, -0.53682777, -0.53738504, -0.5315209 ,\n",
       "         -0.54015891, -0.54056423, -0.5334383 , -0.53913898, -0.53586536]),\n",
       "  'feature_idx': (0,\n",
       "   1,\n",
       "   2,\n",
       "   3,\n",
       "   4,\n",
       "   5,\n",
       "   6,\n",
       "   7,\n",
       "   8,\n",
       "   9,\n",
       "   10,\n",
       "   11,\n",
       "   12,\n",
       "   13,\n",
       "   14,\n",
       "   15,\n",
       "   16,\n",
       "   17,\n",
       "   18,\n",
       "   21,\n",
       "   22,\n",
       "   32,\n",
       "   68),\n",
       "  'std_dev': 0.0030663271224524451,\n",
       "  'std_err': 0.0010221090408174816}}"
      ]
     },
     "execution_count": 21,
     "metadata": {},
     "output_type": "execute_result"
    }
   ],
   "source": [
    "sfs.get_metric_dict()"
   ]
  },
  {
   "cell_type": "code",
   "execution_count": 22,
   "metadata": {
    "collapsed": false
   },
   "outputs": [
    {
     "name": "stdout",
     "output_type": "stream",
     "text": [
      "gender\n",
      "ap_hi\n",
      "ap_lo\n",
      "cholesterol\n",
      "active_fair\n",
      "smoke_restored\n",
      "alco_restored\n",
      "height_mul_log_cholesterol\n",
      "height_mul_log_gluc\n",
      "BMI\n",
      "age_group\n",
      "cholesterol_div_log_gluc\n",
      "gluc_mul_log_age\n",
      "age_dif2\n",
      "ap_lo_mul_log_ap_hi\n",
      "age_group_div_height\n",
      "age_group_mul_log_MAP\n",
      "cholesterol_div_ap_hi\n",
      "ap_hi_mul_log_gluc\n",
      "BMI_div_ap_hi\n",
      "BMI_div_log_age\n",
      "gluc\n",
      "gluc_mul_height\n"
     ]
    }
   ],
   "source": [
    "for i in (0,\n",
    "   1,\n",
    "   2,\n",
    "   3,\n",
    "   4,\n",
    "   5,\n",
    "   6,\n",
    "   7,\n",
    "   8,\n",
    "   9,\n",
    "   10,\n",
    "   11,\n",
    "   12,\n",
    "   13,\n",
    "   14,\n",
    "   15,\n",
    "   16,\n",
    "   17,\n",
    "   18,\n",
    "   21,\n",
    "   22,\n",
    "   32,\n",
    "   68):\n",
    "    print(X_train.columns[i])"
   ]
  },
  {
   "cell_type": "code",
   "execution_count": null,
   "metadata": {
    "collapsed": false
   },
   "outputs": [],
   "source": [
    "X_train['lo_14s'].value_counts()"
   ]
  },
  {
   "cell_type": "code",
   "execution_count": 9,
   "metadata": {
    "collapsed": false
   },
   "outputs": [
    {
     "data": {
      "text/plain": [
       "['gender',\n",
       " 'height',\n",
       " 'weight',\n",
       " 'ap_hi',\n",
       " 'ap_lo',\n",
       " 'cholesterol',\n",
       " 'height_div_ap_lo',\n",
       " 'active_fair',\n",
       " 'smoke_restored',\n",
       " 'alco_restored',\n",
       " 'height_mul_log_cholesterol',\n",
       " 'height_mul_log_gluc',\n",
       " 'BMI',\n",
       " 'age_group',\n",
       " 'cholesterol_div_log_gluc',\n",
       " 'gluc_mul_log_age',\n",
       " 'ap_hi_mul_weight']"
      ]
     },
     "execution_count": 9,
     "metadata": {},
     "output_type": "execute_result"
    }
   ],
   "source": [
    "start_columns+[]"
   ]
  },
  {
   "cell_type": "code",
   "execution_count": 5,
   "metadata": {
    "collapsed": true
   },
   "outputs": [],
   "source": [
    "params = {\n",
    "    'colsample_bytree': 0.875,\n",
    "     'gamma': 0.05,\n",
    "     'learning_rate': 0.02,\n",
    "     'max_depth': 5,\n",
    "     'min_child_weight': 5,\n",
    "     'n_estimators': 369,\n",
    "\n",
    "     'reg_alpha': 0,\n",
    "     'reg_lambda': 10,\n",
    "     'subsample': 0.7,\n",
    "    \n",
    "    'n_jobs': -1,\n",
    "    'random_state': 1111,\n",
    "    'silent': True,\n",
    "}\n",
    "\n",
    "def get_score(column=None):\n",
    "#     print(X_train[start_columns + ([column] if column else [])])\n",
    "    score1, score2 = utils.execute_model(xgb.XGBClassifier(**params),\n",
    "              X_train[start_columns + ([column] if column else [])],\n",
    "              y_train,\n",
    "#               X_test,\n",
    "#               model_name=\"model1\",\n",
    "#               n_splits=15,\n",
    "              n_folds=7,\n",
    "            verbose=0,\n",
    "            seed=207\n",
    "             )\n",
    "    return score1"
   ]
  },
  {
   "cell_type": "code",
   "execution_count": 11,
   "metadata": {
    "collapsed": false,
    "scrolled": false
   },
   "outputs": [
    {
     "name": "stdout",
     "output_type": "stream",
     "text": [
      "reference 0.537331130912\n",
      "0.537300866686 ap_hi_group_3\n",
      "0.537319298181 ap_hi_group_2\n",
      "0.537303688578 gluc_div_age_group\n",
      "0.537229148293 MAP_div_ap_lo\n",
      "0.537293372628 age_group_div_cholesterol\n",
      "0.537289917524 age_div_age_group\n",
      "0.53725391585 ap_hi_div_weight\n",
      "0.537293152435 gluc_div_log_ap_lo\n",
      "0.537288896483 ap_lo_div_log_cholesterol\n",
      "0.537320193407 age_mul_log_gluc\n",
      "0.537284541377 ap_hi_div_ap_lo\n",
      "0.537291671349 age_group_div_log_age\n",
      "0.537292232891 age_group_div_age\n",
      "0.537323058382 ap_hi_div_log_ap_hi\n",
      "0.537323058382 ap_hi_log\n",
      "0.53732204441 ap_hi_mul_ap_hi\n",
      "0.53732204441 ap_hi_mul_log_ap_hi\n",
      "0.537295271067 height_mul_log_ap_hi\n",
      "0.537283473633 cholesterol_div_log_ap_hi\n",
      "0.537277779395 height_div_log_gluc\n",
      "0.537311647028 gluc_div_height\n",
      "0.537323842088 age_group_mul_gluc\n",
      "0.537323842088 gluc_mul_age_group\n",
      "0.537292995651 ap_hi_div_log_gluc\n",
      "0.537302358189 age_group_div_log_weight\n",
      "0.537293966684 ap_hi_div_gluc\n",
      "0.53731600078 gluc_mul_log_cholesterol\n",
      "0.537270762723 ap_lo_div_MAP\n",
      "0.537301023157 height_div_gluc\n",
      "0.537326677998 cholesterol_mul_gluc\n",
      "0.537326677998 gluc_mul_cholesterol\n",
      "0.537330585307 cholesterol_div_MAP\n",
      "0.537312916095 cholesterol_mul_log_gluc\n",
      "0.537322015835 height_div_age_group\n",
      "0.537297455437 ap_dif\n",
      "0.537312828734 gluc_div_log_age_group\n",
      "0.537249621018 BMI_div_cholesterol\n",
      "0.53727513387 BMI_3\n",
      "0.537302333102 cholesterol_div_log_ap_lo\n",
      "0.537314268711 BMI_mul_ap_hi\n",
      "0.537314268711 ap_hi_mul_BMI\n",
      "0.537322653627 MAP_div_log_age_group\n"
     ]
    }
   ],
   "source": [
    "import gc\n",
    "\n",
    "reference = get_score()\n",
    "print('reference', reference)\n",
    "gc.collect()\n",
    "for c in X_train.columns:\n",
    "    if c not in start_columns:\n",
    "        score = get_score(c)\n",
    "        gc.collect()\n",
    "        if score < reference:\n",
    "            print(score, c)   "
   ]
  },
  {
   "cell_type": "code",
   "execution_count": 10,
   "metadata": {
    "collapsed": false
   },
   "outputs": [
    {
     "data": {
      "text/plain": [
       "11176"
      ]
     },
     "execution_count": 10,
     "metadata": {},
     "output_type": "execute_result"
    }
   ],
   "source": [
    "import gc\n",
    "gc.collect()"
   ]
  },
  {
   "cell_type": "code",
   "execution_count": 44,
   "metadata": {
    "collapsed": false
   },
   "outputs": [
    {
     "name": "stdout",
     "output_type": "stream",
     "text": [
      "done!\n"
     ]
    }
   ],
   "source": [
    "print('done!')"
   ]
  },
  {
   "cell_type": "code",
   "execution_count": 6,
   "metadata": {
    "collapsed": false
   },
   "outputs": [
    {
     "name": "stdout",
     "output_type": "stream",
     "text": [
      "reference 0.537331130912\n",
      "0.53731110166 age\n",
      "0.537298226782 smoke\n",
      "0.537306753884 alco\n",
      "0.537279005386 active\n",
      "0.537325771079 alco_fair\n",
      "0.537241493761 BMI_1\n",
      "0.537320034737 MAP\n",
      "0.537310397437 MAP_2\n",
      "0.537319039014 age_years\n",
      "0.537311123226 age_log\n",
      "0.537316356096 age_mul_age\n",
      "0.537316268463 age_mul_log_age\n",
      "0.537310834349 age_div_log_age\n",
      "0.53731110166 age_mul_age_group\n",
      "0.537311179264 age_mul_log_age_group\n",
      "0.537270622857 age_div_log_height\n",
      "0.537330718354 age_div_height\n",
      "0.537290547981 age_mul_weight\n",
      "0.53731085594 age_div_log_weight\n",
      "0.537328129368 age_mul_log_ap_hi\n",
      "0.537310292033 age_div_log_gluc\n",
      "0.53729855418 age_div_gluc\n",
      "0.537315527312 age_div_BMI\n",
      "0.53731110166 age_group_mul_age\n",
      "0.537311197634 age_group_mul_log_age\n",
      "0.537325017011 age_group_mul_ap_hi\n",
      "0.537314864734 age_group_div_ap_hi\n",
      "0.537297235402 age_group_div_ap_lo\n",
      "0.537255877533 age_group_div_log_gluc\n",
      "0.537282646481 age_group_div_gluc\n",
      "0.537291825603 age_group_div_log_BMI\n",
      "0.53730952446 age_group_div_BMI\n",
      "0.537316646562 height_mul_log_age\n",
      "0.537319931268 height_div_log_age_group\n",
      "0.537289225719 height_div_weight\n",
      "0.537241493761 height_mul_BMI\n",
      "0.537290547981 weight_mul_age\n",
      "0.537233133006 weight_div_height\n",
      "0.537296142092 weight_mul_ap_hi\n",
      "0.53729767164 weight_div_ap_hi\n",
      "0.537324500327 weight_mul_cholesterol\n",
      "0.537315199991 weight_div_log_cholesterol\n",
      "0.537330133241 weight_div_cholesterol\n",
      "0.537241429723 weight_mul_BMI\n",
      "0.537329953976 weight_mul_log_BMI\n",
      "0.537325017011 ap_hi_mul_age_group\n",
      "0.537296142092 ap_hi_mul_weight\n",
      "0.537319925319 ap_hi_mul_cholesterol\n",
      "0.537313284035 ap_hi_div_log_BMI\n",
      "0.537320776447 ap_hi_div_BMI\n",
      "0.537242903392 ap_hi_div_MAP\n",
      "0.537322127112 ap_lo_log\n",
      "0.537322153045 ap_lo_div_log_age\n",
      "0.537325205241 ap_lo_div_age_group\n",
      "0.53727432117 ap_lo_div_ap_hi\n",
      "0.537322344511 ap_lo_mul_ap_lo\n",
      "0.537322344511 ap_lo_mul_log_ap_lo\n",
      "0.537322127112 ap_lo_div_log_ap_lo\n",
      "0.537268560585 ap_lo_div_cholesterol\n",
      "0.537315332224 ap_lo_div_gluc\n",
      "0.537316752925 cholesterol_mul_log_height\n",
      "0.537324500327 cholesterol_mul_weight\n",
      "0.537319925319 cholesterol_mul_ap_hi\n",
      "0.537322173018 cholesterol_mul_log_ap_lo\n",
      "0.537286604978 cholesterol_div_ap_lo\n",
      "0.53729769065 cholesterol_mul_log_BMI\n",
      "0.537308639913 cholesterol_div_log_BMI\n",
      "0.537287601697 cholesterol_div_BMI\n",
      "0.537311647028 gluc_div_log_height\n",
      "0.537330059964 gluc_div_ap_lo\n",
      "0.537328165476 BMI_log\n",
      "0.537313370458 BMI_mul_log_age\n",
      "0.537296198793 BMI_div_age\n",
      "0.53731500219 BMI_div_log_age_group\n",
      "0.537241493761 BMI_mul_height\n",
      "0.537265230281 BMI_div_log_height\n",
      "0.537282485878 BMI_div_height\n",
      "0.537241429723 BMI_mul_weight\n",
      "0.537254782222 BMI_div_log_weight\n",
      "0.537287919358 BMI_mul_log_ap_hi\n",
      "0.537277966224 BMI_div_log_cholesterol\n",
      "0.537295382898 BMI_div_log_gluc\n",
      "0.537328165476 BMI_mul_BMI\n",
      "0.537328165476 BMI_mul_log_BMI\n",
      "0.537328165476 BMI_div_log_BMI\n",
      "0.53730128116 BMI_mul_log_MAP\n",
      "0.537310397437 MAP_log\n",
      "0.537281078758 MAP_div_ap_hi\n",
      "0.537308738493 MAP_div_log_cholesterol\n",
      "0.537304294332 MAP_mul_MAP\n",
      "0.537304294332 MAP_mul_log_MAP\n",
      "0.537310397437 MAP_div_log_MAP\n"
     ]
    }
   ],
   "source": [
    "import gc\n",
    "\n",
    "reference = get_score()\n",
    "print('reference', reference)\n",
    "gc.collect()\n",
    "for c in X_train.columns:\n",
    "    if (c not in start_columns) and (c not in additional):\n",
    "        score = get_score(c)\n",
    "        gc.collect()\n",
    "        if score < reference:\n",
    "            print(score, c)   "
   ]
  },
  {
   "cell_type": "code",
   "execution_count": null,
   "metadata": {
    "collapsed": true
   },
   "outputs": [],
   "source": []
  }
 ],
 "metadata": {
  "kernelspec": {
   "display_name": "Python 3",
   "language": "python",
   "name": "python3"
  },
  "language_info": {
   "codemirror_mode": {
    "name": "ipython",
    "version": 3
   },
   "file_extension": ".py",
   "mimetype": "text/x-python",
   "name": "python",
   "nbconvert_exporter": "python",
   "pygments_lexer": "ipython3",
   "version": "3.6.0"
  }
 },
 "nbformat": 4,
 "nbformat_minor": 2
}
