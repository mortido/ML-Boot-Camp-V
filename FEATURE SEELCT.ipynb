{
 "cells": [
  {
   "cell_type": "code",
   "execution_count": 1,
   "metadata": {
    "collapsed": false
   },
   "outputs": [],
   "source": [
    "import pandas as pd\n",
    "import numpy as np\n",
    "\n",
    "from mlxtend.feature_selection import SequentialFeatureSelector as SFS\n",
    "\n",
    "import matplotlib.pyplot as plt\n",
    "from xgboost import plot_importance\n",
    "from mlxtend.plotting import plot_sequential_feature_selection as plot_sfs\n",
    "from sklearn.model_selection import StratifiedKFold\n",
    "import seaborn as sns\n",
    "\n",
    "import lightgbm as lgb\n",
    "import xgboost as xgb\n",
    "\n",
    "import utils\n",
    "\n",
    "plt.style.use('ggplot')\n",
    "%matplotlib inline\n",
    "from sklearn.metrics import log_loss"
   ]
  },
  {
   "cell_type": "code",
   "execution_count": 2,
   "metadata": {
    "collapsed": false
   },
   "outputs": [],
   "source": [
    "train = pd.read_csv('train.csv', sep=';')\n",
    "test = pd.read_csv('test.csv', sep=';', na_values='None')\n",
    "\n",
    "train = utils.clean_data(train)\n",
    "test = utils.clean_data(test)\n",
    "\n",
    "train = utils.new_features(train)\n",
    "test = utils.new_features(test)\n",
    "\n",
    "X_train = train.drop([ 'cardio'], axis=1)\n",
    "y_train = train['cardio'].values.ravel()\n",
    "X_test = test.drop([], axis=1)"
   ]
  },
  {
   "cell_type": "code",
   "execution_count": 3,
   "metadata": {
    "collapsed": true
   },
   "outputs": [],
   "source": [
    "ccc = ['age', 'age_group', 'height', 'weight', 'ap_hi', 'ap_lo', 'cholesterol', 'gluc', 'BMI', 'MAP']\n",
    "def new_cols(data):    \n",
    "    for col1 in ccc:\n",
    "        data[col1 + '_log'] = np.log(data[col1] + 1.1)\n",
    "        for col2 in ccc:\n",
    "            data['%s_mul_%s' % (col1, col2)] = data[col1] * data[col2]\n",
    "            data['%s_mul_log_%s' % (col1, col2)] = data[col1] * np.log(data[col2] + 1)\n",
    "            data['%s_div_log_%s' % (col1, col2)] = data[col1] / (np.log(data[col2] + 1) + 1)\n",
    "\n",
    "            if col2 == col1:\n",
    "                continue\n",
    "\n",
    "            data['%s_div_%s' % (col1, col2)] = data[col1] / (data[col2] + 1)"
   ]
  },
  {
   "cell_type": "code",
   "execution_count": 4,
   "metadata": {
    "collapsed": false
   },
   "outputs": [
    {
     "data": {
      "text/plain": [
       "Index(['id', 'age', 'gender', 'height', 'weight', 'ap_hi', 'ap_lo',\n",
       "       'cholesterol', 'gluc', 'smoke_fair',\n",
       "       ...\n",
       "       'MAP_mul_log_gluc', 'MAP_div_log_gluc', 'MAP_div_gluc', 'MAP_mul_BMI',\n",
       "       'MAP_mul_log_BMI', 'MAP_div_log_BMI', 'MAP_div_BMI', 'MAP_mul_MAP',\n",
       "       'MAP_mul_log_MAP', 'MAP_div_log_MAP'],\n",
       "      dtype='object', length=434)"
      ]
     },
     "execution_count": 4,
     "metadata": {},
     "output_type": "execute_result"
    }
   ],
   "source": [
    "X_train = X_train.drop(['smoke', 'alco', 'active'], axis=1)\n",
    "X_train['ap_hi_2'] = X_train['ap_hi'] // 10\n",
    "X_train['ap_lo_2'] = X_train['ap_lo'] // 10\n",
    "new_cols(X_train)\n",
    "X_train.columns"
   ]
  },
  {
   "cell_type": "code",
   "execution_count": 36,
   "metadata": {
    "collapsed": false
   },
   "outputs": [
    {
     "data": {
      "text/plain": [
       "[2, 3, 4, 5, 6, 7, 137, 11, 12, 13, 139, 143, 16, 23, 304, 316, 207]"
      ]
     },
     "execution_count": 36,
     "metadata": {},
     "output_type": "execute_result"
    }
   ],
   "source": [
    "start_columns = [\n",
    "# \"age_group\",\n",
    "# \"gender\",\n",
    "# \"height\",\n",
    "# \"weight\",\n",
    "# \"ap_hi\",\n",
    "# \"ap_lo\",\n",
    "# \"cholesterol\",\n",
    "# \"gluc\",\n",
    "# \"smoke_restored\",\n",
    "# \"alco_restored\",\n",
    "# \"active_restored\",\n",
    "#     \"MAP\",\n",
    "#     \"BMI\"\n",
    "    \n",
    "# \"gender\",\n",
    "# \"height\",\n",
    "# \"weight\",\n",
    "# \"ap_hi\",\n",
    "# \"ap_lo\",\n",
    "# \"cholesterol\",\n",
    "# # \"gluc\",\n",
    "# \"active_fair\",\n",
    "# \"smoke_restored\",\n",
    "# \"alco_restored\",\n",
    "# # \"active_restored\",\n",
    "# \"height_mul_log_gluc\",\n",
    "# \"BMI\",\n",
    "# \"age_group\",\n",
    "# # \"cholesterol_div_log_age_group\",\n",
    "# \"cholesterol_div_log_gluc\",\n",
    "# \"gluc_mul_log_age\",\n",
    "# # \"age_group_mul_log_ap_lo\",\n",
    "    \n",
    "    \n",
    "\"gender\",\n",
    "\"height\",\n",
    "\"weight\",\n",
    "\"ap_hi\",\n",
    "\"ap_lo\",\n",
    "\"cholesterol\",\n",
    "\"height_div_ap_lo\",\n",
    "\"active_fair\",\n",
    "\"smoke_restored\",\n",
    "\"alco_restored\",\n",
    "\"height_mul_log_cholesterol\",\n",
    "\"height_mul_log_gluc\",\n",
    "\"BMI\",\n",
    "\"age_group\",\n",
    "\"cholesterol_div_log_gluc\",\n",
    "\"gluc_mul_log_age\",\n",
    "\"ap_hi_mul_weight\",\n",
    "]\n",
    "\n",
    "\n",
    "start=[]\n",
    "for sc in start_columns:\n",
    "    start.append(X_train.columns.get_loc(sc))\n",
    "start"
   ]
  },
  {
   "cell_type": "code",
   "execution_count": 37,
   "metadata": {
    "collapsed": false
   },
   "outputs": [
    {
     "data": {
      "text/plain": [
       "434"
      ]
     },
     "execution_count": 37,
     "metadata": {},
     "output_type": "execute_result"
    }
   ],
   "source": [
    "len(X_train.columns)"
   ]
  },
  {
   "cell_type": "code",
   "execution_count": 38,
   "metadata": {
    "collapsed": false
   },
   "outputs": [
    {
     "name": "stdout",
     "output_type": "stream",
     "text": [
      "0.00987224\t\talco_restored\n",
      "0.0127758\t\tcholesterol\n",
      "0.0133566\t\tgender\n",
      "0.014518\t\tsmoke_restored\n",
      "0.0226481\t\tap_lo\n",
      "0.0336818\t\tcholesterol_div_log_gluc\n",
      "0.0348432\t\theight\n",
      "0.0354239\t\tactive_fair\n",
      "0.0406504\t\tweight\n",
      "0.0592334\t\theight_mul_log_gluc\n",
      "0.0760743\t\tage_group\n",
      "0.0847851\t\theight_div_ap_lo\n",
      "0.0847851\t\theight_mul_log_cholesterol\n",
      "0.0894309\t\tap_hi\n",
      "0.101626\t\tap_hi_mul_weight\n",
      "0.127178\t\tBMI\n",
      "0.159117\t\tgluc_mul_log_age\n"
     ]
    },
    {
     "data": {
      "image/png": "[encoded data removed]",
      "text/plain": [
       "<matplotlib.figure.Figure at 0x2272df83e80>"
      ]
     },
     "metadata": {},
     "output_type": "display_data"
    }
   ],
   "source": [
    "params = {\n",
    " 'colsample_bytree': 0.875,\n",
    " 'gamma': 0.05,\n",
    " 'learning_rate': 0.1,\n",
    " 'max_depth': 5,\n",
    " 'min_child_weight': 5,\n",
    " 'n_estimators': 61,\n",
    "\n",
    " 'reg_alpha': 0,\n",
    " 'reg_lambda': 10,\n",
    " 'subsample': 0.7,\n",
    "    \n",
    "    'n_jobs': 1,\n",
    "    'random_state': 2707,\n",
    "    'silent': True,\n",
    "}\n",
    "clf = xgb.XGBClassifier(**params)\n",
    "clf.fit(X_train[start_columns], y_train)\n",
    "for a, b in sorted(zip(clf.feature_importances_, X_train[start_columns].columns)):\n",
    "    print(a,b, sep='\\t\\t')\n",
    "plot_importance(clf)\n",
    "plt.show()"
   ]
  },
  {
   "cell_type": "code",
   "execution_count": 30,
   "metadata": {
    "collapsed": false
   },
   "outputs": [],
   "source": [
    "kf = StratifiedKFold(random_state=11111, n_splits=10, shuffle=True)\n",
    "sfs = SFS(clf, \n",
    "           k_features=42, \n",
    "           forward=True, \n",
    "           floating=True, \n",
    "           verbose=2,\n",
    "           scoring='neg_log_loss',\n",
    "#            scoring='accuracy',\n",
    "           n_jobs=1,\n",
    "           cv=kf)"
   ]
  },
  {
   "cell_type": "code",
   "execution_count": 31,
   "metadata": {
    "collapsed": false
   },
   "outputs": [
    {
     "name": "stderr",
     "output_type": "stream",
     "text": [
      "\n",
      "[2017-07-04 20:50:36] Features: 15/42 -- score: -0.537834997559\n",
      "[2017-07-05 02:18:43] Features: 16/42 -- score: -0.537812936311\n",
      "[2017-07-05 07:50:49] Features: 17/42 -- score: -0.537704509823\n",
      "STOPPING EARLY DUE TO KEYBOARD INTERRUPT..."
     ]
    }
   ],
   "source": [
    "sfs = sfs.fit(X_train.values, y_train, start_features=start)"
   ]
  },
  {
   "cell_type": "code",
   "execution_count": 32,
   "metadata": {
    "collapsed": false
   },
   "outputs": [
    {
     "data": {
      "text/html": [
       "<div>\n",
       "<style>\n",
       "    .dataframe thead tr:only-child th {\n",
       "        text-align: right;\n",
       "    }\n",
       "\n",
       "    .dataframe thead th {\n",
       "        text-align: left;\n",
       "    }\n",
       "\n",
       "    .dataframe tbody tr th {\n",
       "        vertical-align: top;\n",
       "    }\n",
       "</style>\n",
       "<table border=\"1\" class=\"dataframe\">\n",
       "  <thead>\n",
       "    <tr style=\"text-align: right;\">\n",
       "      <th></th>\n",
       "      <th>avg_score</th>\n",
       "      <th>ci_bound</th>\n",
       "      <th>cv_scores</th>\n",
       "      <th>feature_idx</th>\n",
       "      <th>std_dev</th>\n",
       "      <th>std_err</th>\n",
       "    </tr>\n",
       "  </thead>\n",
       "  <tbody>\n",
       "    <tr>\n",
       "      <th>15</th>\n",
       "      <td>-0.537835</td>\n",
       "      <td>0.00213696</td>\n",
       "      <td>[-0.542365151881, -0.53593661078, -0.537244581...</td>\n",
       "      <td>(2, 3, 4, 5, 6, 7, 11, 12, 13, 139, 143, 16, 2...</td>\n",
       "      <td>0.00287723</td>\n",
       "      <td>0.000959078</td>\n",
       "    </tr>\n",
       "    <tr>\n",
       "      <th>16</th>\n",
       "      <td>-0.537813</td>\n",
       "      <td>0.00210808</td>\n",
       "      <td>[-0.541295724448, -0.536452257057, -0.53741334...</td>\n",
       "      <td>(2, 3, 4, 5, 6, 7, 11, 12, 13, 139, 143, 16, 2...</td>\n",
       "      <td>0.00283835</td>\n",
       "      <td>0.000946116</td>\n",
       "    </tr>\n",
       "    <tr>\n",
       "      <th>17</th>\n",
       "      <td>-0.537705</td>\n",
       "      <td>0.00200005</td>\n",
       "      <td>[-0.541584043981, -0.535822698096, -0.53685984...</td>\n",
       "      <td>(2, 3, 4, 5, 6, 7, 137, 11, 12, 13, 139, 143, ...</td>\n",
       "      <td>0.0026929</td>\n",
       "      <td>0.000897632</td>\n",
       "    </tr>\n",
       "  </tbody>\n",
       "</table>\n",
       "</div>"
      ],
      "text/plain": [
       "   avg_score    ci_bound                                          cv_scores  \\\n",
       "15 -0.537835  0.00213696  [-0.542365151881, -0.53593661078, -0.537244581...   \n",
       "16 -0.537813  0.00210808  [-0.541295724448, -0.536452257057, -0.53741334...   \n",
       "17 -0.537705  0.00200005  [-0.541584043981, -0.535822698096, -0.53685984...   \n",
       "\n",
       "                                          feature_idx     std_dev      std_err  \n",
       "15  (2, 3, 4, 5, 6, 7, 11, 12, 13, 139, 143, 16, 2...  0.00287723  0.000959078  \n",
       "16  (2, 3, 4, 5, 6, 7, 11, 12, 13, 139, 143, 16, 2...  0.00283835  0.000946116  \n",
       "17  (2, 3, 4, 5, 6, 7, 137, 11, 12, 13, 139, 143, ...   0.0026929  0.000897632  "
      ]
     },
     "execution_count": 32,
     "metadata": {},
     "output_type": "execute_result"
    }
   ],
   "source": [
    "pd.DataFrame.from_dict(sfs.get_metric_dict()).T"
   ]
  },
  {
   "cell_type": "code",
   "execution_count": 33,
   "metadata": {
    "collapsed": false
   },
   "outputs": [
    {
     "data": {
      "image/png": "[encoded data removed]",
      "text/plain": [
       "<matplotlib.figure.Figure at 0x2272dfa5d68>"
      ]
     },
     "metadata": {},
     "output_type": "display_data"
    }
   ],
   "source": [
    "fig1 = plot_sfs(sfs.get_metric_dict(), kind='std_dev')\n",
    "\n",
    "plt.ylim([-0.52, -0.55])\n",
    "plt.title('Sequential Forward Selection (w. StdDev)')\n",
    "plt.grid()\n",
    "plt.show()"
   ]
  },
  {
   "cell_type": "code",
   "execution_count": 34,
   "metadata": {
    "collapsed": false
   },
   "outputs": [
    {
     "data": {
      "text/plain": [
       "{15: {'avg_score': -0.5378349975593657,\n",
       "  'ci_bound': 0.0021369588998954147,\n",
       "  'cv_scores': array([-0.54236515, -0.53593661, -0.53724458, -0.53793104, -0.53234261,\n",
       "         -0.54011931, -0.54054815, -0.53457805, -0.53999208, -0.53729238]),\n",
       "  'feature_idx': (2, 3, 4, 5, 6, 7, 11, 12, 13, 139, 143, 16, 23, 304, 316),\n",
       "  'std_dev': 0.0028772339273347605,\n",
       "  'std_err': 0.00095907797577825347},\n",
       " 16: {'avg_score': -0.53781293631054672,\n",
       "  'ci_bound': 0.0021080775094672799,\n",
       "  'cv_scores': array([-0.54129572, -0.53645226, -0.53741335, -0.5384061 , -0.53244497,\n",
       "         -0.54041405, -0.53972596, -0.53377219, -0.54099657, -0.53720819]),\n",
       "  'feature_idx': (2,\n",
       "   3,\n",
       "   4,\n",
       "   5,\n",
       "   6,\n",
       "   7,\n",
       "   11,\n",
       "   12,\n",
       "   13,\n",
       "   139,\n",
       "   143,\n",
       "   16,\n",
       "   207,\n",
       "   23,\n",
       "   304,\n",
       "   316),\n",
       "  'std_dev': 0.0028383475844984529,\n",
       "  'std_err': 0.00094611586149948436},\n",
       " 17: {'avg_score': -0.53770450982263351,\n",
       "  'ci_bound': 0.002000049745374554,\n",
       "  'cv_scores': array([-0.54158404, -0.5358227 , -0.53685984, -0.53837863, -0.53249105,\n",
       "         -0.53969274, -0.53992543, -0.5347681 , -0.5404694 , -0.53705316]),\n",
       "  'feature_idx': (2,\n",
       "   3,\n",
       "   4,\n",
       "   5,\n",
       "   6,\n",
       "   7,\n",
       "   137,\n",
       "   11,\n",
       "   12,\n",
       "   13,\n",
       "   139,\n",
       "   143,\n",
       "   16,\n",
       "   23,\n",
       "   304,\n",
       "   316,\n",
       "   207),\n",
       "  'std_dev': 0.0026928973617745071,\n",
       "  'std_err': 0.00089763245392483564}}"
      ]
     },
     "execution_count": 34,
     "metadata": {},
     "output_type": "execute_result"
    }
   ],
   "source": [
    "sfs.get_metric_dict()"
   ]
  },
  {
   "cell_type": "code",
   "execution_count": 35,
   "metadata": {
    "collapsed": false
   },
   "outputs": [
    {
     "name": "stdout",
     "output_type": "stream",
     "text": [
      "gender\n",
      "height\n",
      "weight\n",
      "ap_hi\n",
      "ap_lo\n",
      "cholesterol\n",
      "height_div_ap_lo\n",
      "active_fair\n",
      "smoke_restored\n",
      "alco_restored\n",
      "height_mul_log_cholesterol\n",
      "height_mul_log_gluc\n",
      "BMI\n",
      "age_group\n",
      "cholesterol_div_log_gluc\n",
      "gluc_mul_log_age\n",
      "ap_hi_mul_weight\n"
     ]
    }
   ],
   "source": [
    "for i in (2,\n",
    "   3,\n",
    "   4,\n",
    "   5,\n",
    "   6,\n",
    "   7,\n",
    "   137,\n",
    "   11,\n",
    "   12,\n",
    "   13,\n",
    "   139,\n",
    "   143,\n",
    "   16,\n",
    "   23,\n",
    "   304,\n",
    "   316,\n",
    "   207):\n",
    "    print(X_train.columns[i])"
   ]
  },
  {
   "cell_type": "code",
   "execution_count": null,
   "metadata": {
    "collapsed": false
   },
   "outputs": [],
   "source": [
    "X_train['lo_14s'].value_counts()"
   ]
  },
  {
   "cell_type": "code",
   "execution_count": null,
   "metadata": {
    "collapsed": true
   },
   "outputs": [],
   "source": []
  },
  {
   "cell_type": "code",
   "execution_count": null,
   "metadata": {
    "collapsed": true
   },
   "outputs": [],
   "source": []
  },
  {
   "cell_type": "code",
   "execution_count": null,
   "metadata": {
    "collapsed": true
   },
   "outputs": [],
   "source": []
  },
  {
   "cell_type": "code",
   "execution_count": null,
   "metadata": {
    "collapsed": true
   },
   "outputs": [],
   "source": []
  }
 ],
 "metadata": {
  "kernelspec": {
   "display_name": "Python 3",
   "language": "python",
   "name": "python3"
  },
  "language_info": {
   "codemirror_mode": {
    "name": "ipython",
    "version": 3
   },
   "file_extension": ".py",
   "mimetype": "text/x-python",
   "name": "python",
   "nbconvert_exporter": "python",
   "pygments_lexer": "ipython3",
   "version": "3.6.0"
  }
 },
 "nbformat": 4,
 "nbformat_minor": 2
}
