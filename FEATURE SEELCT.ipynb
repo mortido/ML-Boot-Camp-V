{
 "cells": [
  {
   "cell_type": "code",
   "execution_count": 63,
   "metadata": {
    "collapsed": false
   },
   "outputs": [],
   "source": [
    "import pandas as pd\n",
    "import numpy as np\n",
    "\n",
    "from mlxtend.feature_selection import SequentialFeatureSelector as SFS\n",
    "\n",
    "import matplotlib.pyplot as plt\n",
    "from xgboost import plot_importance\n",
    "from mlxtend.plotting import plot_sequential_feature_selection as plot_sfs\n",
    "from sklearn.model_selection import StratifiedKFold\n",
    "import seaborn as sns\n",
    "\n",
    "import lightgbm as lgb\n",
    "import xgboost as xgb\n",
    "\n",
    "import utils\n",
    "\n",
    "plt.style.use('ggplot')\n",
    "%matplotlib inline\n",
    "from sklearn.metrics import log_loss"
   ]
  },
  {
   "cell_type": "code",
   "execution_count": 67,
   "metadata": {
    "collapsed": false
   },
   "outputs": [],
   "source": [
    "train = pd.read_csv('train.csv', sep=';')\n",
    "test = pd.read_csv('test.csv', sep=';', na_values='None')\n",
    "\n",
    "train = utils.clean_data(train)\n",
    "test = utils.clean_data(test)\n",
    "\n",
    "train = utils.new_features(train)\n",
    "test = utils.new_features(test)\n",
    "\n",
    "X_train = train.drop([ 'cardio'], axis=1)\n",
    "y_train = train['cardio'].values.ravel()\n",
    "X_test = test.drop([], axis=1)\n",
    "\n",
    "data = pd.concat((train.drop('cardio', axis=1), test), axis=0)\n",
    "dic = data.groupby('age_group_orig')['age'].mean().to_dict()\n",
    "X_train['age_dif'] = X_train[['age_group_orig', 'age']].apply(lambda x: x['age'] - dic[x['age_group_orig']], axis=1)\n",
    "X_test['age_dif'] = X_test[['age_group_orig', 'age']].apply(lambda x: x['age'] - dic[x['age_group_orig']], axis=1)"
   ]
  },
  {
   "cell_type": "code",
   "execution_count": 68,
   "metadata": {
    "collapsed": false
   },
   "outputs": [
    {
     "data": {
      "text/plain": [
       "[0, 1, 2, 3, 4, 5, 6, 7, 8, 9, 10, 11, 12, 13, 14, 15, 16, 17, 18, 19]"
      ]
     },
     "execution_count": 68,
     "metadata": {},
     "output_type": "execute_result"
    }
   ],
   "source": [
    "start_columns = [\n",
    "\"gender\",\n",
    "\"height\",\n",
    "\"weight\",\n",
    "\"ap_hi\",\n",
    "\"ap_lo\",\n",
    "\"cholesterol\",\n",
    "# \"height_div_ap_lo\",\n",
    "\"active_fair\",\n",
    "\"smoke_restored\",\n",
    "\"alco_restored\",\n",
    "\"height_mul_log_cholesterol\",\n",
    "\"height_mul_log_gluc\",\n",
    "\"BMI\",\n",
    "\"age_group\",\n",
    "\"cholesterol_div_log_gluc\",\n",
    "\"gluc_mul_log_age\",\n",
    "\"ap_hi_mul_weight\",\n",
    "\"age_dif\",\n",
    "    \n",
    "'ap_lo_mul_log_ap_hi',\n",
    "    \n",
    "'age_group_div_height',\n",
    "    'age_group_mul_log_MAP'\n",
    "    \n",
    "#     gender\n",
    "# height\n",
    "# weight\n",
    "# ap_hi\n",
    "# ap_lo\n",
    "# cholesterol\n",
    "# active_fair\n",
    "# smoke_restored\n",
    "# alco_restored\n",
    "# height_mul_log_cholesterol\n",
    "# height_mul_log_gluc\n",
    "# BMI\n",
    "# age_group\n",
    "# cholesterol_div_log_gluc\n",
    "# gluc_mul_log_age\n",
    "# ap_hi_mul_weight\n",
    "# age_dif\n",
    "# ap_lo_mul_log_ap_hi\n",
    "# age_group_div_height\n",
    "# age_group_mul_log_MAP\n",
    "]\n",
    "\n",
    "additional = [\n",
    " 'ap_hi_group_3', 'ap_hi_group_4',\n",
    "'ap_lo_group_3', 'ap_lo_group_4',\n",
    "'age_dif', 'gluc',\n",
    "    'ap_hi_group_2',\n",
    " 'MAP_div_BMI',\n",
    " 'cholesterol_div_weight',\n",
    " 'gluc_div_age_group',\n",
    " 'MAP_div_ap_lo',\n",
    " 'age_group_div_cholesterol',\n",
    " 'cholesterol_div_age_group',\n",
    " 'ap_hi_div_cholesterol',\n",
    " 'age_group_mul_log_MAP',\n",
    " 'age_div_age_group',\n",
    " 'ap_hi_div_weight',\n",
    " 'MAP_div_gluc',\n",
    " 'gluc_div_log_ap_lo',\n",
    " 'cholesterol_div_ap_hi',\n",
    " 'ap_lo_div_log_cholesterol',\n",
    " 'ap_lo_mul_log_height',\n",
    " 'age_mul_log_gluc',\n",
    " 'age_group_div_height',\n",
    " 'ap_hi_div_ap_lo',\n",
    " 'age_group_div_log_age',\n",
    " 'age_group_div_age',\n",
    " 'ap_lo_mul_log_ap_hi',\n",
    " 'ap_hi_div_log_age',\n",
    " 'cholesterol_mul_log_ap_hi',\n",
    " 'ap_hi_div_log_ap_hi',\n",
    " 'ap_hi_log',\n",
    " 'ap_hi_mul_ap_hi',\n",
    " 'ap_hi_mul_log_ap_hi',\n",
    " 'age_group_mul_log_ap_lo',\n",
    " 'BMI_div_MAP',\n",
    " 'height_mul_log_ap_hi',\n",
    " 'cholesterol_div_log_ap_hi',\n",
    " 'age_group_mul_weight',\n",
    " 'weight_mul_age_group',\n",
    " 'gluc_div_log_ap_hi',\n",
    " 'weight_mul_log_cholesterol',\n",
    " 'cholesterol_mul_log_age',\n",
    " 'ap_dif_2',\n",
    " 'height_div_log_gluc',\n",
    " 'gluc_div_height',\n",
    " 'cholesterol_div_age',\n",
    " 'gluc_mul_height',\n",
    " 'height_mul_gluc',\n",
    " 'gluc_mul_log_height',\n",
    " 'age_group_mul_gluc',\n",
    " 'gluc_mul_age_group',\n",
    " 'ap_hi_div_log_gluc',\n",
    " 'gluc_div_log_MAP',\n",
    " 'MAP_mul_age_group',\n",
    " 'age_group_MAPX',\n",
    " 'age_group_mul_MAP',\n",
    " 'ap_hi_div_log_height',\n",
    " 'weight_mul_log_age_group',\n",
    " 'age_group_div_weight',\n",
    " 'MAP_div_cholesterol',\n",
    " 'age_group_mul_log_BMI',\n",
    " 'weight_div_age_group',\n",
    " 'MAP_mul_ap_lo',\n",
    " 'ap_lo_mul_MAP',\n",
    " 'MAP_div_weight',\n",
    " 'age_mul_gluc',\n",
    " 'gluc_mul_age',\n",
    " 'age_group_div_log_weight',\n",
    " 'ap_hi_div_gluc',\n",
    " 'gluc_mul_log_cholesterol',\n",
    " 'ap_lo_div_MAP',\n",
    " 'height_div_BMI',\n",
    " 'height_div_log_age',\n",
    " 'cholesterol_div_log_age_group',\n",
    " 'ap_hi_div_age_group',\n",
    " 'height_div_gluc',\n",
    " 'age_group_div_log_MAP',\n",
    " 'cholesterol_div_log_age',\n",
    " 'gluc_div_ap_hi',\n",
    " 'cholesterol_mul_gluc',\n",
    " 'gluc_mul_cholesterol',\n",
    " 'age_div_cholesterol',\n",
    " 'cholesterol_div_MAP',\n",
    " 'cholesterol_mul_log_gluc',\n",
    " 'age_group_mul_log_height',\n",
    " 'ap_hi_mul_log_gluc',\n",
    " 'BMI_div_ap_hi',\n",
    " 'MAP_mul_cholesterol',\n",
    " 'cholesterol_mul_MAP',\n",
    " 'gluc_div_cholesterol',\n",
    " 'age_group_div_log_cholesterol',\n",
    " 'cholesterol_div_log_MAP',\n",
    " 'age_mul_cholesterol',\n",
    " 'cholesterol_mul_age',\n",
    " 'age_group_mul_log_weight',\n",
    " 'BMI_group',\n",
    " 'height_group',\n",
    " 'height_div_age_group',\n",
    " 'weight_div_log_height',\n",
    " 'ap_hi_mul_log_age_group',\n",
    " 'weight_div_ap_lo',\n",
    " 'ap_dif',\n",
    " 'gluc_mul_log_age_group',\n",
    " 'gluc_div_log_age_group',\n",
    " 'BMI_div_cholesterol',\n",
    " 'BMI_3',\n",
    " 'age_group_mul_log_cholesterol',\n",
    " 'BMI_div_log_age',\n",
    " 'weight_group',\n",
    " 'cholesterol_div_log_ap_lo',\n",
    " 'BMI_mul_ap_hi',\n",
    " 'ap_hi_mul_BMI',\n",
    " 'MAP_div_log_age_group'\n",
    "]\n",
    "\n",
    "cols = list(start_columns)\n",
    "for c in additional:\n",
    "    if c not in start_columns:\n",
    "        cols.append(c)\n",
    "\n",
    "X_train = X_train[cols]\n",
    "start=[]\n",
    "for sc in start_columns:\n",
    "    start.append(X_train.columns.get_loc(sc))\n",
    "start\n",
    "# X_train['age_dif']"
   ]
  },
  {
   "cell_type": "code",
   "execution_count": 69,
   "metadata": {
    "collapsed": false
   },
   "outputs": [],
   "source": [
    "# X_train[start_columns+additional]['age_dif']"
   ]
  },
  {
   "cell_type": "code",
   "execution_count": 70,
   "metadata": {
    "collapsed": false
   },
   "outputs": [
    {
     "data": {
      "text/plain": [
       "130"
      ]
     },
     "execution_count": 70,
     "metadata": {},
     "output_type": "execute_result"
    }
   ],
   "source": [
    "len(X_train.columns)"
   ]
  },
  {
   "cell_type": "code",
   "execution_count": 71,
   "metadata": {
    "collapsed": false
   },
   "outputs": [
    {
     "name": "stdout",
     "output_type": "stream",
     "text": [
      "0.00371523\t\tage_group\n",
      "0.00913746\t\tgender\n",
      "0.0116478\t\talco_restored\n",
      "0.0130535\t\tcholesterol\n",
      "0.014158\t\tsmoke_restored\n",
      "0.0148609\t\tap_lo\n",
      "0.0279144\t\tcholesterol_div_log_gluc\n",
      "0.0318305\t\tactive_fair\n",
      "0.0402651\t\theight\n",
      "0.0439803\t\tweight\n",
      "0.0451853\t\tap_lo_mul_log_ap_hi\n",
      "0.0507079\t\theight_mul_log_gluc\n",
      "0.0641631\t\tap_hi\n",
      "0.0696857\t\tage_group_mul_log_MAP\n",
      "0.0762125\t\tage_group_div_height\n",
      "0.0778191\t\theight_mul_log_cholesterol\n",
      "0.0934833\t\tap_hi_mul_weight\n",
      "0.0998092\t\tage_dif\n",
      "0.105834\t\tgluc_mul_log_age\n",
      "0.106537\t\tBMI\n"
     ]
    },
    {
     "data": {
      "image/png": "[encoded data removed]",
      "text/plain": [
       "<matplotlib.figure.Figure at 0x166125b5160>"
      ]
     },
     "metadata": {},
     "output_type": "display_data"
    }
   ],
   "source": [
    "params = {\n",
    " 'colsample_bytree': 0.875,\n",
    "     'gamma': 0.05,\n",
    "     'learning_rate': 0.02,\n",
    "     'max_depth': 5,\n",
    "     'min_child_weight': 5,\n",
    "     'n_estimators': 369,\n",
    "\n",
    "     'reg_alpha': 0,\n",
    "     'reg_lambda': 10,\n",
    "     'subsample': 0.7,\n",
    "    \n",
    "    'n_jobs': -1,\n",
    "    'random_state': 1111,\n",
    "    'silent': True,\n",
    "}\n",
    "clf = xgb.XGBClassifier(**params)\n",
    "clf.fit(X_train[start_columns], y_train)\n",
    "for a, b in sorted(zip(clf.feature_importances_, X_train[start_columns].columns)):\n",
    "    print(a,b, sep='\\t\\t')\n",
    "plot_importance(clf)\n",
    "plt.show()"
   ]
  },
  {
   "cell_type": "code",
   "execution_count": 53,
   "metadata": {
    "collapsed": false
   },
   "outputs": [],
   "source": [
    "kf = StratifiedKFold(random_state=11111, n_splits=10, shuffle=True)\n",
    "sfs = SFS(clf, \n",
    "           k_features=12, \n",
    "           forward=False, \n",
    "           floating=False, \n",
    "           verbose=2,\n",
    "           scoring='neg_log_loss',\n",
    "#            scoring='accuracy',\n",
    "           n_jobs=1,\n",
    "           cv=kf)"
   ]
  },
  {
   "cell_type": "code",
   "execution_count": 54,
   "metadata": {
    "collapsed": false
   },
   "outputs": [
    {
     "name": "stderr",
     "output_type": "stream",
     "text": [
      "\n",
      "[2017-07-07 16:31:53] Features: 20/12 -- score: -0.537432556675\n",
      "STOPPING EARLY DUE TO KEYBOARD INTERRUPT..."
     ]
    }
   ],
   "source": [
    "sfs = sfs.fit(X_train.values, y_train, start_features=start)"
   ]
  },
  {
   "cell_type": "code",
   "execution_count": 55,
   "metadata": {
    "collapsed": false
   },
   "outputs": [
    {
     "data": {
      "text/html": [
       "<div>\n",
       "<style>\n",
       "    .dataframe thead tr:only-child th {\n",
       "        text-align: right;\n",
       "    }\n",
       "\n",
       "    .dataframe thead th {\n",
       "        text-align: left;\n",
       "    }\n",
       "\n",
       "    .dataframe tbody tr th {\n",
       "        vertical-align: top;\n",
       "    }\n",
       "</style>\n",
       "<table border=\"1\" class=\"dataframe\">\n",
       "  <thead>\n",
       "    <tr style=\"text-align: right;\">\n",
       "      <th></th>\n",
       "      <th>avg_score</th>\n",
       "      <th>ci_bound</th>\n",
       "      <th>cv_scores</th>\n",
       "      <th>feature_idx</th>\n",
       "      <th>std_dev</th>\n",
       "      <th>std_err</th>\n",
       "    </tr>\n",
       "  </thead>\n",
       "  <tbody>\n",
       "    <tr>\n",
       "      <th>20</th>\n",
       "      <td>-0.537433</td>\n",
       "      <td>0.00200818</td>\n",
       "      <td>[-0.541036240149, -0.53527034554, -0.537773360...</td>\n",
       "      <td>(0, 1, 2, 3, 4, 5, 7, 8, 9, 10, 11, 12, 13, 14...</td>\n",
       "      <td>0.00270384</td>\n",
       "      <td>0.000901281</td>\n",
       "    </tr>\n",
       "    <tr>\n",
       "      <th>21</th>\n",
       "      <td>-0.537491</td>\n",
       "      <td>0.00206107</td>\n",
       "      <td>[-0.541578410934, -0.535325188486, -0.53763943...</td>\n",
       "      <td>(0, 1, 2, 3, 4, 5, 6, 7, 8, 9, 10, 11, 12, 13,...</td>\n",
       "      <td>0.00277505</td>\n",
       "      <td>0.000925017</td>\n",
       "    </tr>\n",
       "  </tbody>\n",
       "</table>\n",
       "</div>"
      ],
      "text/plain": [
       "   avg_score    ci_bound                                          cv_scores  \\\n",
       "20 -0.537433  0.00200818  [-0.541036240149, -0.53527034554, -0.537773360...   \n",
       "21 -0.537491  0.00206107  [-0.541578410934, -0.535325188486, -0.53763943...   \n",
       "\n",
       "                                          feature_idx     std_dev      std_err  \n",
       "20  (0, 1, 2, 3, 4, 5, 7, 8, 9, 10, 11, 12, 13, 14...  0.00270384  0.000901281  \n",
       "21  (0, 1, 2, 3, 4, 5, 6, 7, 8, 9, 10, 11, 12, 13,...  0.00277505  0.000925017  "
      ]
     },
     "execution_count": 55,
     "metadata": {},
     "output_type": "execute_result"
    }
   ],
   "source": [
    "pd.DataFrame.from_dict(sfs.get_metric_dict()).T"
   ]
  },
  {
   "cell_type": "code",
   "execution_count": 56,
   "metadata": {
    "collapsed": false
   },
   "outputs": [
    {
     "data": {
      "image/png": "[encoded data removed]",
      "text/plain": [
       "<matplotlib.figure.Figure at 0x1661260e6d8>"
      ]
     },
     "metadata": {},
     "output_type": "display_data"
    }
   ],
   "source": [
    "fig1 = plot_sfs(sfs.get_metric_dict(), kind='std_dev')\n",
    "\n",
    "plt.ylim([-0.52, -0.55])\n",
    "plt.title('Sequential Forward Selection (w. StdDev)')\n",
    "plt.grid()\n",
    "plt.show()"
   ]
  },
  {
   "cell_type": "code",
   "execution_count": 57,
   "metadata": {
    "collapsed": false
   },
   "outputs": [
    {
     "data": {
      "text/plain": [
       "{20: {'avg_score': -0.53743255667545498,\n",
       "  'ci_bound': 0.002008180103019664,\n",
       "  'cv_scores': array([-0.54103624, -0.53527035, -0.53777336, -0.53765114, -0.5324559 ,\n",
       "         -0.53981495, -0.53980498, -0.53428875, -0.54016385, -0.53606605]),\n",
       "  'feature_idx': (0,\n",
       "   1,\n",
       "   2,\n",
       "   3,\n",
       "   4,\n",
       "   5,\n",
       "   7,\n",
       "   8,\n",
       "   9,\n",
       "   10,\n",
       "   11,\n",
       "   12,\n",
       "   13,\n",
       "   14,\n",
       "   15,\n",
       "   16,\n",
       "   17,\n",
       "   18,\n",
       "   19,\n",
       "   20),\n",
       "  'std_dev': 0.0027038441988236528,\n",
       "  'std_err': 0.0009012813996078842},\n",
       " 21: {'avg_score': -0.53749095461233842,\n",
       "  'ci_bound': 0.002061066605653283,\n",
       "  'cv_scores': array([-0.54157841, -0.53532519, -0.53763943, -0.53765654, -0.53273061,\n",
       "         -0.53987872, -0.53994699, -0.53392982, -0.54007591, -0.53614794]),\n",
       "  'feature_idx': (0,\n",
       "   1,\n",
       "   2,\n",
       "   3,\n",
       "   4,\n",
       "   5,\n",
       "   6,\n",
       "   7,\n",
       "   8,\n",
       "   9,\n",
       "   10,\n",
       "   11,\n",
       "   12,\n",
       "   13,\n",
       "   14,\n",
       "   15,\n",
       "   16,\n",
       "   17,\n",
       "   18,\n",
       "   19,\n",
       "   20),\n",
       "  'std_dev': 0.002775051389417246,\n",
       "  'std_err': 0.0009250171298057486}}"
      ]
     },
     "execution_count": 57,
     "metadata": {},
     "output_type": "execute_result"
    }
   ],
   "source": [
    "sfs.get_metric_dict()"
   ]
  },
  {
   "cell_type": "code",
   "execution_count": 59,
   "metadata": {
    "collapsed": false
   },
   "outputs": [
    {
     "name": "stdout",
     "output_type": "stream",
     "text": [
      "gender\n",
      "height\n",
      "weight\n",
      "ap_hi\n",
      "ap_lo\n",
      "cholesterol\n",
      "active_fair\n",
      "smoke_restored\n",
      "alco_restored\n",
      "height_mul_log_cholesterol\n",
      "height_mul_log_gluc\n",
      "BMI\n",
      "age_group\n",
      "cholesterol_div_log_gluc\n",
      "gluc_mul_log_age\n",
      "ap_hi_mul_weight\n",
      "age_dif\n",
      "ap_lo_mul_log_ap_hi\n",
      "age_group_div_height\n",
      "age_group_mul_log_MAP\n"
     ]
    }
   ],
   "source": [
    "for i in (0,\n",
    "   1,\n",
    "   2,\n",
    "   3,\n",
    "   4,\n",
    "   5,\n",
    "   7,\n",
    "   8,\n",
    "   9,\n",
    "   10,\n",
    "   11,\n",
    "   12,\n",
    "   13,\n",
    "   14,\n",
    "   15,\n",
    "   16,\n",
    "   17,\n",
    "   18,\n",
    "   19,\n",
    "   20):\n",
    "    print(X_train.columns[i])"
   ]
  },
  {
   "cell_type": "code",
   "execution_count": null,
   "metadata": {
    "collapsed": false
   },
   "outputs": [],
   "source": [
    "X_train['lo_14s'].value_counts()"
   ]
  },
  {
   "cell_type": "code",
   "execution_count": 9,
   "metadata": {
    "collapsed": false
   },
   "outputs": [
    {
     "data": {
      "text/plain": [
       "['gender',\n",
       " 'height',\n",
       " 'weight',\n",
       " 'ap_hi',\n",
       " 'ap_lo',\n",
       " 'cholesterol',\n",
       " 'height_div_ap_lo',\n",
       " 'active_fair',\n",
       " 'smoke_restored',\n",
       " 'alco_restored',\n",
       " 'height_mul_log_cholesterol',\n",
       " 'height_mul_log_gluc',\n",
       " 'BMI',\n",
       " 'age_group',\n",
       " 'cholesterol_div_log_gluc',\n",
       " 'gluc_mul_log_age',\n",
       " 'ap_hi_mul_weight']"
      ]
     },
     "execution_count": 9,
     "metadata": {},
     "output_type": "execute_result"
    }
   ],
   "source": [
    "start_columns+[]"
   ]
  },
  {
   "cell_type": "code",
   "execution_count": 10,
   "metadata": {
    "collapsed": true
   },
   "outputs": [],
   "source": [
    "params = {\n",
    "    'colsample_bytree': 0.875,\n",
    "     'gamma': 0.05,\n",
    "     'learning_rate': 0.1,\n",
    "     'max_depth': 5,\n",
    "     'min_child_weight': 5,\n",
    "     'n_estimators': 61,\n",
    "\n",
    "     'reg_alpha': 0,\n",
    "     'reg_lambda': 10,\n",
    "     'subsample': 0.7,\n",
    "    \n",
    "    'n_jobs': 1,\n",
    "    'random_state': 207,\n",
    "    'silent': True,\n",
    "}\n",
    "\n",
    "def get_score(column=None):\n",
    "    score1, score2 = utils.execute_model(xgb.XGBClassifier(**params),\n",
    "              X_train[start_columns + ([column] if column else [])],\n",
    "              y_train,\n",
    "#               X_test,\n",
    "#               model_name=\"model1\",\n",
    "#               n_splits=15,\n",
    "              n_folds=10,\n",
    "            verbose=0,\n",
    "            seed=207\n",
    "             )\n",
    "    return score1"
   ]
  },
  {
   "cell_type": "code",
   "execution_count": 13,
   "metadata": {
    "collapsed": false,
    "scrolled": false
   },
   "outputs": [
    {
     "name": "stdout",
     "output_type": "stream",
     "text": [
      "reference 0.538316696764\n",
      "0.538315499209 age\n",
      "0.538287442456 gluc\n",
      "0.538173636312 smoke\n",
      "0.538198010197 alco\n",
      "0.538307514114 active\n",
      "0.538236151523 alco_fair\n",
      "0.538284434267 error_group\n",
      "0.538248549754 BMI_1\n",
      "0.53820942483 BMI_3\n",
      "0.538294944169 BMI_4\n",
      "0.538207337666 ap_dif\n",
      "0.538151853347 ap_dif_2\n",
      "0.538310067698 age_years\n",
      "0.538162316664 age_group_MAPX\n",
      "0.53830746832 ap_hi_group\n",
      "0.538241917485 ap_lo_group\n",
      "0.538040669841 ap_hi_group_2\n",
      "0.538252098393 ap_lo_group_2\n",
      "0.538212055457 weight_group\n",
      "0.53820596118 height_group\n",
      "0.53820596118 BMI_group\n",
      "0.538314903426 age_log\n",
      "0.53830738488 age_mul_age\n",
      "0.538314973583 age_mul_log_age\n",
      "0.538315427627 age_div_log_age\n",
      "0.538315499209 age_mul_age_group\n",
      "0.538315942012 age_mul_log_age_group\n",
      "0.538105165368 age_div_age_group\n",
      "0.53824842533 age_mul_weight\n",
      "0.538224409303 age_mul_log_weight\n",
      "0.538260527135 age_div_weight\n",
      "0.538204662914 age_mul_cholesterol\n",
      "0.538196349112 age_div_cholesterol\n",
      "0.538178013426 age_mul_gluc\n",
      "0.538120710241 age_mul_log_gluc\n",
      "0.538286503082 age_div_gluc\n",
      "0.538315499209 age_group_mul_age\n",
      "0.538302446793 age_group_mul_log_age\n",
      "0.538128629866 age_group_div_log_age\n",
      "0.538128768714 age_group_div_age\n",
      "0.538271481628 age_group_mul_height\n",
      "0.538199427798 age_group_mul_log_height\n",
      "0.538121055595 age_group_div_height\n",
      "0.538144348483 age_group_mul_weight\n",
      "0.538205379913 age_group_mul_log_weight\n",
      "0.538178771486 age_group_div_log_weight\n",
      "0.538167840212 age_group_div_weight\n",
      "0.53824754366 age_group_mul_ap_hi\n",
      "0.538290644407 age_group_div_log_ap_hi\n",
      "0.538260102673 age_group_div_ap_hi\n",
      "0.53813839963 age_group_mul_log_ap_lo\n",
      "0.538292448919 age_group_div_log_ap_lo\n",
      "0.538243009896 age_group_mul_cholesterol\n",
      "0.53821037313 age_group_mul_log_cholesterol\n",
      "0.538202715991 age_group_div_log_cholesterol\n",
      "0.538089492598 age_group_div_cholesterol\n",
      "0.538160908484 age_group_mul_gluc\n",
      "0.538219834415 age_group_div_log_gluc\n",
      "0.538232439398 age_group_div_gluc\n",
      "0.53816933296 age_group_mul_log_BMI\n",
      "0.538295109088 age_group_div_BMI\n",
      "0.538162316664 age_group_mul_MAP\n",
      "0.538101899195 age_group_mul_log_MAP\n",
      "0.538188266336 age_group_div_log_MAP\n",
      "0.538273168381 height_log\n",
      "0.53818394617 height_div_log_age\n",
      "0.538271481628 height_mul_age_group\n",
      "0.538206142627 height_div_age_group\n",
      "0.538273168381 height_mul_height\n",
      "0.538273168381 height_mul_log_height\n",
      "0.538273168381 height_div_log_height\n",
      "0.538227539026 height_div_weight\n",
      "0.538139027214 height_mul_log_ap_hi\n",
      "0.538292879256 height_div_ap_hi\n",
      "0.538234167161 height_mul_log_ap_lo\n",
      "0.538237227339 height_div_log_ap_lo\n",
      "0.53827291421 height_div_log_cholesterol\n",
      "0.538160064895 height_mul_gluc\n",
      "0.53815353107 height_div_log_gluc\n",
      "0.538188095088 height_div_gluc\n",
      "0.538248549754 height_mul_BMI\n",
      "0.538269299142 height_div_log_BMI\n",
      "0.538183822968 height_div_BMI\n",
      "0.53824842533 weight_mul_age\n",
      "0.538294891532 weight_div_log_age\n",
      "0.538144348483 weight_mul_age_group\n",
      "0.538165596201 weight_mul_log_age_group\n",
      "0.538259086569 weight_div_log_age_group\n",
      "0.538170771235 weight_div_age_group\n",
      "0.538206787218 weight_div_log_height\n",
      "0.538236580139 weight_mul_ap_hi\n",
      "0.538256465743 weight_div_ap_hi\n",
      "0.538305753176 weight_mul_ap_lo\n",
      "0.538301184352 weight_mul_log_ap_lo\n",
      "0.538283275873 weight_div_log_ap_lo\n",
      "0.538207268275 weight_div_ap_lo\n",
      "0.538149159101 weight_mul_log_cholesterol\n",
      "0.538297391761 weight_mul_log_gluc\n",
      "0.538267571542 weight_div_log_gluc\n",
      "0.538248549754 weight_mul_BMI\n",
      "0.538282460416 weight_div_BMI\n",
      "0.538314397095 weight_mul_MAP\n",
      "0.538248711078 weight_mul_log_MAP\n",
      "0.538135695691 ap_hi_log\n",
      "0.538130495293 ap_hi_div_log_age\n",
      "0.53824754366 ap_hi_mul_age_group\n",
      "0.538207064183 ap_hi_mul_log_age_group\n",
      "0.538292267562 ap_hi_div_log_age_group\n",
      "0.538187317514 ap_hi_div_age_group\n",
      "0.538164932288 ap_hi_div_log_height\n",
      "0.538236218383 ap_hi_div_height\n",
      "0.538106594764 ap_hi_div_weight\n",
      "0.538135847427 ap_hi_mul_ap_hi\n",
      "0.538135847427 ap_hi_mul_log_ap_hi\n",
      "0.538135695691 ap_hi_div_log_ap_hi\n",
      "0.538234906169 ap_hi_mul_log_ap_lo\n",
      "0.538297753183 ap_hi_div_log_ap_lo\n",
      "0.538122673806 ap_hi_div_ap_lo\n",
      "0.538233042328 ap_hi_mul_cholesterol\n",
      "0.538283922716 ap_hi_mul_log_cholesterol\n",
      "0.538270512725 ap_hi_div_log_cholesterol\n",
      "0.538100200598 ap_hi_div_cholesterol\n",
      "0.538281002655 ap_hi_mul_gluc\n",
      "0.538199901532 ap_hi_mul_log_gluc\n",
      "0.538161792908 ap_hi_div_log_gluc\n",
      "0.538180103849 ap_hi_div_gluc\n",
      "0.538215930469 ap_hi_mul_BMI\n",
      "0.538259060112 ap_hi_div_log_BMI\n",
      "0.538293900011 ap_hi_div_BMI\n",
      "0.538273593622 ap_hi_mul_log_MAP\n",
      "0.538233520287 ap_hi_div_log_MAP\n",
      "0.538252760606 ap_hi_div_MAP\n",
      "0.538307982316 ap_lo_log\n",
      "0.538222604797 ap_lo_div_log_age\n",
      "0.53828861088 ap_lo_div_age\n",
      "0.538301567411 ap_lo_div_log_age_group\n",
      "0.538311805784 ap_lo_div_age_group\n",
      "0.538115261609 ap_lo_mul_log_height\n",
      "0.538263938777 ap_lo_div_log_height\n",
      "0.538273649934 ap_lo_div_height\n",
      "0.538305753176 ap_lo_mul_weight\n",
      "0.538304687737 ap_lo_div_log_weight\n",
      "0.538128905999 ap_lo_mul_log_ap_hi\n",
      "0.53822186435 ap_lo_div_ap_hi\n",
      "0.538307980768 ap_lo_mul_ap_lo\n",
      "0.538307980768 ap_lo_mul_log_ap_lo\n",
      "0.538307982316 ap_lo_div_log_ap_lo\n",
      "0.538113196112 ap_lo_div_log_cholesterol\n",
      "0.538226047958 ap_lo_div_cholesterol\n",
      "0.538256128074 ap_lo_mul_gluc\n",
      "0.538281431482 ap_lo_mul_log_gluc\n",
      "0.538274630565 ap_lo_div_log_gluc\n",
      "0.538225512189 ap_lo_mul_BMI\n",
      "0.538240323261 ap_lo_mul_log_BMI\n",
      "0.538174916415 ap_lo_mul_MAP\n",
      "0.538248879493 ap_lo_mul_log_MAP\n",
      "0.538305951648 ap_lo_div_log_MAP\n",
      "0.538181088484 ap_lo_div_MAP\n",
      "0.538284434267 cholesterol_log\n",
      "0.538204662914 cholesterol_mul_age\n",
      "0.538151573366 cholesterol_mul_log_age\n",
      "0.538191022515 cholesterol_div_log_age\n",
      "0.53815816502 cholesterol_div_age\n",
      "0.538243009896 cholesterol_mul_age_group\n",
      "0.538184734661 cholesterol_div_log_age_group\n",
      "0.538097391347 cholesterol_div_age_group\n",
      "0.538255917395 cholesterol_div_height\n",
      "0.538252193885 cholesterol_div_log_weight\n",
      "0.538080087525 cholesterol_div_weight\n",
      "0.538233042328 cholesterol_mul_ap_hi\n",
      "0.538135317096 cholesterol_mul_log_ap_hi\n",
      "0.538139416461 cholesterol_div_log_ap_hi\n",
      "0.538110415665 cholesterol_div_ap_hi\n",
      "0.538215487654 cholesterol_div_log_ap_lo\n",
      "0.538234142767 cholesterol_div_ap_lo\n",
      "0.538284434267 cholesterol_mul_cholesterol\n",
      "0.538284434267 cholesterol_mul_log_cholesterol\n",
      "0.538284434267 cholesterol_div_log_cholesterol\n",
      "0.538195701726 cholesterol_mul_gluc\n",
      "0.538198193317 cholesterol_mul_log_gluc\n",
      "0.538237458466 cholesterol_div_gluc\n",
      "0.538293935994 cholesterol_div_log_BMI\n",
      "0.538222730462 cholesterol_div_BMI\n",
      "0.538201078479 cholesterol_mul_MAP\n",
      "0.538204652342 cholesterol_div_log_MAP\n",
      "0.538197501567 cholesterol_div_MAP\n",
      "0.538287442456 gluc_log\n",
      "0.538178013426 gluc_mul_age\n",
      "0.53827133389 gluc_div_log_age\n",
      "0.538287148425 gluc_div_age\n",
      "0.538160908484 gluc_mul_age_group\n",
      "0.538207367814 gluc_mul_log_age_group\n",
      "0.538208538209 gluc_div_log_age_group\n",
      "0.538080601041 gluc_div_age_group\n",
      "0.538160064895 gluc_mul_height\n",
      "0.538160087735 gluc_mul_log_height\n",
      "0.53815625939 gluc_div_height\n",
      "0.538281509568 gluc_mul_log_weight\n",
      "0.538301071547 gluc_div_weight\n",
      "0.538281002655 gluc_mul_ap_hi\n",
      "0.538255623321 gluc_mul_log_ap_hi\n",
      "0.538147646635 gluc_div_log_ap_hi\n",
      "0.538195246923 gluc_div_ap_hi\n",
      "0.538256128074 gluc_mul_ap_lo\n",
      "0.538241783233 gluc_mul_log_ap_lo\n",
      "0.538109792418 gluc_div_log_ap_lo\n",
      "0.538195701726 gluc_mul_cholesterol\n",
      "0.538180770041 gluc_mul_log_cholesterol\n",
      "0.538293752245 gluc_div_log_cholesterol\n",
      "0.538202119463 gluc_div_cholesterol\n",
      "0.538287442456 gluc_mul_gluc\n",
      "0.538287442456 gluc_mul_log_gluc\n",
      "0.538287442456 gluc_div_log_gluc\n",
      "0.538300100748 gluc_mul_BMI\n",
      "0.53827118749 gluc_mul_log_MAP\n",
      "0.538161825449 gluc_div_log_MAP\n",
      "0.538279652686 gluc_div_MAP\n",
      "0.538218068894 BMI_log\n",
      "0.538289935723 BMI_mul_log_age\n",
      "0.538211893763 BMI_div_log_age\n",
      "0.538302019612 BMI_div_age\n",
      "0.538220345839 BMI_mul_log_age_group\n",
      "0.538258849202 BMI_div_log_age_group\n",
      "0.538301789699 BMI_div_age_group\n",
      "0.538248549754 BMI_mul_height\n",
      "0.538249603142 BMI_mul_log_height\n",
      "0.538284019308 BMI_div_height\n",
      "0.538248549754 BMI_mul_weight\n",
      "0.538296371036 BMI_mul_log_weight\n",
      "0.538254239766 BMI_div_weight\n",
      "0.538215930469 BMI_mul_ap_hi\n",
      "0.538287765971 BMI_mul_log_ap_hi\n",
      "0.538248486839 BMI_div_log_ap_hi\n",
      "0.538200040497 BMI_div_ap_hi\n",
      "0.538225512189 BMI_mul_ap_lo\n",
      "0.538280904363 BMI_div_ap_lo\n",
      "0.538245647386 BMI_div_log_cholesterol\n",
      "0.538208600413 BMI_div_cholesterol\n",
      "0.538300100748 BMI_mul_gluc\n",
      "0.538284224719 BMI_mul_log_gluc\n",
      "0.538218068894 BMI_mul_BMI\n",
      "0.538218068894 BMI_mul_log_BMI\n",
      "0.538218068894 BMI_div_log_BMI\n",
      "0.538291178184 BMI_mul_MAP\n",
      "0.538244736377 BMI_mul_log_MAP\n",
      "0.538138707438 BMI_div_MAP\n",
      "0.538162316664 MAP_mul_age_group\n",
      "0.538216007835 MAP_div_log_age_group\n",
      "0.538283139466 MAP_div_age_group\n",
      "0.538314397095 MAP_mul_weight\n",
      "0.538282570279 MAP_div_log_weight\n",
      "0.538175072983 MAP_div_weight\n",
      "0.538267523476 MAP_div_log_ap_hi\n",
      "0.538223991417 MAP_div_ap_hi\n",
      "0.538174916415 MAP_mul_ap_lo\n",
      "0.538088499884 MAP_div_ap_lo\n",
      "0.538201078479 MAP_mul_cholesterol\n",
      "0.538252123281 MAP_div_log_cholesterol\n",
      "0.538169286714 MAP_div_cholesterol\n",
      "0.53831218631 MAP_mul_log_gluc\n",
      "0.538227324637 MAP_div_log_gluc\n",
      "0.538107129933 MAP_div_gluc\n",
      "0.538291178184 MAP_mul_BMI\n",
      "0.538302460313 MAP_mul_log_BMI\n",
      "0.538306504538 MAP_div_log_BMI\n",
      "0.538051375009 MAP_div_BMI\n"
     ]
    }
   ],
   "source": [
    "reference = get_score()\n",
    "print('reference', reference)\n",
    "gc.collect()\n",
    "for c in X_train.columns:\n",
    "    if c not in start_columns:\n",
    "        score = get_score(c)\n",
    "        gc.collect()\n",
    "        if score < reference:\n",
    "            print(score, c)   "
   ]
  },
  {
   "cell_type": "code",
   "execution_count": 12,
   "metadata": {
    "collapsed": false
   },
   "outputs": [
    {
     "data": {
      "text/plain": [
       "9408"
      ]
     },
     "execution_count": 12,
     "metadata": {},
     "output_type": "execute_result"
    }
   ],
   "source": [
    "import gc\n",
    "gc.collect()"
   ]
  },
  {
   "cell_type": "code",
   "execution_count": 14,
   "metadata": {
    "collapsed": false
   },
   "outputs": [
    {
     "name": "stdout",
     "output_type": "stream",
     "text": [
      "done!\n"
     ]
    }
   ],
   "source": [
    "print('done!')"
   ]
  },
  {
   "cell_type": "code",
   "execution_count": null,
   "metadata": {
    "collapsed": true
   },
   "outputs": [],
   "source": []
  }
 ],
 "metadata": {
  "kernelspec": {
   "display_name": "Python 3",
   "language": "python",
   "name": "python3"
  },
  "language_info": {
   "codemirror_mode": {
    "name": "ipython",
    "version": 3
   },
   "file_extension": ".py",
   "mimetype": "text/x-python",
   "name": "python",
   "nbconvert_exporter": "python",
   "pygments_lexer": "ipython3",
   "version": "3.6.0"
  }
 },
 "nbformat": 4,
 "nbformat_minor": 2
}
