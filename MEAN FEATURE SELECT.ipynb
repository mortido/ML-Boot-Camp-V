{
 "cells": [
  {
   "cell_type": "code",
   "execution_count": 1,
   "metadata": {
    "collapsed": false
   },
   "outputs": [],
   "source": [
    "import pandas as pd\n",
    "import numpy as np\n",
    "\n",
    "from mlxtend.feature_selection import SequentialFeatureSelector as SFS\n",
    "\n",
    "import matplotlib.pyplot as plt\n",
    "from xgboost import plot_importance\n",
    "from mlxtend.plotting import plot_sequential_feature_selection as plot_sfs\n",
    "import seaborn as sns\n",
    "\n",
    "import lightgbm as lgb\n",
    "import xgboost as xgb\n",
    "from itertools import combinations\n",
    "\n",
    "import utils\n",
    "\n",
    "plt.style.use('ggplot')\n",
    "%matplotlib inline"
   ]
  },
  {
   "cell_type": "code",
   "execution_count": 2,
   "metadata": {
    "collapsed": true
   },
   "outputs": [],
   "source": [
    "best_interactions = [\n",
    "]"
   ]
  },
  {
   "cell_type": "code",
   "execution_count": 3,
   "metadata": {
    "collapsed": false
   },
   "outputs": [],
   "source": [
    "def clean_data(data):\n",
    "    data['error_group'] = 0\n",
    "\n",
    "    # weight/height correction\n",
    "    idx = (data['height']<130) & (data['weight']>150)\n",
    "    data.loc[idx, [\"height\", \"weight\"]] = data.loc[idx, [\"weight\", \"height\"]].values\n",
    "#     data.loc[idx, 'error_group'] = 100-1\n",
    "\n",
    "    # preasure correction\n",
    "    data.loc[data[\"ap_hi\"] < 0, \"ap_hi\"] *= -1\n",
    "    data.loc[data[\"ap_lo\"] < 0, \"ap_lo\"] *= -1\n",
    "    \n",
    "    for i in range(10):\n",
    "        str_i = str(i)\n",
    "        data['hi_' + str_i + 's'] = data['ap_hi'].apply(lambda x: str(x).count(str_i))\n",
    "        data['lo_' + str_i + 's'] = data['ap_lo'].apply(lambda x: str(x).count(str_i))\n",
    "        for j in range(10):\n",
    "            str_j = str_i + str(j)\n",
    "            data['hi_' + str_j + 's'] = data['ap_hi'].apply(lambda x: str(x).count(str_j))\n",
    "            data['lo_' + str_j + 's'] = data['ap_lo'].apply(lambda x: str(x).count(str_j))\n",
    "        \n",
    "    data.loc[(data['ap_lo'] < 20), 'error_group'] = 5\n",
    "    data.loc[(data['ap_hi'] < 50), 'error_group'] = 6\n",
    "    data.loc[(data['ap_lo'] > 250), 'error_group'] = 1\n",
    "    data.loc[(data['ap_lo'] > 4000), 'error_group'] = 2\n",
    "    data.loc[(data['ap_hi'] > 250), 'error_group'] = 3\n",
    "    data.loc[(data['ap_hi'] > 10000), 'error_group'] = 4\n",
    "\n",
    "    data.loc[(data[\"ap_hi\"] < 20) & (data[\"ap_hi\"] > 10), \"ap_hi\"] *= 10\n",
    "    data.loc[(data[\"ap_lo\"] < 15) & (data[\"ap_lo\"] > 2), \"ap_lo\"] *= 10\n",
    "\n",
    "    idx = data['ap_hi'] > 10000\n",
    "    data.loc[idx, 'ap_hi'] = 10 * (data.loc[idx, 'ap_hi'] // 1000)\n",
    "    data.loc[data['ap_lo'] >= 10000, 'ap_lo'] //= 100\n",
    "    \n",
    "    manual_update = [\n",
    "        (12494, ['ap_hi', 'ap_lo'], [120, 80]),\n",
    "        (42591, ['ap_hi', 'ap_lo'], [140, 90]), # ?\n",
    "        (78873, ['ap_hi', 'ap_lo'], [130, 100]), # ?\n",
    "        (51749, ['ap_hi', 'ap_lo'], [120, 80]),\n",
    "        (57807, ['ap_hi', 'ap_lo'], [170, 100]),\n",
    "        (60477, ['ap_hi', 'ap_lo'], [110, 80]),\n",
    "        (91198, ['ap_hi', 'ap_lo'], [100, 90]),\n",
    "        (6580,  ['ap_hi', 'ap_lo'], [110, 90]),\n",
    "        (44701, ['ap_hi', 'ap_lo'], [120, 70]),\n",
    "        (94673,  ['ap_hi', 'ap_lo'], [110, 60]),\n",
    "        \n",
    "    ]\n",
    "    for idx, cols, update in manual_update:\n",
    "        data.loc[data['id']==idx, cols] = update\n",
    "    return data"
   ]
  },
  {
   "cell_type": "code",
   "execution_count": 4,
   "metadata": {
    "collapsed": false
   },
   "outputs": [],
   "source": [
    "train = pd.read_csv('train.csv', sep=';')\n",
    "test = pd.read_csv('test.csv', sep=';', na_values='None')\n",
    "\n",
    "train = clean_data(train)\n",
    "test = clean_data(test)\n",
    "\n",
    "train = utils.new_features(train)\n",
    "test = utils.new_features(test)\n",
    "\n",
    "X_train = train.drop([ 'cardio'], axis=1)\n",
    "y_train = train['cardio'].values.ravel()\n",
    "X_test = test.drop([], axis=1)"
   ]
  },
  {
   "cell_type": "code",
   "execution_count": 5,
   "metadata": {
    "collapsed": false
   },
   "outputs": [
    {
     "data": {
      "text/plain": [
       "131"
      ]
     },
     "execution_count": 5,
     "metadata": {},
     "output_type": "execute_result"
    }
   ],
   "source": [
    "import gc\n",
    "gc.collect()"
   ]
  },
  {
   "cell_type": "code",
   "execution_count": 6,
   "metadata": {
    "collapsed": false
   },
   "outputs": [],
   "source": [
    "from sklearn.model_selection import train_test_split\n",
    "__, idx = train_test_split(list(range(X_train.shape[0])), test_size=0.101, random_state=42)\n",
    "X_train.loc[idx, 'alco'] = np.nan\n",
    "__, idx = train_test_split(list(range(X_train.shape[0])), test_size=0.101, random_state=43)\n",
    "X_train.loc[idx, 'smoke'] = np.nan\n",
    "__, idx = train_test_split(list(range(X_train.shape[0])), test_size=0.096, random_state=44)\n",
    "X_train.loc[idx, 'active'] = np.nan\n",
    "\n",
    "from sklearn.neighbors import KNeighborsRegressor, KNeighborsClassifier\n",
    "from sklearn.model_selection import StratifiedKFold\n",
    "from sklearn.preprocessing import scale\n",
    "from sklearn.model_selection import cross_val_score\n",
    "from sklearn.base import clone\n",
    "\n",
    "def impute_nans(model, X_train, X_test, columns, target, perform_cv = False, scoring='accuracy'):\n",
    "    X = pd.concat((X_train, X_test), axis=0)\n",
    "    train_idx = ~X[target].isnull()\n",
    "    model = clone(model)\n",
    "    model.fit(X.loc[train_idx, columns], X.loc[train_idx, target])\n",
    "    X_train.loc[X_train[target].isnull(), target] = model.predict(X_train.loc[X_train[target].isnull(), columns])\n",
    "    X_test.loc[X_test[target].isnull(), target] = model.predict(X_test.loc[X_test[target].isnull(), columns])\n",
    "    \n",
    "    if perform_cv:\n",
    "        n_folds = 7\n",
    "        kf = StratifiedKFold(random_state=111, n_splits=n_folds, shuffle=True)\n",
    "        scores = cross_val_score(model, X.loc[train_idx, columns], X.loc[train_idx, target], cv=kf, scoring=scoring)\n",
    "        print(target, np.mean(scores), 'on', n_folds, 'folds', 'with mean on train', X.loc[train_idx, target].mean())\n",
    "    \n",
    "params = {\n",
    "    'colsample_bytree': 0.8,\n",
    "    'learning_rate': 0.1,\n",
    "    'n_estimators': 200,\n",
    "    'subsample': 0.8,\n",
    "    'n_jobs': 4,\n",
    "    'random_state': 2707,\n",
    "    'silent': True,\n",
    "}\n",
    "clf = xgb.XGBClassifier(**params)\n",
    "\n",
    "columns = ['age', 'gender', 'height', 'weight', 'ap_hi', 'ap_lo', 'cholesterol', 'gluc','BMI', 'ap_dif', 'MAP']\n",
    "impute_nans(clf, X_train, X_test, columns, 'smoke')#, perform_cv = True)\n",
    "\n",
    "columns = ['age', 'gender', 'height', 'weight', 'ap_hi', 'ap_lo', 'cholesterol', 'gluc','BMI', 'ap_dif', 'MAP', ]\n",
    "impute_nans(clf, X_train, X_test, columns, 'alco')#, perform_cv = True)\n",
    "\n",
    "columns = ['age', 'gender', 'height', 'weight', 'ap_hi', 'ap_lo', 'cholesterol', 'gluc','BMI', 'ap_dif', 'MAP', ]\n",
    "impute_nans(clf, X_train, X_test, columns, 'active')#, perform_cv = True)"
   ]
  },
  {
   "cell_type": "code",
   "execution_count": 7,
   "metadata": {
    "collapsed": true
   },
   "outputs": [],
   "source": [
    "gc.collect()\n",
    "use_columns = [\n",
    "    'age_group', 'gender', 'height', 'weight', 'ap_hi', 'ap_lo', 'cholesterol', 'gluc', 'smoke', 'alco', 'active'\n",
    "'BMI',\n",
    " 'MAP',\n",
    "    'ap_dif',\n",
    "]"
   ]
  },
  {
   "cell_type": "code",
   "execution_count": 8,
   "metadata": {
    "collapsed": true
   },
   "outputs": [],
   "source": [
    "params = {\n",
    "    'colsample_bytree': 0.8,\n",
    "    'learning_rate': 0.1,\n",
    "    'n_estimators': 200,\n",
    "    'subsample': 0.8,\n",
    "    'n_jobs': 1,\n",
    "    'random_state': 27,\n",
    "    'silent': True,\n",
    "}\n",
    "\n",
    "def get_score(column=None):\n",
    "    score1, score2 = utils.execute_model(xgb.XGBClassifier(**params),\n",
    "              X_train,\n",
    "              y_train,\n",
    "#               X_test,\n",
    "#               model_name=\"model1\",\n",
    "               mean_columns = [column] if column else [],\n",
    "              use_columns=use_columns,\n",
    "#               n_splits=15,\n",
    "              n_folds=10,\n",
    "              alpha=13,\n",
    "            verbose=0\n",
    "             )\n",
    "    return score1\n",
    "\n",
    "def get_score2(columns):\n",
    "#     print(columns)\n",
    "    score1, score2 = utils.execute_model(xgb.XGBClassifier(**params),\n",
    "              X_train,\n",
    "              y_train,\n",
    "#               X_test,\n",
    "#               model_name=\"model1\",\n",
    "               mean_columns = columns,\n",
    "               use_columns=use_columns,\n",
    "#               n_splits=15,\n",
    "              n_folds=10,\n",
    "              alpha=13,\n",
    "            verbose=0\n",
    "             )\n",
    "    return score1"
   ]
  },
  {
   "cell_type": "code",
   "execution_count": null,
   "metadata": {
    "collapsed": false
   },
   "outputs": [],
   "source": [
    "reference = get_score()\n",
    "print('reference', reference)\n",
    "mean_cols = ['cholesterol_gluc_smoke_active']\n",
    "while len(mean_cols) < 10:\n",
    "    best_score = 99\n",
    "    best = None\n",
    "    for c in best_interactions:\n",
    "        if 'error' in c or 'MAP' in c or c in mean_cols:\n",
    "            continue\n",
    "        score = get_score2(mean_cols + [c])\n",
    "        gc.collect()\n",
    "        if score < best_score:\n",
    "            best_score = score\n",
    "            best = c\n",
    "            print('..',c)\n",
    "    mean_cols.append(best)\n",
    "    print(best_score, best, mean_cols)"
   ]
  },
  {
   "cell_type": "code",
   "execution_count": null,
   "metadata": {
    "collapsed": false
   },
   "outputs": [],
   "source": [
    "reference = get_score()\n",
    "print('reference', reference)\n",
    "for c in X_train.columns:\n",
    "    if 'lo_' in c or 'hi_' in c or 'id' in c:\n",
    "        continue\n",
    "    score = get_score(c)\n",
    "    gc.collect()\n",
    "    if score < reference:\n",
    "        print(score, c)        "
   ]
  },
  {
   "cell_type": "code",
   "execution_count": 19,
   "metadata": {
    "collapsed": false
   },
   "outputs": [],
   "source": [
    "import importlib\n",
    "utils = importlib.reload(utils)"
   ]
  },
  {
   "cell_type": "code",
   "execution_count": 20,
   "metadata": {
    "collapsed": false
   },
   "outputs": [
    {
     "data": {
      "text/plain": [
       "117"
      ]
     },
     "execution_count": 20,
     "metadata": {},
     "output_type": "execute_result"
    }
   ],
   "source": [
    "import gc\n",
    "gc.collect()"
   ]
  },
  {
   "cell_type": "code",
   "execution_count": 16,
   "metadata": {
    "collapsed": false
   },
   "outputs": [
    {
     "data": {
      "text/plain": [
       "[1, 2, 3, 4, 6]"
      ]
     },
     "execution_count": 16,
     "metadata": {},
     "output_type": "execute_result"
    }
   ],
   "source": [
    "a=set()\n",
    "a.update([1,2,3])\n",
    "a.update([1,4,3])\n",
    "a.add(6)\n",
    "list(a)"
   ]
  },
  {
   "cell_type": "code",
   "execution_count": null,
   "metadata": {
    "collapsed": false
   },
   "outputs": [
    {
     "name": "stdout",
     "output_type": "stream",
     "text": [
      "reference 0.539621817593\n",
      "0.539441890402 ('age_group', 'gender', 'MAP', 'gluc', 'active')\n",
      "0.539486722965 ('age_group', 'gender', 'MAP', 'BMI_group', 'active')\n",
      "0.539568276225 ('age_group', 'gender', 'MAP', 'smoke', 'active')\n",
      "0.539131997639 ('age_group', 'gender', 'MAP', 'active', 'ap_hi_group')\n",
      "0.539439302446 ('age_group', 'gender', 'MAP', 'active', 'ap_lo_group')\n",
      "0.539486722965 ('age_group', 'gender', 'MAP', 'active', 'height_group')\n",
      "0.539542360336 ('age_group', 'gender', 'error_group', 'cholesterol', 'gluc')\n",
      "0.539590106151 ('age_group', 'gender', 'error_group', 'cholesterol', 'alco')\n",
      "0.539476921793 ('age_group', 'gender', 'error_group', 'cholesterol', 'active')\n",
      "0.539360420903 ('age_group', 'gender', 'error_group', 'gluc', 'alco')\n",
      "0.539310460404 ('age_group', 'gender', 'error_group', 'gluc', 'active')\n",
      "0.539523872868 ('age_group', 'gender', 'error_group', 'smoke', 'alco')\n",
      "0.539238124747 ('age_group', 'gender', 'error_group', 'smoke', 'active')\n",
      "0.539305261039 ('age_group', 'gender', 'error_group', 'alco', 'active')\n",
      "0.539366558461 ('age_group', 'gender', 'error_group', 'active', 'ap_hi_group')\n",
      "0.539410838359 ('age_group', 'gender', 'error_group', 'active', 'ap_lo_group')\n",
      "0.539290684826 ('age_group', 'gender', 'cholesterol', 'gluc', 'active')\n",
      "0.539420609046 ('age_group', 'gender', 'cholesterol', 'smoke', 'active')\n",
      "0.539424889904 ('age_group', 'gender', 'cholesterol', 'alco', 'active')\n",
      "0.539553937602 ('age_group', 'gender', 'cholesterol', 'active', 'ap_lo_group')\n",
      "0.539417576791 ('age_group', 'gender', 'gluc', 'smoke', 'alco')\n",
      "0.53899434372 ('age_group', 'gender', 'gluc', 'smoke', 'active')\n",
      "0.539144490812 ('age_group', 'gender', 'gluc', 'alco', 'active')\n",
      "0.539554812131 ('age_group', 'gender', 'gluc', 'alco', 'ap_lo_group')\n",
      "0.53957531552 ('age_group', 'gender', 'gluc', 'active', 'ap_hi_group')\n",
      "0.539345731973 ('age_group', 'gender', 'gluc', 'active', 'ap_lo_group')\n",
      "0.539353483187 ('age_group', 'gender', 'smoke', 'alco', 'active')\n",
      "0.539334322542 ('age_group', 'gender', 'smoke', 'active', 'ap_hi_group')\n",
      "0.5395011421 ('age_group', 'gender', 'smoke', 'active', 'ap_lo_group')\n",
      "0.539493650411 ('age_group', 'gender', 'alco', 'active', 'ap_hi_group')\n",
      "0.539475246882 ('age_group', 'gender', 'alco', 'active', 'ap_lo_group')\n",
      "0.539606395533 ('age_group', 'gender', 'active', 'ap_hi_group', 'ap_lo_group')\n",
      "0.539358537405 ('age_group', 'MAP', 'error_group', 'gluc', 'active')\n",
      "0.539571488152 ('age_group', 'MAP', 'error_group', 'alco', 'active')\n",
      "0.539595186068 ('age_group', 'MAP', 'error_group', 'active', 'ap_hi_group')\n",
      "0.539617709461 ('age_group', 'MAP', 'gluc', 'smoke', 'active')\n",
      "0.539390277605 ('age_group', 'MAP', 'gluc', 'alco', 'active')\n",
      "0.539404265023 ('age_group', 'MAP', 'gluc', 'active', 'ap_hi_group')\n",
      "0.539518232626 ('age_group', 'MAP', 'smoke', 'alco', 'active')\n",
      "0.539529977949 ('age_group', 'MAP', 'alco', 'active', 'ap_hi_group')\n",
      "0.539043008279 ('age_group', 'error_group', 'cholesterol', 'gluc', 'active')\n",
      "0.539103493261 ('age_group', 'error_group', 'cholesterol', 'smoke', 'active')\n",
      "0.539419382026 ('age_group', 'error_group', 'cholesterol', 'alco', 'active')\n",
      "0.539353874959 ('age_group', 'error_group', 'cholesterol', 'active', 'ap_hi_group')\n",
      "0.539492563275 ('age_group', 'error_group', 'gluc', 'smoke', 'alco')\n",
      "0.539146718493 ('age_group', 'error_group', 'gluc', 'smoke', 'active')\n",
      "0.538941682867 ('age_group', 'error_group', 'gluc', 'alco', 'active')\n",
      "0.53936901899 ('age_group', 'error_group', 'gluc', 'active', 'ap_hi_group')\n",
      "0.539441848631 ('age_group', 'error_group', 'gluc', 'active', 'ap_lo_group')\n",
      "0.539615206335 ('age_group', 'error_group', 'gluc', 'active', 'weight_group')\n",
      "0.539186869478 ('age_group', 'error_group', 'smoke', 'alco', 'active')\n",
      "0.539191991243 ('age_group', 'error_group', 'smoke', 'active', 'ap_hi_group')\n",
      "0.539609948737 ('age_group', 'error_group', 'smoke', 'active', 'ap_lo_group')\n",
      "0.539460974219 ('age_group', 'error_group', 'alco', 'active', 'ap_hi_group')\n",
      "0.53938985244 ('age_group', 'error_group', 'alco', 'active', 'ap_lo_group')\n",
      "0.539467068614 ('age_group', 'error_group', 'active', 'ap_hi_group', 'ap_lo_group')\n",
      "0.53938687823 ('age_group', 'cholesterol', 'gluc', 'smoke', 'active')\n",
      "0.539292892803 ('age_group', 'cholesterol', 'gluc', 'alco', 'active')\n",
      "0.539454917729 ('age_group', 'cholesterol', 'gluc', 'active', 'ap_hi_group')\n",
      "0.539466430475 ('age_group', 'cholesterol', 'smoke', 'alco', 'active')\n"
     ]
    }
   ],
   "source": [
    "columns_to_interact = ['age_group', 'gender', 'MAP', 'error_group', 'cholesterol', 'gluc', \n",
    "                       'BMI_group', 'smoke', 'alco', 'active', \"ap_hi_group\", \"ap_lo_group\",\n",
    "                      \"weight_group\", \"height_group\"]\n",
    "\n",
    "reference = get_score()\n",
    "print('reference', reference)\n",
    "gc.collect()\n",
    "for i in range(5,1,-1):\n",
    "    for comb in combinations(columns_to_interact, i):\n",
    "        score = get_score(comb)\n",
    "        gc.collect()\n",
    "        if score < reference:\n",
    "            print(score, comb)    "
   ]
  },
  {
   "cell_type": "code",
   "execution_count": null,
   "metadata": {
    "collapsed": false
   },
   "outputs": [],
   "source": [
    "# reference = get_score()\n",
    "# print('reference', reference)\n",
    "# mean_cols = ['cholesterol_gluc_smoke_active']\n",
    "while len(mean_cols) < 20:\n",
    "    best_score = 99\n",
    "    best = None\n",
    "    for c in best_interactions:\n",
    "        if 'error' in c or 'MAP' in c or c in mean_cols:\n",
    "            continue\n",
    "        score = get_score2(mean_cols + [c])\n",
    "        gc.collect()\n",
    "        if score < best_score:\n",
    "            best_score = score\n",
    "            best = c\n",
    "            print('..',c)\n",
    "    mean_cols.append(best)\n",
    "    print(best_score, best, mean_cols)"
   ]
  },
  {
   "cell_type": "code",
   "execution_count": null,
   "metadata": {
    "collapsed": true
   },
   "outputs": [],
   "source": []
  }
 ],
 "metadata": {
  "kernelspec": {
   "display_name": "Python 3",
   "language": "python",
   "name": "python3"
  },
  "language_info": {
   "codemirror_mode": {
    "name": "ipython",
    "version": 3
   },
   "file_extension": ".py",
   "mimetype": "text/x-python",
   "name": "python",
   "nbconvert_exporter": "python",
   "pygments_lexer": "ipython3",
   "version": "3.6.0"
  }
 },
 "nbformat": 4,
 "nbformat_minor": 2
}
