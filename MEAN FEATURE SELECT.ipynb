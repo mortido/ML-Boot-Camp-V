{
 "cells": [
  {
   "cell_type": "code",
   "execution_count": 10,
   "metadata": {
    "collapsed": false
   },
   "outputs": [],
   "source": [
    "import pandas as pd\n",
    "import numpy as np\n",
    "\n",
    "from mlxtend.feature_selection import SequentialFeatureSelector as SFS\n",
    "\n",
    "import matplotlib.pyplot as plt\n",
    "from xgboost import plot_importance\n",
    "from mlxtend.plotting import plot_sequential_feature_selection as plot_sfs\n",
    "from sklearn.model_selection import StratifiedKFold\n",
    "import seaborn as sns\n",
    "\n",
    "import lightgbm as lgb\n",
    "import xgboost as xgb\n",
    "from itertools import combinations\n",
    "\n",
    "import utils\n",
    "\n",
    "plt.style.use('ggplot')\n",
    "%matplotlib inline"
   ]
  },
  {
   "cell_type": "code",
   "execution_count": 11,
   "metadata": {
    "collapsed": false
   },
   "outputs": [],
   "source": [
    "train = pd.read_csv('train.csv', sep=';')\n",
    "test = pd.read_csv('test.csv', sep=';', na_values='None')\n",
    "\n",
    "train = utils.clean_data(train)\n",
    "test = utils.clean_data(test)\n",
    "\n",
    "train = utils.new_features(train)\n",
    "test = utils.new_features(test)\n",
    "\n",
    "X_train = train.drop([ 'cardio'], axis=1)\n",
    "y_train = train['cardio'].values.ravel()\n",
    "X_test = test.drop([], axis=1)\n",
    "\n",
    "ccc = ['age', 'age_group', 'height', 'weight', 'ap_hi', 'ap_lo', 'cholesterol', 'gluc', 'BMI', 'MAP']\n",
    "def new_cols(data):    \n",
    "    for col1 in ccc:\n",
    "        data[col1 + '_log'] = np.log(data[col1] + 1.1)\n",
    "        for col2 in ccc:\n",
    "            data['%s_mul_%s' % (col1, col2)] = data[col1] * data[col2]\n",
    "            data['%s_mul_log_%s' % (col1, col2)] = data[col1] * np.log(data[col2] + 1)\n",
    "            data['%s_div_log_%s' % (col1, col2)] = data[col1] / (np.log(data[col2] + 1) + 1)\n",
    "\n",
    "            if col2 == col1:\n",
    "                continue\n",
    "\n",
    "            data['%s_div_%s' % (col1, col2)] = data[col1] / (data[col2] + 1)\n",
    "\n",
    "new_cols(X_train)\n",
    "new_cols(X_test)"
   ]
  },
  {
   "cell_type": "code",
   "execution_count": 12,
   "metadata": {
    "collapsed": false
   },
   "outputs": [
    {
     "data": {
      "text/plain": [
       "498"
      ]
     },
     "execution_count": 12,
     "metadata": {},
     "output_type": "execute_result"
    }
   ],
   "source": [
    "import gc\n",
    "gc.collect()"
   ]
  },
  {
   "cell_type": "code",
   "execution_count": 13,
   "metadata": {
    "collapsed": true
   },
   "outputs": [],
   "source": [
    "gc.collect()\n",
    "use_columns = [\n",
    "\"age_group\",\n",
    " \"gender\",\n",
    " \"height\",\n",
    " \"weight\",\n",
    " \"ap_hi\",\n",
    " \"ap_lo\",\n",
    " \"cholesterol\",\n",
    " \"gluc\",\n",
    " \"smoke_restored\",\n",
    " \"alco_restored\",\n",
    " \"active_restored\",\n",
    " \"BMI\",\n",
    "'height_mul_log_gluc',\n",
    "'cholesterol_div_log_age_group',\n",
    "'cholesterol_div_log_gluc',\n",
    "'gluc_mul_log_age',\n",
    "'age_group_mul_log_ap_lo',\n",
    "]\n",
    "\n",
    "from sklearn.pipeline import Pipeline, FeatureUnion\n",
    "from utils import SmoothLikelihood,SmoothLikelihood2,SmoothLikelihood3,SmoothLikelihood4, ColumnsFilter\n",
    "def wrap_classifier(clf, columns):\n",
    "#     kf = StratifiedKFold(random_state=111111, n_splits=10, shuffle=True)\n",
    "    fs = [(\"filter\", ColumnsFilter(use_columns))]\n",
    "    for i, cc in enumerate(columns):\n",
    "        fs.append(('mean_'+str(i), SmoothLikelihood4(cc, 0.5,\n",
    "                                                    kf=StratifiedKFold(random_state=111111+i, n_splits=20, shuffle=True),\n",
    "                                                    alpha=13,\n",
    "                                                    seed=10+i,\n",
    "                                                    std=0.0013)))\n",
    "    combined_features = FeatureUnion(fs)\n",
    "    return Pipeline([ (\"features\", combined_features), (\"model\", clf)])"
   ]
  },
  {
   "cell_type": "code",
   "execution_count": 22,
   "metadata": {
    "collapsed": true
   },
   "outputs": [],
   "source": [
    "params = {\n",
    "    'colsample_bytree': 0.875,\n",
    "     'gamma': 0.05,\n",
    "     'learning_rate': 0.1,\n",
    "     'max_depth': 5,\n",
    "     'min_child_weight': 5,\n",
    "     'n_estimators': 61,\n",
    "\n",
    "     'reg_alpha': 0,\n",
    "     'reg_lambda': 10,\n",
    "     'subsample': 0.7,\n",
    "    \n",
    "    'n_jobs': 1,\n",
    "    'random_state': 207,\n",
    "    'silent': True,\n",
    "}\n",
    "\n",
    "def get_score(column=None):\n",
    "    score1, score2 = utils.execute_model(wrap_classifier(xgb.XGBClassifier(**params), column if column else []),\n",
    "              X_train,\n",
    "              y_train,\n",
    "#               X_test,\n",
    "#               model_name=\"model1\",\n",
    "#               n_splits=15,\n",
    "              n_folds=10,\n",
    "            verbose=0,\n",
    "            seed=207\n",
    "             )\n",
    "    return score1\n",
    "\n",
    "# def get_score2(columns):\n",
    "# #     print(columns)\n",
    "#     score1, score2 = utils.execute_model(xgb.XGBClassifier(**params),\n",
    "#               X_train,\n",
    "#               y_train,\n",
    "# #               X_test,\n",
    "# #               model_name=\"model1\",\n",
    "#                mean_columns = columns,\n",
    "#                use_columns=use_columns,\n",
    "# #               n_splits=15,\n",
    "#               n_folds=10,\n",
    "#               alpha=13,\n",
    "#             verbose=0\n",
    "#              )\n",
    "#     return score1"
   ]
  },
  {
   "cell_type": "code",
   "execution_count": null,
   "metadata": {
    "collapsed": false
   },
   "outputs": [],
   "source": [
    "reference = get_score()\n",
    "print('reference', reference)\n",
    "mean_cols = ['cholesterol_gluc_smoke_active']\n",
    "while len(mean_cols) < 10:\n",
    "    best_score = 99\n",
    "    best = None\n",
    "    for c in best_interactions:\n",
    "        if 'error' in c or 'MAP' in c or c in mean_cols:\n",
    "            continue\n",
    "        score = get_score2(mean_cols + [c])\n",
    "        gc.collect()\n",
    "        if score < best_score:\n",
    "            best_score = score\n",
    "            best = c\n",
    "            print('..',c)\n",
    "    mean_cols.append(best)\n",
    "    print(best_score, best, mean_cols)"
   ]
  },
  {
   "cell_type": "code",
   "execution_count": 15,
   "metadata": {
    "collapsed": false
   },
   "outputs": [],
   "source": [
    "import importlib\n",
    "utils = importlib.reload(utils)"
   ]
  },
  {
   "cell_type": "code",
   "execution_count": 23,
   "metadata": {
    "collapsed": false
   },
   "outputs": [
    {
     "data": {
      "text/plain": [
       "170"
      ]
     },
     "execution_count": 23,
     "metadata": {},
     "output_type": "execute_result"
    }
   ],
   "source": [
    "import gc\n",
    "gc.collect()"
   ]
  },
  {
   "cell_type": "code",
   "execution_count": 24,
   "metadata": {
    "collapsed": false
   },
   "outputs": [],
   "source": [
    "# X_train['age_group']"
   ]
  },
  {
   "cell_type": "code",
   "execution_count": null,
   "metadata": {
    "collapsed": false
   },
   "outputs": [
    {
     "name": "stdout",
     "output_type": "stream",
     "text": [
      "reference 0.538102999893\n"
     ]
    }
   ],
   "source": [
    "columns_to_interact = ['age_group', 'gender', 'MAP', 'cholesterol', 'gluc', \n",
    "                       'BMI_group', 'smoke', 'alco', 'active', \"ap_hi_group\", \"ap_lo_group\",\"ap_hi_group_2\", \"ap_lo_group_2\",\n",
    "                      \"weight_group\", \"height_group\"]\n",
    "\n",
    "reference = get_score()\n",
    "print('reference', reference)\n",
    "gc.collect()\n",
    "for i in range(1,4):\n",
    "    for comb in combinations(columns_to_interact, i):\n",
    "        score = get_score(comb)\n",
    "        gc.collect()\n",
    "        if score < reference:\n",
    "            print(score, comb)    "
   ]
  },
  {
   "cell_type": "code",
   "execution_count": null,
   "metadata": {
    "collapsed": false
   },
   "outputs": [],
   "source": [
    "# reference = get_score()\n",
    "# print('reference', reference)\n",
    "# mean_cols = ['cholesterol_gluc_smoke_active']\n",
    "while len(mean_cols) < 20:\n",
    "    best_score = 99\n",
    "    best = None\n",
    "    for c in best_interactions:\n",
    "        if 'error' in c or 'MAP' in c or c in mean_cols:\n",
    "            continue\n",
    "        score = get_score2(mean_cols + [c])\n",
    "        gc.collect()\n",
    "        if score < best_score:\n",
    "            best_score = score\n",
    "            best = c\n",
    "            print('..',c)\n",
    "    mean_cols.append(best)\n",
    "    print(best_score, best, mean_cols)"
   ]
  },
  {
   "cell_type": "code",
   "execution_count": null,
   "metadata": {
    "collapsed": true
   },
   "outputs": [],
   "source": []
  }
 ],
 "metadata": {
  "kernelspec": {
   "display_name": "Python 3",
   "language": "python",
   "name": "python3"
  },
  "language_info": {
   "codemirror_mode": {
    "name": "ipython",
    "version": 3
   },
   "file_extension": ".py",
   "mimetype": "text/x-python",
   "name": "python",
   "nbconvert_exporter": "python",
   "pygments_lexer": "ipython3",
   "version": "3.6.0"
  }
 },
 "nbformat": 4,
 "nbformat_minor": 2
}
