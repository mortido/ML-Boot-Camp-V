{
 "cells": [
  {
   "cell_type": "code",
   "execution_count": 1,
   "metadata": {
    "collapsed": false
   },
   "outputs": [],
   "source": [
    "import pandas as pd\n",
    "import numpy as np\n",
    "\n",
    "from mlxtend.feature_selection import SequentialFeatureSelector as SFS\n",
    "\n",
    "import matplotlib.pyplot as plt\n",
    "from xgboost import plot_importance\n",
    "from mlxtend.plotting import plot_sequential_feature_selection as plot_sfs\n",
    "import seaborn as sns\n",
    "\n",
    "import lightgbm as lgb\n",
    "import xgboost as xgb\n",
    "\n",
    "import utils\n",
    "\n",
    "plt.style.use('ggplot')\n",
    "%matplotlib inline"
   ]
  },
  {
   "cell_type": "code",
   "execution_count": 28,
   "metadata": {
    "collapsed": true
   },
   "outputs": [],
   "source": [
    "best_interactions = [\n",
    "# \"ap_hi\",\n",
    "\"gluc\",\n",
    "\"age_group_gender\",\n",
    "\"age_group_gluc\",\n",
    "\"gender_MAP\",\n",
    "\"gender_smoke\",\n",
    "\"gender_active\",\n",
    "\"MAP_error_group\",\n",
    "\"MAP_smoke\",\n",
    "\"MAP_active\",\n",
    "\"error_group_gluc\",\n",
    "\"error_group_active\",\n",
    "\"cholesterol_gluc\",\n",
    "\"gluc_smoke\",\n",
    "\"gluc_alco\",\n",
    "\"gluc_active\",\n",
    "\"smoke_active\",\n",
    "\"age_group_gender_error_group\",\n",
    "\"age_group_gender_gluc\",\n",
    "\"age_group_gender_smoke\",\n",
    "\"age_group_gender_alco\",\n",
    "\"age_group_error_group_gluc\",\n",
    "\"age_group_error_group_alco\",\n",
    "\"age_group_gluc_smoke\",\n",
    "\"age_group_gluc_alco\",\n",
    "\"age_group_gluc_active\",\n",
    "\"gender_MAP_error_group\",\n",
    "\"gender_MAP_smoke\",\n",
    "\"gender_MAP_alco\",\n",
    "\"gender_cholesterol_gluc\",\n",
    "\"gender_cholesterol_smoke\",\n",
    "\"gender_cholesterol_active\",\n",
    "\"gender_gluc_smoke\",\n",
    "\"gender_gluc_active\",\n",
    "\"gender_smoke_active\",\n",
    "\"gender_alco_active\",\n",
    "\"MAP_error_group_smoke\",\n",
    "\"MAP_error_group_alco\",\n",
    "\"MAP_gluc_active\",\n",
    "\"MAP_BMI_group_alco\",\n",
    "\"MAP_smoke_alco\",\n",
    "\"MAP_alco_height_group\",\n",
    "\"error_group_cholesterol_gluc\",\n",
    "\"error_group_smoke_active\",\n",
    "\"error_group_smoke_weight_group\",\n",
    "\"error_group_alco_active\",\n",
    "\"cholesterol_gluc_BMI_group\",\n",
    "\"cholesterol_gluc_smoke\",\n",
    "\"cholesterol_gluc_alco\",\n",
    "\"cholesterol_gluc_active\",\n",
    "\"cholesterol_gluc_height_group\",\n",
    "\"gluc_BMI_group_smoke\",\n",
    "\"gluc_smoke_alco\",\n",
    "\"gluc_smoke_active\",\n",
    "\"gluc_smoke_height_group\",\n",
    "\"gluc_alco_active\",\n",
    "\"smoke_alco_active\",\n",
    "\n",
    "\"age_group_gender_gluc_smoke\",\n",
    "\"age_group_gender_gluc_alco\",\n",
    "\"age_group_gender_gluc_active\",\n",
    "\"age_group_gender_smoke_active\",\n",
    "\"age_group_gluc_alco_active\",\n",
    "\"gender_cholesterol_gluc_smoke\",\n",
    "\"gender_cholesterol_gluc_alco\",\n",
    "\"gender_cholesterol_gluc_active\",\n",
    "\"gender_gluc_smoke_active\",\n",
    "\"cholesterol_gluc_smoke_alco\",\n",
    "\"cholesterol_gluc_smoke_active\",\n",
    "\"cholesterol_gluc_alco_active\",\n",
    "\"age_group_gender_gluc_smoke_active\",\n",
    "\"gender_cholesterol_gluc_smoke_active\",\n",
    "\"gender_cholesterol_gluc_alco_active\",\n",
    "\"cholesterol_gluc_smoke_alco_active\",\n",
    "]"
   ]
  },
  {
   "cell_type": "code",
   "execution_count": 29,
   "metadata": {
    "collapsed": false
   },
   "outputs": [],
   "source": [
    "def clean_data(data):\n",
    "    data['error_group'] = 0\n",
    "\n",
    "    # weight/height correction\n",
    "    idx = (data['height']<130) & (data['weight']>150)\n",
    "    data.loc[idx, [\"height\", \"weight\"]] = data.loc[idx, [\"weight\", \"height\"]].values\n",
    "#     data.loc[idx, 'error_group'] = 100-1\n",
    "\n",
    "    # preasure correction\n",
    "    data.loc[data[\"ap_hi\"] < 0, \"ap_hi\"] *= -1\n",
    "    data.loc[data[\"ap_lo\"] < 0, \"ap_lo\"] *= -1\n",
    "    \n",
    "    for i in range(10):\n",
    "        str_i = str(i)\n",
    "        data['hi_' + str_i + 's'] = data['ap_hi'].apply(lambda x: str(x).count(str_i))\n",
    "        data['lo_' + str_i + 's'] = data['ap_lo'].apply(lambda x: str(x).count(str_i))\n",
    "        for j in range(10):\n",
    "            str_j = str_i + str(j)\n",
    "            data['hi_' + str_j + 's'] = data['ap_hi'].apply(lambda x: str(x).count(str_j))\n",
    "            data['lo_' + str_j + 's'] = data['ap_lo'].apply(lambda x: str(x).count(str_j))\n",
    "        \n",
    "    data.loc[(data['ap_lo'] < 20), 'error_group'] = 5\n",
    "    data.loc[(data['ap_hi'] < 50), 'error_group'] = 6\n",
    "    data.loc[(data['ap_lo'] > 250), 'error_group'] = 1\n",
    "    data.loc[(data['ap_lo'] > 4000), 'error_group'] = 2\n",
    "    data.loc[(data['ap_hi'] > 250), 'error_group'] = 3\n",
    "    data.loc[(data['ap_hi'] > 10000), 'error_group'] = 4\n",
    "\n",
    "    data.loc[(data[\"ap_hi\"] < 20) & (data[\"ap_hi\"] > 10), \"ap_hi\"] *= 10\n",
    "    data.loc[(data[\"ap_lo\"] < 15) & (data[\"ap_lo\"] > 2), \"ap_lo\"] *= 10\n",
    "\n",
    "    idx = data['ap_hi'] > 10000\n",
    "    data.loc[idx, 'ap_hi'] = 10 * (data.loc[idx, 'ap_hi'] // 1000)\n",
    "    data.loc[data['ap_lo'] >= 10000, 'ap_lo'] //= 100\n",
    "    \n",
    "    manual_update = [\n",
    "        (12494, ['ap_hi', 'ap_lo'], [120, 80]),\n",
    "        (42591, ['ap_hi', 'ap_lo'], [140, 90]), # ?\n",
    "        (78873, ['ap_hi', 'ap_lo'], [130, 100]), # ?\n",
    "        (51749, ['ap_hi', 'ap_lo'], [120, 80]),\n",
    "        (57807, ['ap_hi', 'ap_lo'], [170, 100]),\n",
    "        (60477, ['ap_hi', 'ap_lo'], [110, 80]),\n",
    "        (91198, ['ap_hi', 'ap_lo'], [100, 90]),\n",
    "        (6580,  ['ap_hi', 'ap_lo'], [110, 90]),\n",
    "        (44701, ['ap_hi', 'ap_lo'], [120, 70]),\n",
    "        (94673,  ['ap_hi', 'ap_lo'], [110, 60]),\n",
    "        \n",
    "    ]\n",
    "    for idx, cols, update in manual_update:\n",
    "        data.loc[data['id']==idx, cols] = update\n",
    "    return data\n",
    "\n",
    "def new_features(data):\n",
    "    data[\"BMI\"] = 10000 * data[\"weight\"] / (data[\"height\"] * data[\"height\"])\n",
    "    data[\"BMI_1\"] = 100 * data[\"weight\"] / data[\"height\"]\n",
    "    data[\"BMI_3\"] = 1000000 * data[\"weight\"] / (data[\"height\"] * data[\"height\"] * data[\"height\"])\n",
    "    data[\"BMI_4\"] = 100000000 * data[\"weight\"] / (data[\"height\"] * data[\"height\"] * data[\"height\"] * data[\"height\"])\n",
    "    data[\"ap_dif\"] = data[\"ap_hi\"] - data[\"ap_lo\"]\n",
    "    data[\"MAP\"] = (data[\"ap_lo\"] * 2 + data[\"ap_dif\"] )/ 3.0\n",
    "    \n",
    "    data[\"age_years\"] = np.round(data[\"age\"] / 365)\n",
    "    \n",
    "#     age_bins = [0, 10000, 14000, 14980, 15700, 16420, 17140, 17890, 18625, 19355, 20090, 20820, 21555, 22280, 22990, 24000]\n",
    "#     age_names = [25, 30, 40, 42, 44, 46, 48, 50, 52, 54, 56, 58, 60, 62, 64]\n",
    "    age_bins = [0, 14000, 14980, 15700, 16420, 17140, 17890, 18625, 19355, 20090, 20820, 21555, 22280, 22990, 24000]\n",
    "    age_names = [30, 40, 42, 44, 46, 48, 50, 52, 54, 56, 58, 60, 62, 64]\n",
    "    age_names = list(range(1, len(age_bins)))\n",
    "    data[\"age_group\"] = pd.cut(data['age'], age_bins, labels=age_names).astype('float')\n",
    "    \n",
    "#     bins = [0, 70, 90, 120, 140, 160, 190, 20000]\n",
    "#     names = list(range(len(bins)-1))\n",
    "#     data[\"ap_hi_group\"] = pd.cut(data['ap_hi'], bins, labels=names).astype('str')\n",
    "    \n",
    "#     bins = [-1, 40, 60, 80, 90, 100, 2000000]\n",
    "#     names = list(range(len(bins)-1))\n",
    "#     data[\"ap_lo_group\"] = pd.cut(data['ap_lo'], bins, labels=names).astype('str')\n",
    "    \n",
    "#     data[\"weight_group\"] = pd.qcut(data['weight'], 10, labels=False).astype('str')\n",
    "    \n",
    "    data[\"height_group\"] = pd.qcut(data['height'], 10, labels=False).astype('str')\n",
    "    data[\"BMI_group\"] = pd.qcut(data['height'], 10, labels=False).astype('str')\n",
    "\n",
    "    return data"
   ]
  },
  {
   "cell_type": "code",
   "execution_count": 30,
   "metadata": {
    "collapsed": false
   },
   "outputs": [
    {
     "name": "stdout",
     "output_type": "stream",
     "text": [
      "Index(['age_group_gender', 'age_group_gluc', 'gender_MAP', 'gender_smoke',\n",
      "       'gender_active', 'MAP_error_group', 'MAP_smoke', 'MAP_active',\n",
      "       'error_group_gluc', 'error_group_active', 'cholesterol_gluc',\n",
      "       'gluc_smoke', 'gluc_alco', 'gluc_active', 'smoke_active',\n",
      "       'age_group_gender_error_group', 'age_group_gender_gluc',\n",
      "       'age_group_gender_smoke', 'age_group_gender_alco',\n",
      "       'age_group_error_group_gluc', 'age_group_error_group_alco',\n",
      "       'age_group_gluc_smoke', 'age_group_gluc_alco', 'age_group_gluc_active',\n",
      "       'gender_MAP_error_group', 'gender_MAP_smoke', 'gender_MAP_alco',\n",
      "       'gender_cholesterol_gluc', 'gender_cholesterol_smoke',\n",
      "       'gender_cholesterol_active', 'gender_gluc_smoke', 'gender_gluc_active',\n",
      "       'gender_smoke_active', 'gender_alco_active', 'MAP_error_group_smoke',\n",
      "       'MAP_error_group_alco', 'MAP_gluc_active', 'MAP_BMI_group_alco',\n",
      "       'MAP_smoke_alco', 'MAP_alco_height_group',\n",
      "       'error_group_cholesterol_gluc', 'error_group_smoke_active',\n",
      "       'error_group_alco_active', 'cholesterol_gluc_BMI_group',\n",
      "       'cholesterol_gluc_smoke', 'cholesterol_gluc_alco',\n",
      "       'cholesterol_gluc_active', 'cholesterol_gluc_height_group',\n",
      "       'gluc_BMI_group_smoke', 'gluc_smoke_alco', 'gluc_smoke_active',\n",
      "       'gluc_smoke_height_group', 'gluc_alco_active', 'smoke_alco_active',\n",
      "       'age_group_gender_gluc_smoke', 'age_group_gender_gluc_alco',\n",
      "       'age_group_gender_gluc_active', 'age_group_gender_smoke_active',\n",
      "       'age_group_gluc_alco_active', 'gender_cholesterol_gluc_smoke',\n",
      "       'gender_cholesterol_gluc_alco', 'gender_cholesterol_gluc_active',\n",
      "       'gender_gluc_smoke_active', 'cholesterol_gluc_smoke_alco',\n",
      "       'cholesterol_gluc_smoke_active', 'cholesterol_gluc_alco_active',\n",
      "       'age_group_gender_gluc_smoke_active',\n",
      "       'gender_cholesterol_gluc_smoke_active',\n",
      "       'gender_cholesterol_gluc_alco_active',\n",
      "       'cholesterol_gluc_smoke_alco_active'],\n",
      "      dtype='object')\n"
     ]
    }
   ],
   "source": [
    "train = pd.read_csv('train.csv', sep=';')\n",
    "test = pd.read_csv('test.csv', sep=';', na_values='None')\n",
    "\n",
    "train = clean_data(train)\n",
    "test = clean_data(test)\n",
    "\n",
    "train = new_features(train)\n",
    "test = new_features(test)\n",
    "\n",
    "X_train = train.drop([ 'cardio'], axis=1)\n",
    "y_train = train['cardio'].values.ravel()\n",
    "X_test = test.drop([], axis=1)\n",
    "\n",
    "columns_to_interact = ['age_group', 'gender', 'MAP', 'error_group', 'cholesterol', 'gluc', \n",
    "                       'BMI_group', 'smoke', 'alco', 'active',\"height_group\"]\n",
    "temp = utils.generate_interactions(X_train, columns_to_interact, degree=5, white_list=best_interactions)\n",
    "X_train = pd.concat((X_train, temp), axis=1)\n",
    "# X_test = pd.concat((X_test, utils.generate_interactions(X_test, columns_to_interact, 3)), axis=1)\n",
    "print(temp.columns)\n",
    "\n",
    "# X = pd.concat((X_train, X_test), axis=0)"
   ]
  },
  {
   "cell_type": "code",
   "execution_count": 31,
   "metadata": {
    "collapsed": false
   },
   "outputs": [],
   "source": [
    "# X.loc[X['age_group_gender_MAP'].isnull()]"
   ]
  },
  {
   "cell_type": "code",
   "execution_count": 32,
   "metadata": {
    "collapsed": false
   },
   "outputs": [
    {
     "data": {
      "text/plain": [
       "887"
      ]
     },
     "execution_count": 32,
     "metadata": {},
     "output_type": "execute_result"
    }
   ],
   "source": [
    "import gc\n",
    "gc.collect()"
   ]
  },
  {
   "cell_type": "code",
   "execution_count": 33,
   "metadata": {
    "collapsed": false
   },
   "outputs": [],
   "source": [
    "# from sklearn.preprocessing import LabelEncoder\n",
    "# from collections import defaultdict\n",
    "# label_encoder_dict = defaultdict(LabelEncoder)\n",
    "# columns_to_encode = ['age_group', \"ap_hi_group\", \"ap_lo_group\",\n",
    "#                       \"weight_group\", \"height_group\"] + list(temp.columns)\n",
    "\n",
    "\n",
    "# # X[columns_to_encode].apply(lambda x: label_encoder_dict[x.name].fit(x))\n",
    "# X_train[columns_to_encode].apply(lambda x: label_encoder_dict[x.name].fit(x))\n",
    "# X_train[columns_to_encode] = X_train[columns_to_encode].apply(lambda x: label_encoder_dict[x.name].transform(x))\n",
    "# # X_test[columns_to_encode] = X_test[columns_to_encode].apply(lambda x: label_encoder_dict[x.name].transform(x))\n",
    "\n",
    "# label_encoder_dict = None\n",
    "# X=None\n",
    "# # X_test=None\n",
    "# gc.collect()"
   ]
  },
  {
   "cell_type": "code",
   "execution_count": 34,
   "metadata": {
    "collapsed": false
   },
   "outputs": [],
   "source": [
    "from sklearn.model_selection import train_test_split\n",
    "__, idx = train_test_split(list(range(X_train.shape[0])), test_size=0.101, random_state=42)\n",
    "X_train.loc[idx, 'alco'] = np.nan\n",
    "__, idx = train_test_split(list(range(X_train.shape[0])), test_size=0.101, random_state=43)\n",
    "X_train.loc[idx, 'smoke'] = np.nan\n",
    "__, idx = train_test_split(list(range(X_train.shape[0])), test_size=0.096, random_state=44)\n",
    "X_train.loc[idx, 'active'] = np.nan\n",
    "\n",
    "from sklearn.neighbors import KNeighborsRegressor, KNeighborsClassifier\n",
    "from sklearn.model_selection import StratifiedKFold\n",
    "from sklearn.preprocessing import scale\n",
    "from sklearn.model_selection import cross_val_score\n",
    "from sklearn.base import clone\n",
    "\n",
    "def impute_nans(model, X_train, X_test, columns, target, perform_cv = False, scoring='accuracy'):\n",
    "    X = pd.concat((X_train, X_test), axis=0)\n",
    "    train_idx = ~X[target].isnull()\n",
    "    model = clone(model)\n",
    "    model.fit(X.loc[train_idx, columns], X.loc[train_idx, target])\n",
    "    X_train.loc[X_train[target].isnull(), target] = model.predict(X_train.loc[X_train[target].isnull(), columns])\n",
    "    X_test.loc[X_test[target].isnull(), target] = model.predict(X_test.loc[X_test[target].isnull(), columns])\n",
    "    \n",
    "    if perform_cv:\n",
    "        n_folds = 7\n",
    "        kf = StratifiedKFold(random_state=111, n_splits=n_folds, shuffle=True)\n",
    "        scores = cross_val_score(model, X.loc[train_idx, columns], X.loc[train_idx, target], cv=kf, scoring=scoring)\n",
    "        print(target, np.mean(scores), 'on', n_folds, 'folds', 'with mean on train', X.loc[train_idx, target].mean())\n",
    "    \n",
    "params = {\n",
    "    'colsample_bytree': 0.8,\n",
    "    'learning_rate': 0.1,\n",
    "    'n_estimators': 200,\n",
    "    'subsample': 0.8,\n",
    "    'n_jobs': 4,\n",
    "    'random_state': 2707,\n",
    "    'silent': True,\n",
    "}\n",
    "clf = xgb.XGBClassifier(**params)\n",
    "\n",
    "columns = ['age', 'gender', 'height', 'weight', 'ap_hi', 'ap_lo', 'cholesterol', 'gluc','BMI', 'ap_dif', 'MAP']\n",
    "impute_nans(clf, X_train, X_test, columns, 'smoke')#, perform_cv = True)\n",
    "\n",
    "columns = ['age', 'gender', 'height', 'weight', 'ap_hi', 'ap_lo', 'cholesterol', 'gluc','BMI', 'ap_dif', 'MAP', ]\n",
    "impute_nans(clf, X_train, X_test, columns, 'alco')#, perform_cv = True)\n",
    "\n",
    "columns = ['age', 'gender', 'height', 'weight', 'ap_hi', 'ap_lo', 'cholesterol', 'gluc','BMI', 'ap_dif', 'MAP', ]\n",
    "impute_nans(clf, X_train, X_test, columns, 'active')#, perform_cv = True)"
   ]
  },
  {
   "cell_type": "code",
   "execution_count": 35,
   "metadata": {
    "collapsed": true
   },
   "outputs": [],
   "source": [
    "gc.collect()\n",
    "use_columns = [\n",
    "    'age_group', 'gender', 'height', 'weight', 'ap_hi', 'ap_lo', 'cholesterol', 'gluc', 'smoke', 'alco', 'active'\n",
    "'BMI',\n",
    " 'MAP',\n",
    "    'ap_dif',\n",
    "]"
   ]
  },
  {
   "cell_type": "code",
   "execution_count": 36,
   "metadata": {
    "collapsed": true
   },
   "outputs": [],
   "source": [
    "params = {\n",
    "    'colsample_bytree': 0.8,\n",
    "    'learning_rate': 0.1,\n",
    "    'n_estimators': 200,\n",
    "    'subsample': 0.8,\n",
    "    'n_jobs': 1,\n",
    "    'random_state': 27,\n",
    "    'silent': True,\n",
    "}\n",
    "\n",
    "def get_score(column=None):\n",
    "    score1, score2 = utils.execute_model(xgb.XGBClassifier(**params),\n",
    "              X_train,\n",
    "              y_train,\n",
    "#               X_test,\n",
    "#               model_name=\"model1\",\n",
    "               mean_columns = [column] if column else [],\n",
    "              use_columns=use_columns,\n",
    "#               n_splits=15,\n",
    "              n_folds=10,\n",
    "              alpha=20,\n",
    "            verbose=0\n",
    "             )\n",
    "    return score1\n",
    "\n",
    "def get_score2(columns):\n",
    "#     print(columns)\n",
    "    score1, score2 = utils.execute_model(xgb.XGBClassifier(**params),\n",
    "              X_train,\n",
    "              y_train,\n",
    "#               X_test,\n",
    "#               model_name=\"model1\",\n",
    "               mean_columns = columns,\n",
    "               use_columns=use_columns,\n",
    "#               n_splits=15,\n",
    "              n_folds=10,\n",
    "              alpha=20,\n",
    "            verbose=0\n",
    "             )\n",
    "    return score1"
   ]
  },
  {
   "cell_type": "code",
   "execution_count": 38,
   "metadata": {
    "collapsed": false
   },
   "outputs": [
    {
     "name": "stdout",
     "output_type": "stream",
     "text": [
      "reference 0.539371782362\n",
      ".. gluc\n",
      ".. age_group_gender\n",
      "0.53796782195 age_group_gender ['cholesterol_gluc_smoke_active', 'age_group_gender']\n",
      ".. gluc\n",
      ".. gender_active\n",
      ".. gender_cholesterol_gluc\n",
      ".. gender_cholesterol_active\n",
      "0.537809270304 gender_cholesterol_active ['cholesterol_gluc_smoke_active', 'age_group_gender', 'gender_cholesterol_active']\n",
      ".. gluc\n",
      ".. age_group_gluc\n",
      ".. gender_cholesterol_gluc\n",
      "0.537800490129 gender_cholesterol_gluc ['cholesterol_gluc_smoke_active', 'age_group_gender', 'gender_cholesterol_active', 'gender_cholesterol_gluc']\n",
      ".. gluc\n",
      "0.537797390019 gluc ['cholesterol_gluc_smoke_active', 'age_group_gender', 'gender_cholesterol_active', 'gender_cholesterol_gluc', 'gluc']\n",
      ".. age_group_gluc\n",
      "0.53774646536 age_group_gluc ['cholesterol_gluc_smoke_active', 'age_group_gender', 'gender_cholesterol_active', 'gender_cholesterol_gluc', 'gluc', 'age_group_gluc']\n",
      ".. gender_smoke\n",
      ".. gender_active\n",
      ".. gluc_active\n",
      ".. age_group_gender_gluc_alco\n",
      "0.537739243513 age_group_gender_gluc_alco ['cholesterol_gluc_smoke_active', 'age_group_gender', 'gender_cholesterol_active', 'gender_cholesterol_gluc', 'gluc', 'age_group_gluc', 'age_group_gender_gluc_alco']\n",
      ".. gender_smoke\n",
      ".. gluc_smoke\n",
      ".. age_group_gluc_alco\n",
      "0.537773476473 age_group_gluc_alco ['cholesterol_gluc_smoke_active', 'age_group_gender', 'gender_cholesterol_active', 'gender_cholesterol_gluc', 'gluc', 'age_group_gluc', 'age_group_gender_gluc_alco', 'age_group_gluc_alco']\n",
      ".. gender_smoke\n",
      ".. gender_active\n",
      ".. gluc_smoke\n",
      ".. gluc_alco\n",
      "0.537764018186 gluc_alco ['cholesterol_gluc_smoke_active', 'age_group_gender', 'gender_cholesterol_active', 'gender_cholesterol_gluc', 'gluc', 'age_group_gluc', 'age_group_gender_gluc_alco', 'age_group_gluc_alco', 'gluc_alco']\n",
      ".. gender_smoke\n",
      ".. gender_active\n",
      ".. cholesterol_gluc\n",
      ".. gluc_active\n",
      ".. age_group_gender_gluc\n",
      ".. cholesterol_gluc_smoke\n",
      ".. cholesterol_gluc_smoke_alco_active\n",
      "0.537629232138 cholesterol_gluc_smoke_alco_active ['cholesterol_gluc_smoke_active', 'age_group_gender', 'gender_cholesterol_active', 'gender_cholesterol_gluc', 'gluc', 'age_group_gluc', 'age_group_gender_gluc_alco', 'age_group_gluc_alco', 'gluc_alco', 'cholesterol_gluc_smoke_alco_active']\n"
     ]
    }
   ],
   "source": [
    "reference = get_score()\n",
    "print('reference', reference)\n",
    "mean_cols = ['cholesterol_gluc_smoke_active']\n",
    "while len(mean_cols) < 10:\n",
    "    best_score = 99\n",
    "    best = None\n",
    "    for c in best_interactions:\n",
    "        if 'error' in c or 'MAP' in c or c in mean_cols:\n",
    "            continue\n",
    "        score = get_score2(mean_cols + [c])\n",
    "        gc.collect()\n",
    "        if score < best_score:\n",
    "            best_score = score\n",
    "            best = c\n",
    "            print('..',c)\n",
    "    mean_cols.append(best)\n",
    "    print(best_score, best, mean_cols)"
   ]
  },
  {
   "cell_type": "code",
   "execution_count": null,
   "metadata": {
    "collapsed": false
   },
   "outputs": [],
   "source": [
    "reference = get_score()\n",
    "print('reference', reference)\n",
    "for c in X_train.columns:\n",
    "    if 'lo_' in c or 'hi_' in c or 'id' in c:\n",
    "        continue\n",
    "    score = get_score(c)\n",
    "    gc.collect()\n",
    "    if score < reference:\n",
    "        print(score, c)        "
   ]
  },
  {
   "cell_type": "code",
   "execution_count": null,
   "metadata": {
    "collapsed": false
   },
   "outputs": [],
   "source": [
    "X_train.columns"
   ]
  },
  {
   "cell_type": "code",
   "execution_count": null,
   "metadata": {
    "collapsed": false
   },
   "outputs": [],
   "source": [
    "import gc\n",
    "gc.collect()"
   ]
  },
  {
   "cell_type": "code",
   "execution_count": null,
   "metadata": {
    "collapsed": true
   },
   "outputs": [],
   "source": []
  },
  {
   "cell_type": "code",
   "execution_count": 39,
   "metadata": {
    "collapsed": false
   },
   "outputs": [
    {
     "name": "stdout",
     "output_type": "stream",
     "text": [
      ".. gender_smoke\n",
      ".. cholesterol_gluc_alco\n"
     ]
    },
    {
     "ename": "KeyboardInterrupt",
     "evalue": "",
     "output_type": "error",
     "traceback": [
      "\u001b[0;31m------------------------------------------------------------\u001b[0m",
      "\u001b[0;31mKeyboardInterrupt\u001b[0m          Traceback (most recent call last)",
      "\u001b[0;32m<ipython-input-39-0b8524342019>\u001b[0m in \u001b[0;36m<module>\u001b[0;34m()\u001b[0m\n\u001b[1;32m      8\u001b[0m         \u001b[1;32mif\u001b[0m \u001b[1;34m'error'\u001b[0m \u001b[1;32min\u001b[0m \u001b[0mc\u001b[0m \u001b[1;32mor\u001b[0m \u001b[1;34m'MAP'\u001b[0m \u001b[1;32min\u001b[0m \u001b[0mc\u001b[0m \u001b[1;32mor\u001b[0m \u001b[0mc\u001b[0m \u001b[1;32min\u001b[0m \u001b[0mmean_cols\u001b[0m\u001b[1;33m:\u001b[0m\u001b[1;33m\u001b[0m\u001b[0m\n\u001b[1;32m      9\u001b[0m             \u001b[1;32mcontinue\u001b[0m\u001b[1;33m\u001b[0m\u001b[0m\n\u001b[0;32m---> 10\u001b[0;31m         \u001b[0mscore\u001b[0m \u001b[1;33m=\u001b[0m \u001b[0mget_score2\u001b[0m\u001b[1;33m(\u001b[0m\u001b[0mmean_cols\u001b[0m \u001b[1;33m+\u001b[0m \u001b[1;33m[\u001b[0m\u001b[0mc\u001b[0m\u001b[1;33m]\u001b[0m\u001b[1;33m)\u001b[0m\u001b[1;33m\u001b[0m\u001b[0m\n\u001b[0m\u001b[1;32m     11\u001b[0m         \u001b[0mgc\u001b[0m\u001b[1;33m.\u001b[0m\u001b[0mcollect\u001b[0m\u001b[1;33m(\u001b[0m\u001b[1;33m)\u001b[0m\u001b[1;33m\u001b[0m\u001b[0m\n\u001b[1;32m     12\u001b[0m         \u001b[1;32mif\u001b[0m \u001b[0mscore\u001b[0m \u001b[1;33m<\u001b[0m \u001b[0mbest_score\u001b[0m\u001b[1;33m:\u001b[0m\u001b[1;33m\u001b[0m\u001b[0m\n",
      "\u001b[0;32m<ipython-input-36-c9d047c8cdfd>\u001b[0m in \u001b[0;36mget_score2\u001b[0;34m(columns)\u001b[0m\n\u001b[1;32m     36\u001b[0m               \u001b[0mn_folds\u001b[0m\u001b[1;33m=\u001b[0m\u001b[1;36m10\u001b[0m\u001b[1;33m,\u001b[0m\u001b[1;33m\u001b[0m\u001b[0m\n\u001b[1;32m     37\u001b[0m               \u001b[0malpha\u001b[0m\u001b[1;33m=\u001b[0m\u001b[1;36m20\u001b[0m\u001b[1;33m,\u001b[0m\u001b[1;33m\u001b[0m\u001b[0m\n\u001b[0;32m---> 38\u001b[0;31m             \u001b[0mverbose\u001b[0m\u001b[1;33m=\u001b[0m\u001b[1;36m0\u001b[0m\u001b[1;33m\u001b[0m\u001b[0m\n\u001b[0m\u001b[1;32m     39\u001b[0m              )\n\u001b[1;32m     40\u001b[0m     \u001b[1;32mreturn\u001b[0m \u001b[0mscore1\u001b[0m\u001b[1;33m\u001b[0m\u001b[0m\n",
      "\u001b[0;32mD:\\Projects\\ML Bootcamp V\\utils.py\u001b[0m in \u001b[0;36mexecute_model\u001b[0;34m(estimator, X_train, y_train, X_test, use_columns, mean_columns, model_name, n_folds, n_splits, create_callback, verbose, seed, stratification_groups, alpha)\u001b[0m\n\u001b[1;32m    172\u001b[0m                                                     \u001b[0mmean_columns\u001b[0m\u001b[1;33m=\u001b[0m\u001b[0mmean_columns\u001b[0m\u001b[1;33m,\u001b[0m\u001b[1;33m\u001b[0m\u001b[0m\n\u001b[1;32m    173\u001b[0m                                                     \u001b[0mdrop_columns\u001b[0m\u001b[1;33m=\u001b[0m\u001b[0mdrop_columns\u001b[0m\u001b[1;33m,\u001b[0m\u001b[1;33m\u001b[0m\u001b[0m\n\u001b[0;32m--> 174\u001b[0;31m                                                     \u001b[0malpha\u001b[0m\u001b[1;33m=\u001b[0m\u001b[0malpha\u001b[0m\u001b[1;33m,\u001b[0m\u001b[1;33m\u001b[0m\u001b[0m\n\u001b[0m\u001b[1;32m    175\u001b[0m                                                     weight_column=weight_column)\n\u001b[1;32m    176\u001b[0m         \u001b[0mfold_logloss\u001b[0m\u001b[1;33m.\u001b[0m\u001b[0mappend\u001b[0m\u001b[1;33m(\u001b[0m\u001b[0mlog_loss\u001b[0m\u001b[1;33m(\u001b[0m\u001b[0my_train\u001b[0m\u001b[1;33m[\u001b[0m\u001b[0mtest_idx\u001b[0m\u001b[1;33m]\u001b[0m\u001b[1;33m,\u001b[0m \u001b[0mtrain_predict\u001b[0m\u001b[1;33m[\u001b[0m\u001b[0mtest_idx\u001b[0m\u001b[1;33m]\u001b[0m\u001b[1;33m)\u001b[0m\u001b[1;33m)\u001b[0m\u001b[1;33m\u001b[0m\u001b[0m\n",
      "\u001b[0;32mD:\\Projects\\ML Bootcamp V\\utils.py\u001b[0m in \u001b[0;36mfit_predict_model\u001b[0;34m(create_callback, X_train, y_train, X_test, alpha, mean_columns, drop_columns)\u001b[0m\n\u001b[1;32m    132\u001b[0m \u001b[1;32mdef\u001b[0m \u001b[0mfit_predict_model\u001b[0m\u001b[1;33m(\u001b[0m\u001b[0mcreate_callback\u001b[0m\u001b[1;33m,\u001b[0m \u001b[0mX_train\u001b[0m\u001b[1;33m,\u001b[0m \u001b[0my_train\u001b[0m\u001b[1;33m,\u001b[0m \u001b[0mX_test\u001b[0m\u001b[1;33m,\u001b[0m \u001b[0malpha\u001b[0m\u001b[1;33m,\u001b[0m \u001b[0mmean_columns\u001b[0m\u001b[1;33m=\u001b[0m\u001b[1;33m[\u001b[0m\u001b[1;33m]\u001b[0m\u001b[1;33m,\u001b[0m \u001b[0mdrop_columns\u001b[0m\u001b[1;33m=\u001b[0m\u001b[1;33m[\u001b[0m\u001b[1;33m]\u001b[0m\u001b[1;33m,\u001b[0m \u001b[0mweight_column\u001b[0m\u001b[1;33m=\u001b[0m\u001b[1;32mNone\u001b[0m\u001b[1;33m)\u001b[0m\u001b[1;33m:\u001b[0m\u001b[1;33m\u001b[0m\u001b[0m\n\u001b[1;32m    133\u001b[0m     \u001b[0mgc\u001b[0m\u001b[1;33m.\u001b[0m\u001b[0mcollect\u001b[0m\u001b[1;33m(\u001b[0m\u001b[1;33m)\u001b[0m\u001b[1;33m\u001b[0m\u001b[0m\n\u001b[0;32m--> 134\u001b[0;31m     \u001b[0mx1\u001b[0m\u001b[1;33m,\u001b[0m \u001b[0mx2\u001b[0m \u001b[1;33m=\u001b[0m \u001b[0mpopulate_mean_columns\u001b[0m\u001b[1;33m(\u001b[0m\u001b[0mX_train\u001b[0m\u001b[1;33m,\u001b[0m \u001b[0my_train\u001b[0m\u001b[1;33m,\u001b[0m \u001b[0mX_test\u001b[0m\u001b[1;33m,\u001b[0m \u001b[0mmean_columns\u001b[0m\u001b[1;33m,\u001b[0m \u001b[0malpha\u001b[0m\u001b[1;33m=\u001b[0m\u001b[0malpha\u001b[0m\u001b[1;33m)\u001b[0m\u001b[1;33m\u001b[0m\u001b[0m\n\u001b[0m\u001b[1;32m    135\u001b[0m     \u001b[0mx1\u001b[0m\u001b[1;33m.\u001b[0m\u001b[0mdrop\u001b[0m\u001b[1;33m(\u001b[0m\u001b[0mdrop_columns\u001b[0m\u001b[1;33m,\u001b[0m \u001b[0maxis\u001b[0m\u001b[1;33m=\u001b[0m\u001b[1;36m1\u001b[0m\u001b[1;33m,\u001b[0m \u001b[0minplace\u001b[0m\u001b[1;33m=\u001b[0m\u001b[1;32mTrue\u001b[0m\u001b[1;33m)\u001b[0m\u001b[1;33m\u001b[0m\u001b[0m\n\u001b[1;32m    136\u001b[0m     \u001b[0mx2\u001b[0m\u001b[1;33m.\u001b[0m\u001b[0mdrop\u001b[0m\u001b[1;33m(\u001b[0m\u001b[0mdrop_columns\u001b[0m\u001b[1;33m,\u001b[0m \u001b[0maxis\u001b[0m\u001b[1;33m=\u001b[0m\u001b[1;36m1\u001b[0m\u001b[1;33m,\u001b[0m \u001b[0minplace\u001b[0m\u001b[1;33m=\u001b[0m\u001b[1;32mTrue\u001b[0m\u001b[1;33m)\u001b[0m\u001b[1;33m\u001b[0m\u001b[0m\n",
      "\u001b[0;32mD:\\Projects\\ML Bootcamp V\\utils.py\u001b[0m in \u001b[0;36mpopulate_mean_columns\u001b[0;34m(x_train, y_train, x_test, columns, alpha, n_splits)\u001b[0m\n\u001b[1;32m    123\u001b[0m     \u001b[0mkf\u001b[0m \u001b[1;33m=\u001b[0m \u001b[0mStratifiedKFold\u001b[0m\u001b[1;33m(\u001b[0m\u001b[0mrandom_state\u001b[0m\u001b[1;33m=\u001b[0m\u001b[1;36m2707\u001b[0m\u001b[1;33m,\u001b[0m \u001b[0mn_splits\u001b[0m\u001b[1;33m=\u001b[0m\u001b[0mn_splits\u001b[0m\u001b[1;33m,\u001b[0m \u001b[0mshuffle\u001b[0m\u001b[1;33m=\u001b[0m\u001b[1;32mTrue\u001b[0m\u001b[1;33m)\u001b[0m\u001b[1;33m\u001b[0m\u001b[0m\n\u001b[1;32m    124\u001b[0m     \u001b[1;32mfor\u001b[0m \u001b[0mtrain_idx\u001b[0m\u001b[1;33m,\u001b[0m \u001b[0mtest_idx\u001b[0m \u001b[1;32min\u001b[0m \u001b[0mkf\u001b[0m\u001b[1;33m.\u001b[0m\u001b[0msplit\u001b[0m\u001b[1;33m(\u001b[0m\u001b[0mx_train\u001b[0m\u001b[1;33m,\u001b[0m \u001b[0my_train\u001b[0m\u001b[1;33m)\u001b[0m\u001b[1;33m:\u001b[0m\u001b[1;33m\u001b[0m\u001b[0m\n\u001b[0;32m--> 125\u001b[0;31m         extentions = get_mean_columns(x_train.iloc[train_idx], y_train[train_idx], x_train.iloc[test_idx], columns,\n\u001b[0m\u001b[1;32m    126\u001b[0m                                       alpha)\n\u001b[1;32m    127\u001b[0m         \u001b[0mx_train\u001b[0m\u001b[1;33m.\u001b[0m\u001b[0mloc\u001b[0m\u001b[1;33m[\u001b[0m\u001b[0mx_train\u001b[0m\u001b[1;33m.\u001b[0m\u001b[0mindex\u001b[0m\u001b[1;33m[\u001b[0m\u001b[0mtest_idx\u001b[0m\u001b[1;33m]\u001b[0m\u001b[1;33m,\u001b[0m \u001b[0mextentions\u001b[0m\u001b[1;33m.\u001b[0m\u001b[0mcolumns\u001b[0m\u001b[1;33m]\u001b[0m \u001b[1;33m=\u001b[0m \u001b[0mextentions\u001b[0m\u001b[1;33m\u001b[0m\u001b[0m\n",
      "\u001b[0;32mD:\\ProgramData\\Anaconda3\\lib\\site-packages\\pandas\\core\\indexing.py\u001b[0m in \u001b[0;36m__getitem__\u001b[0;34m(self, key)\u001b[0m\n\u001b[1;32m   1326\u001b[0m         \u001b[1;32melse\u001b[0m\u001b[1;33m:\u001b[0m\u001b[1;33m\u001b[0m\u001b[0m\n\u001b[1;32m   1327\u001b[0m             \u001b[0mkey\u001b[0m \u001b[1;33m=\u001b[0m \u001b[0mcom\u001b[0m\u001b[1;33m.\u001b[0m\u001b[0m_apply_if_callable\u001b[0m\u001b[1;33m(\u001b[0m\u001b[0mkey\u001b[0m\u001b[1;33m,\u001b[0m \u001b[0mself\u001b[0m\u001b[1;33m.\u001b[0m\u001b[0mobj\u001b[0m\u001b[1;33m)\u001b[0m\u001b[1;33m\u001b[0m\u001b[0m\n\u001b[0;32m-> 1328\u001b[0;31m             \u001b[1;32mreturn\u001b[0m \u001b[0mself\u001b[0m\u001b[1;33m.\u001b[0m\u001b[0m_getitem_axis\u001b[0m\u001b[1;33m(\u001b[0m\u001b[0mkey\u001b[0m\u001b[1;33m,\u001b[0m \u001b[0maxis\u001b[0m\u001b[1;33m=\u001b[0m\u001b[1;36m0\u001b[0m\u001b[1;33m)\u001b[0m\u001b[1;33m\u001b[0m\u001b[0m\n\u001b[0m\u001b[1;32m   1329\u001b[0m \u001b[1;33m\u001b[0m\u001b[0m\n\u001b[1;32m   1330\u001b[0m     \u001b[1;32mdef\u001b[0m \u001b[0m_is_scalar_access\u001b[0m\u001b[1;33m(\u001b[0m\u001b[0mself\u001b[0m\u001b[1;33m,\u001b[0m \u001b[0mkey\u001b[0m\u001b[1;33m)\u001b[0m\u001b[1;33m:\u001b[0m\u001b[1;33m\u001b[0m\u001b[0m\n",
      "\u001b[0;32mD:\\ProgramData\\Anaconda3\\lib\\site-packages\\pandas\\core\\indexing.py\u001b[0m in \u001b[0;36m_getitem_axis\u001b[0;34m(self, key, axis)\u001b[0m\n\u001b[1;32m   1736\u001b[0m         \u001b[1;31m# a list of integers\u001b[0m\u001b[1;33m\u001b[0m\u001b[1;33m\u001b[0m\u001b[0m\n\u001b[1;32m   1737\u001b[0m         \u001b[1;32melif\u001b[0m \u001b[0mis_list_like_indexer\u001b[0m\u001b[1;33m(\u001b[0m\u001b[0mkey\u001b[0m\u001b[1;33m)\u001b[0m\u001b[1;33m:\u001b[0m\u001b[1;33m\u001b[0m\u001b[0m\n\u001b[0;32m-> 1738\u001b[0;31m             \u001b[1;32mreturn\u001b[0m \u001b[0mself\u001b[0m\u001b[1;33m.\u001b[0m\u001b[0m_get_list_axis\u001b[0m\u001b[1;33m(\u001b[0m\u001b[0mkey\u001b[0m\u001b[1;33m,\u001b[0m \u001b[0maxis\u001b[0m\u001b[1;33m=\u001b[0m\u001b[0maxis\u001b[0m\u001b[1;33m)\u001b[0m\u001b[1;33m\u001b[0m\u001b[0m\n\u001b[0m\u001b[1;32m   1739\u001b[0m \u001b[1;33m\u001b[0m\u001b[0m\n\u001b[1;32m   1740\u001b[0m         \u001b[1;31m# a single integer\u001b[0m\u001b[1;33m\u001b[0m\u001b[1;33m\u001b[0m\u001b[0m\n",
      "\u001b[0;32mD:\\ProgramData\\Anaconda3\\lib\\site-packages\\pandas\\core\\indexing.py\u001b[0m in \u001b[0;36m_get_list_axis\u001b[0;34m(self, key, axis)\u001b[0m\n\u001b[1;32m   1713\u001b[0m         \"\"\"\n\u001b[1;32m   1714\u001b[0m         \u001b[1;32mtry\u001b[0m\u001b[1;33m:\u001b[0m\u001b[1;33m\u001b[0m\u001b[0m\n\u001b[0;32m-> 1715\u001b[0;31m             \u001b[1;32mreturn\u001b[0m \u001b[0mself\u001b[0m\u001b[1;33m.\u001b[0m\u001b[0mobj\u001b[0m\u001b[1;33m.\u001b[0m\u001b[0mtake\u001b[0m\u001b[1;33m(\u001b[0m\u001b[0mkey\u001b[0m\u001b[1;33m,\u001b[0m \u001b[0maxis\u001b[0m\u001b[1;33m=\u001b[0m\u001b[0maxis\u001b[0m\u001b[1;33m,\u001b[0m \u001b[0mconvert\u001b[0m\u001b[1;33m=\u001b[0m\u001b[1;32mFalse\u001b[0m\u001b[1;33m)\u001b[0m\u001b[1;33m\u001b[0m\u001b[0m\n\u001b[0m\u001b[1;32m   1716\u001b[0m         \u001b[1;32mexcept\u001b[0m \u001b[0mIndexError\u001b[0m\u001b[1;33m:\u001b[0m\u001b[1;33m\u001b[0m\u001b[0m\n\u001b[1;32m   1717\u001b[0m             \u001b[1;31m# re-raise with different error message\u001b[0m\u001b[1;33m\u001b[0m\u001b[1;33m\u001b[0m\u001b[0m\n",
      "\u001b[0;32mD:\\ProgramData\\Anaconda3\\lib\\site-packages\\pandas\\core\\generic.py\u001b[0m in \u001b[0;36mtake\u001b[0;34m(self, indices, axis, convert, is_copy, **kwargs)\u001b[0m\n\u001b[1;32m   1926\u001b[0m         new_data = self._data.take(indices,\n\u001b[1;32m   1927\u001b[0m                                    \u001b[0maxis\u001b[0m\u001b[1;33m=\u001b[0m\u001b[0mself\u001b[0m\u001b[1;33m.\u001b[0m\u001b[0m_get_block_manager_axis\u001b[0m\u001b[1;33m(\u001b[0m\u001b[0maxis\u001b[0m\u001b[1;33m)\u001b[0m\u001b[1;33m,\u001b[0m\u001b[1;33m\u001b[0m\u001b[0m\n\u001b[0;32m-> 1928\u001b[0;31m                                    convert=True, verify=True)\n\u001b[0m\u001b[1;32m   1929\u001b[0m         \u001b[0mresult\u001b[0m \u001b[1;33m=\u001b[0m \u001b[0mself\u001b[0m\u001b[1;33m.\u001b[0m\u001b[0m_constructor\u001b[0m\u001b[1;33m(\u001b[0m\u001b[0mnew_data\u001b[0m\u001b[1;33m)\u001b[0m\u001b[1;33m.\u001b[0m\u001b[0m__finalize__\u001b[0m\u001b[1;33m(\u001b[0m\u001b[0mself\u001b[0m\u001b[1;33m)\u001b[0m\u001b[1;33m\u001b[0m\u001b[0m\n\u001b[1;32m   1930\u001b[0m \u001b[1;33m\u001b[0m\u001b[0m\n",
      "\u001b[0;32mD:\\ProgramData\\Anaconda3\\lib\\site-packages\\pandas\\core\\internals.py\u001b[0m in \u001b[0;36mtake\u001b[0;34m(self, indexer, axis, verify, convert)\u001b[0m\n\u001b[1;32m   4009\u001b[0m         \u001b[0mnew_labels\u001b[0m \u001b[1;33m=\u001b[0m \u001b[0mself\u001b[0m\u001b[1;33m.\u001b[0m\u001b[0maxes\u001b[0m\u001b[1;33m[\u001b[0m\u001b[0maxis\u001b[0m\u001b[1;33m]\u001b[0m\u001b[1;33m.\u001b[0m\u001b[0mtake\u001b[0m\u001b[1;33m(\u001b[0m\u001b[0mindexer\u001b[0m\u001b[1;33m)\u001b[0m\u001b[1;33m\u001b[0m\u001b[0m\n\u001b[1;32m   4010\u001b[0m         return self.reindex_indexer(new_axis=new_labels, indexer=indexer,\n\u001b[0;32m-> 4011\u001b[0;31m                                     axis=axis, allow_dups=True)\n\u001b[0m\u001b[1;32m   4012\u001b[0m \u001b[1;33m\u001b[0m\u001b[0m\n\u001b[1;32m   4013\u001b[0m     \u001b[1;32mdef\u001b[0m \u001b[0mmerge\u001b[0m\u001b[1;33m(\u001b[0m\u001b[0mself\u001b[0m\u001b[1;33m,\u001b[0m \u001b[0mother\u001b[0m\u001b[1;33m,\u001b[0m \u001b[0mlsuffix\u001b[0m\u001b[1;33m=\u001b[0m\u001b[1;34m''\u001b[0m\u001b[1;33m,\u001b[0m \u001b[0mrsuffix\u001b[0m\u001b[1;33m=\u001b[0m\u001b[1;34m''\u001b[0m\u001b[1;33m)\u001b[0m\u001b[1;33m:\u001b[0m\u001b[1;33m\u001b[0m\u001b[0m\n",
      "\u001b[0;32mD:\\ProgramData\\Anaconda3\\lib\\site-packages\\pandas\\core\\internals.py\u001b[0m in \u001b[0;36mreindex_indexer\u001b[0;34m(self, new_axis, indexer, axis, fill_value, allow_dups, copy)\u001b[0m\n\u001b[1;32m   3895\u001b[0m             new_blocks = [blk.take_nd(indexer, axis=axis, fill_tuple=(\n\u001b[1;32m   3896\u001b[0m                 fill_value if fill_value is not None else blk.fill_value,))\n\u001b[0;32m-> 3897\u001b[0;31m                 for blk in self.blocks]\n\u001b[0m\u001b[1;32m   3898\u001b[0m \u001b[1;33m\u001b[0m\u001b[0m\n\u001b[1;32m   3899\u001b[0m         \u001b[0mnew_axes\u001b[0m \u001b[1;33m=\u001b[0m \u001b[0mlist\u001b[0m\u001b[1;33m(\u001b[0m\u001b[0mself\u001b[0m\u001b[1;33m.\u001b[0m\u001b[0maxes\u001b[0m\u001b[1;33m)\u001b[0m\u001b[1;33m\u001b[0m\u001b[0m\n",
      "\u001b[0;32mD:\\ProgramData\\Anaconda3\\lib\\site-packages\\pandas\\core\\internals.py\u001b[0m in \u001b[0;36m<listcomp>\u001b[0;34m(.0)\u001b[0m\n\u001b[1;32m   3895\u001b[0m             new_blocks = [blk.take_nd(indexer, axis=axis, fill_tuple=(\n\u001b[1;32m   3896\u001b[0m                 fill_value if fill_value is not None else blk.fill_value,))\n\u001b[0;32m-> 3897\u001b[0;31m                 for blk in self.blocks]\n\u001b[0m\u001b[1;32m   3898\u001b[0m \u001b[1;33m\u001b[0m\u001b[0m\n\u001b[1;32m   3899\u001b[0m         \u001b[0mnew_axes\u001b[0m \u001b[1;33m=\u001b[0m \u001b[0mlist\u001b[0m\u001b[1;33m(\u001b[0m\u001b[0mself\u001b[0m\u001b[1;33m.\u001b[0m\u001b[0maxes\u001b[0m\u001b[1;33m)\u001b[0m\u001b[1;33m\u001b[0m\u001b[0m\n",
      "\u001b[0;32mD:\\ProgramData\\Anaconda3\\lib\\site-packages\\pandas\\core\\internals.py\u001b[0m in \u001b[0;36mtake_nd\u001b[0;34m(self, indexer, axis, new_mgr_locs, fill_tuple)\u001b[0m\n\u001b[1;32m   1044\u001b[0m             \u001b[0mfill_value\u001b[0m \u001b[1;33m=\u001b[0m \u001b[0mfill_tuple\u001b[0m\u001b[1;33m[\u001b[0m\u001b[1;36m0\u001b[0m\u001b[1;33m]\u001b[0m\u001b[1;33m\u001b[0m\u001b[0m\n\u001b[1;32m   1045\u001b[0m             new_values = algos.take_nd(values, indexer, axis=axis,\n\u001b[0;32m-> 1046\u001b[0;31m                                        allow_fill=True, fill_value=fill_value)\n\u001b[0m\u001b[1;32m   1047\u001b[0m \u001b[1;33m\u001b[0m\u001b[0m\n\u001b[1;32m   1048\u001b[0m         \u001b[1;32mif\u001b[0m \u001b[0mnew_mgr_locs\u001b[0m \u001b[1;32mis\u001b[0m \u001b[1;32mNone\u001b[0m\u001b[1;33m:\u001b[0m\u001b[1;33m\u001b[0m\u001b[0m\n",
      "\u001b[0;31mKeyboardInterrupt\u001b[0m: "
     ]
    }
   ],
   "source": [
    "# reference = get_score()\n",
    "# print('reference', reference)\n",
    "# mean_cols = ['cholesterol_gluc_smoke_active']\n",
    "while len(mean_cols) < 20:\n",
    "    best_score = 99\n",
    "    best = None\n",
    "    for c in best_interactions:\n",
    "        if 'error' in c or 'MAP' in c or c in mean_cols:\n",
    "            continue\n",
    "        score = get_score2(mean_cols + [c])\n",
    "        gc.collect()\n",
    "        if score < best_score:\n",
    "            best_score = score\n",
    "            best = c\n",
    "            print('..',c)\n",
    "    mean_cols.append(best)\n",
    "    print(best_score, best, mean_cols)"
   ]
  },
  {
   "cell_type": "code",
   "execution_count": null,
   "metadata": {
    "collapsed": true
   },
   "outputs": [],
   "source": []
  }
 ],
 "metadata": {
  "kernelspec": {
   "display_name": "Python 3",
   "language": "python",
   "name": "python3"
  },
  "language_info": {
   "codemirror_mode": {
    "name": "ipython",
    "version": 3
   },
   "file_extension": ".py",
   "mimetype": "text/x-python",
   "name": "python",
   "nbconvert_exporter": "python",
   "pygments_lexer": "ipython3",
   "version": "3.6.0"
  }
 },
 "nbformat": 4,
 "nbformat_minor": 2
}
