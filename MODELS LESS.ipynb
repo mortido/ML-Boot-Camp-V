{
 "cells": [
  {
   "cell_type": "code",
   "execution_count": 30,
   "metadata": {
    "collapsed": false
   },
   "outputs": [],
   "source": [
    "import pandas as pd\n",
    "import numpy as np\n",
    "\n",
    "import random\n",
    "\n",
    "import xgboost as xgb\n",
    "import lightgbm as lgb\n",
    "\n",
    "from sklearn.ensemble import RandomForestClassifier\n",
    "from sklearn.metrics import log_loss\n",
    "from sklearn.model_selection import StratifiedKFold\n",
    "\n",
    "import matplotlib.pyplot as plt\n",
    "import seaborn as sns\n",
    "import gc\n",
    "import utils\n",
    "\n",
    "plt.style.use('ggplot')\n",
    "%matplotlib inline\n",
    "\n",
    "import importlib\n",
    "utils = importlib.reload(utils)"
   ]
  },
  {
   "cell_type": "code",
   "execution_count": 31,
   "metadata": {
    "collapsed": true
   },
   "outputs": [],
   "source": [
    "# loo = pd.read_csv('loo.csv', sep=';', header=None)\n",
    "# loo.columns=['loo']\n",
    "# loo['target']=y_train\n",
    "# loo_loss = loo.apply(lambda x: log_loss([x['target']], [x['loo']], labels=[1, 0]), axis=1)\n",
    "# pd.DataFrame(loo_loss).to_csv('loo_loss.csv', index=False, header=False, sep=';')"
   ]
  },
  {
   "cell_type": "code",
   "execution_count": 32,
   "metadata": {
    "collapsed": true
   },
   "outputs": [],
   "source": [
    "from sklearn.pipeline import Pipeline, FeatureUnion\n",
    "from utils import SmoothLikelihood,SmoothLikelihood2,SmoothLikelihood3,SmoothLikelihood4, ColumnsFilter\n",
    "\n",
    "def wrap_classifier(clf, use_columns, mean_columns):\n",
    "    fs = [(\"filter\", ColumnsFilter(use_columns))]\n",
    "    \n",
    "    for i, cc in enumerate(mean_columns):\n",
    "        fs.append(('mean_'+str(i), SmoothLikelihood4(cc, 0.5,\n",
    "                                                     kf=StratifiedKFold(random_state=111111+i, n_splits=20, shuffle=True),\n",
    "                                                     alpha=13,\n",
    "                                                     seed=10+i,\n",
    "                                                     std=0.0003)))\n",
    "    combined_features = FeatureUnion(fs)\n",
    "    return Pipeline([(\"features\", combined_features), (\"model\", clf)])"
   ]
  },
  {
   "cell_type": "code",
   "execution_count": 37,
   "metadata": {
    "collapsed": false
   },
   "outputs": [],
   "source": [
    "train = pd.read_csv('train.csv', sep=';')\n",
    "test = pd.read_csv('test.csv', sep=';', na_values='None')\n",
    "\n",
    "train = utils.clean_data(train, light_clean=True)\n",
    "test = utils.clean_data(test, light_clean=True)\n",
    "\n",
    "train = utils.new_features(train)\n",
    "test = utils.new_features(test)\n",
    "\n",
    "X_train = train.drop([ 'cardio'], axis=1)\n",
    "y_train = train['cardio'].values.ravel()\n",
    "X_test = test.drop([], axis=1)\n",
    "\n",
    "data = pd.concat((train.drop('cardio', axis=1), test), axis=0)\n",
    "dic = data.groupby('age_group_orig')['age'].mean().to_dict()\n",
    "X_train['age_dif'] = X_train[['age_group_orig', 'age']].apply(lambda x: x['age'] - dic[x['age_group_orig']], axis=1)\n",
    "X_test['age_dif'] = X_test[['age_group_orig', 'age']].apply(lambda x: x['age'] - dic[x['age_group_orig']], axis=1)"
   ]
  },
  {
   "cell_type": "code",
   "execution_count": 38,
   "metadata": {
    "collapsed": false
   },
   "outputs": [],
   "source": [
    "loo_loss = pd.read_csv('loo_loss.csv', sep=';', header=None)\n",
    "strat = pd.qcut(loo_loss, 20, labels=False).astype(str)\n",
    "strat = np.hstack((strat, y_train.reshape((-1,1))))\n",
    "strat =np.apply_along_axis(lambda d: str(d[0]) + '_' + str(d[1]), 1, strat)"
   ]
  },
  {
   "cell_type": "code",
   "execution_count": 39,
   "metadata": {
    "collapsed": false
   },
   "outputs": [],
   "source": [
    "use_columns = [\n",
    "\"gender\",\n",
    "\"height\",\n",
    "\"weight\",\n",
    "\"ap_hi\",\n",
    "\"ap_lo\",\n",
    "\"cholesterol\",\n",
    "# \"gluc\",\n",
    "\"active_fair\",\n",
    "\"smoke_restored\",\n",
    "\"alco_restored\",\n",
    "# \"active_restored\",\n",
    "\"height_mul_log_gluc\",\n",
    "\"BMI\",\n",
    "\"age_group\",\n",
    "\"cholesterol_div_log_gluc\",\n",
    "\"gluc_mul_log_age\",\n",
    "    'age_dif',\n",
    "    'ap_lo_mul_log_ap_hi'\n",
    "]\n",
    "mean_columns = []"
   ]
  },
  {
   "cell_type": "code",
   "execution_count": 40,
   "metadata": {
    "collapsed": false
   },
   "outputs": [
    {
     "name": "stdout",
     "output_type": "stream",
     "text": [
      "\n",
      "10 folds logloss:\n",
      "[0.53741734668921193, 0.53731271895681432, 0.53709940435306536, 0.5360551803482928, 0.53663742854255403, 0.53921646996837669, 0.53782424343931556, 0.53759149644189574, 0.53764000608122842, 0.53662160706381201]\n",
      "mean: 0.537341590188\n",
      "std: 0.000814489392489\n",
      "15 Splits logloss:\n",
      "[0.53748771650148996, 0.53872671181832754, 0.53799987039803754, 0.53800371278751469, 0.5374988112907324, 0.53794360463622781, 0.53675037235997258, 0.5367343247710239, 0.53788853202902132, 0.53750437614179791, 0.53746412236917585, 0.53747436232776158, 0.53775120756367134, 0.53784639235852016, 0.5379987562392794]\n",
      "mean: 0.537671524906\n",
      "std: 0.000482839930105\n",
      "less_clean_XGB_1 results saved!\n"
     ]
    },
    {
     "data": {
      "text/plain": [
       "57904"
      ]
     },
     "execution_count": 40,
     "metadata": {},
     "output_type": "execute_result"
    }
   ],
   "source": [
    "model_name = 'less_clean_XGB_1'\n",
    "params = {\n",
    "     'colsample_bytree': 0.875,\n",
    "     'gamma': 0.05,\n",
    "     'learning_rate': 0.02,\n",
    "     'max_depth': 5,\n",
    "     'min_child_weight': 5,\n",
    "     'n_estimators': 369,\n",
    "\n",
    "     'reg_alpha': 0,\n",
    "     'reg_lambda': 10,\n",
    "     'subsample': 0.7,\n",
    "    \n",
    "    'n_jobs': 1,\n",
    "    'random_state': 1111,\n",
    "    'silent': True,\n",
    "}\n",
    "model = wrap_classifier(xgb.XGBClassifier(**params), use_columns, mean_columns)\n",
    "utils.execute_model(model,\n",
    "              X_train,\n",
    "              y_train,\n",
    "              X_test,\n",
    "              model_name=model_name,\n",
    "              n_splits=15,\n",
    "              n_folds=10,\n",
    "              stratification_groups=strat,\n",
    "             )\n",
    "gc.collect()\n",
    "# 10 folds logloss:\n",
    "# [0.53750662927884696, 0.53682361733818373, 0.53772246391589884, 0.53641438649073925, 0.53681142146966887, 0.5386806105270695, 0.53851692181918176, 0.53765561764272107, 0.53761915585305875, 0.5372220835395054]\n",
    "# mean: 0.537497290787\n",
    "# std: 0.000685804276892\n",
    "# 15 Splits logloss:\n",
    "# [0.53752077755172334, 0.53884876460706199, 0.53793286362964488, 0.53782186562816303, 0.53746432078682949, 0.53795492306129922, 0.53722755332912009, 0.53677501827691287, 0.53817421751389549, 0.53748560265362977, 0.53772447056482942, 0.53752604069161625, 0.53790496196766335, 0.53766607886224627, 0.53821279794039822]\n",
    "# mean: 0.537749350471\n",
    "# std: 0.000461265207885\n",
    "# less_clean_XGB_1 results saved!"
   ]
  },
  {
   "cell_type": "code",
   "execution_count": 8,
   "metadata": {
    "collapsed": false
   },
   "outputs": [
    {
     "name": "stdout",
     "output_type": "stream",
     "text": [
      "\n",
      "10 folds logloss:\n",
      "[0.537681674407812, 0.5374036427870823, 0.53780396278918163, 0.53644202404198837, 0.53698163481322481, 0.53877963627714331, 0.53837328512392357, 0.53747535489649723, 0.53783993328185542, 0.53739387889157031]\n",
      "mean: 0.537617502731\n",
      "std: 0.000625471819756\n",
      "15 Splits logloss:\n",
      "[0.53803666369288805, 0.53900778780487324, 0.53805946787837011, 0.5382160618031131, 0.53763524591018041, 0.53839894471690064, 0.53769013202057359, 0.53691560897408497, 0.53829935738825729, 0.53818675257212345, 0.53793615029370856, 0.53786078193100795, 0.53780439842483474, 0.53810153918119064, 0.53862016495601051]\n",
      "mean: 0.538051270503\n",
      "std: 0.000459928887534\n",
      "less_clean_XGB_2hist results saved!\n"
     ]
    },
    {
     "data": {
      "text/plain": [
       "128"
      ]
     },
     "execution_count": 8,
     "metadata": {},
     "output_type": "execute_result"
    }
   ],
   "source": [
    "model_name = 'less_clean_XGB_2hist'\n",
    "params = {\n",
    "     'colsample_bytree': 0.95,\n",
    "     'gamma': 0.55,\n",
    "     'learning_rate': 0.02,\n",
    "     'max_depth': 5,\n",
    "     'min_child_weight': 3,\n",
    "     'n_estimators': 392,\n",
    "     'reg_alpha': 0,\n",
    "     'reg_lambda': 0.4,\n",
    "     'subsample': 0.85,\n",
    "\n",
    "    'tree_method': 'hist',\n",
    "    'grow_policy': 'lossguide',\n",
    "    \n",
    "    'n_jobs': 4,\n",
    "    'random_state': 2222,\n",
    "    'silent': True,\n",
    "}\n",
    "model = wrap_classifier(xgb.XGBClassifier(**params), use_columns, mean_columns)\n",
    "utils.execute_model(model,\n",
    "              X_train,\n",
    "              y_train,\n",
    "              X_test,\n",
    "              model_name=model_name,\n",
    "              n_splits=15,\n",
    "              n_folds=10,\n",
    "              stratification_groups=strat,\n",
    "             )\n",
    "gc.collect()"
   ]
  },
  {
   "cell_type": "code",
   "execution_count": 9,
   "metadata": {
    "collapsed": false
   },
   "outputs": [
    {
     "name": "stdout",
     "output_type": "stream",
     "text": [
      "\n",
      "10 folds logloss:\n",
      "[0.53794848962274122, 0.53840454240346336, 0.53911028899306412, 0.53780152227009459, 0.53700387875268729, 0.53811086092129412, 0.53910745269471216, 0.53869158948141072, 0.53839149058581515, 0.53767008704289487]\n",
      "mean: 0.538224020277\n",
      "std: 0.000625139559729\n",
      "15 Splits logloss:\n",
      "[0.53774433149690071, 0.53952158135477279, 0.53874664456698862, 0.53915631803515407, 0.53817723964216813, 0.53879480247669631, 0.53735064151271117, 0.53694645060394841, 0.53912702845604643, 0.53822399018305755, 0.53823582653612612, 0.53851612334463395, 0.53823700841729127, 0.53840360449760083, 0.53894271681377925]\n",
      "mean: 0.538408287196\n",
      "std: 0.000669305790344\n",
      "less_clean_XGB_3hist results saved!\n"
     ]
    },
    {
     "data": {
      "text/plain": [
       "380"
      ]
     },
     "execution_count": 9,
     "metadata": {},
     "output_type": "execute_result"
    }
   ],
   "source": [
    "model_name = 'less_clean_XGB_3hist'\n",
    "clf = xgb.XGBClassifier(\n",
    "        learning_rate=0.07,\n",
    "        n_estimators=218,\n",
    "        max_depth=3,\n",
    "        min_child_weight=5,\n",
    "        gamma=0.2,\n",
    "        subsample=0.6,\n",
    "        colsample_bytree=0.55,\n",
    "        reg_alpha=0,\n",
    "        reg_lambda=1.0,\n",
    "        nthread=4,\n",
    "        tree_method='hist',\n",
    "        grow_policy='lossguide',\n",
    "       \n",
    "        seed=3333\n",
    "    )\n",
    "model = wrap_classifier(clf, use_columns, mean_columns)\n",
    "utils.execute_model(model,\n",
    "              X_train,\n",
    "              y_train,\n",
    "              X_test,\n",
    "              model_name=model_name,\n",
    "              n_splits=15,\n",
    "              n_folds=10,\n",
    "              stratification_groups=strat,\n",
    "             )\n",
    "gc.collect()"
   ]
  },
  {
   "cell_type": "code",
   "execution_count": 10,
   "metadata": {
    "collapsed": false
   },
   "outputs": [
    {
     "name": "stdout",
     "output_type": "stream",
     "text": [
      "\n",
      "10 folds logloss:\n",
      "[0.53822546165928242, 0.53726557791675777, 0.53813297033292207, 0.53661041737825366, 0.53779583477187076, 0.54007333984716932, 0.53824334797007334, 0.53820414949704376, 0.53863375499703448, 0.53748342235480762]\n",
      "mean: 0.538066827673\n",
      "std: 0.000872008315546\n",
      "15 Splits logloss:\n",
      "[0.53824024667981485, 0.5394249547142218, 0.53812800184939402, 0.53857082085055563, 0.53824170322226716, 0.53874019614054713, 0.5377725676434808, 0.53725665104326037, 0.53895406767439147, 0.53880727791822314, 0.53825700742261584, 0.53877016813931389, 0.53760391762484561, 0.53860657540014034, 0.53877083563186834]\n",
      "mean: 0.53840966613\n",
      "std: 0.000545515123343\n",
      "less_clean_LGB_1 results saved!\n"
     ]
    },
    {
     "data": {
      "text/plain": [
       "339"
      ]
     },
     "execution_count": 10,
     "metadata": {},
     "output_type": "execute_result"
    }
   ],
   "source": [
    "model_name = 'less_clean_LGB_1'\n",
    "params = {\n",
    "     'colsample_bytree': 0.95,\n",
    "     'learning_rate': 0.02,\n",
    "#      'max_depth': 5,\n",
    "     'num_leaves': 2**5,\n",
    "     'min_child_weight': 3,\n",
    "     'n_estimators': 392,\n",
    "     'reg_alpha': 0,\n",
    "     'reg_lambda': 0.4,\n",
    "     'subsample': 0.85,\n",
    "       \n",
    "    'nthread': 4,\n",
    "    'seed': 8718,\n",
    "    'silent': True,\n",
    "}\n",
    "model = wrap_classifier(lgb.LGBMClassifier(**params), use_columns, mean_columns)\n",
    "utils.execute_model(model,\n",
    "              X_train,\n",
    "              y_train,\n",
    "              X_test,\n",
    "              model_name=model_name,\n",
    "              n_splits=15,\n",
    "              n_folds=10,\n",
    "              stratification_groups=strat,\n",
    "             )\n",
    "gc.collect()"
   ]
  },
  {
   "cell_type": "code",
   "execution_count": 11,
   "metadata": {
    "collapsed": true
   },
   "outputs": [],
   "source": [
    "use_columns = [\n",
    "\"gender\",\n",
    "\"height\",\n",
    "\"weight\",\n",
    "\"ap_hi\",\n",
    "\"ap_lo\",\n",
    "\"cholesterol\",\n",
    "\"height_div_ap_lo\",\n",
    "\"active_fair\",\n",
    "\"smoke_restored\",\n",
    "\"alco_restored\",\n",
    "\"height_mul_log_cholesterol\",\n",
    "\"height_mul_log_gluc\",\n",
    "\"BMI\",\n",
    "\"age_group\",\n",
    "\"cholesterol_div_log_gluc\",\n",
    "\"gluc_mul_log_age\",\n",
    "\"ap_hi_mul_weight\",\n",
    "]"
   ]
  },
  {
   "cell_type": "code",
   "execution_count": 12,
   "metadata": {
    "collapsed": false
   },
   "outputs": [
    {
     "name": "stdout",
     "output_type": "stream",
     "text": [
      "\n",
      "10 folds logloss:\n",
      "[0.53757817234046468, 0.53642089334171095, 0.53756244257296049, 0.53637306485601355, 0.53703105920654515, 0.53866482434383978, 0.53879766958755826, 0.53806448356140324, 0.53709252253974182, 0.53777785896916253]\n",
      "mean: 0.537536299132\n",
      "std: 0.000790812270729\n",
      "15 Splits logloss:\n",
      "[0.53777840967139323, 0.53906536858262766, 0.53821866284630127, 0.53833766663376059, 0.53788316612451204, 0.53826855468750001, 0.53743274176209455, 0.5369712367485322, 0.53869985720213676, 0.53776989293417765, 0.53775621078642355, 0.53795500151866249, 0.53828220149768247, 0.53765067268349231, 0.53792258344360055]\n",
      "mean: 0.537999481808\n",
      "std: 0.000491508979978\n",
      "less_clean_XGB_5 results saved!\n"
     ]
    },
    {
     "data": {
      "text/plain": [
       "380"
      ]
     },
     "execution_count": 12,
     "metadata": {},
     "output_type": "execute_result"
    }
   ],
   "source": [
    "model_name = 'less_clean_XGB_5'\n",
    "params = {\n",
    "     'colsample_bytree': 0.875,\n",
    "     'gamma': 0.05,\n",
    "     'learning_rate': 0.02,\n",
    "     'max_depth': 5,\n",
    "     'min_child_weight': 5,\n",
    "     'n_estimators': 369,\n",
    "\n",
    "     'reg_alpha': 0,\n",
    "     'reg_lambda': 10,\n",
    "     'subsample': 0.7,\n",
    "    \n",
    "    'n_jobs': 1,\n",
    "    'random_state': 5555,\n",
    "    'silent': True,\n",
    "}\n",
    "model = wrap_classifier(xgb.XGBClassifier(**params), use_columns, mean_columns)\n",
    "utils.execute_model(model,\n",
    "              X_train,\n",
    "              y_train,\n",
    "              X_test,\n",
    "              model_name=model_name,\n",
    "              n_splits=15,\n",
    "              n_folds=10,\n",
    "              stratification_groups=strat,\n",
    "             )\n",
    "gc.collect()"
   ]
  },
  {
   "cell_type": "code",
   "execution_count": 13,
   "metadata": {
    "collapsed": false
   },
   "outputs": [
    {
     "name": "stdout",
     "output_type": "stream",
     "text": [
      "\n",
      "10 folds logloss:\n",
      "[0.53783426029783155, 0.53730454837956509, 0.53757442879888706, 0.53648401374802823, 0.53742934435363576, 0.53891227691794941, 0.53858347490109859, 0.53775422021290686, 0.53742341372307445, 0.53810254381192968]\n",
      "mean: 0.537740252514\n",
      "std: 0.000649420886648\n",
      "15 Splits logloss:\n",
      "[0.53801744681579011, 0.53917585243692712, 0.53825795536488297, 0.53867842462738713, 0.53800474340850046, 0.53856530982761508, 0.53778419572318947, 0.53720672703206185, 0.53883805142613572, 0.53822902200920952, 0.53819271245306088, 0.53872584251145872, 0.53851081431293413, 0.53828595760509013, 0.53840662245709625]\n",
      "mean: 0.538325311867\n",
      "std: 0.000457863142863\n",
      "less_clean_XGB_6hist results saved!\n"
     ]
    },
    {
     "data": {
      "text/plain": [
       "380"
      ]
     },
     "execution_count": 13,
     "metadata": {},
     "output_type": "execute_result"
    }
   ],
   "source": [
    "model_name = 'less_clean_XGB_6hist'\n",
    "params = {\n",
    "     'colsample_bytree': 0.95,\n",
    "     'gamma': 0.55,\n",
    "     'learning_rate': 0.02,\n",
    "     'max_depth': 5,\n",
    "     'min_child_weight': 3,\n",
    "     'n_estimators': 392,\n",
    "     'reg_alpha': 0,\n",
    "     'reg_lambda': 0.4,\n",
    "     'subsample': 0.85,\n",
    "\n",
    "    'tree_method': 'hist',\n",
    "    'grow_policy': 'lossguide',\n",
    "    \n",
    "    'n_jobs': 4,\n",
    "    'random_state': 6666,\n",
    "    'silent': True,\n",
    "}\n",
    "model = wrap_classifier(xgb.XGBClassifier(**params), use_columns, mean_columns)\n",
    "utils.execute_model(model,\n",
    "              X_train,\n",
    "              y_train,\n",
    "              X_test,\n",
    "              model_name=model_name,\n",
    "              n_splits=15,\n",
    "              n_folds=10,\n",
    "              stratification_groups=strat,\n",
    "             )\n",
    "gc.collect()"
   ]
  },
  {
   "cell_type": "code",
   "execution_count": 14,
   "metadata": {
    "collapsed": false
   },
   "outputs": [
    {
     "name": "stdout",
     "output_type": "stream",
     "text": [
      "\n",
      "10 folds logloss:\n",
      "[0.53783434031589394, 0.53711212534478159, 0.53763021268741329, 0.53673781867084536, 0.53626783718895155, 0.5388187945284717, 0.53852322454475721, 0.53844219548127847, 0.53769695753646285, 0.53907871918712025]\n",
      "mean: 0.537814222549\n",
      "std: 0.00087155374792\n",
      "15 Splits logloss:\n",
      "[0.5384691365061417, 0.53911952030463584, 0.53844912255253818, 0.53853678701445462, 0.53798074507216609, 0.53820041192491497, 0.53779381840995377, 0.53785413937483517, 0.53826854386491085, 0.53858630601227997, 0.53732406100754937, 0.53830437463167169, 0.53827298504903553, 0.5378959310109771, 0.53847693627061588]\n",
      "mean: 0.538235521267\n",
      "std: 0.000409370360108\n",
      "less_clean_XGB_7 results saved!\n"
     ]
    },
    {
     "data": {
      "text/plain": [
       "128"
      ]
     },
     "execution_count": 14,
     "metadata": {},
     "output_type": "execute_result"
    }
   ],
   "source": [
    "use_columns = [\n",
    "\"gender\",\n",
    "\"height\",\n",
    "\"weight\",\n",
    "\"ap_hi\",\n",
    "\"ap_lo\",\n",
    "\"cholesterol\",\n",
    "\"gluc\",\n",
    "# \"active_fair\",\n",
    "\"smoke_restored\",\n",
    "\"alco_restored\",\n",
    "\"active_restored\",\n",
    "# \"height_mul_log_gluc\",\n",
    "\"BMI\",\n",
    "\"age_group\",\n",
    "# \"cholesterol_div_log_age_group\",\n",
    "\"MAP\",\n",
    "\"ap_dif\",\n",
    "# \"gluc_mul_log_age\",\n",
    "# \"age_group_mul_log_ap_lo\",\n",
    "]\n",
    "model_name = 'less_clean_XGB_7'\n",
    "params = {\n",
    "     'colsample_bytree': 0.875,\n",
    "     'gamma': 0.05,\n",
    "     'learning_rate': 0.02,\n",
    "     'max_depth': 5,\n",
    "     'min_child_weight': 5,\n",
    "     'n_estimators': 369,\n",
    "\n",
    "     'reg_alpha': 0,\n",
    "     'reg_lambda': 10,\n",
    "     'subsample': 0.7,\n",
    "    \n",
    "    'n_jobs': 1,\n",
    "    'random_state': 5555,\n",
    "    'silent': True,\n",
    "}\n",
    "model = wrap_classifier(xgb.XGBClassifier(**params), use_columns, mean_columns)\n",
    "utils.execute_model(model,\n",
    "              X_train,\n",
    "              y_train,\n",
    "              X_test,\n",
    "              model_name=model_name,\n",
    "              n_splits=15,\n",
    "              n_folds=10,\n",
    "              stratification_groups=strat,\n",
    "             )\n",
    "gc.collect()"
   ]
  },
  {
   "cell_type": "code",
   "execution_count": 15,
   "metadata": {
    "collapsed": false
   },
   "outputs": [
    {
     "name": "stdout",
     "output_type": "stream",
     "text": [
      "\n",
      "10 folds logloss:\n",
      "[0.53678117155269223, 0.53749002082402308, 0.53880420271988838, 0.53788791030522687, 0.53688843970436917, 0.53889757402852068, 0.53872159459945312, 0.53948858685566536, 0.53759171754554413, 0.53802164856520251]\n",
      "mean: 0.53805728667\n",
      "std: 0.000855398636654\n",
      "15 Splits logloss:\n",
      "[0.53883947741541838, 0.53907805475308779, 0.53885972528337012, 0.53833372443861194, 0.53816895376305496, 0.53805926224110379, 0.53751982665895703, 0.53728270039689685, 0.53832711018763835, 0.53812446051623142, 0.53818328344981581, 0.53891519370568652, 0.53856118834675071, 0.5379699590323227, 0.53798829974145401]\n",
      "mean: 0.538280747995\n",
      "std: 0.000491386507105\n",
      "less_clean_XGB_9 results saved!\n"
     ]
    },
    {
     "data": {
      "text/plain": [
       "1799"
      ]
     },
     "execution_count": 15,
     "metadata": {},
     "output_type": "execute_result"
    }
   ],
   "source": [
    "use_columns = [\n",
    "\"gender\",\n",
    "\"height\",\n",
    "\"weight\",\n",
    "\"ap_hi\",\n",
    "\"ap_lo\",\n",
    "\"cholesterol\",\n",
    "# \"gluc\",\n",
    "\"active_fair\",\n",
    "\"smoke_restored\",\n",
    "\"alco_restored\",\n",
    "# \"active_restored\",\n",
    "\"height_mul_log_gluc\",\n",
    "\"BMI\",\n",
    "\"age_group\",\n",
    "\"cholesterol_div_log_gluc\",\n",
    "\"gluc_mul_log_age\",\n",
    "]\n",
    "mean_columns = [\n",
    "    ['cholesterol','gluc','smoke_restored','active_restored'],\n",
    "    ['ap_hi_group', 'age_group', 'gender'],\n",
    "    ['gender','cholesterol','age_group']\n",
    "]\n",
    "model_name = 'less_clean_XGB_9'\n",
    "params = {\n",
    "     'colsample_bytree': 0.875,\n",
    "     'gamma': 0.05,\n",
    "     'learning_rate': 0.02,\n",
    "     'max_depth': 5,\n",
    "     'min_child_weight': 5,\n",
    "     'n_estimators': 369,\n",
    "\n",
    "     'reg_alpha': 0,\n",
    "     'reg_lambda': 10,\n",
    "     'subsample': 0.7,\n",
    "    \n",
    "    'n_jobs': 1,\n",
    "    'random_state': 5555,\n",
    "    'silent': True,\n",
    "}\n",
    "model = wrap_classifier(xgb.XGBClassifier(**params), use_columns, mean_columns)\n",
    "utils.execute_model(model,\n",
    "              X_train,\n",
    "              y_train,\n",
    "              X_test,\n",
    "              model_name=model_name,\n",
    "              n_splits=15,\n",
    "              n_folds=10,\n",
    "              stratification_groups=strat,\n",
    "             )\n",
    "gc.collect()"
   ]
  },
  {
   "cell_type": "markdown",
   "metadata": {},
   "source": [
    "# KERAS models"
   ]
  },
  {
   "cell_type": "code",
   "execution_count": 16,
   "metadata": {
    "collapsed": false
   },
   "outputs": [
    {
     "name": "stderr",
     "output_type": "stream",
     "text": [
      "Using Theano backend.\n"
     ]
    }
   ],
   "source": [
    "from keras.layers.core import Dense, Dropout\n",
    "from keras.layers.advanced_activations import LeakyReLU\n",
    "from keras.models import Sequential\n",
    "from keras.optimizers import Adamax\n",
    "import pandas as pd\n",
    "\n",
    "\n",
    "class KerasModel(object):\n",
    "    def __init__(self,\n",
    "                 var_num,\n",
    "                 epochs=70,\n",
    "                 learn_rate=0.1,\n",
    "                 config=None,\n",
    "                 batch_size=512,\n",
    "                 verbose=0,\n",
    "                 validation_split=0.2,\n",
    "                 loss=\"binary_crossentropy\"):\n",
    "\n",
    "        self.epochs = epochs\n",
    "        self.batch_size = batch_size\n",
    "        self.verbose = verbose\n",
    "        self.validation_split = validation_split\n",
    "        \n",
    "        self.model = Sequential()\n",
    "        model = self.model\n",
    "        \n",
    "        if config is None:\n",
    "            config =[(var_num, 0.0)]\n",
    "        else:\n",
    "            config = config.copy()\n",
    "            \n",
    "        n, dp = config.pop(0)\n",
    "\n",
    "        model.add(Dense(n, input_dim=var_num, kernel_initializer='uniform'))\n",
    "        model.add(LeakyReLU())\n",
    "        if 0 < dp < 1:\n",
    "            model.add(Dropout(dp))\n",
    "        \n",
    "        while config:\n",
    "            n, dp = config.pop(0)\n",
    "            model.add(Dense(n, kernel_initializer='uniform'))\n",
    "            model.add(LeakyReLU())\n",
    "            if 0 < dp < 1:\n",
    "                model.add(Dropout(dp))\n",
    "\n",
    "\n",
    "        model.add(Dense(1, activation='sigmoid'))\n",
    "        opt = Adamax(lr=learn_rate)\n",
    "\n",
    "        model.compile(loss=loss, optimizer=opt, metrics=['accuracy'])\n",
    "\n",
    "\n",
    "    def fit(self, X, y, sample_weight=None, callbacks=[]):\n",
    "        process_X = X.values if hasattr(X, 'iloc') else X\n",
    "        process_y = y\n",
    "        return self.model.fit(process_X, process_y, batch_size=self.batch_size,\n",
    "                       epochs=self.epochs, verbose=self.verbose,\n",
    "                       sample_weight=sample_weight,\n",
    "                       callbacks=callbacks,\n",
    "                       validation_split=self.validation_split,\n",
    "                       shuffle=True)\n",
    "\n",
    "    def predict_proba(self, X):\n",
    "        process_x = X.values if hasattr(X, 'iloc') else X\n",
    "        result  = self.model.predict(process_x)\n",
    "        classone_probs = result\n",
    "        classzero_probs = 1.0 - classone_probs\n",
    "        return np.hstack((classzero_probs, classone_probs))\n",
    "#         return result\n",
    "    \n",
    "    def predict(self, X):\n",
    "        return np.argmax(self.predict_proba(X), axis=1)"
   ]
  },
  {
   "cell_type": "code",
   "execution_count": 17,
   "metadata": {
    "collapsed": true
   },
   "outputs": [],
   "source": [
    "use_columns = [\n",
    "\"gender\",\n",
    "\"height\",\n",
    "\"weight\",\n",
    "\"ap_hi\",\n",
    "\"ap_lo\",\n",
    "\"cholesterol\",\n",
    "# \"gluc\",\n",
    "# \"active_fair\",\n",
    "\"smoke_restored\",\n",
    "\"alco_restored\",\n",
    "\"active_restored\",\n",
    "\"height_mul_log_gluc\",\n",
    "\"BMI\",\n",
    "\"age_group\",\n",
    "\"cholesterol_div_log_gluc\",\n",
    "\"gluc_mul_log_age\",\n",
    "]\n",
    "\n",
    "X1 = X_train[use_columns]\n",
    "X2 = X_test[use_columns]\n",
    "\n",
    "X = pd.concat((X1,X2), axis=0)\n",
    "\n",
    "from sklearn.preprocessing import StandardScaler\n",
    "scaler = StandardScaler().fit(X)\n",
    "X1 = pd.DataFrame(scaler.transform(X1)) #.values\n",
    "X2 = pd.DataFrame(scaler.transform(X2)) #.values"
   ]
  },
  {
   "cell_type": "code",
   "execution_count": 18,
   "metadata": {
    "collapsed": false
   },
   "outputs": [
    {
     "name": "stdout",
     "output_type": "stream",
     "text": [
      "\n",
      "10 folds logloss:\n",
      "[0.54010186852355924, 0.5389756124294105, 0.5422224340391163, 0.53965950358793857, 0.53684625128683128, 0.54024911674876808, 0.53980558129210743, 0.5396944318478758, 0.54021687020924092, 0.54141733697018979]\n",
      "mean: 0.539918900694\n",
      "std: 0.00135071700904\n",
      "15 Splits logloss:\n",
      "[0.5405580942484417, 0.541737956541546, 0.54160325897405193, 0.53933949688156801, 0.54073086427657735, 0.54070588151871091, 0.54016684151263461, 0.5398751308805354, 0.54038940654854695, 0.5407173610321645, 0.54002828889215981, 0.54062301767209453, 0.54065891653228371, 0.5395765451684239, 0.54039274100498069]\n",
      "mean: 0.540473586779\n",
      "std: 0.000625736102818\n",
      "less_KERAS_1 results saved!\n"
     ]
    },
    {
     "data": {
      "text/plain": [
       "(0.53991890069350368, 0.54047358677898127)"
      ]
     },
     "execution_count": 18,
     "metadata": {},
     "output_type": "execute_result"
    }
   ],
   "source": [
    "{'batch_size': 512, 'choice': {'dropout2': 0.2, 'layers': 'two', 'units2': 64}, \n",
    " 'dropout1': 0.2, 'epochs': 100, 'learning_rate': 0.01, 'units1': 64}\n",
    "\n",
    "def create(x1, x2):\n",
    "    config = [(64,0.2), (64,0.2)]\n",
    "    return KerasModel(var_num=len(use_columns),\n",
    "                   epochs=200,\n",
    "                   learn_rate=0.001,\n",
    "                   config=config,\n",
    "                   batch_size=1024,\n",
    "                   verbose=0,\n",
    "                   validation_split=0.0)\n",
    "utils.execute_model(None,\n",
    "              X1,\n",
    "              y_train,\n",
    "              X2,\n",
    "              model_name=\"less_KERAS_1\",\n",
    "              n_splits=15,\n",
    "              n_folds=10,\n",
    "              stratification_groups=strat,\n",
    "              create_callback=create\n",
    "             )"
   ]
  },
  {
   "cell_type": "code",
   "execution_count": 29,
   "metadata": {
    "collapsed": false
   },
   "outputs": [
    {
     "name": "stdout",
     "output_type": "stream",
     "text": [
      "\n",
      "less_KERAS_1\n",
      "0.539918770309\t0.540473586819\t0.539918770309\t0.540473586819\n",
      "\n",
      "less_clean_XGB_1\n",
      "0.537497121307\t0.537749350414\t0.53779701521\t0.538104510181\n",
      "\n",
      "less_clean_XGB_2hist\n",
      "0.537617405472\t0.538051270465\t0.537458941722\t0.537766451683\n",
      "\n",
      "less_clean_XGB_3hist\n",
      "0.538224017692\t0.538408287285\t0.537421902447\t0.537702524975\n",
      "\n",
      "less_clean_LGB_1\n",
      "0.538066647494\t0.53840966613\t0.537360137058\t0.537632215256\n",
      "\n",
      "less_clean_XGB_5\n",
      "0.53753602927\t0.537999481829\t0.537317560601\t0.537611496467\n",
      "\n",
      "less_clean_XGB_7\n",
      "0.537813830938\t0.538235521251\t0.537298524697\t0.53759884592\n",
      "\n",
      "less_clean_XGB_9\n",
      "0.538057010186\t0.538280747852\t0.537250398407\t0.537528540545\n"
     ]
    }
   ],
   "source": [
    "models = [#'KERAS_1', 'XGB_1', 'XGB_2hist','XGB_3hist', 'LGB_1', 'XGB_5', 'XGB_7', 'XGB_9',\n",
    "          'less_KERAS_1', \n",
    "          'less_clean_XGB_1','less_clean_XGB_2hist',\n",
    "          'less_clean_XGB_3hist','less_clean_LGB_1','less_clean_XGB_5','less_clean_XGB_7','less_clean_XGB_9']#,'XGB_6hist'\n",
    "result = utils.merge_models(models, method='mean')\n",
    "pd.DataFrame(result).to_csv('merged_models_less.csv', index=False, header=False, sep=';')"
   ]
  },
  {
   "cell_type": "code",
   "execution_count": null,
   "metadata": {
    "collapsed": true
   },
   "outputs": [],
   "source": []
  }
 ],
 "metadata": {
  "kernelspec": {
   "display_name": "Python 3",
   "language": "python",
   "name": "python3"
  },
  "language_info": {
   "codemirror_mode": {
    "name": "ipython",
    "version": 3
   },
   "file_extension": ".py",
   "mimetype": "text/x-python",
   "name": "python",
   "nbconvert_exporter": "python",
   "pygments_lexer": "ipython3",
   "version": "3.6.0"
  }
 },
 "nbformat": 4,
 "nbformat_minor": 2
}
