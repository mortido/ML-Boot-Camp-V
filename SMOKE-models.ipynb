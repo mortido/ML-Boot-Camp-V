{
 "cells": [
  {
   "cell_type": "code",
   "execution_count": 63,
   "metadata": {
    "collapsed": false
   },
   "outputs": [],
   "source": [
    "import pandas as pd\n",
    "import numpy as np\n",
    "\n",
    "import random\n",
    "\n",
    "import xgboost as xgb\n",
    "import lightgbm as lgb\n",
    "from sklearn.ensemble import RandomForestClassifier\n",
    "from sklearn.metrics import log_loss\n",
    "\n",
    "import matplotlib.pyplot as plt\n",
    "import seaborn as sns\n",
    "import gc\n",
    "import utils \n",
    "\n",
    "plt.style.use('ggplot')\n",
    "%matplotlib inline"
   ]
  },
  {
   "cell_type": "code",
   "execution_count": 8,
   "metadata": {
    "collapsed": false
   },
   "outputs": [],
   "source": [
    "train = pd.read_csv('train_original.csv', sep=';')\n",
    "test = pd.read_csv('test_original.csv', sep=';', na_values='None')\n",
    "\n",
    "train = utils.clean_data(train)\n",
    "test = utils.clean_data(test)\n",
    "\n",
    "train = utils.new_features(train)\n",
    "test = utils.new_features(test)\n",
    "\n",
    "TARGET = 'smoke'\n",
    "\n",
    "test['cardio'] = np.nan\n",
    "\n",
    "X = pd.concat((train, test), axis=0)\n",
    "X_train = X.loc[~X[TARGET].isnull()]\n",
    "y_train = X_train[TARGET].values.ravel()\n",
    "X_train = X_train.drop(TARGET, axis=1)\n",
    "\n",
    "X_test1 = train.loc[train[TARGET].isnull()].drop(TARGET, axis=1)\n",
    "X_test2 = test.loc[test[TARGET].isnull()].drop(TARGET, axis=1)"
   ]
  },
  {
   "cell_type": "code",
   "execution_count": 9,
   "metadata": {
    "collapsed": false
   },
   "outputs": [],
   "source": [
    "from sklearn.pipeline import Pipeline, FeatureUnion\n",
    "    \n",
    "class ColumnsFilter:\n",
    "    def __init__(self, columns):\n",
    "        self.columns = columns\n",
    "    \n",
    "    def fit(self, X, y=None):\n",
    "#         print(X.__class__)\n",
    "        return self\n",
    "    \n",
    "    def transform(self, X):\n",
    "        return X[self.columns]\n",
    "    \n",
    "class LogLog:\n",
    "    def __init__(self):\n",
    "        self.columns = 1\n",
    "    \n",
    "    def fit(self, X, y=None):\n",
    "        print(X[:4])\n",
    "        return self\n",
    "    \n",
    "    def transform(self, X):\n",
    "        return X\n",
    "    \n",
    "class SmoothLikelihood:\n",
    "    def __init__(self, columns, glob_mean_value, kf, alpha=13):\n",
    "        self.columns = columns\n",
    "        self.glob_mean_value = glob_mean_value\n",
    "        self.alpha = alpha\n",
    "        self.kf = kf\n",
    "        if isinstance(columns, (list, tuple)):\n",
    "            self.new_column = '_'.join(columns) + '_target_mean'\n",
    "            self.columns = columns\n",
    "        else:\n",
    "            self.new_column = columns + '_target_mean'\n",
    "            self.columns = [columns]\n",
    "    \n",
    "    def fit_transform(self, X, y):\n",
    "        X=X.copy()\n",
    "        X['target'] = y\n",
    "        \n",
    "        def calc(x):\n",
    "            return (x['sum'] + self.glob_mean_value * self.alpha) / (x['count'] + self.alpha)\n",
    "        result = np.zeros(X.shape[0])\n",
    "        for itr, ite in self.kf.split(X, y):\n",
    "            tr = X.iloc[itr]\n",
    "            te = X.iloc[ite]\n",
    "            \n",
    "            temp = tr.groupby(self.columns)['target'].agg([\"count\", \"sum\"])\n",
    "            value_dict = temp.apply(calc, axis=1).to_dict()\n",
    "\n",
    "            result[ite] = te[self.columns].apply(lambda x: value_dict.get(tuple(x.values), self.glob_mean_value), axis=1)\n",
    "\n",
    "        result = pd.DataFrame(result, columns=[self.new_column])\n",
    "        \n",
    "        temp = X.groupby(self.columns)['target'].agg([\"count\", \"sum\"])\n",
    "        self.value_dict = temp.apply(calc, axis=1).to_dict()\n",
    "#         X.drop('target', axis=1, inplace=True)\n",
    "        return result\n",
    "    \n",
    "    def transform(self, X):\n",
    "        result = pd.DataFrame()\n",
    "        result[self.new_column] = X[self.columns].apply(lambda x: self.value_dict.get(tuple(x.values), self.glob_mean_value), axis=1)\n",
    "        return result"
   ]
  },
  {
   "cell_type": "code",
   "execution_count": 10,
   "metadata": {
    "collapsed": false
   },
   "outputs": [
    {
     "name": "stdout",
     "output_type": "stream",
     "text": [
      "0.922470865881\n"
     ]
    }
   ],
   "source": [
    "from sklearn.model_selection import StratifiedKFold\n",
    "\n",
    "# a = SmoothLikelihood(['alco', 'gluc'], 0.08804784985046922, )\n",
    "# a.fit_transform(X_train, y_train)\n",
    "\n",
    "kf = StratifiedKFold(random_state=44444, n_splits=10, shuffle=True)\n",
    "combined_features = FeatureUnion([(\"filter\", ColumnsFilter([\n",
    "    'age_group', 'gender', 'weight', 'ap_hi', 'ap_lo', 'cholesterol','alco', 'active', 'gluc', 'BMI','error_group', 'ap_dif', 'MAP'\n",
    "])),\n",
    "#                                   (\"mean_1\", SmoothLikelihood(['alco', 'active'], 0.08804784985046922, kf=kf, alpha=13))\n",
    "                                 ])\n",
    "\n",
    "# # Use combined features to transform dataset:\n",
    "# X_features = combined_features.fit(X, y).transform(X)\n",
    "\n",
    "# svm = SVC(kernel=\"linear\")\n",
    "\n",
    "# # Do grid search over k, n_components and C:\n",
    "\n",
    "pipeline = Pipeline([ (\"features\", combined_features), (\"model\", xgb.XGBClassifier(**{\n",
    "                                                                    'colsample_bytree': 0.8,\n",
    "                                                                    'learning_rate': 0.1,\n",
    "                                                                    'n_estimators': 200,\n",
    "                                                                    'subsample': 0.8,\n",
    "                                                                    'n_jobs': 1,\n",
    "                                                                    'random_state': 2707,\n",
    "                                                                    'silent': True,}))])\n",
    "from sklearn.model_selection import cross_val_score\n",
    "print(np.mean(cross_val_score(pipeline, X_train, y_train, cv=kf)))"
   ]
  },
  {
   "cell_type": "code",
   "execution_count": null,
   "metadata": {
    "collapsed": true
   },
   "outputs": [],
   "source": [
    "0.922450250517"
   ]
  },
  {
   "cell_type": "code",
   "execution_count": 1,
   "metadata": {
    "collapsed": false
   },
   "outputs": [
    {
     "data": {
      "text/plain": [
       "0.9119521501495308"
      ]
     },
     "execution_count": 1,
     "metadata": {},
     "output_type": "execute_result"
    }
   ],
   "source": [
    "1-0.08804784985046922"
   ]
  },
  {
   "cell_type": "code",
   "execution_count": 14,
   "metadata": {
    "collapsed": false
   },
   "outputs": [
    {
     "data": {
      "text/plain": [
       "0.08804784985046922"
      ]
     },
     "execution_count": 14,
     "metadata": {},
     "output_type": "execute_result"
    }
   ],
   "source": [
    "y_train.mean()"
   ]
  },
  {
   "cell_type": "code",
   "execution_count": 12,
   "metadata": {
    "collapsed": false,
    "scrolled": false
   },
   "outputs": [
    {
     "ename": "ValueError",
     "evalue": "cannot reindex from a duplicate axis",
     "output_type": "error",
     "traceback": [
      "\u001b[0;31m------------------------------------------------------------\u001b[0m",
      "\u001b[0;31mValueError\u001b[0m                 Traceback (most recent call last)",
      "\u001b[0;32m<ipython-input-12-0394da0e4fc6>\u001b[0m in \u001b[0;36m<module>\u001b[0;34m()\u001b[0m\n\u001b[1;32m     17\u001b[0m               \u001b[0mn_folds\u001b[0m \u001b[1;33m=\u001b[0m \u001b[1;36m7\u001b[0m\u001b[1;33m,\u001b[0m\u001b[1;33m\u001b[0m\u001b[0m\n\u001b[1;32m     18\u001b[0m \u001b[1;31m#               stratification_groups=rew,\u001b[0m\u001b[1;33m\u001b[0m\u001b[1;33m\u001b[0m\u001b[0m\n\u001b[0;32m---> 19\u001b[0;31m               \u001b[0malpha\u001b[0m \u001b[1;33m=\u001b[0m \u001b[1;36m13\u001b[0m\u001b[1;33m,\u001b[0m\u001b[1;33m\u001b[0m\u001b[0m\n\u001b[0m\u001b[1;32m     20\u001b[0m              )\n\u001b[1;32m     21\u001b[0m \u001b[0mgc\u001b[0m\u001b[1;33m.\u001b[0m\u001b[0mcollect\u001b[0m\u001b[1;33m(\u001b[0m\u001b[1;33m)\u001b[0m\u001b[1;33m\u001b[0m\u001b[0m\n",
      "\u001b[0;32mD:\\Projects\\ML Bootcamp V\\utils.py\u001b[0m in \u001b[0;36mexecute_model\u001b[0;34m(estimator, X_train, y_train, X_test, use_columns, mean_columns, model_name, n_folds, n_splits, create_callback, verbose, seed, stratification_groups, alpha)\u001b[0m\n\u001b[1;32m    194\u001b[0m                                                     \u001b[0mmean_columns\u001b[0m\u001b[1;33m=\u001b[0m\u001b[0mmean_columns\u001b[0m\u001b[1;33m,\u001b[0m\u001b[1;33m\u001b[0m\u001b[0m\n\u001b[1;32m    195\u001b[0m                                                     \u001b[0mdrop_columns\u001b[0m\u001b[1;33m=\u001b[0m\u001b[0mdrop_columns\u001b[0m\u001b[1;33m,\u001b[0m\u001b[1;33m\u001b[0m\u001b[0m\n\u001b[0;32m--> 196\u001b[0;31m                                                     alpha=alpha)\n\u001b[0m\u001b[1;32m    197\u001b[0m         \u001b[0mfold_logloss\u001b[0m\u001b[1;33m.\u001b[0m\u001b[0mappend\u001b[0m\u001b[1;33m(\u001b[0m\u001b[0mlog_loss\u001b[0m\u001b[1;33m(\u001b[0m\u001b[0my_train\u001b[0m\u001b[1;33m[\u001b[0m\u001b[0mtest_idx\u001b[0m\u001b[1;33m]\u001b[0m\u001b[1;33m,\u001b[0m \u001b[0mtrain_predict\u001b[0m\u001b[1;33m[\u001b[0m\u001b[0mtest_idx\u001b[0m\u001b[1;33m]\u001b[0m\u001b[1;33m)\u001b[0m\u001b[1;33m)\u001b[0m\u001b[1;33m\u001b[0m\u001b[0m\n\u001b[1;32m    198\u001b[0m \u001b[1;33m\u001b[0m\u001b[0m\n",
      "\u001b[0;32mD:\\Projects\\ML Bootcamp V\\utils.py\u001b[0m in \u001b[0;36mfit_predict_model\u001b[0;34m(create_callback, X_train, y_train, X_test, alpha, mean_columns, drop_columns)\u001b[0m\n\u001b[1;32m    149\u001b[0m \u001b[1;32mdef\u001b[0m \u001b[0mfit_predict_model\u001b[0m\u001b[1;33m(\u001b[0m\u001b[0mcreate_callback\u001b[0m\u001b[1;33m,\u001b[0m \u001b[0mX_train\u001b[0m\u001b[1;33m,\u001b[0m \u001b[0my_train\u001b[0m\u001b[1;33m,\u001b[0m \u001b[0mX_test\u001b[0m\u001b[1;33m,\u001b[0m \u001b[0malpha\u001b[0m\u001b[1;33m,\u001b[0m \u001b[0mmean_columns\u001b[0m\u001b[1;33m=\u001b[0m\u001b[1;33m[\u001b[0m\u001b[1;33m]\u001b[0m\u001b[1;33m,\u001b[0m \u001b[0mdrop_columns\u001b[0m\u001b[1;33m=\u001b[0m\u001b[1;33m[\u001b[0m\u001b[1;33m]\u001b[0m\u001b[1;33m)\u001b[0m\u001b[1;33m:\u001b[0m\u001b[1;33m\u001b[0m\u001b[0m\n\u001b[1;32m    150\u001b[0m     \u001b[0mgc\u001b[0m\u001b[1;33m.\u001b[0m\u001b[0mcollect\u001b[0m\u001b[1;33m(\u001b[0m\u001b[1;33m)\u001b[0m\u001b[1;33m\u001b[0m\u001b[0m\n\u001b[0;32m--> 151\u001b[0;31m     \u001b[0mx1\u001b[0m\u001b[1;33m,\u001b[0m \u001b[0mx2\u001b[0m \u001b[1;33m=\u001b[0m \u001b[0mpopulate_mean_columns\u001b[0m\u001b[1;33m(\u001b[0m\u001b[0mX_train\u001b[0m\u001b[1;33m,\u001b[0m \u001b[0my_train\u001b[0m\u001b[1;33m,\u001b[0m \u001b[0mX_test\u001b[0m\u001b[1;33m,\u001b[0m \u001b[0mmean_columns\u001b[0m\u001b[1;33m,\u001b[0m \u001b[0malpha\u001b[0m\u001b[1;33m=\u001b[0m\u001b[0malpha\u001b[0m\u001b[1;33m)\u001b[0m\u001b[1;33m\u001b[0m\u001b[0m\n\u001b[0m\u001b[1;32m    152\u001b[0m     \u001b[0mx1\u001b[0m\u001b[1;33m.\u001b[0m\u001b[0mdrop\u001b[0m\u001b[1;33m(\u001b[0m\u001b[0mdrop_columns\u001b[0m\u001b[1;33m,\u001b[0m \u001b[0maxis\u001b[0m\u001b[1;33m=\u001b[0m\u001b[1;36m1\u001b[0m\u001b[1;33m,\u001b[0m \u001b[0minplace\u001b[0m\u001b[1;33m=\u001b[0m\u001b[1;32mTrue\u001b[0m\u001b[1;33m)\u001b[0m\u001b[1;33m\u001b[0m\u001b[0m\n\u001b[1;32m    153\u001b[0m     \u001b[0mx2\u001b[0m\u001b[1;33m.\u001b[0m\u001b[0mdrop\u001b[0m\u001b[1;33m(\u001b[0m\u001b[0mdrop_columns\u001b[0m\u001b[1;33m,\u001b[0m \u001b[0maxis\u001b[0m\u001b[1;33m=\u001b[0m\u001b[1;36m1\u001b[0m\u001b[1;33m,\u001b[0m \u001b[0minplace\u001b[0m\u001b[1;33m=\u001b[0m\u001b[1;32mTrue\u001b[0m\u001b[1;33m)\u001b[0m\u001b[1;33m\u001b[0m\u001b[0m\n",
      "\u001b[0;32mD:\\Projects\\ML Bootcamp V\\utils.py\u001b[0m in \u001b[0;36mpopulate_mean_columns\u001b[0;34m(x_train, y_train, x_test, columns, alpha, n_splits)\u001b[0m\n\u001b[1;32m    138\u001b[0m         extentions = get_mean_columns(x_train.iloc[train_idx], y_train[train_idx], x_train.iloc[test_idx], columns,\n\u001b[1;32m    139\u001b[0m                                       alpha)\n\u001b[0;32m--> 140\u001b[0;31m         \u001b[0mx_train\u001b[0m\u001b[1;33m.\u001b[0m\u001b[0mloc\u001b[0m\u001b[1;33m[\u001b[0m\u001b[0mx_train\u001b[0m\u001b[1;33m.\u001b[0m\u001b[0mindex\u001b[0m\u001b[1;33m[\u001b[0m\u001b[0mtest_idx\u001b[0m\u001b[1;33m]\u001b[0m\u001b[1;33m,\u001b[0m \u001b[0mextentions\u001b[0m\u001b[1;33m.\u001b[0m\u001b[0mcolumns\u001b[0m\u001b[1;33m]\u001b[0m \u001b[1;33m=\u001b[0m \u001b[0mextentions\u001b[0m\u001b[1;33m\u001b[0m\u001b[0m\n\u001b[0m\u001b[1;32m    141\u001b[0m \u001b[1;33m\u001b[0m\u001b[0m\n\u001b[1;32m    142\u001b[0m     \u001b[1;32mreturn\u001b[0m \u001b[0mx_train\u001b[0m\u001b[1;33m,\u001b[0m \u001b[0mx_test\u001b[0m\u001b[1;33m\u001b[0m\u001b[0m\n",
      "\u001b[0;32mD:\\ProgramData\\Anaconda3\\lib\\site-packages\\pandas\\core\\indexing.py\u001b[0m in \u001b[0;36m__setitem__\u001b[0;34m(self, key, value)\u001b[0m\n\u001b[1;32m    177\u001b[0m             \u001b[0mkey\u001b[0m \u001b[1;33m=\u001b[0m \u001b[0mcom\u001b[0m\u001b[1;33m.\u001b[0m\u001b[0m_apply_if_callable\u001b[0m\u001b[1;33m(\u001b[0m\u001b[0mkey\u001b[0m\u001b[1;33m,\u001b[0m \u001b[0mself\u001b[0m\u001b[1;33m.\u001b[0m\u001b[0mobj\u001b[0m\u001b[1;33m)\u001b[0m\u001b[1;33m\u001b[0m\u001b[0m\n\u001b[1;32m    178\u001b[0m         \u001b[0mindexer\u001b[0m \u001b[1;33m=\u001b[0m \u001b[0mself\u001b[0m\u001b[1;33m.\u001b[0m\u001b[0m_get_setitem_indexer\u001b[0m\u001b[1;33m(\u001b[0m\u001b[0mkey\u001b[0m\u001b[1;33m)\u001b[0m\u001b[1;33m\u001b[0m\u001b[0m\n\u001b[0;32m--> 179\u001b[0;31m         \u001b[0mself\u001b[0m\u001b[1;33m.\u001b[0m\u001b[0m_setitem_with_indexer\u001b[0m\u001b[1;33m(\u001b[0m\u001b[0mindexer\u001b[0m\u001b[1;33m,\u001b[0m \u001b[0mvalue\u001b[0m\u001b[1;33m)\u001b[0m\u001b[1;33m\u001b[0m\u001b[0m\n\u001b[0m\u001b[1;32m    180\u001b[0m \u001b[1;33m\u001b[0m\u001b[0m\n\u001b[1;32m    181\u001b[0m     \u001b[1;32mdef\u001b[0m \u001b[0m_has_valid_type\u001b[0m\u001b[1;33m(\u001b[0m\u001b[0mself\u001b[0m\u001b[1;33m,\u001b[0m \u001b[0mk\u001b[0m\u001b[1;33m,\u001b[0m \u001b[0maxis\u001b[0m\u001b[1;33m)\u001b[0m\u001b[1;33m:\u001b[0m\u001b[1;33m\u001b[0m\u001b[0m\n",
      "\u001b[0;32mD:\\ProgramData\\Anaconda3\\lib\\site-packages\\pandas\\core\\indexing.py\u001b[0m in \u001b[0;36m_setitem_with_indexer\u001b[0;34m(self, indexer, value)\u001b[0m\n\u001b[1;32m    548\u001b[0m                             v = self._align_series(\n\u001b[1;32m    549\u001b[0m                                 \u001b[0mtuple\u001b[0m\u001b[1;33m(\u001b[0m\u001b[0msub_indexer\u001b[0m\u001b[1;33m)\u001b[0m\u001b[1;33m,\u001b[0m \u001b[0mvalue\u001b[0m\u001b[1;33m[\u001b[0m\u001b[0mitem\u001b[0m\u001b[1;33m]\u001b[0m\u001b[1;33m,\u001b[0m\u001b[1;33m\u001b[0m\u001b[0m\n\u001b[0;32m--> 550\u001b[0;31m                                 multiindex_indexer)\n\u001b[0m\u001b[1;32m    551\u001b[0m                         \u001b[1;32melse\u001b[0m\u001b[1;33m:\u001b[0m\u001b[1;33m\u001b[0m\u001b[0m\n\u001b[1;32m    552\u001b[0m                             \u001b[0mv\u001b[0m \u001b[1;33m=\u001b[0m \u001b[0mnp\u001b[0m\u001b[1;33m.\u001b[0m\u001b[0mnan\u001b[0m\u001b[1;33m\u001b[0m\u001b[0m\n",
      "\u001b[0;32mD:\\ProgramData\\Anaconda3\\lib\\site-packages\\pandas\\core\\indexing.py\u001b[0m in \u001b[0;36m_align_series\u001b[0;34m(self, indexer, ser, multiindex_indexer)\u001b[0m\n\u001b[1;32m    700\u001b[0m                         \u001b[1;32mreturn\u001b[0m \u001b[0mser\u001b[0m\u001b[1;33m.\u001b[0m\u001b[0m_values\u001b[0m\u001b[1;33m.\u001b[0m\u001b[0mcopy\u001b[0m\u001b[1;33m(\u001b[0m\u001b[1;33m)\u001b[0m\u001b[1;33m\u001b[0m\u001b[0m\n\u001b[1;32m    701\u001b[0m \u001b[1;33m\u001b[0m\u001b[0m\n\u001b[0;32m--> 702\u001b[0;31m                     \u001b[1;32mreturn\u001b[0m \u001b[0mser\u001b[0m\u001b[1;33m.\u001b[0m\u001b[0mreindex\u001b[0m\u001b[1;33m(\u001b[0m\u001b[0mnew_ix\u001b[0m\u001b[1;33m)\u001b[0m\u001b[1;33m.\u001b[0m\u001b[0m_values\u001b[0m\u001b[1;33m\u001b[0m\u001b[0m\n\u001b[0m\u001b[1;32m    703\u001b[0m \u001b[1;33m\u001b[0m\u001b[0m\n\u001b[1;32m    704\u001b[0m                 \u001b[1;31m# 2 dims\u001b[0m\u001b[1;33m\u001b[0m\u001b[1;33m\u001b[0m\u001b[0m\n",
      "\u001b[0;32mD:\\ProgramData\\Anaconda3\\lib\\site-packages\\pandas\\core\\series.py\u001b[0m in \u001b[0;36mreindex\u001b[0;34m(self, index, **kwargs)\u001b[0m\n\u001b[1;32m   2424\u001b[0m     \u001b[1;33m@\u001b[0m\u001b[0mAppender\u001b[0m\u001b[1;33m(\u001b[0m\u001b[0mgeneric\u001b[0m\u001b[1;33m.\u001b[0m\u001b[0m_shared_docs\u001b[0m\u001b[1;33m[\u001b[0m\u001b[1;34m'reindex'\u001b[0m\u001b[1;33m]\u001b[0m \u001b[1;33m%\u001b[0m \u001b[0m_shared_doc_kwargs\u001b[0m\u001b[1;33m)\u001b[0m\u001b[1;33m\u001b[0m\u001b[0m\n\u001b[1;32m   2425\u001b[0m     \u001b[1;32mdef\u001b[0m \u001b[0mreindex\u001b[0m\u001b[1;33m(\u001b[0m\u001b[0mself\u001b[0m\u001b[1;33m,\u001b[0m \u001b[0mindex\u001b[0m\u001b[1;33m=\u001b[0m\u001b[1;32mNone\u001b[0m\u001b[1;33m,\u001b[0m \u001b[1;33m**\u001b[0m\u001b[0mkwargs\u001b[0m\u001b[1;33m)\u001b[0m\u001b[1;33m:\u001b[0m\u001b[1;33m\u001b[0m\u001b[0m\n\u001b[0;32m-> 2426\u001b[0;31m         \u001b[1;32mreturn\u001b[0m \u001b[0msuper\u001b[0m\u001b[1;33m(\u001b[0m\u001b[0mSeries\u001b[0m\u001b[1;33m,\u001b[0m \u001b[0mself\u001b[0m\u001b[1;33m)\u001b[0m\u001b[1;33m.\u001b[0m\u001b[0mreindex\u001b[0m\u001b[1;33m(\u001b[0m\u001b[0mindex\u001b[0m\u001b[1;33m=\u001b[0m\u001b[0mindex\u001b[0m\u001b[1;33m,\u001b[0m \u001b[1;33m**\u001b[0m\u001b[0mkwargs\u001b[0m\u001b[1;33m)\u001b[0m\u001b[1;33m\u001b[0m\u001b[0m\n\u001b[0m\u001b[1;32m   2427\u001b[0m \u001b[1;33m\u001b[0m\u001b[0m\n\u001b[1;32m   2428\u001b[0m     \u001b[1;33m@\u001b[0m\u001b[0mAppender\u001b[0m\u001b[1;33m(\u001b[0m\u001b[0mgeneric\u001b[0m\u001b[1;33m.\u001b[0m\u001b[0m_shared_docs\u001b[0m\u001b[1;33m[\u001b[0m\u001b[1;34m'fillna'\u001b[0m\u001b[1;33m]\u001b[0m \u001b[1;33m%\u001b[0m \u001b[0m_shared_doc_kwargs\u001b[0m\u001b[1;33m)\u001b[0m\u001b[1;33m\u001b[0m\u001b[0m\n",
      "\u001b[0;32mD:\\ProgramData\\Anaconda3\\lib\\site-packages\\pandas\\core\\generic.py\u001b[0m in \u001b[0;36mreindex\u001b[0;34m(self, *args, **kwargs)\u001b[0m\n\u001b[1;32m   2513\u001b[0m         \u001b[1;31m# perform the reindex on the axes\u001b[0m\u001b[1;33m\u001b[0m\u001b[1;33m\u001b[0m\u001b[0m\n\u001b[1;32m   2514\u001b[0m         return self._reindex_axes(axes, level, limit, tolerance, method,\n\u001b[0;32m-> 2515\u001b[0;31m                                   fill_value, copy).__finalize__(self)\n\u001b[0m\u001b[1;32m   2516\u001b[0m \u001b[1;33m\u001b[0m\u001b[0m\n\u001b[1;32m   2517\u001b[0m     def _reindex_axes(self, axes, level, limit, tolerance, method, fill_value,\n",
      "\u001b[0;32mD:\\ProgramData\\Anaconda3\\lib\\site-packages\\pandas\\core\\generic.py\u001b[0m in \u001b[0;36m_reindex_axes\u001b[0;34m(self, axes, level, limit, tolerance, method, fill_value, copy)\u001b[0m\n\u001b[1;32m   2531\u001b[0m             obj = obj._reindex_with_indexers({axis: [new_index, indexer]},\n\u001b[1;32m   2532\u001b[0m                                              \u001b[0mfill_value\u001b[0m\u001b[1;33m=\u001b[0m\u001b[0mfill_value\u001b[0m\u001b[1;33m,\u001b[0m\u001b[1;33m\u001b[0m\u001b[0m\n\u001b[0;32m-> 2533\u001b[0;31m                                              copy=copy, allow_dups=False)\n\u001b[0m\u001b[1;32m   2534\u001b[0m \u001b[1;33m\u001b[0m\u001b[0m\n\u001b[1;32m   2535\u001b[0m         \u001b[1;32mreturn\u001b[0m \u001b[0mobj\u001b[0m\u001b[1;33m\u001b[0m\u001b[0m\n",
      "\u001b[0;32mD:\\ProgramData\\Anaconda3\\lib\\site-packages\\pandas\\core\\generic.py\u001b[0m in \u001b[0;36m_reindex_with_indexers\u001b[0;34m(self, reindexers, fill_value, copy, allow_dups)\u001b[0m\n\u001b[1;32m   2625\u001b[0m                                                 \u001b[0mfill_value\u001b[0m\u001b[1;33m=\u001b[0m\u001b[0mfill_value\u001b[0m\u001b[1;33m,\u001b[0m\u001b[1;33m\u001b[0m\u001b[0m\n\u001b[1;32m   2626\u001b[0m                                                 \u001b[0mallow_dups\u001b[0m\u001b[1;33m=\u001b[0m\u001b[0mallow_dups\u001b[0m\u001b[1;33m,\u001b[0m\u001b[1;33m\u001b[0m\u001b[0m\n\u001b[0;32m-> 2627\u001b[0;31m                                                 copy=copy)\n\u001b[0m\u001b[1;32m   2628\u001b[0m \u001b[1;33m\u001b[0m\u001b[0m\n\u001b[1;32m   2629\u001b[0m         \u001b[1;32mif\u001b[0m \u001b[0mcopy\u001b[0m \u001b[1;32mand\u001b[0m \u001b[0mnew_data\u001b[0m \u001b[1;32mis\u001b[0m \u001b[0mself\u001b[0m\u001b[1;33m.\u001b[0m\u001b[0m_data\u001b[0m\u001b[1;33m:\u001b[0m\u001b[1;33m\u001b[0m\u001b[0m\n",
      "\u001b[0;32mD:\\ProgramData\\Anaconda3\\lib\\site-packages\\pandas\\core\\internals.py\u001b[0m in \u001b[0;36mreindex_indexer\u001b[0;34m(self, new_axis, indexer, axis, fill_value, allow_dups, copy)\u001b[0m\n\u001b[1;32m   3884\u001b[0m         \u001b[1;31m# some axes don't allow reindexing with dups\u001b[0m\u001b[1;33m\u001b[0m\u001b[1;33m\u001b[0m\u001b[0m\n\u001b[1;32m   3885\u001b[0m         \u001b[1;32mif\u001b[0m \u001b[1;32mnot\u001b[0m \u001b[0mallow_dups\u001b[0m\u001b[1;33m:\u001b[0m\u001b[1;33m\u001b[0m\u001b[0m\n\u001b[0;32m-> 3886\u001b[0;31m             \u001b[0mself\u001b[0m\u001b[1;33m.\u001b[0m\u001b[0maxes\u001b[0m\u001b[1;33m[\u001b[0m\u001b[0maxis\u001b[0m\u001b[1;33m]\u001b[0m\u001b[1;33m.\u001b[0m\u001b[0m_can_reindex\u001b[0m\u001b[1;33m(\u001b[0m\u001b[0mindexer\u001b[0m\u001b[1;33m)\u001b[0m\u001b[1;33m\u001b[0m\u001b[0m\n\u001b[0m\u001b[1;32m   3887\u001b[0m \u001b[1;33m\u001b[0m\u001b[0m\n\u001b[1;32m   3888\u001b[0m         \u001b[1;32mif\u001b[0m \u001b[0maxis\u001b[0m \u001b[1;33m>=\u001b[0m \u001b[0mself\u001b[0m\u001b[1;33m.\u001b[0m\u001b[0mndim\u001b[0m\u001b[1;33m:\u001b[0m\u001b[1;33m\u001b[0m\u001b[0m\n",
      "\u001b[0;32mD:\\ProgramData\\Anaconda3\\lib\\site-packages\\pandas\\core\\indexes\\base.py\u001b[0m in \u001b[0;36m_can_reindex\u001b[0;34m(self, indexer)\u001b[0m\n\u001b[1;32m   2834\u001b[0m         \u001b[1;31m# trying to reindex on an axis with duplicates\u001b[0m\u001b[1;33m\u001b[0m\u001b[1;33m\u001b[0m\u001b[0m\n\u001b[1;32m   2835\u001b[0m         \u001b[1;32mif\u001b[0m \u001b[1;32mnot\u001b[0m \u001b[0mself\u001b[0m\u001b[1;33m.\u001b[0m\u001b[0mis_unique\u001b[0m \u001b[1;32mand\u001b[0m \u001b[0mlen\u001b[0m\u001b[1;33m(\u001b[0m\u001b[0mindexer\u001b[0m\u001b[1;33m)\u001b[0m\u001b[1;33m:\u001b[0m\u001b[1;33m\u001b[0m\u001b[0m\n\u001b[0;32m-> 2836\u001b[0;31m             \u001b[1;32mraise\u001b[0m \u001b[0mValueError\u001b[0m\u001b[1;33m(\u001b[0m\u001b[1;34m\"cannot reindex from a duplicate axis\"\u001b[0m\u001b[1;33m)\u001b[0m\u001b[1;33m\u001b[0m\u001b[0m\n\u001b[0m\u001b[1;32m   2837\u001b[0m \u001b[1;33m\u001b[0m\u001b[0m\n\u001b[1;32m   2838\u001b[0m     def reindex(self, target, method=None, level=None, limit=None,\n",
      "\u001b[0;31mValueError\u001b[0m: cannot reindex from a duplicate axis"
     ]
    }
   ],
   "source": [
    "params = {\n",
    "    'colsample_bytree': 0.8,\n",
    "    'learning_rate': 0.1,\n",
    "    'n_estimators': 224,\n",
    "    'subsample': 0.8,\n",
    "    \n",
    "    'n_jobs': 1,\n",
    "    'random_state': 2707,\n",
    "    'silent': True,\n",
    "}\n",
    "\n",
    "utils.execute_model(xgb.XGBClassifier(**params),\n",
    "              X_train,\n",
    "              y_train,\n",
    "              mean_columns = mean_columns,\n",
    "              use_columns = use_columns,\n",
    "              n_folds = 7,\n",
    "#               stratification_groups=rew,\n",
    "              alpha = 13,\n",
    "             )\n",
    "gc.collect()"
   ]
  },
  {
   "cell_type": "markdown",
   "metadata": {
    "collapsed": true
   },
   "source": [
    "# TUNE XGB"
   ]
  },
  {
   "cell_type": "code",
   "execution_count": 52,
   "metadata": {
    "collapsed": true
   },
   "outputs": [],
   "source": [
    "from sklearn.base import clone\n",
    "from sklearn.metrics import log_loss, accuracy_score\n",
    "\n",
    "def modelfit(estimator, X_train, y_train, X_test=None, fit_params=None, n_splits=7, early_stopping_rounds=200):\n",
    "    if fit_params is None:\n",
    "        # fit_params = {'eval_metric':'error'} # for lgb\n",
    "        fit_params = {'eval_metric':'error'} # for xgb\n",
    "#         fit_params = {} # default\n",
    "    else:\n",
    "        fit_params = fit_params.copy()\n",
    "    fit_params['early_stopping_rounds'] = early_stopping_rounds\n",
    "    fit_params['verbose'] = False\n",
    "    \n",
    "    np.random.seed(1205)\n",
    "    random.seed(1205)\n",
    "\n",
    "    kf = StratifiedKFold(random_state=1205, n_splits=n_splits, shuffle=True)\n",
    "    accuracy = []\n",
    "    logloss = []\n",
    "\n",
    "    dummies = pd.get_dummies(y_train)\n",
    "    train_result = np.zeros(dummies.shape)\n",
    "    X_train = pd.DataFrame(X_train)\n",
    "    \n",
    "    best_iterations = []\n",
    "    for train_idx, test_idx in kf.split(X_train, y_train):\n",
    "        clf = clone(estimator)\n",
    "\n",
    "        eval_set = [(X_train.iloc[test_idx], y_train[test_idx])]\n",
    "        clf.fit(X_train.iloc[train_idx], y_train[train_idx], eval_set=eval_set, **fit_params)\n",
    "        #best_iterations.append(clf.best_iteration) # for lgb\n",
    "        best_iterations.append(clf.best_ntree_limit) # for xgboost\n",
    "        \n",
    "        train_result[test_idx] = clf.predict_proba(X_train.iloc[test_idx])\n",
    "        logloss.append(log_loss(dummies.iloc[test_idx], train_result[test_idx]))\n",
    "        accuracy.append(accuracy_score(y_train[test_idx], np.argmax(train_result[test_idx], axis=1)))\n",
    "\n",
    "    print(\"N:\", max(best_iterations), best_iterations)\n",
    "    print(\"Accuracy:\")\n",
    "    print(accuracy)\n",
    "    print(\"mean:\", np.mean(accuracy))\n",
    "    print(\"std:\", np.std(accuracy))\n",
    "    print(\"\")\n",
    "    print(\"Logloss:\")\n",
    "    print(logloss)\n",
    "    print(\"mean:\", np.mean(logloss))\n",
    "    print(\"std:\", np.std(logloss))\n",
    "    return max(best_iterations)"
   ]
  },
  {
   "cell_type": "code",
   "execution_count": 25,
   "metadata": {
    "collapsed": false
   },
   "outputs": [],
   "source": [
    "X = X_train[['age_group', 'gender', 'weight', 'ap_hi', 'ap_lo', 'cholesterol','alco', 'active', 'gluc', 'BMI','error_group', 'ap_dif', 'MAP']]\n",
    "Y = y_train"
   ]
  },
  {
   "cell_type": "code",
   "execution_count": 26,
   "metadata": {
    "collapsed": false
   },
   "outputs": [
    {
     "name": "stdout",
     "output_type": "stream",
     "text": [
      "N: 68 [19, 32, 9, 21, 40, 68, 46]\n",
      "Accuracy:\n",
      "[0.92023964198065544, 0.92261603984696461, 0.92211073413701006, 0.92138886883707505, 0.92369883779686712, 0.92282702858792953, 0.92196072769275195]\n",
      "mean: 0.922120268411\n",
      "std: 0.00102360886928\n",
      "\n",
      "Logloss:\n",
      "[0.22262724967405112, 0.21999449234965551, 0.2176888377914184, 0.21807458964031337, 0.21174351501354258, 0.22160328862356402, 0.22142029667248339]\n",
      "mean: 0.219021752824\n",
      "std: 0.003422816209\n"
     ]
    }
   ],
   "source": [
    "xgb1 = xgb.XGBClassifier(\n",
    " learning_rate =0.1,\n",
    " n_estimators=1000,\n",
    " max_depth=5,\n",
    " min_child_weight=1,\n",
    " gamma=0,\n",
    " subsample=0.8,\n",
    " colsample_bytree=0.8,\n",
    "# objective='multi:softmax',\n",
    "# num_class=5,\n",
    " silent=True,\n",
    " nthread=1,\n",
    "\n",
    " seed=2707)\n",
    "\n",
    "best_n_estimators = modelfit(xgb1, X, Y)"
   ]
  },
  {
   "cell_type": "code",
   "execution_count": 27,
   "metadata": {
    "collapsed": true
   },
   "outputs": [],
   "source": [
    "kf = StratifiedKFold(random_state=2, n_splits=7, shuffle=True)"
   ]
  },
  {
   "cell_type": "code",
   "execution_count": 28,
   "metadata": {
    "collapsed": true
   },
   "outputs": [],
   "source": [
    "xgb2 = xgb.XGBClassifier(\n",
    "    learning_rate =0.1,\n",
    "    n_estimators=best_n_estimators,\n",
    "    max_depth=5,\n",
    "    min_child_weight=1,\n",
    "    gamma=0,\n",
    "    subsample=0.8,\n",
    "    colsample_bytree=0.8,\n",
    "    nthread=1,\n",
    "   \n",
    "    seed=1205\n",
    ")"
   ]
  },
  {
   "cell_type": "code",
   "execution_count": 29,
   "metadata": {
    "collapsed": true
   },
   "outputs": [],
   "source": [
    "from sklearn.model_selection import GridSearchCV"
   ]
  },
  {
   "cell_type": "code",
   "execution_count": 30,
   "metadata": {
    "collapsed": false
   },
   "outputs": [
    {
     "name": "stderr",
     "output_type": "stream",
     "text": [
      "C:\\ProgramData\\Anaconda3\\lib\\site-packages\\sklearn\\model_selection\\_search.py:667: DeprecationWarning: The grid_scores_ attribute was deprecated in version 0.18 in favor of the more elaborate cv_results_ attribute. The grid_scores_ attribute will not be available from 0.20\n",
      "  DeprecationWarning)\n"
     ]
    },
    {
     "data": {
      "text/plain": [
       "([mean: 0.92248, std: 0.00157, params: {'max_depth': 3, 'min_child_weight': 1},\n",
       "  mean: 0.92243, std: 0.00157, params: {'max_depth': 3, 'min_child_weight': 3},\n",
       "  mean: 0.92241, std: 0.00160, params: {'max_depth': 3, 'min_child_weight': 5},\n",
       "  mean: 0.92245, std: 0.00155, params: {'max_depth': 5, 'min_child_weight': 1},\n",
       "  mean: 0.92235, std: 0.00170, params: {'max_depth': 5, 'min_child_weight': 3},\n",
       "  mean: 0.92252, std: 0.00170, params: {'max_depth': 5, 'min_child_weight': 5},\n",
       "  mean: 0.92197, std: 0.00168, params: {'max_depth': 7, 'min_child_weight': 1},\n",
       "  mean: 0.92203, std: 0.00192, params: {'max_depth': 7, 'min_child_weight': 3},\n",
       "  mean: 0.92188, std: 0.00160, params: {'max_depth': 7, 'min_child_weight': 5},\n",
       "  mean: 0.92133, std: 0.00183, params: {'max_depth': 9, 'min_child_weight': 1},\n",
       "  mean: 0.92146, std: 0.00173, params: {'max_depth': 9, 'min_child_weight': 3},\n",
       "  mean: 0.92177, std: 0.00174, params: {'max_depth': 9, 'min_child_weight': 5}],\n",
       " {'max_depth': 5, 'min_child_weight': 5},\n",
       " 0.92252238797647312)"
      ]
     },
     "execution_count": 30,
     "metadata": {},
     "output_type": "execute_result"
    }
   ],
   "source": [
    "param_test1 = {\n",
    " 'max_depth':range(3,10,2),\n",
    " 'min_child_weight':range(1,6,2)\n",
    "}\n",
    "gsearch1 = GridSearchCV(estimator = xgb2, param_grid = param_test1, scoring='accuracy', n_jobs=1, iid=False, cv=kf)\n",
    "\n",
    "gsearch1.fit(X, Y)\n",
    "gsearch1.grid_scores_, gsearch1.best_params_, gsearch1.best_score_"
   ]
  },
  {
   "cell_type": "code",
   "execution_count": 32,
   "metadata": {
    "collapsed": false
   },
   "outputs": [
    {
     "name": "stderr",
     "output_type": "stream",
     "text": [
      "C:\\ProgramData\\Anaconda3\\lib\\site-packages\\sklearn\\model_selection\\_search.py:667: DeprecationWarning: The grid_scores_ attribute was deprecated in version 0.18 in favor of the more elaborate cv_results_ attribute. The grid_scores_ attribute will not be available from 0.20\n",
      "  DeprecationWarning)\n"
     ]
    },
    {
     "data": {
      "text/plain": [
       "([mean: 0.92235, std: 0.00168, params: {'max_depth': 4, 'min_child_weight': 4},\n",
       "  mean: 0.92234, std: 0.00172, params: {'max_depth': 4, 'min_child_weight': 5},\n",
       "  mean: 0.92244, std: 0.00172, params: {'max_depth': 4, 'min_child_weight': 6},\n",
       "  mean: 0.92231, std: 0.00168, params: {'max_depth': 5, 'min_child_weight': 4},\n",
       "  mean: 0.92252, std: 0.00170, params: {'max_depth': 5, 'min_child_weight': 5},\n",
       "  mean: 0.92246, std: 0.00156, params: {'max_depth': 5, 'min_child_weight': 6},\n",
       "  mean: 0.92219, std: 0.00167, params: {'max_depth': 6, 'min_child_weight': 4},\n",
       "  mean: 0.92213, std: 0.00176, params: {'max_depth': 6, 'min_child_weight': 5},\n",
       "  mean: 0.92214, std: 0.00169, params: {'max_depth': 6, 'min_child_weight': 6}],\n",
       " {'max_depth': 5, 'min_child_weight': 5},\n",
       " 0.92252238797647312)"
      ]
     },
     "execution_count": 32,
     "metadata": {},
     "output_type": "execute_result"
    }
   ],
   "source": [
    "param_test1 = {\n",
    " 'max_depth':[4,5,6],\n",
    " 'min_child_weight':[4,5,6]\n",
    "}\n",
    "gsearch1 = GridSearchCV(estimator = xgb2, param_grid = param_test1, scoring='accuracy', n_jobs=1, iid=False, cv=kf)\n",
    "\n",
    "gsearch1.fit(X, Y)\n",
    "gsearch1.grid_scores_, gsearch1.best_params_, gsearch1.best_score_"
   ]
  },
  {
   "cell_type": "code",
   "execution_count": 33,
   "metadata": {
    "collapsed": true
   },
   "outputs": [],
   "source": [
    "# CHECK THAT NOT EDGE CASES!\n",
    "best_max_depth = gsearch1.best_params_['max_depth']\n",
    "best_min_child_weight = gsearch1.best_params_['min_child_weight']"
   ]
  },
  {
   "cell_type": "code",
   "execution_count": 34,
   "metadata": {
    "collapsed": false
   },
   "outputs": [
    {
     "name": "stdout",
     "output_type": "stream",
     "text": [
      "N: 82 [37, 58, 9, 22, 36, 22, 82]\n",
      "Accuracy:\n",
      "[0.92052836725855347, 0.92254385331697109, 0.92268822637695802, 0.92174980148704255, 0.92348227820688655, 0.9230436038117239, 0.92196072769275195]\n",
      "mean: 0.92228526545\n",
      "std: 0.000903635472587\n",
      "\n",
      "Logloss:\n",
      "[0.2223168213889207, 0.22048724064221153, 0.21744168906518047, 0.21827879071262618, 0.21125888138282628, 0.22058107581549199, 0.22152339331034768]\n",
      "mean: 0.218841127474\n",
      "std: 0.00348009058341\n"
     ]
    }
   ],
   "source": [
    "xgb3 = xgb.XGBClassifier(\n",
    "    learning_rate =0.1,\n",
    "    n_estimators=1000,\n",
    "    max_depth=best_max_depth,\n",
    "    min_child_weight=best_min_child_weight,\n",
    "    gamma=0,\n",
    "    subsample=0.8,\n",
    "    colsample_bytree=0.8,\n",
    "\n",
    "    nthread=8,\n",
    "   \n",
    "    seed=2707\n",
    ")\n",
    "best_n_estimators = modelfit(xgb3, X, Y)"
   ]
  },
  {
   "cell_type": "code",
   "execution_count": 35,
   "metadata": {
    "collapsed": false
   },
   "outputs": [
    {
     "name": "stderr",
     "output_type": "stream",
     "text": [
      "C:\\ProgramData\\Anaconda3\\lib\\site-packages\\sklearn\\model_selection\\_search.py:667: DeprecationWarning: The grid_scores_ attribute was deprecated in version 0.18 in favor of the more elaborate cv_results_ attribute. The grid_scores_ attribute will not be available from 0.20\n",
      "  DeprecationWarning)\n"
     ]
    },
    {
     "data": {
      "text/plain": [
       "([mean: 0.92017, std: 0.00148, params: {'gamma': 0.0},\n",
       "  mean: 0.92014, std: 0.00160, params: {'gamma': 0.025000000000000001},\n",
       "  mean: 0.91998, std: 0.00146, params: {'gamma': 0.050000000000000003},\n",
       "  mean: 0.92023, std: 0.00181, params: {'gamma': 0.075000000000000011},\n",
       "  mean: 0.92009, std: 0.00170, params: {'gamma': 0.10000000000000001},\n",
       "  mean: 0.92022, std: 0.00151, params: {'gamma': 0.125},\n",
       "  mean: 0.92015, std: 0.00134, params: {'gamma': 0.15000000000000002},\n",
       "  mean: 0.92038, std: 0.00167, params: {'gamma': 0.17500000000000002},\n",
       "  mean: 0.92024, std: 0.00164, params: {'gamma': 0.20000000000000001},\n",
       "  mean: 0.92023, std: 0.00175, params: {'gamma': 0.22500000000000001},\n",
       "  mean: 0.92018, std: 0.00183, params: {'gamma': 0.25},\n",
       "  mean: 0.92026, std: 0.00193, params: {'gamma': 0.27500000000000002},\n",
       "  mean: 0.92058, std: 0.00165, params: {'gamma': 0.30000000000000004},\n",
       "  mean: 0.92005, std: 0.00158, params: {'gamma': 0.32500000000000001},\n",
       "  mean: 0.91999, std: 0.00161, params: {'gamma': 0.35000000000000003},\n",
       "  mean: 0.92025, std: 0.00150, params: {'gamma': 0.375},\n",
       "  mean: 0.92024, std: 0.00154, params: {'gamma': 0.40000000000000002},\n",
       "  mean: 0.92022, std: 0.00168, params: {'gamma': 0.42500000000000004},\n",
       "  mean: 0.92019, std: 0.00147, params: {'gamma': 0.45000000000000001},\n",
       "  mean: 0.92020, std: 0.00187, params: {'gamma': 0.47500000000000003},\n",
       "  mean: 0.92023, std: 0.00183, params: {'gamma': 0.5},\n",
       "  mean: 0.91995, std: 0.00169, params: {'gamma': 0.52500000000000002},\n",
       "  mean: 0.92026, std: 0.00157, params: {'gamma': 0.55000000000000004},\n",
       "  mean: 0.92032, std: 0.00158, params: {'gamma': 0.57500000000000007},\n",
       "  mean: 0.92018, std: 0.00159, params: {'gamma': 0.60000000000000009},\n",
       "  mean: 0.92024, std: 0.00186, params: {'gamma': 0.625},\n",
       "  mean: 0.92013, std: 0.00169, params: {'gamma': 0.65000000000000002},\n",
       "  mean: 0.92011, std: 0.00155, params: {'gamma': 0.67500000000000004},\n",
       "  mean: 0.92021, std: 0.00158, params: {'gamma': 0.70000000000000007},\n",
       "  mean: 0.92028, std: 0.00173, params: {'gamma': 0.72500000000000009},\n",
       "  mean: 0.92026, std: 0.00157, params: {'gamma': 0.75},\n",
       "  mean: 0.92002, std: 0.00193, params: {'gamma': 0.77500000000000002},\n",
       "  mean: 0.92012, std: 0.00178, params: {'gamma': 0.80000000000000004},\n",
       "  mean: 0.92005, std: 0.00156, params: {'gamma': 0.82500000000000007},\n",
       "  mean: 0.92004, std: 0.00165, params: {'gamma': 0.85000000000000009},\n",
       "  mean: 0.92013, std: 0.00166, params: {'gamma': 0.875},\n",
       "  mean: 0.92027, std: 0.00178, params: {'gamma': 0.90000000000000002},\n",
       "  mean: 0.92014, std: 0.00168, params: {'gamma': 0.92500000000000004},\n",
       "  mean: 0.92025, std: 0.00138, params: {'gamma': 0.95000000000000007},\n",
       "  mean: 0.92006, std: 0.00143, params: {'gamma': 0.97500000000000009},\n",
       "  mean: 0.92028, std: 0.00173, params: {'gamma': 1.0}],\n",
       " {'gamma': 0.30000000000000004},\n",
       " 0.92058366253559509)"
      ]
     },
     "execution_count": 35,
     "metadata": {},
     "output_type": "execute_result"
    }
   ],
   "source": [
    "param_test3 = {\n",
    " #'gamma':np.arange(0, 1.1, 0.1)\n",
    " 'gamma':np.arange(0, 1.025, 0.025)\n",
    "}\n",
    "gsearch3 = GridSearchCV(estimator = xgb3, param_grid = param_test3, scoring='accuracy', n_jobs=1, iid=False, cv=kf)\n",
    "gsearch3.fit(X, Y)\n",
    "gsearch3.grid_scores_, gsearch3.best_params_, gsearch3.best_score_"
   ]
  },
  {
   "cell_type": "code",
   "execution_count": 38,
   "metadata": {
    "collapsed": true
   },
   "outputs": [],
   "source": [
    "best_gamma = gsearch3.best_params_['gamma']"
   ]
  },
  {
   "cell_type": "code",
   "execution_count": 39,
   "metadata": {
    "collapsed": false
   },
   "outputs": [
    {
     "name": "stderr",
     "output_type": "stream",
     "text": [
      "C:\\ProgramData\\Anaconda3\\lib\\site-packages\\sklearn\\model_selection\\_search.py:667: DeprecationWarning: The grid_scores_ attribute was deprecated in version 0.18 in favor of the more elaborate cv_results_ attribute. The grid_scores_ attribute will not be available from 0.20\n",
      "  DeprecationWarning)\n"
     ]
    },
    {
     "data": {
      "text/plain": [
       "([mean: 0.92249, std: 0.00153, params: {'colsample_bytree': 0.5, 'subsample': 0.5},\n",
       "  mean: 0.92240, std: 0.00141, params: {'colsample_bytree': 0.5, 'subsample': 0.59999999999999998},\n",
       "  mean: 0.92246, std: 0.00136, params: {'colsample_bytree': 0.5, 'subsample': 0.69999999999999996},\n",
       "  mean: 0.92240, std: 0.00167, params: {'colsample_bytree': 0.5, 'subsample': 0.79999999999999993},\n",
       "  mean: 0.92246, std: 0.00145, params: {'colsample_bytree': 0.5, 'subsample': 0.89999999999999991},\n",
       "  mean: 0.92238, std: 0.00169, params: {'colsample_bytree': 0.59999999999999998, 'subsample': 0.5},\n",
       "  mean: 0.92246, std: 0.00147, params: {'colsample_bytree': 0.59999999999999998, 'subsample': 0.59999999999999998},\n",
       "  mean: 0.92233, std: 0.00150, params: {'colsample_bytree': 0.59999999999999998, 'subsample': 0.69999999999999996},\n",
       "  mean: 0.92229, std: 0.00165, params: {'colsample_bytree': 0.59999999999999998, 'subsample': 0.79999999999999993},\n",
       "  mean: 0.92232, std: 0.00182, params: {'colsample_bytree': 0.59999999999999998, 'subsample': 0.89999999999999991},\n",
       "  mean: 0.92217, std: 0.00174, params: {'colsample_bytree': 0.69999999999999996, 'subsample': 0.5},\n",
       "  mean: 0.92245, std: 0.00170, params: {'colsample_bytree': 0.69999999999999996, 'subsample': 0.59999999999999998},\n",
       "  mean: 0.92239, std: 0.00152, params: {'colsample_bytree': 0.69999999999999996, 'subsample': 0.69999999999999996},\n",
       "  mean: 0.92243, std: 0.00158, params: {'colsample_bytree': 0.69999999999999996, 'subsample': 0.79999999999999993},\n",
       "  mean: 0.92242, std: 0.00162, params: {'colsample_bytree': 0.69999999999999996, 'subsample': 0.89999999999999991},\n",
       "  mean: 0.92239, std: 0.00162, params: {'colsample_bytree': 0.79999999999999993, 'subsample': 0.5},\n",
       "  mean: 0.92225, std: 0.00163, params: {'colsample_bytree': 0.79999999999999993, 'subsample': 0.59999999999999998},\n",
       "  mean: 0.92241, std: 0.00148, params: {'colsample_bytree': 0.79999999999999993, 'subsample': 0.69999999999999996},\n",
       "  mean: 0.92227, std: 0.00150, params: {'colsample_bytree': 0.79999999999999993, 'subsample': 0.79999999999999993},\n",
       "  mean: 0.92242, std: 0.00149, params: {'colsample_bytree': 0.79999999999999993, 'subsample': 0.89999999999999991},\n",
       "  mean: 0.92226, std: 0.00169, params: {'colsample_bytree': 0.89999999999999991, 'subsample': 0.5},\n",
       "  mean: 0.92220, std: 0.00155, params: {'colsample_bytree': 0.89999999999999991, 'subsample': 0.59999999999999998},\n",
       "  mean: 0.92217, std: 0.00151, params: {'colsample_bytree': 0.89999999999999991, 'subsample': 0.69999999999999996},\n",
       "  mean: 0.92231, std: 0.00146, params: {'colsample_bytree': 0.89999999999999991, 'subsample': 0.79999999999999993},\n",
       "  mean: 0.92237, std: 0.00140, params: {'colsample_bytree': 0.89999999999999991, 'subsample': 0.89999999999999991}],\n",
       " {'colsample_bytree': 0.5, 'subsample': 0.5},\n",
       " 0.92249145833740109)"
      ]
     },
     "execution_count": 39,
     "metadata": {},
     "output_type": "execute_result"
    }
   ],
   "source": [
    "xgb4 = xgb.XGBClassifier(\n",
    "    learning_rate =0.1,\n",
    "    n_estimators=best_n_estimators,\n",
    "    max_depth=best_max_depth,\n",
    "    min_child_weight=best_min_child_weight,\n",
    "    gamma=best_gamma,\n",
    "    subsample=0.8,\n",
    "    colsample_bytree=0.8,\n",
    "\n",
    "    nthread=8,\n",
    "   \n",
    "    seed=2707\n",
    ")\n",
    "\n",
    "param_test4 = {\n",
    " 'subsample': np.arange(0.5, 1, 0.1),\n",
    " 'colsample_bytree': np.arange(0.5, 1, 0.1),\n",
    "}\n",
    "\n",
    "gsearch4 = GridSearchCV(estimator = xgb4, param_grid = param_test4, scoring='accuracy', n_jobs=1, iid=False, cv=kf)\n",
    "gsearch4.fit(X, Y)\n",
    "gsearch4.grid_scores_, gsearch4.best_params_, gsearch4.best_score_"
   ]
  },
  {
   "cell_type": "code",
   "execution_count": 40,
   "metadata": {
    "collapsed": false
   },
   "outputs": [
    {
     "name": "stderr",
     "output_type": "stream",
     "text": [
      "C:\\ProgramData\\Anaconda3\\lib\\site-packages\\sklearn\\model_selection\\_search.py:667: DeprecationWarning: The grid_scores_ attribute was deprecated in version 0.18 in favor of the more elaborate cv_results_ attribute. The grid_scores_ attribute will not be available from 0.20\n",
      "  DeprecationWarning)\n"
     ]
    },
    {
     "data": {
      "text/plain": [
       "([mean: 0.92224, std: 0.00147, params: {'colsample_bytree': 0.45000000000000001, 'subsample': 0.45000000000000001},\n",
       "  mean: 0.92206, std: 0.00170, params: {'colsample_bytree': 0.45000000000000001, 'subsample': 0.5},\n",
       "  mean: 0.92237, std: 0.00161, params: {'colsample_bytree': 0.45000000000000001, 'subsample': 0.55000000000000004},\n",
       "  mean: 0.92248, std: 0.00153, params: {'colsample_bytree': 0.5, 'subsample': 0.45000000000000001},\n",
       "  mean: 0.92249, std: 0.00153, params: {'colsample_bytree': 0.5, 'subsample': 0.5},\n",
       "  mean: 0.92235, std: 0.00156, params: {'colsample_bytree': 0.5, 'subsample': 0.55000000000000004},\n",
       "  mean: 0.92247, std: 0.00167, params: {'colsample_bytree': 0.55000000000000004, 'subsample': 0.45000000000000001},\n",
       "  mean: 0.92238, std: 0.00169, params: {'colsample_bytree': 0.55000000000000004, 'subsample': 0.5},\n",
       "  mean: 0.92242, std: 0.00161, params: {'colsample_bytree': 0.55000000000000004, 'subsample': 0.55000000000000004}],\n",
       " {'colsample_bytree': 0.5, 'subsample': 0.5},\n",
       " 0.92249145833740109)"
      ]
     },
     "execution_count": 40,
     "metadata": {},
     "output_type": "execute_result"
    }
   ],
   "source": [
    "param_test4 = {\n",
    " 'subsample': np.arange(0.45, 0.56, 0.05),\n",
    " 'colsample_bytree': np.arange(0.45, 0.56, 0.05),\n",
    "}\n",
    "\n",
    "gsearch4 = GridSearchCV(estimator = xgb4, param_grid = param_test4, scoring='accuracy', n_jobs=1, iid=False, cv=kf)\n",
    "gsearch4.fit(X, Y)\n",
    "gsearch4.grid_scores_, gsearch4.best_params_, gsearch4.best_score_"
   ]
  },
  {
   "cell_type": "code",
   "execution_count": 41,
   "metadata": {
    "collapsed": true
   },
   "outputs": [],
   "source": [
    "best_colsample_bytree = gsearch4.best_params_['colsample_bytree']\n",
    "best_subsample = gsearch4.best_params_['subsample']"
   ]
  },
  {
   "cell_type": "code",
   "execution_count": 42,
   "metadata": {
    "collapsed": true
   },
   "outputs": [],
   "source": [
    "xgb_5 = xgb.XGBClassifier(\n",
    "    learning_rate =0.1,\n",
    "    n_estimators=best_n_estimators,\n",
    "    max_depth=best_max_depth,\n",
    "    min_child_weight=best_min_child_weight,\n",
    "    gamma=best_gamma,\n",
    "    subsample=best_subsample,\n",
    "    colsample_bytree=best_colsample_bytree,\n",
    "    \n",
    "\n",
    "    nthread=8,\n",
    "   \n",
    "    seed=2707\n",
    ")"
   ]
  },
  {
   "cell_type": "code",
   "execution_count": 43,
   "metadata": {
    "collapsed": false
   },
   "outputs": [
    {
     "name": "stderr",
     "output_type": "stream",
     "text": [
      "C:\\ProgramData\\Anaconda3\\lib\\site-packages\\sklearn\\model_selection\\_search.py:667: DeprecationWarning: The grid_scores_ attribute was deprecated in version 0.18 in favor of the more elaborate cv_results_ attribute. The grid_scores_ attribute will not be available from 0.20\n",
      "  DeprecationWarning)\n"
     ]
    },
    {
     "data": {
      "text/plain": [
       "([mean: 0.92249, std: 0.00153, params: {'reg_alpha': 1e-05},\n",
       "  mean: 0.92245, std: 0.00155, params: {'reg_alpha': 0.01},\n",
       "  mean: 0.92238, std: 0.00156, params: {'reg_alpha': 0.1},\n",
       "  mean: 0.92243, std: 0.00148, params: {'reg_alpha': 1},\n",
       "  mean: 0.92250, std: 0.00152, params: {'reg_alpha': 100}],\n",
       " {'reg_alpha': 100},\n",
       " 0.92250176325404787)"
      ]
     },
     "execution_count": 43,
     "metadata": {},
     "output_type": "execute_result"
    }
   ],
   "source": [
    "param_test5 = {\n",
    " 'reg_alpha':[1e-5, 1e-2, 0.1, 1, 100]\n",
    "}\n",
    "gsearch5 = GridSearchCV(estimator = xgb_5, param_grid = param_test5, scoring='accuracy', n_jobs=1, iid=False, cv=kf)\n",
    "gsearch5.fit(X, Y)\n",
    "gsearch5.grid_scores_, gsearch5.best_params_, gsearch5.best_score_"
   ]
  },
  {
   "cell_type": "code",
   "execution_count": 45,
   "metadata": {
    "collapsed": false
   },
   "outputs": [
    {
     "name": "stderr",
     "output_type": "stream",
     "text": [
      "C:\\ProgramData\\Anaconda3\\lib\\site-packages\\sklearn\\model_selection\\_search.py:667: DeprecationWarning: The grid_scores_ attribute was deprecated in version 0.18 in favor of the more elaborate cv_results_ attribute. The grid_scores_ attribute will not be available from 0.20\n",
      "  DeprecationWarning)\n"
     ]
    },
    {
     "data": {
      "text/plain": [
       "([mean: 0.92255, std: 0.00160, params: {'reg_alpha': 5},\n",
       "  mean: 0.92250, std: 0.00160, params: {'reg_alpha': 6},\n",
       "  mean: 0.92249, std: 0.00144, params: {'reg_alpha': 7},\n",
       "  mean: 0.92253, std: 0.00150, params: {'reg_alpha': 8},\n",
       "  mean: 0.92263, std: 0.00163, params: {'reg_alpha': 9},\n",
       "  mean: 0.92257, std: 0.00158, params: {'reg_alpha': 10},\n",
       "  mean: 0.92250, std: 0.00153, params: {'reg_alpha': 11},\n",
       "  mean: 0.92253, std: 0.00160, params: {'reg_alpha': 12},\n",
       "  mean: 0.92253, std: 0.00166, params: {'reg_alpha': 13},\n",
       "  mean: 0.92252, std: 0.00158, params: {'reg_alpha': 14}],\n",
       " {'reg_alpha': 9},\n",
       " 0.92262551903639023)"
      ]
     },
     "execution_count": 45,
     "metadata": {},
     "output_type": "execute_result"
    }
   ],
   "source": [
    "param_test5 = {\n",
    " 'reg_alpha':np.arange(5,15, 1),\n",
    "}\n",
    "gsearch5 = GridSearchCV(estimator = xgb_5, param_grid = param_test5, scoring='accuracy', n_jobs=1, iid=False, cv=kf)\n",
    "gsearch5.fit(X, Y)\n",
    "gsearch5.grid_scores_, gsearch5.best_params_, gsearch5.best_score_"
   ]
  },
  {
   "cell_type": "code",
   "execution_count": 46,
   "metadata": {
    "collapsed": true
   },
   "outputs": [],
   "source": [
    "best_reg_alpha = gsearch5.best_params_['reg_alpha']"
   ]
  },
  {
   "cell_type": "code",
   "execution_count": 47,
   "metadata": {
    "collapsed": true
   },
   "outputs": [],
   "source": [
    "xgb_6 = xgb.XGBClassifier(\n",
    "    learning_rate =0.1,\n",
    "    n_estimators=best_n_estimators,\n",
    "    max_depth=best_max_depth,\n",
    "    min_child_weight=best_min_child_weight,\n",
    "    gamma=best_gamma,\n",
    "    subsample=best_subsample,\n",
    "    colsample_bytree=best_colsample_bytree,\n",
    "    reg_alpha = best_reg_alpha,\n",
    "    \n",
    "\n",
    "    nthread=8,\n",
    "   \n",
    "    seed=2707\n",
    ")"
   ]
  },
  {
   "cell_type": "code",
   "execution_count": 48,
   "metadata": {
    "collapsed": false
   },
   "outputs": [
    {
     "name": "stderr",
     "output_type": "stream",
     "text": [
      "C:\\ProgramData\\Anaconda3\\lib\\site-packages\\sklearn\\model_selection\\_search.py:667: DeprecationWarning: The grid_scores_ attribute was deprecated in version 0.18 in favor of the more elaborate cv_results_ attribute. The grid_scores_ attribute will not be available from 0.20\n",
      "  DeprecationWarning)\n"
     ]
    },
    {
     "data": {
      "text/plain": [
       "([mean: 0.92262, std: 0.00155, params: {'reg_lambda': 1e-05},\n",
       "  mean: 0.92262, std: 0.00155, params: {'reg_lambda': 0.01},\n",
       "  mean: 0.92259, std: 0.00152, params: {'reg_lambda': 0.1},\n",
       "  mean: 0.92263, std: 0.00163, params: {'reg_lambda': 1},\n",
       "  mean: 0.92259, std: 0.00162, params: {'reg_lambda': 2},\n",
       "  mean: 0.92258, std: 0.00158, params: {'reg_lambda': 3},\n",
       "  mean: 0.92256, std: 0.00158, params: {'reg_lambda': 5},\n",
       "  mean: 0.92258, std: 0.00154, params: {'reg_lambda': 10},\n",
       "  mean: 0.92251, std: 0.00167, params: {'reg_lambda': 100}],\n",
       " {'reg_lambda': 1},\n",
       " 0.92262551903639023)"
      ]
     },
     "execution_count": 48,
     "metadata": {},
     "output_type": "execute_result"
    }
   ],
   "source": [
    "param_test6 = {\n",
    " 'reg_lambda':[1e-5, 1e-2, 0.1, 1, 2, 3, 5, 10, 100]\n",
    "}\n",
    "gsearch6 = GridSearchCV(estimator = xgb_6, param_grid = param_test6, scoring='accuracy', n_jobs=1, iid=False, cv=kf)\n",
    "gsearch6.fit(X, Y)\n",
    "gsearch6.grid_scores_, gsearch6.best_params_, gsearch6.best_score_"
   ]
  },
  {
   "cell_type": "code",
   "execution_count": 49,
   "metadata": {
    "collapsed": false
   },
   "outputs": [
    {
     "name": "stderr",
     "output_type": "stream",
     "text": [
      "C:\\ProgramData\\Anaconda3\\lib\\site-packages\\sklearn\\model_selection\\_search.py:667: DeprecationWarning: The grid_scores_ attribute was deprecated in version 0.18 in favor of the more elaborate cv_results_ attribute. The grid_scores_ attribute will not be available from 0.20\n",
      "  DeprecationWarning)\n"
     ]
    },
    {
     "data": {
      "text/plain": [
       "([mean: 0.92263, std: 0.00164, params: {'reg_lambda': 0.5},\n",
       "  mean: 0.92264, std: 0.00164, params: {'reg_lambda': 0.59999999999999998},\n",
       "  mean: 0.92267, std: 0.00167, params: {'reg_lambda': 0.69999999999999996},\n",
       "  mean: 0.92264, std: 0.00164, params: {'reg_lambda': 0.79999999999999993},\n",
       "  mean: 0.92262, std: 0.00171, params: {'reg_lambda': 0.89999999999999991},\n",
       "  mean: 0.92263, std: 0.00163, params: {'reg_lambda': 0.99999999999999989},\n",
       "  mean: 0.92260, std: 0.00167, params: {'reg_lambda': 1.0999999999999999},\n",
       "  mean: 0.92269, std: 0.00168, params: {'reg_lambda': 1.1999999999999997},\n",
       "  mean: 0.92269, std: 0.00160, params: {'reg_lambda': 1.2999999999999998},\n",
       "  mean: 0.92272, std: 0.00159, params: {'reg_lambda': 1.3999999999999999},\n",
       "  mean: 0.92271, std: 0.00159, params: {'reg_lambda': 1.4999999999999998}],\n",
       " {'reg_lambda': 1.3999999999999999},\n",
       " 0.92271833103359879)"
      ]
     },
     "execution_count": 49,
     "metadata": {},
     "output_type": "execute_result"
    }
   ],
   "source": [
    "param_test6 = {\n",
    " 'reg_lambda':np.arange(0.5,1.6,0.1)\n",
    "}\n",
    "gsearch6 = GridSearchCV(estimator = xgb_6, param_grid = param_test6, scoring='accuracy', n_jobs=1, iid=False, cv=kf)\n",
    "gsearch6.fit(X, Y)\n",
    "gsearch6.grid_scores_, gsearch6.best_params_, gsearch6.best_score_"
   ]
  },
  {
   "cell_type": "code",
   "execution_count": 50,
   "metadata": {
    "collapsed": true
   },
   "outputs": [],
   "source": [
    "best_reg_lambda = gsearch6.best_params_['reg_lambda']"
   ]
  },
  {
   "cell_type": "code",
   "execution_count": null,
   "metadata": {
    "collapsed": true
   },
   "outputs": [],
   "source": []
  },
  {
   "cell_type": "code",
   "execution_count": 53,
   "metadata": {
    "collapsed": false,
    "scrolled": false
   },
   "outputs": [
    {
     "name": "stdout",
     "output_type": "stream",
     "text": [
      "0.01 ===================================\n",
      "N: 505 [1, 505, 434, 430, 500, 476, 430]\n",
      "Accuracy:\n",
      "[0.91302151003320342, 0.92290478596693859, 0.92239948025698404, 0.92167761495704903, 0.92434851656680861, 0.92253826162287034, 0.92217730291654632]\n",
      "mean: 0.921295353189\n",
      "std: 0.00346526515958\n",
      "\n",
      "Logloss:\n",
      "[0.26435496366397182, 0.21999780703319857, 0.21822870428108837, 0.2185297788854226, 0.21282388901286362, 0.22075844390513086, 0.22084109026699117]\n",
      "mean: 0.225076382436\n",
      "std: 0.0162351183443\n",
      "0.02 ===================================\n",
      "N: 740 [1, 238, 188, 513, 227, 740, 243]\n",
      "Accuracy:\n",
      "[0.92016746066118094, 0.92304915902692553, 0.92225510719699699, 0.92232729372699052, 0.92434851656680861, 0.92318798729425355, 0.9221051111752816]\n",
      "mean: 0.922491519378\n",
      "std: 0.0011879086724\n",
      "\n",
      "Logloss:\n",
      "[0.22866472577201793, 0.21956701698411057, 0.21723508314424672, 0.21721605275029665, 0.2118782495159113, 0.22085282462165082, 0.21980713925178391]\n",
      "mean: 0.219317298863\n",
      "std: 0.0046923165865\n",
      "0.03 ===================================\n",
      "N: 331 [1, 251, 139, 331, 158, 234, 190]\n",
      "Accuracy:\n",
      "[0.92060054857802798, 0.92326571861690609, 0.92203854760701653, 0.92211073413701006, 0.92449288962679566, 0.92246606988160551, 0.92239387814034079]\n",
      "mean: 0.922481198084\n",
      "std: 0.00110455256035\n",
      "\n",
      "Logloss:\n",
      "[0.22292510307732172, 0.21958727565440631, 0.21684647501003643, 0.21748304073998176, 0.21123283163004483, 0.22038949327629659, 0.21985475155943929]\n",
      "mean: 0.218331281564\n",
      "std: 0.0034340743813\n",
      "0.04 ===================================\n",
      "N: 728 [1, 227, 106, 175, 128, 728, 144]\n",
      "Accuracy:\n",
      "[0.92045618593907896, 0.92355446473688008, 0.92225510719699699, 0.92218292066700358, 0.92449288962679566, 0.92326017903551838, 0.92224949465781114]\n",
      "mean: 0.922635891694\n",
      "std: 0.0011911909931\n",
      "\n",
      "Logloss:\n",
      "[0.22197891206231582, 0.21971185072603844, 0.21663261199061945, 0.21744560828898057, 0.21106881338364594, 0.22178761184221019, 0.21997979540323559]\n",
      "mean: 0.218372171957\n",
      "std: 0.00351073113477\n",
      "0.05 ===================================\n",
      "N: 504 [1, 211, 94, 176, 95, 504, 159]\n",
      "Accuracy:\n",
      "[0.92060054857802798, 0.92341009167689314, 0.92232729372699052, 0.92239948025698404, 0.92478163574676964, 0.92289922032919436, 0.92196072769275195]\n",
      "mean: 0.922625571144\n",
      "std: 0.00119653013982\n",
      "\n",
      "Logloss:\n",
      "[0.2218194412799166, 0.21988218197600526, 0.21649595888675777, 0.21768717216482059, 0.21106428720711995, 0.22141149140319724, 0.21989554890516028]\n",
      "mean: 0.218322297403\n",
      "std: 0.00344547536601\n",
      "0.06 ===================================\n",
      "N: 355 [152, 229, 67, 355, 127, 230, 100]\n",
      "Accuracy:\n",
      "[0.92052836725855347, 0.92369883779686712, 0.92247166678697756, 0.92225510719699699, 0.92434851656680861, 0.9230436038117239, 0.92217730291654632]\n",
      "mean: 0.922646200333\n",
      "std: 0.00113718658057\n",
      "\n",
      "Logloss:\n",
      "[0.2220376442881519, 0.22014662099323795, 0.21662843143363233, 0.21816586497580773, 0.21095302124047272, 0.22121648387833737, 0.22017640521362472]\n",
      "mean: 0.218474924575\n",
      "std: 0.00350474798314\n",
      "0.07 ===================================\n",
      "N: 285 [109, 242, 83, 162, 188, 285, 91]\n",
      "Accuracy:\n",
      "[0.92038400461960446, 0.9236266512668736, 0.92268822637695802, 0.92232729372699052, 0.92420414350682167, 0.92282702858792953, 0.92188853595148712]\n",
      "mean: 0.92256369772\n",
      "std: 0.0011444634069\n",
      "\n",
      "Logloss:\n",
      "[0.22209286812708887, 0.22042525564217064, 0.21678615441446675, 0.21799371492089811, 0.21114233803005783, 0.22152638892958793, 0.22012414374763117]\n",
      "mean: 0.218584409116\n",
      "std: 0.00349879755215\n",
      "0.08 ===================================\n",
      "N: 504 [124, 85, 64, 154, 122, 504, 67]\n",
      "Accuracy:\n",
      "[0.92060054857802798, 0.92369883779686712, 0.92254385331697109, 0.92196636107702301, 0.92405977044683463, 0.92311579555298873, 0.92232168639907597]\n",
      "mean: 0.922615264738\n",
      "std: 0.00107455661369\n",
      "\n",
      "Logloss:\n",
      "[0.22236807955087412, 0.22025657798435877, 0.21660101400948698, 0.21806294498046735, 0.21151579481569932, 0.22229640924220967, 0.22022595525823813]\n",
      "mean: 0.218760967977\n",
      "std: 0.00353631784401\n",
      "0.09 ===================================\n",
      "N: 317 [128, 79, 51, 89, 68, 317, 232]\n",
      "Accuracy:\n",
      "[0.92023964198065544, 0.92333790514689962, 0.92254385331697109, 0.92247166678697756, 0.92434851656680861, 0.92282702858792953, 0.92203291943401677]\n",
      "mean: 0.922543075974\n",
      "std: 0.00116760842069\n",
      "\n",
      "Logloss:\n",
      "[0.22238123296681434, 0.22017631192159764, 0.21683262545432933, 0.21790502847690194, 0.21135687559306401, 0.2221947446044294, 0.22028581958684096]\n",
      "mean: 0.218733234086\n",
      "std: 0.00355551580744\n",
      "0.1 ===================================\n",
      "N: 243 [1, 210, 47, 106, 74, 243, 229]\n",
      "Accuracy:\n",
      "[0.92052836725855347, 0.9236266512668736, 0.92283259943694507, 0.92196636107702301, 0.92384321085685406, 0.9233323707767831, 0.9221051111752816]\n",
      "mean: 0.922604953121\n",
      "std: 0.00107756068614\n",
      "\n",
      "Logloss:\n",
      "[0.22235252765099425, 0.2208042486550334, 0.21690818192097097, 0.21814600029409389, 0.21154459847465745, 0.22192599441922423, 0.22073338051031358]\n",
      "mean: 0.218916418846\n",
      "std: 0.0035193330498\n"
     ]
    }
   ],
   "source": [
    "for lr in np.arange(0.01, 0.11, 0.01):\n",
    "    xgb_fin = xgb.XGBClassifier(\n",
    "        learning_rate = lr,\n",
    "        n_estimators=2000,\n",
    "        max_depth=best_max_depth,\n",
    "        min_child_weight=best_min_child_weight,\n",
    "        gamma=best_gamma,\n",
    "        subsample=best_subsample,\n",
    "        colsample_bytree=best_colsample_bytree,\n",
    "        reg_alpha = best_reg_alpha,\n",
    "        reg_lambda = best_reg_lambda,\n",
    "        \n",
    "    \n",
    "        nthread=8,\n",
    "       \n",
    "        seed=2707\n",
    "    )\n",
    "    print(lr, \"===================================\")\n",
    "    best_n_estimators = modelfit(xgb_fin, X, Y)"
   ]
  },
  {
   "cell_type": "code",
   "execution_count": null,
   "metadata": {
    "collapsed": true
   },
   "outputs": [],
   "source": [
    "0.06 335"
   ]
  },
  {
   "cell_type": "code",
   "execution_count": 54,
   "metadata": {
    "collapsed": true
   },
   "outputs": [],
   "source": [
    "xgb_fin = xgb.XGBClassifier(\n",
    "        learning_rate = 0.06,\n",
    "        n_estimators=335,\n",
    "        max_depth=best_max_depth,\n",
    "        min_child_weight=best_min_child_weight,\n",
    "        gamma=best_gamma,\n",
    "        subsample=best_subsample,\n",
    "        colsample_bytree=best_colsample_bytree,\n",
    "        reg_alpha = best_reg_alpha,\n",
    "        reg_lambda = best_reg_lambda,\n",
    "        \n",
    "    \n",
    "        nthread=8,\n",
    "       \n",
    "        seed=2707\n",
    "    )"
   ]
  },
  {
   "cell_type": "code",
   "execution_count": 55,
   "metadata": {
    "collapsed": true
   },
   "outputs": [],
   "source": [
    "scores = cross_val_score(xgb_fin, X, Y, cv=kf)"
   ]
  },
  {
   "cell_type": "code",
   "execution_count": 56,
   "metadata": {
    "collapsed": false
   },
   "outputs": [
    {
     "name": "stdout",
     "output_type": "stream",
     "text": [
      "0.922532710016 0.00155244328908\n"
     ]
    }
   ],
   "source": [
    "print(np.mean(scores), np.std(scores))"
   ]
  },
  {
   "cell_type": "code",
   "execution_count": 57,
   "metadata": {
    "collapsed": false
   },
   "outputs": [
    {
     "data": {
      "text/plain": [
       "0.9119521501495308"
      ]
     },
     "execution_count": 57,
     "metadata": {},
     "output_type": "execute_result"
    }
   ],
   "source": [
    "0.9119521501495308"
   ]
  },
  {
   "cell_type": "code",
   "execution_count": 61,
   "metadata": {
    "collapsed": false
   },
   "outputs": [
    {
     "data": {
      "text/plain": [
       "{'base_score': 0.5,\n",
       " 'booster': 'gbtree',\n",
       " 'colsample_bylevel': 1,\n",
       " 'colsample_bytree': 0.5,\n",
       " 'gamma': 0.30000000000000004,\n",
       " 'learning_rate': 0.06,\n",
       " 'max_delta_step': 0,\n",
       " 'max_depth': 5,\n",
       " 'min_child_weight': 5,\n",
       " 'missing': None,\n",
       " 'n_estimators': 335,\n",
       " 'n_jobs': 1,\n",
       " 'nthread': 8,\n",
       " 'objective': 'binary:logistic',\n",
       " 'random_state': 0,\n",
       " 'reg_alpha': 9,\n",
       " 'reg_lambda': 1.3999999999999999,\n",
       " 'scale_pos_weight': 1,\n",
       " 'seed': 2707,\n",
       " 'silent': True,\n",
       " 'subsample': 0.5}"
      ]
     },
     "execution_count": 61,
     "metadata": {},
     "output_type": "execute_result"
    }
   ],
   "source": [
    "xgb_fin.get_params()"
   ]
  },
  {
   "cell_type": "code",
   "execution_count": 77,
   "metadata": {
    "collapsed": false
   },
   "outputs": [],
   "source": [
    "clf11 = xgb.XGBClassifier(\n",
    "        learning_rate=0.06,\n",
    "        n_estimators=335,\n",
    "        max_depth=5,\n",
    "        min_child_weight=5,\n",
    "        gamma=0.3,\n",
    "        subsample=0.5,\n",
    "        colsample_bytree=0.5,\n",
    "        reg_alpha=9,\n",
    "        reg_lambda=1.4,\n",
    "        nthread=8,\n",
    "       \n",
    "        seed=2707\n",
    "    )\n",
    "\n",
    "clf22 = xgb.XGBClassifier(\n",
    "        learning_rate=0.06,\n",
    "        n_estimators=335,\n",
    "        max_depth=5,\n",
    "        min_child_weight=5,\n",
    "        gamma=0.3,\n",
    "        subsample=0.5,\n",
    "        colsample_bytree=0.5,\n",
    "        reg_alpha=9,\n",
    "        reg_lambda=1.4,\n",
    "        nthread=8,\n",
    "        tree_method='hist',\n",
    "        grow_policy='lossguide',\n",
    "       \n",
    "        seed=2707\n",
    "    )\n",
    "\n",
    "clf33 = lgb.LGBMClassifier(\n",
    "        learning_rate=0.1,\n",
    "        n_estimators=100,\n",
    "#         num_leaves=2**5,\n",
    "#         min_child_weight=5,\n",
    "        subsample=0.8,\n",
    "        colsample_bytree=0.8,\n",
    "#         reg_alpha=9,\n",
    "#         reg_lambda=1.4,\n",
    "        nthread=8,\n",
    "       \n",
    "        seed=2707\n",
    "    )"
   ]
  },
  {
   "cell_type": "code",
   "execution_count": null,
   "metadata": {
    "collapsed": false
   },
   "outputs": [],
   "source": [
    "train = pd.read_csv('train_original.csv', sep=';')\n",
    "test = pd.read_csv('test_original.csv', sep=';', na_values='None')\n",
    "\n",
    "train = utils.clean_data(train)\n",
    "test = utils.clean_data(test)\n",
    "\n",
    "train = utils.new_features(train)\n",
    "test = utils.new_features(test)\n",
    "\n",
    "TARGET = 'smoke'\n",
    "features = ['age_group', 'gender', 'weight', 'ap_hi', 'ap_lo', 'cholesterol','alco', 'active', 'gluc', 'BMI', 'ap_dif', 'MAP']\n",
    "test['cardio'] = np.nan\n",
    "\n",
    "X = pd.concat((train, test), axis=0)\n",
    "X_train = X.loc[~X[TARGET].isnull()]\n",
    "y_train = X_train[TARGET].values.ravel()\n",
    "X_train = X_train[features]\n",
    "\n",
    "X_test1 = train.loc[train[TARGET].isnull(), features]\n",
    "X_test2 = test.loc[test[TARGET].isnull(), features]\n",
    "\n",
    "\n",
    "kf = StratifiedKFold(random_state=44444, n_splits=10, shuffle=True)\n",
    "fold_score = []\n",
    "for train_idx, test_idx in kf.split(X_train, y_train):\n",
    "    clf1 = clone(clf11)\n",
    "    clf2 = clone(clf22)\n",
    "    clf3 = clone(clf33)\n",
    "    clf1.fit(X_train.iloc[train_idx], y_train[train_idx])\n",
    "    clf2.fit(X_train.iloc[train_idx], y_train[train_idx])\n",
    "    clf3.fit(X_train.iloc[train_idx], y_train[train_idx])\n",
    "#     predict1 = clf1.predict_proba(X_train.iloc[test_idx])[:, 1]\n",
    "#     predict2 = clf2.predict_proba(X_train.iloc[test_idx])[:, 1]\n",
    "#     predict3 = clf3.predict_proba(X_train.iloc[test_idx])[:, 1]\n",
    "#     predict= (predict1+predict2+predict3)/3\n",
    "    \n",
    "    predict1 = clf1.predict(X_train.iloc[test_idx])\n",
    "    predict2 = clf2.predict(X_train.iloc[test_idx])\n",
    "    predict3 = clf3.predict(X_train.iloc[test_idx])\n",
    "    predict= (predict1+predict2+predict3)/3\n",
    "    fold_score.append(accuracy_score(y_train[test_idx], np.round(predict)))\n",
    "    \n",
    "print(np.mean(fold_score), np.std(fold_score))\n"
   ]
  },
  {
   "cell_type": "code",
   "execution_count": null,
   "metadata": {
    "collapsed": true
   },
   "outputs": [],
   "source": [
    "0.922532710016 0.00155244328908"
   ]
  },
  {
   "cell_type": "code",
   "execution_count": 79,
   "metadata": {
    "collapsed": false
   },
   "outputs": [
    {
     "name": "stdout",
     "output_type": "stream",
     "text": [
      "0.922532710016 0.00155244328908\n"
     ]
    }
   ],
   "source": [
    "train = pd.read_csv('train_original.csv', sep=';')\n",
    "test = pd.read_csv('test_original.csv', sep=';', na_values='None')\n",
    "\n",
    "train = utils.clean_data(train)\n",
    "test = utils.clean_data(test)\n",
    "\n",
    "train = utils.new_features(train)\n",
    "test = utils.new_features(test)\n",
    "\n",
    "TARGET = 'alco'\n",
    "features = ['age_group', 'gender', 'weight', 'ap_hi', 'ap_lo', 'cholesterol','smoke', 'active', 'gluc', 'BMI', 'ap_dif', 'MAP']\n",
    "test['cardio'] = np.nan\n",
    "\n",
    "X = pd.concat((train, test), axis=0)\n",
    "X_train = X.loc[~X[TARGET].isnull()]\n",
    "y_train = X_train[TARGET].values.ravel()\n",
    "X_train = X_train[features]\n",
    "\n",
    "X_test1 = train.loc[train[TARGET].isnull(), features]\n",
    "X_test2 = test.loc[test[TARGET].isnull(), features]\n",
    "\n",
    "\n",
    "kf = StratifiedKFold(random_state=44444, n_splits=10, shuffle=True)\n",
    "fold_score = []\n",
    "for train_idx, test_idx in kf.split(X_train, y_train):\n",
    "    clf1 = clone(clf11)\n",
    "    clf2 = clone(clf22)\n",
    "    clf3 = clone(clf33)\n",
    "    clf1.fit(X_train.iloc[train_idx], y_train[train_idx])\n",
    "    clf2.fit(X_train.iloc[train_idx], y_train[train_idx])\n",
    "    clf3.fit(X_train.iloc[train_idx], y_train[train_idx])\n",
    "#     predict1 = clf1.predict_proba(X_train.iloc[test_idx])[:, 1]\n",
    "#     predict2 = clf2.predict_proba(X_train.iloc[test_idx])[:, 1]\n",
    "#     predict3 = clf3.predict_proba(X_train.iloc[test_idx])[:, 1]\n",
    "#     predict= (predict1+predict2+predict3)/3\n",
    "    \n",
    "    predict1 = clf1.predict(X_train.iloc[test_idx])\n",
    "    predict2 = clf2.predict(X_train.iloc[test_idx])\n",
    "    predict3 = clf3.predict(X_train.iloc[test_idx])\n",
    "    predict= (predict1+predict2+predict3)/3\n",
    "    fold_score.append(accuracy_score(y_train[test_idx], np.round(predict)))\n",
    "    \n",
    "print(np.mean(fold_score), np.std(fold_score))"
   ]
  },
  {
   "cell_type": "code",
   "execution_count": 80,
   "metadata": {
    "collapsed": false
   },
   "outputs": [
    {
     "name": "stdout",
     "output_type": "stream",
     "text": [
      "0.922532710016 0.00155244328908\n"
     ]
    }
   ],
   "source": [
    "train = pd.read_csv('train_original.csv', sep=';')\n",
    "test = pd.read_csv('test_original.csv', sep=';', na_values='None')\n",
    "\n",
    "train = utils.clean_data(train)\n",
    "test = utils.clean_data(test)\n",
    "\n",
    "train = utils.new_features(train)\n",
    "test = utils.new_features(test)\n",
    "\n",
    "TARGET = 'gender'\n",
    "features = [ 'active', 'weight', 'ap_hi', 'ap_lo', 'cholesterol','alco', 'smoke', 'gluc', 'BMI', 'ap_dif', 'MAP']\n",
    "test['cardio'] = np.nan\n",
    "\n",
    "X = pd.concat((train, test), axis=0)\n",
    "X_train = X.loc[~X[TARGET].isnull()]\n",
    "y_train = X_train[TARGET].values.ravel()\n",
    "X_train = X_train[features]\n",
    "\n",
    "X_test1 = train.loc[train[TARGET].isnull(), features]\n",
    "X_test2 = test.loc[test[TARGET].isnull(), features]\n",
    "\n",
    "\n",
    "kf = StratifiedKFold(random_state=44444, n_splits=10, shuffle=True)\n",
    "fold_score = []\n",
    "for train_idx, test_idx in kf.split(X_train, y_train):\n",
    "    clf1 = clone(clf1)\n",
    "    clf2 = clone(clf2)\n",
    "    clf3 = clone(clf3)\n",
    "    clf1.fit(X_train.iloc[train_idx], y_train[train_idx])\n",
    "    clf2.fit(X_train.iloc[train_idx], y_train[train_idx])\n",
    "    clf3.fit(X_train.iloc[train_idx], y_train[train_idx])\n",
    "#     predict1 = clf1.predict_proba(X_train.iloc[test_idx])[:, 1]\n",
    "#     predict2 = clf2.predict_proba(X_train.iloc[test_idx])[:, 1]\n",
    "#     predict3 = clf3.predict_proba(X_train.iloc[test_idx])[:, 1]\n",
    "#     predict= (predict1+predict2+predict3)/3\n",
    "    \n",
    "    predict1 = clf1.predict(X_train.iloc[test_idx])\n",
    "    predict2 = clf2.predict(X_train.iloc[test_idx])\n",
    "    predict3 = clf3.predict(X_train.iloc[test_idx])\n",
    "    predict= (predict1+predict2+predict3)/3\n",
    "    fold_score.append(accuracy_score(y_train[test_idx], np.round(predict)))\n",
    "    \n",
    "print(np.mean(fold_score), np.std(fold_score))"
   ]
  },
  {
   "cell_type": "code",
   "execution_count": null,
   "metadata": {
    "collapsed": true
   },
   "outputs": [],
   "source": []
  }
 ],
 "metadata": {
  "kernelspec": {
   "display_name": "Python 3",
   "language": "python",
   "name": "python3"
  },
  "language_info": {
   "codemirror_mode": {
    "name": "ipython",
    "version": 3
   },
   "file_extension": ".py",
   "mimetype": "text/x-python",
   "name": "python",
   "nbconvert_exporter": "python",
   "pygments_lexer": "ipython3",
   "version": "3.6.0"
  }
 },
 "nbformat": 4,
 "nbformat_minor": 2
}
