{
 "cells": [
  {
   "cell_type": "code",
   "execution_count": null,
   "metadata": {
    "collapsed": false
   },
   "outputs": [],
   "source": [
    "import pandas as pd\n",
    "import numpy as np\n",
    "\n",
    "import random\n",
    "\n",
    "import xgboost as xgb\n",
    "from sklearn.ensemble import RandomForestClassifier\n",
    "from sklearn.metrics import log_loss\n",
    "\n",
    "import matplotlib.pyplot as plt\n",
    "import seaborn as sns\n",
    "import gc\n",
    "import utils \n",
    "\n",
    "plt.style.use('ggplot')\n",
    "%matplotlib inline"
   ]
  },
  {
   "cell_type": "code",
   "execution_count": null,
   "metadata": {
    "collapsed": false
   },
   "outputs": [],
   "source": [
    "sorted([(0.538567255572, 'ap_hi'),\n",
    "(0.538588478581, 'gluc'),\n",
    "(0.538546917349, 'age_group_gender'),\n",
    "(0.538538052046, 'age_group_gluc'),\n",
    "(0.538446699606, 'gender_MAP'),\n",
    "(0.538589229798, 'gender_smoke'),\n",
    "(0.53859757607, 'gender_active'),\n",
    "(0.538577368412, 'MAP_error_group'),\n",
    "(0.538605556333, 'MAP_smoke'),\n",
    "(0.538595737992, 'MAP_active'),\n",
    "(0.538590281731, 'error_group_gluc'),\n",
    "(0.538613057047, 'error_group_active'),\n",
    "(0.538403616287, 'cholesterol_gluc'),\n",
    "(0.538513905577, 'gluc_smoke'),\n",
    "(0.538592834598, 'gluc_alco'),\n",
    "(0.538459912893, 'gluc_active'),\n",
    "(0.538497101023, 'smoke_active'),\n",
    "(0.538503250338, 'age_group_gender_error_group'),\n",
    "(0.538511181624, 'age_group_gender_gluc'),\n",
    "(0.538542876918, 'age_group_gender_smoke'),\n",
    "(0.538502938446, 'age_group_gender_alco'),\n",
    "(0.538421388154, 'age_group_error_group_gluc'),\n",
    "(0.538585787788, 'age_group_error_group_alco'),\n",
    "(0.538515840047, 'age_group_gluc_smoke'),\n",
    "(0.538604509019, 'age_group_gluc_alco'),\n",
    "(0.538473146062, 'age_group_gluc_active'),\n",
    "(0.538549234756, 'gender_MAP_error_group'),\n",
    "(0.538538765546, 'gender_MAP_smoke'),\n",
    "(0.538621130436, 'gender_MAP_alco'),\n",
    "(0.538224666658, 'gender_cholesterol_gluc'),\n",
    "(0.53854568799, 'gender_cholesterol_smoke'),\n",
    "(0.538519596999, 'gender_cholesterol_active'),\n",
    "(0.538583122431, 'gender_gluc_smoke'),\n",
    "(0.538546386493, 'gender_gluc_active'),\n",
    "(0.538433428412, 'gender_smoke_active'),\n",
    "(0.538530472903, 'gender_alco_active'),\n",
    "(0.538607528017, 'MAP_error_group_smoke'),\n",
    "(0.538608970885, 'MAP_error_group_alco'),\n",
    "(0.538496750986, 'MAP_gluc_active'),\n",
    "(0.538554965298, 'MAP_BMI_group_alco'),\n",
    "(0.538540542747, 'MAP_smoke_alco'),\n",
    "(0.538554965298, 'MAP_alco_height_group'),\n",
    "(0.538390958086, 'error_group_cholesterol_gluc'),\n",
    "(0.538458153646, 'error_group_smoke_active'),\n",
    "(0.538598031272, 'error_group_smoke_weight_group'),\n",
    "(0.538462902667, 'error_group_alco_active'),\n",
    "(0.538545756092, 'cholesterol_gluc_BMI_group'),\n",
    "(0.538458056167, 'cholesterol_gluc_smoke'),\n",
    "(0.538347090052, 'cholesterol_gluc_alco'),\n",
    "(0.538264506609, 'cholesterol_gluc_active'),\n",
    "(0.538545756092, 'cholesterol_gluc_height_group'),\n",
    "(0.538492455954, 'gluc_BMI_group_smoke'),\n",
    "(0.538578197781, 'gluc_smoke_alco'),\n",
    "(0.538438930193, 'gluc_smoke_active'),\n",
    "(0.538492455954, 'gluc_smoke_height_group'),\n",
    "(0.538537529542, 'gluc_alco_active'),\n",
    "(0.538537556667, 'smoke_alco_active'),\n",
    "       \n",
    "(0.538721429916, 'age_group_gender_gluc_smoke'),\n",
    "(0.538699428457, 'age_group_gender_gluc_alco'),\n",
    "(0.538704888347, 'age_group_gender_gluc_active'),\n",
    "(0.538704316355, 'age_group_gender_smoke_active'),\n",
    "(0.538725712345, 'age_group_gluc_alco_active'),\n",
    "(0.538662681371, 'gender_cholesterol_gluc_smoke'),\n",
    "(0.538632765675, 'gender_cholesterol_gluc_alco'),\n",
    "(0.538485049101, 'gender_cholesterol_gluc_active'),\n",
    "(0.538616169696, 'gender_gluc_smoke_active'),\n",
    "(0.538698437031, 'cholesterol_gluc_smoke_alco'),\n",
    "(0.538423057656, 'cholesterol_gluc_smoke_active'),\n",
    "(0.538579099797, 'cholesterol_gluc_alco_active'),\n",
    "(0.538602256739, 'age_group_gender_gluc_smoke_active'),\n",
    "(0.538625676171, 'gender_cholesterol_gluc_smoke_active'),\n",
    "(0.538726602437, 'gender_cholesterol_gluc_alco_active'),\n",
    "(0.538485357473, 'cholesterol_gluc_smoke_alco_active'),\n",
    "       ])\n",
    "\n"
   ]
  },
  {
   "cell_type": "code",
   "execution_count": 3,
   "metadata": {
    "collapsed": false
   },
   "outputs": [],
   "source": [
    "train = pd.read_csv('train.csv', sep=';')\n",
    "test = pd.read_csv('test.csv', sep=';', na_values='None')\n",
    "\n",
    "train = utils.clean_data(train)\n",
    "test = utils.clean_data(test)\n",
    "\n",
    "train = utils.new_features(train)\n",
    "test = utils.new_features(test)\n",
    "\n",
    "X_train = train.drop([ 'cardio'], axis=1)\n",
    "y_train = train['cardio'].values.ravel()\n",
    "X_test = test.drop([], axis=1)"
   ]
  },
  {
   "cell_type": "code",
   "execution_count": 4,
   "metadata": {
    "collapsed": false
   },
   "outputs": [],
   "source": [
    "from sklearn.model_selection import train_test_split\n",
    "__, idx = train_test_split(list(range(X_train.shape[0])), test_size=0.101, random_state=42)\n",
    "X_train.loc[idx, 'alco'] = np.nan\n",
    "__, idx = train_test_split(list(range(X_train.shape[0])), test_size=0.101, random_state=43)\n",
    "X_train.loc[idx, 'smoke'] = np.nan\n",
    "__, idx = train_test_split(list(range(X_train.shape[0])), test_size=0.096, random_state=44)\n",
    "X_train.loc[idx, 'active'] = np.nan\n",
    "\n",
    "# X_test.loc[X_test['alco'].isnull(), 'alco'] = 0\n",
    "# X_test.loc[X_test['smoke'].isnull(), 'smoke'] = 0\n",
    "# X_test.loc[X_test['active'].isnull(), 'active'] = 0\n",
    "\n",
    "from sklearn.neighbors import KNeighborsRegressor, KNeighborsClassifier\n",
    "from sklearn.model_selection import StratifiedKFold\n",
    "from sklearn.preprocessing import scale\n",
    "from sklearn.model_selection import cross_val_score\n",
    "from sklearn.base import clone\n",
    "\n",
    "def impute_nans(model, X_train, X_test, columns, target, perform_cv = False, scoring='accuracy'):\n",
    "    X = pd.concat((X_train, X_test), axis=0)\n",
    "    train_idx = ~X[target].isnull()\n",
    "    model = clone(model)\n",
    "    model.fit(X.loc[train_idx, columns], X.loc[train_idx, target])\n",
    "    X_train.loc[X_train[target].isnull(), target] = model.predict(X_train.loc[X_train[target].isnull(), columns])\n",
    "    X_test.loc[X_test[target].isnull(), target] = model.predict(X_test.loc[X_test[target].isnull(), columns])\n",
    "    \n",
    "    if perform_cv:\n",
    "        n_folds = 7\n",
    "        kf = StratifiedKFold(random_state=111, n_splits=n_folds, shuffle=True)\n",
    "        scores = cross_val_score(model, X.loc[train_idx, columns], X.loc[train_idx, target], cv=kf, scoring=scoring)\n",
    "        print(target, np.mean(scores), 'on', n_folds, 'folds', 'with mean on train', X.loc[train_idx, target].mean())\n",
    "    \n",
    "params = {\n",
    "    'colsample_bytree': 0.8,\n",
    "    'learning_rate': 0.1,\n",
    "    'n_estimators': 100,\n",
    "    'subsample': 0.8,\n",
    "    'n_jobs': 4,\n",
    "    'random_state': 2707,\n",
    "    'silent': True,\n",
    "}\n",
    "clf = xgb.XGBClassifier(**params)\n",
    "\n",
    "columns = ['age_group', 'gender', 'weight', 'ap_hi', 'ap_lo', 'cholesterol','alco', 'active', 'gluc', 'BMI','error_group', 'ap_dif', 'MAP']\n",
    "impute_nans(clf, X_train, X_test, columns, 'smoke')#, perform_cv = True)\n",
    "\n",
    "columns = ['age_group', 'gender', 'weight', 'ap_hi', 'ap_lo', 'cholesterol','smoke', 'active', 'gluc', 'BMI','error_group', 'ap_dif', 'MAP']\n",
    "impute_nans(clf, X_train, X_test, columns, 'alco')#, perform_cv = True)\n",
    "\n",
    "columns = ['age_group', 'gender', 'weight', 'ap_hi', 'ap_lo', 'cholesterol','alco', 'smoke', 'gluc', 'BMI','error_group', 'ap_dif', 'MAP' ]\n",
    "impute_nans(clf, X_train, X_test, columns, 'active')#, perform_cv = True)"
   ]
  },
  {
   "cell_type": "code",
   "execution_count": null,
   "metadata": {
    "collapsed": false
   },
   "outputs": [],
   "source": [
    "# columns_to_interact = ['age_group', 'gender', 'MAP', 'error_group', 'cholesterol', 'gluc', \n",
    "#                        'BMI_group', 'smoke', 'alco', 'active', \"ap_hi_group\", \"ap_lo_group\",\n",
    "#                       \"weight_group\", \"height_group\"]\n",
    "# temp = utils.generate_interactions(X_train, columns_to_interact, degree=5, white_list=best_interactions)\n",
    "# X_train = pd.concat((X_train, temp), axis=1)\n",
    "# X_test = pd.concat((X_test, utils.generate_interactions(X_test, columns_to_interact, degree=5, white_list=best_interactions)), axis=1)\n",
    "# print(temp.columns)\n",
    "\n",
    "# X = pd.concat((X_train, X_test), axis=0)"
   ]
  },
  {
   "cell_type": "code",
   "execution_count": 13,
   "metadata": {
    "collapsed": false
   },
   "outputs": [],
   "source": [
    "use_columns = [\n",
    "#     'age_group', 'gender', 'height', 'weight', 'ap_hi', 'ap_lo', 'cholesterol', 'gluc', 'smoke', 'alco', 'active',\n",
    "# 'BMI',\n",
    "#  'MAP',\n",
    "#     'ap_dif',\n",
    "    \n",
    "\"age_group\",\n",
    "\"gender\",\n",
    "\"height\",\n",
    "\"ap_hi\",\n",
    "\"ap_lo\",\n",
    "\"cholesterol\",\n",
    "\"gluc\",\n",
    "\"smoke\",\n",
    "\"alco\",\n",
    "\"active\",\n",
    "\"error_group\",\n",
    "# \"lo_14s\",\n",
    "# \"hi_2s\",\n",
    "\"BMI\",\n",
    "\"ap_dif\",\n",
    "\"MAP\",\n",
    "\n",
    "\"age_group_MAPX\",\n",
    "]\n",
    "mean_columns = [\n",
    "    ['cholesterol','gluc','smoke','active'],\n",
    "    ['ap_hi'],\n",
    "    [\"error_group\"],\n",
    "    ['gluc'], \n",
    "    ['MAP','active'],\n",
    "    ['gender','MAP'], \n",
    "    ['cholesterol','gluc'],\n",
    "    ['gluc','smoke'],\n",
    "                ['gluc','active'], ['gluc','alco'], ['smoke','active'], ['cholesterol','gluc','active'],\n",
    "    ['gender','cholesterol','gluc']\n",
    "] #, 'age_group_MAP', 'gender_MAP'\n",
    "\n",
    "# for i in range(10):\n",
    "#         str_i = str(i)\n",
    "#         use_columns.append(str_i)\n",
    "#         for j in range(10):\n",
    "#             str_j = str_i + str(j)\n",
    "#             use_columns.append(str_j)"
   ]
  },
  {
   "cell_type": "code",
   "execution_count": 14,
   "metadata": {
    "collapsed": false
   },
   "outputs": [
    {
     "data": {
      "text/plain": [
       "800"
      ]
     },
     "execution_count": 14,
     "metadata": {},
     "output_type": "execute_result"
    }
   ],
   "source": [
    "import gc\n",
    "gc.collect()"
   ]
  },
  {
   "cell_type": "code",
   "execution_count": 15,
   "metadata": {
    "collapsed": false
   },
   "outputs": [],
   "source": [
    "# X_train['cholesterol_gluc_smoke_active'].value_counts()"
   ]
  },
  {
   "cell_type": "code",
   "execution_count": 16,
   "metadata": {
    "collapsed": false
   },
   "outputs": [],
   "source": [
    "# train = X_train.copy()\n",
    "# train[\"target\"] = y_train\n",
    "# test = X_test.copy()\n",
    "# c = ['cholesterol', 'gluc','smoke','active','MAP']\n",
    "# K = train.groupby(c).size()\n",
    "# mean_loc = train.groupby(c)[\"target\"].mean()\n",
    "# values = (mean_loc * K + 0.5 * 13) / (K + 13)\n",
    "# values.name='RAZ'\n",
    "# test = test.join(values, on=c)\n",
    "# test.loc[test[values.name].isnull()]"
   ]
  },
  {
   "cell_type": "code",
   "execution_count": 17,
   "metadata": {
    "collapsed": false
   },
   "outputs": [],
   "source": [
    "# X_test['cholesterol_gluc_smoke_active'].value_counts()"
   ]
  },
  {
   "cell_type": "code",
   "execution_count": 18,
   "metadata": {
    "collapsed": false,
    "scrolled": false
   },
   "outputs": [],
   "source": [
    "#  5\t(0.5387210612358031, 0.53908495582477467)\n",
    "#  6\t(0.53875910103167679, 0.53914751218811652)\n",
    "#  7\t(0.53880255564816204, 0.53916006288317908)\n",
    "#  8\t(0.53885523453108464, 0.53925112418043775)\n",
    "#  9\t(0.53883513664677474, 0.53926419236173784)\n",
    "# 10\t(0.53859977707105033, 0.53901168020149492)\n",
    "# 11\t(0.53885940801773513, 0.5392083353358218)\n",
    "# 12\t(0.5387449524031015, 0.53910693602820126)\n",
    "# 13\t(0.53860169446196149, 0.53894647849839095)\n",
    "# 14\t(0.53868075060547327, 0.53902469873650505)\n",
    "# 15\t(0.53862027392521605, 0.53901222140087546)\n",
    "# 16\t(0.53888470508839914, 0.53924245981066532)\n",
    "# 17\t(0.53871842606094211, 0.53910013326813211)\n",
    "# 18\t(0.53875072382243228, 0.53913302528622098)\n",
    "# 19\t(0.53871978044672797, 0.53907222634869367)\n",
    "# 20\t(0.53873956020603608, 0.5391327381456501)\n",
    "# 21\t(0.53867673120877213, 0.53906722821160313)\n",
    "# 22\t(0.53872675503165057, 0.53909177387999974)\n",
    "# 23\t(0.5387593012507248, 0.53915932529166388)\n",
    "# 24\t(0.53871720156688541, 0.53901944164662974)\n",
    "# 25\t(0.53871319790519423, 0.53907590822454066)\n",
    "# 26\t(0.5387557838828374, 0.53917015878887609)\n",
    "# 27\t(0.53871462107471579, 0.5390504570167638)"
   ]
  },
  {
   "cell_type": "code",
   "execution_count": 19,
   "metadata": {
    "collapsed": false,
    "scrolled": false
   },
   "outputs": [
    {
     "name": "stdout",
     "output_type": "stream",
     "text": [
      "\n",
      "10 folds logloss:\n",
      "[0.53755889894145648, 0.5425333203759789, 0.53704918708245919, 0.53410684495162952, 0.54044264407928, 0.53421038544804922, 0.53630650756715559, 0.54219962810687994, 0.53694818759492779, 0.54062757180207666]\n",
      "mean: 0.538198317595\n",
      "std: 0.00291986114126\n",
      "15 Splits logloss:\n",
      "[0.53994752485158071, 0.54156887331620562, 0.53481937496285081, 0.54048258061949939, 0.53868561246672664, 0.5356745809710014, 0.54197499676886196, 0.53616272050067426, 0.5406404120005619, 0.53717309561007831, 0.53572601681278587, 0.53790862346343626, 0.53968832200074779, 0.53556706559718126, 0.54164888807188372]\n",
      "mean: 0.538511245868\n",
      "std: 0.00243394632974\n",
      "model1-- results saved!\n"
     ]
    },
    {
     "data": {
      "text/plain": [
       "1301"
      ]
     },
     "execution_count": 19,
     "metadata": {},
     "output_type": "execute_result"
    }
   ],
   "source": [
    "import utils\n",
    "params = {\n",
    "    'colsample_bytree': 0.8,\n",
    "    #'gamma': 0.125,\n",
    "    'learning_rate': 0.1,\n",
    "#     'max_depth': 4,\n",
    "    # 'min_child_weight': 1,\n",
    "    'n_estimators': 224,\n",
    "    'subsample': 0.8,\n",
    "    # 'reg_alpha': 0.0,\n",
    "    # 'reg_lambda': 2.0,\n",
    "    \n",
    "    'n_jobs': 4,\n",
    "    'random_state': 2707,\n",
    "    'silent': True,\n",
    "}\n",
    "\n",
    "utils.execute_model(xgb.XGBClassifier(**params),\n",
    "              X_train,\n",
    "              y_train,\n",
    "              X_test,\n",
    "              model_name=\"model1--\",\n",
    "               mean_columns = mean_columns,\n",
    "              use_columns = use_columns,\n",
    "              n_splits=15,\n",
    "              n_folds=10,\n",
    "#               stratification_groups=rew,\n",
    "              alpha=13,\n",
    "#               seed=150\n",
    "             )\n",
    "gc.collect()\n",
    "# 10 folds logloss:\n",
    "# [0.53780406650227752, 0.54321798307690283, 0.53768109113512974, 0.53502370267065347, 0.53999987807637873, 0.53447152769677753, 0.53612779679476119, 0.54165492304339824, 0.53749675539156083, 0.54079713834002863]\n",
    "# mean: 0.538427486273\n",
    "# std: 0.00275297684858\n",
    "# 15 Splits logloss:\n",
    "# [0.54000550939349135, 0.54164752770875035, 0.53500783416896258, 0.54075476522308352, 0.53915419898300765, 0.53591072473764945, 0.54240650931976875, 0.53601667667049235, 0.54082981467044777, 0.53698305442433381, 0.53655938510635337, 0.53819483177733252, 0.54006342031754306, 0.53584646522918367, 0.54186097923605503]\n",
    "# mean: 0.538749446464\n",
    "# std: 0.00244198474517\n",
    "# model1- results saved!"
   ]
  },
  {
   "cell_type": "code",
   "execution_count": 20,
   "metadata": {
    "collapsed": false
   },
   "outputs": [
    {
     "name": "stdout",
     "output_type": "stream",
     "text": [
      "\n",
      "10 folds logloss:\n",
      "[0.53851621178012743, 0.54244440177191289, 0.53730824632908203, 0.53470545320962448, 0.54028599220261331, 0.53421564387838905, 0.53649133061810794, 0.5420176004174333, 0.53733735441190023, 0.54067560236627077]\n",
      "mean: 0.538399783699\n",
      "std: 0.00274437112236\n",
      "15 Splits logloss:\n",
      "[0.5400327646266414, 0.54139703842283182, 0.53520391989164184, 0.54071227131623056, 0.53898261762449351, 0.53619980591889471, 0.54200010172505553, 0.53657325818635448, 0.54086539847248094, 0.53720124561765659, 0.53596975680147318, 0.53808822204033968, 0.53977966089778129, 0.53602464124689408, 0.54197895827525611]\n",
      "mean: 0.538733977404\n",
      "std: 0.00232218019746\n",
      "model2-- results saved!\n"
     ]
    },
    {
     "data": {
      "text/plain": [
       "1301"
      ]
     },
     "execution_count": 20,
     "metadata": {},
     "output_type": "execute_result"
    }
   ],
   "source": [
    "params = {\n",
    "    'colsample_bytree': 0.8,\n",
    "    #'gamma': 0.125,\n",
    "    'learning_rate': 0.1,\n",
    "    # 'max_depth': 9,\n",
    "    # 'min_child_weight': 1,\n",
    "    'n_estimators': 200,\n",
    "    'subsample': 0.8,\n",
    "    # 'reg_alpha': 0.0,\n",
    "    # 'reg_lambda': 2.0,\n",
    "    'tree_method': 'hist',\n",
    "    'grow_policy': 'lossguide',\n",
    "    \n",
    "    'n_jobs': 1,\n",
    "    'random_state': 2707,\n",
    "    'silent': True,\n",
    "}\n",
    "\n",
    "utils.execute_model(xgb.XGBClassifier(**params),\n",
    "              X_train,\n",
    "              y_train,\n",
    "              X_test,\n",
    "              model_name=\"model2--\",\n",
    "              mean_columns = mean_columns,\n",
    "              use_columns = use_columns,\n",
    "              n_splits=15,\n",
    "              n_folds=10,\n",
    "#               stratification_groups=rew,\n",
    "              alpha=13,\n",
    "             )\n",
    "gc.collect()\n",
    "\n",
    "# 10 folds logloss:\n",
    "# [0.53809696971452015, 0.54267932448817846, 0.53726353840112029, 0.53544755255448584, 0.5402763877548139, 0.53406033898307315, 0.53703481750885407, 0.54135055841265689, 0.53717603217301857, 0.54038460278769362]\n",
    "# mean: 0.538377012278\n",
    "# std: 0.00258393893803\n",
    "# 15 Splits logloss:\n",
    "# [0.53966115798704184, 0.54167830830454466, 0.53496114205938894, 0.54087141052834009, 0.53897133728340307, 0.53589446620906811, 0.54223077546604503, 0.53641504173447263, 0.54053579379282068, 0.53726932214346268, 0.53622725034449714, 0.53836969903162391, 0.53996776625857246, 0.53606081640943903, 0.54188865725515345]\n",
    "# mean: 0.538733529654\n",
    "# std: 0.00237324027804\n",
    "# model2- results saved!"
   ]
  },
  {
   "cell_type": "code",
   "execution_count": 21,
   "metadata": {
    "collapsed": false
   },
   "outputs": [
    {
     "name": "stdout",
     "output_type": "stream",
     "text": [
      "\n",
      "10 folds logloss:\n",
      "[0.53823231559376739, 0.54213445287273088, 0.53777490785810422, 0.53490088907553646, 0.54012507219058825, 0.5341599325892501, 0.53835332985476236, 0.54278094876966476, 0.53608308485460798, 0.54079839835622501]\n",
      "mean: 0.538534333202\n",
      "std: 0.00278743010814\n",
      "15 Splits logloss:\n",
      "[0.53990425639540185, 0.54112963143310233, 0.53475580526022137, 0.54091025584686458, 0.53920823536368379, 0.5367531725201441, 0.54255586738624528, 0.53652941969437096, 0.54142001028627695, 0.53706547271219096, 0.53620216283351696, 0.53840173484788434, 0.53940933632521804, 0.53556429315862297, 0.54220902645870672]\n",
      "mean: 0.538801245368\n",
      "std: 0.00245379201462\n",
      "model3-- results saved!\n"
     ]
    },
    {
     "data": {
      "text/plain": [
       "1350"
      ]
     },
     "execution_count": 21,
     "metadata": {},
     "output_type": "execute_result"
    }
   ],
   "source": [
    "import lightgbm as lgb\n",
    "from sklearn.calibration import CalibratedClassifierCV\n",
    "from sklearn.model_selection import KFold\n",
    "\n",
    "params = {\n",
    "    'colsample_bytree': 0.8,\n",
    "    'learning_rate': 0.1,\n",
    "#     'num_leaves': 2**3,\n",
    "#     'min_child_weight': 1,\n",
    "    'n_estimators': 44,\n",
    "    'subsample': 0.8,\n",
    "#     'reg_alpha': 1.2,\n",
    "#     'reg_lambda': 0.0,\n",
    "       \n",
    "    'nthread': 1,\n",
    "    'seed': 2707,\n",
    "    'silent': True,\n",
    "}\n",
    "\n",
    "#kf = KFold(n_splits=7, random_state=12345)\n",
    "utils.execute_model(lgb.LGBMClassifier(**params), #CalibratedClassifierCV(lgb.LGBMClassifier(**params), cv=kf),\n",
    "              X_train,\n",
    "              y_train,\n",
    "              X_test,\n",
    "              model_name=\"model3--\",\n",
    "              mean_columns = mean_columns,\n",
    "              use_columns = use_columns,\n",
    "              n_splits=15,\n",
    "              n_folds=10,\n",
    "#               stratification_groups=rew,\n",
    "              alpha=13\n",
    "             )\n",
    "gc.collect()\n",
    "# 10 folds logloss:\n",
    "# [0.53813999550530101, 0.54156197829297859, 0.53776042160086701, 0.53589112216067902, 0.54032527004830488, 0.53453887887254303, 0.53774912696694455, 0.54206452028545016, 0.5363155730521858, 0.54157050130437412]\n",
    "# mean: 0.538591738809\n",
    "# std: 0.00251526896901\n",
    "# 15 Splits logloss:\n",
    "# [0.54000451972587482, 0.54157275118553672, 0.53512486654736513, 0.54144504712359687, 0.53922167136464838, 0.53688530338119778, 0.54294510573581534, 0.53671041587250357, 0.54090389878424905, 0.53698476620290192, 0.53586473090919862, 0.53861995242703531, 0.53941241054626288, 0.53601253218752976, 0.54198752987790799]\n",
    "# mean: 0.538913033458\n",
    "# std: 0.00244291407569\n",
    "# model3- results saved!"
   ]
  },
  {
   "cell_type": "code",
   "execution_count": null,
   "metadata": {
    "collapsed": false
   },
   "outputs": [],
   "source": [
    "# from sklearn.neural_network import MLPClassifier\n",
    "# from sklearn.preprocessing import StandardScaler  \n",
    "\n",
    "# scaler = StandardScaler()  \n",
    "# X = pd.concat((X_train, X_test), axis=0)\n",
    "# scaler.fit(X)\n",
    "# gc.collect()\n",
    "\n",
    "# clf = MLPClassifier(solver='adam', activation='relu', learning_rate = 'adaptive', tol = 1e-5,\n",
    "#                     hidden_layer_sizes=(8, 3), random_state=1100)\n",
    "\n",
    "# utils.execute_model(clf,\n",
    "#               scaler.transform(X_train),\n",
    "#               y_train,\n",
    "#               scaler.transform(X_test) ,\n",
    "#               model_name=\"model4\",\n",
    "#               mean_columns = mean_columns,\n",
    "#               use_columns = use_columns,\n",
    "#               n_splits=15,\n",
    "#               n_folds=10,\n",
    "#               alpha=20\n",
    "#              )\n",
    "# gc.collect()"
   ]
  },
  {
   "cell_type": "code",
   "execution_count": 22,
   "metadata": {
    "collapsed": false
   },
   "outputs": [
    {
     "name": "stdout",
     "output_type": "stream",
     "text": [
      "\n",
      "model1\n",
      "0.538618972443\t0.539337497689\t0.538618972443\t0.539337497689\n",
      "\n",
      "model2\n",
      "0.538615159126\t0.539160708115\t0.538496052347\t0.539114773246\n",
      "\n",
      "model3\n",
      "0.538702687693\t0.539402696417\t0.538141859286\t0.538727942758\n",
      "\n",
      "model1+\n",
      "0.538601643568\t0.539670976936\t0.538094189224\t0.538763999819\n",
      "\n",
      "model2+\n",
      "0.538517667601\t0.539501720811\t0.538092073243\t0.538807972121\n",
      "\n",
      "model3+\n",
      "0.538577200052\t0.539349318922\t0.537998452494\t0.538697384187\n",
      "\n",
      "model1-\n",
      "0.538427443515\t0.539259404657\t0.537905437388\t0.5385961417\n",
      "\n",
      "model2-\n",
      "0.538376979597\t0.539234052396\t0.537859475936\t0.538549982485\n",
      "\n",
      "model3-\n",
      "0.538591689802\t0.539338604647\t0.537797383673\t0.538468964022\n"
     ]
    }
   ],
   "source": [
    "models = ['model1','model2','model3','model1+','model2+','model3+','model1-','model2-','model3-']\n",
    "result1 = utils.merge_models(models, method='mean')\n",
    "pd.DataFrame(result1).to_csv('models1234_mean.csv', index=False, header=False, sep=';')"
   ]
  },
  {
   "cell_type": "code",
   "execution_count": 38,
   "metadata": {
    "collapsed": false
   },
   "outputs": [
    {
     "name": "stdout",
     "output_type": "stream",
     "text": [
      "\n",
      "model1--\n",
      "0.538198273757\t0.539317147373\t0.538198273757\t0.539317147373\n",
      "\n",
      "model2--\n",
      "0.53839975285\t0.539207022986\t0.538149458663\t0.539084799517\n",
      "\n",
      "model3--\n",
      "0.538534296543\t0.539378294774\t0.537860998608\t0.538702006494\n",
      "\n",
      "model1+\n",
      "0.538601643568\t0.539670976936\t0.537768453972\t0.538608905897\n",
      "\n",
      "model2+\n",
      "0.538517667601\t0.539501720811\t0.537776436067\t0.538619243069\n",
      "\n",
      "model3+\n",
      "0.538577200052\t0.539349318922\t0.537716308236\t0.53851654905\n",
      "\n",
      "model1\n",
      "0.538618972443\t0.539337497689\t0.537742193927\t0.53851563266\n",
      "\n",
      "model2\n",
      "0.538615159126\t0.539160708115\t0.53778124543\t0.53851594859\n",
      "\n",
      "model3\n",
      "0.538702687693\t0.539402696417\t0.537762491211\t0.538472908769\n",
      "\n",
      "model1-\n",
      "0.538427443515\t0.539259404657\t0.537750536607\t0.538458718522\n",
      "\n",
      "model2-\n",
      "0.538376979597\t0.539234052396\t0.537747292846\t0.538456849329\n",
      "\n",
      "model3-\n",
      "0.538591689802\t0.539338604647\t0.537723242359\t0.538418956272\n"
     ]
    }
   ],
   "source": [
    "models = ['model1--','model2--','model3--', 'model1+','model2+','model3+','model1','model2','model3','model1-','model2-','model3-']\n",
    "result2 = utils.merge_models(models, method='mean')\n",
    "pd.DataFrame(result2).to_csv('models1234+_mean.csv', index=False, header=False, sep=';')"
   ]
  },
  {
   "cell_type": "code",
   "execution_count": null,
   "metadata": {
    "collapsed": false
   },
   "outputs": [],
   "source": [
    "# X_test['error_group']==0"
   ]
  },
  {
   "cell_type": "code",
   "execution_count": null,
   "metadata": {
    "collapsed": false
   },
   "outputs": [],
   "source": [
    "# pd.Series(result1-result2).hist(bins=100)"
   ]
  },
  {
   "cell_type": "code",
   "execution_count": null,
   "metadata": {
    "collapsed": false
   },
   "outputs": [],
   "source": [
    "# pd.Series((result1-result2)[X_test['error_group']==0]).hist(bins=100)"
   ]
  },
  {
   "cell_type": "code",
   "execution_count": null,
   "metadata": {
    "collapsed": false
   },
   "outputs": [],
   "source": [
    "# pd.Series((result1-result2)[X_test['error_group']!=0]).hist(bins=100)"
   ]
  },
  {
   "cell_type": "code",
   "execution_count": null,
   "metadata": {
    "collapsed": true
   },
   "outputs": [],
   "source": [
    "result3 = result2.copy()\n",
    "result3[X_test['error_group']==0] = result1[X_test['error_group']==0]"
   ]
  },
  {
   "cell_type": "code",
   "execution_count": null,
   "metadata": {
    "collapsed": true
   },
   "outputs": [],
   "source": [
    "pd.DataFrame(result3).to_csv('test_mean.csv', index=False, header=False, sep=';')"
   ]
  },
  {
   "cell_type": "code",
   "execution_count": null,
   "metadata": {
    "collapsed": false
   },
   "outputs": [],
   "source": [
    "import importlib\n",
    "utils = importlib.reload(utils)"
   ]
  },
  {
   "cell_type": "code",
   "execution_count": null,
   "metadata": {
    "collapsed": true
   },
   "outputs": [],
   "source": [
    "# 0.537723242359\t0.538418956272 = 0.5433819\n",
    "# 0.537697918691\t0.538454608940 = 0.5435035\n",
    "# 0.537797383673\t0.538468964022 = 0.5433098\n",
    "# 0.537998452494\t0.538697384187 = 0.5433633\n",
    "# 0.538141859286\t0.538727942758 = 0.5434983"
   ]
  },
  {
   "cell_type": "code",
   "execution_count": null,
   "metadata": {
    "collapsed": true
   },
   "outputs": [],
   "source": [
    "# 0.537735274001\t0.537762262313 = 0.5439345\n",
    "# 0.538040557134\t0.538014744278 = 0.5436639\n",
    "# 0.5374\t0.5374                 = 0.5440495\n",
    "# 0.537603843701\t0.537606129043 = 0.5448082\n",
    "\n",
    "# Со столбцами Стаса альфа=20\n",
    "# 0.537387582699\t0.537559051543 = 0.5482682\n",
    "\n",
    "# 0.537684932504\t0.537640948053 = 0.5514443 добавил один столбик \"по Стасу\"\n",
    "# 0.537748490027\t0.537673097079 = 0.5517563 20 фолдов для подсчета среднего\n",
    "\n",
    "# Без них\n",
    "# 0.538947547578\t0.538808662263 = 0.5441786\n",
    "# 0.538231869380\t0.538120316604 = 0.5435621"
   ]
  }
 ],
 "metadata": {
  "kernelspec": {
   "display_name": "Python 3",
   "language": "python",
   "name": "python3"
  },
  "language_info": {
   "codemirror_mode": {
    "name": "ipython",
    "version": 3
   },
   "file_extension": ".py",
   "mimetype": "text/x-python",
   "name": "python",
   "nbconvert_exporter": "python",
   "pygments_lexer": "ipython3",
   "version": "3.6.0"
  }
 },
 "nbformat": 4,
 "nbformat_minor": 2
}
