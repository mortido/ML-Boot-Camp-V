{
 "cells": [
  {
   "cell_type": "code",
   "execution_count": 1,
   "metadata": {
    "collapsed": false
   },
   "outputs": [],
   "source": [
    "import pandas as pd\n",
    "import numpy as np\n",
    "\n",
    "import random\n",
    "\n",
    "import xgboost as xgb\n",
    "from sklearn.ensemble import RandomForestClassifier\n",
    "from sklearn.metrics import log_loss\n",
    "from sklearn.model_selection import StratifiedKFold\n",
    "\n",
    "import matplotlib.pyplot as plt\n",
    "import seaborn as sns\n",
    "import gc\n",
    "import utils\n",
    "\n",
    "plt.style.use('ggplot')\n",
    "%matplotlib inline"
   ]
  },
  {
   "cell_type": "code",
   "execution_count": 2,
   "metadata": {
    "collapsed": false
   },
   "outputs": [],
   "source": [
    "train = pd.read_csv('train.csv', sep=';')\n",
    "test = pd.read_csv('test.csv', sep=';', na_values='None')\n",
    "\n",
    "train = utils.clean_data(train)\n",
    "test = utils.clean_data(test)\n",
    "\n",
    "train = utils.new_features(train)\n",
    "test = utils.new_features(test)\n",
    "\n",
    "X_train = train.drop([ 'cardio'], axis=1)\n",
    "y_train = train['cardio'].values.ravel()\n",
    "X_test = test.drop([], axis=1)\n",
    "\n",
    "ccc = ['age', 'age_group', 'height', 'weight', 'ap_hi', 'ap_lo', 'cholesterol', 'gluc', 'BMI', 'MAP']\n",
    "def new_cols(data):    \n",
    "    for col1 in ccc:\n",
    "        data[col1 + '_log'] = np.log(data[col1] + 1.1)\n",
    "        for col2 in ccc:\n",
    "            data['%s_mul_%s' % (col1, col2)] = data[col1] * data[col2]\n",
    "            data['%s_mul_log_%s' % (col1, col2)] = data[col1] * np.log(data[col2] + 1)\n",
    "            data['%s_div_log_%s' % (col1, col2)] = data[col1] / (np.log(data[col2] + 1) + 1)\n",
    "\n",
    "            if col2 == col1:\n",
    "                continue\n",
    "\n",
    "            data['%s_div_%s' % (col1, col2)] = data[col1] / (data[col2] + 1)\n",
    "\n",
    "new_cols(X_train)\n",
    "new_cols(X_test)"
   ]
  },
  {
   "cell_type": "code",
   "execution_count": 3,
   "metadata": {
    "collapsed": true
   },
   "outputs": [],
   "source": [
    "loo = pd.read_csv('LOO_results.csv', sep=',', index_col='index')\n",
    "loo = loo.sort_index()\n",
    "strat = pd.qcut(loo, 20, labels=False).astype(str)\n",
    "strat = np.hstack((strat, y_train.reshape((-1,1))))\n",
    "strat =np.apply_along_axis(lambda d: str(d[0]) + '_' + str(d[1]), 1, strat)"
   ]
  },
  {
   "cell_type": "code",
   "execution_count": 4,
   "metadata": {
    "collapsed": false
   },
   "outputs": [],
   "source": [
    "use_columns = [\n",
    "\"gender\",\n",
    "\"height\",\n",
    "\"weight\",\n",
    "\"ap_hi\",\n",
    "\"ap_lo\",\n",
    "\"cholesterol\",\n",
    "# \"gluc\",\n",
    "\"active_fair\",\n",
    "\"smoke_restored\",\n",
    "\"alco_restored\",\n",
    "# \"active_restored\",\n",
    "\"height_mul_log_gluc\",\n",
    "\"BMI\",\n",
    "\"age_group\",\n",
    "# \"cholesterol_div_log_age_group\",\n",
    "\"cholesterol_div_log_gluc\",\n",
    "\"gluc_mul_log_age\",\n",
    "# \"age_group_mul_log_ap_lo\",\n",
    "]\n",
    "mean_columns = [\n",
    "#     ['cholesterol','gluc','smoke_restored','active_restored'],\n",
    "# #     ['ap_hi_group'],\n",
    "# #     ['ap_lo_group'],\n",
    "#     ['ap_hi_group', 'age_group', 'gender'],\n",
    "    \n",
    "# #     [\"error_group\"],\n",
    "# #     ['gluc'], \n",
    "#     ['MAP','active_restored'],\n",
    "#     ['gender','MAP'],\n",
    "# #     ['cholesterol','gluc'],\n",
    "# #     ['gluc','smoke_restored'],\n",
    "# #     ['gluc','active_restored'],\n",
    "# #     ['gluc','alco_restored'],\n",
    "# #     ['smoke_restored','active_restored'],\n",
    "#     ['cholesterol','gluc','active_restored'],\n",
    "#     ['gender','cholesterol','gluc']\n",
    "    \n",
    "    \n",
    "#  ('age_group', 'gender', 'gluc', 'smoke', 'active'),\n",
    "#  ('gender', 'cholesterol', 'gluc', 'alco', 'active'),\n",
    "#  ('MAP', 'alco', 'active', 'ap_hi_group', 'ap_lo_group'),\n",
    "\n",
    "]\n",
    "\n",
    "# for i in range(10):\n",
    "#         str_i = str(i)\n",
    "#         use_columns.append('hi_' + str_i + 's')\n",
    "\n",
    "from sklearn.pipeline import Pipeline, FeatureUnion\n",
    "from utils import SmoothLikelihood,SmoothLikelihood2,SmoothLikelihood3,SmoothLikelihood4, ColumnsFilter\n",
    "def wrap_classifier(clf):\n",
    "#     kf = StratifiedKFold(random_state=111111, n_splits=10, shuffle=True)\n",
    "    fs = [(\"filter\", ColumnsFilter(use_columns))]\n",
    "    for i, cc in enumerate(mean_columns):\n",
    "        fs.append(('mean_'+str(i), SmoothLikelihood4(cc, 0.5,\n",
    "                                                    kf=StratifiedKFold(random_state=111111+i, n_splits=20, shuffle=True),\n",
    "                                                    alpha=13,\n",
    "                                                    seed=10+i,\n",
    "                                                    std=0.0013)))\n",
    "    combined_features = FeatureUnion(fs)\n",
    "    return Pipeline([ (\"features\", combined_features), (\"model\", clf)])"
   ]
  },
  {
   "cell_type": "code",
   "execution_count": 5,
   "metadata": {
    "collapsed": false,
    "scrolled": true
   },
   "outputs": [
    {
     "name": "stdout",
     "output_type": "stream",
     "text": [
      "\n",
      "10 folds logloss:\n",
      "[0.5355844195316305, 0.53655910909216464, 0.53773963469872099, 0.53850055537943453, 0.53975957230011651, 0.5383169870612543, 0.53607821997437344, 0.53762646286276594, 0.53758864184487654, 0.53720474110207739]\n",
      "mean: 0.537495834385\n",
      "std: 0.00116269978464\n",
      "15 Splits logloss:\n",
      "[0.53760805263689582, 0.5375023567382069, 0.53723482898729191, 0.53813321401959369, 0.53780022715812636, 0.53816067404051626, 0.53597913467068048, 0.53882443252010714, 0.5375065382766937, 0.5382452256586403, 0.53738898259472279, 0.537377671318927, 0.53761667643398758, 0.53804864953458309, 0.53817002370013367]\n",
      "mean: 0.537706445886\n",
      "std: 0.00062095045841\n",
      "model1- results saved!\n"
     ]
    },
    {
     "data": {
      "text/plain": [
       "246"
      ]
     },
     "execution_count": 5,
     "metadata": {},
     "output_type": "execute_result"
    }
   ],
   "source": [
    "params = {\n",
    "#     'colsample_bytree': 0.8,\n",
    "#     'learning_rate': 0.1,\n",
    "#     'n_estimators': 224,\n",
    "#     'subsample': 0.8,\n",
    "    \n",
    "    'colsample_bytree': 0.875,\n",
    "     'gamma': 0.05,\n",
    "     'learning_rate': 0.02,\n",
    "     'max_depth': 5,\n",
    "     'min_child_weight': 5,\n",
    "     'n_estimators': 369,\n",
    "\n",
    "     'reg_alpha': 0,\n",
    "     'reg_lambda': 10,\n",
    "     'subsample': 0.7,\n",
    "    \n",
    "    'n_jobs': 1,\n",
    "    'random_state': 2707,\n",
    "    'silent': True,\n",
    "}\n",
    "\n",
    "utils.execute_model(wrap_classifier(xgb.XGBClassifier(**params)),\n",
    "              X_train,\n",
    "              y_train,\n",
    "              X_test,\n",
    "              model_name=\"model1-\",\n",
    "              n_splits=15,\n",
    "              n_folds=10,\n",
    "              stratification_groups=strat,\n",
    "#                     verbose=0\n",
    "             )\n",
    "gc.collect()\n",
    "# mean: 0.538285252534\n",
    "\n",
    "# mean: 0.538269625709\n",
    "# mean: 0.538236304885\n",
    "\n",
    "# 0.538165802596\n",
    "#  0.538044372182\n",
    "\n",
    "# 0.538068044607\n",
    "# 0.538046718451  0.538141127156\n",
    "# 0.538164179021 110\n",
    "# mean: 0.538159507547 105\n",
    "# 0.538133633182 100\n",
    "\n",
    "# mean: 0.538030554975\n",
    "# mean: 0.538058542246\n",
    "# mean: 0.538042794907\n",
    "\n",
    "# mean: 0.538169316987\n",
    "# 0.538115082189\n",
    "\n",
    "# 0.538015868136\n",
    "\n",
    "# mean: 0.538130995063\n",
    "# mean: 0.538016211504\n",
    "\n",
    "# mean: 0.538017046973\n",
    "\n",
    "# mean: 0.538014096544\n",
    "# 0.53799148135\n",
    "# 0.538086890907\n",
    "\n",
    "# mean: 0.538881035549\n",
    "# std: 0.00142658306865\n",
    "\n",
    "# mean: 0.538080355085\n",
    "# std: 0.00125409431762\n",
    "\n",
    "# 10 folds logloss:\n",
    "# mean: 0.53759902514\n",
    "# std: 0.00131889611442\n",
    "# 15 Splits logloss:\n",
    "# mean: 0.537692124543\n",
    "# std: 0.000680289255263\n",
    "\n",
    "#  0.537553658624"
   ]
  },
  {
   "cell_type": "code",
   "execution_count": 74,
   "metadata": {
    "collapsed": false
   },
   "outputs": [
    {
     "data": {
      "text/plain": [
       "array([[<matplotlib.axes._subplots.AxesSubplot object at 0x000002878A5AEBA8>]], dtype=object)"
      ]
     },
     "execution_count": 74,
     "metadata": {},
     "output_type": "execute_result"
    },
    {
     "data": {
      "image/png": "[encoded data removed]",
      "text/plain": [
       "<matplotlib.figure.Figure at 0x2878a5c1ef0>"
      ]
     },
     "metadata": {},
     "output_type": "display_data"
    }
   ],
   "source": [
    "pd.DataFrame(np.random.normal(scale=0.25, size=(1000,1))).hist(bins=100)"
   ]
  },
  {
   "cell_type": "code",
   "execution_count": 18,
   "metadata": {
    "collapsed": false
   },
   "outputs": [],
   "source": [
    "import importlib\n",
    "utils = importlib.reload(utils)"
   ]
  },
  {
   "cell_type": "code",
   "execution_count": 50,
   "metadata": {
    "collapsed": false
   },
   "outputs": [],
   "source": [
    "from utils import SmoothLikelihood4\n",
    "\n",
    "D = X_train.copy()\n",
    "G = X_test.copy()\n",
    "slk = SmoothLikelihood4(['gender','MAP'], 0.5, kf=StratifiedKFold(random_state=111111, n_splits=20, shuffle=True),\n",
    "                        alpha=13,\n",
    "                       seed=10,\n",
    "                        std=0.0013\n",
    "                       )\n",
    "d1 = slk.fit_transform(X_train, y_train)\n",
    "g1 = slk.transform(X_test)"
   ]
  },
  {
   "cell_type": "code",
   "execution_count": 51,
   "metadata": {
    "collapsed": true
   },
   "outputs": [],
   "source": [
    "D['slk']=d1\n",
    "G['slk']=g1"
   ]
  },
  {
   "cell_type": "code",
   "execution_count": 52,
   "metadata": {
    "collapsed": false
   },
   "outputs": [
    {
     "data": {
      "text/plain": [
       "<matplotlib.axes._subplots.AxesSubplot at 0x1a2071db0f0>"
      ]
     },
     "execution_count": 52,
     "metadata": {},
     "output_type": "execute_result"
    },
    {
     "data": {
      "image/png": "[encoded data removed]",
      "text/plain": [
       "<matplotlib.figure.Figure at 0x1a2064bd630>"
      ]
     },
     "metadata": {},
     "output_type": "display_data"
    }
   ],
   "source": [
    "plt.figure(figsize=(40,7))\n",
    "D['slk'].hist(bins=500)\n",
    "G['slk'].hist(bins=500)"
   ]
  },
  {
   "cell_type": "code",
   "execution_count": 62,
   "metadata": {
    "collapsed": false
   },
   "outputs": [
    {
     "data": {
      "text/plain": [
       "0.054392829322042147"
      ]
     },
     "execution_count": 62,
     "metadata": {},
     "output_type": "execute_result"
    }
   ],
   "source": [
    "D.groupby(['ap_hi_group', 'age_group', 'gender'])['slk'].std().max()"
   ]
  },
  {
   "cell_type": "code",
   "execution_count": 6,
   "metadata": {
    "collapsed": false
   },
   "outputs": [
    {
     "name": "stdout",
     "output_type": "stream",
     "text": [
      "\n",
      "10 folds logloss:\n",
      "[0.53621854076557018, 0.53671467667154171, 0.53785833236409908, 0.53887634320909306, 0.54040929569983065, 0.53854971592716183, 0.53593053353167508, 0.53796925385647876, 0.53776347541901204, 0.53742250891048571]\n",
      "mean: 0.537771267635\n",
      "std: 0.00125978114173\n",
      "15 Splits logloss:\n",
      "[0.53792029706149225, 0.53796479774568051, 0.53756138339918103, 0.53885004129557912, 0.53766862681623373, 0.53859242251391215, 0.53621256896543001, 0.53887050457378582, 0.53795376725122335, 0.53882877584262978, 0.53796384426632093, 0.53760679947114776, 0.53802274892754143, 0.53851110382457934, 0.5382489424028567]\n",
      "mean: 0.538051774957\n",
      "std: 0.00065647721665\n",
      "model2- results saved!\n"
     ]
    },
    {
     "data": {
      "text/plain": [
       "138"
      ]
     },
     "execution_count": 6,
     "metadata": {},
     "output_type": "execute_result"
    }
   ],
   "source": [
    "params = {\n",
    "     'colsample_bytree': 0.95,\n",
    "     'gamma': 0.55,\n",
    "     'learning_rate': 0.02,\n",
    "     'max_depth': 5,\n",
    "     'min_child_weight': 3,\n",
    "     'n_estimators': 392,\n",
    "     'reg_alpha': 0,\n",
    "     'reg_lambda': 0.4,\n",
    "     'subsample': 0.85,\n",
    "\n",
    "    'tree_method': 'hist',\n",
    "    'grow_policy': 'lossguide',\n",
    "    \n",
    "    'n_jobs': 4,\n",
    "    'random_state': 2707,\n",
    "    'silent': True,\n",
    "}\n",
    "\n",
    "utils.execute_model(wrap_classifier(xgb.XGBClassifier(**params)),\n",
    "              X_train,\n",
    "              y_train,\n",
    "              X_test,\n",
    "              model_name=\"model2-\",\n",
    "              n_splits=15,\n",
    "              n_folds=10,\n",
    "              stratification_groups=strat,\n",
    "             )\n",
    "gc.collect()"
   ]
  },
  {
   "cell_type": "code",
   "execution_count": 7,
   "metadata": {
    "collapsed": false
   },
   "outputs": [
    {
     "name": "stdout",
     "output_type": "stream",
     "text": [
      "\n",
      "10 folds logloss:\n",
      "[0.53674828691443466, 0.53740081774898096, 0.53849129255010941, 0.53882538471335073, 0.540049613051651, 0.53907674070639899, 0.53585892069921393, 0.53816434662742074, 0.5381721388074262, 0.53751046821648107]\n",
      "mean: 0.538029801004\n",
      "std: 0.00114369314275\n",
      "15 Splits logloss:\n",
      "[0.53852821395001127, 0.53801697427516582, 0.53769298530942511, 0.53963810166474668, 0.53835073587024918, 0.53892591081315289, 0.53651119448287088, 0.5394750358892143, 0.53825725475911812, 0.53923570720354808, 0.53791071578963778, 0.53774567121550843, 0.53835163260492069, 0.53884289700829302, 0.5387461103420671]\n",
      "mean: 0.538415276079\n",
      "std: 0.000770252239898\n",
      "model3- results saved!\n"
     ]
    },
    {
     "data": {
      "text/plain": [
       "133"
      ]
     },
     "execution_count": 7,
     "metadata": {},
     "output_type": "execute_result"
    }
   ],
   "source": [
    "import lightgbm as lgb\n",
    "\n",
    "params = {\n",
    "    'colsample_bytree': 0.95,\n",
    "#      'gamma': 0.55,\n",
    "     'learning_rate': 0.02,\n",
    "#      'max_depth': 5,\n",
    "     'num_leaves': 2**5,\n",
    "     'min_child_weight': 3,\n",
    "     'n_estimators': 392,\n",
    "     'reg_alpha': 0,\n",
    "     'reg_lambda': 0.4,\n",
    "     'subsample': 0.85,\n",
    "       \n",
    "    'nthread': 4,\n",
    "    'seed': 2707,\n",
    "    'silent': True,\n",
    "}\n",
    "\n",
    "utils.execute_model(wrap_classifier(lgb.LGBMClassifier(**params)),\n",
    "              X_train,\n",
    "              y_train,\n",
    "              X_test,\n",
    "              model_name=\"model3-\",\n",
    "              n_splits=15,\n",
    "              n_folds=10,\n",
    "              stratification_groups=strat,\n",
    "             )\n",
    "gc.collect()"
   ]
  },
  {
   "cell_type": "code",
   "execution_count": 20,
   "metadata": {
    "collapsed": false
   },
   "outputs": [
    {
     "name": "stdout",
     "output_type": "stream",
     "text": [
      "\n",
      "10 folds logloss:\n",
      "[0.53684701946806423, 0.53904627581058673, 0.53925450638625105, 0.53989188552933032, 0.53915486433130788, 0.53996754890181486, 0.53685438735289981, 0.53911923948677121, 0.53806970960961065, 0.53829662128392108]\n",
      "mean: 0.538650205816\n",
      "std: 0.00105888278682\n",
      "15 Splits logloss:\n",
      "[0.53786308206546873, 0.53757894959336239, 0.53832602344400116, 0.5390815991984591, 0.5389430207432736, 0.53880189967403813, 0.53661770072153636, 0.53992167316040118, 0.5384940600400524, 0.53887855581886002, 0.53838546988332558, 0.53826701575570868, 0.53844438684678508, 0.53856093274589101, 0.53924811522094973]\n",
      "mean: 0.538494165661\n",
      "std: 0.000741658040147\n",
      "model4- results saved!\n"
     ]
    },
    {
     "data": {
      "text/plain": [
       "360"
      ]
     },
     "execution_count": 20,
     "metadata": {},
     "output_type": "execute_result"
    }
   ],
   "source": [
    "clf = xgb.XGBClassifier(\n",
    "        learning_rate=0.06,\n",
    "        n_estimators=114,\n",
    "        max_depth=5,\n",
    "        min_child_weight=5,\n",
    "        gamma=0.3,\n",
    "        subsample=0.5,\n",
    "        colsample_bytree=0.5,\n",
    "        reg_alpha=9,\n",
    "        reg_lambda=1.4,\n",
    "        nthread=4,\n",
    "       \n",
    "        seed=1111\n",
    "    )\n",
    "\n",
    "utils.execute_model(wrap_classifier(clf),\n",
    "              X_train,\n",
    "              y_train,\n",
    "              X_test,\n",
    "              model_name=\"model4-\",\n",
    "              n_splits=15,\n",
    "              n_folds=10,\n",
    "              stratification_groups=strat,\n",
    "             )\n",
    "gc.collect()"
   ]
  },
  {
   "cell_type": "code",
   "execution_count": 8,
   "metadata": {
    "collapsed": false
   },
   "outputs": [
    {
     "name": "stdout",
     "output_type": "stream",
     "text": [
      "\n",
      "10 folds logloss:\n",
      "[0.53670905013243275, 0.53663060220198355, 0.5391350654835515, 0.539837075515748, 0.54015106013403613, 0.53894697401505498, 0.53691679622782151, 0.5387215399340789, 0.53726651191340424, 0.53865786091446444]\n",
      "mean: 0.538297253647\n",
      "std: 0.00124539071034\n",
      "15 Splits logloss:\n",
      "[0.53836993021491386, 0.53776298340294693, 0.5381327864122355, 0.53941939751174128, 0.53829588755548352, 0.53894926255409203, 0.53698739238899373, 0.53926021760595699, 0.53878827601431734, 0.53903658839834057, 0.53822160419404863, 0.53772581928924079, 0.53871668544065743, 0.5392587703452224, 0.53928808362533653]\n",
      "mean: 0.538547578997\n",
      "std: 0.000678594386135\n",
      "model5- results saved!\n"
     ]
    },
    {
     "data": {
      "text/plain": [
       "354"
      ]
     },
     "execution_count": 8,
     "metadata": {},
     "output_type": "execute_result"
    }
   ],
   "source": [
    "clf = xgb.XGBClassifier(\n",
    "        learning_rate=0.07,\n",
    "        n_estimators=218,\n",
    "        max_depth=3,\n",
    "        min_child_weight=5,\n",
    "        gamma=0.2,\n",
    "        subsample=0.6,\n",
    "        colsample_bytree=0.55,\n",
    "        reg_alpha=0,\n",
    "        reg_lambda=1.0,\n",
    "        nthread=4,\n",
    "        tree_method='hist',\n",
    "        grow_policy='lossguide',\n",
    "       \n",
    "        seed=2222\n",
    "    )\n",
    "\n",
    "utils.execute_model(wrap_classifier(clf),\n",
    "              X_train,\n",
    "              y_train,\n",
    "              X_test,\n",
    "              model_name=\"model5-\",\n",
    "              n_splits=15,\n",
    "              n_folds=10,\n",
    "              stratification_groups=strat,\n",
    "             )\n",
    "gc.collect()"
   ]
  },
  {
   "cell_type": "code",
   "execution_count": 22,
   "metadata": {
    "collapsed": false
   },
   "outputs": [
    {
     "name": "stdout",
     "output_type": "stream",
     "text": [
      "\n",
      "10 folds logloss:\n",
      "[0.53729233228329154, 0.53824221983905107, 0.53925314271520197, 0.53967301022840231, 0.54101326975537467, 0.53878151429919197, 0.53722921025452586, 0.53908484341327723, 0.53750030455639575, 0.53849853217026511]\n",
      "mean: 0.538656837951\n",
      "std: 0.00112134847992\n",
      "15 Splits logloss:\n",
      "[0.53893002614750352, 0.53796856877313037, 0.53833071830764645, 0.53958581595393551, 0.53885994773688695, 0.53955169944489623, 0.53714436424151102, 0.53964319776051539, 0.53911891171222026, 0.53859584862403642, 0.53831491700316625, 0.53829827023891386, 0.53879225862120805, 0.53943793592587541, 0.53973409054781374]\n",
      "mean: 0.538820438069\n",
      "std: 0.000705708960613\n",
      "model6- results saved!\n"
     ]
    },
    {
     "data": {
      "text/plain": [
       "349"
      ]
     },
     "execution_count": 22,
     "metadata": {},
     "output_type": "execute_result"
    }
   ],
   "source": [
    "clf = lgb.LGBMClassifier(\n",
    "        learning_rate=0.07,\n",
    "        n_estimators=218,\n",
    "#         max_depth=3,\n",
    "        num_leaves=2**3,\n",
    "        min_child_weight=5,\n",
    "        subsample=0.6,\n",
    "        colsample_bytree=0.55,\n",
    "        reg_alpha=0,\n",
    "        reg_lambda=1.0,\n",
    "        nthread=4,\n",
    "       \n",
    "        seed=2222\n",
    "    )\n",
    "\n",
    "utils.execute_model(wrap_classifier(clf),\n",
    "              X_train,\n",
    "              y_train,\n",
    "              X_test,\n",
    "              model_name=\"model6-\",\n",
    "              n_splits=15,\n",
    "              n_folds=10,\n",
    "              stratification_groups=strat,\n",
    "             )\n",
    "gc.collect()"
   ]
  },
  {
   "cell_type": "code",
   "execution_count": null,
   "metadata": {
    "collapsed": false
   },
   "outputs": [],
   "source": [
    "# from sklearn.neural_network import MLPClassifier\n",
    "# from sklearn.preprocessing import StandardScaler  \n",
    "\n",
    "# scaler = StandardScaler()  \n",
    "# X = pd.concat((X_train, X_test), axis=0)\n",
    "# scaler.fit(X)\n",
    "# gc.collect()\n",
    "\n",
    "# clf = MLPClassifier(solver='adam', activation='relu', learning_rate = 'adaptive', tol = 1e-5,\n",
    "#                     hidden_layer_sizes=(8, 3), random_state=1100)\n",
    "\n",
    "# utils.execute_model(clf,\n",
    "#               scaler.transform(X_train),\n",
    "#               y_train,\n",
    "#               scaler.transform(X_test) ,\n",
    "#               model_name=\"model4\",\n",
    "#               mean_columns = mean_columns,\n",
    "#               use_columns = use_columns,\n",
    "#               n_splits=15,\n",
    "#               n_folds=10,\n",
    "#               alpha=20\n",
    "#              )\n",
    "# gc.collect()"
   ]
  },
  {
   "cell_type": "code",
   "execution_count": null,
   "metadata": {
    "collapsed": false
   },
   "outputs": [],
   "source": [
    "models = ['model1','model2','model3']\n",
    "result1 = utils.merge_models(models, method='mean')\n",
    "pd.DataFrame(result1).to_csv('models1234_mean.csv', index=False, header=False, sep=';')"
   ]
  },
  {
   "cell_type": "code",
   "execution_count": 11,
   "metadata": {
    "collapsed": false
   },
   "outputs": [
    {
     "name": "stdout",
     "output_type": "stream",
     "text": [
      "\n",
      "KERAS_1\n",
      "0.541188333484\t0.541405679164\t0.541188333484\t0.541405679164\n",
      "\n",
      "model1-\n",
      "0.537495498978\t0.537706445895\t0.53815759386\t0.538294889252\n",
      "\n",
      "model2-\n",
      "0.537771013645\t0.538051774932\t0.537698317632\t0.53784253395\n",
      "\n",
      "model3-\n",
      "0.538029709996\t0.538415276079\t0.53753730697\t0.53771354451\n",
      "\n",
      "model5-\n",
      "0.538296979367\t0.538547578947\t0.537508023582\t0.537696880375\n",
      "\n",
      "model1\n",
      "0.538080079502\t0.538009376104\t0.537479453883\t0.537609018688\n",
      "\n",
      "model3\n",
      "0.538702687693\t0.539402696417\t0.53741390216\t0.770362462535\n",
      "\n",
      "model1+\n",
      "0.537856175071\t0.538141755107\t0.537347025354\t0.544398539016\n",
      "\n",
      "model2+\n",
      "0.538247526491\t0.53857718903\t0.537341094639\t0.543130882008\n"
     ]
    }
   ],
   "source": [
    "models = ['KERAS_1', 'model1-','model2-','model3-','model5-','model1','model3','model1+','model2+']\n",
    "result1 = utils.merge_models(models, method='mean')\n",
    "pd.DataFrame(result1).to_csv('models1234-_mean.csv', index=False, header=False, sep=';')\n",
    "# 0.537888791163\t0.53818930228\t0.537494736443\t0.537712095482"
   ]
  },
  {
   "cell_type": "code",
   "execution_count": null,
   "metadata": {
    "collapsed": true
   },
   "outputs": [],
   "source": [
    "# 0.537557163108\t0.537699150119 = 0.5428822 # + keras\n",
    "# 0.537519393165\t0.537619764695 = 0.5432057 * new log features\n",
    "\n",
    "# 0.538126862768\t0.538047373071 = 0.5431843\n",
    "# 0.538084892954\t0.538027778903 = 0.5433475\n",
    "# 0.538157706723\t0.538186899005 = 0.5430039 # без стасо-колонок\n",
    "# 0.537450021945\t0.537849282831 = 0.5434434\n",
    "# 0.537513993512\t0.537749328355 = 0.5433418\n",
    "\n",
    "# 0.537790804547\t0.538014148853 = 0.5438901 # overfit full\n",
    "\n",
    "# 0.537368545033                   = 0.5428417\n",
    "# 0.537561506209                   = 0.5432193\n",
    "# 0.537449005194                   = 0.5428384\n",
    "\n",
    "\n",
    "# 0.537727687638\t0.537773366433 = 0.5437636\n",
    "# 0.537662820586\t0.538506869394 = 0.5433681\n",
    "# 0.537639730851\t0.538322959718 = 0.5436416 # overfit due to smoke leak\n",
    "# 0.537723242359\t0.538418956272 = 0.5433819\n",
    "# 0.537697918691\t0.538454608940 = 0.5435035\n",
    "# 0.537797383673\t0.538468964022 = 0.5433098\n",
    "# 0.537998452494\t0.538697384187 = 0.5433633\n",
    "# 0.538141859286\t0.538727942758 = 0.5434983\n",
    "\n",
    "\n",
    "#--------------\n",
    "0.5430039"
   ]
  },
  {
   "cell_type": "code",
   "execution_count": null,
   "metadata": {
    "collapsed": false
   },
   "outputs": [],
   "source": [
    "%%time\n",
    "params = {\n",
    "    'learning_rate': 0.1,\n",
    "    'n_estimators': 50,\n",
    "    \n",
    "    'n_jobs': 8,\n",
    "    'random_state': 2707,\n",
    "    'silent': True,\n",
    "}\n",
    "\n",
    "utils.execute_model(xgb.XGBClassifier(),\n",
    "              X_train,\n",
    "              y_train,\n",
    "              mean_columns = mean_columns,\n",
    "              use_columns = use_columns,\n",
    "              n_folds=10,\n",
    "              alpha=13,\n",
    "             )\n",
    "gc.collect()"
   ]
  },
  {
   "cell_type": "code",
   "execution_count": null,
   "metadata": {
    "collapsed": true
   },
   "outputs": [],
   "source": [
    "# 0.537735274001\t0.537762262313 = 0.5439345\n",
    "# 0.538040557134\t0.538014744278 = 0.5436639\n",
    "# 0.5374\t0.5374                 = 0.5440495\n",
    "# 0.537603843701\t0.537606129043 = 0.5448082\n",
    "\n",
    "# Со столбцами Стаса альфа=20\n",
    "# 0.537387582699\t0.537559051543 = 0.5482682\n",
    "\n",
    "# 0.537684932504\t0.537640948053 = 0.5514443 добавил один столбик \"по Стасу\"\n",
    "# 0.537748490027\t0.537673097079 = 0.5517563 20 фолдов для подсчета среднего\n",
    "\n",
    "# Без них\n",
    "# 0.538947547578\t0.538808662263 = 0.5441786\n",
    "# 0.538231869380\t0.538120316604 = 0.5435621"
   ]
  }
 ],
 "metadata": {
  "kernelspec": {
   "display_name": "Python 3",
   "language": "python",
   "name": "python3"
  },
  "language_info": {
   "codemirror_mode": {
    "name": "ipython",
    "version": 3
   },
   "file_extension": ".py",
   "mimetype": "text/x-python",
   "name": "python",
   "nbconvert_exporter": "python",
   "pygments_lexer": "ipython3",
   "version": "3.6.0"
  }
 },
 "nbformat": 4,
 "nbformat_minor": 2
}
