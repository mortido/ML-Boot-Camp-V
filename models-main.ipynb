{
 "cells": [
  {
   "cell_type": "code",
   "execution_count": 156,
   "metadata": {
    "collapsed": false
   },
   "outputs": [],
   "source": [
    "import pandas as pd\n",
    "import numpy as np\n",
    "\n",
    "import random\n",
    "\n",
    "import xgboost as xgb\n",
    "from sklearn.ensemble import RandomForestClassifier\n",
    "from sklearn.metrics import log_loss\n",
    "\n",
    "import matplotlib.pyplot as plt\n",
    "import seaborn as sns\n",
    "import gc\n",
    "import utils \n",
    "\n",
    "plt.style.use('ggplot')\n",
    "%matplotlib inline"
   ]
  },
  {
   "cell_type": "code",
   "execution_count": 157,
   "metadata": {
    "collapsed": false
   },
   "outputs": [
    {
     "data": {
      "text/plain": [
       "[(0.538224666658, 'gender_cholesterol_gluc'),\n",
       " (0.538264506609, 'cholesterol_gluc_active'),\n",
       " (0.538347090052, 'cholesterol_gluc_alco'),\n",
       " (0.538390958086, 'error_group_cholesterol_gluc'),\n",
       " (0.538403616287, 'cholesterol_gluc'),\n",
       " (0.538421388154, 'age_group_error_group_gluc'),\n",
       " (0.538423057656, 'cholesterol_gluc_smoke_active'),\n",
       " (0.538433428412, 'gender_smoke_active'),\n",
       " (0.538438930193, 'gluc_smoke_active'),\n",
       " (0.538446699606, 'gender_MAP'),\n",
       " (0.538458056167, 'cholesterol_gluc_smoke'),\n",
       " (0.538458153646, 'error_group_smoke_active'),\n",
       " (0.538459912893, 'gluc_active'),\n",
       " (0.538462902667, 'error_group_alco_active'),\n",
       " (0.538473146062, 'age_group_gluc_active'),\n",
       " (0.538485049101, 'gender_cholesterol_gluc_active'),\n",
       " (0.538485357473, 'cholesterol_gluc_smoke_alco_active'),\n",
       " (0.538492455954, 'gluc_BMI_group_smoke'),\n",
       " (0.538492455954, 'gluc_smoke_height_group'),\n",
       " (0.538496750986, 'MAP_gluc_active'),\n",
       " (0.538497101023, 'smoke_active'),\n",
       " (0.538502938446, 'age_group_gender_alco'),\n",
       " (0.538503250338, 'age_group_gender_error_group'),\n",
       " (0.538511181624, 'age_group_gender_gluc'),\n",
       " (0.538513905577, 'gluc_smoke'),\n",
       " (0.538515840047, 'age_group_gluc_smoke'),\n",
       " (0.538519596999, 'gender_cholesterol_active'),\n",
       " (0.538530472903, 'gender_alco_active'),\n",
       " (0.538537529542, 'gluc_alco_active'),\n",
       " (0.538537556667, 'smoke_alco_active'),\n",
       " (0.538538052046, 'age_group_gluc'),\n",
       " (0.538538765546, 'gender_MAP_smoke'),\n",
       " (0.538540542747, 'MAP_smoke_alco'),\n",
       " (0.538542876918, 'age_group_gender_smoke'),\n",
       " (0.53854568799, 'gender_cholesterol_smoke'),\n",
       " (0.538545756092, 'cholesterol_gluc_BMI_group'),\n",
       " (0.538545756092, 'cholesterol_gluc_height_group'),\n",
       " (0.538546386493, 'gender_gluc_active'),\n",
       " (0.538546917349, 'age_group_gender'),\n",
       " (0.538549234756, 'gender_MAP_error_group'),\n",
       " (0.538554965298, 'MAP_BMI_group_alco'),\n",
       " (0.538554965298, 'MAP_alco_height_group'),\n",
       " (0.538567255572, 'ap_hi'),\n",
       " (0.538577368412, 'MAP_error_group'),\n",
       " (0.538578197781, 'gluc_smoke_alco'),\n",
       " (0.538579099797, 'cholesterol_gluc_alco_active'),\n",
       " (0.538583122431, 'gender_gluc_smoke'),\n",
       " (0.538585787788, 'age_group_error_group_alco'),\n",
       " (0.538588478581, 'gluc'),\n",
       " (0.538589229798, 'gender_smoke'),\n",
       " (0.538590281731, 'error_group_gluc'),\n",
       " (0.538592834598, 'gluc_alco'),\n",
       " (0.538595737992, 'MAP_active'),\n",
       " (0.53859757607, 'gender_active'),\n",
       " (0.538598031272, 'error_group_smoke_weight_group'),\n",
       " (0.538602256739, 'age_group_gender_gluc_smoke_active'),\n",
       " (0.538604509019, 'age_group_gluc_alco'),\n",
       " (0.538605556333, 'MAP_smoke'),\n",
       " (0.538607528017, 'MAP_error_group_smoke'),\n",
       " (0.538608970885, 'MAP_error_group_alco'),\n",
       " (0.538613057047, 'error_group_active'),\n",
       " (0.538616169696, 'gender_gluc_smoke_active'),\n",
       " (0.538621130436, 'gender_MAP_alco'),\n",
       " (0.538625676171, 'gender_cholesterol_gluc_smoke_active'),\n",
       " (0.538632765675, 'gender_cholesterol_gluc_alco'),\n",
       " (0.538662681371, 'gender_cholesterol_gluc_smoke'),\n",
       " (0.538698437031, 'cholesterol_gluc_smoke_alco'),\n",
       " (0.538699428457, 'age_group_gender_gluc_alco'),\n",
       " (0.538704316355, 'age_group_gender_smoke_active'),\n",
       " (0.538704888347, 'age_group_gender_gluc_active'),\n",
       " (0.538721429916, 'age_group_gender_gluc_smoke'),\n",
       " (0.538725712345, 'age_group_gluc_alco_active'),\n",
       " (0.538726602437, 'gender_cholesterol_gluc_alco_active')]"
      ]
     },
     "execution_count": 157,
     "metadata": {},
     "output_type": "execute_result"
    }
   ],
   "source": [
    "sorted([(0.538567255572, 'ap_hi'),\n",
    "(0.538588478581, 'gluc'),\n",
    "(0.538546917349, 'age_group_gender'),\n",
    "(0.538538052046, 'age_group_gluc'),\n",
    "(0.538446699606, 'gender_MAP'),\n",
    "(0.538589229798, 'gender_smoke'),\n",
    "(0.53859757607, 'gender_active'),\n",
    "(0.538577368412, 'MAP_error_group'),\n",
    "(0.538605556333, 'MAP_smoke'),\n",
    "(0.538595737992, 'MAP_active'),\n",
    "(0.538590281731, 'error_group_gluc'),\n",
    "(0.538613057047, 'error_group_active'),\n",
    "(0.538403616287, 'cholesterol_gluc'),\n",
    "(0.538513905577, 'gluc_smoke'),\n",
    "(0.538592834598, 'gluc_alco'),\n",
    "(0.538459912893, 'gluc_active'),\n",
    "(0.538497101023, 'smoke_active'),\n",
    "(0.538503250338, 'age_group_gender_error_group'),\n",
    "(0.538511181624, 'age_group_gender_gluc'),\n",
    "(0.538542876918, 'age_group_gender_smoke'),\n",
    "(0.538502938446, 'age_group_gender_alco'),\n",
    "(0.538421388154, 'age_group_error_group_gluc'),\n",
    "(0.538585787788, 'age_group_error_group_alco'),\n",
    "(0.538515840047, 'age_group_gluc_smoke'),\n",
    "(0.538604509019, 'age_group_gluc_alco'),\n",
    "(0.538473146062, 'age_group_gluc_active'),\n",
    "(0.538549234756, 'gender_MAP_error_group'),\n",
    "(0.538538765546, 'gender_MAP_smoke'),\n",
    "(0.538621130436, 'gender_MAP_alco'),\n",
    "(0.538224666658, 'gender_cholesterol_gluc'),\n",
    "(0.53854568799, 'gender_cholesterol_smoke'),\n",
    "(0.538519596999, 'gender_cholesterol_active'),\n",
    "(0.538583122431, 'gender_gluc_smoke'),\n",
    "(0.538546386493, 'gender_gluc_active'),\n",
    "(0.538433428412, 'gender_smoke_active'),\n",
    "(0.538530472903, 'gender_alco_active'),\n",
    "(0.538607528017, 'MAP_error_group_smoke'),\n",
    "(0.538608970885, 'MAP_error_group_alco'),\n",
    "(0.538496750986, 'MAP_gluc_active'),\n",
    "(0.538554965298, 'MAP_BMI_group_alco'),\n",
    "(0.538540542747, 'MAP_smoke_alco'),\n",
    "(0.538554965298, 'MAP_alco_height_group'),\n",
    "(0.538390958086, 'error_group_cholesterol_gluc'),\n",
    "(0.538458153646, 'error_group_smoke_active'),\n",
    "(0.538598031272, 'error_group_smoke_weight_group'),\n",
    "(0.538462902667, 'error_group_alco_active'),\n",
    "(0.538545756092, 'cholesterol_gluc_BMI_group'),\n",
    "(0.538458056167, 'cholesterol_gluc_smoke'),\n",
    "(0.538347090052, 'cholesterol_gluc_alco'),\n",
    "(0.538264506609, 'cholesterol_gluc_active'),\n",
    "(0.538545756092, 'cholesterol_gluc_height_group'),\n",
    "(0.538492455954, 'gluc_BMI_group_smoke'),\n",
    "(0.538578197781, 'gluc_smoke_alco'),\n",
    "(0.538438930193, 'gluc_smoke_active'),\n",
    "(0.538492455954, 'gluc_smoke_height_group'),\n",
    "(0.538537529542, 'gluc_alco_active'),\n",
    "(0.538537556667, 'smoke_alco_active'),\n",
    "       \n",
    "(0.538721429916, 'age_group_gender_gluc_smoke'),\n",
    "(0.538699428457, 'age_group_gender_gluc_alco'),\n",
    "(0.538704888347, 'age_group_gender_gluc_active'),\n",
    "(0.538704316355, 'age_group_gender_smoke_active'),\n",
    "(0.538725712345, 'age_group_gluc_alco_active'),\n",
    "(0.538662681371, 'gender_cholesterol_gluc_smoke'),\n",
    "(0.538632765675, 'gender_cholesterol_gluc_alco'),\n",
    "(0.538485049101, 'gender_cholesterol_gluc_active'),\n",
    "(0.538616169696, 'gender_gluc_smoke_active'),\n",
    "(0.538698437031, 'cholesterol_gluc_smoke_alco'),\n",
    "(0.538423057656, 'cholesterol_gluc_smoke_active'),\n",
    "(0.538579099797, 'cholesterol_gluc_alco_active'),\n",
    "(0.538602256739, 'age_group_gender_gluc_smoke_active'),\n",
    "(0.538625676171, 'gender_cholesterol_gluc_smoke_active'),\n",
    "(0.538726602437, 'gender_cholesterol_gluc_alco_active'),\n",
    "(0.538485357473, 'cholesterol_gluc_smoke_alco_active'),\n",
    "       ])\n",
    "\n"
   ]
  },
  {
   "cell_type": "code",
   "execution_count": 254,
   "metadata": {
    "collapsed": true
   },
   "outputs": [],
   "source": [
    "best_interactions = [\n",
    "\"ap_hi\",\n",
    "\"gluc\",\n",
    "\"age_group_gender\",\n",
    "\"age_group_gluc\",\n",
    "\"gender_MAP\",\n",
    "\"gender_smoke\",\n",
    "\"gender_active\",\n",
    "\"MAP_error_group\",\n",
    "\"MAP_smoke\",\n",
    "\"MAP_active\",\n",
    "\"error_group_gluc\",\n",
    "\"error_group_active\",\n",
    "\"cholesterol_gluc\",\n",
    "\"gluc_smoke\",\n",
    "\"gluc_alco\",\n",
    "\"gluc_active\",\n",
    "\"smoke_active\",\n",
    "\"age_group_gender_error_group\",\n",
    "\"age_group_gender_gluc\",\n",
    "\"age_group_gender_smoke\",\n",
    "\"age_group_gender_alco\",\n",
    "\"age_group_error_group_gluc\",\n",
    "\"age_group_error_group_alco\",\n",
    "\"age_group_gluc_smoke\",\n",
    "\"age_group_gluc_alco\",\n",
    "\"age_group_gluc_active\",\n",
    "\"gender_MAP_error_group\",\n",
    "\"gender_MAP_smoke\",\n",
    "\"gender_MAP_alco\",\n",
    "\"gender_cholesterol_gluc\",\n",
    "\"gender_cholesterol_smoke\",\n",
    "\"gender_cholesterol_active\",\n",
    "\"gender_gluc_smoke\",\n",
    "\"gender_gluc_active\",\n",
    "\"gender_smoke_active\",\n",
    "\"gender_alco_active\",\n",
    "\"MAP_error_group_smoke\",\n",
    "\"MAP_error_group_alco\",\n",
    "\"MAP_gluc_active\",\n",
    "\"MAP_BMI_group_alco\",\n",
    "\"MAP_smoke_alco\",\n",
    "\"MAP_alco_height_group\",\n",
    "\"error_group_cholesterol_gluc\",\n",
    "\"error_group_smoke_active\",\n",
    "\"error_group_smoke_weight_group\",\n",
    "\"error_group_alco_active\",\n",
    "\"cholesterol_gluc_BMI_group\",\n",
    "\"cholesterol_gluc_smoke\",\n",
    "\"cholesterol_gluc_alco\",\n",
    "\"cholesterol_gluc_active\",\n",
    "\"cholesterol_gluc_height_group\",\n",
    "\"gluc_BMI_group_smoke\",\n",
    "\"gluc_smoke_alco\",\n",
    "\"gluc_smoke_active\",\n",
    "\"gluc_smoke_height_group\",\n",
    "\"gluc_alco_active\",\n",
    "\"smoke_alco_active\",\n",
    "\n",
    "\"age_group_gender_gluc_smoke\",\n",
    "\"age_group_gender_gluc_alco\",\n",
    "\"age_group_gender_gluc_active\",\n",
    "\"age_group_gender_smoke_active\",\n",
    "\"age_group_gluc_alco_active\",\n",
    "\"gender_cholesterol_gluc_smoke\",\n",
    "\"gender_cholesterol_gluc_alco\",\n",
    "\"gender_cholesterol_gluc_active\",\n",
    "\"gender_gluc_smoke_active\",\n",
    "\"cholesterol_gluc_smoke_alco\",\n",
    "\"cholesterol_gluc_smoke_active\",\n",
    "\"cholesterol_gluc_alco_active\",\n",
    "\"age_group_gender_gluc_smoke_active\",\n",
    "\"gender_cholesterol_gluc_smoke_active\",\n",
    "\"gender_cholesterol_gluc_alco_active\",\n",
    "\"cholesterol_gluc_smoke_alco_active\",\n",
    "]"
   ]
  },
  {
   "cell_type": "code",
   "execution_count": 255,
   "metadata": {
    "collapsed": false
   },
   "outputs": [],
   "source": [
    "def clean_data(data):\n",
    "    data['error_group'] = 0\n",
    "\n",
    "    # weight/height correction\n",
    "    idx = (data['height']<130) & (data['weight']>150)\n",
    "    data.loc[idx, [\"height\", \"weight\"]] = data.loc[idx, [\"weight\", \"height\"]].values\n",
    "#     data.loc[idx, 'error_group'] = 100-1\n",
    "#     data.loc[data['weight']<20, \"weight\"] *= 10\n",
    "#     data.loc[data['weight']<20, \"weight\"] *= 10\n",
    "#     data.loc[data['weight']<25, \"weight\"] += 100\n",
    "\n",
    "    # preasure correction\n",
    "\n",
    "    data.loc[data[\"ap_hi\"] < 0, \"ap_hi\"] *= -1\n",
    "    data.loc[data[\"ap_lo\"] < 0, \"ap_lo\"] *= -1\n",
    "    \n",
    "    for i in range(10):\n",
    "        str_i = str(i)\n",
    "        data['hi_' + str_i + 's'] = data['ap_hi'].apply(lambda x: str(x).count(str_i))\n",
    "#         data[str(i)+'lo'] = data['ap_lo'].apply(lambda x: str(x).count(str(i)))\n",
    "#         data[str(i)+'hilo'] = data[str(i)+'hi']+data[str(i)+'lo']\n",
    "#         data=data.drop(str(i)+'lo', axis=1)\n",
    "        for j in range(10):\n",
    "            str_j = str_i + str(j)\n",
    "            data['hi_' + str_j + 's'] = data['ap_hi'].apply(lambda x: str(x).count(str_j))\n",
    "        \n",
    "\n",
    "    data.loc[(data['ap_lo'] < 20), 'error_group'] = 5\n",
    "    data.loc[(data['ap_hi'] < 50), 'error_group'] = 6\n",
    "    data.loc[(data['ap_lo'] > 250), 'error_group'] = 1\n",
    "    data.loc[(data['ap_lo'] > 4000), 'error_group'] = 2\n",
    "    data.loc[(data['ap_hi'] > 250), 'error_group'] = 3\n",
    "    data.loc[(data['ap_hi'] > 10000), 'error_group'] = 4\n",
    "\n",
    "    data.loc[(data[\"ap_hi\"] < 20) & (data[\"ap_hi\"] > 10), \"ap_hi\"] *= 10\n",
    "    data.loc[(data[\"ap_lo\"] < 15) & (data[\"ap_lo\"] > 2), \"ap_lo\"] *= 10\n",
    "\n",
    "    idx = data['ap_hi'] > 10000\n",
    "    data.loc[idx, 'ap_hi'] = 10 * (data.loc[idx, 'ap_hi'] // 1000)\n",
    "    data.loc[data['ap_lo'] >= 10000, 'ap_lo'] //= 100\n",
    "\n",
    "#     data.loc[data['ap_lo'].isin([1100])&(data['ap_hi']>160), 'ap_lo'] = 110\n",
    "#     data.loc[data['ap_lo'].isin([1100]), 'ap_lo'] = 100\n",
    "#     data.loc[(data['ap_lo']>250)&(data['ap_lo']<4000)&(data['ap_lo']%100==0), 'ap_lo'] /= 10\n",
    "    \n",
    "    manual_update = [\n",
    "        \n",
    "# id\tage\tgender\theight\tweight\tap_hi\tap_lo\tcholesterol\tgluc\tsmoke\talco\tactive\tcardio\tBMI\n",
    "# 12494\t16905\t2\t163\t63.0\t1\t2088\t1\t1\t1.0\t0.0\t1.0\t0\t23.711845\n",
    "# 42591\t18191\t2\t162\t63.0\t140\t1900\t1\t1\t1.0\t0.0\t1.0\t1\t24.005487\n",
    "# 78873\t20323\t1\t168\t68.0\t130\t1900\t1\t1\t0.0\t0.0\t1.0\t0\t24.092971\n",
    "# 51749\t18419\t1\t169\t62.0\t1\t2088\t1\t1\t0.0\t0.0\t1.0\t-5\t21.707923\n",
    "        (12494, ['ap_hi', 'ap_lo'], [120, 80]),\n",
    "        (42591, ['ap_hi', 'ap_lo'], [140, 90]), # ?\n",
    "        (78873, ['ap_hi', 'ap_lo'], [130, 100]), # ?\n",
    "        (51749, ['ap_hi', 'ap_lo'], [120, 80]),\n",
    "        \n",
    "# 57807\t20496\t1\t164\t62.0\t70\t1100\t1\t1\t0.0\t0.0\t0.0\t0\t23.051755\n",
    "# 60477\t18716\t1\t171\t80.0\t1\t1088\t1\t1\t0.0\t0.0\t1.0\t1\t27.358845\n",
    "# 91198\t18182\t2\t186\t95.0\t100\t901\t2\t2\t0.0\t0.0\t1.0\t0\t27.459822\n",
    "# 6580\t19079\t1\t176\t92.0\t1\t1099\t1\t1\t0.0\tNaN\t1.0\t-5\t29.700413\n",
    "        (57807, ['ap_hi', 'ap_lo'], [170, 100]),\n",
    "        (60477, ['ap_hi', 'ap_lo'], [110, 80]),\n",
    "        (91198, ['ap_hi', 'ap_lo'], [100, 90]),\n",
    "        (6580,  ['ap_hi', 'ap_lo'], [110, 90]),\n",
    "        \n",
    "# 44701\t22801\t1\t163\t115.0\t20\t170\t1\t1\t0.0\t0.0\t1.0\t1\t43.283526\n",
    "# 94673\t22551\t1\t169\t88.0\t10\t160\t3\t3\t0.0\t0.0\t0.0\t1\t30.811246\n",
    "        (44701, ['ap_hi', 'ap_lo'], [120, 70]),\n",
    "        (94673,  ['ap_hi', 'ap_lo'], [110, 60]),\n",
    "        \n",
    "    ]\n",
    "    for idx, cols, update in manual_update:\n",
    "        data.loc[data['id']==idx, cols] = update\n",
    "        \n",
    "\n",
    "    return data"
   ]
  },
  {
   "cell_type": "code",
   "execution_count": 256,
   "metadata": {
    "collapsed": false
   },
   "outputs": [],
   "source": [
    "train = pd.read_csv('train.csv', sep=';')\n",
    "test = pd.read_csv('test.csv', sep=';', na_values='None')\n",
    "\n",
    "train = clean_data(train)\n",
    "test = clean_data(test)\n",
    "\n",
    "train = utils.new_features(train)\n",
    "test = utils.new_features(test)\n",
    "\n",
    "X_train = train.drop([ 'cardio'], axis=1)\n",
    "y_train = train['cardio'].values.ravel()\n",
    "X_test = test.drop([], axis=1)\n",
    "\n",
    "# columns_to_interact = ['age_group', 'gender', 'MAP', 'error_group', 'cholesterol', 'gluc', \n",
    "#                        'BMI_group', 'smoke', 'alco', 'active', \"ap_hi_group\", \"ap_lo_group\",\n",
    "#                       \"weight_group\", \"height_group\"]\n",
    "# temp = utils.generate_interactions(X_train, columns_to_interact, degree=5, white_list=best_interactions)\n",
    "# X_train = pd.concat((X_train, temp), axis=1)\n",
    "# X_test = pd.concat((X_test, utils.generate_interactions(X_test, columns_to_interact, degree=5, white_list=best_interactions)), axis=1)\n",
    "# print(temp.columns)\n",
    "\n",
    "# X = pd.concat((X_train, X_test), axis=0)\n",
    "\n",
    "# from sklearn.preprocessing import LabelEncoder\n",
    "# from collections import defaultdict\n",
    "# label_encoder_dict = defaultdict(LabelEncoder)\n",
    "# columns_to_encode = ['age_group'] + list(temp.columns)\n",
    "\n",
    "\n",
    "# X[columns_to_encode].apply(lambda x: label_encoder_dict[x.name].fit(x))\n",
    "# X_train[columns_to_encode] = X_train[columns_to_encode].apply(lambda x: label_encoder_dict[x.name].transform(x))\n",
    "# X_test[columns_to_encode] = X_test[columns_to_encode].apply(lambda x: label_encoder_dict[x.name].transform(x))"
   ]
  },
  {
   "cell_type": "code",
   "execution_count": 257,
   "metadata": {
    "collapsed": true
   },
   "outputs": [],
   "source": [
    "from sklearn.model_selection import train_test_split\n",
    "__, idx = train_test_split(list(range(X_train.shape[0])), test_size=0.101, random_state=42)\n",
    "X_train.loc[idx, 'alco'] = 0 #np.nan\n",
    "__, idx = train_test_split(list(range(X_train.shape[0])), test_size=0.101, random_state=43)\n",
    "X_train.loc[idx, 'smoke'] = 0 #np.nan\n",
    "__, idx = train_test_split(list(range(X_train.shape[0])), test_size=0.096, random_state=44)\n",
    "X_train.loc[idx, 'active'] = 1 #np.nan\n",
    "\n",
    "X_test.loc[X_test['alco'].isnull(), 'alco'] = 0\n",
    "X_test.loc[X_test['smoke'].isnull(), 'smoke'] = 0\n",
    "X_test.loc[X_test['active'].isnull(), 'active'] = 0\n",
    "\n",
    "# from sklearn.neighbors import KNeighborsRegressor, KNeighborsClassifier\n",
    "# from sklearn.model_selection import StratifiedKFold\n",
    "# from sklearn.preprocessing import scale\n",
    "# from sklearn.model_selection import cross_val_score\n",
    "# from sklearn.base import clone\n",
    "\n",
    "# def impute_nans(model, X_train, X_test, columns, target, perform_cv = False, scoring='accuracy'):\n",
    "#     X = pd.concat((X_train, X_test), axis=0)\n",
    "#     train_idx = ~X[target].isnull()\n",
    "#     model = clone(model)\n",
    "#     model.fit(X.loc[train_idx, columns], X.loc[train_idx, target])\n",
    "#     X_train.loc[X_train[target].isnull(), target] = model.predict(X_train.loc[X_train[target].isnull(), columns])\n",
    "#     X_test.loc[X_test[target].isnull(), target] = model.predict(X_test.loc[X_test[target].isnull(), columns])\n",
    "    \n",
    "#     if perform_cv:\n",
    "#         n_folds = 7\n",
    "#         kf = StratifiedKFold(random_state=111, n_splits=n_folds, shuffle=True)\n",
    "#         scores = cross_val_score(model, X.loc[train_idx, columns], X.loc[train_idx, target], cv=kf, scoring=scoring)\n",
    "#         print(target, np.mean(scores), 'on', n_folds, 'folds', 'with mean on train', X.loc[train_idx, target].mean())\n",
    "    \n",
    "# params = {\n",
    "#     'colsample_bytree': 0.8,\n",
    "#     'learning_rate': 0.1,\n",
    "#     'n_estimators': 200,\n",
    "#     'subsample': 0.8,\n",
    "#     'n_jobs': 4,\n",
    "#     'random_state': 2707,\n",
    "#     'silent': True,\n",
    "# }\n",
    "# clf = xgb.XGBClassifier(**params)\n",
    "\n",
    "# columns = ['age', 'gender', 'height', 'weight', 'ap_hi', 'ap_lo', 'cholesterol', 'gluc','BMI', 'ap_dif', 'MAP']\n",
    "# impute_nans(clf, X_train, X_test, columns, 'smoke')#, perform_cv = True)\n",
    "\n",
    "# columns = ['age', 'gender', 'height', 'weight', 'ap_hi', 'ap_lo', 'cholesterol', 'gluc','BMI', 'ap_dif', 'MAP', ]\n",
    "# impute_nans(clf, X_train, X_test, columns, 'alco')#, perform_cv = True)\n",
    "\n",
    "# columns = ['age', 'gender', 'height', 'weight', 'ap_hi', 'ap_lo', 'cholesterol', 'gluc','BMI', 'ap_dif', 'MAP', ]\n",
    "# impute_nans(clf, X_train, X_test, columns, 'active')#, perform_cv = True)"
   ]
  },
  {
   "cell_type": "code",
   "execution_count": 258,
   "metadata": {
    "collapsed": false
   },
   "outputs": [
    {
     "name": "stdout",
     "output_type": "stream",
     "text": [
      "Index(['age_group_gender', 'age_group_gluc', 'gender_MAP', 'gender_smoke',\n",
      "       'gender_active', 'MAP_error_group', 'MAP_smoke', 'MAP_active',\n",
      "       'error_group_gluc', 'error_group_active', 'cholesterol_gluc',\n",
      "       'gluc_smoke', 'gluc_alco', 'gluc_active', 'smoke_active',\n",
      "       'age_group_gender_error_group', 'age_group_gender_gluc',\n",
      "       'age_group_gender_smoke', 'age_group_gender_alco',\n",
      "       'age_group_error_group_gluc', 'age_group_error_group_alco',\n",
      "       'age_group_gluc_smoke', 'age_group_gluc_alco', 'age_group_gluc_active',\n",
      "       'gender_MAP_error_group', 'gender_MAP_smoke', 'gender_MAP_alco',\n",
      "       'gender_cholesterol_gluc', 'gender_cholesterol_smoke',\n",
      "       'gender_cholesterol_active', 'gender_gluc_smoke', 'gender_gluc_active',\n",
      "       'gender_smoke_active', 'gender_alco_active', 'MAP_error_group_smoke',\n",
      "       'MAP_error_group_alco', 'MAP_gluc_active', 'MAP_BMI_group_alco',\n",
      "       'MAP_smoke_alco', 'MAP_alco_height_group',\n",
      "       'error_group_cholesterol_gluc', 'error_group_smoke_active',\n",
      "       'error_group_smoke_weight_group', 'error_group_alco_active',\n",
      "       'cholesterol_gluc_BMI_group', 'cholesterol_gluc_smoke',\n",
      "       'cholesterol_gluc_alco', 'cholesterol_gluc_active',\n",
      "       'cholesterol_gluc_height_group', 'gluc_BMI_group_smoke',\n",
      "       'gluc_smoke_alco', 'gluc_smoke_active', 'gluc_smoke_height_group',\n",
      "       'gluc_alco_active', 'smoke_alco_active', 'age_group_gender_gluc_smoke',\n",
      "       'age_group_gender_gluc_alco', 'age_group_gender_gluc_active',\n",
      "       'age_group_gender_smoke_active', 'age_group_gluc_alco_active',\n",
      "       'gender_cholesterol_gluc_smoke', 'gender_cholesterol_gluc_alco',\n",
      "       'gender_cholesterol_gluc_active', 'gender_gluc_smoke_active',\n",
      "       'cholesterol_gluc_smoke_alco', 'cholesterol_gluc_smoke_active',\n",
      "       'cholesterol_gluc_alco_active', 'age_group_gender_gluc_smoke_active',\n",
      "       'gender_cholesterol_gluc_smoke_active',\n",
      "       'gender_cholesterol_gluc_alco_active',\n",
      "       'cholesterol_gluc_smoke_alco_active'],\n",
      "      dtype='object')\n"
     ]
    }
   ],
   "source": [
    "columns_to_interact = ['age_group', 'gender', 'MAP', 'error_group', 'cholesterol', 'gluc', \n",
    "                       'BMI_group', 'smoke', 'alco', 'active', \"ap_hi_group\", \"ap_lo_group\",\n",
    "                      \"weight_group\", \"height_group\"]\n",
    "temp = utils.generate_interactions(X_train, columns_to_interact, degree=5, white_list=best_interactions)\n",
    "X_train = pd.concat((X_train, temp), axis=1)\n",
    "X_test = pd.concat((X_test, utils.generate_interactions(X_test, columns_to_interact, degree=5, white_list=best_interactions)), axis=1)\n",
    "print(temp.columns)\n",
    "\n",
    "X = pd.concat((X_train, X_test), axis=0)"
   ]
  },
  {
   "cell_type": "code",
   "execution_count": 259,
   "metadata": {
    "collapsed": false
   },
   "outputs": [],
   "source": [
    "use_columns = [\n",
    "#     'age_group', 'gender', 'height', 'weight', 'ap_hi', 'ap_lo', 'cholesterol', 'gluc', 'smoke', 'alco', 'active',\n",
    "# 'BMI',\n",
    "#  'MAP',\n",
    "#     'ap_dif',\n",
    "    \n",
    "\"age_group\",\n",
    "\"gender\",\n",
    "\"height\",\n",
    "\"ap_hi\",\n",
    "\"ap_lo\",\n",
    "\"cholesterol\",\n",
    "\"gluc\",\n",
    "\"smoke\",\n",
    "\"alco\",\n",
    "\"active\",\n",
    "# \"error_group\",\n",
    "# \"lo_14s\",\n",
    "# \"hi_2s\",\n",
    "\"BMI\",\n",
    "\"ap_dif\",\n",
    "\"MAP\",\n",
    "\n",
    "\"age_group_MAPX\",\n",
    "]\n",
    "mean_columns = [\n",
    "    'cholesterol_gluc_smoke_active',\n",
    "    'ap_hi',\n",
    "    \"error_group\",\n",
    "    'gluc', \n",
    "    'MAP_active',\n",
    "    'gender_MAP', \n",
    "    'cholesterol_gluc',\n",
    "    'gluc_smoke',\n",
    "                'gluc_active', 'gluc_alco', 'smoke_active', 'cholesterol_gluc_active', 'gender_cholesterol_gluc'\n",
    "] #, 'age_group_MAP', 'gender_MAP'\n",
    "\n",
    "# for i in range(10):\n",
    "#         str_i = str(i)\n",
    "#         use_columns.append(str_i)\n",
    "#         for j in range(10):\n",
    "#             str_j = str_i + str(j)\n",
    "#             use_columns.append(str_j)"
   ]
  },
  {
   "cell_type": "code",
   "execution_count": 260,
   "metadata": {
    "collapsed": false
   },
   "outputs": [
    {
     "data": {
      "text/plain": [
       "517"
      ]
     },
     "execution_count": 260,
     "metadata": {},
     "output_type": "execute_result"
    }
   ],
   "source": [
    "import gc\n",
    "gc.collect()"
   ]
  },
  {
   "cell_type": "code",
   "execution_count": 252,
   "metadata": {
    "collapsed": false
   },
   "outputs": [],
   "source": [
    "# X_train['cholesterol_gluc_smoke_active'].value_counts()"
   ]
  },
  {
   "cell_type": "code",
   "execution_count": 253,
   "metadata": {
    "collapsed": false
   },
   "outputs": [],
   "source": [
    "# train = X_train.copy()\n",
    "# train[\"target\"] = y_train\n",
    "# test = X_test.copy()\n",
    "# c = ['cholesterol', 'gluc','smoke','active','MAP']\n",
    "# K = train.groupby(c).size()\n",
    "# mean_loc = train.groupby(c)[\"target\"].mean()\n",
    "# values = (mean_loc * K + 0.5 * 13) / (K + 13)\n",
    "# values.name='RAZ'\n",
    "# test = test.join(values, on=c)\n",
    "# test.loc[test[values.name].isnull()]"
   ]
  },
  {
   "cell_type": "code",
   "execution_count": 227,
   "metadata": {
    "collapsed": false
   },
   "outputs": [],
   "source": [
    "# X_test['cholesterol_gluc_smoke_active'].value_counts()"
   ]
  },
  {
   "cell_type": "code",
   "execution_count": 228,
   "metadata": {
    "collapsed": false,
    "scrolled": false
   },
   "outputs": [],
   "source": [
    "#  5\t(0.5387210612358031, 0.53908495582477467)\n",
    "#  6\t(0.53875910103167679, 0.53914751218811652)\n",
    "#  7\t(0.53880255564816204, 0.53916006288317908)\n",
    "#  8\t(0.53885523453108464, 0.53925112418043775)\n",
    "#  9\t(0.53883513664677474, 0.53926419236173784)\n",
    "# 10\t(0.53859977707105033, 0.53901168020149492)\n",
    "# 11\t(0.53885940801773513, 0.5392083353358218)\n",
    "# 12\t(0.5387449524031015, 0.53910693602820126)\n",
    "# 13\t(0.53860169446196149, 0.53894647849839095)\n",
    "# 14\t(0.53868075060547327, 0.53902469873650505)\n",
    "# 15\t(0.53862027392521605, 0.53901222140087546)\n",
    "# 16\t(0.53888470508839914, 0.53924245981066532)\n",
    "# 17\t(0.53871842606094211, 0.53910013326813211)\n",
    "# 18\t(0.53875072382243228, 0.53913302528622098)\n",
    "# 19\t(0.53871978044672797, 0.53907222634869367)\n",
    "# 20\t(0.53873956020603608, 0.5391327381456501)\n",
    "# 21\t(0.53867673120877213, 0.53906722821160313)\n",
    "# 22\t(0.53872675503165057, 0.53909177387999974)\n",
    "# 23\t(0.5387593012507248, 0.53915932529166388)\n",
    "# 24\t(0.53871720156688541, 0.53901944164662974)\n",
    "# 25\t(0.53871319790519423, 0.53907590822454066)\n",
    "# 26\t(0.5387557838828374, 0.53917015878887609)\n",
    "# 27\t(0.53871462107471579, 0.5390504570167638)"
   ]
  },
  {
   "cell_type": "code",
   "execution_count": 230,
   "metadata": {
    "collapsed": false,
    "scrolled": false
   },
   "outputs": [
    {
     "name": "stdout",
     "output_type": "stream",
     "text": [
      "\n",
      "10 folds logloss:\n",
      "[0.53780406650227752, 0.54321798307690283, 0.53768109113512974, 0.53502370267065347, 0.53999987807637873, 0.53447152769677753, 0.53612779679476119, 0.54165492304339824, 0.53749675539156083, 0.54079713834002863]\n",
      "mean: 0.538427486273\n",
      "std: 0.00275297684858\n",
      "15 Splits logloss:\n",
      "[0.54000550939349135, 0.54164752770875035, 0.53500783416896258, 0.54075476522308352, 0.53915419898300765, 0.53591072473764945, 0.54240650931976875, 0.53601667667049235, 0.54082981467044777, 0.53698305442433381, 0.53655938510635337, 0.53819483177733252, 0.54006342031754306, 0.53584646522918367, 0.54186097923605503]\n",
      "mean: 0.538749446464\n",
      "std: 0.00244198474517\n",
      "model1- results saved!\n"
     ]
    },
    {
     "data": {
      "text/plain": [
       "854"
      ]
     },
     "execution_count": 230,
     "metadata": {},
     "output_type": "execute_result"
    }
   ],
   "source": [
    "import utils\n",
    "params = {\n",
    "    'colsample_bytree': 0.8,\n",
    "    #'gamma': 0.125,\n",
    "    'learning_rate': 0.1,\n",
    "#     'max_depth': 4,\n",
    "    # 'min_child_weight': 1,\n",
    "    'n_estimators': 224,\n",
    "    'subsample': 0.8,\n",
    "    # 'reg_alpha': 0.0,\n",
    "    # 'reg_lambda': 2.0,\n",
    "    \n",
    "    'n_jobs': 4,\n",
    "    'random_state': 2707,\n",
    "    'silent': True,\n",
    "}\n",
    "\n",
    "utils.execute_model(xgb.XGBClassifier(**params),\n",
    "              X_train,\n",
    "              y_train,\n",
    "              X_test,\n",
    "              model_name=\"model1-\",\n",
    "               mean_columns = mean_columns,\n",
    "              use_columns = use_columns,\n",
    "              n_splits=15,\n",
    "              n_folds=10,\n",
    "#               stratification_groups=rew,\n",
    "              alpha=13,\n",
    "#               seed=150\n",
    "             )\n",
    "gc.collect()\n",
    "# 10 folds logloss:\n",
    "# [0.53780406650227752, 0.54321798307690283, 0.53768109113512974, 0.53502370267065347, 0.53999987807637873, 0.53447152769677753, 0.53612779679476119, 0.54165492304339824, 0.53749675539156083, 0.54079713834002863]\n",
    "# mean: 0.538427486273\n",
    "# std: 0.00275297684858\n",
    "# 15 Splits logloss:\n",
    "# [0.54000550939349135, 0.54164752770875035, 0.53500783416896258, 0.54075476522308352, 0.53915419898300765, 0.53591072473764945, 0.54240650931976875, 0.53601667667049235, 0.54082981467044777, 0.53698305442433381, 0.53655938510635337, 0.53819483177733252, 0.54006342031754306, 0.53584646522918367, 0.54186097923605503]\n",
    "# mean: 0.538749446464\n",
    "# std: 0.00244198474517\n",
    "# model1- results saved!"
   ]
  },
  {
   "cell_type": "code",
   "execution_count": 231,
   "metadata": {
    "collapsed": false
   },
   "outputs": [
    {
     "name": "stdout",
     "output_type": "stream",
     "text": [
      "\n",
      "10 folds logloss:\n",
      "[0.53809696971452015, 0.54267932448817846, 0.53726353840112029, 0.53544755255448584, 0.5402763877548139, 0.53406033898307315, 0.53703481750885407, 0.54135055841265689, 0.53717603217301857, 0.54038460278769362]\n",
      "mean: 0.538377012278\n",
      "std: 0.00258393893803\n",
      "15 Splits logloss:\n",
      "[0.53966115798704184, 0.54167830830454466, 0.53496114205938894, 0.54087141052834009, 0.53897133728340307, 0.53589446620906811, 0.54223077546604503, 0.53641504173447263, 0.54053579379282068, 0.53726932214346268, 0.53622725034449714, 0.53836969903162391, 0.53996776625857246, 0.53606081640943903, 0.54188865725515345]\n",
      "mean: 0.538733529654\n",
      "std: 0.00237324027804\n",
      "model2- results saved!\n"
     ]
    },
    {
     "data": {
      "text/plain": [
       "854"
      ]
     },
     "execution_count": 231,
     "metadata": {},
     "output_type": "execute_result"
    }
   ],
   "source": [
    "params = {\n",
    "    'colsample_bytree': 0.8,\n",
    "    #'gamma': 0.125,\n",
    "    'learning_rate': 0.1,\n",
    "    # 'max_depth': 9,\n",
    "    # 'min_child_weight': 1,\n",
    "    'n_estimators': 200,\n",
    "    'subsample': 0.8,\n",
    "    # 'reg_alpha': 0.0,\n",
    "    # 'reg_lambda': 2.0,\n",
    "    'tree_method': 'hist',\n",
    "    'grow_policy': 'lossguide',\n",
    "    \n",
    "    'n_jobs': 1,\n",
    "    'random_state': 2707,\n",
    "    'silent': True,\n",
    "}\n",
    "\n",
    "utils.execute_model(xgb.XGBClassifier(**params),\n",
    "              X_train,\n",
    "              y_train,\n",
    "              X_test,\n",
    "              model_name=\"model2-\",\n",
    "              mean_columns = mean_columns,\n",
    "              use_columns = use_columns,\n",
    "              n_splits=15,\n",
    "              n_folds=10,\n",
    "#               stratification_groups=rew,\n",
    "              alpha=13,\n",
    "             )\n",
    "gc.collect()\n",
    "\n",
    "# 10 folds logloss:\n",
    "# [0.53809696971452015, 0.54267932448817846, 0.53726353840112029, 0.53544755255448584, 0.5402763877548139, 0.53406033898307315, 0.53703481750885407, 0.54135055841265689, 0.53717603217301857, 0.54038460278769362]\n",
    "# mean: 0.538377012278\n",
    "# std: 0.00258393893803\n",
    "# 15 Splits logloss:\n",
    "# [0.53966115798704184, 0.54167830830454466, 0.53496114205938894, 0.54087141052834009, 0.53897133728340307, 0.53589446620906811, 0.54223077546604503, 0.53641504173447263, 0.54053579379282068, 0.53726932214346268, 0.53622725034449714, 0.53836969903162391, 0.53996776625857246, 0.53606081640943903, 0.54188865725515345]\n",
    "# mean: 0.538733529654\n",
    "# std: 0.00237324027804\n",
    "# model2- results saved!"
   ]
  },
  {
   "cell_type": "code",
   "execution_count": 232,
   "metadata": {
    "collapsed": false
   },
   "outputs": [
    {
     "name": "stdout",
     "output_type": "stream",
     "text": [
      "\n",
      "10 folds logloss:\n",
      "[0.53813999550530101, 0.54156197829297859, 0.53776042160086701, 0.53589112216067902, 0.54032527004830488, 0.53453887887254303, 0.53774912696694455, 0.54206452028545016, 0.5363155730521858, 0.54157050130437412]\n",
      "mean: 0.538591738809\n",
      "std: 0.00251526896901\n",
      "15 Splits logloss:\n",
      "[0.54000451972587482, 0.54157275118553672, 0.53512486654736513, 0.54144504712359687, 0.53922167136464838, 0.53688530338119778, 0.54294510573581534, 0.53671041587250357, 0.54090389878424905, 0.53698476620290192, 0.53586473090919862, 0.53861995242703531, 0.53941241054626288, 0.53601253218752976, 0.54198752987790799]\n",
      "mean: 0.538913033458\n",
      "std: 0.00244291407569\n",
      "model3- results saved!\n"
     ]
    },
    {
     "data": {
      "text/plain": [
       "903"
      ]
     },
     "execution_count": 232,
     "metadata": {},
     "output_type": "execute_result"
    }
   ],
   "source": [
    "import lightgbm as lgb\n",
    "from sklearn.calibration import CalibratedClassifierCV\n",
    "from sklearn.model_selection import KFold\n",
    "\n",
    "params = {\n",
    "    'colsample_bytree': 0.8,\n",
    "    'learning_rate': 0.1,\n",
    "#     'num_leaves': 2**3,\n",
    "#     'min_child_weight': 1,\n",
    "    'n_estimators': 44,\n",
    "    'subsample': 0.8,\n",
    "#     'reg_alpha': 1.2,\n",
    "#     'reg_lambda': 0.0,\n",
    "       \n",
    "    'nthread': 1,\n",
    "    'seed': 2707,\n",
    "    'silent': True,\n",
    "}\n",
    "\n",
    "#kf = KFold(n_splits=7, random_state=12345)\n",
    "utils.execute_model(lgb.LGBMClassifier(**params), #CalibratedClassifierCV(lgb.LGBMClassifier(**params), cv=kf),\n",
    "              X_train,\n",
    "              y_train,\n",
    "              X_test,\n",
    "              model_name=\"model3-\",\n",
    "              mean_columns = mean_columns,\n",
    "              use_columns = use_columns,\n",
    "              n_splits=15,\n",
    "              n_folds=10,\n",
    "#               stratification_groups=rew,\n",
    "              alpha=13\n",
    "             )\n",
    "gc.collect()\n",
    "# 10 folds logloss:\n",
    "# [0.53813999550530101, 0.54156197829297859, 0.53776042160086701, 0.53589112216067902, 0.54032527004830488, 0.53453887887254303, 0.53774912696694455, 0.54206452028545016, 0.5363155730521858, 0.54157050130437412]\n",
    "# mean: 0.538591738809\n",
    "# std: 0.00251526896901\n",
    "# 15 Splits logloss:\n",
    "# [0.54000451972587482, 0.54157275118553672, 0.53512486654736513, 0.54144504712359687, 0.53922167136464838, 0.53688530338119778, 0.54294510573581534, 0.53671041587250357, 0.54090389878424905, 0.53698476620290192, 0.53586473090919862, 0.53861995242703531, 0.53941241054626288, 0.53601253218752976, 0.54198752987790799]\n",
    "# mean: 0.538913033458\n",
    "# std: 0.00244291407569\n",
    "# model3- results saved!"
   ]
  },
  {
   "cell_type": "code",
   "execution_count": 174,
   "metadata": {
    "collapsed": false
   },
   "outputs": [],
   "source": [
    "# from sklearn.neural_network import MLPClassifier\n",
    "# from sklearn.preprocessing import StandardScaler  \n",
    "\n",
    "# scaler = StandardScaler()  \n",
    "# X = pd.concat((X_train, X_test), axis=0)\n",
    "# scaler.fit(X)\n",
    "# gc.collect()\n",
    "\n",
    "# clf = MLPClassifier(solver='adam', activation='relu', learning_rate = 'adaptive', tol = 1e-5,\n",
    "#                     hidden_layer_sizes=(8, 3), random_state=1100)\n",
    "\n",
    "# utils.execute_model(clf,\n",
    "#               scaler.transform(X_train),\n",
    "#               y_train,\n",
    "#               scaler.transform(X_test) ,\n",
    "#               model_name=\"model4\",\n",
    "#               mean_columns = mean_columns,\n",
    "#               use_columns = use_columns,\n",
    "#               n_splits=15,\n",
    "#               n_folds=10,\n",
    "#               alpha=20\n",
    "#              )\n",
    "# gc.collect()"
   ]
  },
  {
   "cell_type": "code",
   "execution_count": 239,
   "metadata": {
    "collapsed": false
   },
   "outputs": [
    {
     "name": "stdout",
     "output_type": "stream",
     "text": [
      "\n",
      "model1\n",
      "0.538618972443\t0.539337497689\t0.538618972443\t0.539337497689\n",
      "\n",
      "model2\n",
      "0.538615159126\t0.539160708115\t0.538496052347\t0.539114773246\n",
      "\n",
      "model3\n",
      "0.538702687693\t0.539402696417\t0.538141859286\t0.538727942758\n",
      "\n",
      "model1+\n",
      "0.538601643568\t0.539670976936\t0.538094189224\t0.538763999819\n",
      "\n",
      "model2+\n",
      "0.538517667601\t0.539501720811\t0.538092073243\t0.538807972121\n",
      "\n",
      "model3+\n",
      "0.538577200052\t0.539349318922\t0.537998452494\t0.538697384187\n"
     ]
    }
   ],
   "source": [
    "models = ['model1','model2','model3','model1+','model2+','model3+']\n",
    "result1 = utils.merge_models(models, method='mean')\n",
    "pd.DataFrame(result1).to_csv('models1234_mean.csv', index=False, header=False, sep=';')"
   ]
  },
  {
   "cell_type": "code",
   "execution_count": 238,
   "metadata": {
    "collapsed": false
   },
   "outputs": [
    {
     "name": "stdout",
     "output_type": "stream",
     "text": [
      "\n",
      "model1\n",
      "0.538618972443\t0.539337497689\t0.538618972443\t0.539337497689\n",
      "\n",
      "model2\n",
      "0.538615159126\t0.539160708115\t0.538496052347\t0.539114773246\n",
      "\n",
      "model3\n",
      "0.538702687693\t0.539402696417\t0.538141859286\t0.538727942758\n"
     ]
    }
   ],
   "source": [
    "models = ['model1','model2','model3']\n",
    "result2 = utils.merge_models(models, method='mean')\n",
    "pd.DataFrame(result2).to_csv('models1234+_mean.csv', index=False, header=False, sep=';')"
   ]
  },
  {
   "cell_type": "code",
   "execution_count": 117,
   "metadata": {
    "collapsed": false
   },
   "outputs": [],
   "source": [
    "# X_test['error_group']==0"
   ]
  },
  {
   "cell_type": "code",
   "execution_count": 237,
   "metadata": {
    "collapsed": false
   },
   "outputs": [],
   "source": [
    "# pd.Series(result1-result2).hist(bins=100)"
   ]
  },
  {
   "cell_type": "code",
   "execution_count": 236,
   "metadata": {
    "collapsed": false
   },
   "outputs": [],
   "source": [
    "# pd.Series((result1-result2)[X_test['error_group']==0]).hist(bins=100)"
   ]
  },
  {
   "cell_type": "code",
   "execution_count": 235,
   "metadata": {
    "collapsed": false
   },
   "outputs": [],
   "source": [
    "# pd.Series((result1-result2)[X_test['error_group']!=0]).hist(bins=100)"
   ]
  },
  {
   "cell_type": "code",
   "execution_count": 128,
   "metadata": {
    "collapsed": true
   },
   "outputs": [],
   "source": [
    "result3 = result2.copy()\n",
    "result3[X_test['error_group']==0] = result1[X_test['error_group']==0]"
   ]
  },
  {
   "cell_type": "code",
   "execution_count": 129,
   "metadata": {
    "collapsed": true
   },
   "outputs": [],
   "source": [
    "pd.DataFrame(result3).to_csv('test_mean.csv', index=False, header=False, sep=';')"
   ]
  },
  {
   "cell_type": "code",
   "execution_count": 185,
   "metadata": {
    "collapsed": false
   },
   "outputs": [],
   "source": [
    "import importlib\n",
    "utils = importlib.reload(utils)"
   ]
  },
  {
   "cell_type": "code",
   "execution_count": null,
   "metadata": {
    "collapsed": true
   },
   "outputs": [],
   "source": [
    "# 0.537797383673\t0.538468964022 = 0.5433098\n",
    "# 0.537998452494\t0.538697384187 = 0.5433633\n",
    "# 0.538141859286\t0.538727942758 = 0.5434983"
   ]
  },
  {
   "cell_type": "code",
   "execution_count": null,
   "metadata": {
    "collapsed": true
   },
   "outputs": [],
   "source": [
    "# 0.537735274001\t0.537762262313 = 0.5439345\n",
    "# 0.538040557134\t0.538014744278 = 0.5436639\n",
    "# 0.5374\t0.5374                 = 0.5440495\n",
    "# 0.537603843701\t0.537606129043 = 0.5448082\n",
    "\n",
    "# Со столбцами Стаса альфа=20\n",
    "# 0.537387582699\t0.537559051543 = 0.5482682\n",
    "\n",
    "# 0.537684932504\t0.537640948053 = 0.5514443 добавил один столбик \"по Стасу\"\n",
    "# 0.537748490027\t0.537673097079 = 0.5517563 20 фолдов для подсчета среднего\n",
    "\n",
    "# Без них\n",
    "# 0.538947547578\t0.538808662263 = 0.5441786\n",
    "# 0.538231869380\t0.538120316604 = 0.5435621"
   ]
  }
 ],
 "metadata": {
  "kernelspec": {
   "display_name": "Python 3",
   "language": "python",
   "name": "python3"
  },
  "language_info": {
   "codemirror_mode": {
    "name": "ipython",
    "version": 3
   },
   "file_extension": ".py",
   "mimetype": "text/x-python",
   "name": "python",
   "nbconvert_exporter": "python",
   "pygments_lexer": "ipython3",
   "version": "3.6.0"
  }
 },
 "nbformat": 4,
 "nbformat_minor": 2
}
