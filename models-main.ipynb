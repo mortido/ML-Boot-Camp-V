{
 "cells": [
  {
   "cell_type": "code",
   "execution_count": 156,
   "metadata": {
    "collapsed": false
   },
   "outputs": [],
   "source": [
    "import pandas as pd\n",
    "import numpy as np\n",
    "\n",
    "import random\n",
    "\n",
    "import xgboost as xgb\n",
    "from sklearn.ensemble import RandomForestClassifier\n",
    "from sklearn.metrics import log_loss\n",
    "\n",
    "import matplotlib.pyplot as plt\n",
    "import seaborn as sns\n",
    "import gc\n",
    "import utils \n",
    "\n",
    "plt.style.use('ggplot')\n",
    "%matplotlib inline"
   ]
  },
  {
   "cell_type": "code",
   "execution_count": 157,
   "metadata": {
    "collapsed": false
   },
   "outputs": [
    {
     "data": {
      "text/plain": [
       "[(0.538224666658, 'gender_cholesterol_gluc'),\n",
       " (0.538264506609, 'cholesterol_gluc_active'),\n",
       " (0.538347090052, 'cholesterol_gluc_alco'),\n",
       " (0.538390958086, 'error_group_cholesterol_gluc'),\n",
       " (0.538403616287, 'cholesterol_gluc'),\n",
       " (0.538421388154, 'age_group_error_group_gluc'),\n",
       " (0.538423057656, 'cholesterol_gluc_smoke_active'),\n",
       " (0.538433428412, 'gender_smoke_active'),\n",
       " (0.538438930193, 'gluc_smoke_active'),\n",
       " (0.538446699606, 'gender_MAP'),\n",
       " (0.538458056167, 'cholesterol_gluc_smoke'),\n",
       " (0.538458153646, 'error_group_smoke_active'),\n",
       " (0.538459912893, 'gluc_active'),\n",
       " (0.538462902667, 'error_group_alco_active'),\n",
       " (0.538473146062, 'age_group_gluc_active'),\n",
       " (0.538485049101, 'gender_cholesterol_gluc_active'),\n",
       " (0.538485357473, 'cholesterol_gluc_smoke_alco_active'),\n",
       " (0.538492455954, 'gluc_BMI_group_smoke'),\n",
       " (0.538492455954, 'gluc_smoke_height_group'),\n",
       " (0.538496750986, 'MAP_gluc_active'),\n",
       " (0.538497101023, 'smoke_active'),\n",
       " (0.538502938446, 'age_group_gender_alco'),\n",
       " (0.538503250338, 'age_group_gender_error_group'),\n",
       " (0.538511181624, 'age_group_gender_gluc'),\n",
       " (0.538513905577, 'gluc_smoke'),\n",
       " (0.538515840047, 'age_group_gluc_smoke'),\n",
       " (0.538519596999, 'gender_cholesterol_active'),\n",
       " (0.538530472903, 'gender_alco_active'),\n",
       " (0.538537529542, 'gluc_alco_active'),\n",
       " (0.538537556667, 'smoke_alco_active'),\n",
       " (0.538538052046, 'age_group_gluc'),\n",
       " (0.538538765546, 'gender_MAP_smoke'),\n",
       " (0.538540542747, 'MAP_smoke_alco'),\n",
       " (0.538542876918, 'age_group_gender_smoke'),\n",
       " (0.53854568799, 'gender_cholesterol_smoke'),\n",
       " (0.538545756092, 'cholesterol_gluc_BMI_group'),\n",
       " (0.538545756092, 'cholesterol_gluc_height_group'),\n",
       " (0.538546386493, 'gender_gluc_active'),\n",
       " (0.538546917349, 'age_group_gender'),\n",
       " (0.538549234756, 'gender_MAP_error_group'),\n",
       " (0.538554965298, 'MAP_BMI_group_alco'),\n",
       " (0.538554965298, 'MAP_alco_height_group'),\n",
       " (0.538567255572, 'ap_hi'),\n",
       " (0.538577368412, 'MAP_error_group'),\n",
       " (0.538578197781, 'gluc_smoke_alco'),\n",
       " (0.538579099797, 'cholesterol_gluc_alco_active'),\n",
       " (0.538583122431, 'gender_gluc_smoke'),\n",
       " (0.538585787788, 'age_group_error_group_alco'),\n",
       " (0.538588478581, 'gluc'),\n",
       " (0.538589229798, 'gender_smoke'),\n",
       " (0.538590281731, 'error_group_gluc'),\n",
       " (0.538592834598, 'gluc_alco'),\n",
       " (0.538595737992, 'MAP_active'),\n",
       " (0.53859757607, 'gender_active'),\n",
       " (0.538598031272, 'error_group_smoke_weight_group'),\n",
       " (0.538602256739, 'age_group_gender_gluc_smoke_active'),\n",
       " (0.538604509019, 'age_group_gluc_alco'),\n",
       " (0.538605556333, 'MAP_smoke'),\n",
       " (0.538607528017, 'MAP_error_group_smoke'),\n",
       " (0.538608970885, 'MAP_error_group_alco'),\n",
       " (0.538613057047, 'error_group_active'),\n",
       " (0.538616169696, 'gender_gluc_smoke_active'),\n",
       " (0.538621130436, 'gender_MAP_alco'),\n",
       " (0.538625676171, 'gender_cholesterol_gluc_smoke_active'),\n",
       " (0.538632765675, 'gender_cholesterol_gluc_alco'),\n",
       " (0.538662681371, 'gender_cholesterol_gluc_smoke'),\n",
       " (0.538698437031, 'cholesterol_gluc_smoke_alco'),\n",
       " (0.538699428457, 'age_group_gender_gluc_alco'),\n",
       " (0.538704316355, 'age_group_gender_smoke_active'),\n",
       " (0.538704888347, 'age_group_gender_gluc_active'),\n",
       " (0.538721429916, 'age_group_gender_gluc_smoke'),\n",
       " (0.538725712345, 'age_group_gluc_alco_active'),\n",
       " (0.538726602437, 'gender_cholesterol_gluc_alco_active')]"
      ]
     },
     "execution_count": 157,
     "metadata": {},
     "output_type": "execute_result"
    }
   ],
   "source": [
    "sorted([(0.538567255572, 'ap_hi'),\n",
    "(0.538588478581, 'gluc'),\n",
    "(0.538546917349, 'age_group_gender'),\n",
    "(0.538538052046, 'age_group_gluc'),\n",
    "(0.538446699606, 'gender_MAP'),\n",
    "(0.538589229798, 'gender_smoke'),\n",
    "(0.53859757607, 'gender_active'),\n",
    "(0.538577368412, 'MAP_error_group'),\n",
    "(0.538605556333, 'MAP_smoke'),\n",
    "(0.538595737992, 'MAP_active'),\n",
    "(0.538590281731, 'error_group_gluc'),\n",
    "(0.538613057047, 'error_group_active'),\n",
    "(0.538403616287, 'cholesterol_gluc'),\n",
    "(0.538513905577, 'gluc_smoke'),\n",
    "(0.538592834598, 'gluc_alco'),\n",
    "(0.538459912893, 'gluc_active'),\n",
    "(0.538497101023, 'smoke_active'),\n",
    "(0.538503250338, 'age_group_gender_error_group'),\n",
    "(0.538511181624, 'age_group_gender_gluc'),\n",
    "(0.538542876918, 'age_group_gender_smoke'),\n",
    "(0.538502938446, 'age_group_gender_alco'),\n",
    "(0.538421388154, 'age_group_error_group_gluc'),\n",
    "(0.538585787788, 'age_group_error_group_alco'),\n",
    "(0.538515840047, 'age_group_gluc_smoke'),\n",
    "(0.538604509019, 'age_group_gluc_alco'),\n",
    "(0.538473146062, 'age_group_gluc_active'),\n",
    "(0.538549234756, 'gender_MAP_error_group'),\n",
    "(0.538538765546, 'gender_MAP_smoke'),\n",
    "(0.538621130436, 'gender_MAP_alco'),\n",
    "(0.538224666658, 'gender_cholesterol_gluc'),\n",
    "(0.53854568799, 'gender_cholesterol_smoke'),\n",
    "(0.538519596999, 'gender_cholesterol_active'),\n",
    "(0.538583122431, 'gender_gluc_smoke'),\n",
    "(0.538546386493, 'gender_gluc_active'),\n",
    "(0.538433428412, 'gender_smoke_active'),\n",
    "(0.538530472903, 'gender_alco_active'),\n",
    "(0.538607528017, 'MAP_error_group_smoke'),\n",
    "(0.538608970885, 'MAP_error_group_alco'),\n",
    "(0.538496750986, 'MAP_gluc_active'),\n",
    "(0.538554965298, 'MAP_BMI_group_alco'),\n",
    "(0.538540542747, 'MAP_smoke_alco'),\n",
    "(0.538554965298, 'MAP_alco_height_group'),\n",
    "(0.538390958086, 'error_group_cholesterol_gluc'),\n",
    "(0.538458153646, 'error_group_smoke_active'),\n",
    "(0.538598031272, 'error_group_smoke_weight_group'),\n",
    "(0.538462902667, 'error_group_alco_active'),\n",
    "(0.538545756092, 'cholesterol_gluc_BMI_group'),\n",
    "(0.538458056167, 'cholesterol_gluc_smoke'),\n",
    "(0.538347090052, 'cholesterol_gluc_alco'),\n",
    "(0.538264506609, 'cholesterol_gluc_active'),\n",
    "(0.538545756092, 'cholesterol_gluc_height_group'),\n",
    "(0.538492455954, 'gluc_BMI_group_smoke'),\n",
    "(0.538578197781, 'gluc_smoke_alco'),\n",
    "(0.538438930193, 'gluc_smoke_active'),\n",
    "(0.538492455954, 'gluc_smoke_height_group'),\n",
    "(0.538537529542, 'gluc_alco_active'),\n",
    "(0.538537556667, 'smoke_alco_active'),\n",
    "       \n",
    "(0.538721429916, 'age_group_gender_gluc_smoke'),\n",
    "(0.538699428457, 'age_group_gender_gluc_alco'),\n",
    "(0.538704888347, 'age_group_gender_gluc_active'),\n",
    "(0.538704316355, 'age_group_gender_smoke_active'),\n",
    "(0.538725712345, 'age_group_gluc_alco_active'),\n",
    "(0.538662681371, 'gender_cholesterol_gluc_smoke'),\n",
    "(0.538632765675, 'gender_cholesterol_gluc_alco'),\n",
    "(0.538485049101, 'gender_cholesterol_gluc_active'),\n",
    "(0.538616169696, 'gender_gluc_smoke_active'),\n",
    "(0.538698437031, 'cholesterol_gluc_smoke_alco'),\n",
    "(0.538423057656, 'cholesterol_gluc_smoke_active'),\n",
    "(0.538579099797, 'cholesterol_gluc_alco_active'),\n",
    "(0.538602256739, 'age_group_gender_gluc_smoke_active'),\n",
    "(0.538625676171, 'gender_cholesterol_gluc_smoke_active'),\n",
    "(0.538726602437, 'gender_cholesterol_gluc_alco_active'),\n",
    "(0.538485357473, 'cholesterol_gluc_smoke_alco_active'),\n",
    "       ])\n",
    "\n"
   ]
  },
  {
   "cell_type": "code",
   "execution_count": 158,
   "metadata": {
    "collapsed": true
   },
   "outputs": [],
   "source": [
    "best_interactions = [\n",
    "\"ap_hi\",\n",
    "\"gluc\",\n",
    "\"age_group_gender\",\n",
    "\"age_group_gluc\",\n",
    "\"gender_MAP\",\n",
    "\"gender_smoke\",\n",
    "\"gender_active\",\n",
    "\"MAP_error_group\",\n",
    "\"MAP_smoke\",\n",
    "\"MAP_active\",\n",
    "\"error_group_gluc\",\n",
    "\"error_group_active\",\n",
    "\"cholesterol_gluc\",\n",
    "\"gluc_smoke\",\n",
    "\"gluc_alco\",\n",
    "\"gluc_active\",\n",
    "\"smoke_active\",\n",
    "\"age_group_gender_error_group\",\n",
    "\"age_group_gender_gluc\",\n",
    "\"age_group_gender_smoke\",\n",
    "\"age_group_gender_alco\",\n",
    "\"age_group_error_group_gluc\",\n",
    "\"age_group_error_group_alco\",\n",
    "\"age_group_gluc_smoke\",\n",
    "\"age_group_gluc_alco\",\n",
    "\"age_group_gluc_active\",\n",
    "\"gender_MAP_error_group\",\n",
    "\"gender_MAP_smoke\",\n",
    "\"gender_MAP_alco\",\n",
    "\"gender_cholesterol_gluc\",\n",
    "\"gender_cholesterol_smoke\",\n",
    "\"gender_cholesterol_active\",\n",
    "\"gender_gluc_smoke\",\n",
    "\"gender_gluc_active\",\n",
    "\"gender_smoke_active\",\n",
    "\"gender_alco_active\",\n",
    "\"MAP_error_group_smoke\",\n",
    "\"MAP_error_group_alco\",\n",
    "\"MAP_gluc_active\",\n",
    "\"MAP_BMI_group_alco\",\n",
    "\"MAP_smoke_alco\",\n",
    "\"MAP_alco_height_group\",\n",
    "\"error_group_cholesterol_gluc\",\n",
    "\"error_group_smoke_active\",\n",
    "\"error_group_smoke_weight_group\",\n",
    "\"error_group_alco_active\",\n",
    "\"cholesterol_gluc_BMI_group\",\n",
    "\"cholesterol_gluc_smoke\",\n",
    "\"cholesterol_gluc_alco\",\n",
    "\"cholesterol_gluc_active\",\n",
    "\"cholesterol_gluc_height_group\",\n",
    "\"gluc_BMI_group_smoke\",\n",
    "\"gluc_smoke_alco\",\n",
    "\"gluc_smoke_active\",\n",
    "\"gluc_smoke_height_group\",\n",
    "\"gluc_alco_active\",\n",
    "\"smoke_alco_active\",\n",
    "\n",
    "\"age_group_gender_gluc_smoke\",\n",
    "\"age_group_gender_gluc_alco\",\n",
    "\"age_group_gender_gluc_active\",\n",
    "\"age_group_gender_smoke_active\",\n",
    "\"age_group_gluc_alco_active\",\n",
    "\"gender_cholesterol_gluc_smoke\",\n",
    "\"gender_cholesterol_gluc_alco\",\n",
    "\"gender_cholesterol_gluc_active\",\n",
    "\"gender_gluc_smoke_active\",\n",
    "\"cholesterol_gluc_smoke_alco\",\n",
    "\"cholesterol_gluc_smoke_active\",\n",
    "\"cholesterol_gluc_alco_active\",\n",
    "\"age_group_gender_gluc_smoke_active\",\n",
    "\"gender_cholesterol_gluc_smoke_active\",\n",
    "\"gender_cholesterol_gluc_alco_active\",\n",
    "\"cholesterol_gluc_smoke_alco_active\",\n",
    "]"
   ]
  },
  {
   "cell_type": "code",
   "execution_count": 159,
   "metadata": {
    "collapsed": false
   },
   "outputs": [],
   "source": [
    "def clean_data(data):\n",
    "    data['error_group'] = 0\n",
    "\n",
    "    # weight/height correction\n",
    "    idx = (data['height']<130) & (data['weight']>150)\n",
    "    data.loc[idx, [\"height\", \"weight\"]] = data.loc[idx, [\"weight\", \"height\"]].values\n",
    "#     data.loc[idx, 'error_group'] = 100-1\n",
    "#     data.loc[data['weight']<20, \"weight\"] *= 10\n",
    "#     data.loc[data['weight']<20, \"weight\"] *= 10\n",
    "#     data.loc[data['weight']<25, \"weight\"] += 100\n",
    "\n",
    "    # preasure correction\n",
    "\n",
    "    data.loc[data[\"ap_hi\"] < 0, \"ap_hi\"] *= -1\n",
    "    data.loc[data[\"ap_lo\"] < 0, \"ap_lo\"] *= -1\n",
    "    \n",
    "    for i in range(10):\n",
    "        str_i = str(i)\n",
    "        data['hi_' + str_i + 's'] = data['ap_hi'].apply(lambda x: str(x).count(str_i))\n",
    "#         data[str(i)+'lo'] = data['ap_lo'].apply(lambda x: str(x).count(str(i)))\n",
    "#         data[str(i)+'hilo'] = data[str(i)+'hi']+data[str(i)+'lo']\n",
    "#         data=data.drop(str(i)+'lo', axis=1)\n",
    "        for j in range(10):\n",
    "            str_j = str_i + str(j)\n",
    "            data['hi_' + str_j + 's'] = data['ap_hi'].apply(lambda x: str(x).count(str_j))\n",
    "        \n",
    "\n",
    "    data.loc[(data['ap_lo'] < 20), 'error_group'] = 5\n",
    "    data.loc[(data['ap_hi'] < 50), 'error_group'] = 6\n",
    "    data.loc[(data['ap_lo'] > 250), 'error_group'] = 1\n",
    "    data.loc[(data['ap_lo'] > 4000), 'error_group'] = 2\n",
    "    data.loc[(data['ap_hi'] > 250), 'error_group'] = 3\n",
    "    data.loc[(data['ap_hi'] > 10000), 'error_group'] = 4\n",
    "\n",
    "    data.loc[(data[\"ap_hi\"] < 20) & (data[\"ap_hi\"] > 10), \"ap_hi\"] *= 10\n",
    "    data.loc[(data[\"ap_lo\"] < 15) & (data[\"ap_lo\"] > 2), \"ap_lo\"] *= 10\n",
    "\n",
    "    idx = data['ap_hi'] > 10000\n",
    "    data.loc[idx, 'ap_hi'] = 10 * (data.loc[idx, 'ap_hi'] // 1000)\n",
    "    data.loc[data['ap_lo'] >= 10000, 'ap_lo'] //= 100\n",
    "\n",
    "#     data.loc[data['ap_lo'].isin([1100])&(data['ap_hi']>160), 'ap_lo'] = 110\n",
    "#     data.loc[data['ap_lo'].isin([1100]), 'ap_lo'] = 100\n",
    "#     data.loc[(data['ap_lo']>250)&(data['ap_lo']<4000)&(data['ap_lo']%100==0), 'ap_lo'] /= 10\n",
    "    \n",
    "    manual_update = [\n",
    "        \n",
    "# id\tage\tgender\theight\tweight\tap_hi\tap_lo\tcholesterol\tgluc\tsmoke\talco\tactive\tcardio\tBMI\n",
    "# 12494\t16905\t2\t163\t63.0\t1\t2088\t1\t1\t1.0\t0.0\t1.0\t0\t23.711845\n",
    "# 42591\t18191\t2\t162\t63.0\t140\t1900\t1\t1\t1.0\t0.0\t1.0\t1\t24.005487\n",
    "# 78873\t20323\t1\t168\t68.0\t130\t1900\t1\t1\t0.0\t0.0\t1.0\t0\t24.092971\n",
    "# 51749\t18419\t1\t169\t62.0\t1\t2088\t1\t1\t0.0\t0.0\t1.0\t-5\t21.707923\n",
    "        (12494, ['ap_hi', 'ap_lo'], [120, 80]),\n",
    "        (42591, ['ap_hi', 'ap_lo'], [140, 90]), # ?\n",
    "        (78873, ['ap_hi', 'ap_lo'], [130, 100]), # ?\n",
    "        (51749, ['ap_hi', 'ap_lo'], [120, 80]),\n",
    "        \n",
    "# 57807\t20496\t1\t164\t62.0\t70\t1100\t1\t1\t0.0\t0.0\t0.0\t0\t23.051755\n",
    "# 60477\t18716\t1\t171\t80.0\t1\t1088\t1\t1\t0.0\t0.0\t1.0\t1\t27.358845\n",
    "# 91198\t18182\t2\t186\t95.0\t100\t901\t2\t2\t0.0\t0.0\t1.0\t0\t27.459822\n",
    "# 6580\t19079\t1\t176\t92.0\t1\t1099\t1\t1\t0.0\tNaN\t1.0\t-5\t29.700413\n",
    "        (57807, ['ap_hi', 'ap_lo'], [170, 100]),\n",
    "        (60477, ['ap_hi', 'ap_lo'], [110, 80]),\n",
    "        (91198, ['ap_hi', 'ap_lo'], [100, 90]),\n",
    "        (6580,  ['ap_hi', 'ap_lo'], [110, 90]),\n",
    "        \n",
    "# 44701\t22801\t1\t163\t115.0\t20\t170\t1\t1\t0.0\t0.0\t1.0\t1\t43.283526\n",
    "# 94673\t22551\t1\t169\t88.0\t10\t160\t3\t3\t0.0\t0.0\t0.0\t1\t30.811246\n",
    "        (44701, ['ap_hi', 'ap_lo'], [120, 70]),\n",
    "        (94673,  ['ap_hi', 'ap_lo'], [110, 60]),\n",
    "        \n",
    "    ]\n",
    "    for idx, cols, update in manual_update:\n",
    "        data.loc[data['id']==idx, cols] = update\n",
    "        \n",
    "\n",
    "    return data"
   ]
  },
  {
   "cell_type": "code",
   "execution_count": 160,
   "metadata": {
    "collapsed": false
   },
   "outputs": [],
   "source": [
    "train = pd.read_csv('train.csv', sep=';')\n",
    "test = pd.read_csv('test.csv', sep=';', na_values='None')\n",
    "\n",
    "train = clean_data(train)\n",
    "test = clean_data(test)\n",
    "\n",
    "train = utils.new_features(train)\n",
    "test = utils.new_features(test)\n",
    "\n",
    "X_train = train.drop([ 'cardio'], axis=1)\n",
    "y_train = train['cardio'].values.ravel()\n",
    "X_test = test.drop([], axis=1)\n",
    "\n",
    "# columns_to_interact = ['age_group', 'gender', 'MAP', 'error_group', 'cholesterol', 'gluc', \n",
    "#                        'BMI_group', 'smoke', 'alco', 'active', \"ap_hi_group\", \"ap_lo_group\",\n",
    "#                       \"weight_group\", \"height_group\"]\n",
    "# temp = utils.generate_interactions(X_train, columns_to_interact, degree=5, white_list=best_interactions)\n",
    "# X_train = pd.concat((X_train, temp), axis=1)\n",
    "# X_test = pd.concat((X_test, utils.generate_interactions(X_test, columns_to_interact, degree=5, white_list=best_interactions)), axis=1)\n",
    "# print(temp.columns)\n",
    "\n",
    "# X = pd.concat((X_train, X_test), axis=0)\n",
    "\n",
    "# from sklearn.preprocessing import LabelEncoder\n",
    "# from collections import defaultdict\n",
    "# label_encoder_dict = defaultdict(LabelEncoder)\n",
    "# columns_to_encode = ['age_group'] + list(temp.columns)\n",
    "\n",
    "\n",
    "# X[columns_to_encode].apply(lambda x: label_encoder_dict[x.name].fit(x))\n",
    "# X_train[columns_to_encode] = X_train[columns_to_encode].apply(lambda x: label_encoder_dict[x.name].transform(x))\n",
    "# X_test[columns_to_encode] = X_test[columns_to_encode].apply(lambda x: label_encoder_dict[x.name].transform(x))"
   ]
  },
  {
   "cell_type": "code",
   "execution_count": 161,
   "metadata": {
    "collapsed": true
   },
   "outputs": [],
   "source": [
    "from sklearn.model_selection import train_test_split\n",
    "__, idx = train_test_split(list(range(X_train.shape[0])), test_size=0.101, random_state=42)\n",
    "X_train.loc[idx, 'alco'] = np.nan\n",
    "__, idx = train_test_split(list(range(X_train.shape[0])), test_size=0.101, random_state=43)\n",
    "X_train.loc[idx, 'smoke'] = np.nan\n",
    "__, idx = train_test_split(list(range(X_train.shape[0])), test_size=0.096, random_state=44)\n",
    "X_train.loc[idx, 'active'] = np.nan\n",
    "\n",
    "from sklearn.neighbors import KNeighborsRegressor, KNeighborsClassifier\n",
    "from sklearn.model_selection import StratifiedKFold\n",
    "from sklearn.preprocessing import scale\n",
    "from sklearn.model_selection import cross_val_score\n",
    "from sklearn.base import clone\n",
    "\n",
    "def impute_nans(model, X_train, X_test, columns, target, perform_cv = False, scoring='accuracy'):\n",
    "    X = pd.concat((X_train, X_test), axis=0)\n",
    "    train_idx = ~X[target].isnull()\n",
    "    model = clone(model)\n",
    "    model.fit(X.loc[train_idx, columns], X.loc[train_idx, target])\n",
    "    X_train.loc[X_train[target].isnull(), target] = model.predict(X_train.loc[X_train[target].isnull(), columns])\n",
    "    X_test.loc[X_test[target].isnull(), target] = model.predict(X_test.loc[X_test[target].isnull(), columns])\n",
    "    \n",
    "    if perform_cv:\n",
    "        n_folds = 7\n",
    "        kf = StratifiedKFold(random_state=111, n_splits=n_folds, shuffle=True)\n",
    "        scores = cross_val_score(model, X.loc[train_idx, columns], X.loc[train_idx, target], cv=kf, scoring=scoring)\n",
    "        print(target, np.mean(scores), 'on', n_folds, 'folds', 'with mean on train', X.loc[train_idx, target].mean())\n",
    "    \n",
    "params = {\n",
    "    'colsample_bytree': 0.8,\n",
    "    'learning_rate': 0.1,\n",
    "    'n_estimators': 200,\n",
    "    'subsample': 0.8,\n",
    "    'n_jobs': 4,\n",
    "    'random_state': 2707,\n",
    "    'silent': True,\n",
    "}\n",
    "clf = xgb.XGBClassifier(**params)\n",
    "\n",
    "columns = ['age', 'gender', 'height', 'weight', 'ap_hi', 'ap_lo', 'cholesterol', 'gluc','BMI', 'ap_dif', 'MAP']\n",
    "impute_nans(clf, X_train, X_test, columns, 'smoke')#, perform_cv = True)\n",
    "\n",
    "columns = ['age', 'gender', 'height', 'weight', 'ap_hi', 'ap_lo', 'cholesterol', 'gluc','BMI', 'ap_dif', 'MAP', ]\n",
    "impute_nans(clf, X_train, X_test, columns, 'alco')#, perform_cv = True)\n",
    "\n",
    "columns = ['age', 'gender', 'height', 'weight', 'ap_hi', 'ap_lo', 'cholesterol', 'gluc','BMI', 'ap_dif', 'MAP', ]\n",
    "impute_nans(clf, X_train, X_test, columns, 'active')#, perform_cv = True)"
   ]
  },
  {
   "cell_type": "code",
   "execution_count": 162,
   "metadata": {
    "collapsed": false
   },
   "outputs": [
    {
     "name": "stdout",
     "output_type": "stream",
     "text": [
      "Index(['age_group_gender', 'age_group_gluc', 'gender_MAP', 'gender_smoke',\n",
      "       'gender_active', 'MAP_error_group', 'MAP_smoke', 'MAP_active',\n",
      "       'error_group_gluc', 'error_group_active', 'cholesterol_gluc',\n",
      "       'gluc_smoke', 'gluc_alco', 'gluc_active', 'smoke_active',\n",
      "       'age_group_gender_error_group', 'age_group_gender_gluc',\n",
      "       'age_group_gender_smoke', 'age_group_gender_alco',\n",
      "       'age_group_error_group_gluc', 'age_group_error_group_alco',\n",
      "       'age_group_gluc_smoke', 'age_group_gluc_alco', 'age_group_gluc_active',\n",
      "       'gender_MAP_error_group', 'gender_MAP_smoke', 'gender_MAP_alco',\n",
      "       'gender_cholesterol_gluc', 'gender_cholesterol_smoke',\n",
      "       'gender_cholesterol_active', 'gender_gluc_smoke', 'gender_gluc_active',\n",
      "       'gender_smoke_active', 'gender_alco_active', 'MAP_error_group_smoke',\n",
      "       'MAP_error_group_alco', 'MAP_gluc_active', 'MAP_BMI_group_alco',\n",
      "       'MAP_smoke_alco', 'MAP_alco_height_group',\n",
      "       'error_group_cholesterol_gluc', 'error_group_smoke_active',\n",
      "       'error_group_smoke_weight_group', 'error_group_alco_active',\n",
      "       'cholesterol_gluc_BMI_group', 'cholesterol_gluc_smoke',\n",
      "       'cholesterol_gluc_alco', 'cholesterol_gluc_active',\n",
      "       'cholesterol_gluc_height_group', 'gluc_BMI_group_smoke',\n",
      "       'gluc_smoke_alco', 'gluc_smoke_active', 'gluc_smoke_height_group',\n",
      "       'gluc_alco_active', 'smoke_alco_active', 'age_group_gender_gluc_smoke',\n",
      "       'age_group_gender_gluc_alco', 'age_group_gender_gluc_active',\n",
      "       'age_group_gender_smoke_active', 'age_group_gluc_alco_active',\n",
      "       'gender_cholesterol_gluc_smoke', 'gender_cholesterol_gluc_alco',\n",
      "       'gender_cholesterol_gluc_active', 'gender_gluc_smoke_active',\n",
      "       'cholesterol_gluc_smoke_alco', 'cholesterol_gluc_smoke_active',\n",
      "       'cholesterol_gluc_alco_active', 'age_group_gender_gluc_smoke_active',\n",
      "       'gender_cholesterol_gluc_smoke_active',\n",
      "       'gender_cholesterol_gluc_alco_active',\n",
      "       'cholesterol_gluc_smoke_alco_active'],\n",
      "      dtype='object')\n"
     ]
    }
   ],
   "source": [
    "columns_to_interact = ['age_group', 'gender', 'MAP', 'error_group', 'cholesterol', 'gluc', \n",
    "                       'BMI_group', 'smoke', 'alco', 'active', \"ap_hi_group\", \"ap_lo_group\",\n",
    "                      \"weight_group\", \"height_group\"]\n",
    "temp = utils.generate_interactions(X_train, columns_to_interact, degree=5, white_list=best_interactions)\n",
    "X_train = pd.concat((X_train, temp), axis=1)\n",
    "X_test = pd.concat((X_test, utils.generate_interactions(X_test, columns_to_interact, degree=5, white_list=best_interactions)), axis=1)\n",
    "print(temp.columns)\n",
    "\n",
    "X = pd.concat((X_train, X_test), axis=0)"
   ]
  },
  {
   "cell_type": "code",
   "execution_count": 213,
   "metadata": {
    "collapsed": false
   },
   "outputs": [],
   "source": [
    "use_columns = [\n",
    "    'age_group', 'gender', 'height', 'weight', 'ap_hi', 'ap_lo', 'cholesterol', 'gluc', 'smoke', 'alco', 'active',\n",
    "'BMI',\n",
    " 'MAP',\n",
    "    'ap_dif',\n",
    "]\n",
    "mean_columns = [\n",
    "    'cholesterol_gluc_smoke_active',\n",
    "#     'ap_hi', \n",
    "    'gluc', \n",
    "#     'MAP_active',\n",
    "#     'gender_MAP', \n",
    "    'cholesterol_gluc',\n",
    "    'gluc_smoke',\n",
    "                'gluc_active', 'gluc_alco', 'smoke_active', 'cholesterol_gluc_active', 'gender_cholesterol_gluc'\n",
    "] #, 'age_group_MAP', 'gender_MAP'\n",
    "\n",
    "# for i in range(10):\n",
    "#         str_i = str(i)\n",
    "#         use_columns.append(str_i)\n",
    "#         for j in range(10):\n",
    "#             str_j = str_i + str(j)\n",
    "#             use_columns.append(str_j)"
   ]
  },
  {
   "cell_type": "code",
   "execution_count": 214,
   "metadata": {
    "collapsed": false
   },
   "outputs": [
    {
     "data": {
      "text/plain": [
       "197"
      ]
     },
     "execution_count": 214,
     "metadata": {},
     "output_type": "execute_result"
    }
   ],
   "source": [
    "import gc\n",
    "gc.collect()"
   ]
  },
  {
   "cell_type": "code",
   "execution_count": 215,
   "metadata": {
    "collapsed": false
   },
   "outputs": [],
   "source": [
    "# X_train['cholesterol_gluc_smoke_active'].value_counts()"
   ]
  },
  {
   "cell_type": "code",
   "execution_count": 216,
   "metadata": {
    "collapsed": false
   },
   "outputs": [],
   "source": [
    "# X_test['cholesterol_gluc_smoke_active'].value_counts()"
   ]
  },
  {
   "cell_type": "code",
   "execution_count": 217,
   "metadata": {
    "collapsed": false,
    "scrolled": false
   },
   "outputs": [],
   "source": [
    "#  5\t(0.5387210612358031, 0.53908495582477467)\n",
    "#  6\t(0.53875910103167679, 0.53914751218811652)\n",
    "#  7\t(0.53880255564816204, 0.53916006288317908)\n",
    "#  8\t(0.53885523453108464, 0.53925112418043775)\n",
    "#  9\t(0.53883513664677474, 0.53926419236173784)\n",
    "# 10\t(0.53859977707105033, 0.53901168020149492)\n",
    "# 11\t(0.53885940801773513, 0.5392083353358218)\n",
    "# 12\t(0.5387449524031015, 0.53910693602820126)\n",
    "# 13\t(0.53860169446196149, 0.53894647849839095)\n",
    "# 14\t(0.53868075060547327, 0.53902469873650505)\n",
    "# 15\t(0.53862027392521605, 0.53901222140087546)\n",
    "# 16\t(0.53888470508839914, 0.53924245981066532)\n",
    "# 17\t(0.53871842606094211, 0.53910013326813211)\n",
    "# 18\t(0.53875072382243228, 0.53913302528622098)\n",
    "# 19\t(0.53871978044672797, 0.53907222634869367)\n",
    "# 20\t(0.53873956020603608, 0.5391327381456501)\n",
    "# 21\t(0.53867673120877213, 0.53906722821160313)\n",
    "# 22\t(0.53872675503165057, 0.53909177387999974)\n",
    "# 23\t(0.5387593012507248, 0.53915932529166388)\n",
    "# 24\t(0.53871720156688541, 0.53901944164662974)\n",
    "# 25\t(0.53871319790519423, 0.53907590822454066)\n",
    "# 26\t(0.5387557838828374, 0.53917015878887609)\n",
    "# 27\t(0.53871462107471579, 0.5390504570167638)"
   ]
  },
  {
   "cell_type": "code",
   "execution_count": 218,
   "metadata": {
    "collapsed": false,
    "scrolled": false
   },
   "outputs": [
    {
     "name": "stdout",
     "output_type": "stream",
     "text": [
      "\n",
      "10 folds logloss:\n",
      "[0.53928745629288988, 0.54277215248097899, 0.53834511305938926, 0.53440835757053118, 0.53945656874781822, 0.53449594949298695, 0.53734680388782807, 0.5414401316130012, 0.53692052582224148, 0.5417170125405999]\n",
      "mean: 0.538619007151\n",
      "std: 0.00274337133325\n",
      "15 Splits logloss:\n",
      "[0.54004644182001293, 0.54178885719047687, 0.53535484040676906, 0.54099029131504406, 0.5387000149104525, 0.53647923618432469, 0.54226642887722465, 0.53616233684343195, 0.54120734427171335, 0.53759663902386745, 0.53631786326211828, 0.53872557429037715, 0.54024509482209626, 0.5363619505606616, 0.54238962051855766]\n",
      "mean: 0.538975502286\n",
      "std: 0.00238590853169\n",
      "model1 results saved!\n"
     ]
    },
    {
     "data": {
      "text/plain": [
       "1363"
      ]
     },
     "execution_count": 218,
     "metadata": {},
     "output_type": "execute_result"
    }
   ],
   "source": [
    "import utils\n",
    "params = {\n",
    "    'colsample_bytree': 0.8,\n",
    "    #'gamma': 0.125,\n",
    "    'learning_rate': 0.1,\n",
    "#     'max_depth': 4,\n",
    "    # 'min_child_weight': 1,\n",
    "    'n_estimators': 224,\n",
    "    'subsample': 0.8,\n",
    "    # 'reg_alpha': 0.0,\n",
    "    # 'reg_lambda': 2.0,\n",
    "    \n",
    "    'n_jobs': 4,\n",
    "    'random_state': 2707,\n",
    "    'silent': True,\n",
    "}\n",
    "\n",
    "utils.execute_model(xgb.XGBClassifier(**params),\n",
    "              X_train,\n",
    "              y_train,\n",
    "              X_test,\n",
    "              model_name=\"model1\",\n",
    "               mean_columns = mean_columns,\n",
    "              use_columns = use_columns,\n",
    "              n_splits=15,\n",
    "              n_folds=10,\n",
    "#               stratification_groups=rew,\n",
    "              alpha=13,\n",
    "#               seed=150\n",
    "             )\n",
    "gc.collect()\n",
    "# 10 folds logloss:\n",
    "# [0.53879171211127175, 0.54238427117159227, 0.53835795056164537, 0.53590450923434263, 0.53965623001675889, 0.53466719153279707, 0.53797157618311608, 0.54158551989326476, 0.53629106584952935, 0.541785575506043]\n",
    "# mean: 0.538739560206\n",
    "# std: 0.00250712719565\n",
    "# 15 Splits logloss:\n",
    "# [0.53990746477150675, 0.54170948794032159, 0.53577194222410518, 0.54126022680376951, 0.53938495633157968, 0.53626944090268058, 0.54246021538176914, 0.53646336087510926, 0.54158070565743344, 0.53745181211087723, 0.53646428880860408, 0.53886036689953631, 0.54046600754234764, 0.53630953872061249, 0.54263125721449978]\n",
    "# mean: 0.539132738146\n",
    "# std: 0.00241552376841\n",
    "# model1+ results saved!"
   ]
  },
  {
   "cell_type": "code",
   "execution_count": 219,
   "metadata": {
    "collapsed": false
   },
   "outputs": [
    {
     "name": "stdout",
     "output_type": "stream",
     "text": [
      "\n",
      "10 folds logloss:\n",
      "[0.53848955881817651, 0.54267378851507853, 0.53886163199033843, 0.53534187586836635, 0.53918021388236059, 0.53473690841162158, 0.53772559302383616, 0.54143139833961573, 0.53682671670471371, 0.54088424780190325]\n",
      "mean: 0.538615193336\n",
      "std: 0.00244322157108\n",
      "15 Splits logloss:\n",
      "[0.53973473496266633, 0.54176800918785162, 0.53541428222293408, 0.54081457096350172, 0.5388531436294689, 0.53611729665046459, 0.54252583492525008, 0.53639977635909553, 0.54113346747531565, 0.53734065262251673, 0.53630955615927089, 0.5387077049572746, 0.54036063971328507, 0.53639432174024848, 0.54230001859220767]\n",
      "mean: 0.538944934011\n",
      "std: 0.00239430644668\n",
      "model2 results saved!\n"
     ]
    },
    {
     "data": {
      "text/plain": [
       "1363"
      ]
     },
     "execution_count": 219,
     "metadata": {},
     "output_type": "execute_result"
    }
   ],
   "source": [
    "params = {\n",
    "    'colsample_bytree': 0.8,\n",
    "    #'gamma': 0.125,\n",
    "    'learning_rate': 0.1,\n",
    "    # 'max_depth': 9,\n",
    "    # 'min_child_weight': 1,\n",
    "    'n_estimators': 200,\n",
    "    'subsample': 0.8,\n",
    "    # 'reg_alpha': 0.0,\n",
    "    # 'reg_lambda': 2.0,\n",
    "    'tree_method': 'hist',\n",
    "    'grow_policy': 'lossguide',\n",
    "    \n",
    "    'n_jobs': 1,\n",
    "    'random_state': 2707,\n",
    "    'silent': True,\n",
    "}\n",
    "\n",
    "utils.execute_model(xgb.XGBClassifier(**params),\n",
    "              X_train,\n",
    "              y_train,\n",
    "              X_test,\n",
    "              model_name=\"model2\",\n",
    "              mean_columns = mean_columns,\n",
    "              use_columns = use_columns,\n",
    "              n_splits=15,\n",
    "              n_folds=10,\n",
    "#               stratification_groups=rew,\n",
    "              alpha=13,\n",
    "             )\n",
    "gc.collect()\n",
    "# ds logloss:\n",
    "# [0.53838775050345211, 0.54261874382933317, 0.53928867846307305, 0.53517951068627134, 0.53954022503431909, 0.53495162372994898, 0.53832780278071102, 0.54151861980412785, 0.53622335988762093, 0.54144787624529611]\n",
    "# mean: 0.538748419096\n",
    "# std: 0.00254352152431\n",
    "# 15 Splits logloss:\n",
    "# [0.53975054028836633, 0.54185785865419411, 0.53596000542052324, 0.541394881952169, 0.53921806647281545, 0.53599988924526454, 0.54255523619557255, 0.53663155144904706, 0.54115136838759059, 0.53740464346588646, 0.5365239498279466, 0.53874940825129614, 0.54019631961036263, 0.53671776224865975, 0.54252445237787772]\n",
    "# mean: 0.539109062257\n",
    "# std: 0.002355921174\n",
    "# model2+ results saved!"
   ]
  },
  {
   "cell_type": "code",
   "execution_count": 220,
   "metadata": {
    "collapsed": false
   },
   "outputs": [
    {
     "name": "stdout",
     "output_type": "stream",
     "text": [
      "\n",
      "10 folds logloss:\n",
      "[0.53855160904318711, 0.54207289881400822, 0.53879550487779837, 0.535735774644167, 0.54033862567552737, 0.53536011485404167, 0.53846244149193767, 0.54104052737315023, 0.53618072864809396, 0.54048892826490125]\n",
      "mean: 0.538702715369\n",
      "std: 0.00221620322846\n",
      "15 Splits logloss:\n",
      "[0.53925830939967945, 0.54157336962290736, 0.53530174548200948, 0.54093289899852726, 0.53917719122012564, 0.53675760550184415, 0.54258557570873467, 0.5361690145516198, 0.54128320112734474, 0.53728743311558169, 0.53577019208197363, 0.53873362546217285, 0.53972491670508382, 0.5362008370357596, 0.54234437145070669]\n",
      "mean: 0.538873352498\n",
      "std: 0.00242193108836\n",
      "model3 results saved!\n"
     ]
    },
    {
     "data": {
      "text/plain": [
       "1412"
      ]
     },
     "execution_count": 220,
     "metadata": {},
     "output_type": "execute_result"
    }
   ],
   "source": [
    "import lightgbm as lgb\n",
    "from sklearn.calibration import CalibratedClassifierCV\n",
    "from sklearn.model_selection import KFold\n",
    "\n",
    "params = {\n",
    "    'colsample_bytree': 0.8,\n",
    "    'learning_rate': 0.1,\n",
    "#     'num_leaves': 2**3,\n",
    "#     'min_child_weight': 1,\n",
    "    'n_estimators': 44,\n",
    "    'subsample': 0.8,\n",
    "#     'reg_alpha': 1.2,\n",
    "#     'reg_lambda': 0.0,\n",
    "       \n",
    "    'nthread': 1,\n",
    "    'seed': 2707,\n",
    "    'silent': True,\n",
    "}\n",
    "\n",
    "#kf = KFold(n_splits=7, random_state=12345)\n",
    "utils.execute_model(lgb.LGBMClassifier(**params), #CalibratedClassifierCV(lgb.LGBMClassifier(**params), cv=kf),\n",
    "              X_train,\n",
    "              y_train,\n",
    "              X_test,\n",
    "              model_name=\"model3\",\n",
    "              mean_columns = mean_columns,\n",
    "              use_columns = use_columns,\n",
    "              n_splits=15,\n",
    "              n_folds=10,\n",
    "#               stratification_groups=rew,\n",
    "              alpha=13\n",
    "             )\n",
    "gc.collect()\n",
    "# 10 folds logloss:\n",
    "# [0.53878261099232327, 0.54210784783582577, 0.53809482292303445, 0.53609552244928205, 0.54026202753931118, 0.53530128563380508, 0.53786962161525931, 0.54130416790795344, 0.53657631979284648, 0.54054578419130106]\n",
    "# mean: 0.538694001088\n",
    "# std: 0.00219428300863\n",
    "# 15 Splits logloss:\n",
    "# [0.53948937210350822, 0.54161359215348182, 0.53507513769243864, 0.54104127811197134, 0.53934383317359258, 0.53645848684775677, 0.54283650309623088, 0.53660968529008857, 0.54159792050850664, 0.53694623232395022, 0.53561972528550217, 0.5387600102110226, 0.53955752137824287, 0.53634922619574232, 0.54234585724637496]\n",
    "# mean: 0.538909625441\n",
    "# std: 0.00251014294768\n",
    "# model3+ results saved!"
   ]
  },
  {
   "cell_type": "code",
   "execution_count": 174,
   "metadata": {
    "collapsed": false
   },
   "outputs": [],
   "source": [
    "# from sklearn.neural_network import MLPClassifier\n",
    "# from sklearn.preprocessing import StandardScaler  \n",
    "\n",
    "# scaler = StandardScaler()  \n",
    "# X = pd.concat((X_train, X_test), axis=0)\n",
    "# scaler.fit(X)\n",
    "# gc.collect()\n",
    "\n",
    "# clf = MLPClassifier(solver='adam', activation='relu', learning_rate = 'adaptive', tol = 1e-5,\n",
    "#                     hidden_layer_sizes=(8, 3), random_state=1100)\n",
    "\n",
    "# utils.execute_model(clf,\n",
    "#               scaler.transform(X_train),\n",
    "#               y_train,\n",
    "#               scaler.transform(X_test) ,\n",
    "#               model_name=\"model4\",\n",
    "#               mean_columns = mean_columns,\n",
    "#               use_columns = use_columns,\n",
    "#               n_splits=15,\n",
    "#               n_folds=10,\n",
    "#               alpha=20\n",
    "#              )\n",
    "# gc.collect()"
   ]
  },
  {
   "cell_type": "code",
   "execution_count": 223,
   "metadata": {
    "collapsed": false
   },
   "outputs": [
    {
     "name": "stdout",
     "output_type": "stream",
     "text": [
      "\n",
      "model1\n",
      "0.538618972443\t0.539337497689\t0.538618972443\t0.539337497689\n",
      "\n",
      "model2\n",
      "0.538615159126\t0.539160708115\t0.538496052347\t0.539114773246\n",
      "\n",
      "model3\n",
      "0.538702687693\t0.539402696417\t0.538141859286\t0.538727942758\n",
      "\n",
      "model1+\n",
      "0.538601643568\t0.539670976936\t0.538094189224\t0.538763999819\n",
      "\n",
      "model2+\n",
      "0.538517667601\t0.539501720811\t0.538092073243\t0.538807972121\n",
      "\n",
      "model3+\n",
      "0.538577200052\t0.539349318922\t0.537998452494\t0.538697384187\n"
     ]
    }
   ],
   "source": [
    "models = ['model1','model2','model3','model1+','model2+','model3+']\n",
    "result1 = utils.merge_models(models, method='mean')\n",
    "pd.DataFrame(result1).to_csv('models1234_mean.csv', index=False, header=False, sep=';')"
   ]
  },
  {
   "cell_type": "code",
   "execution_count": 208,
   "metadata": {
    "collapsed": false
   },
   "outputs": [
    {
     "name": "stdout",
     "output_type": "stream",
     "text": [
      "\n",
      "model1+\n",
      "0.538601643568\t0.539670976936\t0.538601643568\t0.539670976936\n",
      "\n",
      "model2+\n",
      "0.538517667601\t0.539501720811\t0.53844701867\t0.539453908542\n",
      "\n",
      "model3+\n",
      "0.538577200052\t0.539349318922\t0.538088589088\t0.538951518696\n"
     ]
    }
   ],
   "source": [
    "models = ['model1+','model2+','model3+']\n",
    "result2 = utils.merge_models(models, method='mean')\n",
    "pd.DataFrame(result2).to_csv('models1234+_mean.csv', index=False, header=False, sep=';')"
   ]
  },
  {
   "cell_type": "code",
   "execution_count": 117,
   "metadata": {
    "collapsed": false
   },
   "outputs": [],
   "source": [
    "# X_test['error_group']==0"
   ]
  },
  {
   "cell_type": "code",
   "execution_count": 124,
   "metadata": {
    "collapsed": false
   },
   "outputs": [
    {
     "data": {
      "text/plain": [
       "<matplotlib.axes._subplots.AxesSubplot at 0x27007dcf748>"
      ]
     },
     "execution_count": 124,
     "metadata": {},
     "output_type": "execute_result"
    },
    {
     "data": {
      "image/png": "[encoded data removed]",
      "text/plain": [
       "<matplotlib.figure.Figure at 0x2700c9ec4a8>"
      ]
     },
     "metadata": {},
     "output_type": "display_data"
    }
   ],
   "source": [
    "pd.Series(result1-result2).hist(bins=100)"
   ]
  },
  {
   "cell_type": "code",
   "execution_count": 125,
   "metadata": {
    "collapsed": false
   },
   "outputs": [
    {
     "data": {
      "text/plain": [
       "<matplotlib.axes._subplots.AxesSubplot at 0x27000648cc0>"
      ]
     },
     "execution_count": 125,
     "metadata": {},
     "output_type": "execute_result"
    },
    {
     "data": {
      "image/png": "[encoded data removed]",
      "text/plain": [
       "<matplotlib.figure.Figure at 0x2700907efd0>"
      ]
     },
     "metadata": {},
     "output_type": "display_data"
    }
   ],
   "source": [
    "pd.Series((result1-result2)[X_test['error_group']==0]).hist(bins=100)"
   ]
  },
  {
   "cell_type": "code",
   "execution_count": 126,
   "metadata": {
    "collapsed": false
   },
   "outputs": [
    {
     "data": {
      "text/plain": [
       "<matplotlib.axes._subplots.AxesSubplot at 0x2700395fa58>"
      ]
     },
     "execution_count": 126,
     "metadata": {},
     "output_type": "execute_result"
    },
    {
     "data": {
      "image/png": "[encoded data removed]",
      "text/plain": [
       "<matplotlib.figure.Figure at 0x2700c9fb5c0>"
      ]
     },
     "metadata": {},
     "output_type": "display_data"
    }
   ],
   "source": [
    "pd.Series((result1-result2)[X_test['error_group']!=0]).hist(bins=100)"
   ]
  },
  {
   "cell_type": "code",
   "execution_count": 128,
   "metadata": {
    "collapsed": true
   },
   "outputs": [],
   "source": [
    "result3 = result2.copy()\n",
    "result3[X_test['error_group']==0] = result1[X_test['error_group']==0]"
   ]
  },
  {
   "cell_type": "code",
   "execution_count": 129,
   "metadata": {
    "collapsed": true
   },
   "outputs": [],
   "source": [
    "pd.DataFrame(result3).to_csv('test_mean.csv', index=False, header=False, sep=';')"
   ]
  },
  {
   "cell_type": "code",
   "execution_count": 185,
   "metadata": {
    "collapsed": false
   },
   "outputs": [],
   "source": [
    "import importlib\n",
    "utils = importlib.reload(utils)"
   ]
  },
  {
   "cell_type": "code",
   "execution_count": null,
   "metadata": {
    "collapsed": false
   },
   "outputs": [
    {
     "name": "stdout",
     "output_type": "stream",
     "text": [
      "11111 0.0024572290557\n",
      "11241 0.00214028708464\n"
     ]
    }
   ],
   "source": [
    "import lightgbm as lgb\n",
    "params = {\n",
    "    'colsample_bytree': 0.8,\n",
    "    'learning_rate': 0.1,\n",
    "#     'num_leaves': 2**3,\n",
    "#     'min_child_weight': 1,\n",
    "    'n_estimators': 44,\n",
    "    'subsample': 0.8,\n",
    "#     'reg_alpha': 1.2,\n",
    "#     'reg_lambda': 0.0,\n",
    "       \n",
    "    'nthread': 1,\n",
    "    'seed': 2707,\n",
    "    'silent': True,\n",
    "}\n",
    "\n",
    "best = 1072\n",
    "best_std = 1\n",
    "for i in range(11111, 11311):\n",
    "    std = utils.execute_model(lgb.LGBMClassifier(**params),\n",
    "              X_train,\n",
    "              y_train,\n",
    "#               X_test,\n",
    "#               model_name=\"model3+\",\n",
    "              mean_columns = [],\n",
    "              use_columns = use_columns,\n",
    "#               n_splits=15,\n",
    "              n_folds=10,\n",
    "#               stratification_groups=rew,\n",
    "              alpha=20,\n",
    "              seed=i,\n",
    "                              verbose=0\n",
    "             )\n",
    "    if std<best_std:\n",
    "        best_std=std\n",
    "        best=i\n",
    "        print(best, best_std)\n",
    "    gc.collect()\n",
    "        \n",
    "\n"
   ]
  },
  {
   "cell_type": "code",
   "execution_count": null,
   "metadata": {
    "collapsed": true
   },
   "outputs": [],
   "source": [
    "from sklearn.ensemble import RandomForestClassifier"
   ]
  },
  {
   "cell_type": "code",
   "execution_count": null,
   "metadata": {
    "collapsed": false
   },
   "outputs": [],
   "source": [
    "clf = RandomForestClassifier(n_estimators=200)\n",
    "utils.execute_model(clf,\n",
    "              X_train,\n",
    "              y_train,\n",
    "              X_test,\n",
    "              model_name=\"model4\",\n",
    "              mean_columns = mean_columns,\n",
    "              use_columns = use_columns,\n",
    "              n_splits=15,\n",
    "              n_folds=10,\n",
    "#               stratification_groups=rew,\n",
    "              alpha=10\n",
    "             )\n",
    "gc.collect()"
   ]
  },
  {
   "cell_type": "code",
   "execution_count": null,
   "metadata": {
    "collapsed": true
   },
   "outputs": [],
   "source": []
  },
  {
   "cell_type": "code",
   "execution_count": null,
   "metadata": {
    "collapsed": true
   },
   "outputs": [],
   "source": [
    "# 0.537735274001\t0.537762262313 = 0.5439345\n",
    "# 0.538040557134\t0.538014744278 = 0.5436639\n",
    "# 0.5374\t0.5374                 = 0.5440495\n",
    "# 0.537603843701\t0.537606129043 = 0.5448082\n",
    "\n",
    "# Со столбцами Стаса альфа=20\n",
    "# 0.537387582699\t0.537559051543 = 0.5482682\n",
    "\n",
    "# 0.537684932504\t0.537640948053 = 0.5514443 добавил один столбик \"по Стасу\"\n",
    "# 0.537748490027\t0.537673097079 = 0.5517563 20 фолдов для подсчета среднего\n",
    "\n",
    "# Без них\n",
    "# 0.538947547578\t0.538808662263 = 0.5441786\n",
    "# 0.538231869380\t0.538120316604 = 0.5435621"
   ]
  }
 ],
 "metadata": {
  "kernelspec": {
   "display_name": "Python 3",
   "language": "python",
   "name": "python3"
  },
  "language_info": {
   "codemirror_mode": {
    "name": "ipython",
    "version": 3
   },
   "file_extension": ".py",
   "mimetype": "text/x-python",
   "name": "python",
   "nbconvert_exporter": "python",
   "pygments_lexer": "ipython3",
   "version": "3.6.0"
  }
 },
 "nbformat": 4,
 "nbformat_minor": 2
}
