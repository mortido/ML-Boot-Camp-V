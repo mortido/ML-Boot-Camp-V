{
 "cells": [
  {
   "cell_type": "code",
   "execution_count": 2,
   "metadata": {
    "collapsed": false
   },
   "outputs": [],
   "source": [
    "import pandas as pd\n",
    "import numpy as np\n",
    "\n",
    "import random\n",
    "\n",
    "import xgboost as xgb\n",
    "from sklearn.ensemble import RandomForestClassifier\n",
    "from sklearn.metrics import log_loss\n",
    "from sklearn.model_selection import StratifiedKFold\n",
    "\n",
    "import matplotlib.pyplot as plt\n",
    "import seaborn as sns\n",
    "import gc\n",
    "import utils\n",
    "\n",
    "plt.style.use('ggplot')\n",
    "%matplotlib inline"
   ]
  },
  {
   "cell_type": "code",
   "execution_count": 3,
   "metadata": {
    "collapsed": false
   },
   "outputs": [],
   "source": [
    "train = pd.read_csv('train.csv', sep=';')\n",
    "test = pd.read_csv('test.csv', sep=';', na_values='None')\n",
    "\n",
    "train = utils.clean_data(train)\n",
    "test = utils.clean_data(test)\n",
    "\n",
    "train = utils.new_features(train)\n",
    "test = utils.new_features(test)\n",
    "\n",
    "X_train = train.drop([ 'cardio'], axis=1)\n",
    "y_train = train['cardio'].values.ravel()\n",
    "X_test = test.drop([], axis=1)\n",
    "\n",
    "ccc = ['age', 'age_group', 'height', 'weight', 'ap_hi', 'ap_lo', 'cholesterol', 'gluc', 'BMI', 'MAP']\n",
    "def new_cols(data):    \n",
    "    for col1 in ccc:\n",
    "        data[col1 + '_log'] = np.log(data[col1] + 1.1)\n",
    "        for col2 in ccc:\n",
    "            data['%s_mul_%s' % (col1, col2)] = data[col1] * data[col2]\n",
    "            data['%s_mul_log_%s' % (col1, col2)] = data[col1] * np.log(data[col2] + 1)\n",
    "            data['%s_div_log_%s' % (col1, col2)] = data[col1] / (np.log(data[col2] + 1) + 1)\n",
    "\n",
    "            if col2 == col1:\n",
    "                continue\n",
    "\n",
    "            data['%s_div_%s' % (col1, col2)] = data[col1] / (data[col2] + 1)\n",
    "\n",
    "new_cols(X_train)\n",
    "new_cols(X_test)"
   ]
  },
  {
   "cell_type": "code",
   "execution_count": 4,
   "metadata": {
    "collapsed": true
   },
   "outputs": [],
   "source": [
    "loo = pd.read_csv('LOO_results.csv', sep=',', index_col='index')\n",
    "loo = loo.sort_index()\n",
    "strat = pd.qcut(loo, 20, labels=False).astype(str)\n",
    "strat = np.hstack((strat, y_train.reshape((-1,1))))\n",
    "strat =np.apply_along_axis(lambda d: str(d[0]) + '_' + str(d[1]), 1, strat)"
   ]
  },
  {
   "cell_type": "code",
   "execution_count": 10,
   "metadata": {
    "collapsed": false
   },
   "outputs": [],
   "source": [
    "use_columns = [\n",
    "\"gender\",\n",
    "\"height\",\n",
    "\"weight\",\n",
    "\"ap_hi\",\n",
    "\"ap_lo\",\n",
    "\"cholesterol\",\n",
    "# \"gluc\",\n",
    "\"active_fair\",\n",
    "\"smoke_restored\",\n",
    "\"alco_restored\",\n",
    "# \"active_restored\",\n",
    "\"height_mul_log_gluc\",\n",
    "\"BMI\",\n",
    "\"age_group\",\n",
    "# \"cholesterol_div_log_age_group\",\n",
    "\"cholesterol_div_log_gluc\",\n",
    "\"gluc_mul_log_age\",\n",
    "# \"age_group_mul_log_ap_lo\",\n",
    "]\n",
    "mean_columns = [\n",
    "#     ['cholesterol','gluc','smoke_restored','active_restored'],\n",
    "# #     ['ap_hi_group'],\n",
    "# #     ['ap_lo_group'],\n",
    "#     ['ap_hi_group', 'age_group', 'gender'],\n",
    "    \n",
    "# #     [\"error_group\"],\n",
    "# #     ['gluc'], \n",
    "#     ['MAP','active_restored'],\n",
    "#     ['gender','MAP'],\n",
    "# #     ['cholesterol','gluc'],\n",
    "# #     ['gluc','smoke_restored'],\n",
    "# #     ['gluc','active_restored'],\n",
    "# #     ['gluc','alco_restored'],\n",
    "# #     ['smoke_restored','active_restored'],\n",
    "#     ['cholesterol','gluc','active_restored'],\n",
    "#     ['gender','cholesterol','gluc']\n",
    "    \n",
    "    \n",
    "#  ('age_group', 'gender', 'gluc', 'smoke', 'active'),\n",
    "#  ('gender', 'cholesterol', 'gluc', 'alco', 'active'),\n",
    "#  ('MAP', 'alco', 'active', 'ap_hi_group', 'ap_lo_group'),\n",
    "\n",
    "]\n",
    "\n",
    "# for i in range(10):\n",
    "#         str_i = str(i)\n",
    "#         use_columns.append('hi_' + str_i + 's')\n",
    "\n",
    "from sklearn.pipeline import Pipeline, FeatureUnion\n",
    "from utils import SmoothLikelihood,SmoothLikelihood2,SmoothLikelihood3,SmoothLikelihood4, ColumnsFilter\n",
    "def wrap_classifier(clf):\n",
    "#     kf = StratifiedKFold(random_state=111111, n_splits=10, shuffle=True)\n",
    "    fs = [(\"filter\", ColumnsFilter(use_columns))]\n",
    "    for i, cc in enumerate(mean_columns):\n",
    "        fs.append(('mean_'+str(i), SmoothLikelihood4(cc, 0.5,\n",
    "                                                    kf=StratifiedKFold(random_state=111111+i, n_splits=20, shuffle=True),\n",
    "                                                    alpha=13,\n",
    "                                                    seed=10+i,\n",
    "                                                    std=0.0013)))\n",
    "    combined_features = FeatureUnion(fs)\n",
    "    return Pipeline([ (\"features\", combined_features), (\"model\", clf)])"
   ]
  },
  {
   "cell_type": "code",
   "execution_count": 11,
   "metadata": {
    "collapsed": false,
    "scrolled": true
   },
   "outputs": [
    {
     "name": "stdout",
     "output_type": "stream",
     "text": [
      "\n",
      "10 folds logloss:\n",
      "[0.53583455955921611, 0.53665015242052161, 0.53782834817631919, 0.53849243756553344, 0.53977898628980181, 0.53838232372940653, 0.53603754353721988, 0.53770921270957273, 0.5375807116511, 0.5372423106006653]\n",
      "mean: 0.537553658624\n",
      "std: 0.00113082385323\n",
      "15 Splits logloss:\n",
      "[0.53763851580892996, 0.5375872624143071, 0.53731743769134799, 0.53817171076827108, 0.53786325568954152, 0.53816885342715037, 0.53595708007454168, 0.5388466800147047, 0.53751448221974785, 0.5382578534823621, 0.53741609526762646, 0.53734642454804404, 0.53763347640420711, 0.53802614728414588, 0.53825074713854559]\n",
      "mean: 0.537733068149\n",
      "std: 0.000628937097122\n",
      "model1- results saved!\n"
     ]
    },
    {
     "data": {
      "text/plain": [
       "278"
      ]
     },
     "execution_count": 11,
     "metadata": {},
     "output_type": "execute_result"
    }
   ],
   "source": [
    "params = {\n",
    "#     'colsample_bytree': 0.8,\n",
    "#     'learning_rate': 0.1,\n",
    "#     'n_estimators': 224,\n",
    "#     'subsample': 0.8,\n",
    "    \n",
    "    'colsample_bytree': 0.875,\n",
    "     'gamma': 0.05,\n",
    "     'learning_rate': 0.02,\n",
    "     'max_depth': 5,\n",
    "     'min_child_weight': 5,\n",
    "     'n_estimators': 369,\n",
    "\n",
    "     'reg_alpha': 0,\n",
    "     'reg_lambda': 10,\n",
    "     'subsample': 0.7,\n",
    "    \n",
    "    'n_jobs': 1,\n",
    "    'random_state': 2707,\n",
    "    'silent': True,\n",
    "}\n",
    "\n",
    "utils.execute_model(wrap_classifier(xgb.XGBClassifier(**params)),\n",
    "              X_train,\n",
    "              y_train,\n",
    "              X_test,\n",
    "              model_name=\"model1-\",\n",
    "              n_splits=15,\n",
    "              n_folds=10,\n",
    "              stratification_groups=strat,\n",
    "#                     verbose=0\n",
    "             )\n",
    "gc.collect()\n",
    "# mean: 0.538285252534\n",
    "\n",
    "# mean: 0.538269625709\n",
    "# mean: 0.538236304885\n",
    "\n",
    "# 0.538165802596\n",
    "#  0.538044372182\n",
    "\n",
    "# 0.538068044607\n",
    "# 0.538046718451  0.538141127156\n",
    "# 0.538164179021 110\n",
    "# mean: 0.538159507547 105\n",
    "# 0.538133633182 100\n",
    "\n",
    "# mean: 0.538030554975\n",
    "# mean: 0.538058542246\n",
    "# mean: 0.538042794907\n",
    "\n",
    "# mean: 0.538169316987\n",
    "# 0.538115082189\n",
    "\n",
    "# 0.538015868136\n",
    "\n",
    "# mean: 0.538130995063\n",
    "# mean: 0.538016211504\n",
    "\n",
    "# mean: 0.538017046973\n",
    "\n",
    "# mean: 0.538014096544\n",
    "# 0.53799148135\n",
    "# 0.538086890907\n",
    "\n",
    "# mean: 0.538881035549\n",
    "# std: 0.00142658306865\n",
    "\n",
    "# mean: 0.538080355085\n",
    "# std: 0.00125409431762\n",
    "\n",
    "# 10 folds logloss:\n",
    "# mean: 0.53759902514\n",
    "# std: 0.00131889611442\n",
    "# 15 Splits logloss:\n",
    "# mean: 0.537692124543\n",
    "# std: 0.000680289255263\n",
    "\n",
    "#  0.537553658624"
   ]
  },
  {
   "cell_type": "code",
   "execution_count": 74,
   "metadata": {
    "collapsed": false
   },
   "outputs": [
    {
     "data": {
      "text/plain": [
       "array([[<matplotlib.axes._subplots.AxesSubplot object at 0x000002878A5AEBA8>]], dtype=object)"
      ]
     },
     "execution_count": 74,
     "metadata": {},
     "output_type": "execute_result"
    },
    {
     "data": {
      "image/png": "[encoded data removed]",
      "text/plain": [
       "<matplotlib.figure.Figure at 0x2878a5c1ef0>"
      ]
     },
     "metadata": {},
     "output_type": "display_data"
    }
   ],
   "source": [
    "pd.DataFrame(np.random.normal(scale=0.25, size=(1000,1))).hist(bins=100)"
   ]
  },
  {
   "cell_type": "code",
   "execution_count": 18,
   "metadata": {
    "collapsed": false
   },
   "outputs": [],
   "source": [
    "import importlib\n",
    "utils = importlib.reload(utils)"
   ]
  },
  {
   "cell_type": "code",
   "execution_count": 50,
   "metadata": {
    "collapsed": false
   },
   "outputs": [],
   "source": [
    "from utils import SmoothLikelihood4\n",
    "\n",
    "D = X_train.copy()\n",
    "G = X_test.copy()\n",
    "slk = SmoothLikelihood4(['gender','MAP'], 0.5, kf=StratifiedKFold(random_state=111111, n_splits=20, shuffle=True),\n",
    "                        alpha=13,\n",
    "                       seed=10,\n",
    "                        std=0.0013\n",
    "                       )\n",
    "d1 = slk.fit_transform(X_train, y_train)\n",
    "g1 = slk.transform(X_test)"
   ]
  },
  {
   "cell_type": "code",
   "execution_count": 51,
   "metadata": {
    "collapsed": true
   },
   "outputs": [],
   "source": [
    "D['slk']=d1\n",
    "G['slk']=g1"
   ]
  },
  {
   "cell_type": "code",
   "execution_count": 52,
   "metadata": {
    "collapsed": false
   },
   "outputs": [
    {
     "data": {
      "text/plain": [
       "<matplotlib.axes._subplots.AxesSubplot at 0x1a2071db0f0>"
      ]
     },
     "execution_count": 52,
     "metadata": {},
     "output_type": "execute_result"
    },
    {
     "data": {
      "image/png": "[encoded data removed]",
      "text/plain": [
       "<matplotlib.figure.Figure at 0x1a2064bd630>"
      ]
     },
     "metadata": {},
     "output_type": "display_data"
    }
   ],
   "source": [
    "plt.figure(figsize=(40,7))\n",
    "D['slk'].hist(bins=500)\n",
    "G['slk'].hist(bins=500)"
   ]
  },
  {
   "cell_type": "code",
   "execution_count": 62,
   "metadata": {
    "collapsed": false
   },
   "outputs": [
    {
     "data": {
      "text/plain": [
       "0.054392829322042147"
      ]
     },
     "execution_count": 62,
     "metadata": {},
     "output_type": "execute_result"
    }
   ],
   "source": [
    "D.groupby(['ap_hi_group', 'age_group', 'gender'])['slk'].std().max()"
   ]
  },
  {
   "cell_type": "code",
   "execution_count": null,
   "metadata": {
    "collapsed": false
   },
   "outputs": [],
   "source": [
    "params = {\n",
    "     'colsample_bytree': 0.95,\n",
    "     'gamma': 0.55,\n",
    "     'learning_rate': 0.02,\n",
    "     'max_depth': 5,\n",
    "     'min_child_weight': 3,\n",
    "     'n_estimators': 392,\n",
    "     'reg_alpha': 0,\n",
    "     'reg_lambda': 0.4,\n",
    "     'subsample': 0.85,\n",
    "\n",
    "    'tree_method': 'hist',\n",
    "    'grow_policy': 'lossguide',\n",
    "    \n",
    "    'n_jobs': 4,\n",
    "    'random_state': 2707,\n",
    "    'silent': True,\n",
    "}\n",
    "\n",
    "utils.execute_model(wrap_classifier(xgb.XGBClassifier(**params)),\n",
    "              X_train,\n",
    "              y_train,\n",
    "              X_test,\n",
    "              model_name=\"model2-\",\n",
    "              n_splits=15,\n",
    "              n_folds=10,\n",
    "              stratification_groups=strat,\n",
    "             )\n",
    "gc.collect()"
   ]
  },
  {
   "cell_type": "code",
   "execution_count": null,
   "metadata": {
    "collapsed": false
   },
   "outputs": [],
   "source": [
    "import lightgbm as lgb\n",
    "\n",
    "params = {\n",
    "    'colsample_bytree': 0.95,\n",
    "#      'gamma': 0.55,\n",
    "     'learning_rate': 0.02,\n",
    "#      'max_depth': 5,\n",
    "     'num_leaves': 2**5,\n",
    "     'min_child_weight': 3,\n",
    "     'n_estimators': 392,\n",
    "     'reg_alpha': 0,\n",
    "     'reg_lambda': 0.4,\n",
    "     'subsample': 0.85,\n",
    "       \n",
    "    'nthread': 4,\n",
    "    'seed': 2707,\n",
    "    'silent': True,\n",
    "}\n",
    "\n",
    "utils.execute_model(wrap_classifier(lgb.LGBMClassifier(**params)),\n",
    "              X_train,\n",
    "              y_train,\n",
    "              X_test,\n",
    "              model_name=\"model3-\",\n",
    "              n_splits=15,\n",
    "              n_folds=10,\n",
    "              stratification_groups=strat,\n",
    "             )\n",
    "gc.collect()"
   ]
  },
  {
   "cell_type": "code",
   "execution_count": null,
   "metadata": {
    "collapsed": false
   },
   "outputs": [],
   "source": [
    "clf = xgb.XGBClassifier(\n",
    "        learning_rate=0.06,\n",
    "        n_estimators=114,\n",
    "        max_depth=5,\n",
    "        min_child_weight=5,\n",
    "        gamma=0.3,\n",
    "        subsample=0.5,\n",
    "        colsample_bytree=0.5,\n",
    "        reg_alpha=9,\n",
    "        reg_lambda=1.4,\n",
    "        nthread=4,\n",
    "       \n",
    "        seed=1111\n",
    "    )\n",
    "\n",
    "utils.execute_model(wrap_classifier(clf),\n",
    "              X_train,\n",
    "              y_train,\n",
    "              X_test,\n",
    "              model_name=\"model4-\",\n",
    "              n_splits=15,\n",
    "              n_folds=10,\n",
    "              stratification_groups=strat,\n",
    "             )\n",
    "gc.collect()"
   ]
  },
  {
   "cell_type": "code",
   "execution_count": null,
   "metadata": {
    "collapsed": false
   },
   "outputs": [],
   "source": [
    "clf = xgb.XGBClassifier(\n",
    "        learning_rate=0.07,\n",
    "        n_estimators=218,\n",
    "        max_depth=3,\n",
    "        min_child_weight=5,\n",
    "        gamma=0.2,\n",
    "        subsample=0.6,\n",
    "        colsample_bytree=0.55,\n",
    "        reg_alpha=0,\n",
    "        reg_lambda=1.0,\n",
    "        nthread=4,\n",
    "        tree_method='hist',\n",
    "        grow_policy='lossguide',\n",
    "       \n",
    "        seed=2222\n",
    "    )\n",
    "\n",
    "utils.execute_model(wrap_classifier(clf),\n",
    "              X_train,\n",
    "              y_train,\n",
    "              X_test,\n",
    "              model_name=\"model5-\",\n",
    "              n_splits=15,\n",
    "              n_folds=10,\n",
    "              stratification_groups=strat,\n",
    "             )\n",
    "gc.collect()"
   ]
  },
  {
   "cell_type": "code",
   "execution_count": null,
   "metadata": {
    "collapsed": false
   },
   "outputs": [],
   "source": [
    "clf = lgb.LGBMClassifier(\n",
    "        learning_rate=0.07,\n",
    "        n_estimators=218,\n",
    "#         max_depth=3,\n",
    "        num_leaves=2**3,\n",
    "        min_child_weight=5,\n",
    "        subsample=0.6,\n",
    "        colsample_bytree=0.55,\n",
    "        reg_alpha=0,\n",
    "        reg_lambda=1.0,\n",
    "        nthread=4,\n",
    "       \n",
    "        seed=2222\n",
    "    )\n",
    "\n",
    "utils.execute_model(wrap_classifier(clf),\n",
    "              X_train,\n",
    "              y_train,\n",
    "              X_test,\n",
    "              model_name=\"model6-\",\n",
    "              n_splits=15,\n",
    "              n_folds=10,\n",
    "              stratification_groups=strat,\n",
    "             )\n",
    "gc.collect()"
   ]
  },
  {
   "cell_type": "code",
   "execution_count": null,
   "metadata": {
    "collapsed": false
   },
   "outputs": [],
   "source": [
    "# from sklearn.neural_network import MLPClassifier\n",
    "# from sklearn.preprocessing import StandardScaler  \n",
    "\n",
    "# scaler = StandardScaler()  \n",
    "# X = pd.concat((X_train, X_test), axis=0)\n",
    "# scaler.fit(X)\n",
    "# gc.collect()\n",
    "\n",
    "# clf = MLPClassifier(solver='adam', activation='relu', learning_rate = 'adaptive', tol = 1e-5,\n",
    "#                     hidden_layer_sizes=(8, 3), random_state=1100)\n",
    "\n",
    "# utils.execute_model(clf,\n",
    "#               scaler.transform(X_train),\n",
    "#               y_train,\n",
    "#               scaler.transform(X_test) ,\n",
    "#               model_name=\"model4\",\n",
    "#               mean_columns = mean_columns,\n",
    "#               use_columns = use_columns,\n",
    "#               n_splits=15,\n",
    "#               n_folds=10,\n",
    "#               alpha=20\n",
    "#              )\n",
    "# gc.collect()"
   ]
  },
  {
   "cell_type": "code",
   "execution_count": null,
   "metadata": {
    "collapsed": false
   },
   "outputs": [],
   "source": [
    "models = ['model1','model2','model3']\n",
    "result1 = utils.merge_models(models, method='mean')\n",
    "pd.DataFrame(result1).to_csv('models1234_mean.csv', index=False, header=False, sep=';')"
   ]
  },
  {
   "cell_type": "code",
   "execution_count": 14,
   "metadata": {
    "collapsed": false
   },
   "outputs": [
    {
     "name": "stdout",
     "output_type": "stream",
     "text": [
      "\n",
      "model1-\n",
      "0.537553381572\t0.537733068239\t0.537553381572\t0.537733068239\n",
      "\n",
      "model2-\n",
      "0.537831773564\t0.53807213291\t0.537524474477\t0.537703991975\n",
      "\n",
      "model4-\n",
      "0.53846724856\t0.538554524067\t0.537529911476\t0.537639039745\n",
      "\n",
      "model5-\n",
      "0.538162581274\t0.538295101959\t0.537522865028\t0.537621200081\n",
      "\n",
      "model6-\n",
      "0.538185884402\t0.538317455013\t0.537540292521\t0.537629699993\n",
      "\n",
      "KERAS_1\n",
      "0.542922511253\t0.542222618912\t0.537574147349\t0.537641333568\n"
     ]
    }
   ],
   "source": [
    "models = ['model1-','model2-','model3-','model4-','model5-','model6-', 'KERAS_1']\n",
    "result1 = utils.merge_models(models, method='mean')\n",
    "pd.DataFrame(result1).to_csv('models1234-_mean.csv', index=False, header=False, sep=';')\n",
    "# 0.537888791163\t0.53818930228\t0.537494736443\t0.537712095482"
   ]
  },
  {
   "cell_type": "code",
   "execution_count": null,
   "metadata": {
    "collapsed": true
   },
   "outputs": [],
   "source": [
    "# 0.537519393165\t0.537619764695 = 0.5432057 * new log features\n",
    "\n",
    "# 0.538126862768\t0.538047373071 = 0.5431843\n",
    "# 0.538084892954\t0.538027778903 = 0.5433475\n",
    "# 0.538157706723\t0.538186899005 = 0.5430039 # без стасо-колонок\n",
    "# 0.537450021945\t0.537849282831 = 0.5434434\n",
    "# 0.537513993512\t0.537749328355 = 0.5433418\n",
    "\n",
    "# 0.537790804547\t0.538014148853 = 0.5438901 # overfit full\n",
    "\n",
    "# 0.537561506209                   = 0.5432193\n",
    "\n",
    "# 0.537727687638\t0.537773366433 = 0.5437636\n",
    "# 0.537662820586\t0.538506869394 = 0.5433681\n",
    "# 0.537639730851\t0.538322959718 = 0.5436416 # overfit due to smoke leak\n",
    "# 0.537723242359\t0.538418956272 = 0.5433819\n",
    "# 0.537697918691\t0.538454608940 = 0.5435035\n",
    "# 0.537797383673\t0.538468964022 = 0.5433098\n",
    "# 0.537998452494\t0.538697384187 = 0.5433633\n",
    "# 0.538141859286\t0.538727942758 = 0.5434983"
   ]
  },
  {
   "cell_type": "code",
   "execution_count": null,
   "metadata": {
    "collapsed": false
   },
   "outputs": [],
   "source": [
    "%%time\n",
    "params = {\n",
    "    'learning_rate': 0.1,\n",
    "    'n_estimators': 50,\n",
    "    \n",
    "    'n_jobs': 8,\n",
    "    'random_state': 2707,\n",
    "    'silent': True,\n",
    "}\n",
    "\n",
    "utils.execute_model(xgb.XGBClassifier(),\n",
    "              X_train,\n",
    "              y_train,\n",
    "              mean_columns = mean_columns,\n",
    "              use_columns = use_columns,\n",
    "              n_folds=10,\n",
    "              alpha=13,\n",
    "             )\n",
    "gc.collect()"
   ]
  },
  {
   "cell_type": "code",
   "execution_count": null,
   "metadata": {
    "collapsed": true
   },
   "outputs": [],
   "source": [
    "# 0.537735274001\t0.537762262313 = 0.5439345\n",
    "# 0.538040557134\t0.538014744278 = 0.5436639\n",
    "# 0.5374\t0.5374                 = 0.5440495\n",
    "# 0.537603843701\t0.537606129043 = 0.5448082\n",
    "\n",
    "# Со столбцами Стаса альфа=20\n",
    "# 0.537387582699\t0.537559051543 = 0.5482682\n",
    "\n",
    "# 0.537684932504\t0.537640948053 = 0.5514443 добавил один столбик \"по Стасу\"\n",
    "# 0.537748490027\t0.537673097079 = 0.5517563 20 фолдов для подсчета среднего\n",
    "\n",
    "# Без них\n",
    "# 0.538947547578\t0.538808662263 = 0.5441786\n",
    "# 0.538231869380\t0.538120316604 = 0.5435621"
   ]
  }
 ],
 "metadata": {
  "kernelspec": {
   "display_name": "Python 3",
   "language": "python",
   "name": "python3"
  },
  "language_info": {
   "codemirror_mode": {
    "name": "ipython",
    "version": 3
   },
   "file_extension": ".py",
   "mimetype": "text/x-python",
   "name": "python",
   "nbconvert_exporter": "python",
   "pygments_lexer": "ipython3",
   "version": "3.6.0"
  }
 },
 "nbformat": 4,
 "nbformat_minor": 2
}
