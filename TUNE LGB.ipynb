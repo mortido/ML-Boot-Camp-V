{
 "cells": [
  {
   "cell_type": "code",
   "execution_count": 24,
   "metadata": {
    "collapsed": false
   },
   "outputs": [],
   "source": [
    "import pandas as pd\n",
    "import numpy as np\n",
    "# import random\n",
    "\n",
    "import xgboost as xgb\n",
    "import lightgbm as lgb\n",
    "from sklearn.metrics import log_loss, accuracy_score\n",
    "from sklearn.model_selection import StratifiedKFold\n",
    "\n",
    "import matplotlib.pyplot as plt\n",
    "import gc\n",
    "import utils \n",
    "\n",
    "plt.style.use('ggplot')\n",
    "%matplotlib inline"
   ]
  },
  {
   "cell_type": "markdown",
   "metadata": {
    "collapsed": true
   },
   "source": [
    "# TUNE LGBM"
   ]
  },
  {
   "cell_type": "code",
   "execution_count": 25,
   "metadata": {
    "collapsed": true
   },
   "outputs": [],
   "source": [
    "train = pd.read_csv('train.csv', sep=';')\n",
    "test = pd.read_csv('test.csv', sep=';', na_values='None')\n",
    "\n",
    "train = utils.clean_data(train)\n",
    "test = utils.clean_data(test)\n",
    "\n",
    "train = utils.new_features(train)\n",
    "test = utils.new_features(test)\n",
    "\n",
    "X_train = train.drop([ 'cardio'], axis=1)\n",
    "y_train = train['cardio'].values.ravel()\n",
    "X_test = test.drop([], axis=1)\n",
    "\n",
    "data = pd.concat((train.drop('cardio', axis=1), test), axis=0)\n",
    "dic = data.groupby('age_group_orig')['age'].mean().to_dict()\n",
    "X_train['age_dif'] = X_train[['age_group_orig', 'age']].apply(lambda x: x['age'] - dic[x['age_group_orig']], axis=1)\n",
    "X_test['age_dif'] = X_test[['age_group_orig', 'age']].apply(lambda x: x['age'] - dic[x['age_group_orig']], axis=1)\n",
    "\n",
    "X = X_train[[\n",
    "'gender',\n",
    "'height',\n",
    "'weight',\n",
    "'ap_hi',\n",
    "'ap_lo',\n",
    "'cholesterol',\n",
    "'active_fair',\n",
    "'smoke_restored',\n",
    "'alco_restored',\n",
    "'height_mul_log_cholesterol',\n",
    "'height_mul_log_gluc',\n",
    "'BMI',\n",
    "'age_group',\n",
    "'cholesterol_div_log_gluc',\n",
    "'gluc_mul_log_age',\n",
    "'ap_hi_mul_weight',\n",
    "'age_dif',\n",
    "'ap_lo_mul_log_ap_hi',\n",
    "'age_group_div_height',\n",
    "'age_group_mul_log_MAP',\n",
    "]]\n",
    "Y = y_train"
   ]
  },
  {
   "cell_type": "code",
   "execution_count": 26,
   "metadata": {
    "collapsed": true
   },
   "outputs": [],
   "source": [
    "from sklearn.base import clone\n",
    "from sklearn.metrics import log_loss, accuracy_score\n",
    "\n",
    "def modelfit(estimator, X_train, y_train, X_test=None, fit_params=None, n_splits=10, early_stopping_rounds=100):\n",
    "#     if fit_params is None:\n",
    "#         # fit_params = {'eval_metric':'error'} # for lgb\n",
    "# #         fit_params = {'eval_metric':'error'} # for xgb\n",
    "#         fit_params = {} # default\n",
    "#     else:\n",
    "#         fit_params = fit_params.copy()\n",
    "#     fit_params['early_stopping_rounds'] = early_stopping_rounds\n",
    "#     fit_params['verbose'] = False\n",
    "    \n",
    "#     np.random.seed(1205)\n",
    "#     random.seed(1205)\n",
    "\n",
    "#     kf = StratifiedKFold(random_state=1205, n_splits=n_splits, shuffle=True)\n",
    "#     accuracy = []\n",
    "#     logloss = []\n",
    "\n",
    "#     dummies = pd.get_dummies(y_train)\n",
    "#     train_result = np.zeros(dummies.shape)\n",
    "#     X_train = pd.DataFrame(X_train)\n",
    "    \n",
    "#     best_iterations = []\n",
    "#     for train_idx, test_idx in kf.split(X_train, y_train):\n",
    "#         clf = clone(estimator)\n",
    "\n",
    "#         eval_set = [(X_train.iloc[test_idx], y_train[test_idx])]\n",
    "#         clf.fit(X_train.iloc[train_idx], y_train[train_idx], eval_set=eval_set, **fit_params)\n",
    "#         #best_iterations.append(clf.best_iteration) # for lgb\n",
    "#         best_iterations.append(clf.best_ntree_limit) # for xgboost\n",
    "        \n",
    "#         train_result[test_idx] = clf.predict_proba(X_train.iloc[test_idx])\n",
    "#         logloss.append(log_loss(dummies.iloc[test_idx], train_result[test_idx]))\n",
    "#         accuracy.append(accuracy_score(y_train[test_idx], np.argmax(train_result[test_idx], axis=1)))\n",
    "        \n",
    "    lgb_param = estimator.get_params()\n",
    "#     xgtrain = lgb.DMatrix(X_train.values, label=y_train)\n",
    "#     def _construct_dataset(X, y, sample_weight, init_score, group, params):\n",
    "#             ret = Dataset(X, label=y, max_bin=self.max_bin, weight=sample_weight, group=group, params=params)\n",
    "#             ret.set_init_score(init_score)\n",
    "#             return ret\n",
    "    dataset = lgb.Dataset(X_train, label = y_train)\n",
    "    cvresult = lgb.cv(lgb_param, dataset, num_boost_round=estimator.get_params()['n_estimators'], nfold=n_splits,\n",
    "            metrics='binary_logloss', early_stopping_rounds=early_stopping_rounds, seed=1205, shuffle=True)\n",
    "    estimator.set_params(n_estimators=len(cvresult['binary_logloss-mean']))\n",
    "    print(\"N:\", len(cvresult['binary_logloss-mean']))\n",
    "    print(cvresult['binary_logloss-mean'][-1])\n",
    "#     print(\"N:\", cvresult.shape[0], best_iterations)\n",
    "#     print(\"Accuracy:\")\n",
    "#     print(accuracy)\n",
    "#     print(\"mean:\", np.mean(accuracy))\n",
    "#     print(\"std:\", np.std(accuracy))\n",
    "#     print(\"\")\n",
    "#     print(\"Logloss:\")\n",
    "#     print(logloss)\n",
    "#     print(\"mean:\", np.mean(logloss))\n",
    "#     print(\"std:\", np.std(logloss))\n",
    "    return len(cvresult['binary_logloss-mean'])"
   ]
  },
  {
   "cell_type": "code",
   "execution_count": 27,
   "metadata": {
    "collapsed": false
   },
   "outputs": [
    {
     "name": "stdout",
     "output_type": "stream",
     "text": [
      "N: 53\n",
      "0.539173203918\n"
     ]
    }
   ],
   "source": [
    "lgb1 = lgb.LGBMClassifier(\n",
    " learning_rate =0.1,\n",
    " n_estimators=1000,\n",
    " num_leaves=2**5,\n",
    " min_child_weight=1,\n",
    "\n",
    " subsample=0.8,\n",
    " colsample_bytree=0.8,\n",
    "# objective='multi:softmax',\n",
    "# num_class=5,\n",
    " silent=True,\n",
    " nthread=4,\n",
    "\n",
    " seed=2707)\n",
    "\n",
    "best_n_estimators = modelfit(lgb1, X, Y)"
   ]
  },
  {
   "cell_type": "code",
   "execution_count": 28,
   "metadata": {
    "collapsed": true
   },
   "outputs": [],
   "source": [
    "kf = StratifiedKFold(random_state=2225, n_splits=7, shuffle=True)"
   ]
  },
  {
   "cell_type": "code",
   "execution_count": 29,
   "metadata": {
    "collapsed": true
   },
   "outputs": [],
   "source": [
    "lgb2 = lgb.LGBMClassifier(\n",
    "    learning_rate =0.1,\n",
    "    n_estimators=best_n_estimators,\n",
    "    num_leaves=2**5,\n",
    "    min_child_weight=1,\n",
    "\n",
    "    subsample=0.8,\n",
    "    colsample_bytree=0.8,\n",
    "    nthread=4,\n",
    "   \n",
    "    seed=1205\n",
    ")"
   ]
  },
  {
   "cell_type": "code",
   "execution_count": 30,
   "metadata": {
    "collapsed": true
   },
   "outputs": [],
   "source": [
    "from sklearn.model_selection import GridSearchCV"
   ]
  },
  {
   "cell_type": "code",
   "execution_count": 31,
   "metadata": {
    "collapsed": false
   },
   "outputs": [
    {
     "name": "stderr",
     "output_type": "stream",
     "text": [
      "D:\\ProgramData\\Anaconda3\\lib\\site-packages\\sklearn\\model_selection\\_search.py:667: DeprecationWarning: The grid_scores_ attribute was deprecated in version 0.18 in favor of the more elaborate cv_results_ attribute. The grid_scores_ attribute will not be available from 0.20\n",
      "  DeprecationWarning)\n"
     ]
    },
    {
     "data": {
      "text/plain": [
       "([mean: -0.53936, std: 0.00433, params: {'min_child_weight': 1, 'num_leaves': 8},\n",
       "  mean: -0.53870, std: 0.00465, params: {'min_child_weight': 1, 'num_leaves': 32},\n",
       "  mean: -0.54231, std: 0.00482, params: {'min_child_weight': 1, 'num_leaves': 128},\n",
       "  mean: -0.55643, std: 0.00566, params: {'min_child_weight': 1, 'num_leaves': 512},\n",
       "  mean: -0.53934, std: 0.00438, params: {'min_child_weight': 3, 'num_leaves': 8},\n",
       "  mean: -0.53855, std: 0.00465, params: {'min_child_weight': 3, 'num_leaves': 32},\n",
       "  mean: -0.54310, std: 0.00500, params: {'min_child_weight': 3, 'num_leaves': 128},\n",
       "  mean: -0.55636, std: 0.00512, params: {'min_child_weight': 3, 'num_leaves': 512},\n",
       "  mean: -0.53933, std: 0.00441, params: {'min_child_weight': 5, 'num_leaves': 8},\n",
       "  mean: -0.53837, std: 0.00488, params: {'min_child_weight': 5, 'num_leaves': 32},\n",
       "  mean: -0.54262, std: 0.00496, params: {'min_child_weight': 5, 'num_leaves': 128},\n",
       "  mean: -0.55820, std: 0.00517, params: {'min_child_weight': 5, 'num_leaves': 512}],\n",
       " {'min_child_weight': 5, 'num_leaves': 32},\n",
       " -0.53836718338690226)"
      ]
     },
     "execution_count": 31,
     "metadata": {},
     "output_type": "execute_result"
    }
   ],
   "source": [
    "param_test1 = {\n",
    " 'num_leaves':[2**l for l in range(3,10,2)],\n",
    " 'min_child_weight':range(1,6,2)\n",
    "}\n",
    "gsearch1 = GridSearchCV(estimator = lgb2, param_grid = param_test1, scoring='neg_log_loss', n_jobs=1, iid=False, cv=kf)\n",
    "\n",
    "gsearch1.fit(X, Y)\n",
    "gsearch1.grid_scores_, gsearch1.best_params_, gsearch1.best_score_"
   ]
  },
  {
   "cell_type": "code",
   "execution_count": 35,
   "metadata": {
    "collapsed": false
   },
   "outputs": [
    {
     "data": {
      "text/plain": [
       "5.0"
      ]
     },
     "execution_count": 35,
     "metadata": {},
     "output_type": "execute_result"
    }
   ],
   "source": [
    "import math\n",
    "math.log(gsearch1.best_params_['num_leaves'], 2)"
   ]
  },
  {
   "cell_type": "code",
   "execution_count": 36,
   "metadata": {
    "collapsed": false
   },
   "outputs": [
    {
     "name": "stderr",
     "output_type": "stream",
     "text": [
      "D:\\ProgramData\\Anaconda3\\lib\\site-packages\\sklearn\\model_selection\\_search.py:667: DeprecationWarning: The grid_scores_ attribute was deprecated in version 0.18 in favor of the more elaborate cv_results_ attribute. The grid_scores_ attribute will not be available from 0.20\n",
      "  DeprecationWarning)\n"
     ]
    },
    {
     "data": {
      "text/plain": [
       "([mean: -0.53853, std: 0.00461, params: {'min_child_weight': 4, 'num_leaves': 16},\n",
       "  mean: -0.53825, std: 0.00488, params: {'min_child_weight': 4, 'num_leaves': 32},\n",
       "  mean: -0.53954, std: 0.00478, params: {'min_child_weight': 4, 'num_leaves': 64},\n",
       "  mean: -0.53847, std: 0.00452, params: {'min_child_weight': 5, 'num_leaves': 16},\n",
       "  mean: -0.53837, std: 0.00488, params: {'min_child_weight': 5, 'num_leaves': 32},\n",
       "  mean: -0.53936, std: 0.00476, params: {'min_child_weight': 5, 'num_leaves': 64},\n",
       "  mean: -0.53849, std: 0.00461, params: {'min_child_weight': 6, 'num_leaves': 16},\n",
       "  mean: -0.53837, std: 0.00463, params: {'min_child_weight': 6, 'num_leaves': 32},\n",
       "  mean: -0.53942, std: 0.00507, params: {'min_child_weight': 6, 'num_leaves': 64}],\n",
       " {'min_child_weight': 4, 'num_leaves': 32},\n",
       " -0.53825453778937438)"
      ]
     },
     "execution_count": 36,
     "metadata": {},
     "output_type": "execute_result"
    }
   ],
   "source": [
    "param_test1 = {\n",
    " 'num_leaves':[2**l for l in [4, 5, 6]],\n",
    " 'min_child_weight':[4,5,6]\n",
    "}\n",
    "gsearch1 = GridSearchCV(estimator = lgb2, param_grid = param_test1, scoring='neg_log_loss', n_jobs=1, iid=False, cv=kf)\n",
    "\n",
    "gsearch1.fit(X, Y)\n",
    "gsearch1.grid_scores_, gsearch1.best_params_, gsearch1.best_score_"
   ]
  },
  {
   "cell_type": "code",
   "execution_count": 37,
   "metadata": {
    "collapsed": true
   },
   "outputs": [],
   "source": [
    "# CHECK THAT NOT EDGE CASES!\n",
    "best_num_leaves = gsearch1.best_params_['num_leaves']\n",
    "best_min_child_weight = gsearch1.best_params_['min_child_weight']"
   ]
  },
  {
   "cell_type": "code",
   "execution_count": 38,
   "metadata": {
    "collapsed": false
   },
   "outputs": [
    {
     "name": "stdout",
     "output_type": "stream",
     "text": [
      "N: 44\n",
      "0.539215063301\n"
     ]
    }
   ],
   "source": [
    "lgb3 = lgb.LGBMClassifier(\n",
    "    learning_rate =0.1,\n",
    "    n_estimators=1000,\n",
    "    num_leaves=best_num_leaves,\n",
    "    min_child_weight=best_min_child_weight,\n",
    "\n",
    "    subsample=0.8,\n",
    "    colsample_bytree=0.8,\n",
    "\n",
    "    nthread=4,\n",
    "   \n",
    "    seed=2707\n",
    ")\n",
    "best_n_estimators = modelfit(lgb3, X, Y)"
   ]
  },
  {
   "cell_type": "code",
   "execution_count": 39,
   "metadata": {
    "collapsed": false
   },
   "outputs": [
    {
     "name": "stderr",
     "output_type": "stream",
     "text": [
      "D:\\ProgramData\\Anaconda3\\lib\\site-packages\\sklearn\\model_selection\\_search.py:667: DeprecationWarning: The grid_scores_ attribute was deprecated in version 0.18 in favor of the more elaborate cv_results_ attribute. The grid_scores_ attribute will not be available from 0.20\n",
      "  DeprecationWarning)\n"
     ]
    },
    {
     "data": {
      "text/plain": [
       "([mean: -0.53963, std: 0.00469, params: {'colsample_bytree': 0.5, 'subsample': 0.5},\n",
       "  mean: -0.53911, std: 0.00466, params: {'colsample_bytree': 0.5, 'subsample': 0.59999999999999998},\n",
       "  mean: -0.53902, std: 0.00451, params: {'colsample_bytree': 0.5, 'subsample': 0.69999999999999996},\n",
       "  mean: -0.53921, std: 0.00465, params: {'colsample_bytree': 0.5, 'subsample': 0.79999999999999993},\n",
       "  mean: -0.53899, std: 0.00449, params: {'colsample_bytree': 0.5, 'subsample': 0.89999999999999991},\n",
       "  mean: -0.53908, std: 0.00451, params: {'colsample_bytree': 0.59999999999999998, 'subsample': 0.5},\n",
       "  mean: -0.53870, std: 0.00442, params: {'colsample_bytree': 0.59999999999999998, 'subsample': 0.59999999999999998},\n",
       "  mean: -0.53893, std: 0.00491, params: {'colsample_bytree': 0.59999999999999998, 'subsample': 0.69999999999999996},\n",
       "  mean: -0.53885, std: 0.00440, params: {'colsample_bytree': 0.59999999999999998, 'subsample': 0.79999999999999993},\n",
       "  mean: -0.53852, std: 0.00465, params: {'colsample_bytree': 0.59999999999999998, 'subsample': 0.89999999999999991},\n",
       "  mean: -0.53911, std: 0.00468, params: {'colsample_bytree': 0.69999999999999996, 'subsample': 0.5},\n",
       "  mean: -0.53896, std: 0.00463, params: {'colsample_bytree': 0.69999999999999996, 'subsample': 0.59999999999999998},\n",
       "  mean: -0.53902, std: 0.00489, params: {'colsample_bytree': 0.69999999999999996, 'subsample': 0.69999999999999996},\n",
       "  mean: -0.53895, std: 0.00476, params: {'colsample_bytree': 0.69999999999999996, 'subsample': 0.79999999999999993},\n",
       "  mean: -0.53851, std: 0.00470, params: {'colsample_bytree': 0.69999999999999996, 'subsample': 0.89999999999999991},\n",
       "  mean: -0.53879, std: 0.00483, params: {'colsample_bytree': 0.79999999999999993, 'subsample': 0.5},\n",
       "  mean: -0.53885, std: 0.00451, params: {'colsample_bytree': 0.79999999999999993, 'subsample': 0.59999999999999998},\n",
       "  mean: -0.53903, std: 0.00479, params: {'colsample_bytree': 0.79999999999999993, 'subsample': 0.69999999999999996},\n",
       "  mean: -0.53896, std: 0.00451, params: {'colsample_bytree': 0.79999999999999993, 'subsample': 0.79999999999999993},\n",
       "  mean: -0.53878, std: 0.00467, params: {'colsample_bytree': 0.79999999999999993, 'subsample': 0.89999999999999991},\n",
       "  mean: -0.53884, std: 0.00489, params: {'colsample_bytree': 0.89999999999999991, 'subsample': 0.5},\n",
       "  mean: -0.53895, std: 0.00461, params: {'colsample_bytree': 0.89999999999999991, 'subsample': 0.59999999999999998},\n",
       "  mean: -0.53899, std: 0.00479, params: {'colsample_bytree': 0.89999999999999991, 'subsample': 0.69999999999999996},\n",
       "  mean: -0.53893, std: 0.00487, params: {'colsample_bytree': 0.89999999999999991, 'subsample': 0.79999999999999993},\n",
       "  mean: -0.53874, std: 0.00472, params: {'colsample_bytree': 0.89999999999999991, 'subsample': 0.89999999999999991}],\n",
       " {'colsample_bytree': 0.69999999999999996, 'subsample': 0.89999999999999991},\n",
       " -0.53851452886056095)"
      ]
     },
     "execution_count": 39,
     "metadata": {},
     "output_type": "execute_result"
    }
   ],
   "source": [
    "lgb4 = lgb.LGBMClassifier(\n",
    "    learning_rate =0.1,\n",
    "    n_estimators=best_n_estimators,\n",
    "    num_leaves=best_num_leaves,\n",
    "    min_child_weight=best_min_child_weight,\n",
    "\n",
    "    subsample=0.8,\n",
    "    colsample_bytree=0.8,\n",
    "\n",
    "    nthread=4,\n",
    "   \n",
    "    seed=2707\n",
    ")\n",
    "\n",
    "param_test4 = {\n",
    " 'subsample': np.arange(0.5, 1, 0.1),\n",
    " 'colsample_bytree': np.arange(0.5, 1, 0.1),\n",
    "}\n",
    "\n",
    "gsearch4 = GridSearchCV(estimator = lgb4, param_grid = param_test4, scoring='neg_log_loss', n_jobs=1, iid=False, cv=kf)\n",
    "gsearch4.fit(X, Y)\n",
    "gsearch4.grid_scores_, gsearch4.best_params_, gsearch4.best_score_"
   ]
  },
  {
   "cell_type": "code",
   "execution_count": 44,
   "metadata": {
    "collapsed": false
   },
   "outputs": [
    {
     "name": "stderr",
     "output_type": "stream",
     "text": [
      "D:\\ProgramData\\Anaconda3\\lib\\site-packages\\sklearn\\model_selection\\_search.py:667: DeprecationWarning: The grid_scores_ attribute was deprecated in version 0.18 in favor of the more elaborate cv_results_ attribute. The grid_scores_ attribute will not be available from 0.20\n",
      "  DeprecationWarning)\n"
     ]
    },
    {
     "data": {
      "text/plain": [
       "([mean: -0.53884, std: 0.00466, params: {'colsample_bytree': 0.65000000000000002, 'subsample': 0.84999999999999998},\n",
       "  mean: -0.53853, std: 0.00455, params: {'colsample_bytree': 0.65000000000000002, 'subsample': 0.875},\n",
       "  mean: -0.53865, std: 0.00483, params: {'colsample_bytree': 0.65000000000000002, 'subsample': 0.90000000000000002},\n",
       "  mean: -0.53854, std: 0.00464, params: {'colsample_bytree': 0.65000000000000002, 'subsample': 0.92500000000000004},\n",
       "  mean: -0.53873, std: 0.00472, params: {'colsample_bytree': 0.65000000000000002, 'subsample': 0.95000000000000007},\n",
       "  mean: -0.53884, std: 0.00466, params: {'colsample_bytree': 0.67500000000000004, 'subsample': 0.84999999999999998},\n",
       "  mean: -0.53853, std: 0.00455, params: {'colsample_bytree': 0.67500000000000004, 'subsample': 0.875},\n",
       "  mean: -0.53865, std: 0.00483, params: {'colsample_bytree': 0.67500000000000004, 'subsample': 0.90000000000000002},\n",
       "  mean: -0.53854, std: 0.00464, params: {'colsample_bytree': 0.67500000000000004, 'subsample': 0.92500000000000004},\n",
       "  mean: -0.53873, std: 0.00472, params: {'colsample_bytree': 0.67500000000000004, 'subsample': 0.95000000000000007},\n",
       "  mean: -0.53884, std: 0.00482, params: {'colsample_bytree': 0.70000000000000007, 'subsample': 0.84999999999999998},\n",
       "  mean: -0.53873, std: 0.00436, params: {'colsample_bytree': 0.70000000000000007, 'subsample': 0.875},\n",
       "  mean: -0.53851, std: 0.00470, params: {'colsample_bytree': 0.70000000000000007, 'subsample': 0.90000000000000002},\n",
       "  mean: -0.53856, std: 0.00447, params: {'colsample_bytree': 0.70000000000000007, 'subsample': 0.92500000000000004},\n",
       "  mean: -0.53892, std: 0.00478, params: {'colsample_bytree': 0.70000000000000007, 'subsample': 0.95000000000000007},\n",
       "  mean: -0.53884, std: 0.00482, params: {'colsample_bytree': 0.72500000000000009, 'subsample': 0.84999999999999998},\n",
       "  mean: -0.53873, std: 0.00436, params: {'colsample_bytree': 0.72500000000000009, 'subsample': 0.875},\n",
       "  mean: -0.53851, std: 0.00470, params: {'colsample_bytree': 0.72500000000000009, 'subsample': 0.90000000000000002},\n",
       "  mean: -0.53856, std: 0.00447, params: {'colsample_bytree': 0.72500000000000009, 'subsample': 0.92500000000000004},\n",
       "  mean: -0.53892, std: 0.00478, params: {'colsample_bytree': 0.72500000000000009, 'subsample': 0.95000000000000007},\n",
       "  mean: -0.53870, std: 0.00477, params: {'colsample_bytree': 0.75000000000000011, 'subsample': 0.84999999999999998},\n",
       "  mean: -0.53880, std: 0.00464, params: {'colsample_bytree': 0.75000000000000011, 'subsample': 0.875},\n",
       "  mean: -0.53863, std: 0.00478, params: {'colsample_bytree': 0.75000000000000011, 'subsample': 0.90000000000000002},\n",
       "  mean: -0.53861, std: 0.00474, params: {'colsample_bytree': 0.75000000000000011, 'subsample': 0.92500000000000004},\n",
       "  mean: -0.53868, std: 0.00456, params: {'colsample_bytree': 0.75000000000000011, 'subsample': 0.95000000000000007}],\n",
       " {'colsample_bytree': 0.70000000000000007, 'subsample': 0.90000000000000002},\n",
       " -0.53851452886056095)"
      ]
     },
     "execution_count": 44,
     "metadata": {},
     "output_type": "execute_result"
    }
   ],
   "source": [
    "param_test4 = {\n",
    " 'subsample': np.arange(0.85, 0.96, 0.025),\n",
    " 'colsample_bytree': np.arange(0.65, 0.76, 0.025),\n",
    "}\n",
    "\n",
    "gsearch4 = GridSearchCV(estimator = lgb4, param_grid = param_test4, scoring='neg_log_loss', n_jobs=1, iid=False, cv=kf)\n",
    "gsearch4.fit(X, Y)\n",
    "gsearch4.grid_scores_, gsearch4.best_params_, gsearch4.best_score_"
   ]
  },
  {
   "cell_type": "code",
   "execution_count": 45,
   "metadata": {
    "collapsed": true
   },
   "outputs": [],
   "source": [
    "best_colsample_bytree = gsearch4.best_params_['colsample_bytree']\n",
    "best_subsample = gsearch4.best_params_['subsample']"
   ]
  },
  {
   "cell_type": "code",
   "execution_count": 46,
   "metadata": {
    "collapsed": true
   },
   "outputs": [],
   "source": [
    "lgb_5 = lgb.LGBMClassifier(\n",
    "    learning_rate =0.1,\n",
    "    n_estimators=best_n_estimators,\n",
    "    num_leaves=best_num_leaves,\n",
    "    min_child_weight=best_min_child_weight,\n",
    "\n",
    "    subsample=best_subsample,\n",
    "    colsample_bytree=best_colsample_bytree,\n",
    "    \n",
    "\n",
    "    nthread=4,\n",
    "   \n",
    "    seed=2707\n",
    ")"
   ]
  },
  {
   "cell_type": "code",
   "execution_count": 47,
   "metadata": {
    "collapsed": false
   },
   "outputs": [
    {
     "name": "stderr",
     "output_type": "stream",
     "text": [
      "D:\\ProgramData\\Anaconda3\\lib\\site-packages\\sklearn\\model_selection\\_search.py:667: DeprecationWarning: The grid_scores_ attribute was deprecated in version 0.18 in favor of the more elaborate cv_results_ attribute. The grid_scores_ attribute will not be available from 0.20\n",
      "  DeprecationWarning)\n"
     ]
    },
    {
     "data": {
      "text/plain": [
       "([mean: -0.53851, std: 0.00470, params: {'reg_alpha': 1e-05},\n",
       "  mean: -0.53851, std: 0.00459, params: {'reg_alpha': 0.01},\n",
       "  mean: -0.53866, std: 0.00472, params: {'reg_alpha': 0.1},\n",
       "  mean: -0.53845, std: 0.00459, params: {'reg_alpha': 1},\n",
       "  mean: -0.54235, std: 0.00391, params: {'reg_alpha': 100}],\n",
       " {'reg_alpha': 1},\n",
       " -0.53844688164123344)"
      ]
     },
     "execution_count": 47,
     "metadata": {},
     "output_type": "execute_result"
    }
   ],
   "source": [
    "param_test5 = {\n",
    " 'reg_alpha':[1e-5, 1e-2, 0.1, 1, 100]\n",
    "}\n",
    "gsearch5 = GridSearchCV(estimator = lgb_5, param_grid = param_test5, scoring='neg_log_loss', n_jobs=1, iid=False, cv=kf)\n",
    "gsearch5.fit(X, Y)\n",
    "gsearch5.grid_scores_, gsearch5.best_params_, gsearch5.best_score_"
   ]
  },
  {
   "cell_type": "code",
   "execution_count": 48,
   "metadata": {
    "collapsed": false
   },
   "outputs": [
    {
     "name": "stderr",
     "output_type": "stream",
     "text": [
      "D:\\ProgramData\\Anaconda3\\lib\\site-packages\\sklearn\\model_selection\\_search.py:667: DeprecationWarning: The grid_scores_ attribute was deprecated in version 0.18 in favor of the more elaborate cv_results_ attribute. The grid_scores_ attribute will not be available from 0.20\n",
      "  DeprecationWarning)\n"
     ]
    },
    {
     "data": {
      "text/plain": [
       "([mean: -0.53866, std: 0.00472, params: {'reg_alpha': 0.10000000000000001},\n",
       "  mean: -0.53871, std: 0.00463, params: {'reg_alpha': 0.20000000000000001},\n",
       "  mean: -0.53862, std: 0.00455, params: {'reg_alpha': 0.30000000000000004},\n",
       "  mean: -0.53852, std: 0.00468, params: {'reg_alpha': 0.40000000000000002},\n",
       "  mean: -0.53848, std: 0.00457, params: {'reg_alpha': 0.5},\n",
       "  mean: -0.53858, std: 0.00474, params: {'reg_alpha': 0.59999999999999998},\n",
       "  mean: -0.53837, std: 0.00470, params: {'reg_alpha': 0.70000000000000007},\n",
       "  mean: -0.53849, std: 0.00446, params: {'reg_alpha': 0.80000000000000004},\n",
       "  mean: -0.53869, std: 0.00463, params: {'reg_alpha': 0.90000000000000002},\n",
       "  mean: -0.53845, std: 0.00459, params: {'reg_alpha': 1.0}],\n",
       " {'reg_alpha': 0.70000000000000007},\n",
       " -0.53836733635332956)"
      ]
     },
     "execution_count": 48,
     "metadata": {},
     "output_type": "execute_result"
    }
   ],
   "source": [
    "param_test5 = {\n",
    " 'reg_alpha':np.arange(0.1,1.1,0.1),\n",
    "}\n",
    "gsearch5 = GridSearchCV(estimator = lgb_5, param_grid = param_test5, scoring='neg_log_loss', n_jobs=1, iid=False, cv=kf)\n",
    "gsearch5.fit(X, Y)\n",
    "gsearch5.grid_scores_, gsearch5.best_params_, gsearch5.best_score_"
   ]
  },
  {
   "cell_type": "code",
   "execution_count": 49,
   "metadata": {
    "collapsed": true
   },
   "outputs": [],
   "source": [
    "best_reg_alpha = gsearch5.best_params_['reg_alpha']"
   ]
  },
  {
   "cell_type": "code",
   "execution_count": 50,
   "metadata": {
    "collapsed": true
   },
   "outputs": [],
   "source": [
    "lgb_6 = lgb.LGBMClassifier(\n",
    "    learning_rate =0.1,\n",
    "    n_estimators=best_n_estimators,\n",
    "    num_leaves=best_num_leaves,\n",
    "    min_child_weight=best_min_child_weight,\n",
    "\n",
    "    subsample=best_subsample,\n",
    "    colsample_bytree=best_colsample_bytree,\n",
    "    reg_alpha = best_reg_alpha,\n",
    "    \n",
    "\n",
    "    nthread=4,\n",
    "   \n",
    "    seed=2707\n",
    ")"
   ]
  },
  {
   "cell_type": "code",
   "execution_count": 51,
   "metadata": {
    "collapsed": false
   },
   "outputs": [
    {
     "name": "stderr",
     "output_type": "stream",
     "text": [
      "D:\\ProgramData\\Anaconda3\\lib\\site-packages\\sklearn\\model_selection\\_search.py:667: DeprecationWarning: The grid_scores_ attribute was deprecated in version 0.18 in favor of the more elaborate cv_results_ attribute. The grid_scores_ attribute will not be available from 0.20\n",
      "  DeprecationWarning)\n"
     ]
    },
    {
     "data": {
      "text/plain": [
       "([mean: -0.53837, std: 0.00470, params: {'reg_lambda': 1e-05},\n",
       "  mean: -0.53848, std: 0.00470, params: {'reg_lambda': 0.01},\n",
       "  mean: -0.53847, std: 0.00462, params: {'reg_lambda': 0.1},\n",
       "  mean: -0.53825, std: 0.00465, params: {'reg_lambda': 1},\n",
       "  mean: -0.53840, std: 0.00473, params: {'reg_lambda': 2},\n",
       "  mean: -0.53848, std: 0.00449, params: {'reg_lambda': 3},\n",
       "  mean: -0.53841, std: 0.00469, params: {'reg_lambda': 5},\n",
       "  mean: -0.53852, std: 0.00451, params: {'reg_lambda': 10},\n",
       "  mean: -0.53916, std: 0.00428, params: {'reg_lambda': 100}],\n",
       " {'reg_lambda': 1},\n",
       " -0.53825271858508505)"
      ]
     },
     "execution_count": 51,
     "metadata": {},
     "output_type": "execute_result"
    }
   ],
   "source": [
    "param_test6 = {\n",
    " 'reg_lambda':[1e-5, 1e-2, 0.1, 1, 2, 3, 5, 10, 100]\n",
    "}\n",
    "gsearch6 = GridSearchCV(estimator = lgb_6, param_grid = param_test6, scoring='neg_log_loss', n_jobs=1, iid=False, cv=kf)\n",
    "gsearch6.fit(X, Y)\n",
    "gsearch6.grid_scores_, gsearch6.best_params_, gsearch6.best_score_"
   ]
  },
  {
   "cell_type": "code",
   "execution_count": 52,
   "metadata": {
    "collapsed": false
   },
   "outputs": [
    {
     "name": "stderr",
     "output_type": "stream",
     "text": [
      "D:\\ProgramData\\Anaconda3\\lib\\site-packages\\sklearn\\model_selection\\_search.py:667: DeprecationWarning: The grid_scores_ attribute was deprecated in version 0.18 in favor of the more elaborate cv_results_ attribute. The grid_scores_ attribute will not be available from 0.20\n",
      "  DeprecationWarning)\n"
     ]
    },
    {
     "data": {
      "text/plain": [
       "([mean: -0.53847, std: 0.00462, params: {'reg_lambda': 0.10000000000000001},\n",
       "  mean: -0.53866, std: 0.00458, params: {'reg_lambda': 0.20000000000000001},\n",
       "  mean: -0.53836, std: 0.00444, params: {'reg_lambda': 0.30000000000000004},\n",
       "  mean: -0.53840, std: 0.00460, params: {'reg_lambda': 0.40000000000000002},\n",
       "  mean: -0.53842, std: 0.00458, params: {'reg_lambda': 0.5},\n",
       "  mean: -0.53842, std: 0.00471, params: {'reg_lambda': 0.59999999999999998},\n",
       "  mean: -0.53851, std: 0.00459, params: {'reg_lambda': 0.70000000000000007},\n",
       "  mean: -0.53831, std: 0.00459, params: {'reg_lambda': 0.80000000000000004},\n",
       "  mean: -0.53852, std: 0.00456, params: {'reg_lambda': 0.90000000000000002},\n",
       "  mean: -0.53825, std: 0.00465, params: {'reg_lambda': 1.0}],\n",
       " {'reg_lambda': 1.0},\n",
       " -0.53825271858508505)"
      ]
     },
     "execution_count": 52,
     "metadata": {},
     "output_type": "execute_result"
    }
   ],
   "source": [
    "param_test6 = {\n",
    " 'reg_lambda':np.arange(0.1,1.1,0.1)\n",
    "}\n",
    "gsearch6 = GridSearchCV(estimator = lgb_6, param_grid = param_test6, scoring='neg_log_loss', n_jobs=1, iid=False, cv=kf)\n",
    "gsearch6.fit(X, Y)\n",
    "gsearch6.grid_scores_, gsearch6.best_params_, gsearch6.best_score_"
   ]
  },
  {
   "cell_type": "code",
   "execution_count": 53,
   "metadata": {
    "collapsed": true
   },
   "outputs": [],
   "source": [
    "best_reg_lambda = gsearch6.best_params_['reg_lambda']"
   ]
  },
  {
   "cell_type": "code",
   "execution_count": null,
   "metadata": {
    "collapsed": true
   },
   "outputs": [],
   "source": []
  },
  {
   "cell_type": "code",
   "execution_count": 54,
   "metadata": {
    "collapsed": false,
    "scrolled": false
   },
   "outputs": [
    {
     "name": "stdout",
     "output_type": "stream",
     "text": [
      "0.01 ===================================\n",
      "N: 664\n",
      "0.538457349708\n",
      "0.02 ===================================\n",
      "N: 274\n",
      "0.538514481337\n",
      "0.03 ===================================\n",
      "N: 177\n",
      "0.538574400259\n",
      "0.04 ===================================\n",
      "N: 145\n",
      "0.538724914114\n",
      "0.05 ===================================\n",
      "N: 125\n",
      "0.538811933277\n",
      "0.06 ===================================\n",
      "N: 76\n",
      "0.538795631122\n",
      "0.07 ===================================\n",
      "N: 73\n",
      "0.538711434561\n",
      "0.08 ===================================\n",
      "N: 59\n",
      "0.538864563732\n",
      "0.09 ===================================\n",
      "N: 52\n",
      "0.538999646975\n",
      "0.1 ===================================\n",
      "N: 50\n",
      "0.538825805619\n"
     ]
    }
   ],
   "source": [
    "for lr in np.arange(0.01, 0.11, 0.01):\n",
    "    lgb_fin = lgb.LGBMClassifier(\n",
    "        learning_rate = lr,\n",
    "        n_estimators=2000,\n",
    "        num_leaves=best_num_leaves,\n",
    "        min_child_weight=best_min_child_weight,\n",
    "\n",
    "        subsample=best_subsample,\n",
    "        colsample_bytree=best_colsample_bytree,\n",
    "        reg_alpha = best_reg_alpha,\n",
    "        reg_lambda = best_reg_lambda,\n",
    "        \n",
    "    \n",
    "        nthread=4,\n",
    "       \n",
    "        seed=2707\n",
    "    )\n",
    "    print(lr, \"===================================\")\n",
    "    best_n_estimators = modelfit(lgb_fin, X, Y)"
   ]
  },
  {
   "cell_type": "code",
   "execution_count": null,
   "metadata": {
    "collapsed": true
   },
   "outputs": [],
   "source": [
    "0.01  666"
   ]
  },
  {
   "cell_type": "code",
   "execution_count": 55,
   "metadata": {
    "collapsed": true
   },
   "outputs": [],
   "source": [
    "lgb_fin = lgb.LGBMClassifier(\n",
    "        learning_rate = 0.01,\n",
    "        n_estimators=666,\n",
    "        num_leaves=best_num_leaves,\n",
    "        min_child_weight=best_min_child_weight,\n",
    "\n",
    "        subsample=best_subsample,\n",
    "        colsample_bytree=best_colsample_bytree,\n",
    "        reg_alpha = best_reg_alpha,\n",
    "        reg_lambda = best_reg_lambda,\n",
    "        \n",
    "    \n",
    "        nthread=4,\n",
    "       \n",
    "        seed=2707\n",
    "    )"
   ]
  },
  {
   "cell_type": "code",
   "execution_count": 56,
   "metadata": {
    "collapsed": false
   },
   "outputs": [
    {
     "data": {
      "text/plain": [
       "{'boosting_type': 'gbdt',\n",
       " 'colsample_bytree': 0.70000000000000007,\n",
       " 'drop_rate': 0.1,\n",
       " 'is_unbalance': False,\n",
       " 'learning_rate': 0.01,\n",
       " 'max_bin': 255,\n",
       " 'max_depth': -1,\n",
       " 'max_drop': 50,\n",
       " 'min_child_samples': 10,\n",
       " 'min_child_weight': 4,\n",
       " 'min_split_gain': 0,\n",
       " 'n_estimators': 666,\n",
       " 'nthread': 4,\n",
       " 'num_leaves': 32,\n",
       " 'objective': 'binary',\n",
       " 'reg_alpha': 0.70000000000000007,\n",
       " 'reg_lambda': 1.0,\n",
       " 'scale_pos_weight': 1,\n",
       " 'seed': 2707,\n",
       " 'sigmoid': 1.0,\n",
       " 'silent': True,\n",
       " 'skip_drop': 0.5,\n",
       " 'subsample': 0.90000000000000002,\n",
       " 'subsample_for_bin': 50000,\n",
       " 'subsample_freq': 1,\n",
       " 'uniform_drop': False,\n",
       " 'xgboost_dart_mode': False}"
      ]
     },
     "execution_count": 56,
     "metadata": {},
     "output_type": "execute_result"
    }
   ],
   "source": [
    "lgb_fin.get_params()"
   ]
  },
  {
   "cell_type": "code",
   "execution_count": 45,
   "metadata": {
    "collapsed": false
   },
   "outputs": [
    {
     "name": "stdout",
     "output_type": "stream",
     "text": [
      "0.01 713 -0.538162420234\n",
      "0.02 369 -0.538157373435\n",
      "0.03 242 -0.538190042071\n",
      "0.04 194 -0.538225911238\n",
      "0.05 153 -0.538427445476\n",
      "0.06 114 -0.538354152819\n",
      "0.07 114 -0.538477494464\n",
      "0.08 85 -0.538507411006\n",
      "0.09 66 -0.538652597946\n",
      "0.1 61 -0.53844459685\n"
     ]
    }
   ],
   "source": [
    "from sklearn.model_selection import cross_val_score\n",
    "rates = [\n",
    "    (0.01, 713),\n",
    "    (0.02, 369),\n",
    "    (0.03, 242),\n",
    "    (0.04, 194),\n",
    "    (0.05, 153),\n",
    "    (0.06, 114),\n",
    "    (0.07, 114),\n",
    "    (0.08, 85),\n",
    "    (0.09, 66),\n",
    "    (0.1, 61),\n",
    "]\n",
    "for lr, n in rates:\n",
    "    lgb_fin = lgb.LGBMClassifier(\n",
    "        learning_rate = lr,\n",
    "        n_estimators=n,\n",
    "        num_leaves=best_num_leaves,\n",
    "        min_child_weight=best_min_child_weight,\n",
    "\n",
    "        subsample=best_subsample,\n",
    "        colsample_bytree=best_colsample_bytree,\n",
    "        reg_alpha = best_reg_alpha,\n",
    "        reg_lambda = best_reg_lambda,\n",
    "        \n",
    "    \n",
    "        nthread=4,\n",
    "       \n",
    "        seed=2707\n",
    "    )\n",
    "    \n",
    "    scores = cross_val_score(lgb_fin, X, Y, scoring='neg_log_loss', cv=kf)\n",
    "    print(lr, n, np.mean(scores))"
   ]
  },
  {
   "cell_type": "code",
   "execution_count": null,
   "metadata": {
    "collapsed": true
   },
   "outputs": [],
   "source": []
  }
 ],
 "metadata": {
  "kernelspec": {
   "display_name": "Python 3",
   "language": "python",
   "name": "python3"
  },
  "language_info": {
   "codemirror_mode": {
    "name": "ipython",
    "version": 3
   },
   "file_extension": ".py",
   "mimetype": "text/x-python",
   "name": "python",
   "nbconvert_exporter": "python",
   "pygments_lexer": "ipython3",
   "version": "3.6.0"
  }
 },
 "nbformat": 4,
 "nbformat_minor": 2
}
