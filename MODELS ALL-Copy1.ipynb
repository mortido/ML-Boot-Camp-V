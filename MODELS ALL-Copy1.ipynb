{
 "cells": [
  {
   "cell_type": "code",
   "execution_count": 13,
   "metadata": {
    "collapsed": false
   },
   "outputs": [],
   "source": [
    "import pandas as pd\n",
    "import numpy as np\n",
    "\n",
    "import random\n",
    "\n",
    "import xgboost as xgb\n",
    "import lightgbm as lgb\n",
    "\n",
    "from sklearn.ensemble import RandomForestClassifier\n",
    "from sklearn.metrics import log_loss\n",
    "from sklearn.model_selection import StratifiedKFold\n",
    "\n",
    "import matplotlib.pyplot as plt\n",
    "import seaborn as sns\n",
    "import gc\n",
    "import utils\n",
    "\n",
    "plt.style.use('ggplot')\n",
    "%matplotlib inline\n",
    "\n",
    "import importlib\n",
    "utils = importlib.reload(utils)"
   ]
  },
  {
   "cell_type": "code",
   "execution_count": 14,
   "metadata": {
    "collapsed": true
   },
   "outputs": [],
   "source": [
    "# loo = pd.read_csv('loo.csv', sep=';', header=None)\n",
    "# loo.columns=['loo']\n",
    "# loo['target']=y_train\n",
    "# loo_loss = loo.apply(lambda x: log_loss([x['target']], [x['loo']], labels=[1, 0]), axis=1)\n",
    "# pd.DataFrame(loo_loss).to_csv('loo_loss.csv', index=False, header=False, sep=';')"
   ]
  },
  {
   "cell_type": "code",
   "execution_count": 15,
   "metadata": {
    "collapsed": false
   },
   "outputs": [
    {
     "name": "stderr",
     "output_type": "stream",
     "text": [
      "D:\\Projects\\ML Bootcamp V\\utils.py:278: RuntimeWarning: invalid value encountered in log\n",
      "  data['%s_mul_log_%s' % (col1, col2)] = data[col1] * np.log(data[col2] + 1)\n",
      "D:\\Projects\\ML Bootcamp V\\utils.py:279: RuntimeWarning: invalid value encountered in log\n",
      "  data['%s_div_log_%s' % (col1, col2)] = data[col1] / (np.log(data[col2] + 1) + 1)\n",
      "D:\\Projects\\ML Bootcamp V\\utils.py:275: RuntimeWarning: invalid value encountered in log\n",
      "  data[col1 + '_log'] = np.log(data[col1] + 1.1)\n"
     ]
    }
   ],
   "source": [
    "train = pd.read_csv('train.csv', sep=';')\n",
    "test = pd.read_csv('test.csv', sep=';', na_values='None')\n",
    "\n",
    "X_train2 = train.drop([ 'cardio'], axis=1)\n",
    "X_train2 = utils.new_features(X_train2)\n",
    "y_train2 = train['cardio'].values.ravel()\n",
    "\n",
    "train = utils.clean_data(train, more_clean=True)\n",
    "test = utils.clean_data(test, more_clean=True)\n",
    "\n",
    "train = utils.new_features(train)\n",
    "test = utils.new_features(test)\n",
    "\n",
    "X_train = train.drop([ 'cardio'], axis=1)\n",
    "y_train = train['cardio'].values.ravel()\n",
    "X_test = test.drop([], axis=1)\n",
    "\n",
    "idx = (X_train['ap_hi']==X_train2['ap_hi']) & (X_train['ap_lo']==X_train2['ap_lo'])\n",
    "X_train2 = X_train2.loc[idx]\n",
    "y_train2 = y_train2[idx]\n",
    "\n",
    "data = pd.concat((train.drop('cardio', axis=1), test), axis=0)\n",
    "dic = data.groupby('age_group_orig')['age'].mean().to_dict()\n",
    "X_train['age_dif'] = X_train[['age_group_orig', 'age']].apply(lambda x: x['age'] - dic[x['age_group_orig']], axis=1)\n",
    "X_test['age_dif'] = X_test[['age_group_orig', 'age']].apply(lambda x: x['age'] - dic[x['age_group_orig']], axis=1)\n",
    "\n",
    "dic2 = data.groupby('age_group_orig')['age'].min().to_dict()\n",
    "dic3 = data.groupby('age_group_orig')['age'].max().to_dict()\n",
    "X_train2['age_dif2'] = X_train2[['age_group_orig', 'age']].apply(lambda x: (x['age'] - dic2[x['age_group_orig']]) / dic3[x['age_group_orig']], axis=1)\n",
    "X_train['age_dif2'] = X_train[['age_group_orig', 'age']].apply(lambda x: (x['age'] - dic2[x['age_group_orig']]) / dic3[x['age_group_orig']], axis=1)\n",
    "X_test['age_dif2']  =  X_test[['age_group_orig', 'age']].apply(lambda x: (x['age'] - dic2[x['age_group_orig']]) / dic3[x['age_group_orig']], axis=1)\n",
    "\n",
    "# X_train['age_dif2.5'] = X_train[['age_group_orig', 'age']].apply(lambda x: (x['age'] - dic2[x['age_group_orig']]) / (dic3[x['age_group_orig']]-dic2[x['age_group_orig']]), axis=1)\n",
    "# X_test['age_dif2.5']  =  X_test[['age_group_orig', 'age']].apply(lambda x: (x['age'] - dic2[x['age_group_orig']]) / (dic3[x['age_group_orig']]-dic2[x['age_group_orig']]), axis=1)\n",
    "\n",
    "dic3 = data.groupby('age_group_orig')['age'].std().to_dict()\n",
    "X_train['age_dif3'] = X_train[['age_group_orig', 'age']].apply(lambda x: (x['age'] - dic2[x['age_group_orig']]) / dic3[x['age_group_orig']], axis=1)\n",
    "X_test['age_dif3']  =  X_test[['age_group_orig', 'age']].apply(lambda x: (x['age'] - dic2[x['age_group_orig']]) / dic3[x['age_group_orig']], axis=1)\n",
    "\n",
    "train_1 = X_train['ap_lo'] < 20\n",
    "train_2 = X_train['ap_hi'] < 50\n",
    "train_3 = (X_train['ap_hi']<10) | (X_train['ap_lo']<20)\n",
    "train_4 = (data['weight'].mean() - X_train['weight']) > (3 * data['weight'].std())\n",
    "train_5 = (data['height'].mean() - X_train['height']) > (3.5 * data['height'].std())\n",
    "\n",
    "test_1 = X_test['ap_lo'] < 20\n",
    "test_2 = X_test['ap_hi'] < 50\n",
    "test_3 = (X_test['ap_hi']<10) | (X_test['ap_lo']<20)\n",
    "test_4 = (data['weight'].mean() - X_test['weight']) > (3 * data['weight'].std())\n",
    "test_5 = (data['height'].mean() - X_test['height']) > (3.5 * data['height'].std())"
   ]
  },
  {
   "cell_type": "code",
   "execution_count": 16,
   "metadata": {
    "collapsed": false
   },
   "outputs": [],
   "source": [
    "loo_loss = pd.read_csv('loo_loss.csv', sep=';', header=None)\n",
    "strat = pd.qcut(loo_loss, 20, labels=False).astype(str)\n",
    "strat = np.hstack((strat, y_train.reshape((-1,1))))\n",
    "strat =np.apply_along_axis(lambda d: str(d[0]) + '_' + str(d[1]), 1, strat)"
   ]
  },
  {
   "cell_type": "code",
   "execution_count": 17,
   "metadata": {
    "collapsed": false
   },
   "outputs": [
    {
     "name": "stdout",
     "output_type": "stream",
     "text": [
      "\n",
      "10 folds logloss:\n",
      "[0.53683087878243174, 0.53739440015392026, 0.53703107500107594, 0.53629097760746192, 0.53612553688910203, 0.53915086945768242, 0.53804198434940032, 0.53659263486673847, 0.53763225976905393, 0.53643972637262194]\n",
      "mean: 0.537153034325\n",
      "std: 0.000883736311121\n",
      "+-XGB_1.5_hey3 results saved!\n"
     ]
    },
    {
     "data": {
      "text/plain": [
       "63"
      ]
     },
     "execution_count": 17,
     "metadata": {},
     "output_type": "execute_result"
    }
   ],
   "source": [
    "use_columns = [\n",
    "\"gender\",\n",
    "\"height\",\n",
    "\"weight\",\n",
    "\"ap_hi\",\n",
    "\"ap_lo\",\n",
    "\"cholesterol\",\n",
    "\"active_fair\",\n",
    "\"smoke_restored\",\n",
    "\"alco_restored\",\n",
    "\"height_mul_log_gluc\",\n",
    "\"BMI\",\n",
    "\"age_group\",\n",
    "\"cholesterol_div_log_gluc\",\n",
    "\"gluc_mul_log_age\",\n",
    "'age_dif2',\n",
    "'ap_lo_mul_log_ap_hi',\n",
    "\n",
    "'ap_hi_1',\n",
    "'ap_lo_1',\n",
    "'ap_hi_2',\n",
    "'ap_lo_2',\n",
    "]\n",
    "model_name = '+-XGB_1.5_hey3'\n",
    "params = {\n",
    "     'colsample_bytree': 0.875,\n",
    "     'gamma': 0.05,\n",
    "     'learning_rate': 0.02,\n",
    "     'max_depth': 5,\n",
    "     'min_child_weight': 5,\n",
    "     'n_estimators': 369,\n",
    "    #'scale_pos_weight': 1.0008,\n",
    "\n",
    "     'reg_alpha': 0,\n",
    "     'reg_lambda': 10,\n",
    "     'subsample': 0.7,\n",
    "    \n",
    "    'n_jobs': -1,\n",
    "    'random_state': 1223,\n",
    "    'silent': True,\n",
    "}\n",
    "model = xgb.XGBClassifier(**params)\n",
    "utils.execute_model(model,\n",
    "              X_train[use_columns],\n",
    "              y_train,\n",
    "              X_test[use_columns],\n",
    "              model_name=model_name,\n",
    "              n_splits=0,\n",
    "              n_folds=10,\n",
    "              stratification_groups=strat,\n",
    "             )\n",
    "gc.collect()\n",
    "\n",
    "# 10 folds logloss:\n",
    "# [0.53731990653713735, 0.5371451460103317, 0.53759305584367933, 0.53649916905123263, 0.5365669149833473, 0.53913942057634634, 0.53802636138177329, 0.53734196102539478, 0.53772344060100696, 0.53709262123337387]\n",
    "# mean: 0.537444799724 7387 7372 7383 7381 7355 7363 7404\n",
    "\n",
    "# 7329\n",
    "# std: 0.000722112840278\n",
    "\n",
    "# 10 folds logloss:\n",
    "# [0.53720594199248062, 0.53716094613136289, 0.53745255427640426, 0.53646455688914996, 0.53638906534470165, 0.53910949466140901, 0.53780741584711, 0.53729266758176475, 0.53769007558631587, 0.53695613165250577]\n",
    "# mean: 0.537352884996\n",
    "# std: 0.000731673051514\n",
    "# +-XGB_1.5_hey2 results saved!"
   ]
  },
  {
   "cell_type": "code",
   "execution_count": 18,
   "metadata": {
    "collapsed": false
   },
   "outputs": [
    {
     "name": "stdout",
     "output_type": "stream",
     "text": [
      "\n",
      "10 folds logloss:\n",
      "[0.5361988439327745, 0.53878553475211877, 0.53642550825857205, 0.53594055637981564, 0.5361002982727765, 0.5379512786791748, 0.53839335070994565, 0.53687083555218573, 0.53820052226766257, 0.53704927838189853]\n",
      "mean: 0.537191600719\n",
      "std: 0.00100157499167\n",
      "+-XGB_hist_last_hey3 results saved!\n"
     ]
    },
    {
     "data": {
      "text/plain": [
       "91"
      ]
     },
     "execution_count": 18,
     "metadata": {},
     "output_type": "execute_result"
    }
   ],
   "source": [
    "use_columns = [\n",
    "# \"gender\",\n",
    "# \"height\",\n",
    "# \"weight\",\n",
    "# \"ap_hi\",\n",
    "# \"ap_lo\",\n",
    "# \"cholesterol\",\n",
    "# \"active_fair\",\n",
    "# \"smoke_restored\",\n",
    "# \"alco_restored\",\n",
    "# \"height_mul_log_gluc\",\n",
    "# \"BMI\",\n",
    "# \"age_group\",\n",
    "# \"cholesterol_div_log_gluc\",\n",
    "# \"gluc_mul_log_age\",\n",
    "# 'age_dif2',\n",
    "# 'ap_lo_mul_log_ap_hi'\n",
    "    \n",
    "#     \"gender\",\n",
    "# \"ap_hi\",\n",
    "# \"ap_lo\",\n",
    "# \"cholesterol\",\n",
    "# \"active_fair\",\n",
    "# \"smoke_restored\",\n",
    "# \"alco_restored\",\n",
    "# \"height_mul_log_cholesterol\",\n",
    "# \"height_mul_log_gluc\",\n",
    "# \"BMI\",\n",
    "# \"age_group\",\n",
    "# \"cholesterol_div_log_gluc\",\n",
    "# \"gluc_mul_log_age\",\n",
    "# \"ap_hi_mul_weight\",\n",
    "# \"age_dif2\",\n",
    "# 'ap_lo_mul_log_ap_hi',\n",
    "# 'age_group_div_height',\n",
    "# 'age_group_mul_log_MAP'\n",
    "    \n",
    "    'gender',\n",
    "'ap_hi',\n",
    "'ap_lo',\n",
    "'cholesterol',\n",
    "'active_fair',\n",
    "'smoke_restored',\n",
    "'alco_restored',\n",
    "'height_mul_log_cholesterol',\n",
    "'height_mul_log_gluc',\n",
    "'BMI',\n",
    "'age_group',\n",
    "'cholesterol_div_log_gluc',\n",
    "'gluc_mul_log_age',\n",
    "'age_dif2',\n",
    "'ap_lo_mul_log_ap_hi',\n",
    "'age_group_div_height',\n",
    "'age_group_mul_log_MAP',\n",
    "'cholesterol_div_ap_hi',\n",
    "'ap_hi_mul_log_gluc',\n",
    "'BMI_div_ap_hi',\n",
    "'BMI_div_log_age',\n",
    "# 'gluc',\n",
    "'gluc_mul_height',\n",
    "\n",
    "'ap_hi_1',\n",
    "'ap_lo_1',\n",
    "'ap_hi_2',\n",
    "'ap_lo_2',\n",
    "]\n",
    "model_name = '+-XGB_hist_last_hey3'\n",
    "params = {\n",
    "     'colsample_bytree': 0.95,\n",
    "     'gamma': 0.55,\n",
    "     'learning_rate': 0.02,\n",
    "     'max_depth': 5,\n",
    "     'min_child_weight': 3,\n",
    "     'n_estimators': 392,\n",
    "     'reg_alpha': 0,\n",
    "     'reg_lambda': 0.4,\n",
    "     'subsample': 0.85,\n",
    "    \n",
    "    #'scale_pos_weight': 1.0008,\n",
    "\n",
    "    'tree_method': 'hist',\n",
    "    'grow_policy': 'lossguide',\n",
    "    \n",
    "    'n_jobs': 4,\n",
    "    'random_state': 2222,\n",
    "    'silent': True,\n",
    "}\n",
    "utils.execute_model(xgb.XGBClassifier(**params),\n",
    "              X_train[use_columns],\n",
    "              y_train,\n",
    "              X_test[use_columns],\n",
    "              model_name=model_name,\n",
    "              n_splits=0,\n",
    "              n_folds=10,\n",
    "              stratification_groups=strat,\n",
    "             )\n",
    "gc.collect()\n",
    "# 10 folds logloss:\n",
    "# [0.53757190997207693, 0.5380473325125551, 0.53740657876655074, 0.53637490868959747, 0.53654954023473578, 0.53888017941311606, 0.53783108141170444, 0.53687143028967788, 0.53758322567055628, 0.53653519701878949]\n",
    "# mean: 0.537365138398\n",
    "# std: 0.000751543774796\n",
    "\n",
    "# 10 folds logloss:\n",
    "# [0.53652502003303926, 0.53822653738835646, 0.53701765458617179, 0.53608297558267504, 0.53673609970384017, 0.53826651063431563, 0.53853680535003579, 0.53728310895360654, 0.53718299642914946, 0.53730986089232202]\n",
    "# mean: 0.537316756955\n",
    "# std: 0.000762431052301"
   ]
  },
  {
   "cell_type": "code",
   "execution_count": 19,
   "metadata": {
    "collapsed": false
   },
   "outputs": [
    {
     "name": "stdout",
     "output_type": "stream",
     "text": [
      "\n",
      "10 folds logloss:\n",
      "[0.53679096203406984, 0.53686247819084321, 0.53722622819229526, 0.53670143130906356, 0.53668676167029405, 0.5388207351446832, 0.53853416463088055, 0.53751440324474176, 0.53710882082165756, 0.53709345427608357]\n",
      "mean: 0.537333943951\n",
      "std: 0.000716923158664\n",
      "+-XGB_5++_hey3 results saved!\n"
     ]
    },
    {
     "data": {
      "text/plain": [
       "42"
      ]
     },
     "execution_count": 19,
     "metadata": {},
     "output_type": "execute_result"
    }
   ],
   "source": [
    "use_columns = [\n",
    "\"gender\",\n",
    "\"height\",\n",
    "\"weight\",\n",
    "\"ap_hi\",\n",
    "\"ap_lo\",\n",
    "\"cholesterol\",\n",
    "\"height_div_ap_lo\",\n",
    "\"active_fair\",\n",
    "\"smoke_restored\",\n",
    "\"alco_restored\",\n",
    "\"height_mul_log_cholesterol\",\n",
    "\"height_mul_log_gluc\",\n",
    "\"BMI\",\n",
    "\"age_group\",\n",
    "\"cholesterol_div_log_gluc\",\n",
    "\"gluc_mul_log_age\",\n",
    "\"ap_hi_mul_weight\",\n",
    "\n",
    "'ap_hi_1',\n",
    "'ap_lo_1',\n",
    "'ap_hi_2',\n",
    "'ap_lo_2',\n",
    "]\n",
    "\n",
    "model_name = '+-XGB_5++_hey3'\n",
    "params = {\n",
    "     'colsample_bytree': 0.875,\n",
    "     'gamma': 0.05,\n",
    "     'learning_rate': 0.02,\n",
    "     'max_depth': 5,\n",
    "     'min_child_weight': 5,\n",
    "     'n_estimators': 369,\n",
    "    #'scale_pos_weight': 1.0008,\n",
    "\n",
    "     'reg_alpha': 0,\n",
    "     'reg_lambda': 10,\n",
    "     'subsample': 0.7,\n",
    "    \n",
    "    'n_jobs': -1,\n",
    "    'random_state': 5555,\n",
    "    'silent': True,\n",
    "}\n",
    "utils.execute_model(xgb.XGBClassifier(**params),\n",
    "              X_train[use_columns],\n",
    "              y_train,\n",
    "              X_test[use_columns],\n",
    "              model_name=model_name,\n",
    "              n_splits=0,\n",
    "              n_folds=10,\n",
    "              stratification_groups=strat,\n",
    "             )\n",
    "gc.collect()"
   ]
  },
  {
   "cell_type": "code",
   "execution_count": 20,
   "metadata": {
    "collapsed": false
   },
   "outputs": [
    {
     "name": "stdout",
     "output_type": "stream",
     "text": [
      "\n",
      "10 folds logloss:\n",
      "[0.53655731619564451, 0.53760840705419, 0.53614940550827284, 0.53577996441323572, 0.53642402483270102, 0.53844697005811515, 0.53818211341601374, 0.53721983370543724, 0.53748259387352615, 0.53680509493777651]\n",
      "mean: 0.537065572399\n",
      "std: 0.000829288977356\n",
      "+-XGB_11.5_hey3 results saved!\n"
     ]
    },
    {
     "data": {
      "text/plain": [
       "91"
      ]
     },
     "execution_count": 20,
     "metadata": {},
     "output_type": "execute_result"
    }
   ],
   "source": [
    "use_columns = [\n",
    "\"gender\",\n",
    "\"ap_hi\",\n",
    "\"ap_lo\",\n",
    "\"cholesterol\",\n",
    "\"active_fair\",\n",
    "\"smoke_restored\",\n",
    "\"alco_restored\",\n",
    "\"height_mul_log_cholesterol\",\n",
    "\"height_mul_log_gluc\",\n",
    "\"BMI\",\n",
    "\"age_group\",\n",
    "\"cholesterol_div_log_gluc\",\n",
    "\"gluc_mul_log_age\",\n",
    "\"ap_hi_mul_weight\",\n",
    "\"age_dif2\",\n",
    "'ap_lo_mul_log_ap_hi',\n",
    "'age_group_div_height',\n",
    "'age_group_mul_log_MAP',\n",
    "\n",
    "'ap_hi_1',\n",
    "'ap_lo_1',\n",
    "'ap_hi_2',\n",
    "'ap_lo_2',\n",
    "]\n",
    "model_name = '+-XGB_11.5_hey3'\n",
    "params = {\n",
    "     'colsample_bytree': 0.875,\n",
    "     'gamma': 0.05,\n",
    "     'learning_rate': 0.02,\n",
    "     'max_depth': 5,\n",
    "     'min_child_weight': 5,\n",
    "     'n_estimators': 369,\n",
    "    \n",
    "    #'scale_pos_weight': 1.0008,\n",
    "\n",
    "     'reg_alpha': 0,\n",
    "     'reg_lambda': 10,\n",
    "     'subsample': 0.7,\n",
    "    \n",
    "    'n_jobs': -1,\n",
    "    'random_state': 1223,\n",
    "    'silent': True,\n",
    "}\n",
    "utils.execute_model(xgb.XGBClassifier(**params),\n",
    "              X_train[use_columns],\n",
    "              y_train,\n",
    "              X_test[use_columns],\n",
    "              model_name=model_name,\n",
    "              n_splits=0,\n",
    "              n_folds=10,\n",
    "              stratification_groups=strat,\n",
    "             )\n",
    "gc.collect()"
   ]
  },
  {
   "cell_type": "code",
   "execution_count": 21,
   "metadata": {
    "collapsed": false
   },
   "outputs": [
    {
     "name": "stdout",
     "output_type": "stream",
     "text": [
      "\n",
      "10 folds logloss:\n",
      "[0.5364698861017192, 0.53781121748786065, 0.53598726343594916, 0.53576783617738977, 0.5361966183906417, 0.53908515516418154, 0.53816753472292644, 0.5373156112660652, 0.5373011023033224, 0.53701224415847271]\n",
      "mean: 0.537111446921\n",
      "std: 0.000995269200566\n",
      "+-XGB_10++_hey3 results saved!\n"
     ]
    },
    {
     "data": {
      "text/plain": [
       "91"
      ]
     },
     "execution_count": 21,
     "metadata": {},
     "output_type": "execute_result"
    }
   ],
   "source": [
    "use_columns = [\n",
    "'gender',\n",
    "'height',\n",
    "'weight',\n",
    "'ap_hi',\n",
    "'ap_lo',\n",
    "'cholesterol',\n",
    "'active_fair',\n",
    "'smoke_restored',\n",
    "'alco_restored',\n",
    "'height_mul_log_cholesterol',\n",
    "'height_mul_log_gluc',\n",
    "'BMI',\n",
    "'age_group',\n",
    "'cholesterol_div_log_gluc',\n",
    "'gluc_mul_log_age',\n",
    "'ap_hi_mul_weight',\n",
    "'age_dif',\n",
    "'ap_lo_mul_log_ap_hi',\n",
    "'age_group_div_height',\n",
    "'age_group_mul_log_MAP',\n",
    "\n",
    "'ap_hi_1',\n",
    "'ap_lo_1',\n",
    "'ap_hi_2',\n",
    "'ap_lo_2',\n",
    "]\n",
    "model_name = '+-XGB_10++_hey3'\n",
    "params = {\n",
    "     'colsample_bytree': 0.875,\n",
    "     'gamma': 0.05,\n",
    "     'learning_rate': 0.02,\n",
    "     'max_depth': 5,\n",
    "     'min_child_weight': 5,\n",
    "     'n_estimators': 369,\n",
    "    \n",
    "    #'scale_pos_weight': 1.0008,\n",
    "\n",
    "     'reg_alpha': 0,\n",
    "     'reg_lambda': 10,\n",
    "     'subsample': 0.7,\n",
    "    \n",
    "    'n_jobs': -1,\n",
    "    'random_state': 1223,\n",
    "    'silent': True,\n",
    "}\n",
    "utils.execute_model(xgb.XGBClassifier(**params),\n",
    "              X_train[use_columns],\n",
    "              y_train,\n",
    "              X_test[use_columns],\n",
    "              model_name=model_name,\n",
    "              n_splits=0,\n",
    "              n_folds=10,\n",
    "              stratification_groups=strat,\n",
    "             )\n",
    "gc.collect()"
   ]
  },
  {
   "cell_type": "code",
   "execution_count": 22,
   "metadata": {
    "collapsed": false
   },
   "outputs": [
    {
     "name": "stdout",
     "output_type": "stream",
     "text": [
      "\n",
      "10 folds logloss:\n",
      "[0.53596526252239507, 0.53823302068030665, 0.53646238367329391, 0.53593721320599252, 0.53619144349757808, 0.53841573595073788, 0.53796983128802267, 0.53701953978689065, 0.53731145101300326, 0.53723424287518617]\n",
      "mean: 0.537074012449\n",
      "std: 0.000877820493706\n",
      "+-XGB_15_hey3 results saved!\n"
     ]
    },
    {
     "data": {
      "text/plain": [
       "91"
      ]
     },
     "execution_count": 22,
     "metadata": {},
     "output_type": "execute_result"
    }
   ],
   "source": [
    "use_columns = [\n",
    "'gender',\n",
    "'ap_hi',\n",
    "'ap_lo',\n",
    "'cholesterol',\n",
    "'active_fair',\n",
    "'smoke_restored',\n",
    "'alco_restored',\n",
    "'height_mul_log_cholesterol',\n",
    "'height_mul_log_gluc',\n",
    "'BMI',\n",
    "'age_group',\n",
    "'cholesterol_div_log_gluc',\n",
    "'gluc_mul_log_age',\n",
    "'age_dif2',\n",
    "'ap_lo_mul_log_ap_hi',\n",
    "'age_group_div_height',\n",
    "'age_group_mul_log_MAP',\n",
    "'cholesterol_div_ap_hi',\n",
    "'ap_hi_mul_log_gluc',\n",
    "'BMI_div_ap_hi',\n",
    "'BMI_div_log_age',\n",
    "# 'gluc',\n",
    "'gluc_mul_height',\n",
    "\n",
    "# 'cholesterol_div_weight',\n",
    "# 'ap_hi_div_ap_lo',\n",
    "# 'height_mul_log_ap_hi',\n",
    "# 'BMI_div_cholesterol',\n",
    "# 'cholesterol_div_log_ap_lo',\n",
    "#     'BMI_1',\n",
    "#     'age_group_div_log_gluc',\n",
    "\n",
    "'ap_hi_1',\n",
    "'ap_lo_1',\n",
    "'ap_hi_2',\n",
    "'ap_lo_2',\n",
    "]\n",
    "model_name = '+-XGB_15_hey3'\n",
    "params = {\n",
    "     'colsample_bytree': 0.875,\n",
    "     'gamma': 0.05,\n",
    "     'learning_rate': 0.02,\n",
    "     'max_depth': 5,\n",
    "     'min_child_weight': 5,\n",
    "     'n_estimators': 369,\n",
    "    'scale_pos_weight': 1.0008,\n",
    "\n",
    "     'reg_alpha': 0,\n",
    "     'reg_lambda': 10,\n",
    "     'subsample': 0.7,\n",
    "    \n",
    "    'n_jobs': -1,\n",
    "    'random_state': 1223,\n",
    "    'silent': True,\n",
    "}\n",
    "utils.execute_model(xgb.XGBClassifier(**params),\n",
    "              X_train[use_columns],\n",
    "              y_train,\n",
    "              X_test[use_columns],\n",
    "              model_name=model_name,\n",
    "              n_splits=0,\n",
    "              n_folds=10,\n",
    "              stratification_groups=strat,\n",
    "             )\n",
    "gc.collect()\n",
    "# 10 folds logloss:\n",
    "# [0.53646016616605852, 0.53819110210055832, 0.53700349915524548, 0.53586434324496812, 0.53614972118656656, 0.53817725547795814, 0.537725036665749, 0.53720775463564263, 0.53785448705315742, 0.53667016882603535]\n",
    "# mean: 0.537130353451\n",
    "# std: 0.000796657672578\n",
    "\n",
    "# 10 folds logloss:\n",
    "# [0.53646141939657832, 0.53815644988699762, 0.53697043853302318, 0.53582988165501011, 0.536220359169709, 0.53827735193706205, 0.537880909573071, 0.53717420261473092, 0.5379235707759743, 0.53683144369524272]\n",
    "# mean: 0.537172602724\n",
    "# std: 0.000814050947736\n",
    "\n",
    "\n",
    "# mean: 0.537159955619"
   ]
  },
  {
   "cell_type": "code",
   "execution_count": 27,
   "metadata": {
    "collapsed": false
   },
   "outputs": [
    {
     "name": "stdout",
     "output_type": "stream",
     "text": [
      "\n",
      "10 folds logloss:\n",
      "[0.53584379411531313, 0.5379204437885805, 0.53685329615344046, 0.53593173720193965, 0.53589469605506002, 0.53835195593721119, 0.53813142447067774, 0.53708889733699383, 0.53744152613702623, 0.53700221169126938]\n",
      "mean: 0.537045998289\n",
      "std: 0.00088645551337\n",
      "XGB_16_hey2 results saved!\n"
     ]
    },
    {
     "data": {
      "text/plain": [
       "85393"
      ]
     },
     "execution_count": 27,
     "metadata": {},
     "output_type": "execute_result"
    }
   ],
   "source": [
    "use_columns = [\n",
    "'gender',\n",
    "'ap_hi',\n",
    "'ap_lo',\n",
    "'cholesterol',\n",
    "'active_fair',\n",
    "'smoke_restored',\n",
    "'alco_restored',\n",
    "'height_mul_log_cholesterol',\n",
    "'height_mul_log_gluc',\n",
    "'BMI',\n",
    "'age_group',\n",
    "'cholesterol_div_log_gluc',\n",
    "'gluc_mul_log_age',\n",
    "'age_dif2',\n",
    "'ap_lo_mul_log_ap_hi',\n",
    "'age_group_div_height',\n",
    "'age_group_mul_log_MAP',\n",
    "'cholesterol_div_ap_hi',\n",
    "'ap_hi_mul_log_gluc',\n",
    "'BMI_div_ap_hi',\n",
    "'BMI_div_log_age',\n",
    "# 'gluc',\n",
    "'gluc_mul_height',\n",
    "\n",
    "# 'cholesterol_div_weight',\n",
    "# 'ap_hi_div_ap_lo',\n",
    "# 'height_mul_log_ap_hi',\n",
    "# 'BMI_div_cholesterol',\n",
    "# 'cholesterol_div_log_ap_lo',\n",
    "#     'MAP_div_ap_lo',\n",
    "#     'ap_dif',\n",
    "#     'BMI_3'\n",
    "\n",
    "'ap_hi_1',\n",
    "'ap_lo_1',\n",
    "'ap_hi_2',\n",
    "'ap_lo_2',\n",
    "]\n",
    "model_name = 'XGB_16_hey2'\n",
    "params = {\n",
    "     'colsample_bytree': 0.875,\n",
    "     'gamma': 0.05,\n",
    "     'learning_rate': 0.02,\n",
    "     'max_depth': 5,\n",
    "     'min_child_weight': 5,\n",
    "     'n_estimators': 369,\n",
    "    #'scale_pos_weight': 1.0008,\n",
    "\n",
    "     'reg_alpha': 0,\n",
    "     'reg_lambda': 10,\n",
    "     'subsample': 0.7,\n",
    "    \n",
    "    'n_jobs': -1,\n",
    "    'random_state': 1223,\n",
    "    'silent': True,\n",
    "}\n",
    "\n",
    "X1 = X_train[use_columns].copy()\n",
    "X2 = X_test[use_columns].copy()\n",
    "\n",
    "from itertools import combinations\n",
    "from patsylearn import PatsyModel, PatsyTransformer\n",
    "\n",
    "interactions = []\n",
    "for i in range(2, 5):\n",
    "    for comb in combinations(['alco_restored', 'smoke_restored', 'active_restored', 'age_group', 'gender', 'gluc', 'cholesterol'], i):\n",
    "        interactions.append(':'.join(['C(%s)' % c for c in comb]))\n",
    "formula = ' + '.join(interactions)\n",
    "transformer = PatsyTransformer(formula)\n",
    "transformer.fit(data)\n",
    "X1 = pd.concat((X1, pd.DataFrame(transformer.transform(X_train))), axis=1)\n",
    "X2 = pd.concat((X2, pd.DataFrame(transformer.transform(X_test))), axis=1)\n",
    "# for m in ['XGB_10',\n",
    "#  'XGB_10+',\n",
    "#  'XGB_12+',\n",
    "#  'XGB_13+',\n",
    "#  'XGB_14',\n",
    "#  'XGB_1_new2',\n",
    "#  'XGB_1_new3+',\n",
    "#  'XGB_2hist_new',\n",
    "#  'XGB_5',\n",
    "#  'XGB_5+']:\n",
    "\n",
    "#     tr_pr, ts_pr, _, _ = utils.load_model(m)\n",
    "#     X1[m] = tr_pr\n",
    "#     X2[m] = ts_pr\n",
    "utils.execute_model(xgb.XGBClassifier(**params),\n",
    "              X1,\n",
    "              y_train,\n",
    "              X2,\n",
    "              model_name=model_name,\n",
    "              n_splits=0,\n",
    "              n_folds=10,\n",
    "              stratification_groups=strat,\n",
    "             )\n",
    "gc.collect()"
   ]
  },
  {
   "cell_type": "code",
   "execution_count": 23,
   "metadata": {
    "collapsed": false
   },
   "outputs": [
    {
     "name": "stdout",
     "output_type": "stream",
     "text": [
      "\n",
      "10 folds logloss:\n",
      "[0.53631608386790208, 0.53851990718522869, 0.5371012506286349, 0.53594555272149536, 0.53668218559150793, 0.5390138497872593, 0.53809440288195709, 0.53716750180731143, 0.53802401725600102, 0.53689507240231138]\n",
      "mean: 0.537375982413\n",
      "std: 0.000944898659146\n",
      "LGB_1_hey3 results saved!\n"
     ]
    },
    {
     "data": {
      "text/plain": [
       "138"
      ]
     },
     "execution_count": 23,
     "metadata": {},
     "output_type": "execute_result"
    }
   ],
   "source": [
    "model_name = 'LGB_1_hey3'\n",
    "params = {\n",
    "    'colsample_bytree': 0.7,\n",
    "     'learning_rate': 0.01,\n",
    "     'min_child_weight': 4,\n",
    "     'n_estimators': 666,\n",
    "     'num_leaves': 32,\n",
    "     'reg_alpha': 0.7,\n",
    "     'reg_lambda': 1.0,\n",
    "     'subsample': 0.9,\n",
    "       \n",
    "    'nthread': 4,\n",
    "    'seed': 8718,\n",
    "    'silent': True,\n",
    "}\n",
    "use_columns = [\n",
    "'gender',\n",
    "'ap_hi',\n",
    "'ap_lo',\n",
    "'cholesterol',\n",
    "'active_fair',\n",
    "'smoke_restored',\n",
    "'alco_restored',\n",
    "'height_mul_log_cholesterol',\n",
    "'height_mul_log_gluc',\n",
    "'BMI',\n",
    "'age_group',\n",
    "'cholesterol_div_log_gluc',\n",
    "'gluc_mul_log_age',\n",
    "'age_dif2',\n",
    "'ap_lo_mul_log_ap_hi',\n",
    "'age_group_div_height',\n",
    "'age_group_mul_log_MAP',\n",
    "'cholesterol_div_ap_hi',\n",
    "'ap_hi_mul_log_gluc',\n",
    "'BMI_div_ap_hi',\n",
    "'BMI_div_log_age',\n",
    "'gluc_mul_height',\n",
    "\n",
    "'ap_hi_1',\n",
    "'ap_lo_1',\n",
    "'ap_hi_2',\n",
    "'ap_lo_2',\n",
    "]\n",
    "utils.execute_model(lgb.LGBMClassifier(**params),\n",
    "              X_train[use_columns],\n",
    "              y_train,\n",
    "              X_test[use_columns],\n",
    "              model_name=model_name,\n",
    "              n_splits=0,\n",
    "              n_folds=10,\n",
    "              stratification_groups=strat,\n",
    "             )\n",
    "gc.collect()\n",
    "# 10 folds logloss:\n",
    "# [0.53646016616605852, 0.53819110210055832, 0.53700349915524548, 0.53586434324496812, 0.53614972118656656, 0.53817725547795814, 0.537725036665749, 0.53720775463564263, 0.53785448705315742, 0.53667016882603535]\n",
    "# mean: 0.537130353451\n",
    "# std: 0.000796657672578"
   ]
  },
  {
   "cell_type": "code",
   "execution_count": null,
   "metadata": {
    "collapsed": true
   },
   "outputs": [],
   "source": []
  },
  {
   "cell_type": "code",
   "execution_count": null,
   "metadata": {
    "collapsed": true
   },
   "outputs": [],
   "source": []
  },
  {
   "cell_type": "code",
   "execution_count": null,
   "metadata": {
    "collapsed": true
   },
   "outputs": [],
   "source": []
  },
  {
   "cell_type": "code",
   "execution_count": null,
   "metadata": {
    "collapsed": true
   },
   "outputs": [],
   "source": []
  },
  {
   "cell_type": "code",
   "execution_count": null,
   "metadata": {
    "collapsed": true
   },
   "outputs": [],
   "source": []
  },
  {
   "cell_type": "code",
   "execution_count": null,
   "metadata": {
    "collapsed": true
   },
   "outputs": [],
   "source": []
  },
  {
   "cell_type": "code",
   "execution_count": null,
   "metadata": {
    "collapsed": true
   },
   "outputs": [],
   "source": []
  },
  {
   "cell_type": "markdown",
   "metadata": {},
   "source": [
    "# KERAS models"
   ]
  },
  {
   "cell_type": "code",
   "execution_count": 24,
   "metadata": {
    "collapsed": false
   },
   "outputs": [
    {
     "name": "stderr",
     "output_type": "stream",
     "text": [
      "Using Theano backend.\n"
     ]
    }
   ],
   "source": [
    "from keras.layers.core import Dense, Dropout\n",
    "from keras.layers.advanced_activations import LeakyReLU\n",
    "from keras.models import Sequential\n",
    "from keras.optimizers import Adamax\n",
    "import pandas as pd\n",
    "\n",
    "\n",
    "class KerasModel(object):\n",
    "    def __init__(self,\n",
    "                 var_num,\n",
    "                 epochs=70,\n",
    "                 learn_rate=0.1,\n",
    "                 config=None,\n",
    "                 batch_size=512,\n",
    "                 verbose=0,\n",
    "                 validation_split=0.2,\n",
    "                 loss=\"binary_crossentropy\"):\n",
    "\n",
    "        self.epochs = epochs\n",
    "        self.batch_size = batch_size\n",
    "        self.verbose = verbose\n",
    "        self.validation_split = validation_split\n",
    "        \n",
    "        self.model = Sequential()\n",
    "        model = self.model\n",
    "        \n",
    "        if config is None:\n",
    "            config =[(var_num, 0.0)]\n",
    "        else:\n",
    "            config = config.copy()\n",
    "            \n",
    "        n, dp = config.pop(0)\n",
    "\n",
    "        model.add(Dense(n, input_dim=var_num, kernel_initializer='uniform'))\n",
    "        model.add(LeakyReLU())\n",
    "        if 0 < dp < 1:\n",
    "            model.add(Dropout(dp))\n",
    "        \n",
    "        while config:\n",
    "            n, dp = config.pop(0)\n",
    "            model.add(Dense(n, kernel_initializer='uniform'))\n",
    "            model.add(LeakyReLU())\n",
    "            if 0 < dp < 1:\n",
    "                model.add(Dropout(dp))\n",
    "\n",
    "\n",
    "        model.add(Dense(1, activation='sigmoid'))\n",
    "        opt = Adamax(lr=learn_rate)\n",
    "\n",
    "        model.compile(loss=loss, optimizer=opt, metrics=['accuracy'])\n",
    "\n",
    "\n",
    "    def fit(self, X, y, sample_weight=None, callbacks=[]):\n",
    "        process_X = X.values if hasattr(X, 'iloc') else X\n",
    "        process_y = y\n",
    "        return self.model.fit(process_X, process_y, batch_size=self.batch_size,\n",
    "                       epochs=self.epochs, verbose=self.verbose,\n",
    "                       sample_weight=sample_weight,\n",
    "                       callbacks=callbacks,\n",
    "                       validation_split=self.validation_split,\n",
    "                       shuffle=True)\n",
    "\n",
    "    def predict_proba(self, X):\n",
    "        process_x = X.values if hasattr(X, 'iloc') else X\n",
    "        result  = self.model.predict(process_x)\n",
    "        classone_probs = result\n",
    "        classzero_probs = 1.0 - classone_probs\n",
    "        return np.hstack((classzero_probs, classone_probs))\n",
    "#         return result\n",
    "    \n",
    "    def predict(self, X):\n",
    "        return np.argmax(self.predict_proba(X), axis=1)"
   ]
  },
  {
   "cell_type": "code",
   "execution_count": 14,
   "metadata": {
    "collapsed": false
   },
   "outputs": [
    {
     "name": "stdout",
     "output_type": "stream",
     "text": [
      "\n",
      "10 folds logloss:\n",
      "[0.53919093926065131, 0.53980989007171887, 0.54064485447017407, 0.53891908919910125, 0.53750032918880297, 0.5407593278956413, 0.53828767919510767, 0.53871945788254894, 0.53946882582298639, 0.53981705894254561]\n",
      "mean: 0.539311745193\n",
      "std: 0.000961787753359\n",
      "+-KERAS_3_hey2 results saved!\n"
     ]
    },
    {
     "data": {
      "text/plain": [
       "(0.53931174519292768, None)"
      ]
     },
     "execution_count": 14,
     "metadata": {},
     "output_type": "execute_result"
    }
   ],
   "source": [
    "use_columns = [\n",
    "'gender',\n",
    "'height',\n",
    "'weight',\n",
    "'ap_hi',\n",
    "'ap_lo',\n",
    "'cholesterol',\n",
    "'active_restored',\n",
    "'smoke_restored',\n",
    "'alco_restored',\n",
    "'height_mul_log_cholesterol',\n",
    "'height_mul_log_gluc',\n",
    "'BMI',\n",
    "# 'age_group',\n",
    "'cholesterol_div_log_gluc',\n",
    "'gluc_mul_log_age',\n",
    "'ap_hi_mul_weight',\n",
    "'age_dif2',\n",
    "'ap_lo_mul_log_ap_hi',\n",
    "'age_group_div_height',\n",
    "'age_group_mul_log_MAP',\n",
    "\n",
    "'ap_hi_1',\n",
    "'ap_lo_1',\n",
    "'ap_hi_2',\n",
    "'ap_lo_2',\n",
    "]\n",
    "\n",
    "X1 = X_train[use_columns]\n",
    "X2 = X_test[use_columns]\n",
    "\n",
    "X = pd.concat((X1,X2), axis=0)\n",
    "\n",
    "from sklearn.preprocessing import StandardScaler, MinMaxScaler, RobustScaler\n",
    "scaler = StandardScaler().fit(X)\n",
    "X1 = pd.DataFrame(scaler.transform(X1)) #.values\n",
    "X2 = pd.DataFrame(scaler.transform(X2)) #.values\n",
    "\n",
    "def create(x1, x2):\n",
    "    config = [(64,0.075), (64,0.025)]\n",
    "    return KerasModel(var_num=len(use_columns),\n",
    "                   epochs=200,\n",
    "                   learn_rate=0.001,\n",
    "                   config=config,\n",
    "                   batch_size=1024,\n",
    "                   verbose=0,\n",
    "                   validation_split=0.0)\n",
    "utils.execute_model(None,\n",
    "              X1,\n",
    "              y_train,\n",
    "              X2,\n",
    "              model_name=\"+-KERAS_3_hey3\",\n",
    "              n_splits=0,\n",
    "              n_folds=10,\n",
    "              stratification_groups=strat,\n",
    "              create_callback=create\n",
    "             )"
   ]
  },
  {
   "cell_type": "code",
   "execution_count": 25,
   "metadata": {
    "collapsed": false
   },
   "outputs": [
    {
     "name": "stdout",
     "output_type": "stream",
     "text": [
      "\n",
      "10 folds logloss:\n",
      "[0.53808503548482933, 0.53884686765635181, 0.54003997763976341, 0.53812692408851048, 0.53751825536679487, 0.53995355279650969, 0.53869798183479278, 0.53713969671228812, 0.53888532399449207, 0.53918895585501081]\n",
      "mean: 0.538648257143\n",
      "std: 0.000904036643709\n",
      "+-KERAS_4_hey3 results saved!\n"
     ]
    },
    {
     "data": {
      "text/plain": [
       "(0.53864825714293429, None)"
      ]
     },
     "execution_count": 25,
     "metadata": {},
     "output_type": "execute_result"
    }
   ],
   "source": [
    "use_columns = [\n",
    "'gender',\n",
    "'ap_hi',\n",
    "'ap_lo',\n",
    "'cholesterol',\n",
    "'active_restored',\n",
    "'smoke_restored',\n",
    "'alco_restored',\n",
    "'height_mul_log_cholesterol',\n",
    "'height_mul_log_gluc',\n",
    "'BMI',\n",
    "'age_group',\n",
    "'cholesterol_div_log_gluc',\n",
    "'gluc_mul_log_age',\n",
    "'age_dif2',\n",
    "'ap_lo_mul_log_ap_hi',\n",
    "'age_group_div_height',\n",
    "'age_group_mul_log_MAP',\n",
    "'cholesterol_div_ap_hi',\n",
    "'ap_hi_mul_log_gluc',\n",
    "'BMI_div_ap_hi',\n",
    "'BMI_div_log_age',\n",
    "# 'gluc',\n",
    "'gluc_mul_height',\n",
    "\n",
    "'ap_hi_1',\n",
    "'ap_lo_1',\n",
    "'ap_hi_2',\n",
    "'ap_lo_2',\n",
    "]\n",
    "\n",
    "X1 = X_train[use_columns]\n",
    "X2 = X_test[use_columns]\n",
    "\n",
    "X = pd.concat((X1,X2), axis=0)\n",
    "\n",
    "from sklearn.preprocessing import StandardScaler, MinMaxScaler, RobustScaler\n",
    "scaler = StandardScaler().fit(X)\n",
    "X1 = pd.DataFrame(scaler.transform(X1)) #.values\n",
    "X2 = pd.DataFrame(scaler.transform(X2)) #.values\n",
    "\n",
    "def create(x1, x2):\n",
    "    config = [(64,0.075), (64,0.025)]\n",
    "    return KerasModel(var_num=len(use_columns),\n",
    "                   epochs=200,\n",
    "                   learn_rate=0.001,\n",
    "                   config=config,\n",
    "                   batch_size=1024,\n",
    "                   verbose=0,\n",
    "                   validation_split=0.0)\n",
    "utils.execute_model(None,\n",
    "              X1,\n",
    "              y_train,\n",
    "              X2,\n",
    "              model_name=\"+-KERAS_4_hey3\",\n",
    "              n_splits=0,\n",
    "              n_folds=10,\n",
    "              stratification_groups=strat,\n",
    "              create_callback=create\n",
    "             )"
   ]
  },
  {
   "cell_type": "code",
   "execution_count": null,
   "metadata": {
    "collapsed": false
   },
   "outputs": [],
   "source": []
  },
  {
   "cell_type": "code",
   "execution_count": 26,
   "metadata": {
    "collapsed": false
   },
   "outputs": [
    {
     "name": "stdout",
     "output_type": "stream",
     "text": [
      "\n",
      "10 folds logloss:\n",
      "[0.53761156280117783, 0.53892291320219388, 0.54010385235926828, 0.53782496609730723, 0.53629403980961943, 0.53930981373114251, 0.53902345156883069, 0.53752494536534967, 0.53881472586798329, 0.53895055540202796]\n",
      "mean: 0.53843808262\n",
      "std: 0.00104912802091\n",
      "+-KERAS_5_hey3 results saved!\n"
     ]
    },
    {
     "data": {
      "text/plain": [
       "(0.53843808262048998, None)"
      ]
     },
     "execution_count": 26,
     "metadata": {},
     "output_type": "execute_result"
    }
   ],
   "source": [
    "use_columns = [\n",
    "'gender',\n",
    "'ap_hi',\n",
    "'ap_lo',\n",
    "'cholesterol',\n",
    "'active_restored',\n",
    "'smoke_restored',\n",
    "'alco_restored',\n",
    "'height_mul_log_cholesterol',\n",
    "'height_mul_log_gluc',\n",
    "'BMI',\n",
    "'age_group',\n",
    "'cholesterol_div_log_gluc',\n",
    "'gluc_mul_log_age',\n",
    "'age_dif2',\n",
    "'ap_lo_mul_log_ap_hi',\n",
    "'age_group_div_height',\n",
    "'age_group_mul_log_MAP',\n",
    "'cholesterol_div_ap_hi',\n",
    "'ap_hi_mul_log_gluc',\n",
    "'BMI_div_ap_hi',\n",
    "'BMI_div_log_age',\n",
    "# 'gluc',\n",
    "'gluc_mul_height',\n",
    "\n",
    "'ap_hi_1',\n",
    "'ap_lo_1',\n",
    "'ap_hi_2',\n",
    "'ap_lo_2',\n",
    "]\n",
    "\n",
    "X1 = X_train[use_columns]\n",
    "X2 = X_test[use_columns]\n",
    "\n",
    "X = pd.concat((X1,X2), axis=0)\n",
    "\n",
    "from sklearn.preprocessing import StandardScaler, MinMaxScaler, RobustScaler\n",
    "scaler = StandardScaler().fit(X)\n",
    "X1 = pd.DataFrame(scaler.transform(X1)) #.values\n",
    "X2 = pd.DataFrame(scaler.transform(X2)) #.values\n",
    "\n",
    "def create(x1, x2):\n",
    "    config = [(150,0.5), (64,0.2)]\n",
    "    return KerasModel(var_num=len(use_columns),\n",
    "#                    epochs=200,\n",
    "#                    learn_rate=0.005,\n",
    "#                    config=config,\n",
    "#                    batch_size=2048,\n",
    "                   epochs=500,\n",
    "                   learn_rate=0.001,\n",
    "                   config=config,\n",
    "                   batch_size=2000,\n",
    "                   verbose=0,\n",
    "                   validation_split=0.0)\n",
    "utils.execute_model(None,\n",
    "              X1,\n",
    "              y_train,\n",
    "              X2,\n",
    "              model_name=\"+-KERAS_5_hey3\",\n",
    "              n_splits=0,\n",
    "              n_folds=10,\n",
    "              stratification_groups=strat,\n",
    "              create_callback=create\n",
    "             )"
   ]
  },
  {
   "cell_type": "code",
   "execution_count": 104,
   "metadata": {
    "collapsed": false
   },
   "outputs": [
    {
     "name": "stdout",
     "output_type": "stream",
     "text": [
      "\n",
      "+-KERAS_4_hey2\n",
      "0.539189898818\t0.577349632449\t0.539189898818\t0.577349632449\n",
      "\n",
      "+-KERAS_5_hey2\n",
      "0.539051057475\t0.577349632449\t0.538815949708\t0.577349632449\n",
      "\n",
      "+-XGB_11.5_hey2\n",
      "0.537112245781\t0.577349632449\t0.537574125454\t0.577349632449\n",
      "\n",
      "+-XGB_11.5_hey2\n",
      "0.537112245781\t0.577349632449\t0.537212356165\t0.577349632449\n",
      "\n",
      "+-XGB_1.5_hey2\n",
      "0.537395458839\t0.577349632449\t0.537094266879\t0.577349632449\n",
      "\n",
      "+-XGB_hist_last_hey2\n",
      "0.537283606129\t0.577349632449\t0.536970133154\t0.577349632449\n",
      "\n",
      "+-XGB_hist_last_hey2\n",
      "0.537283606129\t0.577349632449\t0.536919759879\t0.577349632449\n",
      "\n",
      "+-XGB_5++_hey2\n",
      "0.537403553804\t0.577349632449\t0.536887402982\t0.577349632449\n",
      "\n",
      "+-XGB_5++_hey2\n",
      "0.537403553804\t0.577349632449\t0.536880662495\t0.577349632449\n",
      "\n",
      "XGB_9_new\n",
      "0.537758655716\t0.538017158735\t0.53685306496\t0.570540564788\n",
      "\n",
      "+-XGB_10++_hey2\n",
      "0.537195191162\t0.577349632449\t0.536853400851\t0.571135645644\n",
      "\n",
      "XGB_17_hey2\n",
      "0.537109752716\t0.577349632449\t0.536829161142\t0.571635200196\n",
      "\n",
      "XGB_17_hey2\n",
      "0.537109752716\t0.577349632449\t0.536815295951\t0.572060494477\n",
      "\n",
      "LGB_1_hey2\n",
      "0.537512588236\t0.577349632449\t0.536813126011\t0.572426925192\n"
     ]
    }
   ],
   "source": [
    "models = [\n",
    "    '+-KERAS_4_hey2',\n",
    "    '+-KERAS_5_hey2',\n",
    "    \n",
    "    '+-XGB_11.5_hey2',\n",
    "    '+-XGB_11.5_hey2',\n",
    "    \n",
    "    '+-XGB_1.5_hey2',\n",
    "    '+-XGB_hist_last_hey2',\n",
    "    '+-XGB_hist_last_hey2',\n",
    "    \n",
    "    '+-XGB_5++_hey2',\n",
    "    '+-XGB_5++_hey2',\n",
    "    \n",
    "    'XGB_9_new',\n",
    "    '+-XGB_10++_hey2',\n",
    "#     '+-XGB_15_hey2',\n",
    "    'XGB_17_hey2',\n",
    "    'XGB_17_hey2',\n",
    "#     'XGB_16_hey2',\n",
    "    \n",
    "    'LGB_1_hey2',\n",
    "\n",
    "\n",
    "    \n",
    "    \n",
    "    \n",
    "    \n",
    "\n",
    "    \n",
    "    \n",
    "#     'XGB_11.5_hey',\n",
    "#     'XGB_1.5_hey',\n",
    "#     'XGB_hist_last_hey',\n",
    "#     'XGB_5++_hey',\n",
    "#     'XGB_10++_hey',\n",
    "#     'XGB_15_hey',\n",
    "    \n",
    "#     'KERAS_3', 'XGB_11', 'XGB_1_new2', 'XGB_2hist_new', 'XGB_5', 'XGB_9_new', 'XGB_10',\n",
    "#      'KERAS_2_new2', 'XGB_11', 'XGB_1_new2', 'XGB_2hist_new', 'LGB_1_new', 'XGB_5', 'XGB_9',\n",
    "    \n",
    "#      'KERAS_3', 'XGB_11', 'XGB_1_new2', 'XGB_2hist_new', 'XGB_5', 'XGB_9_new', 'XGB_10',\n",
    "#     'XGB_16_hey2',\n",
    "         ]\n",
    "result = utils.merge_models(models, method='mean')\n",
    "pd.DataFrame(result).to_csv('merged_models.csv', index=False, header=False, sep=';') # 0.5430089\n",
    "\n",
    "# # # Don't risk too much.\n",
    "# result[test_3 & (result < 0.2)] = 0.2\n",
    "# result[test_4 & (result < 0.2)] = 0.2\n",
    "# # result[test_5 & (result < 0.2)] = 0.2\n",
    "# # result[test_3 & (result > 0.8)] = 0.8\n",
    "# # result[test_4 & (result > 0.8)] = 0.8\n",
    "# result[test_5 & (result > 0.8)] = 0.8\n",
    "# pd.DataFrame(result).to_csv('merged_models-corrected.csv', index=False, header=False, sep=';') # 0.5430089\n",
    "\n",
    "# t = pd.read_csv('test.csv', sep=';')\n",
    "# result[(X_test['ap_lo']!=t['ap_lo']) & (result < 0.15)] = 0.15\n",
    "# pd.DataFrame(result).to_csv('merged_models-corrected+.csv', index=False, header=False, sep=';') # 0.5430188"
   ]
  },
  {
   "cell_type": "code",
   "execution_count": 96,
   "metadata": {
    "collapsed": false
   },
   "outputs": [
    {
     "data": {
      "text/plain": [
       "512"
      ]
     },
     "execution_count": 96,
     "metadata": {},
     "output_type": "execute_result"
    }
   ],
   "source": [
    "use_columns = [\n",
    "'gender',\n",
    "'ap_hi',\n",
    "'ap_lo',\n",
    "'cholesterol',\n",
    "'active_fair',\n",
    "'smoke_restored',\n",
    "'alco_restored',\n",
    "'height_mul_log_cholesterol',\n",
    "'height_mul_log_gluc',\n",
    "'BMI',\n",
    "'age_group',\n",
    "'cholesterol_div_log_gluc',\n",
    "'gluc_mul_log_age',\n",
    "'age_dif2',\n",
    "'ap_lo_mul_log_ap_hi',\n",
    "'age_group_div_height',\n",
    "'age_group_mul_log_MAP',\n",
    "'cholesterol_div_ap_hi',\n",
    "'ap_hi_mul_log_gluc',\n",
    "'BMI_div_ap_hi',\n",
    "'BMI_div_log_age',\n",
    "'gluc_mul_height',\n",
    "]\n",
    "model_name = '+-XGB_15_hey2'\n",
    "params = {\n",
    "     'colsample_bytree': 0.875,\n",
    "     'gamma': 0.05,\n",
    "     'learning_rate': 0.02,\n",
    "     'max_depth': 5,\n",
    "     'min_child_weight': 5,\n",
    "     'n_estimators': 369,\n",
    "    'scale_pos_weight': 1.0008,\n",
    "\n",
    "     'reg_alpha': 0,\n",
    "     'reg_lambda': 10,\n",
    "     'subsample': 0.7,\n",
    "    \n",
    "    'n_jobs': -1,\n",
    "    'random_state': 1223,\n",
    "    'silent': True,\n",
    "}\n",
    "model = xgb.XGBClassifier(**params)\n",
    "model.fit(X_train2[use_columns], y_train2)\n",
    "result2 = model.predict_proba(X_test[use_columns])\n",
    "gc.collect()"
   ]
  },
  {
   "cell_type": "code",
   "execution_count": 98,
   "metadata": {
    "collapsed": false
   },
   "outputs": [],
   "source": [
    "pd.DataFrame((result+result2[:,1])/2).to_csv('merged_models7.csv', index=False, header=False, sep=';') # 0.5430089"
   ]
  },
  {
   "cell_type": "code",
   "execution_count": null,
   "metadata": {
    "collapsed": true
   },
   "outputs": [],
   "source": []
  },
  {
   "cell_type": "code",
   "execution_count": null,
   "metadata": {
    "collapsed": true
   },
   "outputs": [],
   "source": []
  },
  {
   "cell_type": "code",
   "execution_count": null,
   "metadata": {
    "collapsed": true
   },
   "outputs": [],
   "source": []
  },
  {
   "cell_type": "code",
   "execution_count": null,
   "metadata": {
    "collapsed": true
   },
   "outputs": [],
   "source": []
  },
  {
   "cell_type": "code",
   "execution_count": null,
   "metadata": {
    "collapsed": true
   },
   "outputs": [],
   "source": []
  },
  {
   "cell_type": "code",
   "execution_count": null,
   "metadata": {
    "collapsed": false
   },
   "outputs": [],
   "source": [
    "1/0"
   ]
  },
  {
   "cell_type": "code",
   "execution_count": null,
   "metadata": {
    "collapsed": false
   },
   "outputs": [],
   "source": [
    "t = pd.read_csv('test.csv', sep=';')\n",
    "t.loc[(result<0.2 )&((X_test['ap_lo']!=t['ap_lo']))]"
   ]
  },
  {
   "cell_type": "code",
   "execution_count": 53,
   "metadata": {
    "collapsed": false
   },
   "outputs": [
    {
     "ename": "AttributeError",
     "evalue": "Cannot access attribute 'values' of 'DataFrameGroupBy' objects, try using the 'apply' method",
     "output_type": "error",
     "traceback": [
      "\u001b[0;31m------------------------------------------------------------\u001b[0m",
      "\u001b[0;31mAttributeError\u001b[0m             Traceback (most recent call last)",
      "\u001b[0;32m<ipython-input-53-4e6b4c5c36fa>\u001b[0m in \u001b[0;36m<module>\u001b[0;34m()\u001b[0m\n\u001b[0;32m----> 1\u001b[0;31m \u001b[0mX_test\u001b[0m\u001b[1;33m.\u001b[0m\u001b[0mgroupby\u001b[0m\u001b[1;33m(\u001b[0m\u001b[1;33m[\u001b[0m\u001b[1;34m'gender'\u001b[0m\u001b[1;33m,\u001b[0m \u001b[1;34m'smoke_restored'\u001b[0m\u001b[1;33m]\u001b[0m\u001b[1;33m)\u001b[0m\u001b[1;33m.\u001b[0m\u001b[0mvalues\u001b[0m\u001b[1;33m\u001b[0m\u001b[0m\n\u001b[0m",
      "\u001b[0;32mD:\\ProgramData\\Anaconda3\\lib\\site-packages\\pandas\\core\\groupby.py\u001b[0m in \u001b[0;36m__getattr__\u001b[0;34m(self, attr)\u001b[0m\n\u001b[1;32m    546\u001b[0m             \u001b[1;32mreturn\u001b[0m \u001b[0mself\u001b[0m\u001b[1;33m[\u001b[0m\u001b[0mattr\u001b[0m\u001b[1;33m]\u001b[0m\u001b[1;33m\u001b[0m\u001b[0m\n\u001b[1;32m    547\u001b[0m         \u001b[1;32mif\u001b[0m \u001b[0mhasattr\u001b[0m\u001b[1;33m(\u001b[0m\u001b[0mself\u001b[0m\u001b[1;33m.\u001b[0m\u001b[0mobj\u001b[0m\u001b[1;33m,\u001b[0m \u001b[0mattr\u001b[0m\u001b[1;33m)\u001b[0m\u001b[1;33m:\u001b[0m\u001b[1;33m\u001b[0m\u001b[0m\n\u001b[0;32m--> 548\u001b[0;31m             \u001b[1;32mreturn\u001b[0m \u001b[0mself\u001b[0m\u001b[1;33m.\u001b[0m\u001b[0m_make_wrapper\u001b[0m\u001b[1;33m(\u001b[0m\u001b[0mattr\u001b[0m\u001b[1;33m)\u001b[0m\u001b[1;33m\u001b[0m\u001b[0m\n\u001b[0m\u001b[1;32m    549\u001b[0m \u001b[1;33m\u001b[0m\u001b[0m\n\u001b[1;32m    550\u001b[0m         raise AttributeError(\"%r object has no attribute %r\" %\n",
      "\u001b[0;32mD:\\ProgramData\\Anaconda3\\lib\\site-packages\\pandas\\core\\groupby.py\u001b[0m in \u001b[0;36m_make_wrapper\u001b[0;34m(self, name)\u001b[0m\n\u001b[1;32m    560\u001b[0m                    \"using the 'apply' method\".format(kind, name,\n\u001b[1;32m    561\u001b[0m                                                      type(self).__name__))\n\u001b[0;32m--> 562\u001b[0;31m             \u001b[1;32mraise\u001b[0m \u001b[0mAttributeError\u001b[0m\u001b[1;33m(\u001b[0m\u001b[0mmsg\u001b[0m\u001b[1;33m)\u001b[0m\u001b[1;33m\u001b[0m\u001b[0m\n\u001b[0m\u001b[1;32m    563\u001b[0m \u001b[1;33m\u001b[0m\u001b[0m\n\u001b[1;32m    564\u001b[0m         \u001b[1;31m# need to setup the selection\u001b[0m\u001b[1;33m\u001b[0m\u001b[1;33m\u001b[0m\u001b[0m\n",
      "\u001b[0;31mAttributeError\u001b[0m: Cannot access attribute 'values' of 'DataFrameGroupBy' objects, try using the 'apply' method"
     ]
    }
   ],
   "source": [
    "X_test"
   ]
  },
  {
   "cell_type": "code",
   "execution_count": null,
   "metadata": {
    "collapsed": true
   },
   "outputs": [],
   "source": []
  },
  {
   "cell_type": "code",
   "execution_count": null,
   "metadata": {
    "collapsed": false
   },
   "outputs": [],
   "source": [
    "models = [\n",
    "    '+-KERAS_3_hey2',\n",
    "    '+-XGB_11.5_hey2',\n",
    "    '+-XGB_1.5_hey2',\n",
    "    '+-XGB_hist_last_hey2',\n",
    "    '+-XGB_5++_hey2',\n",
    "    'XGB_9_new',\n",
    "    '+-XGB_10++_hey2',\n",
    "    '+-XGB_15_hey2',\n",
    "    'LGB_1_hey2',\n",
    "]\n",
    "r0, r2 = utils.merge_models2(models, method='mean')\n",
    "# models = [\n",
    "#     'KERAS_2_new2', 'XGB_11', 'XGB_1_new2', 'XGB_2hist_new', 'LGB_1_new', 'XGB_5', 'XGB_9',\n",
    "# ]\n",
    "# r00, r22 = utils.merge_models2(models, method='mean')"
   ]
  },
  {
   "cell_type": "code",
   "execution_count": null,
   "metadata": {
    "collapsed": false
   },
   "outputs": [],
   "source": [
    "t = pd.read_csv('train.csv', sep=';')\n",
    "best = 0\n",
    "best_score = 1\n",
    "for i in np.arange(0,0.5,0.005):\n",
    "    r3 = r2.copy()\n",
    "#     r3[((X_train['ap_lo']!=t['ap_lo'])) & (r3<i)]=i\n",
    "    r3[train_5 & (r3<i)]=i\n",
    "    \n",
    "    a = log_loss(y_train, r3)\n",
    "    if a < best_score:\n",
    "        best_score=a\n",
    "        best=i\n",
    "print(best, best_score)"
   ]
  },
  {
   "cell_type": "code",
   "execution_count": null,
   "metadata": {
    "collapsed": false
   },
   "outputs": [],
   "source": [
    "t = pd.read_csv('train.csv', sep=';')\n",
    "best = 0\n",
    "best_score = 1\n",
    "for i in np.arange(1.0,0.5,-0.005):\n",
    "    r3 = r2.copy()\n",
    "#     r3[((X_train['ap_lo']!=t['ap_lo'])|(X_train['ap_hi']!=t['ap_hi'])) &(r3>i)]=i\n",
    "    r3[train_5 & (r3>i)]=i\n",
    "    a = log_loss(y_train, r3)\n",
    "    if a < best_score:\n",
    "        best_score=a\n",
    "        best=i\n",
    "print(best, best_score)"
   ]
  },
  {
   "cell_type": "code",
   "execution_count": null,
   "metadata": {
    "collapsed": false
   },
   "outputs": [],
   "source": [
    "r3 = r2.copy()\n",
    "# r3[train_1&(r3>0.505)]=0.505\n",
    "# r3[test_3 & (r3 < 0.2)] = 0.2\n",
    "# r3[test_4 & (r3 < 0.2)] = 0.2\n",
    "# r3[test_5 & (r3 < 0.2)] = 0.2\n",
    "# r3[test_3 & (r3 > 0.8)] = 0.8\n",
    "# r3[test_4 & (r3 > 0.8)] = 0.8\n",
    "# r3[test_5 & (r3 > 0.8)] = 0.8\n",
    "log_loss(y_train, r3)"
   ]
  },
  {
   "cell_type": "code",
   "execution_count": null,
   "metadata": {
    "collapsed": false
   },
   "outputs": [],
   "source": [
    "X_train.loc[train_3&(r2<0.2)]"
   ]
  },
  {
   "cell_type": "code",
   "execution_count": null,
   "metadata": {
    "collapsed": false
   },
   "outputs": [],
   "source": [
    "r2[train_3&(r2<0.2)]"
   ]
  },
  {
   "cell_type": "code",
   "execution_count": null,
   "metadata": {
    "collapsed": false
   },
   "outputs": [],
   "source": [
    "X_test.loc[test_2]"
   ]
  },
  {
   "cell_type": "code",
   "execution_count": null,
   "metadata": {
    "collapsed": false
   },
   "outputs": [],
   "source": [
    "r0[test_3]"
   ]
  },
  {
   "cell_type": "code",
   "execution_count": 19,
   "metadata": {
    "collapsed": false
   },
   "outputs": [
    {
     "name": "stdout",
     "output_type": "stream",
     "text": [
      "\n",
      "+-KERAS_3_hey2\n",
      "0.539311858152\t0.577349632449\t0.539311858152\t0.577349632449\n",
      "\n",
      "+-XGB_11.5_hey2\n",
      "0.537112245781\t0.577349632449\t0.537327352827\t0.577349632449\n",
      "\n",
      "+-XGB_1.5_hey2\n",
      "0.537352770364\t0.577349632449\t0.537100313685\t0.577349632449\n",
      "\n",
      "+-XGB_hist_last_hey2\n",
      "0.537283606129\t0.577349632449\t0.536947134305\t0.577349632449\n",
      "\n",
      "+-XGB_5++_hey2\n",
      "0.537403553804\t0.577349632449\t0.536905409887\t0.577349632449\n",
      "\n",
      "XGB_9_new\n",
      "0.537758655716\t0.538017158735\t0.536866191472\t0.566322933484\n",
      "\n",
      "+-XGB_10++_hey2\n",
      "0.537195191162\t0.577349632449\t0.536867472578\t0.567799645983\n",
      "\n",
      "+-XGB_15_hey2\n",
      "0.537143642622\t0.577349632449\t0.536850553244\t0.568928763556\n",
      "\n",
      "LGB_1_hey2\n",
      "0.537512588236\t0.577349632449\t0.536844276764\t0.569819740564\n",
      "\n",
      "KERAS_3\n",
      "0.539666153587\t0.540184488343\t0.539666153587\t0.540184488343\n",
      "\n",
      "XGB_11\n",
      "0.537527971755\t0.537862704067\t0.537637635032\t0.537905517626\n",
      "\n",
      "XGB_1_new2\n",
      "0.537329657114\t0.537704198362\t0.537287820893\t0.537545483551\n",
      "\n",
      "XGB_2hist_new\n",
      "0.537400099099\t0.537871179589\t0.53715662288\t0.537440787959\n",
      "\n",
      "XGB_5\n",
      "0.537530269381\t0.537988954721\t0.537114709859\t0.537418697579\n",
      "\n",
      "XGB_9_new\n",
      "0.537758655716\t0.538017158735\t0.537035781116\t0.537314060096\n",
      "\n",
      "XGB_10\n",
      "0.537231935202\t0.537697129212\t0.537006116273\t0.537302229936\n"
     ]
    }
   ],
   "source": [
    "models = [\n",
    "    '+-KERAS_3_hey2',\n",
    "    '+-XGB_11.5_hey2',\n",
    "    '+-XGB_1.5_hey2',\n",
    "    '+-XGB_hist_last_hey2',\n",
    "    '+-XGB_5++_hey2',\n",
    "    'XGB_9_new',\n",
    "    '+-XGB_10++_hey2',\n",
    "    '+-XGB_15_hey2',\n",
    "    'LGB_1_hey2',\n",
    "    \n",
    "#      'KERAS_2_new2', 'XGB_11', 'XGB_1_new2', 'XGB_2hist_new', 'LGB_1_new', 'XGB_5', 'XGB_9',\n",
    "    \n",
    "#      'KERAS_3', 'XGB_11', 'XGB_1_new2', 'XGB_2hist_new', 'XGB_5', 'XGB_9_new', 'XGB_10',\n",
    "#     'XGB_16_hey2',\n",
    "         ]\n",
    "result = utils.merge_models(models, method='mean')\n",
    "\n",
    "models = ['KERAS_3', 'XGB_11', 'XGB_1_new2', 'XGB_2hist_new', 'XGB_5', 'XGB_9_new', 'XGB_10',]\n",
    "result2 = utils.merge_models(models, method='mean')"
   ]
  },
  {
   "cell_type": "code",
   "execution_count": 22,
   "metadata": {
    "collapsed": false
   },
   "outputs": [
    {
     "data": {
      "text/plain": [
       "array([[<matplotlib.axes._subplots.AxesSubplot object at 0x0000025F06F7B160>]], dtype=object)"
      ]
     },
     "execution_count": 22,
     "metadata": {},
     "output_type": "execute_result"
    },
    {
     "data": {
      "image/png": "[encoded data removed]",
      "text/plain": [
       "<matplotlib.figure.Figure at 0x25f0119e2e8>"
      ]
     },
     "metadata": {},
     "output_type": "display_data"
    }
   ],
   "source": [
    "pd.DataFrame(result-result2).hist(bins=200)"
   ]
  },
  {
   "cell_type": "code",
   "execution_count": 24,
   "metadata": {
    "collapsed": false
   },
   "outputs": [
    {
     "data": {
      "text/html": [
       "<div>\n",
       "<style>\n",
       "    .dataframe thead tr:only-child th {\n",
       "        text-align: right;\n",
       "    }\n",
       "\n",
       "    .dataframe thead th {\n",
       "        text-align: left;\n",
       "    }\n",
       "\n",
       "    .dataframe tbody tr th {\n",
       "        vertical-align: top;\n",
       "    }\n",
       "</style>\n",
       "<table border=\"1\" class=\"dataframe\">\n",
       "  <thead>\n",
       "    <tr style=\"text-align: right;\">\n",
       "      <th></th>\n",
       "      <th>id</th>\n",
       "      <th>age</th>\n",
       "      <th>gender</th>\n",
       "      <th>height</th>\n",
       "      <th>weight</th>\n",
       "      <th>ap_hi</th>\n",
       "      <th>ap_lo</th>\n",
       "      <th>cholesterol</th>\n",
       "      <th>gluc</th>\n",
       "      <th>smoke</th>\n",
       "      <th>...</th>\n",
       "      <th>MAP_mul_BMI</th>\n",
       "      <th>MAP_mul_log_BMI</th>\n",
       "      <th>MAP_div_log_BMI</th>\n",
       "      <th>MAP_div_BMI</th>\n",
       "      <th>MAP_mul_MAP</th>\n",
       "      <th>MAP_mul_log_MAP</th>\n",
       "      <th>MAP_div_log_MAP</th>\n",
       "      <th>age_dif</th>\n",
       "      <th>age_dif2</th>\n",
       "      <th>age_dif3</th>\n",
       "    </tr>\n",
       "  </thead>\n",
       "  <tbody>\n",
       "    <tr>\n",
       "      <th>303</th>\n",
       "      <td>1079</td>\n",
       "      <td>22571</td>\n",
       "      <td>2</td>\n",
       "      <td>170</td>\n",
       "      <td>74.0</td>\n",
       "      <td>140</td>\n",
       "      <td>60</td>\n",
       "      <td>1</td>\n",
       "      <td>1</td>\n",
       "      <td>0.0</td>\n",
       "      <td>...</td>\n",
       "      <td>1707.035755</td>\n",
       "      <td>218.741288</td>\n",
       "      <td>15.572251</td>\n",
       "      <td>2.505744</td>\n",
       "      <td>4444.444444</td>\n",
       "      <td>280.972913</td>\n",
       "      <td>12.784633</td>\n",
       "      <td>-38.820557</td>\n",
       "      <td>0.012011</td>\n",
       "      <td>2.046017</td>\n",
       "    </tr>\n",
       "    <tr>\n",
       "      <th>2943</th>\n",
       "      <td>9856</td>\n",
       "      <td>18166</td>\n",
       "      <td>1</td>\n",
       "      <td>160</td>\n",
       "      <td>65.0</td>\n",
       "      <td>200</td>\n",
       "      <td>80</td>\n",
       "      <td>1</td>\n",
       "      <td>1</td>\n",
       "      <td>0.0</td>\n",
       "      <td>...</td>\n",
       "      <td>2369.791667</td>\n",
       "      <td>305.480824</td>\n",
       "      <td>21.842532</td>\n",
       "      <td>3.536609</td>\n",
       "      <td>8711.111111</td>\n",
       "      <td>424.371230</td>\n",
       "      <td>16.826414</td>\n",
       "      <td>-79.555170</td>\n",
       "      <td>0.013320</td>\n",
       "      <td>1.825274</td>\n",
       "    </tr>\n",
       "    <tr>\n",
       "      <th>13138</th>\n",
       "      <td>43735</td>\n",
       "      <td>23324</td>\n",
       "      <td>2</td>\n",
       "      <td>184</td>\n",
       "      <td>88.0</td>\n",
       "      <td>133</td>\n",
       "      <td>51</td>\n",
       "      <td>3</td>\n",
       "      <td>1</td>\n",
       "      <td>0.0</td>\n",
       "      <td>...</td>\n",
       "      <td>1594.202899</td>\n",
       "      <td>202.127482</td>\n",
       "      <td>14.278320</td>\n",
       "      <td>2.272241</td>\n",
       "      <td>3761.777778</td>\n",
       "      <td>253.459775</td>\n",
       "      <td>11.950000</td>\n",
       "      <td>-14.629133</td>\n",
       "      <td>0.012525</td>\n",
       "      <td>2.222696</td>\n",
       "    </tr>\n",
       "    <tr>\n",
       "      <th>28277</th>\n",
       "      <td>94426</td>\n",
       "      <td>21309</td>\n",
       "      <td>1</td>\n",
       "      <td>164</td>\n",
       "      <td>94.0</td>\n",
       "      <td>160</td>\n",
       "      <td>120</td>\n",
       "      <td>1</td>\n",
       "      <td>1</td>\n",
       "      <td>1.0</td>\n",
       "      <td>...</td>\n",
       "      <td>3261.947254</td>\n",
       "      <td>334.330581</td>\n",
       "      <td>20.369058</td>\n",
       "      <td>2.596239</td>\n",
       "      <td>8711.111111</td>\n",
       "      <td>424.371230</td>\n",
       "      <td>16.826414</td>\n",
       "      <td>146.237341</td>\n",
       "      <td>0.021719</td>\n",
       "      <td>3.473596</td>\n",
       "    </tr>\n",
       "  </tbody>\n",
       "</table>\n",
       "<p>4 rows × 445 columns</p>\n",
       "</div>"
      ],
      "text/plain": [
       "          id    age  gender  height  weight  ap_hi  ap_lo  cholesterol  gluc  \\\n",
       "303     1079  22571       2     170    74.0    140     60            1     1   \n",
       "2943    9856  18166       1     160    65.0    200     80            1     1   \n",
       "13138  43735  23324       2     184    88.0    133     51            3     1   \n",
       "28277  94426  21309       1     164    94.0    160    120            1     1   \n",
       "\n",
       "       smoke    ...     MAP_mul_BMI  MAP_mul_log_BMI  MAP_div_log_BMI  \\\n",
       "303      0.0    ...     1707.035755       218.741288        15.572251   \n",
       "2943     0.0    ...     2369.791667       305.480824        21.842532   \n",
       "13138    0.0    ...     1594.202899       202.127482        14.278320   \n",
       "28277    1.0    ...     3261.947254       334.330581        20.369058   \n",
       "\n",
       "       MAP_div_BMI  MAP_mul_MAP  MAP_mul_log_MAP  MAP_div_log_MAP     age_dif  \\\n",
       "303       2.505744  4444.444444       280.972913        12.784633  -38.820557   \n",
       "2943      3.536609  8711.111111       424.371230        16.826414  -79.555170   \n",
       "13138     2.272241  3761.777778       253.459775        11.950000  -14.629133   \n",
       "28277     2.596239  8711.111111       424.371230        16.826414  146.237341   \n",
       "\n",
       "       age_dif2  age_dif3  \n",
       "303    0.012011  2.046017  \n",
       "2943   0.013320  1.825274  \n",
       "13138  0.012525  2.222696  \n",
       "28277  0.021719  3.473596  \n",
       "\n",
       "[4 rows x 445 columns]"
      ]
     },
     "execution_count": 24,
     "metadata": {},
     "output_type": "execute_result"
    }
   ],
   "source": [
    "X_test.loc[(result-result2)>0.1]"
   ]
  },
  {
   "cell_type": "code",
   "execution_count": null,
   "metadata": {
    "collapsed": true
   },
   "outputs": [],
   "source": [
    "# 0.536964010575\t0.537253961124 = 0.5430002 less cleaning, more cleaning - 0.5429488"
   ]
  },
  {
   "cell_type": "code",
   "execution_count": null,
   "metadata": {
    "collapsed": true
   },
   "outputs": [],
   "source": []
  },
  {
   "cell_type": "code",
   "execution_count": null,
   "metadata": {
    "collapsed": true
   },
   "outputs": [],
   "source": []
  },
  {
   "cell_type": "code",
   "execution_count": null,
   "metadata": {
    "collapsed": true
   },
   "outputs": [],
   "source": []
  },
  {
   "cell_type": "code",
   "execution_count": null,
   "metadata": {
    "collapsed": false
   },
   "outputs": [],
   "source": [
    "models = [\n",
    "#     '+-KERAS_3_hey2',\n",
    "#     '+-XGB_11.5_hey2',\n",
    "#     '+-XGB_1.5_hey2',\n",
    "#     '+-XGB_hist_last_hey2',\n",
    "#     '+-XGB_5++_hey2',\n",
    "    'XGB_9_new',\n",
    "#     '+-XGB_10++_hey2',\n",
    "#     '+-XGB_15_hey2',\n",
    "    'XGB_16_hey2',\n",
    "    'KERAS_3', 'XGB_1_new3+', 'XGB_2hist_new', 'XGB_5+', 'XGB_9_new', 'XGB_10+',  'XGB_12+', 'XGB_13+', 'XGB_14',\n",
    "          'XGB_11', 'XGB_1_new2', 'XGB_2hist_new', 'XGB_5', 'XGB_9_new', 'XGB_10',\n",
    "    'KERAS_2_new2',  'XGB_1_new2', 'XGB_2hist_new', 'LGB_1_new',\n",
    "          'KERAS_2_new2', 'XGB_11', 'XGB_1_new2', 'XGB_2hist_new', 'LGB_1_new', 'XGB_5', 'XGB_9',\n",
    "         ]\n",
    "folds = utils.score_by_folds(models, X_train, n_folds=10, stratification_groups=strat)"
   ]
  },
  {
   "cell_type": "code",
   "execution_count": null,
   "metadata": {
    "collapsed": false
   },
   "outputs": [],
   "source": [
    "r = set()\n",
    "for i, f in enumerate(folds):\n",
    "    r.update([a[1] for a in f[:3]])\n",
    "    print(i, [a[1] for a in f[:3]])"
   ]
  },
  {
   "cell_type": "code",
   "execution_count": null,
   "metadata": {
    "collapsed": false
   },
   "outputs": [],
   "source": [
    "r"
   ]
  },
  {
   "cell_type": "code",
   "execution_count": null,
   "metadata": {
    "collapsed": true
   },
   "outputs": [],
   "source": []
  }
 ],
 "metadata": {
  "kernelspec": {
   "display_name": "Python 3",
   "language": "python",
   "name": "python3"
  },
  "language_info": {
   "codemirror_mode": {
    "name": "ipython",
    "version": 3
   },
   "file_extension": ".py",
   "mimetype": "text/x-python",
   "name": "python",
   "nbconvert_exporter": "python",
   "pygments_lexer": "ipython3",
   "version": "3.6.0"
  }
 },
 "nbformat": 4,
 "nbformat_minor": 2
}
