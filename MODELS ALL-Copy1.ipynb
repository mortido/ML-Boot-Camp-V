{
 "cells": [
  {
   "cell_type": "code",
   "execution_count": 47,
   "metadata": {
    "collapsed": false
   },
   "outputs": [],
   "source": [
    "import pandas as pd\n",
    "import numpy as np\n",
    "\n",
    "import random\n",
    "\n",
    "import xgboost as xgb\n",
    "import lightgbm as lgb\n",
    "\n",
    "from sklearn.ensemble import RandomForestClassifier\n",
    "from sklearn.metrics import log_loss\n",
    "from sklearn.model_selection import StratifiedKFold\n",
    "\n",
    "import matplotlib.pyplot as plt\n",
    "import seaborn as sns\n",
    "import gc\n",
    "import utils\n",
    "\n",
    "plt.style.use('ggplot')\n",
    "%matplotlib inline\n",
    "\n",
    "import importlib\n",
    "utils = importlib.reload(utils)"
   ]
  },
  {
   "cell_type": "code",
   "execution_count": 44,
   "metadata": {
    "collapsed": true
   },
   "outputs": [],
   "source": [
    "# loo = pd.read_csv('loo.csv', sep=';', header=None)\n",
    "# loo.columns=['loo']\n",
    "# loo['target']=y_train\n",
    "# loo_loss = loo.apply(lambda x: log_loss([x['target']], [x['loo']], labels=[1, 0]), axis=1)\n",
    "# pd.DataFrame(loo_loss).to_csv('loo_loss.csv', index=False, header=False, sep=';')"
   ]
  },
  {
   "cell_type": "code",
   "execution_count": 45,
   "metadata": {
    "collapsed": false
   },
   "outputs": [],
   "source": [
    "train = pd.read_csv('train.csv', sep=';')\n",
    "test = pd.read_csv('test.csv', sep=';', na_values='None')\n",
    "\n",
    "train = utils.clean_data(train, more_clean=True)\n",
    "test = utils.clean_data(test, more_clean=True)\n",
    "\n",
    "train = utils.new_features(train)\n",
    "test = utils.new_features(test)\n",
    "\n",
    "X_train = train.drop([ 'cardio'], axis=1)\n",
    "y_train = train['cardio'].values.ravel()\n",
    "X_test = test.drop([], axis=1)\n",
    "\n",
    "data = pd.concat((train.drop('cardio', axis=1), test), axis=0)\n",
    "dic = data.groupby('age_group_orig')['age'].mean().to_dict()\n",
    "X_train['age_dif'] = X_train[['age_group_orig', 'age']].apply(lambda x: x['age'] - dic[x['age_group_orig']], axis=1)\n",
    "X_test['age_dif'] = X_test[['age_group_orig', 'age']].apply(lambda x: x['age'] - dic[x['age_group_orig']], axis=1)\n",
    "\n",
    "dic2 = data.groupby('age_group_orig')['age'].min().to_dict()\n",
    "dic3 = data.groupby('age_group_orig')['age'].max().to_dict()\n",
    "X_train['age_dif2'] = X_train[['age_group_orig', 'age']].apply(lambda x: (x['age'] - dic2[x['age_group_orig']]) / dic3[x['age_group_orig']], axis=1)\n",
    "X_test['age_dif2']  =  X_test[['age_group_orig', 'age']].apply(lambda x: (x['age'] - dic2[x['age_group_orig']]) / dic3[x['age_group_orig']], axis=1)\n",
    "\n",
    "dic3 = data.groupby('age_group_orig')['age'].std().to_dict()\n",
    "X_train['age_dif3'] = X_train[['age_group_orig', 'age']].apply(lambda x: (x['age'] - dic2[x['age_group_orig']]) / dic3[x['age_group_orig']], axis=1)\n",
    "X_test['age_dif3']  =  X_test[['age_group_orig', 'age']].apply(lambda x: (x['age'] - dic2[x['age_group_orig']]) / dic3[x['age_group_orig']], axis=1)\n",
    "\n",
    "train_1 = X_train['ap_lo'] < 20\n",
    "train_2 = X_train['ap_hi'] < 50\n",
    "train_3 = (X_train['ap_hi']<10) | (X_train['ap_lo']<20)\n",
    "train_4 = (data['weight'].mean() - X_train['weight']) > (3 * data['weight'].std())\n",
    "train_5 = (data['height'].mean() - X_train['height']) > (3.5 * data['height'].std())\n",
    "\n",
    "test_1 = X_test['ap_lo'] < 20\n",
    "test_2 = X_test['ap_hi'] < 50\n",
    "test_3 = (X_test['ap_hi']<10) | (X_test['ap_lo']<20)\n",
    "test_4 = (data['weight'].mean() - X_test['weight']) > (3 * data['weight'].std())\n",
    "test_5 = (data['height'].mean() - X_test['height']) > (3.5 * data['height'].std())"
   ]
  },
  {
   "cell_type": "code",
   "execution_count": 15,
   "metadata": {
    "collapsed": false
   },
   "outputs": [],
   "source": [
    "loo_loss = pd.read_csv('loo_loss.csv', sep=';', header=None)\n",
    "strat = pd.qcut(loo_loss, 20, labels=False).astype(str)\n",
    "strat = np.hstack((strat, y_train.reshape((-1,1))))\n",
    "strat =np.apply_along_axis(lambda d: str(d[0]) + '_' + str(d[1]), 1, strat)"
   ]
  },
  {
   "cell_type": "code",
   "execution_count": 16,
   "metadata": {
    "collapsed": false
   },
   "outputs": [
    {
     "name": "stdout",
     "output_type": "stream",
     "text": [
      "\n",
      "10 folds logloss:\n",
      "[0.53715752800673577, 0.5373108941114515, 0.53756577143336526, 0.53622748590635649, 0.53638501345469425, 0.53898592073605878, 0.53778592251224122, 0.53724861389483003, 0.53775801292281022, 0.53694562309885774]\n",
      "mean: 0.537337078608\n",
      "std: 0.00074035388879\n",
      "+-XGB_1.5_hey results saved!\n"
     ]
    },
    {
     "data": {
      "text/plain": [
       "378"
      ]
     },
     "execution_count": 16,
     "metadata": {},
     "output_type": "execute_result"
    }
   ],
   "source": [
    "use_columns = [\n",
    "\"gender\",\n",
    "\"height\",\n",
    "\"weight\",\n",
    "\"ap_hi\",\n",
    "\"ap_lo\",\n",
    "\"cholesterol\",\n",
    "\"active_fair\",\n",
    "\"smoke_restored\",\n",
    "\"alco_restored\",\n",
    "\"height_mul_log_gluc\",\n",
    "\"BMI\",\n",
    "\"age_group\",\n",
    "\"cholesterol_div_log_gluc\",\n",
    "\"gluc_mul_log_age\",\n",
    "'age_dif2',\n",
    "'ap_lo_mul_log_ap_hi'\n",
    "]\n",
    "model_name = '+-XGB_1.5_hey'\n",
    "params = {\n",
    "     'colsample_bytree': 0.875,\n",
    "     'gamma': 0.05,\n",
    "     'learning_rate': 0.02,\n",
    "     'max_depth': 5,\n",
    "     'min_child_weight': 5,\n",
    "     'n_estimators': 369,\n",
    "    #'scale_pos_weight': 1.0008,\n",
    "\n",
    "     'reg_alpha': 0,\n",
    "     'reg_lambda': 10,\n",
    "     'subsample': 0.7,\n",
    "    \n",
    "    'n_jobs': -1,\n",
    "    'random_state': 1223,\n",
    "    'silent': True,\n",
    "}\n",
    "model = xgb.XGBClassifier(**params)\n",
    "utils.execute_model(model,\n",
    "              X_train[use_columns],\n",
    "              y_train,\n",
    "              X_test[use_columns],\n",
    "              model_name=model_name,\n",
    "              n_splits=0,\n",
    "              n_folds=10,\n",
    "              stratification_groups=strat,\n",
    "             )\n",
    "gc.collect()\n",
    "\n",
    "# 10 folds logloss:\n",
    "# [0.53731990653713735, 0.5371451460103317, 0.53759305584367933, 0.53649916905123263, 0.5365669149833473, 0.53913942057634634, 0.53802636138177329, 0.53734196102539478, 0.53772344060100696, 0.53709262123337387]\n",
    "# mean: 0.537444799724 7387 7372 7383 7381 7355 7363 7404\n",
    "\n",
    "# 7329\n",
    "# std: 0.000722112840278"
   ]
  },
  {
   "cell_type": "code",
   "execution_count": 17,
   "metadata": {
    "collapsed": false
   },
   "outputs": [
    {
     "name": "stdout",
     "output_type": "stream",
     "text": [
      "\n",
      "10 folds logloss:\n",
      "[0.53652132170002453, 0.53853172703366781, 0.53701626663763691, 0.53575467657581621, 0.53640585688004316, 0.53786365939736092, 0.53793720902855335, 0.53698934633880691, 0.53792219387713891, 0.53754400077483155]\n",
      "mean: 0.537248625824\n",
      "std: 0.000814373004508\n",
      "+-XGB_hist_last_hey results saved!\n"
     ]
    },
    {
     "data": {
      "text/plain": [
       "91"
      ]
     },
     "execution_count": 17,
     "metadata": {},
     "output_type": "execute_result"
    }
   ],
   "source": [
    "use_columns = [\n",
    "# \"gender\",\n",
    "# \"height\",\n",
    "# \"weight\",\n",
    "# \"ap_hi\",\n",
    "# \"ap_lo\",\n",
    "# \"cholesterol\",\n",
    "# \"active_fair\",\n",
    "# \"smoke_restored\",\n",
    "# \"alco_restored\",\n",
    "# \"height_mul_log_gluc\",\n",
    "# \"BMI\",\n",
    "# \"age_group\",\n",
    "# \"cholesterol_div_log_gluc\",\n",
    "# \"gluc_mul_log_age\",\n",
    "# 'age_dif2',\n",
    "# 'ap_lo_mul_log_ap_hi'\n",
    "    \n",
    "#     \"gender\",\n",
    "# \"ap_hi\",\n",
    "# \"ap_lo\",\n",
    "# \"cholesterol\",\n",
    "# \"active_fair\",\n",
    "# \"smoke_restored\",\n",
    "# \"alco_restored\",\n",
    "# \"height_mul_log_cholesterol\",\n",
    "# \"height_mul_log_gluc\",\n",
    "# \"BMI\",\n",
    "# \"age_group\",\n",
    "# \"cholesterol_div_log_gluc\",\n",
    "# \"gluc_mul_log_age\",\n",
    "# \"ap_hi_mul_weight\",\n",
    "# \"age_dif2\",\n",
    "# 'ap_lo_mul_log_ap_hi',\n",
    "# 'age_group_div_height',\n",
    "# 'age_group_mul_log_MAP'\n",
    "    \n",
    "    'gender',\n",
    "'ap_hi',\n",
    "'ap_lo',\n",
    "'cholesterol',\n",
    "'active_fair',\n",
    "'smoke_restored',\n",
    "'alco_restored',\n",
    "'height_mul_log_cholesterol',\n",
    "'height_mul_log_gluc',\n",
    "'BMI',\n",
    "'age_group',\n",
    "'cholesterol_div_log_gluc',\n",
    "'gluc_mul_log_age',\n",
    "'age_dif2',\n",
    "'ap_lo_mul_log_ap_hi',\n",
    "'age_group_div_height',\n",
    "'age_group_mul_log_MAP',\n",
    "'cholesterol_div_ap_hi',\n",
    "'ap_hi_mul_log_gluc',\n",
    "'BMI_div_ap_hi',\n",
    "'BMI_div_log_age',\n",
    "# 'gluc',\n",
    "'gluc_mul_height',\n",
    "]\n",
    "model_name = '+-XGB_hist_last_hey'\n",
    "params = {\n",
    "     'colsample_bytree': 0.95,\n",
    "     'gamma': 0.55,\n",
    "     'learning_rate': 0.02,\n",
    "     'max_depth': 5,\n",
    "     'min_child_weight': 3,\n",
    "     'n_estimators': 392,\n",
    "     'reg_alpha': 0,\n",
    "     'reg_lambda': 0.4,\n",
    "     'subsample': 0.85,\n",
    "    \n",
    "    #'scale_pos_weight': 1.0008,\n",
    "\n",
    "    'tree_method': 'hist',\n",
    "    'grow_policy': 'lossguide',\n",
    "    \n",
    "    'n_jobs': 4,\n",
    "    'random_state': 2222,\n",
    "    'silent': True,\n",
    "}\n",
    "utils.execute_model(xgb.XGBClassifier(**params),\n",
    "              X_train[use_columns],\n",
    "              y_train,\n",
    "              X_test[use_columns],\n",
    "              model_name=model_name,\n",
    "              n_splits=0,\n",
    "              n_folds=10,\n",
    "              stratification_groups=strat,\n",
    "             )\n",
    "gc.collect()\n",
    "# 10 folds logloss:\n",
    "# [0.53757190997207693, 0.5380473325125551, 0.53740657876655074, 0.53637490868959747, 0.53654954023473578, 0.53888017941311606, 0.53783108141170444, 0.53687143028967788, 0.53758322567055628, 0.53653519701878949]\n",
    "# mean: 0.537365138398\n",
    "# std: 0.000751543774796\n",
    "\n",
    "# 10 folds logloss:\n",
    "# [0.53652502003303926, 0.53822653738835646, 0.53701765458617179, 0.53608297558267504, 0.53673609970384017, 0.53826651063431563, 0.53853680535003579, 0.53728310895360654, 0.53718299642914946, 0.53730986089232202]\n",
    "# mean: 0.537316756955\n",
    "# std: 0.000762431052301"
   ]
  },
  {
   "cell_type": "code",
   "execution_count": 18,
   "metadata": {
    "collapsed": false
   },
   "outputs": [
    {
     "name": "stdout",
     "output_type": "stream",
     "text": [
      "\n",
      "10 folds logloss:\n",
      "[0.53735667601641068, 0.53651338825631978, 0.53730000980301718, 0.53641026389851232, 0.53707447720078783, 0.53868050722776184, 0.53849308880150426, 0.5377645754844903, 0.53685784031652872, 0.53773113909775949]\n",
      "mean: 0.53741819661\n",
      "std: 0.000724654004672\n",
      "+-XGB_5++_hey results saved!\n"
     ]
    },
    {
     "data": {
      "text/plain": [
       "42"
      ]
     },
     "execution_count": 18,
     "metadata": {},
     "output_type": "execute_result"
    }
   ],
   "source": [
    "use_columns = [\n",
    "\"gender\",\n",
    "\"height\",\n",
    "\"weight\",\n",
    "\"ap_hi\",\n",
    "\"ap_lo\",\n",
    "\"cholesterol\",\n",
    "\"height_div_ap_lo\",\n",
    "\"active_fair\",\n",
    "\"smoke_restored\",\n",
    "\"alco_restored\",\n",
    "\"height_mul_log_cholesterol\",\n",
    "\"height_mul_log_gluc\",\n",
    "\"BMI\",\n",
    "\"age_group\",\n",
    "\"cholesterol_div_log_gluc\",\n",
    "\"gluc_mul_log_age\",\n",
    "\"ap_hi_mul_weight\",\n",
    "]\n",
    "\n",
    "model_name = '+-XGB_5++_hey'\n",
    "params = {\n",
    "     'colsample_bytree': 0.875,\n",
    "     'gamma': 0.05,\n",
    "     'learning_rate': 0.02,\n",
    "     'max_depth': 5,\n",
    "     'min_child_weight': 5,\n",
    "     'n_estimators': 369,\n",
    "    #'scale_pos_weight': 1.0008,\n",
    "\n",
    "     'reg_alpha': 0,\n",
    "     'reg_lambda': 10,\n",
    "     'subsample': 0.7,\n",
    "    \n",
    "    'n_jobs': -1,\n",
    "    'random_state': 5555,\n",
    "    'silent': True,\n",
    "}\n",
    "utils.execute_model(xgb.XGBClassifier(**params),\n",
    "              X_train[use_columns],\n",
    "              y_train,\n",
    "              X_test[use_columns],\n",
    "              model_name=model_name,\n",
    "              n_splits=0,\n",
    "              n_folds=10,\n",
    "              stratification_groups=strat,\n",
    "             )\n",
    "gc.collect()"
   ]
  },
  {
   "cell_type": "code",
   "execution_count": 19,
   "metadata": {
    "collapsed": false
   },
   "outputs": [
    {
     "name": "stdout",
     "output_type": "stream",
     "text": [
      "\n",
      "10 folds logloss:\n",
      "[0.53661436704239829, 0.53763204853848523, 0.53667955237596443, 0.53548566612412907, 0.53649631879979898, 0.53876049277591409, 0.53812302005611234, 0.53747629965599164, 0.53686211045986598, 0.53713116826364737]\n",
      "mean: 0.537126104409\n",
      "std: 0.000875348633\n",
      "+-XGB_11.5_hey results saved!\n"
     ]
    },
    {
     "data": {
      "text/plain": [
       "92"
      ]
     },
     "execution_count": 19,
     "metadata": {},
     "output_type": "execute_result"
    }
   ],
   "source": [
    "use_columns = [\n",
    "\"gender\",\n",
    "\"ap_hi\",\n",
    "\"ap_lo\",\n",
    "\"cholesterol\",\n",
    "\"active_fair\",\n",
    "\"smoke_restored\",\n",
    "\"alco_restored\",\n",
    "\"height_mul_log_cholesterol\",\n",
    "\"height_mul_log_gluc\",\n",
    "\"BMI\",\n",
    "\"age_group\",\n",
    "\"cholesterol_div_log_gluc\",\n",
    "\"gluc_mul_log_age\",\n",
    "\"ap_hi_mul_weight\",\n",
    "\"age_dif2\",\n",
    "'ap_lo_mul_log_ap_hi',\n",
    "'age_group_div_height',\n",
    "'age_group_mul_log_MAP'\n",
    "]\n",
    "model_name = '+-XGB_11.5_hey'\n",
    "params = {\n",
    "     'colsample_bytree': 0.875,\n",
    "     'gamma': 0.05,\n",
    "     'learning_rate': 0.02,\n",
    "     'max_depth': 5,\n",
    "     'min_child_weight': 5,\n",
    "     'n_estimators': 369,\n",
    "    \n",
    "    #'scale_pos_weight': 1.0008,\n",
    "\n",
    "     'reg_alpha': 0,\n",
    "     'reg_lambda': 10,\n",
    "     'subsample': 0.7,\n",
    "    \n",
    "    'n_jobs': -1,\n",
    "    'random_state': 1223,\n",
    "    'silent': True,\n",
    "}\n",
    "utils.execute_model(xgb.XGBClassifier(**params),\n",
    "              X_train[use_columns],\n",
    "              y_train,\n",
    "              X_test[use_columns],\n",
    "              model_name=model_name,\n",
    "              n_splits=0,\n",
    "              n_folds=10,\n",
    "              stratification_groups=strat,\n",
    "             )\n",
    "gc.collect()"
   ]
  },
  {
   "cell_type": "code",
   "execution_count": 20,
   "metadata": {
    "collapsed": false
   },
   "outputs": [
    {
     "name": "stdout",
     "output_type": "stream",
     "text": [
      "\n",
      "10 folds logloss:\n",
      "[0.53659697523131511, 0.53716205685734852, 0.53646771445689923, 0.53555430732682074, 0.53702334168876376, 0.53848326200678476, 0.53795099132916557, 0.53755935381168218, 0.53713108845448565, 0.53728859777922156]\n",
      "mean: 0.537121768894\n",
      "std: 0.000770202248041\n",
      "+-XGB_10++_hey results saved!\n"
     ]
    },
    {
     "data": {
      "text/plain": [
       "91"
      ]
     },
     "execution_count": 20,
     "metadata": {},
     "output_type": "execute_result"
    }
   ],
   "source": [
    "use_columns = [\n",
    "'gender',\n",
    "'height',\n",
    "'weight',\n",
    "'ap_hi',\n",
    "'ap_lo',\n",
    "'cholesterol',\n",
    "'active_fair',\n",
    "'smoke_restored',\n",
    "'alco_restored',\n",
    "'height_mul_log_cholesterol',\n",
    "'height_mul_log_gluc',\n",
    "'BMI',\n",
    "'age_group',\n",
    "'cholesterol_div_log_gluc',\n",
    "'gluc_mul_log_age',\n",
    "'ap_hi_mul_weight',\n",
    "'age_dif',\n",
    "'ap_lo_mul_log_ap_hi',\n",
    "'age_group_div_height',\n",
    "'age_group_mul_log_MAP',\n",
    "]\n",
    "model_name = '+-XGB_10++_hey'\n",
    "params = {\n",
    "     'colsample_bytree': 0.875,\n",
    "     'gamma': 0.05,\n",
    "     'learning_rate': 0.02,\n",
    "     'max_depth': 5,\n",
    "     'min_child_weight': 5,\n",
    "     'n_estimators': 369,\n",
    "    \n",
    "    #'scale_pos_weight': 1.0008,\n",
    "\n",
    "     'reg_alpha': 0,\n",
    "     'reg_lambda': 10,\n",
    "     'subsample': 0.7,\n",
    "    \n",
    "    'n_jobs': -1,\n",
    "    'random_state': 1223,\n",
    "    'silent': True,\n",
    "}\n",
    "utils.execute_model(xgb.XGBClassifier(**params),\n",
    "              X_train[use_columns],\n",
    "              y_train,\n",
    "              X_test[use_columns],\n",
    "              model_name=model_name,\n",
    "              n_splits=0,\n",
    "              n_folds=10,\n",
    "              stratification_groups=strat,\n",
    "             )\n",
    "gc.collect()"
   ]
  },
  {
   "cell_type": "code",
   "execution_count": 48,
   "metadata": {
    "collapsed": false
   },
   "outputs": [
    {
     "name": "stdout",
     "output_type": "stream",
     "text": [
      "\n",
      "10 folds logloss:\n",
      "[0.53642714099202538, 0.53811459261772754, 0.53708974684511568, 0.53582265335425983, 0.53616242744154852, 0.53818200963393326, 0.53792698418081897, 0.53719790817843127, 0.53785361626253447, 0.53679881485631686]\n",
      "mean: 0.537157589436\n",
      "std: 0.000805147038272\n",
      "+-XGB_15_hey results saved!\n"
     ]
    },
    {
     "data": {
      "text/plain": [
       "96"
      ]
     },
     "execution_count": 48,
     "metadata": {},
     "output_type": "execute_result"
    }
   ],
   "source": [
    "use_columns = [\n",
    "'gender',\n",
    "'ap_hi',\n",
    "'ap_lo',\n",
    "'cholesterol',\n",
    "'active_fair',\n",
    "'smoke_restored',\n",
    "'alco_restored',\n",
    "'height_mul_log_cholesterol',\n",
    "'height_mul_log_gluc',\n",
    "'BMI',\n",
    "'age_group',\n",
    "'cholesterol_div_log_gluc',\n",
    "'gluc_mul_log_age',\n",
    "'age_dif2',\n",
    "'ap_lo_mul_log_ap_hi',\n",
    "'age_group_div_height',\n",
    "'age_group_mul_log_MAP',\n",
    "'cholesterol_div_ap_hi',\n",
    "'ap_hi_mul_log_gluc',\n",
    "'BMI_div_ap_hi',\n",
    "'BMI_div_log_age',\n",
    "# 'gluc',\n",
    "'gluc_mul_height',\n",
    "\n",
    "# 'cholesterol_div_weight',\n",
    "# 'ap_hi_div_ap_lo',\n",
    "# 'height_mul_log_ap_hi',\n",
    "# 'BMI_div_cholesterol',\n",
    "# 'cholesterol_div_log_ap_lo',\n",
    "#     'BMI_1',\n",
    "#     'age_group_div_log_gluc',\n",
    "]\n",
    "model_name = '+-XGB_15_hey'\n",
    "params = {\n",
    "     'colsample_bytree': 0.875,\n",
    "     'gamma': 0.05,\n",
    "     'learning_rate': 0.02,\n",
    "     'max_depth': 5,\n",
    "     'min_child_weight': 5,\n",
    "     'n_estimators': 369,\n",
    "    'scale_pos_weight': 1.0008,\n",
    "\n",
    "     'reg_alpha': 0,\n",
    "     'reg_lambda': 10,\n",
    "     'subsample': 0.7,\n",
    "    \n",
    "    'n_jobs': -1,\n",
    "    'random_state': 1223,\n",
    "    'silent': True,\n",
    "}\n",
    "utils.execute_model(xgb.XGBClassifier(**params),\n",
    "              X_train[use_columns],\n",
    "              y_train,\n",
    "              X_test[use_columns],\n",
    "              model_name=model_name,\n",
    "              n_splits=0,\n",
    "              n_folds=10,\n",
    "              stratification_groups=strat,\n",
    "             )\n",
    "gc.collect()\n",
    "# 10 folds logloss:\n",
    "# [0.53646016616605852, 0.53819110210055832, 0.53700349915524548, 0.53586434324496812, 0.53614972118656656, 0.53817725547795814, 0.537725036665749, 0.53720775463564263, 0.53785448705315742, 0.53667016882603535]\n",
    "# mean: 0.537130353451\n",
    "# std: 0.000796657672578\n",
    "\n",
    "# 10 folds logloss:\n",
    "# [0.53646141939657832, 0.53815644988699762, 0.53697043853302318, 0.53582988165501011, 0.536220359169709, 0.53827735193706205, 0.537880909573071, 0.53717420261473092, 0.5379235707759743, 0.53683144369524272]\n",
    "# mean: 0.537172602724\n",
    "# std: 0.000814050947736"
   ]
  },
  {
   "cell_type": "code",
   "execution_count": 22,
   "metadata": {
    "collapsed": false
   },
   "outputs": [
    {
     "name": "stdout",
     "output_type": "stream",
     "text": [
      "\n",
      "10 folds logloss:\n",
      "[0.53867506741042592, 0.54054023688199926, 0.53756564577900212, 0.53611703432271596, 0.53845780134205867, 0.54029530102726975, 0.53962356360469177, 0.53850994461364055, 0.53906353748760116, 0.53857616217669435]\n",
      "mean: 0.538742429465\n",
      "std: 0.00122342934658\n",
      "XGB_16_hey results saved!\n"
     ]
    },
    {
     "data": {
      "text/plain": [
       "142"
      ]
     },
     "execution_count": 22,
     "metadata": {},
     "output_type": "execute_result"
    }
   ],
   "source": [
    "use_columns = [\n",
    "'gender',\n",
    "'ap_hi',\n",
    "'ap_lo',\n",
    "'cholesterol',\n",
    "'active_fair',\n",
    "'smoke_restored',\n",
    "'alco_restored',\n",
    "'height_mul_log_cholesterol',\n",
    "'height_mul_log_gluc',\n",
    "'BMI',\n",
    "'age_group',\n",
    "'cholesterol_div_log_gluc',\n",
    "'gluc_mul_log_age',\n",
    "'age_dif2',\n",
    "'ap_lo_mul_log_ap_hi',\n",
    "'age_group_div_height',\n",
    "'age_group_mul_log_MAP',\n",
    "'cholesterol_div_ap_hi',\n",
    "'ap_hi_mul_log_gluc',\n",
    "'BMI_div_ap_hi',\n",
    "'BMI_div_log_age',\n",
    "# 'gluc',\n",
    "'gluc_mul_height',\n",
    "\n",
    "# 'cholesterol_div_weight',\n",
    "# 'ap_hi_div_ap_lo',\n",
    "# 'height_mul_log_ap_hi',\n",
    "# 'BMI_div_cholesterol',\n",
    "# 'cholesterol_div_log_ap_lo',\n",
    "#     'MAP_div_ap_lo',\n",
    "#     'ap_dif',\n",
    "#     'BMI_3'\n",
    "]\n",
    "model_name = 'XGB_16_hey'\n",
    "params = {\n",
    "     'colsample_bytree': 0.875,\n",
    "     'gamma': 0.05,\n",
    "     'learning_rate': 0.02,\n",
    "     'max_depth': 5,\n",
    "     'min_child_weight': 5,\n",
    "     'n_estimators': 369,\n",
    "    #'scale_pos_weight': 1.0008,\n",
    "\n",
    "     'reg_alpha': 0,\n",
    "     'reg_lambda': 10,\n",
    "     'subsample': 0.7,\n",
    "    \n",
    "    'n_jobs': -1,\n",
    "    'random_state': 1223,\n",
    "    'silent': True,\n",
    "}\n",
    "\n",
    "X1 = X_train[use_columns].copy()\n",
    "X2 = X_test[use_columns].copy()\n",
    "\n",
    "for m in ['XGB_10',\n",
    " 'XGB_10+',\n",
    " 'XGB_12+',\n",
    " 'XGB_13+',\n",
    " 'XGB_14',\n",
    " 'XGB_1_new2',\n",
    " 'XGB_1_new3+',\n",
    " 'XGB_2hist_new',\n",
    " 'XGB_5',\n",
    " 'XGB_5+']:\n",
    "\n",
    "    tr_pr, ts_pr, _, _ = utils.load_model(m)\n",
    "    X1[m] = tr_pr\n",
    "    X2[m] = ts_pr\n",
    "utils.execute_model(xgb.XGBClassifier(**params),\n",
    "              X1,\n",
    "              y_train,\n",
    "              X2,\n",
    "              model_name=model_name,\n",
    "              n_splits=0,\n",
    "              n_folds=10,\n",
    "              stratification_groups=strat,\n",
    "             )\n",
    "gc.collect()"
   ]
  },
  {
   "cell_type": "code",
   "execution_count": 23,
   "metadata": {
    "collapsed": false
   },
   "outputs": [
    {
     "name": "stdout",
     "output_type": "stream",
     "text": [
      "\n",
      "10 folds logloss:\n",
      "[0.53668302129426326, 0.53854883743245474, 0.53721547074154286, 0.5359349155186991, 0.53687686452697514, 0.53893018930255421, 0.5376679075781392, 0.53769615771569002, 0.53812062157592333, 0.53708290951781379]\n",
      "mean: 0.53747568952\n",
      "std: 0.00085741449589\n",
      "LGB_1_hey results saved!\n"
     ]
    },
    {
     "data": {
      "text/plain": [
       "102"
      ]
     },
     "execution_count": 23,
     "metadata": {},
     "output_type": "execute_result"
    }
   ],
   "source": [
    "model_name = 'LGB_1_hey'\n",
    "params = {\n",
    "    'colsample_bytree': 0.7,\n",
    "     'learning_rate': 0.01,\n",
    "     'min_child_weight': 4,\n",
    "     'n_estimators': 666,\n",
    "     'num_leaves': 32,\n",
    "     'reg_alpha': 0.7,\n",
    "     'reg_lambda': 1.0,\n",
    "     'subsample': 0.9,\n",
    "       \n",
    "    'nthread': 4,\n",
    "    'seed': 8718,\n",
    "    'silent': True,\n",
    "}\n",
    "use_columns = [\n",
    "'gender',\n",
    "'ap_hi',\n",
    "'ap_lo',\n",
    "'cholesterol',\n",
    "'active_fair',\n",
    "'smoke_restored',\n",
    "'alco_restored',\n",
    "'height_mul_log_cholesterol',\n",
    "'height_mul_log_gluc',\n",
    "'BMI',\n",
    "'age_group',\n",
    "'cholesterol_div_log_gluc',\n",
    "'gluc_mul_log_age',\n",
    "'age_dif2',\n",
    "'ap_lo_mul_log_ap_hi',\n",
    "'age_group_div_height',\n",
    "'age_group_mul_log_MAP',\n",
    "'cholesterol_div_ap_hi',\n",
    "'ap_hi_mul_log_gluc',\n",
    "'BMI_div_ap_hi',\n",
    "'BMI_div_log_age',\n",
    "'gluc_mul_height',\n",
    "]\n",
    "utils.execute_model(lgb.LGBMClassifier(**params),\n",
    "              X_train[use_columns],\n",
    "              y_train,\n",
    "              X_test[use_columns],\n",
    "              model_name=model_name,\n",
    "              n_splits=0,\n",
    "              n_folds=10,\n",
    "              stratification_groups=strat,\n",
    "             )\n",
    "gc.collect()\n",
    "# 10 folds logloss:\n",
    "# [0.53646016616605852, 0.53819110210055832, 0.53700349915524548, 0.53586434324496812, 0.53614972118656656, 0.53817725547795814, 0.537725036665749, 0.53720775463564263, 0.53785448705315742, 0.53667016882603535]\n",
    "# mean: 0.537130353451\n",
    "# std: 0.000796657672578"
   ]
  },
  {
   "cell_type": "code",
   "execution_count": null,
   "metadata": {
    "collapsed": true
   },
   "outputs": [],
   "source": []
  },
  {
   "cell_type": "code",
   "execution_count": null,
   "metadata": {
    "collapsed": true
   },
   "outputs": [],
   "source": []
  },
  {
   "cell_type": "code",
   "execution_count": null,
   "metadata": {
    "collapsed": true
   },
   "outputs": [],
   "source": []
  },
  {
   "cell_type": "code",
   "execution_count": null,
   "metadata": {
    "collapsed": true
   },
   "outputs": [],
   "source": []
  },
  {
   "cell_type": "code",
   "execution_count": null,
   "metadata": {
    "collapsed": true
   },
   "outputs": [],
   "source": []
  },
  {
   "cell_type": "code",
   "execution_count": null,
   "metadata": {
    "collapsed": true
   },
   "outputs": [],
   "source": []
  },
  {
   "cell_type": "code",
   "execution_count": null,
   "metadata": {
    "collapsed": true
   },
   "outputs": [],
   "source": []
  },
  {
   "cell_type": "markdown",
   "metadata": {},
   "source": [
    "# KERAS models"
   ]
  },
  {
   "cell_type": "code",
   "execution_count": 11,
   "metadata": {
    "collapsed": false
   },
   "outputs": [
    {
     "name": "stderr",
     "output_type": "stream",
     "text": [
      "Using Theano backend.\n"
     ]
    }
   ],
   "source": [
    "from keras.layers.core import Dense, Dropout\n",
    "from keras.layers.advanced_activations import LeakyReLU\n",
    "from keras.models import Sequential\n",
    "from keras.optimizers import Adamax\n",
    "import pandas as pd\n",
    "\n",
    "\n",
    "class KerasModel(object):\n",
    "    def __init__(self,\n",
    "                 var_num,\n",
    "                 epochs=70,\n",
    "                 learn_rate=0.1,\n",
    "                 config=None,\n",
    "                 batch_size=512,\n",
    "                 verbose=0,\n",
    "                 validation_split=0.2,\n",
    "                 loss=\"binary_crossentropy\"):\n",
    "\n",
    "        self.epochs = epochs\n",
    "        self.batch_size = batch_size\n",
    "        self.verbose = verbose\n",
    "        self.validation_split = validation_split\n",
    "        \n",
    "        self.model = Sequential()\n",
    "        model = self.model\n",
    "        \n",
    "        if config is None:\n",
    "            config =[(var_num, 0.0)]\n",
    "        else:\n",
    "            config = config.copy()\n",
    "            \n",
    "        n, dp = config.pop(0)\n",
    "\n",
    "        model.add(Dense(n, input_dim=var_num, kernel_initializer='uniform'))\n",
    "        model.add(LeakyReLU())\n",
    "        if 0 < dp < 1:\n",
    "            model.add(Dropout(dp))\n",
    "        \n",
    "        while config:\n",
    "            n, dp = config.pop(0)\n",
    "            model.add(Dense(n, kernel_initializer='uniform'))\n",
    "            model.add(LeakyReLU())\n",
    "            if 0 < dp < 1:\n",
    "                model.add(Dropout(dp))\n",
    "\n",
    "\n",
    "        model.add(Dense(1, activation='sigmoid'))\n",
    "        opt = Adamax(lr=learn_rate)\n",
    "\n",
    "        model.compile(loss=loss, optimizer=opt, metrics=['accuracy'])\n",
    "\n",
    "\n",
    "    def fit(self, X, y, sample_weight=None, callbacks=[]):\n",
    "        process_X = X.values if hasattr(X, 'iloc') else X\n",
    "        process_y = y\n",
    "        return self.model.fit(process_X, process_y, batch_size=self.batch_size,\n",
    "                       epochs=self.epochs, verbose=self.verbose,\n",
    "                       sample_weight=sample_weight,\n",
    "                       callbacks=callbacks,\n",
    "                       validation_split=self.validation_split,\n",
    "                       shuffle=True)\n",
    "\n",
    "    def predict_proba(self, X):\n",
    "        process_x = X.values if hasattr(X, 'iloc') else X\n",
    "        result  = self.model.predict(process_x)\n",
    "        classone_probs = result\n",
    "        classzero_probs = 1.0 - classone_probs\n",
    "        return np.hstack((classzero_probs, classone_probs))\n",
    "#         return result\n",
    "    \n",
    "    def predict(self, X):\n",
    "        return np.argmax(self.predict_proba(X), axis=1)"
   ]
  },
  {
   "cell_type": "code",
   "execution_count": 13,
   "metadata": {
    "collapsed": false
   },
   "outputs": [
    {
     "name": "stdout",
     "output_type": "stream",
     "text": [
      "\n",
      "10 folds logloss:\n",
      "[0.53914003932664611, 0.53974235800686543, 0.54045273288346729, 0.53872986886558294, 0.53718777955037189, 0.54068484223042579, 0.53823223962626177, 0.53851067567761335, 0.53929717428819057, 0.53986375673608011]\n",
      "mean: 0.539184146719\n",
      "std: 0.00101000637534\n",
      "+-KERAS_3_hey results saved!\n"
     ]
    },
    {
     "data": {
      "text/plain": [
       "(0.5391841467191506, None)"
      ]
     },
     "execution_count": 13,
     "metadata": {},
     "output_type": "execute_result"
    }
   ],
   "source": [
    "use_columns = [\n",
    "'gender',\n",
    "'height',\n",
    "'weight',\n",
    "'ap_hi',\n",
    "'ap_lo',\n",
    "'cholesterol',\n",
    "'active_restored',\n",
    "'smoke_restored',\n",
    "'alco_restored',\n",
    "'height_mul_log_cholesterol',\n",
    "'height_mul_log_gluc',\n",
    "'BMI',\n",
    "# 'age_group',\n",
    "'cholesterol_div_log_gluc',\n",
    "'gluc_mul_log_age',\n",
    "'ap_hi_mul_weight',\n",
    "'age_dif2',\n",
    "'ap_lo_mul_log_ap_hi',\n",
    "'age_group_div_height',\n",
    "'age_group_mul_log_MAP',\n",
    "]\n",
    "\n",
    "X1 = X_train[use_columns]\n",
    "X2 = X_test[use_columns]\n",
    "\n",
    "X = pd.concat((X1,X2), axis=0)\n",
    "\n",
    "from sklearn.preprocessing import StandardScaler, MinMaxScaler, RobustScaler\n",
    "scaler = StandardScaler().fit(X)\n",
    "X1 = pd.DataFrame(scaler.transform(X1)) #.values\n",
    "X2 = pd.DataFrame(scaler.transform(X2)) #.values\n",
    "\n",
    "def create(x1, x2):\n",
    "    config = [(64,0.075), (64,0.025)]\n",
    "    return KerasModel(var_num=len(use_columns),\n",
    "                   epochs=200,\n",
    "                   learn_rate=0.001,\n",
    "                   config=config,\n",
    "                   batch_size=1024,\n",
    "                   verbose=0,\n",
    "                   validation_split=0.0)\n",
    "utils.execute_model(None,\n",
    "              X1,\n",
    "              y_train,\n",
    "              X2,\n",
    "              model_name=\"+-KERAS_3_hey\",\n",
    "              n_splits=0,\n",
    "              n_folds=10,\n",
    "              stratification_groups=strat,\n",
    "              create_callback=create\n",
    "             )"
   ]
  },
  {
   "cell_type": "code",
   "execution_count": 49,
   "metadata": {
    "collapsed": false
   },
   "outputs": [
    {
     "name": "stdout",
     "output_type": "stream",
     "text": [
      "\n",
      "+-KERAS_3_hey\n",
      "0.539184252718\t0.577349632449\t0.539184252718\t0.577349632449\n",
      "\n",
      "+-XGB_11.5_hey\n",
      "0.537125919672\t0.577349632449\t0.53727601432\t0.577349632449\n",
      "\n",
      "+-XGB_1.5_hey\n",
      "0.537336974965\t0.577349632449\t0.537060496897\t0.577349632449\n",
      "\n",
      "+-XGB_hist_last_hey\n",
      "0.537248466552\t0.577349632449\t0.53690891588\t0.577349632449\n",
      "\n",
      "+-XGB_5++_hey\n",
      "0.537417962421\t0.577349632449\t0.536878107751\t0.577349632449\n",
      "\n",
      "XGB_9_new\n",
      "0.537758655716\t0.538017158735\t0.536843450618\t0.566322933484\n",
      "\n",
      "+-XGB_10++_hey\n",
      "0.537121476251\t0.577349632449\t0.536837582151\t0.567799645983\n",
      "\n",
      "+-XGB_15_hey\n",
      "0.537157448477\t0.577349632449\t0.536826235386\t0.568928763556\n",
      "\n",
      "LGB_1_hey\n",
      "0.537475547952\t0.577349632449\t0.536818063274\t0.569819740564\n"
     ]
    }
   ],
   "source": [
    "models = [\n",
    "    '+-KERAS_3_hey',\n",
    "    '+-XGB_11.5_hey',\n",
    "    '+-XGB_1.5_hey',\n",
    "    '+-XGB_hist_last_hey',\n",
    "    '+-XGB_5++_hey',\n",
    "    'XGB_9_new',\n",
    "    '+-XGB_10++_hey',\n",
    "    '+-XGB_15_hey',\n",
    "    'LGB_1_hey',\n",
    "    \n",
    "#      'KERAS_2_new2', 'XGB_11', 'XGB_1_new2', 'XGB_2hist_new', 'LGB_1_new', 'XGB_5', 'XGB_9',\n",
    "    \n",
    "#      'KERAS_3', 'XGB_11', 'XGB_1_new2', 'XGB_2hist_new', 'XGB_5', 'XGB_9_new', 'XGB_10',\n",
    "#     'XGB_16_hey',\n",
    "         ]\n",
    "result = utils.merge_models(models, method='mean')\n",
    "pd.DataFrame(result).to_csv('merged_models.csv', index=False, header=False, sep=';') # 0.5430089\n",
    "\n",
    "# # Don't risk too much.\n",
    "result[test_3 & (result < 0.2)] = 0.2\n",
    "result[test_4 & (result < 0.2)] = 0.2\n",
    "# result[test_5 & (result < 0.2)] = 0.2\n",
    "# result[test_3 & (result > 0.8)] = 0.8\n",
    "# result[test_4 & (result > 0.8)] = 0.8\n",
    "result[test_5 & (result > 0.8)] = 0.8\n",
    "pd.DataFrame(result).to_csv('merged_models-corrected.csv', index=False, header=False, sep=';') # 0.5430089\n",
    "\n",
    "# t = pd.read_csv('test.csv', sep=';')\n",
    "# result[(X_test['ap_lo']!=t['ap_lo']) & (result < 0.15)] = 0.15\n",
    "# pd.DataFrame(result).to_csv('merged_models-corrected+.csv', index=False, header=False, sep=';') # 0.5430188"
   ]
  },
  {
   "cell_type": "code",
   "execution_count": 15,
   "metadata": {
    "collapsed": false
   },
   "outputs": [
    {
     "ename": "ZeroDivisionError",
     "evalue": "division by zero",
     "output_type": "error",
     "traceback": [
      "\u001b[0;31m------------------------------------------------------------\u001b[0m",
      "\u001b[0;31mZeroDivisionError\u001b[0m          Traceback (most recent call last)",
      "\u001b[0;32m<ipython-input-15-05c9758a9c21>\u001b[0m in \u001b[0;36m<module>\u001b[0;34m()\u001b[0m\n\u001b[0;32m----> 1\u001b[0;31m \u001b[1;36m1\u001b[0m\u001b[1;33m/\u001b[0m\u001b[1;36m0\u001b[0m\u001b[1;33m\u001b[0m\u001b[0m\n\u001b[0m",
      "\u001b[0;31mZeroDivisionError\u001b[0m: division by zero"
     ]
    }
   ],
   "source": [
    "1/0"
   ]
  },
  {
   "cell_type": "code",
   "execution_count": null,
   "metadata": {
    "collapsed": false
   },
   "outputs": [],
   "source": [
    "t = pd.read_csv('test.csv', sep=';')\n",
    "t.loc[(result<0.2 )&((X_test['ap_lo']!=t['ap_lo']))]"
   ]
  },
  {
   "cell_type": "code",
   "execution_count": null,
   "metadata": {
    "collapsed": false
   },
   "outputs": [],
   "source": [
    "X_test['BMI'].hist(bins=100)"
   ]
  },
  {
   "cell_type": "code",
   "execution_count": null,
   "metadata": {
    "collapsed": true
   },
   "outputs": [],
   "source": []
  },
  {
   "cell_type": "code",
   "execution_count": 26,
   "metadata": {
    "collapsed": false
   },
   "outputs": [
    {
     "name": "stdout",
     "output_type": "stream",
     "text": [
      "\n",
      "+-KERAS_3_hey\n",
      "0.539184252718\t0.577349632449\t0.539184252718\t0.577349632449\n",
      "\n",
      "+-XGB_11.5_hey\n",
      "0.537125919672\t0.577349632449\t0.53727601432\t0.577349632449\n",
      "\n",
      "+-XGB_1.5_hey\n",
      "0.537336974965\t0.577349632449\t0.537060496897\t0.577349632449\n",
      "\n",
      "+-XGB_hist_last_hey\n",
      "0.537248466552\t0.577349632449\t0.53690891588\t0.577349632449\n",
      "\n",
      "+-XGB_5++_hey\n",
      "0.537417962421\t0.577349632449\t0.536878107751\t0.577349632449\n",
      "\n",
      "XGB_9_new\n",
      "0.537758655716\t0.538017158735\t0.536843450618\t0.566322933484\n",
      "\n",
      "+-XGB_10++_hey\n",
      "0.537121476251\t0.577349632449\t0.536837582151\t0.567799645983\n",
      "\n",
      "+-XGB_15_hey\n",
      "0.537172452298\t0.577349632449\t0.536827877426\t0.568928763556\n",
      "\n",
      "LGB_1_hey\n",
      "0.537475547952\t0.577349632449\t0.536819543708\t0.569819740564\n"
     ]
    }
   ],
   "source": [
    "models = [\n",
    "    '+-KERAS_3_hey',\n",
    "    '+-XGB_11.5_hey',\n",
    "    '+-XGB_1.5_hey',\n",
    "    '+-XGB_hist_last_hey',\n",
    "    '+-XGB_5++_hey',\n",
    "    'XGB_9_new',\n",
    "    '+-XGB_10++_hey',\n",
    "    '+-XGB_15_hey',\n",
    "    'LGB_1_hey',\n",
    "]\n",
    "r0, r2 = utils.merge_models2(models, method='mean')\n",
    "# models = [\n",
    "#     'KERAS_2_new2', 'XGB_11', 'XGB_1_new2', 'XGB_2hist_new', 'LGB_1_new', 'XGB_5', 'XGB_9',\n",
    "# ]\n",
    "# r00, r22 = utils.merge_models2(models, method='mean')"
   ]
  },
  {
   "cell_type": "code",
   "execution_count": 33,
   "metadata": {
    "collapsed": false
   },
   "outputs": [
    {
     "name": "stdout",
     "output_type": "stream",
     "text": [
      "0.375 0.536813391444\n"
     ]
    }
   ],
   "source": [
    "t = pd.read_csv('train.csv', sep=';')\n",
    "best = 0\n",
    "best_score = 1\n",
    "for i in np.arange(0,0.5,0.005):\n",
    "    r3 = r2.copy()\n",
    "#     r3[((X_train['ap_lo']!=t['ap_lo'])) & (r3<i)]=i\n",
    "    r3[train_4 & (r3<i)]=i\n",
    "    \n",
    "    a = log_loss(y_train, r3)\n",
    "    if a < best_score:\n",
    "        best_score=a\n",
    "        best=i\n",
    "print(best, best_score)"
   ]
  },
  {
   "cell_type": "code",
   "execution_count": 32,
   "metadata": {
    "collapsed": false
   },
   "outputs": [
    {
     "name": "stdout",
     "output_type": "stream",
     "text": [
      "1.0 0.536819543708\n"
     ]
    }
   ],
   "source": [
    "t = pd.read_csv('train.csv', sep=';')\n",
    "best = 0\n",
    "best_score = 1\n",
    "for i in np.arange(1.0,0.5,-0.005):\n",
    "    r3 = r2.copy()\n",
    "#     r3[((X_train['ap_lo']!=t['ap_lo'])|(X_train['ap_hi']!=t['ap_hi'])) &(r3>i)]=i\n",
    "    r3[train_4 & (r3>i)]=i\n",
    "    a = log_loss(y_train, r3)\n",
    "    if a < best_score:\n",
    "        best_score=a\n",
    "        best=i\n",
    "print(best, best_score)"
   ]
  },
  {
   "cell_type": "code",
   "execution_count": 38,
   "metadata": {
    "collapsed": false
   },
   "outputs": [
    {
     "data": {
      "text/plain": [
       "0.53681970108690569"
      ]
     },
     "execution_count": 38,
     "metadata": {},
     "output_type": "execute_result"
    }
   ],
   "source": [
    "r3 = r2.copy()\n",
    "# r3[train_1&(r3>0.505)]=0.505\n",
    "# r3[test_3 & (r3 < 0.2)] = 0.2\n",
    "# r3[test_4 & (r3 < 0.2)] = 0.2\n",
    "# r3[test_5 & (r3 < 0.2)] = 0.2\n",
    "# r3[test_3 & (r3 > 0.8)] = 0.8\n",
    "# r3[test_4 & (r3 > 0.8)] = 0.8\n",
    "# r3[test_5 & (r3 > 0.8)] = 0.8\n",
    "log_loss(y_train, r3)"
   ]
  },
  {
   "cell_type": "code",
   "execution_count": null,
   "metadata": {
    "collapsed": false
   },
   "outputs": [],
   "source": [
    "X_train.loc[train_3&(r2<0.2)]"
   ]
  },
  {
   "cell_type": "code",
   "execution_count": null,
   "metadata": {
    "collapsed": false
   },
   "outputs": [],
   "source": [
    "r2[train_3&(r2<0.2)]"
   ]
  },
  {
   "cell_type": "code",
   "execution_count": null,
   "metadata": {
    "collapsed": false
   },
   "outputs": [],
   "source": [
    "X_test.loc[test_2]"
   ]
  },
  {
   "cell_type": "code",
   "execution_count": null,
   "metadata": {
    "collapsed": false
   },
   "outputs": [],
   "source": [
    "r0[test_3]"
   ]
  },
  {
   "cell_type": "code",
   "execution_count": 51,
   "metadata": {
    "collapsed": false
   },
   "outputs": [
    {
     "name": "stdout",
     "output_type": "stream",
     "text": [
      "\n",
      "+-KERAS_3_hey\n",
      "0.539184252718\t0.577349632449\t0.539184252718\t0.577349632449\n",
      "\n",
      "+-XGB_11.5_hey\n",
      "0.53712804872\t0.577349632449\t0.537275502801\t0.577349632449\n",
      "\n",
      "+-XGB_1.5_hey\n",
      "0.537348885274\t0.577349632449\t0.537064484006\t0.577349632449\n",
      "\n",
      "+-XGB_hist_last_hey\n",
      "0.537365260088\t0.577349632449\t0.536995256734\t0.577349632449\n",
      "\n",
      "+-XGB_5++_hey\n",
      "0.5374474216\t0.577349632449\t0.536958651131\t0.577349632449\n",
      "\n",
      "XGB_9_new\n",
      "0.537758655716\t0.538017158735\t0.536908682872\t0.566322933484\n",
      "\n",
      "+-XGB_10++_hey\n",
      "0.537162920365\t0.577349632449\t0.536895276291\t0.567799645983\n",
      "\n",
      "+-XGB_15_hey\n",
      "0.537130241705\t0.577349632449\t0.536863947454\t0.568928763556\n",
      "\n",
      "XGB_10+\n",
      "0.537193855056\t0.537648958464\t0.536870932848\t0.562947741617\n",
      "\n",
      "XGB_12+\n",
      "0.537164551952\t0.537551808943\t0.536875983198\t0.558557627109\n",
      "\n",
      "XGB_13+\n",
      "0.537218943044\t0.537574981347\t0.53687232649\t0.55523539621\n",
      "\n",
      "XGB_14\n",
      "0.537255606962\t0.537599952893\t0.536874751448\t0.552641197632\n",
      "\n",
      "XGB_16_hey\n",
      "0.537285707357\t0.577349632449\t0.536881727484\t0.554178786486\n",
      "\n",
      "XGB_1_new3+\n",
      "0.537300164785\t0.53765817062\t0.536890409097\t0.552105597519\n",
      "\n",
      "XGB_5+\n",
      "0.537490508711\t0.537989024063\t0.536894145553\t0.550412997208\n"
     ]
    }
   ],
   "source": [
    "models = [\n",
    "    'KERAS_3_hey',\n",
    "#     'XGB_11.5_hey',\n",
    "#     'XGB_1.5_hey',\n",
    "#     'XGB_hist_last_hey',\n",
    "#     'XGB_5++_hey',\n",
    "#     'XGB_9_new',\n",
    "#     'XGB_10++_hey',\n",
    "#     'XGB_15_hey',\n",
    "    \n",
    "#     '+-XGB_1.5_hey',\n",
    "#  '+-XGB_10++_hey',\n",
    "#  '+-XGB_11.5_hey',\n",
    "#  '+-XGB_15_hey',\n",
    "#  '+-XGB_hist_last_hey',\n",
    "#  'XGB_10+',\n",
    "#  'XGB_12+',\n",
    "#  'XGB_13+',\n",
    "#  'XGB_14',\n",
    "#  'XGB_16_hey',\n",
    "#  'XGB_1_new3+',\n",
    "#  'XGB_5',\n",
    "#  'XGB_5+'\n",
    "         ]\n",
    "result = utils.merge_models(models, method='mean')\n",
    "pd.DataFrame(result).to_csv('merged_models.csv', index=False, header=False, sep=';')"
   ]
  },
  {
   "cell_type": "code",
   "execution_count": 28,
   "metadata": {
    "collapsed": true
   },
   "outputs": [],
   "source": [
    "# 0.536964010575\t0.537253961124 = 0.5430002 less cleaning, more cleaning - 0.5429488"
   ]
  },
  {
   "cell_type": "code",
   "execution_count": null,
   "metadata": {
    "collapsed": true
   },
   "outputs": [],
   "source": []
  },
  {
   "cell_type": "code",
   "execution_count": null,
   "metadata": {
    "collapsed": true
   },
   "outputs": [],
   "source": []
  },
  {
   "cell_type": "code",
   "execution_count": null,
   "metadata": {
    "collapsed": true
   },
   "outputs": [],
   "source": []
  },
  {
   "cell_type": "code",
   "execution_count": 67,
   "metadata": {
    "collapsed": false
   },
   "outputs": [],
   "source": [
    "models = [\n",
    "#     '+-KERAS_3_hey',\n",
    "#     '+-XGB_11.5_hey',\n",
    "#     '+-XGB_1.5_hey',\n",
    "#     '+-XGB_hist_last_hey',\n",
    "#     '+-XGB_5++_hey',\n",
    "    'XGB_9_new',\n",
    "#     '+-XGB_10++_hey',\n",
    "#     '+-XGB_15_hey',\n",
    "    'XGB_16_hey',\n",
    "    'KERAS_3', 'XGB_1_new3+', 'XGB_2hist_new', 'XGB_5+', 'XGB_9_new', 'XGB_10+',  'XGB_12+', 'XGB_13+', 'XGB_14',\n",
    "          'XGB_11', 'XGB_1_new2', 'XGB_2hist_new', 'XGB_5', 'XGB_9_new', 'XGB_10',\n",
    "    'KERAS_2_new2',  'XGB_1_new2', 'XGB_2hist_new', 'LGB_1_new',\n",
    "          'KERAS_2_new2', 'XGB_11', 'XGB_1_new2', 'XGB_2hist_new', 'LGB_1_new', 'XGB_5', 'XGB_9',\n",
    "         ]\n",
    "folds = utils.score_by_folds(models, X_train, n_folds=10, stratification_groups=strat)"
   ]
  },
  {
   "cell_type": "code",
   "execution_count": 68,
   "metadata": {
    "collapsed": false
   },
   "outputs": [
    {
     "name": "stdout",
     "output_type": "stream",
     "text": [
      "0 ['XGB_14', 'XGB_13+', 'XGB_10']\n",
      "1 ['XGB_5+', 'XGB_5', 'XGB_5']\n",
      "2 ['XGB_10+', 'XGB_12+', 'XGB_10']\n",
      "3 ['XGB_12+', 'XGB_10+', 'XGB_14']\n",
      "4 ['XGB_1_new3+', 'XGB_14', 'XGB_1_new2']\n",
      "5 ['XGB_14', 'XGB_13+', 'XGB_10+']\n",
      "6 ['XGB_1_new3+', 'XGB_14', 'XGB_1_new2']\n",
      "7 ['XGB_1_new3+', 'XGB_1_new2', 'XGB_1_new2']\n",
      "8 ['XGB_12+', 'XGB_5+', 'XGB_5']\n",
      "9 ['XGB_13+', 'XGB_2hist_new', 'XGB_2hist_new']\n"
     ]
    }
   ],
   "source": [
    "r = set()\n",
    "for i, f in enumerate(folds):\n",
    "    r.update([a[1] for a in f[:3]])\n",
    "    print(i, [a[1] for a in f[:3]])"
   ]
  },
  {
   "cell_type": "code",
   "execution_count": 69,
   "metadata": {
    "collapsed": false
   },
   "outputs": [
    {
     "data": {
      "text/plain": [
       "{'XGB_10',\n",
       " 'XGB_10+',\n",
       " 'XGB_12+',\n",
       " 'XGB_13+',\n",
       " 'XGB_14',\n",
       " 'XGB_1_new2',\n",
       " 'XGB_1_new3+',\n",
       " 'XGB_2hist_new',\n",
       " 'XGB_5',\n",
       " 'XGB_5+'}"
      ]
     },
     "execution_count": 69,
     "metadata": {},
     "output_type": "execute_result"
    }
   ],
   "source": [
    "r"
   ]
  },
  {
   "cell_type": "code",
   "execution_count": null,
   "metadata": {
    "collapsed": true
   },
   "outputs": [],
   "source": []
  }
 ],
 "metadata": {
  "kernelspec": {
   "display_name": "Python 3",
   "language": "python",
   "name": "python3"
  },
  "language_info": {
   "codemirror_mode": {
    "name": "ipython",
    "version": 3
   },
   "file_extension": ".py",
   "mimetype": "text/x-python",
   "name": "python",
   "nbconvert_exporter": "python",
   "pygments_lexer": "ipython3",
   "version": "3.6.0"
  }
 },
 "nbformat": 4,
 "nbformat_minor": 2
}
