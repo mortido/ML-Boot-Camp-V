{
 "cells": [
  {
   "cell_type": "code",
   "execution_count": 40,
   "metadata": {
    "collapsed": false
   },
   "outputs": [],
   "source": [
    "import pandas as pd\n",
    "import numpy as np\n",
    "\n",
    "import random\n",
    "\n",
    "import xgboost as xgb\n",
    "import lightgbm as lgb\n",
    "\n",
    "from sklearn.ensemble import RandomForestClassifier\n",
    "from sklearn.metrics import log_loss\n",
    "from sklearn.model_selection import StratifiedKFold\n",
    "\n",
    "import matplotlib.pyplot as plt\n",
    "import seaborn as sns\n",
    "import gc\n",
    "import utils\n",
    "\n",
    "plt.style.use('ggplot')\n",
    "%matplotlib inline\n",
    "\n",
    "import importlib\n",
    "utils = importlib.reload(utils)"
   ]
  },
  {
   "cell_type": "code",
   "execution_count": 41,
   "metadata": {
    "collapsed": true
   },
   "outputs": [],
   "source": [
    "# loo = pd.read_csv('loo.csv', sep=';', header=None)\n",
    "# loo.columns=['loo']\n",
    "# loo['target']=y_train\n",
    "# loo_loss = loo.apply(lambda x: log_loss([x['target']], [x['loo']], labels=[1, 0]), axis=1)\n",
    "# pd.DataFrame(loo_loss).to_csv('loo_loss.csv', index=False, header=False, sep=';')"
   ]
  },
  {
   "cell_type": "code",
   "execution_count": 43,
   "metadata": {
    "collapsed": false
   },
   "outputs": [],
   "source": [
    "train = pd.read_csv('train.csv', sep=';')\n",
    "test = pd.read_csv('test.csv', sep=';', na_values='None')\n",
    "\n",
    "train = utils.clean_data_light(train)\n",
    "test = utils.clean_data_light(test)\n",
    "\n",
    "train = utils.new_features(train)\n",
    "test = utils.new_features(test)\n",
    "\n",
    "X_train = train.drop([ 'cardio'], axis=1)\n",
    "y_train = train['cardio'].values.ravel()\n",
    "X_test = test.drop([], axis=1)\n",
    "\n",
    "data = pd.concat((train.drop('cardio', axis=1), test), axis=0)\n",
    "dic2 = data.groupby('age_group_orig')['age'].min().to_dict()\n",
    "dic3 = data.groupby('age_group_orig')['age'].max().to_dict()\n",
    "X_train['age_dif2'] = X_train[['age_group_orig', 'age']].apply(lambda x: (x['age'] - dic2[x['age_group_orig']]) / dic3[x['age_group_orig']], axis=1)\n",
    "X_test['age_dif2']  =  X_test[['age_group_orig', 'age']].apply(lambda x: (x['age'] - dic2[x['age_group_orig']]) / dic3[x['age_group_orig']], axis=1)"
   ]
  },
  {
   "cell_type": "code",
   "execution_count": 45,
   "metadata": {
    "collapsed": false
   },
   "outputs": [],
   "source": [
    "X_train[['age_dif2','ap_hi_1',\n",
    "'ap_lo_1',\n",
    "'ap_hi_2',\n",
    "'ap_lo_2',]].to_csv('train_more.csv', index=False,sep=';')\n",
    "X_test[['age_dif2','ap_hi_1',\n",
    "'ap_lo_1',\n",
    "'ap_hi_2',\n",
    "'ap_lo_2',]].to_csv('test_more.csv', index=False,sep=';')"
   ]
  },
  {
   "cell_type": "code",
   "execution_count": null,
   "metadata": {
    "collapsed": true
   },
   "outputs": [],
   "source": []
  },
  {
   "cell_type": "code",
   "execution_count": null,
   "metadata": {
    "collapsed": true
   },
   "outputs": [],
   "source": [
    "pd.DataFrame(result).to_csv('merged_models.csv', index=False, header=False, sep=';')"
   ]
  },
  {
   "cell_type": "code",
   "execution_count": 25,
   "metadata": {
    "collapsed": false
   },
   "outputs": [],
   "source": [
    "loo_loss = pd.read_csv('loo_loss.csv', sep=';', header=None)\n",
    "strat = pd.qcut(loo_loss, 20, labels=False).astype(str)\n",
    "strat = np.hstack((strat, y_train.reshape((-1,1))))\n",
    "strat =np.apply_along_axis(lambda d: str(d[0]) + '_' + str(d[1]), 1, strat)"
   ]
  },
  {
   "cell_type": "code",
   "execution_count": 26,
   "metadata": {
    "collapsed": false
   },
   "outputs": [
    {
     "name": "stdout",
     "output_type": "stream",
     "text": [
      "\n",
      "10 folds logloss:\n",
      "[0.53721077495805014, 0.5377716462839438, 0.53714342412226257, 0.53654723657375902, 0.53656398757320112, 0.54048554100382362, 0.53820957080770448, 0.53744278742691809, 0.53796110257204188, 0.53709247410929672]\n",
      "mean: 0.537642854543\n",
      "std: 0.00107996779667\n",
      "dirty_XGB_1.5_hey3 results saved!\n"
     ]
    },
    {
     "data": {
      "text/plain": [
       "531"
      ]
     },
     "execution_count": 26,
     "metadata": {},
     "output_type": "execute_result"
    }
   ],
   "source": [
    "use_columns = [\n",
    "\"gender\",\n",
    "\"height\",\n",
    "\"weight\",\n",
    "\"ap_hi\",\n",
    "\"ap_lo\",\n",
    "\"cholesterol\",\n",
    "\"active_fair\",\n",
    "\"smoke_restored\",\n",
    "\"alco_restored\",\n",
    "\"height_mul_log_gluc\",\n",
    "\"BMI\",\n",
    "\"age_group\",\n",
    "\"cholesterol_div_log_gluc\",\n",
    "\"gluc_mul_log_age\",\n",
    "'age_dif2',\n",
    "'ap_lo_mul_log_ap_hi',\n",
    "\n",
    "'ap_hi_1',\n",
    "'ap_lo_1',\n",
    "'ap_hi_2',\n",
    "'ap_lo_2',\n",
    "]\n",
    "model_name = 'dirty_XGB_1.5_hey3'\n",
    "params = {\n",
    "     'colsample_bytree': 0.875,\n",
    "     'gamma': 0.05,\n",
    "     'learning_rate': 0.02,\n",
    "     'max_depth': 5,\n",
    "     'min_child_weight': 5,\n",
    "     'n_estimators': 369,\n",
    "\n",
    "     'reg_alpha': 0,\n",
    "     'reg_lambda': 10,\n",
    "     'subsample': 0.7,\n",
    "    \n",
    "    'n_jobs': -1,\n",
    "    'random_state': 1223,\n",
    "    'silent': True,\n",
    "}\n",
    "model = xgb.XGBClassifier(**params)\n",
    "utils.execute_model(model,\n",
    "              X_train[use_columns],\n",
    "              y_train,\n",
    "              X_test[use_columns],\n",
    "              model_name=model_name,\n",
    "              n_splits=0,\n",
    "              n_folds=10,\n",
    "              stratification_groups=strat,\n",
    "             )\n",
    "gc.collect()"
   ]
  },
  {
   "cell_type": "code",
   "execution_count": 27,
   "metadata": {
    "collapsed": false
   },
   "outputs": [
    {
     "name": "stdout",
     "output_type": "stream",
     "text": [
      "\n",
      "10 folds logloss:\n",
      "[0.53653667751419598, 0.53928954351539582, 0.53604735962353578, 0.5363464310327366, 0.53614779777502242, 0.53852302664527796, 0.53839846091216159, 0.53699702808716188, 0.53810014580604082, 0.53736110687404881]\n",
      "mean: 0.537374757779\n",
      "std: 0.00108301426165\n",
      "dirty_XGB_hist_last_hey3 results saved!\n"
     ]
    },
    {
     "data": {
      "text/plain": [
       "91"
      ]
     },
     "execution_count": 27,
     "metadata": {},
     "output_type": "execute_result"
    }
   ],
   "source": [
    "use_columns = [\n",
    "# \"gender\",\n",
    "# \"height\",\n",
    "# \"weight\",\n",
    "# \"ap_hi\",\n",
    "# \"ap_lo\",\n",
    "# \"cholesterol\",\n",
    "# \"active_fair\",\n",
    "# \"smoke_restored\",\n",
    "# \"alco_restored\",\n",
    "# \"height_mul_log_gluc\",\n",
    "# \"BMI\",\n",
    "# \"age_group\",\n",
    "# \"cholesterol_div_log_gluc\",\n",
    "# \"gluc_mul_log_age\",\n",
    "# 'age_dif2',\n",
    "# 'ap_lo_mul_log_ap_hi'\n",
    "    \n",
    "#     \"gender\",\n",
    "# \"ap_hi\",\n",
    "# \"ap_lo\",\n",
    "# \"cholesterol\",\n",
    "# \"active_fair\",\n",
    "# \"smoke_restored\",\n",
    "# \"alco_restored\",\n",
    "# \"height_mul_log_cholesterol\",\n",
    "# \"height_mul_log_gluc\",\n",
    "# \"BMI\",\n",
    "# \"age_group\",\n",
    "# \"cholesterol_div_log_gluc\",\n",
    "# \"gluc_mul_log_age\",\n",
    "# \"ap_hi_mul_weight\",\n",
    "# \"age_dif2\",\n",
    "# 'ap_lo_mul_log_ap_hi',\n",
    "# 'age_group_div_height',\n",
    "# 'age_group_mul_log_MAP'\n",
    "    \n",
    "    'gender',\n",
    "'ap_hi',\n",
    "'ap_lo',\n",
    "'cholesterol',\n",
    "'active_fair',\n",
    "'smoke_restored',\n",
    "'alco_restored',\n",
    "'height_mul_log_cholesterol',\n",
    "'height_mul_log_gluc',\n",
    "'BMI',\n",
    "'age_group',\n",
    "'cholesterol_div_log_gluc',\n",
    "'gluc_mul_log_age',\n",
    "'age_dif2',\n",
    "'ap_lo_mul_log_ap_hi',\n",
    "'age_group_div_height',\n",
    "'age_group_mul_log_MAP',\n",
    "'cholesterol_div_ap_hi',\n",
    "'ap_hi_mul_log_gluc',\n",
    "'BMI_div_ap_hi',\n",
    "'BMI_div_log_age',\n",
    "# 'gluc',\n",
    "'gluc_mul_height',\n",
    "\n",
    "'ap_hi_1',\n",
    "'ap_lo_1',\n",
    "'ap_hi_2',\n",
    "'ap_lo_2',\n",
    "]\n",
    "model_name = 'dirty_XGB_hist_last_hey3'\n",
    "params = {\n",
    "     'colsample_bytree': 0.95,\n",
    "     'gamma': 0.55,\n",
    "     'learning_rate': 0.02,\n",
    "     'max_depth': 5,\n",
    "     'min_child_weight': 3,\n",
    "     'n_estimators': 392,\n",
    "     'reg_alpha': 0,\n",
    "     'reg_lambda': 0.4,\n",
    "     'subsample': 0.85,\n",
    "    \n",
    "    #'scale_pos_weight': 1.0008,\n",
    "\n",
    "    'tree_method': 'hist',\n",
    "    'grow_policy': 'lossguide',\n",
    "    \n",
    "    'n_jobs': 4,\n",
    "    'random_state': 2222,\n",
    "    'silent': True,\n",
    "}\n",
    "utils.execute_model(xgb.XGBClassifier(**params),\n",
    "              X_train[use_columns],\n",
    "              y_train,\n",
    "              X_test[use_columns],\n",
    "              model_name=model_name,\n",
    "              n_splits=0,\n",
    "              n_folds=10,\n",
    "              stratification_groups=strat,\n",
    "             )\n",
    "gc.collect()"
   ]
  },
  {
   "cell_type": "code",
   "execution_count": 28,
   "metadata": {
    "collapsed": false
   },
   "outputs": [
    {
     "name": "stdout",
     "output_type": "stream",
     "text": [
      "\n",
      "10 folds logloss:\n",
      "[0.5373317493422145, 0.53737428750595317, 0.53725182043986786, 0.53711589582339858, 0.53690745383848859, 0.54018202277429761, 0.53866608210039535, 0.53800450656502741, 0.53727400177122697, 0.53767437165263066]\n",
      "mean: 0.537778219181\n",
      "std: 0.000933771600868\n",
      "dirty_XGB_5_hey3 results saved!\n"
     ]
    },
    {
     "data": {
      "text/plain": [
       "42"
      ]
     },
     "execution_count": 28,
     "metadata": {},
     "output_type": "execute_result"
    }
   ],
   "source": [
    "use_columns = [\n",
    "\"gender\",\n",
    "\"height\",\n",
    "\"weight\",\n",
    "\"ap_hi\",\n",
    "\"ap_lo\",\n",
    "\"cholesterol\",\n",
    "\"height_div_ap_lo\",\n",
    "\"active_fair\",\n",
    "\"smoke_restored\",\n",
    "\"alco_restored\",\n",
    "\"height_mul_log_cholesterol\",\n",
    "\"height_mul_log_gluc\",\n",
    "\"BMI\",\n",
    "\"age_group\",\n",
    "\"cholesterol_div_log_gluc\",\n",
    "\"gluc_mul_log_age\",\n",
    "\"ap_hi_mul_weight\",\n",
    "\n",
    "'ap_hi_1',\n",
    "'ap_lo_1',\n",
    "'ap_hi_2',\n",
    "'ap_lo_2',\n",
    "]\n",
    "\n",
    "model_name = 'dirty_XGB_5_hey3'\n",
    "params = {\n",
    "     'colsample_bytree': 0.875,\n",
    "     'gamma': 0.05,\n",
    "     'learning_rate': 0.02,\n",
    "     'max_depth': 5,\n",
    "     'min_child_weight': 5,\n",
    "     'n_estimators': 369,\n",
    "    #'scale_pos_weight': 1.0008,\n",
    "\n",
    "     'reg_alpha': 0,\n",
    "     'reg_lambda': 10,\n",
    "     'subsample': 0.7,\n",
    "    \n",
    "    'n_jobs': -1,\n",
    "    'random_state': 5555,\n",
    "    'silent': True,\n",
    "}\n",
    "utils.execute_model(xgb.XGBClassifier(**params),\n",
    "              X_train[use_columns],\n",
    "              y_train,\n",
    "              X_test[use_columns],\n",
    "              model_name=model_name,\n",
    "              n_splits=0,\n",
    "              n_folds=10,\n",
    "              stratification_groups=strat,\n",
    "             )\n",
    "gc.collect()"
   ]
  },
  {
   "cell_type": "code",
   "execution_count": 29,
   "metadata": {
    "collapsed": false
   },
   "outputs": [
    {
     "name": "stdout",
     "output_type": "stream",
     "text": [
      "\n",
      "10 folds logloss:\n",
      "[0.53653465683510659, 0.53765829480401872, 0.53628608854404258, 0.53627967793374287, 0.53642374477361554, 0.53981187095921679, 0.53849966071306354, 0.53816875493073668, 0.53756883209500539, 0.5374812184229798]\n",
      "mean: 0.537471280001\n",
      "std: 0.00108932002662\n",
      "dirty_XGB_11.5_hey3 results saved!\n"
     ]
    },
    {
     "data": {
      "text/plain": [
       "91"
      ]
     },
     "execution_count": 29,
     "metadata": {},
     "output_type": "execute_result"
    }
   ],
   "source": [
    "use_columns = [\n",
    "\"gender\",\n",
    "\"ap_hi\",\n",
    "\"ap_lo\",\n",
    "\"cholesterol\",\n",
    "\"active_fair\",\n",
    "\"smoke_restored\",\n",
    "\"alco_restored\",\n",
    "\"height_mul_log_cholesterol\",\n",
    "\"height_mul_log_gluc\",\n",
    "\"BMI\",\n",
    "\"age_group\",\n",
    "\"cholesterol_div_log_gluc\",\n",
    "\"gluc_mul_log_age\",\n",
    "\"ap_hi_mul_weight\",\n",
    "\"age_dif2\",\n",
    "'ap_lo_mul_log_ap_hi',\n",
    "'age_group_div_height',\n",
    "'age_group_mul_log_MAP',\n",
    "\n",
    "'ap_hi_1',\n",
    "'ap_lo_1',\n",
    "'ap_hi_2',\n",
    "'ap_lo_2',\n",
    "]\n",
    "model_name = 'dirty_XGB_11.5_hey3'\n",
    "params = {\n",
    "     'colsample_bytree': 0.875,\n",
    "     'gamma': 0.05,\n",
    "     'learning_rate': 0.02,\n",
    "     'max_depth': 5,\n",
    "     'min_child_weight': 5,\n",
    "     'n_estimators': 369,\n",
    "    \n",
    "    #'scale_pos_weight': 1.0008,\n",
    "\n",
    "     'reg_alpha': 0,\n",
    "     'reg_lambda': 10,\n",
    "     'subsample': 0.7,\n",
    "    \n",
    "    'n_jobs': -1,\n",
    "    'random_state': 1223,\n",
    "    'silent': True,\n",
    "}\n",
    "utils.execute_model(xgb.XGBClassifier(**params),\n",
    "              X_train[use_columns],\n",
    "              y_train,\n",
    "              X_test[use_columns],\n",
    "              model_name=model_name,\n",
    "              n_splits=0,\n",
    "              n_folds=10,\n",
    "              stratification_groups=strat,\n",
    "             )\n",
    "gc.collect()"
   ]
  },
  {
   "cell_type": "code",
   "execution_count": 30,
   "metadata": {
    "collapsed": false
   },
   "outputs": [
    {
     "name": "stdout",
     "output_type": "stream",
     "text": [
      "\n",
      "10 folds logloss:\n",
      "[0.53793203282164048, 0.53810741436004272, 0.53700011034172557, 0.53748973275477996, 0.53624673986287674, 0.5399912284811339, 0.53810472766463524, 0.53807023147585786, 0.53825806694685385, 0.5383297306773428]\n",
      "mean: 0.537953001539\n",
      "std: 0.000921105531618\n",
      "dirty_XGB_10_hey3 results saved!\n"
     ]
    },
    {
     "data": {
      "text/plain": [
       "91"
      ]
     },
     "execution_count": 30,
     "metadata": {},
     "output_type": "execute_result"
    }
   ],
   "source": [
    "use_columns = [\n",
    "'gender',\n",
    "'height',\n",
    "'weight',\n",
    "'ap_hi',\n",
    "'ap_lo',\n",
    "'cholesterol',\n",
    "'gluc',\n",
    "'active_restored',\n",
    "'smoke_restored',\n",
    "'alco_restored',\n",
    "'BMI',\n",
    "'age_group',\n",
    "'MAP',\n",
    "'ap_dif',\n",
    "'age_dif2',\n",
    "\n",
    "\n",
    "'ap_hi_1',\n",
    "'ap_lo_1',\n",
    "'ap_hi_2',\n",
    "'ap_lo_2',\n",
    "]\n",
    "model_name = 'dirty_XGB_10_hey3'\n",
    "params = {\n",
    "     'colsample_bytree': 0.875,\n",
    "     'gamma': 0.05,\n",
    "     'learning_rate': 0.02,\n",
    "     'max_depth': 5,\n",
    "     'min_child_weight': 5,\n",
    "     'n_estimators': 369,\n",
    "    \n",
    "    #'scale_pos_weight': 1.0008,\n",
    "\n",
    "     'reg_alpha': 0,\n",
    "     'reg_lambda': 10,\n",
    "     'subsample': 0.7,\n",
    "    \n",
    "    'n_jobs': -1,\n",
    "    'random_state': 1223,\n",
    "    'silent': True,\n",
    "}\n",
    "utils.execute_model(xgb.XGBClassifier(**params),\n",
    "              X_train[use_columns],\n",
    "              y_train,\n",
    "              X_test[use_columns],\n",
    "              model_name=model_name,\n",
    "              n_splits=0,\n",
    "              n_folds=10,\n",
    "              stratification_groups=strat,\n",
    "             )\n",
    "gc.collect()"
   ]
  },
  {
   "cell_type": "code",
   "execution_count": 31,
   "metadata": {
    "collapsed": false
   },
   "outputs": [
    {
     "name": "stdout",
     "output_type": "stream",
     "text": [
      "\n",
      "10 folds logloss:\n",
      "[0.53627859098994812, 0.53808042095076036, 0.53770584800634691, 0.53774312924536705, 0.53638124880088056, 0.53992246655553711, 0.53838465422075332, 0.53832018532258052, 0.53776925325874714, 0.53785929918489606]\n",
      "mean: 0.537844509654\n",
      "std: 0.000975715296641\n",
      "dirty_XGB_9 results saved!\n"
     ]
    },
    {
     "data": {
      "text/plain": [
       "1193"
      ]
     },
     "execution_count": 31,
     "metadata": {},
     "output_type": "execute_result"
    }
   ],
   "source": [
    "from sklearn.pipeline import Pipeline, FeatureUnion\n",
    "from utils import SmoothLikelihood,SmoothLikelihood2,SmoothLikelihood3,SmoothLikelihood4, ColumnsFilter\n",
    "\n",
    "def wrap_classifier(clf, use_columns, mean_columns):\n",
    "    fs = [(\"filter\", ColumnsFilter(use_columns))]\n",
    "    \n",
    "    for i, cc in enumerate(mean_columns):\n",
    "        fs.append(('mean_'+str(i), SmoothLikelihood4(cc, 0.5,\n",
    "                                                     kf=StratifiedKFold(random_state=111111+i, n_splits=20, shuffle=True),\n",
    "                                                     alpha=13,\n",
    "                                                     seed=10+i,\n",
    "                                                     std=0.0003)))\n",
    "    combined_features = FeatureUnion(fs)\n",
    "    return Pipeline([(\"features\", combined_features), (\"model\", clf)])\n",
    "\n",
    "use_columns = [\n",
    "'gender',\n",
    "'height',\n",
    "'weight',\n",
    "'ap_hi',\n",
    "'ap_lo',\n",
    "'cholesterol',\n",
    "'active_fair',\n",
    "'smoke_restored',\n",
    "'alco_restored',\n",
    "'height_mul_log_cholesterol',\n",
    "'height_mul_log_gluc',\n",
    "'BMI',\n",
    "'age_group',\n",
    "'cholesterol_div_log_gluc',\n",
    "'gluc_mul_log_age',\n",
    "'ap_hi_mul_weight',\n",
    "'age_dif2',\n",
    "'ap_lo_mul_log_ap_hi',\n",
    "'age_group_div_height',\n",
    "'age_group_mul_log_MAP',\n",
    "\n",
    "'ap_hi_1',\n",
    "'ap_lo_1',\n",
    "'ap_hi_2',\n",
    "'ap_lo_2',\n",
    "]\n",
    "mean_columns = [\n",
    "    ['cholesterol','gluc','smoke_restored','active_restored'],\n",
    "    ['ap_hi_group', 'age_group', 'gender'],\n",
    "    ['gender','cholesterol','age_group']\n",
    "]\n",
    "model_name = 'dirty_XGB_9'\n",
    "params = {\n",
    "     'colsample_bytree': 0.875,\n",
    "     'gamma': 0.05,\n",
    "     'learning_rate': 0.02,\n",
    "     'max_depth': 5,\n",
    "     'min_child_weight': 5,\n",
    "     'n_estimators': 369,\n",
    "#     'scale_pos_weight': 1.0008,\n",
    "\n",
    "     'reg_alpha': 0,\n",
    "     'reg_lambda': 10,\n",
    "     'subsample': 0.7,\n",
    "    \n",
    "    'n_jobs': 1,\n",
    "    'random_state': 5555,\n",
    "    'silent': True,\n",
    "}\n",
    "model = wrap_classifier(xgb.XGBClassifier(**params), use_columns, mean_columns)\n",
    "utils.execute_model(model,\n",
    "              X_train,\n",
    "              y_train,\n",
    "              X_test,\n",
    "              model_name=model_name,\n",
    "#               n_splits=15,\n",
    "              n_folds=10,\n",
    "              stratification_groups=strat,\n",
    "             )\n",
    "gc.collect()"
   ]
  },
  {
   "cell_type": "code",
   "execution_count": null,
   "metadata": {
    "collapsed": true
   },
   "outputs": [],
   "source": []
  },
  {
   "cell_type": "code",
   "execution_count": null,
   "metadata": {
    "collapsed": true
   },
   "outputs": [],
   "source": []
  },
  {
   "cell_type": "code",
   "execution_count": null,
   "metadata": {
    "collapsed": true
   },
   "outputs": [],
   "source": []
  },
  {
   "cell_type": "markdown",
   "metadata": {},
   "source": [
    "# KERAS models"
   ]
  },
  {
   "cell_type": "code",
   "execution_count": 32,
   "metadata": {
    "collapsed": false
   },
   "outputs": [],
   "source": [
    "from keras.layers.core import Dense, Dropout\n",
    "from keras.layers.advanced_activations import LeakyReLU\n",
    "from keras.models import Sequential\n",
    "from keras.optimizers import Adamax\n",
    "import pandas as pd\n",
    "\n",
    "\n",
    "class KerasModel(object):\n",
    "    def __init__(self,\n",
    "                 var_num,\n",
    "                 epochs=70,\n",
    "                 learn_rate=0.1,\n",
    "                 config=None,\n",
    "                 batch_size=512,\n",
    "                 verbose=0,\n",
    "                 validation_split=0.2,\n",
    "                 loss=\"binary_crossentropy\"):\n",
    "\n",
    "        self.epochs = epochs\n",
    "        self.batch_size = batch_size\n",
    "        self.verbose = verbose\n",
    "        self.validation_split = validation_split\n",
    "        \n",
    "        self.model = Sequential()\n",
    "        model = self.model\n",
    "        \n",
    "        if config is None:\n",
    "            config =[(var_num, 0.0)]\n",
    "        else:\n",
    "            config = config.copy()\n",
    "            \n",
    "        n, dp = config.pop(0)\n",
    "\n",
    "        model.add(Dense(n, input_dim=var_num, kernel_initializer='uniform'))\n",
    "        model.add(LeakyReLU())\n",
    "        if 0 < dp < 1:\n",
    "            model.add(Dropout(dp))\n",
    "        \n",
    "        while config:\n",
    "            n, dp = config.pop(0)\n",
    "            model.add(Dense(n, kernel_initializer='uniform'))\n",
    "            model.add(LeakyReLU())\n",
    "            if 0 < dp < 1:\n",
    "                model.add(Dropout(dp))\n",
    "\n",
    "\n",
    "        model.add(Dense(1, activation='sigmoid'))\n",
    "        opt = Adamax(lr=learn_rate)\n",
    "\n",
    "        model.compile(loss=loss, optimizer=opt, metrics=['accuracy'])\n",
    "\n",
    "\n",
    "    def fit(self, X, y, sample_weight=None, callbacks=[]):\n",
    "        process_X = X.values if hasattr(X, 'iloc') else X\n",
    "        process_y = y\n",
    "        return self.model.fit(process_X, process_y, batch_size=self.batch_size,\n",
    "                       epochs=self.epochs, verbose=self.verbose,\n",
    "                       sample_weight=sample_weight,\n",
    "                       callbacks=callbacks,\n",
    "                       validation_split=self.validation_split,\n",
    "                       shuffle=True)\n",
    "\n",
    "    def predict_proba(self, X):\n",
    "        process_x = X.values if hasattr(X, 'iloc') else X\n",
    "        result  = self.model.predict(process_x)\n",
    "        classone_probs = result\n",
    "        classzero_probs = 1.0 - classone_probs\n",
    "        return np.hstack((classzero_probs, classone_probs))\n",
    "#         return result\n",
    "    \n",
    "    def predict(self, X):\n",
    "        return np.argmax(self.predict_proba(X), axis=1)"
   ]
  },
  {
   "cell_type": "code",
   "execution_count": 33,
   "metadata": {
    "collapsed": false
   },
   "outputs": [
    {
     "name": "stdout",
     "output_type": "stream",
     "text": [
      "\n",
      "10 folds logloss:\n",
      "[0.54519826668412374, 0.53999448141475714, 0.54189355490606161, 0.55402055295803299, 0.53772439245746073, 0.55185833383196969, 0.54184409349792551, 0.53917979068914879, 0.54999375907778758, 0.55127718520788438]\n",
      "mean: 0.545298441073\n",
      "std: 0.00568656931932\n",
      "dirty_KERAS_3_hey3 results saved!\n"
     ]
    },
    {
     "data": {
      "text/plain": [
       "(0.54529844107251524, None)"
      ]
     },
     "execution_count": 33,
     "metadata": {},
     "output_type": "execute_result"
    }
   ],
   "source": [
    "use_columns = [\n",
    "'gender',\n",
    "'height',\n",
    "'weight',\n",
    "'ap_hi',\n",
    "'ap_lo',\n",
    "'cholesterol',\n",
    "'active_restored',\n",
    "'smoke_restored',\n",
    "'alco_restored',\n",
    "'height_mul_log_cholesterol',\n",
    "'height_mul_log_gluc',\n",
    "'BMI',\n",
    "# 'age_group',\n",
    "'cholesterol_div_log_gluc',\n",
    "'gluc_mul_log_age',\n",
    "'ap_hi_mul_weight',\n",
    "'age_dif2',\n",
    "'ap_lo_mul_log_ap_hi',\n",
    "'age_group_div_height',\n",
    "'age_group_mul_log_MAP',\n",
    "\n",
    "'ap_hi_1',\n",
    "'ap_lo_1',\n",
    "'ap_hi_2',\n",
    "'ap_lo_2',\n",
    "]\n",
    "\n",
    "X1 = X_train[use_columns]\n",
    "X2 = X_test[use_columns]\n",
    "\n",
    "X = pd.concat((X1,X2), axis=0)\n",
    "\n",
    "from sklearn.preprocessing import StandardScaler, MinMaxScaler, RobustScaler\n",
    "scaler = StandardScaler().fit(X)\n",
    "X1 = pd.DataFrame(scaler.transform(X1)) #.values\n",
    "X2 = pd.DataFrame(scaler.transform(X2)) #.values\n",
    "\n",
    "def create(x1, x2):\n",
    "    config = [(64,0.075), (64,0.025)]\n",
    "    return KerasModel(var_num=len(use_columns),\n",
    "                   epochs=200,\n",
    "                   learn_rate=0.001,\n",
    "                   config=config,\n",
    "                   batch_size=1024,\n",
    "                   verbose=0,\n",
    "                   validation_split=0.0)\n",
    "utils.execute_model(None,\n",
    "              X1,\n",
    "              y_train,\n",
    "              X2,\n",
    "              model_name=\"dirty_KERAS_3_hey3\",\n",
    "              n_splits=0,\n",
    "              n_folds=10,\n",
    "              stratification_groups=strat,\n",
    "              create_callback=create\n",
    "             )"
   ]
  },
  {
   "cell_type": "code",
   "execution_count": 39,
   "metadata": {
    "collapsed": false
   },
   "outputs": [
    {
     "name": "stdout",
     "output_type": "stream",
     "text": [
      "\n",
      "dirty_KERAS_3_hey3\n",
      "0.545297156108\t0.577349632449\t0.545297156108\t0.577349632449\n",
      "\n",
      "dirty_XGB_9\n",
      "0.537844233823\t0.577349632449\t0.538075191186\t0.577349632449\n",
      "\n",
      "dirty_XGB_10_hey3\n",
      "0.537952767296\t0.577349632449\t0.537650278087\t0.577349632449\n",
      "\n",
      "dirty_XGB_11.5_hey3\n",
      "0.537470877132\t0.577349632449\t0.537413318041\t0.577349632449\n",
      "\n",
      "dirty_XGB_5_hey3\n",
      "0.537778013754\t0.577349632449\t0.537333135813\t0.577349632449\n",
      "\n",
      "dirty_XGB_hist_last_hey3\n",
      "0.537374596213\t0.577349632449\t0.537200887598\t0.577349632449\n",
      "\n",
      "dirty_XGB_1.5_hey3\n",
      "0.537642693486\t0.577349632449\t0.537210359764\t0.577349632449\n"
     ]
    }
   ],
   "source": [
    "models = [\n",
    "    'dirty_KERAS_3_hey3',\n",
    "    'dirty_XGB_9',\n",
    "    'dirty_XGB_10_hey3',\n",
    "    'dirty_XGB_11.5_hey3',\n",
    "    \n",
    "    'dirty_XGB_5_hey3',\n",
    "    'dirty_XGB_hist_last_hey3',\n",
    "    'dirty_XGB_1.5_hey3',\n",
    "         ]\n",
    "result = utils.merge_models(models, method='mean')\n",
    "pd.DataFrame(result).to_csv('merged_models.csv', index=False, header=False, sep=';') # 0.5430089"
   ]
  },
  {
   "cell_type": "code",
   "execution_count": null,
   "metadata": {
    "collapsed": true
   },
   "outputs": [],
   "source": []
  }
 ],
 "metadata": {
  "kernelspec": {
   "display_name": "Python 3",
   "language": "python",
   "name": "python3"
  },
  "language_info": {
   "codemirror_mode": {
    "name": "ipython",
    "version": 3
   },
   "file_extension": ".py",
   "mimetype": "text/x-python",
   "name": "python",
   "nbconvert_exporter": "python",
   "pygments_lexer": "ipython3",
   "version": "3.6.0"
  }
 },
 "nbformat": 4,
 "nbformat_minor": 2
}
